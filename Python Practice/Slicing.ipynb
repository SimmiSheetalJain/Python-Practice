{
 "cells": [
  {
   "cell_type": "code",
   "execution_count": 2,
   "id": "306a2e62",
   "metadata": {},
   "outputs": [
    {
     "name": "stdout",
     "output_type": "stream",
     "text": [
      "mihea\n"
     ]
    }
   ],
   "source": [
    "#Slicing operator\n",
    "\n",
    "name=\"SimmiSheetalJain\"\n",
    "print(name[2:12:2])"
   ]
  },
  {
   "cell_type": "code",
   "execution_count": 3,
   "id": "8b333bc6",
   "metadata": {},
   "outputs": [
    {
     "name": "stdout",
     "output_type": "stream",
     "text": [
      "niaJlateehSimmiS\n"
     ]
    }
   ],
   "source": [
    "#reversing a string\n",
    "\n",
    "name=\"SimmiSheetalJain\"\n",
    "print(name[::-1])"
   ]
  },
  {
   "cell_type": "code",
   "execution_count": 6,
   "id": "afab0a6b",
   "metadata": {},
   "outputs": [
    {
     "name": "stdout",
     "output_type": "stream",
     "text": [
      "a>b ----  True\n",
      "a<c ----  False\n",
      "a>=b ----  True\n",
      "a<=d ----  False\n",
      "a==c ----  False\n",
      "a!=d ----  True\n"
     ]
    }
   ],
   "source": [
    "#relational Operators Working Example \n",
    "\n",
    "a=10\n",
    "b=5\n",
    "c=7\n",
    "d=12\n",
    "print(\"a>b ---- \", a>b)\n",
    "print(\"a<c ---- \", a<b)\n",
    "print(\"a>=b ---- \", a>=b)\n",
    "print(\"a<=d ---- \", a<=b)\n",
    "print(\"a==c ---- \", a==b)\n",
    "print(\"a!=d ---- \", a!=b)"
   ]
  },
  {
   "cell_type": "code",
   "execution_count": 7,
   "id": "d23d347f",
   "metadata": {},
   "outputs": [
    {
     "name": "stdout",
     "output_type": "stream",
     "text": [
      "ASCII of 'a' 97\n"
     ]
    }
   ],
   "source": [
    "#use ord() function to get ASCII  value \n",
    "print(\"ASCII of 'a'\", ord('a'))"
   ]
  },
  {
   "cell_type": "code",
   "execution_count": 8,
   "id": "9bc4bbd4",
   "metadata": {},
   "outputs": [
    {
     "name": "stdout",
     "output_type": "stream",
     "text": [
      "It is  False\n"
     ]
    }
   ],
   "source": [
    "print(\"It is \", 6>7>8)"
   ]
  },
  {
   "cell_type": "code",
   "execution_count": 9,
   "id": "ae85e8c7",
   "metadata": {},
   "outputs": [
    {
     "name": "stdout",
     "output_type": "stream",
     "text": [
      "It is  False\n"
     ]
    }
   ],
   "source": [
    "print(\"It is \", 6<7>8)"
   ]
  },
  {
   "cell_type": "code",
   "execution_count": 10,
   "id": "a35d6d06",
   "metadata": {},
   "outputs": [
    {
     "name": "stdout",
     "output_type": "stream",
     "text": [
      "It is  True\n"
     ]
    }
   ],
   "source": [
    "print(\"It is \", 6<7<8)"
   ]
  },
  {
   "cell_type": "code",
   "execution_count": 11,
   "id": "7ef0b1ab",
   "metadata": {},
   "outputs": [
    {
     "name": "stdout",
     "output_type": "stream",
     "text": [
      "It is  True\n"
     ]
    }
   ],
   "source": [
    "print(\"It is \", (6+7)>8)"
   ]
  },
  {
   "cell_type": "code",
   "execution_count": 12,
   "id": "98d1949b",
   "metadata": {},
   "outputs": [
    {
     "data": {
      "text/plain": [
       "False"
      ]
     },
     "execution_count": 12,
     "metadata": {},
     "output_type": "execute_result"
    }
   ],
   "source": [
    "a=10\n",
    "b=7\n",
    "a is b"
   ]
  },
  {
   "cell_type": "code",
   "execution_count": 13,
   "id": "7669fc16",
   "metadata": {},
   "outputs": [
    {
     "data": {
      "text/plain": [
       "140735892132936"
      ]
     },
     "execution_count": 13,
     "metadata": {},
     "output_type": "execute_result"
    }
   ],
   "source": [
    "id(a)"
   ]
  },
  {
   "cell_type": "code",
   "execution_count": 14,
   "id": "50aa8feb",
   "metadata": {},
   "outputs": [
    {
     "data": {
      "text/plain": [
       "140735892132840"
      ]
     },
     "execution_count": 14,
     "metadata": {},
     "output_type": "execute_result"
    }
   ],
   "source": [
    "id(b)"
   ]
  },
  {
   "cell_type": "code",
   "execution_count": 15,
   "id": "2064e49d",
   "metadata": {},
   "outputs": [
    {
     "data": {
      "text/plain": [
       "True"
      ]
     },
     "execution_count": 15,
     "metadata": {},
     "output_type": "execute_result"
    }
   ],
   "source": [
    "a is not b"
   ]
  },
  {
   "cell_type": "code",
   "execution_count": 19,
   "id": "e9a0d277",
   "metadata": {},
   "outputs": [
    {
     "data": {
      "text/plain": [
       "True"
      ]
     },
     "execution_count": 19,
     "metadata": {},
     "output_type": "execute_result"
    }
   ],
   "source": [
    "\"Y\" not in \"Simmi\""
   ]
  },
  {
   "cell_type": "code",
   "execution_count": 23,
   "id": "08613a40",
   "metadata": {},
   "outputs": [
    {
     "data": {
      "text/plain": [
       "True"
      ]
     },
     "execution_count": 23,
     "metadata": {},
     "output_type": "execute_result"
    }
   ],
   "source": [
    "\"Simmi\" in \"SimmiSheetalJain\""
   ]
  },
  {
   "cell_type": "code",
   "execution_count": 22,
   "id": "0af7fb8c",
   "metadata": {},
   "outputs": [
    {
     "name": "stdout",
     "output_type": "stream",
     "text": [
      "Enter first name : Sachin \n",
      "Enter last name : Jain\n",
      " nihcaS niaJ\n"
     ]
    }
   ],
   "source": [
    "f=input(\"Enter first name : \")\n",
    "l=input(\"Enter last name : \")\n",
    "print(f[::-1],end=\" \")\n",
    "print(l[::-1])"
   ]
  },
  {
   "cell_type": "code",
   "execution_count": 26,
   "id": "1627a7ee",
   "metadata": {},
   "outputs": [
    {
     "name": "stdout",
     "output_type": "stream",
     "text": [
      "Rupees 10\n"
     ]
    }
   ],
   "source": [
    "#format specifiers are also used in python.\n",
    "a=10\n",
    "b='Rupees'\n",
    "print(\"%s %d\" %(b,a))"
   ]
  },
  {
   "cell_type": "code",
   "execution_count": 4,
   "id": "401554e3",
   "metadata": {},
   "outputs": [
    {
     "name": "stdout",
     "output_type": "stream",
     "text": [
      "[1, 2]\n",
      "[2, 3]\n",
      "[3, 4]\n",
      "[4, 5]\n"
     ]
    }
   ],
   "source": [
    "cd=[[1,2],[2,3],[3,4],[4,5]]\n",
    "for i in cd:\n",
    "    print(i)"
   ]
  },
  {
   "cell_type": "code",
   "execution_count": null,
   "id": "c35112aa",
   "metadata": {},
   "outputs": [],
   "source": []
  }
 ],
 "metadata": {
  "kernelspec": {
   "display_name": "Python 3 (ipykernel)",
   "language": "python",
   "name": "python3"
  },
  "language_info": {
   "codemirror_mode": {
    "name": "ipython",
    "version": 3
   },
   "file_extension": ".py",
   "mimetype": "text/x-python",
   "name": "python",
   "nbconvert_exporter": "python",
   "pygments_lexer": "ipython3",
   "version": "3.11.4"
  }
 },
 "nbformat": 4,
 "nbformat_minor": 5
}
