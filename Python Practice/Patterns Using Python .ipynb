{
 "cells": [
  {
   "cell_type": "markdown",
   "id": "1d301afb",
   "metadata": {},
   "source": [
    "### Pattern 1:"
   ]
  },
  {
   "cell_type": "code",
   "execution_count": 10,
   "id": "f4872cf1",
   "metadata": {},
   "outputs": [
    {
     "name": "stdout",
     "output_type": "stream",
     "text": [
      "Enter the size of triangle : 18\n",
      "*\n",
      "**\n",
      "***\n",
      "****\n",
      "*****\n",
      "******\n",
      "*******\n",
      "********\n",
      "*********\n",
      "**********\n",
      "***********\n",
      "************\n",
      "*************\n",
      "**************\n",
      "***************\n",
      "****************\n",
      "*****************\n"
     ]
    }
   ],
   "source": [
    "x=int(input(\"Enter the size of triangle : \"))\n",
    "i=1\n",
    "while(i<x):\n",
    "    j=0\n",
    "    while(j<i):\n",
    "        print(\"*\",end=\"\")\n",
    "        j+=1\n",
    "    print(end='\\n')    \n",
    "    i+=1    "
   ]
  },
  {
   "cell_type": "markdown",
   "id": "e8ce0fd2",
   "metadata": {},
   "source": [
    "### Pattern 2:"
   ]
  },
  {
   "cell_type": "code",
   "execution_count": 3,
   "id": "ae6167cf",
   "metadata": {},
   "outputs": [
    {
     "name": "stdout",
     "output_type": "stream",
     "text": [
      "Enter any number : 10\n",
      "         * \n",
      "        * * \n",
      "       * * * \n",
      "      * * * * \n",
      "     * * * * * \n",
      "    * * * * * * \n",
      "   * * * * * * * \n",
      "  * * * * * * * * \n",
      " * * * * * * * * * \n",
      "* * * * * * * * * * \n"
     ]
    }
   ],
   "source": [
    "x=int(input(\"Enter any number : \"))\n",
    "iteration = 1\n",
    "star = 0\n",
    "while iteration<=x:\n",
    "    row_space = 0 \n",
    "    while row_space<(x-iteration):  \n",
    "        print(\" \", end=\"\") \n",
    "        row_space+=1 \n",
    "    while star<iteration: \n",
    "        print(\"* \",end=\"\") \n",
    "        star+=1 \n",
    "    print(end=\"\\n\")\n",
    "    iteration+=1  \n",
    "    star=0 "
   ]
  },
  {
   "cell_type": "markdown",
   "id": "2ee625fd",
   "metadata": {},
   "source": [
    "### Pattern 3 (Using for loop and range() function)"
   ]
  },
  {
   "cell_type": "code",
   "execution_count": 18,
   "id": "bf43d093",
   "metadata": {},
   "outputs": [
    {
     "name": "stdout",
     "output_type": "stream",
     "text": [
      "Enter any number10\n",
      "          s \n",
      "         s s \n",
      "        s s s \n",
      "       s s s s \n",
      "      s s s s s \n",
      "     s s s s s s \n",
      "    s s s s s s s \n",
      "   s s s s s s s s \n",
      "  s s s s s s s s s \n",
      " s s s s s s s s s s \n"
     ]
    }
   ],
   "source": [
    "p3=int(input(\"Enter any number\"))\n",
    "for i in range(p3):  \n",
    "    for k in range(p3-i):  \n",
    "        print(\" \", end=\"\")     \n",
    "    for j in range(0,i+1,1):\n",
    "        print('s ',end=\"\")\n",
    "    print(end=\"\\n\")"
   ]
  },
  {
   "cell_type": "markdown",
   "id": "2cab8ee2",
   "metadata": {},
   "source": [
    "### Pattern 4: "
   ]
  },
  {
   "cell_type": "code",
   "execution_count": 4,
   "id": "9e4a49d4",
   "metadata": {},
   "outputs": [
    {
     "name": "stdout",
     "output_type": "stream",
     "text": [
      "Enter any number : 9\n",
      "         1 \n",
      "        1 2 \n",
      "       1 2 3 \n",
      "      1 2 3 4 \n",
      "     1 2 3 4 5 \n",
      "    1 2 3 4 5 6 \n",
      "   1 2 3 4 5 6 7 \n",
      "  1 2 3 4 5 6 7 8 \n",
      " 1 2 3 4 5 6 7 8 9 \n"
     ]
    }
   ],
   "source": [
    "p4=int(input(\"Enter any number : \"))\n",
    "for i in range(p4):\n",
    "    for k in range(p4-i):  \n",
    "        print(\" \", end=\"\")\n",
    "    for j in range(i+1):\n",
    "        print(j+1,end=\"\")\n",
    "        print(\" \",end=\"\")\n",
    "    print(end='\\n')\n",
    "    "
   ]
  },
  {
   "cell_type": "markdown",
   "id": "f9fa0977",
   "metadata": {},
   "source": [
    "### Pattern 5:"
   ]
  },
  {
   "cell_type": "code",
   "execution_count": 3,
   "id": "5650ef7d",
   "metadata": {},
   "outputs": [
    {
     "name": "stdout",
     "output_type": "stream",
     "text": [
      "Enter a number : 15\n",
      "* * * * * * * * * * * * * * * \n",
      " * * * * * * * * * * * * * * \n",
      "  * * * * * * * * * * * * * \n",
      "   * * * * * * * * * * * * \n",
      "    * * * * * * * * * * * \n",
      "     * * * * * * * * * * \n",
      "      * * * * * * * * * \n",
      "       * * * * * * * * \n",
      "        * * * * * * * \n",
      "         * * * * * * \n",
      "          * * * * * \n",
      "           * * * * \n",
      "            * * * \n",
      "             * * \n",
      "              * \n"
     ]
    }
   ],
   "source": [
    "x=int(input(\"Enter a number : \"))\n",
    "for i in range(0,x):\n",
    "    for j in range(0,i):\n",
    "        print(\" \", end=\"\")\n",
    "    for k in range(0,x-i):\n",
    "        print(\"* \", end=\"\")\n",
    "    print(end='\\n')        "
   ]
  },
  {
   "cell_type": "markdown",
   "id": "34ab78cf",
   "metadata": {},
   "source": [
    "## Pattern 6:"
   ]
  },
  {
   "cell_type": "code",
   "execution_count": 32,
   "id": "63488491",
   "metadata": {},
   "outputs": [
    {
     "name": "stdout",
     "output_type": "stream",
     "text": [
      "Enter the length of the side of a diamond: 10\n",
      "          * \n",
      "         * * \n",
      "        * * * \n",
      "       * * * * \n",
      "      * * * * * \n",
      "     * * * * * * \n",
      "    * * * * * * * \n",
      "   * * * * * * * * \n",
      "  * * * * * * * * * \n",
      " * * * * * * * * * * \n",
      "* * * * * * * * * * * \n",
      " * * * * * * * * * * \n",
      "  * * * * * * * * * \n",
      "   * * * * * * * * \n",
      "    * * * * * * * \n",
      "     * * * * * * \n",
      "      * * * * * \n",
      "       * * * * \n",
      "        * * * \n",
      "         * * \n",
      "          * \n"
     ]
    }
   ],
   "source": [
    "x=int(input(\"Enter the length of the side of a diamond: \"))\n",
    "\n",
    "for i in range(0,x):\n",
    "    for j in range(0,x-i):\n",
    "        print(\" \", end=\"\")\n",
    "    for k in range(0,i+1):\n",
    "        print(\"* \", end=\"\")\n",
    "    print(end=\"\\n\")\n",
    "\n",
    "for i in range(0,x+1):\n",
    "    print(\"* \",end=\"\")\n",
    "print(end=\"\\n\")\n",
    "\n",
    "for i in range(0,x):\n",
    "    for j in range(0,i+1):\n",
    "        print(\" \",end=\"\")\n",
    "    for k in range(0,x-i):\n",
    "        print(\"* \",end=\"\")\n",
    "    print(end=\"\\n\")\n",
    "    \n",
    "    "
   ]
  },
  {
   "cell_type": "markdown",
   "id": "37329ab1",
   "metadata": {},
   "source": [
    "## Pattern 7:"
   ]
  },
  {
   "cell_type": "code",
   "execution_count": 3,
   "id": "139ec90f",
   "metadata": {},
   "outputs": [
    {
     "name": "stdout",
     "output_type": "stream",
     "text": [
      "Enter an integer : 10\n",
      "     *         * \n",
      "    * *       * * \n",
      "   * * *     * * * \n",
      "  * * * *   * * * * \n",
      " * * * * * * * * * * \n",
      "* * * * * * * * * * * \n",
      " * * * * * * * * * * \n",
      "  * * * * * * * * * \n",
      "   * * * * * * * * \n",
      "    * * * * * * * \n",
      "     * * * * * * \n",
      "      * * * * * \n",
      "       * * * * \n",
      "        * * * \n",
      "         * * \n",
      "          * \n",
      "           \n"
     ]
    }
   ],
   "source": [
    "x=int(input(\"Enter an integer : \"))\n",
    "\n",
    "for j in range(0,(x//2)):\n",
    "    for k in range(0,((x//2)-j)):\n",
    "        print(\" \",end=\"\")\n",
    "    for l in range(0,j+1):\n",
    "        print(\"* \",end=\"\")\n",
    "    for m in range(j,x-(j+2)):\n",
    "        print(\" \",end=\"\")\n",
    "    for n in range(0,j+1):\n",
    "        print(\"* \",end=\"\")\n",
    "    print(end=\"\\n\")\n",
    "    \n",
    "for i in range(0,x+2):\n",
    "    for j in range(0,i):\n",
    "        print(\" \",end=\"\")\n",
    "    for k in range(0,x-(i-1)):\n",
    "        print(\"* \",end=\"\")\n",
    "    print(end=\"\\n\")    "
   ]
  },
  {
   "cell_type": "markdown",
   "id": "ec24de76",
   "metadata": {},
   "source": [
    "## Pattern 8:"
   ]
  },
  {
   "cell_type": "code",
   "execution_count": 4,
   "id": "9132b984",
   "metadata": {},
   "outputs": [
    {
     "name": "stdout",
     "output_type": "stream",
     "text": [
      "Enter the length of the pattern  : 10\n",
      "1 0 1 0 1 0 1 0 1 0 1 \n",
      "\n",
      " 1 0 1 0 1 0 1 0 1 0 \n",
      "\n",
      "  1 0 1 0 1 0 1 0 1 \n",
      "\n",
      "   1 0 1 0 1 0 1 0 \n",
      "\n",
      "    1 0 1 0 1 0 1 \n",
      "\n",
      "     1 0 1 0 1 0 \n",
      "\n",
      "      1 0 1 0 1 \n",
      "\n",
      "       1 0 1 0 \n",
      "\n",
      "        1 0 1 \n",
      "\n",
      "         1 0 \n",
      "\n",
      "          1 \n",
      "\n"
     ]
    }
   ],
   "source": [
    "n=int(input(\"Enter the length of the pattern  : \"))\n",
    "for i in range(0,(n+1)):\n",
    "    for j in range(0,i):\n",
    "        print(\" \",end=\"\")\n",
    "    count = 1\n",
    "    for k in range(i,(n+1)):\n",
    "        if count%2==0:\n",
    "            print(\"0 \",end=\"\")\n",
    "        else:\n",
    "            print(\"1 \",end=\"\")\n",
    "        count+=1\n",
    "    print(\"\\n\")"
   ]
  },
  {
   "cell_type": "markdown",
   "id": "8f4fe7b2",
   "metadata": {},
   "source": [
    "## Pattern 9: "
   ]
  },
  {
   "cell_type": "code",
   "execution_count": 10,
   "id": "7e33ead9",
   "metadata": {},
   "outputs": [
    {
     "name": "stdout",
     "output_type": "stream",
     "text": [
      "Enter the length of pattern : 5\n",
      "\n",
      "**********\n",
      "****  ****\n",
      "***    ***\n",
      "**      **\n",
      "*        *\n",
      "**      **\n",
      "***    ***\n",
      "****  ****\n",
      "**********"
     ]
    }
   ],
   "source": [
    "x=int(input(\"Enter the length of pattern : \"))\n",
    "for i in range(0,x):\n",
    "    print(end='\\n')\n",
    "    for j in range(0,(x-i)):\n",
    "        print(\"*\",end=\"\")\n",
    "    for k in range(0,2*i):\n",
    "        print(\" \",end=\"\")\n",
    "    for j in range(0,(x-i)):\n",
    "        print(\"*\",end=\"\")\n",
    "for i in range(2,(x+1)):\n",
    "    print(end='\\n')\n",
    "    for j in range(0,i):\n",
    "        print(\"*\",end=\"\")\n",
    "    for k in range(0,2*(x-i)):\n",
    "        print(\" \",end=\"\")\n",
    "    for j in range(0,i):\n",
    "        print(\"*\",end=\"\")\n",
    "    "
   ]
  },
  {
   "cell_type": "markdown",
   "id": "e5e7212f",
   "metadata": {},
   "source": [
    "## Pattern 10"
   ]
  },
  {
   "cell_type": "code",
   "execution_count": 73,
   "id": "576fc367",
   "metadata": {},
   "outputs": [
    {
     "name": "stdout",
     "output_type": "stream",
     "text": [
      "Enter the length of the patter : 3\n",
      "\n",
      "\n",
      "3 3 3 3 3 \n",
      "\n",
      "3 2 2 2 3 \n",
      "\n",
      "3 2 1 2 3 \n",
      "\n",
      "3 2 2 2 3 \n",
      "\n",
      "3 3 3 3 3 "
     ]
    }
   ],
   "source": [
    "x=int(input(\"Enter the length of the patter : \"))\n",
    "for i in range(0,x):\n",
    "    p=x\n",
    "    print(\"\\n\")\n",
    "    for j in range(0,(i+1)):\n",
    "        print(f\"{p} \",end=\"\")\n",
    "        if j==i:\n",
    "            q=p\n",
    "            for k in range(0,x-(j+1)):\n",
    "                print(f\"{q} \",end=\"\")\n",
    "            for l in range(0,(x-(j+1))):\n",
    "                print(f\"{q} \",end=\"\")\n",
    "            for m in range(0,j):\n",
    "                q+=1\n",
    "                print(f\"{q} \",end=\"\")\n",
    "        p-=1\n",
    "for i in range(1,x):\n",
    "    p=x\n",
    "    print(\"\\n\")\n",
    "    for j in range(x,i,-1):\n",
    "        print(f\"{p} \",end=\"\")\n",
    "        if i+1==j:\n",
    "            q=j\n",
    "            for k in range(1,i+1):\n",
    "                print(f\"{q} \",end=\"\")\n",
    "            for l in range(1,i):\n",
    "                print(f\"{q} \",end=\"\")\n",
    "            for m in range(i,x):\n",
    "                print(f\"{q} \",end=\"\")\n",
    "                q+=1\n",
    "        p-=1       "
   ]
  }
 ],
 "metadata": {
  "kernelspec": {
   "display_name": "Python 3 (ipykernel)",
   "language": "python",
   "name": "python3"
  },
  "language_info": {
   "codemirror_mode": {
    "name": "ipython",
    "version": 3
   },
   "file_extension": ".py",
   "mimetype": "text/x-python",
   "name": "python",
   "nbconvert_exporter": "python",
   "pygments_lexer": "ipython3",
   "version": "3.11.4"
  }
 },
 "nbformat": 4,
 "nbformat_minor": 5
}
