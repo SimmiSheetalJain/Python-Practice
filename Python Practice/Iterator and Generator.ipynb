{
 "cells": [
  {
   "cell_type": "markdown",
   "id": "36fe9c54",
   "metadata": {},
   "source": [
    "# Iterator and Generator"
   ]
  },
  {
   "cell_type": "markdown",
   "id": "e725413a",
   "metadata": {},
   "source": [
    "Iterators and generators are both mechanisms that enable efficient and memory-friendly iteration over a sequence of data."
   ]
  },
  {
   "cell_type": "markdown",
   "id": "bcfed011",
   "metadata": {},
   "source": [
    "## Iterator"
   ]
  },
  {
   "cell_type": "markdown",
   "id": "27511476",
   "metadata": {},
   "source": [
    "An iterator is an object that implements the iterator protocol, which is consist of the __ iter __ and __ next __ methods."
   ]
  },
  {
   "cell_type": "code",
   "execution_count": 6,
   "id": "b8fcc0e0",
   "metadata": {},
   "outputs": [],
   "source": [
    "#Example \n",
    "l1=[1,2,4,5]\n",
    "l1=iter(l1)"
   ]
  },
  {
   "cell_type": "code",
   "execution_count": 5,
   "id": "f7f9ef98",
   "metadata": {},
   "outputs": [
    {
     "name": "stdout",
     "output_type": "stream",
     "text": [
      "5\n"
     ]
    }
   ],
   "source": [
    "try:\n",
    "    print(next(l1))\n",
    "except:\n",
    "    print(\"The last iteration is reached. recreate or re-execute the previous cell\")"
   ]
  },
  {
   "cell_type": "code",
   "execution_count": 16,
   "id": "80890ddf",
   "metadata": {},
   "outputs": [
    {
     "name": "stdout",
     "output_type": "stream",
     "text": [
      "7\n",
      "8\n",
      "9\n",
      "5\n"
     ]
    }
   ],
   "source": [
    "#Example \n",
    "nums = [7,8,9,5]\n",
    "for i in nums:\n",
    "    print(i)"
   ]
  },
  {
   "cell_type": "code",
   "execution_count": 17,
   "id": "30c07fe2",
   "metadata": {},
   "outputs": [
    {
     "name": "stdout",
     "output_type": "stream",
     "text": [
      "7\n"
     ]
    }
   ],
   "source": [
    "# Let's create an interator from nums \n",
    "it = iter(nums)\n",
    "print(it.__next__())"
   ]
  },
  {
   "cell_type": "code",
   "execution_count": 18,
   "id": "f3b9d8bb",
   "metadata": {},
   "outputs": [
    {
     "name": "stdout",
     "output_type": "stream",
     "text": [
      "8\n"
     ]
    }
   ],
   "source": [
    "#__next__() preserves the state and will show the next value\n",
    "print(it.__next__())"
   ]
  },
  {
   "cell_type": "code",
   "execution_count": 19,
   "id": "29241a06",
   "metadata": {},
   "outputs": [
    {
     "name": "stdout",
     "output_type": "stream",
     "text": [
      "9\n"
     ]
    }
   ],
   "source": [
    "#Now, it will be printing 9\n",
    "print(it.__next__())"
   ]
  },
  {
   "cell_type": "code",
   "execution_count": 20,
   "id": "26efb3b3",
   "metadata": {},
   "outputs": [
    {
     "name": "stdout",
     "output_type": "stream",
     "text": [
      "5\n"
     ]
    }
   ],
   "source": [
    "#Now, it will be printing 5\n",
    "print(it.__next__())"
   ]
  },
  {
   "cell_type": "markdown",
   "id": "f80ded84",
   "metadata": {},
   "source": [
    "It can be seen how iterator preserves the state of old index and shows value stored at next index."
   ]
  },
  {
   "cell_type": "markdown",
   "id": "b0259b64",
   "metadata": {},
   "source": [
    "### Let's create our own iterator"
   ]
  },
  {
   "cell_type": "code",
   "execution_count": 81,
   "id": "68f06c30",
   "metadata": {},
   "outputs": [],
   "source": [
    "class topten:\n",
    "    def __init__(self):\n",
    "        self.num = 1\n",
    "    def __iter__(self):\n",
    "        return self\n",
    "    def __next__(self):\n",
    "        try: \n",
    "            if self.num>=11:\n",
    "                raise StopIteration(\"The end state has already reached.\\nRecreate an interator.\")\n",
    "            val = self.num\n",
    "            self.num+=1\n",
    "            return val\n",
    "        except Exception as e:\n",
    "            print(e)\n",
    "            \n",
    "value =topten()"
   ]
  },
  {
   "cell_type": "code",
   "execution_count": 82,
   "id": "5a7fb124",
   "metadata": {},
   "outputs": [
    {
     "data": {
      "text/plain": [
       "1"
      ]
     },
     "execution_count": 82,
     "metadata": {},
     "output_type": "execute_result"
    }
   ],
   "source": [
    "#Now, let's test our iterator\n",
    "value.__next__()"
   ]
  },
  {
   "cell_type": "code",
   "execution_count": 83,
   "id": "aecdfc8f",
   "metadata": {},
   "outputs": [
    {
     "data": {
      "text/plain": [
       "2"
      ]
     },
     "execution_count": 83,
     "metadata": {},
     "output_type": "execute_result"
    }
   ],
   "source": [
    "value.__next__()"
   ]
  },
  {
   "cell_type": "code",
   "execution_count": 84,
   "id": "7854f783",
   "metadata": {},
   "outputs": [
    {
     "data": {
      "text/plain": [
       "3"
      ]
     },
     "execution_count": 84,
     "metadata": {},
     "output_type": "execute_result"
    }
   ],
   "source": [
    "value.__next__()"
   ]
  },
  {
   "cell_type": "code",
   "execution_count": 85,
   "id": "a24b600d",
   "metadata": {},
   "outputs": [
    {
     "data": {
      "text/plain": [
       "4"
      ]
     },
     "execution_count": 85,
     "metadata": {},
     "output_type": "execute_result"
    }
   ],
   "source": [
    "value.__next__()"
   ]
  },
  {
   "cell_type": "code",
   "execution_count": 86,
   "id": "e91683c1",
   "metadata": {},
   "outputs": [
    {
     "data": {
      "text/plain": [
       "5"
      ]
     },
     "execution_count": 86,
     "metadata": {},
     "output_type": "execute_result"
    }
   ],
   "source": [
    "value.__next__()"
   ]
  },
  {
   "cell_type": "code",
   "execution_count": 87,
   "id": "0683a4c9",
   "metadata": {},
   "outputs": [
    {
     "data": {
      "text/plain": [
       "6"
      ]
     },
     "execution_count": 87,
     "metadata": {},
     "output_type": "execute_result"
    }
   ],
   "source": [
    "value.__next__()"
   ]
  },
  {
   "cell_type": "code",
   "execution_count": 88,
   "id": "42d401c9",
   "metadata": {},
   "outputs": [
    {
     "data": {
      "text/plain": [
       "7"
      ]
     },
     "execution_count": 88,
     "metadata": {},
     "output_type": "execute_result"
    }
   ],
   "source": [
    "value.__next__()"
   ]
  },
  {
   "cell_type": "code",
   "execution_count": 89,
   "id": "67e212ca",
   "metadata": {},
   "outputs": [
    {
     "data": {
      "text/plain": [
       "8"
      ]
     },
     "execution_count": 89,
     "metadata": {},
     "output_type": "execute_result"
    }
   ],
   "source": [
    "value.__next__()"
   ]
  },
  {
   "cell_type": "code",
   "execution_count": 90,
   "id": "2cdfe210",
   "metadata": {},
   "outputs": [
    {
     "data": {
      "text/plain": [
       "9"
      ]
     },
     "execution_count": 90,
     "metadata": {},
     "output_type": "execute_result"
    }
   ],
   "source": [
    "value.__next__()"
   ]
  },
  {
   "cell_type": "code",
   "execution_count": 91,
   "id": "e4041089",
   "metadata": {},
   "outputs": [
    {
     "data": {
      "text/plain": [
       "10"
      ]
     },
     "execution_count": 91,
     "metadata": {},
     "output_type": "execute_result"
    }
   ],
   "source": [
    "value.__next__()"
   ]
  },
  {
   "cell_type": "code",
   "execution_count": 92,
   "id": "7bb6d0de",
   "metadata": {},
   "outputs": [
    {
     "name": "stdout",
     "output_type": "stream",
     "text": [
      "The end state has already reached.\n",
      "Recreate an interator.\n"
     ]
    }
   ],
   "source": [
    "value.__next__()"
   ]
  },
  {
   "cell_type": "markdown",
   "id": "e552ad7b",
   "metadata": {},
   "source": [
    "## Generator"
   ]
  },
  {
   "cell_type": "markdown",
   "id": "76b6b83a",
   "metadata": {},
   "source": [
    "Generator are memory efficient mechanism because when a generator is executed, the memory shows one output, and the memory is freed to use same memory for next iteration "
   ]
  },
  {
   "cell_type": "markdown",
   "id": "1f3511d6",
   "metadata": {},
   "source": [
    "To make a function a generator, we use 'yield' keyword rather than 'return'."
   ]
  },
  {
   "cell_type": "code",
   "execution_count": 93,
   "id": "a6bdfcf0",
   "metadata": {},
   "outputs": [],
   "source": [
    "#Example \n",
    "def topten():\n",
    "    yield 5"
   ]
  },
  {
   "cell_type": "markdown",
   "id": "c2bd5684",
   "metadata": {},
   "source": [
    "#### On calling topten() function, now, we will be getting an object. Generally, a function doesn't always return a value as an object. So, topten is not acting as a function. It is acting someother way. "
   ]
  },
  {
   "cell_type": "code",
   "execution_count": 97,
   "id": "aa31c644",
   "metadata": {},
   "outputs": [
    {
     "name": "stdout",
     "output_type": "stream",
     "text": [
      "<generator object topten at 0x000001A85DA8B950>\n"
     ]
    }
   ],
   "source": [
    "value=topten()\n",
    "print(value)"
   ]
  },
  {
   "cell_type": "markdown",
   "id": "7bcb92f8",
   "metadata": {},
   "source": [
    "####  Since, we have used 'yield' keyword rather than return, we can say that topten() is an iterator. So, to read the value we will have to use next() function"
   ]
  },
  {
   "cell_type": "code",
   "execution_count": 98,
   "id": "5b11bbb4",
   "metadata": {},
   "outputs": [
    {
     "data": {
      "text/plain": [
       "5"
      ]
     },
     "execution_count": 98,
     "metadata": {},
     "output_type": "execute_result"
    }
   ],
   "source": [
    "value.__next__()"
   ]
  },
  {
   "cell_type": "code",
   "execution_count": 101,
   "id": "625297b5",
   "metadata": {},
   "outputs": [],
   "source": [
    "#Example 2: Now, let's make a static iteratoe of our own\n",
    "def myiter():\n",
    "    yield 1\n",
    "    yield 2\n",
    "    yield 3\n",
    "    yield 4"
   ]
  },
  {
   "cell_type": "code",
   "execution_count": 102,
   "id": "c544af01",
   "metadata": {},
   "outputs": [],
   "source": [
    "values =  myiter()"
   ]
  },
  {
   "cell_type": "code",
   "execution_count": 103,
   "id": "dc255683",
   "metadata": {},
   "outputs": [],
   "source": [
    "#Now, let's apply next function on iterator values"
   ]
  },
  {
   "cell_type": "code",
   "execution_count": 104,
   "id": "1fa5db57",
   "metadata": {},
   "outputs": [
    {
     "data": {
      "text/plain": [
       "1"
      ]
     },
     "execution_count": 104,
     "metadata": {},
     "output_type": "execute_result"
    }
   ],
   "source": [
    "values.__next__()"
   ]
  },
  {
   "cell_type": "code",
   "execution_count": 105,
   "id": "669597d7",
   "metadata": {},
   "outputs": [
    {
     "data": {
      "text/plain": [
       "2"
      ]
     },
     "execution_count": 105,
     "metadata": {},
     "output_type": "execute_result"
    }
   ],
   "source": [
    "values.__next__()"
   ]
  },
  {
   "cell_type": "code",
   "execution_count": 106,
   "id": "10e9ad33",
   "metadata": {},
   "outputs": [
    {
     "data": {
      "text/plain": [
       "3"
      ]
     },
     "execution_count": 106,
     "metadata": {},
     "output_type": "execute_result"
    }
   ],
   "source": [
    "values.__next__()"
   ]
  },
  {
   "cell_type": "code",
   "execution_count": 107,
   "id": "d5a12cfd",
   "metadata": {},
   "outputs": [
    {
     "data": {
      "text/plain": [
       "4"
      ]
     },
     "execution_count": 107,
     "metadata": {},
     "output_type": "execute_result"
    }
   ],
   "source": [
    "values.__next__()"
   ]
  },
  {
   "cell_type": "code",
   "execution_count": 108,
   "id": "08655b93",
   "metadata": {},
   "outputs": [
    {
     "ename": "StopIteration",
     "evalue": "",
     "output_type": "error",
     "traceback": [
      "\u001b[1;31m---------------------------------------------------------------------------\u001b[0m",
      "\u001b[1;31mStopIteration\u001b[0m                             Traceback (most recent call last)",
      "Cell \u001b[1;32mIn[108], line 1\u001b[0m\n\u001b[1;32m----> 1\u001b[0m values\u001b[38;5;241m.\u001b[39m\u001b[38;5;21m__next__\u001b[39m()\n",
      "\u001b[1;31mStopIteration\u001b[0m: "
     ]
    }
   ],
   "source": [
    "values.__next__()"
   ]
  },
  {
   "cell_type": "markdown",
   "id": "a3ab2422",
   "metadata": {},
   "source": [
    "Since the end value is reached, now, we can see it throws \"StopIteration\" Error."
   ]
  },
  {
   "cell_type": "markdown",
   "id": "beb99057",
   "metadata": {},
   "source": [
    "#### So, we can say generator gives us an iterator object"
   ]
  },
  {
   "cell_type": "markdown",
   "id": "d8a435ac",
   "metadata": {},
   "source": [
    "### Let's create our own generator "
   ]
  },
  {
   "cell_type": "code",
   "execution_count": 125,
   "id": "fd506eee",
   "metadata": {},
   "outputs": [],
   "source": [
    "def toptensquare():\n",
    "    n = 1\n",
    "    while n!=11:\n",
    "        sq = n**2\n",
    "        yield sq\n",
    "        n+=1"
   ]
  },
  {
   "cell_type": "code",
   "execution_count": 126,
   "id": "fb0c8f9c",
   "metadata": {},
   "outputs": [],
   "source": [
    "#Let's create our iterator \n",
    "obj = toptensquare()"
   ]
  },
  {
   "cell_type": "code",
   "execution_count": 127,
   "id": "e1553081",
   "metadata": {},
   "outputs": [
    {
     "data": {
      "text/plain": [
       "1"
      ]
     },
     "execution_count": 127,
     "metadata": {},
     "output_type": "execute_result"
    }
   ],
   "source": [
    "next(obj)"
   ]
  },
  {
   "cell_type": "code",
   "execution_count": 128,
   "id": "e1e3f5a6",
   "metadata": {},
   "outputs": [
    {
     "data": {
      "text/plain": [
       "4"
      ]
     },
     "execution_count": 128,
     "metadata": {},
     "output_type": "execute_result"
    }
   ],
   "source": [
    "next(obj)"
   ]
  },
  {
   "cell_type": "code",
   "execution_count": 129,
   "id": "27466e53",
   "metadata": {},
   "outputs": [
    {
     "data": {
      "text/plain": [
       "9"
      ]
     },
     "execution_count": 129,
     "metadata": {},
     "output_type": "execute_result"
    }
   ],
   "source": [
    "next(obj)"
   ]
  },
  {
   "cell_type": "code",
   "execution_count": 130,
   "id": "df6e3a1c",
   "metadata": {},
   "outputs": [
    {
     "data": {
      "text/plain": [
       "16"
      ]
     },
     "execution_count": 130,
     "metadata": {},
     "output_type": "execute_result"
    }
   ],
   "source": [
    "next(obj)"
   ]
  },
  {
   "cell_type": "code",
   "execution_count": 131,
   "id": "f1c2b1a0",
   "metadata": {},
   "outputs": [
    {
     "data": {
      "text/plain": [
       "25"
      ]
     },
     "execution_count": 131,
     "metadata": {},
     "output_type": "execute_result"
    }
   ],
   "source": [
    "obj.__next__()"
   ]
  },
  {
   "cell_type": "code",
   "execution_count": 132,
   "id": "c82da220",
   "metadata": {},
   "outputs": [
    {
     "data": {
      "text/plain": [
       "36"
      ]
     },
     "execution_count": 132,
     "metadata": {},
     "output_type": "execute_result"
    }
   ],
   "source": [
    "obj.__next__()"
   ]
  },
  {
   "cell_type": "code",
   "execution_count": 133,
   "id": "6acce54d",
   "metadata": {},
   "outputs": [
    {
     "data": {
      "text/plain": [
       "49"
      ]
     },
     "execution_count": 133,
     "metadata": {},
     "output_type": "execute_result"
    }
   ],
   "source": [
    "obj.__next__()"
   ]
  },
  {
   "cell_type": "code",
   "execution_count": 134,
   "id": "0bab46d3",
   "metadata": {},
   "outputs": [
    {
     "data": {
      "text/plain": [
       "64"
      ]
     },
     "execution_count": 134,
     "metadata": {},
     "output_type": "execute_result"
    }
   ],
   "source": [
    "obj.__next__()"
   ]
  },
  {
   "cell_type": "code",
   "execution_count": 135,
   "id": "f3d8a7e2",
   "metadata": {},
   "outputs": [
    {
     "data": {
      "text/plain": [
       "81"
      ]
     },
     "execution_count": 135,
     "metadata": {},
     "output_type": "execute_result"
    }
   ],
   "source": [
    "obj.__next__()"
   ]
  },
  {
   "cell_type": "code",
   "execution_count": 136,
   "id": "6adae2f7",
   "metadata": {},
   "outputs": [
    {
     "data": {
      "text/plain": [
       "100"
      ]
     },
     "execution_count": 136,
     "metadata": {},
     "output_type": "execute_result"
    }
   ],
   "source": [
    "obj.__next__()"
   ]
  },
  {
   "cell_type": "code",
   "execution_count": 137,
   "id": "6411a28f",
   "metadata": {},
   "outputs": [
    {
     "ename": "StopIteration",
     "evalue": "",
     "output_type": "error",
     "traceback": [
      "\u001b[1;31m---------------------------------------------------------------------------\u001b[0m",
      "\u001b[1;31mStopIteration\u001b[0m                             Traceback (most recent call last)",
      "Cell \u001b[1;32mIn[137], line 1\u001b[0m\n\u001b[1;32m----> 1\u001b[0m obj\u001b[38;5;241m.\u001b[39m\u001b[38;5;21m__next__\u001b[39m()\n",
      "\u001b[1;31mStopIteration\u001b[0m: "
     ]
    }
   ],
   "source": [
    "obj.__next__()"
   ]
  },
  {
   "cell_type": "markdown",
   "id": "25917b30",
   "metadata": {},
   "source": [
    "Since the end state is reached the generator throws an error, \"StopIteration\". If we want to run an iterator, then we need to recreate it.m"
   ]
  },
  {
   "cell_type": "code",
   "execution_count": null,
   "id": "e2c3c9ab",
   "metadata": {},
   "outputs": [],
   "source": []
  }
 ],
 "metadata": {
  "kernelspec": {
   "display_name": "Python 3 (ipykernel)",
   "language": "python",
   "name": "python3"
  },
  "language_info": {
   "codemirror_mode": {
    "name": "ipython",
    "version": 3
   },
   "file_extension": ".py",
   "mimetype": "text/x-python",
   "name": "python",
   "nbconvert_exporter": "python",
   "pygments_lexer": "ipython3",
   "version": "3.11.4"
  }
 },
 "nbformat": 4,
 "nbformat_minor": 5
}
