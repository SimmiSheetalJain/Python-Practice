{
 "cells": [
  {
   "cell_type": "markdown",
   "id": "36fe9c54",
   "metadata": {},
   "source": [
    "# Iterator and Generator"
   ]
  },
  {
   "cell_type": "markdown",
   "id": "e725413a",
   "metadata": {},
   "source": [
    "Iterators and generators are both mechanisms that enable efficient and memory-friendly iteration over a sequence of data."
   ]
  },
  {
   "cell_type": "markdown",
   "id": "bcfed011",
   "metadata": {},
   "source": [
    "## Iterator"
   ]
  },
  {
   "cell_type": "markdown",
   "id": "27511476",
   "metadata": {},
   "source": [
    "An iterator is an object that implements the iterator protocol, which consists of the __ iter __ and __ next __ methods."
   ]
  },
  {
   "cell_type": "code",
   "execution_count": 18,
   "id": "b8fcc0e0",
   "metadata": {},
   "outputs": [],
   "source": [
    "#Example \n",
    "l1=[1,2,4,5]\n",
    "l1=iter(l1)"
   ]
  },
  {
   "cell_type": "code",
   "execution_count": 19,
   "id": "f7f9ef98",
   "metadata": {},
   "outputs": [
    {
     "name": "stdout",
     "output_type": "stream",
     "text": [
      "1\n"
     ]
    }
   ],
   "source": [
    "try:\n",
    "    print(next(l1))\n",
    "except:\n",
    "    print(\"The last iteration is reached. recreate or re-execute the previous cell\")"
   ]
  },
  {
   "cell_type": "markdown",
   "id": "76b6b83a",
   "metadata": {},
   "source": [
    "Generato are memory efficient mechanism because when a generator is executed, the memory shows one output, and the memory is freed to use same memory for next iteration "
   ]
  },
  {
   "cell_type": "markdown",
   "id": "71b2f2ce",
   "metadata": {},
   "source": [
    "While making a generator, we use __yield__ keyworld."
   ]
  },
  {
   "cell_type": "code",
   "execution_count": 21,
   "id": "68df6644",
   "metadata": {},
   "outputs": [
    {
     "name": "stdout",
     "output_type": "stream",
     "text": [
      "0\n",
      "1\n",
      "4\n"
     ]
    }
   ],
   "source": [
    "#Example \n",
    "def square(n):\n",
    "    for i in range(n):\n",
    "        yield i**2\n",
    "for i in square(3):\n",
    "    print(i)"
   ]
  },
  {
   "cell_type": "markdown",
   "id": "193364d8",
   "metadata": {},
   "source": [
    "#will do more pratice after exam."
   ]
  },
  {
   "cell_type": "code",
   "execution_count": null,
   "id": "80890ddf",
   "metadata": {},
   "outputs": [],
   "source": []
  }
 ],
 "metadata": {
  "kernelspec": {
   "display_name": "Python 3 (ipykernel)",
   "language": "python",
   "name": "python3"
  },
  "language_info": {
   "codemirror_mode": {
    "name": "ipython",
    "version": 3
   },
   "file_extension": ".py",
   "mimetype": "text/x-python",
   "name": "python",
   "nbconvert_exporter": "python",
   "pygments_lexer": "ipython3",
   "version": "3.11.4"
  }
 },
 "nbformat": 4,
 "nbformat_minor": 5
}
