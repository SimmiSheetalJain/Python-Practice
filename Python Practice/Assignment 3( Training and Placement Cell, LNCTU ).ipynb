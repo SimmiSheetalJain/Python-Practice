{
 "cells": [
  {
   "cell_type": "markdown",
   "id": "2ff8ba52",
   "metadata": {},
   "source": [
    "<h1 style=\"text-align:center;\"> Training and Placement Cell, LNCT University, Bhopal</h1>"
   ]
  },
  {
   "cell_type": "markdown",
   "id": "25062936",
   "metadata": {},
   "source": [
    "<h1 style=\"text-align:center;color:#07825b\"> Python CP ASSIGNMENT 3</h1>"
   ]
  },
  {
   "cell_type": "markdown",
   "id": "bf5e3c55",
   "metadata": {},
   "source": [
    "### Submitted By &emsp;&emsp;&emsp;&emsp;&emsp;&emsp;&emsp;&emsp;&emsp;&emsp;&emsp;&emsp;&emsp;&emsp;&emsp;&emsp;&emsp;&emsp;&emsp;&emsp;&emsp;&emsp;Submitted To:<br>\n",
    "##### Sheetal Jain &emsp;&emsp;&emsp;&emsp;&emsp;&emsp;&emsp; &emsp;&emsp;&emsp;&emsp;&emsp;&emsp;&emsp;&emsp;&emsp;&emsp;&emsp; &emsp;&emsp;&emsp;&emsp; &emsp;&emsp;&emsp;&emsp;&emsp;&emsp;&emsp;&emsp;&emsp;&emsp;&emsp;T&P Cell, LNCTU\n",
    "##### Branch: MCA(AIML)\n",
    "##### Section: A\n",
    "##### Class Roll no.: 38"
   ]
  },
  {
   "cell_type": "markdown",
   "id": "f840d24c",
   "metadata": {},
   "source": [
    "<img src=\"https://i.ibb.co/WD7fg0f/p.png\" alt=\"p\" border=\"0\">"
   ]
  },
  {
   "cell_type": "code",
   "execution_count": 3,
   "id": "fb90dd08",
   "metadata": {},
   "outputs": [
    {
     "name": "stdout",
     "output_type": "stream",
     "text": [
      "Enter the first number: 10\n",
      "Enter the second number: 20\n",
      "Enter the third number: 30\n",
      "The macximum among 10,20, and 30 is 30\n"
     ]
    }
   ],
   "source": [
    "#Program for Question 1:\n",
    "a=int(input(\"Enter the first number: \"))\n",
    "b=int(input(\"Enter the second number: \"))\n",
    "c=int(input(\"Enter the third number: \"))\n",
    "maximum=a\n",
    "if maximum<b:\n",
    "    maximum=b\n",
    "if maximum<c:\n",
    "    maximum=c\n",
    "print(f\"The macximum among {a},{b}, and {c} is {maximum}\")"
   ]
  },
  {
   "cell_type": "markdown",
   "id": "e529ef0c",
   "metadata": {},
   "source": [
    "<img src=\"https://i.ibb.co/2641LMm/p.png\" alt=\"p\" border=\"0\">"
   ]
  },
  {
   "cell_type": "code",
   "execution_count": 4,
   "id": "0e31bab7",
   "metadata": {},
   "outputs": [
    {
     "name": "stdout",
     "output_type": "stream",
     "text": [
      "Enter the number to find its factorial: 5\n",
      "The factorial of 5 is 120\n"
     ]
    }
   ],
   "source": [
    "#Program for Question 2\n",
    "def factorial(n):\n",
    "    if n==1:\n",
    "        return 1\n",
    "    else:\n",
    "        return n*factorial(n-1)\n",
    "\n",
    "num=int(input(\"Enter the number to find its factorial: \"))\n",
    "print(f\"The factorial of {num} is {factorial(num)}\")"
   ]
  },
  {
   "cell_type": "markdown",
   "id": "ff7d7f28",
   "metadata": {},
   "source": [
    "## Q3. Problem Statement\n",
    "Implement a program to display the geometric sequence as given below for a given value n, where n is the number of elements in the sequence.<br>\n",
    "1, 2, 4, 8, 16, 32, 64, ......, 1024<br>\n",
    "<img src=\"https://i.ibb.co/3m1gSn8/p.png\" alt=\"p\" border=\"0\">"
   ]
  },
  {
   "cell_type": "code",
   "execution_count": 9,
   "id": "552ce7d6",
   "metadata": {},
   "outputs": [
    {
     "name": "stdout",
     "output_type": "stream",
     "text": [
      "How many terms do you want to print: 8\n",
      "1, 2, 4, 8, 16, 32, 64, 128"
     ]
    }
   ],
   "source": [
    "#Program for Question 3\n",
    "common_ratio=2\n",
    "n=int(input(\"How many terms do you want to print: \"))\n",
    "print(\"1\",end=\"\")\n",
    "for i in range(1,n):\n",
    "    print(\", \",end=\"\")\n",
    "    print(f\"{common_ratio**i}\", end=\"\")"
   ]
  },
  {
   "cell_type": "markdown",
   "id": "df1b9678",
   "metadata": {},
   "source": [
    "## Q4. Problem Statement\n",
    "Implement a program to display the sum of two given numbers if the\n",
    "numbers are same. If the numbers are not same, display the double of the\n",
    "sum."
   ]
  },
  {
   "cell_type": "code",
   "execution_count": 12,
   "id": "8376cdc9",
   "metadata": {},
   "outputs": [
    {
     "name": "stdout",
     "output_type": "stream",
     "text": [
      "Enter the first number: 10\n",
      "Enter the second number: 20\n",
      "Sum is 60\n"
     ]
    }
   ],
   "source": [
    "#Program for question 4\n",
    "a=int(input(\"Enter the first number: \"))\n",
    "b=int(input(\"Enter the second number: \"))\n",
    "if a==b:\n",
    "    print(f\"Sum is {2*a}\")\n",
    "else:\n",
    "    print(f\"Sum is {2*(a+b)}\")"
   ]
  },
  {
   "cell_type": "markdown",
   "id": "ccfe72cb",
   "metadata": {},
   "source": [
    "<img src=\"https://i.ibb.co/ctv2r48/p.png\" alt=\"p\" border=\"0\">"
   ]
  },
  {
   "cell_type": "markdown",
   "id": "49422f24",
   "metadata": {},
   "source": [
    "<img src=\"https://i.ibb.co/FgvVT0k/p.png\" alt=\"p\" border=\"0\">"
   ]
  },
  {
   "cell_type": "code",
   "execution_count": 16,
   "id": "b47ec088",
   "metadata": {},
   "outputs": [
    {
     "name": "stdout",
     "output_type": "stream",
     "text": [
      "Enter the coefficient of x^2: 1\n",
      "Enter the coefficient x : 4\n",
      "Enter the contant term :  4\n",
      "The values of both the roots will be same and the roots  :-2.0, -2.0 \n"
     ]
    }
   ],
   "source": [
    "#Program for Question 5\n",
    "import math\n",
    "a=int(input(\"Enter the coefficient of x^2: \"))\n",
    "b=int(input(\"Enter the coefficient x : \"))\n",
    "c=int(input(\"Enter the contant term :  \"))\n",
    "d = b**2 - 4*a*c\n",
    "r1=(-b+(d**(0.5)))//2\n",
    "r2=(-b-(d**(0.5)))//2\n",
    "if d==0:\n",
    "    print(f\"The values of both the roots will be same and the roots  :{r1}, {r2} \")\n",
    "elif d>0:\n",
    "    print(f\"The roots are : {r1} and {r2}\")\n",
    "else:\n",
    "    print(\"The equation has no real root\")\n"
   ]
  },
  {
   "cell_type": "markdown",
   "id": "8e790adf",
   "metadata": {},
   "source": [
    "## Q6. Problem Statement\n",
    "Implement a program to calculate the product of three positive integer\n",
    "values. However, if one of the integers is 7, consider only the values to the\n",
    "right of 7 for calculation. If 7 is the last integer, then display -1.<br>\n",
    "Note: Only one of the three values can be 7."
   ]
  },
  {
   "cell_type": "code",
   "execution_count": 19,
   "id": "4fbba165",
   "metadata": {},
   "outputs": [
    {
     "name": "stdout",
     "output_type": "stream",
     "text": [
      "Enter the first number : 4\n",
      "Enter the second number : 7\n",
      "Enter the third number :  5\n",
      "5\n"
     ]
    }
   ],
   "source": [
    "a=int(input(\"Enter the first number : \"))\n",
    "b=int(input(\"Enter the second number : \"))\n",
    "c=int(input(\"Enter the third number :  \"))\n",
    "if 7 not in [a,b,c]:\n",
    "    print(f\"{a*b*c}\")\n",
    "elif a==7:\n",
    "    print(b*c)\n",
    "elif b==7:\n",
    "    print(c)\n",
    "else:\n",
    "    print(\"-1\")"
   ]
  },
  {
   "cell_type": "markdown",
   "id": "a0f978d7",
   "metadata": {},
   "source": [
    "<img src=\"https://i.ibb.co/X4m59DW/p.png\" alt=\"p\" border=\"0\">\n",
    "<img src=\"https://i.ibb.co/cxGmDGQ/p.png\" alt=\"p\" border=\"0\">\n",
    "<img src=\"https://i.ibb.co/K2ygrSs/p.png\" alt=\"p\" border=\"0\">"
   ]
  },
  {
   "cell_type": "code",
   "execution_count": 8,
   "id": "7381f7d1",
   "metadata": {},
   "outputs": [
    {
     "name": "stdout",
     "output_type": "stream",
     "text": [
      "Which food you want to order:\n",
      "1.Press 'V' for Vegetarian\n",
      "2.Press 'N for Non-veegtarian'V\n",
      "Enter the distance (in kms) : 7\n",
      "Enter the quantity of the food : 1\n",
      "You bill amount is $17\n"
     ]
    }
   ],
   "source": [
    "#Program for question 7\n",
    "def calculate_bill(food_type,distance_in_kms,quantity_ordered):\n",
    "    if (food_type in \"VN\") and distance_in_kms > 0 and quantity_ordered >= 1:\n",
    "        delivery_charge = 0\n",
    "        if distance_in_kms <= 3:\n",
    "            delivery_charge = 0\n",
    "        elif distance_in_kms <= 6:\n",
    "            delivery_charge = (distance_in_kms - 3) \n",
    "        else:\n",
    "            delivery_charge = 3 + (distance_in_kms - 6) * 2  # Fix the variable name here\n",
    "\n",
    "        if food_type == 'V':\n",
    "            bill_amount = quantity_ordered * 12 + delivery_charge\n",
    "        else:\n",
    "            bill_amount = quantity_ordered * 15 + delivery_charge\n",
    "    else:\n",
    "        bill_amount = -1\n",
    "    return bill_amount\n",
    "food_type=input(\"Which food you want to order:\\n1.Press 'V' for Vegetarian\\n2.Press 'N for Non-veegtarian'\")\n",
    "distance_in_kms=int(input(\"Enter the distance (in kms) : \"))\n",
    "quantity_ordered = int(input(\"Enter the quantity of the food : \"))\n",
    "bill_amount=calculate_bill(food_type,distance_in_kms,quantity_ordered)\n",
    "print(f\"You bill amount is ${bill_amount}\")"
   ]
  },
  {
   "cell_type": "markdown",
   "id": "f7364f98",
   "metadata": {},
   "source": [
    "<img src=\"https://i.ibb.co/JxLzHm8/p.png\" alt=\"p\" border=\"0\">\n",
    "<img src=\"https://i.ibb.co/wwxP97q/p.png\" alt=\"p\" border=\"0\">\n",
    "<img src=\"https://i.ibb.co/tCP3yGD/p.png\" alt=\"p\" border=\"0\">\n",
    "<img src=\"https://i.ibb.co/8NsGzxw/p.png\" alt=\"p\" border=\"0\">"
   ]
  },
  {
   "cell_type": "code",
   "execution_count": 12,
   "id": "20441fe7",
   "metadata": {},
   "outputs": [
    {
     "name": "stdout",
     "output_type": "stream",
     "text": [
      "Enter Your Account Number : 1001\n",
      "Enter Account Balance : 250000\n",
      "Enter Your Monthly Salary : 40000\n",
      "Which type of loan do you want to take:\n",
      "\n",
      "1.Type 'Car' for car loan\n",
      "\n",
      "2.Type 'House' for house loan\n",
      "\n",
      "3.Type 'Business' for Business loan Car\n",
      "Enter the expected loan amount300000\n",
      "Enter expected EMIs : 30\n",
      "The customer can avail the amount of Rs. 500000\n",
      "Eligible EMIs : 36\n"
     ]
    }
   ],
   "source": [
    "def eligible_loan_amount_and_emi(account_number, account_balance, salary, loan_type, loan_amount_expected, emi_expected):\n",
    "    first_digit=account_number//(10**(len(str(account_number))-1)) \n",
    "    if len(str(account_number))==4 and first_digit==1 and account_balance >= 100000:\n",
    "        if 25000 < salary <=50000 and loan_type == 'Car':\n",
    "            if loan_amount_expected <=500000 and emi_expected <=36:\n",
    "                eligible_loan_amount=500000 \n",
    "                bank_emi_expected=36 \n",
    "                print(\"The customer can avail the amount of Rs.\", eligible_loan_amount)\n",
    "                print(\"Eligible EMIs :\", bank_emi_expected) \n",
    "            else: \n",
    "                print(\"The customer is not eligible for the loan\") \n",
    "        elif 50000 < salary <= 75000 and loan_type == 'House': \n",
    "            if loan_amount_expected <=6000000 and emi_expected <=60: \n",
    "                eligible_loan_amount=6000000 \n",
    "                bank_emi_expected=60 \n",
    "                print(\"The customer can avail the amount of Rs.\", eligible_loan_amount) \n",
    "                print(\"Eligible EMIs :\", bank_emi_expected) \n",
    "            else: \n",
    "                print(\"The customer is not eligible for the loan\") \n",
    "        elif salary > 75000 and loan_type == 'Business': \n",
    "            if loan_amount_expected <=7500000 and emi_expected <=84: \n",
    "                eligible_loan_amount=7500000 \n",
    "                bank_emi_expected=84 \n",
    "                print(\"The customer can avail the amount of Rs.\", eligible_loan_amount) \n",
    "                print(\"Eligible EMIs :\", bank_emi_expected) \n",
    "            else: \n",
    "                print(\"The customer is not eligible for the loan\") \n",
    "        else: \n",
    "             print(\"Invalid loan type or salary\") \n",
    "    else: \n",
    "        if len(str(account_number))!=4 or first_digit!=1: \n",
    "            print(\"Invalid account number\") \n",
    "        elif account_balance < 100000: \n",
    "            print(\"Insufficient account balance\") \n",
    "        else: \n",
    "            print(\"The customer is not eligible for the loan\") \n",
    "############################Reading Customer Inputs######################\n",
    "account_number=int(input(\"Enter Your Account Number : \"))\n",
    "account_balance=int(input(\"Enter Account Balance : \"))\n",
    "salary=int(input(\"Enter Your Monthly Salary : \"))\n",
    "loan_type=input('''Which type of loan do you want to take:\n",
    "\\n1.Type 'Car' for car loan\n",
    "\\n2.Type 'House' for house loan\n",
    "\\n3.Type 'Business' for Business loan ''' )\n",
    "loan_expected=int(input(\"Enter the expected loan amount\"))\n",
    "emi_expected=int(input(\"Enter expected EMIs : \"))\n",
    "eligible_loan_amount_and_emi(account_number, account_balance, salary, loan_type, loan_expected, emi_expected)"
   ]
  },
  {
   "cell_type": "markdown",
   "id": "f17bb7db",
   "metadata": {},
   "source": [
    "<img src=\"https://i.ibb.co/xh0mMMx/p.png\" alt=\"p\" border=\"0\">\n",
    "<img src=\"https://i.ibb.co/ZThYZk1/p.png\" alt=\"p\" border=\"0\">"
   ]
  },
  {
   "cell_type": "code",
   "execution_count": 8,
   "id": "c6063dfc",
   "metadata": {},
   "outputs": [
    {
     "name": "stdout",
     "output_type": "stream",
     "text": [
      "$1 Available : 2\n",
      "$5 Available : 4\n",
      "Purchase Amount: 21\n",
      "No. of $1 needed  : 1\n",
      "No. of $5 needed : 4\n"
     ]
    }
   ],
   "source": [
    "def no_of_notes(no_of_five,no_of_one,rupees_to_make):    \n",
    "    if (no_of_five*5+no_of_one) < rupees_to_make:\n",
    "        print(-1)\n",
    "    else:\n",
    "        if no_of_five*5 >=rupees_to_make:\n",
    "            five_needed=rupees_to_make//5\n",
    "            if rupees_to_make%5 <= no_of_one:\n",
    "                one_needed=rupees_to_make%5\n",
    "                print(\"No. of $1 needed  :\", one_needed)\n",
    "                print(\"No. of $5 needed :\", five_needed)   \n",
    "            else:\n",
    "                print(-1)\n",
    "        else:\n",
    "            five_needed=no_of_five\n",
    "            if (rupees_to_make-(no_of_five*5))<=no_of_one:\n",
    "                one_needed=rupees_to_make-(no_of_five*5)\n",
    "                print(\"No. of $1 needed  :\", one_needed)\n",
    "                print(\"No. of $5 needed :\", five_needed)    \n",
    "            else:\n",
    "                print(-1)\n",
    "no_of_one=int(input(\"$1 Available : \"))\n",
    "no_of_five=int(input(\"$5 Available : \"))\n",
    "rupees_to_make=int(input(\"Purchase Amount: \"))    \n",
    "no_of_notes(no_of_five,no_of_one,rupees_to_make)"
   ]
  },
  {
   "cell_type": "markdown",
   "id": "1e3dea49",
   "metadata": {},
   "source": [
    "<img src=\"https://i.ibb.co/5vZsC6N/p.png\" alt=\"p\" border=\"0\">"
   ]
  },
  {
   "cell_type": "code",
   "execution_count": 9,
   "id": "6267c807",
   "metadata": {},
   "outputs": [
    {
     "name": "stdout",
     "output_type": "stream",
     "text": [
      "Enter the date : 1\n",
      "Enter the month : 9\n",
      "Enter the year : 15\n",
      "2-9-2015\n"
     ]
    }
   ],
   "source": [
    "day=int(input(\"Enter the date : \"))\n",
    "month=int(input(\"Enter the month : \"))\n",
    "year=int(input(\"Enter the year : \"))\n",
    "print(f\"{day+1}-{month}-{2000+year}\")"
   ]
  },
  {
   "cell_type": "markdown",
   "id": "9e1f3707",
   "metadata": {},
   "source": [
    "<img src=\"https://i.ibb.co/5jS3Br1/p.png\" alt=\"p\" border=\"0\">"
   ]
  },
  {
   "cell_type": "code",
   "execution_count": 10,
   "id": "07ca9852",
   "metadata": {},
   "outputs": [
    {
     "name": "stdout",
     "output_type": "stream",
     "text": [
      "Enter the number : 15\n",
      "Zip\n"
     ]
    }
   ],
   "source": [
    "num=int(input(\"Enter the number : \"))\n",
    "if num%3==0:\n",
    "    print('Zip')\n",
    "elif num%5==0:\n",
    "    print('Zap')\n",
    "elif num%15==0:\n",
    "    print('Zoom')\n",
    "else:\n",
    "    print('Invalid')"
   ]
  }
 ],
 "metadata": {
  "kernelspec": {
   "display_name": "Python 3 (ipykernel)",
   "language": "python",
   "name": "python3"
  },
  "language_info": {
   "codemirror_mode": {
    "name": "ipython",
    "version": 3
   },
   "file_extension": ".py",
   "mimetype": "text/x-python",
   "name": "python",
   "nbconvert_exporter": "python",
   "pygments_lexer": "ipython3",
   "version": "3.11.4"
  }
 },
 "nbformat": 4,
 "nbformat_minor": 5
}
