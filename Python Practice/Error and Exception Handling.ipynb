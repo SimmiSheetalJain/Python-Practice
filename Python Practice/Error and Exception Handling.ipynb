{
 "cells": [
  {
   "cell_type": "markdown",
   "id": "4bebd1f5",
   "metadata": {},
   "source": [
    "# Error and Exception Handling in Python"
   ]
  },
  {
   "cell_type": "markdown",
   "id": "5e3203e3",
   "metadata": {},
   "source": [
    "## Types of Error "
   ]
  },
  {
   "cell_type": "markdown",
   "id": "e5c84815",
   "metadata": {},
   "source": [
    "When a python program doesn't execute or behaves abnormally then it occurs due to errors or exceptions in our python code. In every programming language, so in python, we can have following errors:\n",
    "1. Syntax Error \n",
    "2. Logical Error\n",
    "3. Runtime Error"
   ]
  },
  {
   "cell_type": "markdown",
   "id": "4374cf5a",
   "metadata": {},
   "source": [
    "### 1. Syntax Error:\n",
    "Syntax error arises when our code doesn't follow the rules defined in python programming language. Syntax error are also known as parsing error.\\\n",
    "We can also say that, just as we need to be concerned about grammar when we write a sentence to ensure it makes sense, in the same way, we need to be concerned about the syntax of writing code in the Python programming language so that it makes sense to the Python interpreter.\\\n",
    "\n",
    "<b>Note:</b> We should remember that a syntax error can not be handled."
   ]
  },
  {
   "cell_type": "markdown",
   "id": "bfc9e7ae",
   "metadata": {},
   "source": [
    "For example: \n",
    "if you forget to place a colon ':' after defining a function then python interpreter will remind you of your syntax error \"Expected ':'\"."
   ]
  },
  {
   "cell_type": "code",
   "execution_count": 1,
   "id": "9bd2a2ca",
   "metadata": {},
   "outputs": [
    {
     "ename": "SyntaxError",
     "evalue": "expected ':' (2968542387.py, line 2)",
     "output_type": "error",
     "traceback": [
      "\u001b[1;36m  Cell \u001b[1;32mIn[1], line 2\u001b[1;36m\u001b[0m\n\u001b[1;33m    def myfunction()\u001b[0m\n\u001b[1;37m                    ^\u001b[0m\n\u001b[1;31mSyntaxError\u001b[0m\u001b[1;31m:\u001b[0m expected ':'\n"
     ]
    }
   ],
   "source": [
    "#Example \n",
    "def myfunction()\n",
    "    print(\"Hello\")"
   ]
  },
  {
   "cell_type": "markdown",
   "id": "c74dc7c2",
   "metadata": {},
   "source": [
    "### 2. Logical Error: \n",
    "When your program doesn't behave as expected, it might have a logical error. This happens when the logic or reasoning in your code is wrong, leading to unexpected outcomes."
   ]
  },
  {
   "cell_type": "markdown",
   "id": "c4b294f3",
   "metadata": {},
   "source": [
    "For Example: Imagine you want to calculate the percentage of marks obtained out of the maximum marks. If, by mistake, you switch the numerator and denominator in your calculation, your program will yield an incorrect percentage. This kind of mistake is known as a logical error."
   ]
  },
  {
   "cell_type": "code",
   "execution_count": 2,
   "id": "1b22dee4",
   "metadata": {},
   "outputs": [
    {
     "name": "stdout",
     "output_type": "stream",
     "text": [
      "Percentage: 133.33333333333331\n"
     ]
    }
   ],
   "source": [
    "# Example\n",
    "# Incorrect logic: Swapping numerator and denominator in percentage calculation\n",
    "obtained_marks = 75\n",
    "maximum_marks = 100\n",
    "\n",
    "# Incorrect calculation: mistakenly swapping numerator and denominator\n",
    "percentage = maximum_marks / obtained_marks * 100\n",
    "print(\"Percentage:\",percentage)"
   ]
  },
  {
   "cell_type": "markdown",
   "id": "e0789f65",
   "metadata": {},
   "source": [
    "### 3. Runtime Error:\n",
    "Runtime errors occur in exceptional cases during program execution. For instance, when attempting to divide a by b, if b is 0, the program will encounter a runtime error. Unlike syntax errors that are caught before running the code, runtime errors emerge during the execution and often indicate issues that need to be addressed in the program logic. "
   ]
  },
  {
   "cell_type": "code",
   "execution_count": 4,
   "id": "9e3bb40f",
   "metadata": {},
   "outputs": [
    {
     "name": "stdout",
     "output_type": "stream",
     "text": [
      "Enter the Dividend : 45\n",
      "Enter the Divisor : 0\n"
     ]
    },
    {
     "ename": "ZeroDivisionError",
     "evalue": "division by zero",
     "output_type": "error",
     "traceback": [
      "\u001b[1;31m---------------------------------------------------------------------------\u001b[0m",
      "\u001b[1;31mZeroDivisionError\u001b[0m                         Traceback (most recent call last)",
      "Cell \u001b[1;32mIn[4], line 4\u001b[0m\n\u001b[0;32m      2\u001b[0m dividend\u001b[38;5;241m=\u001b[39m\u001b[38;5;28mint\u001b[39m(\u001b[38;5;28minput\u001b[39m(\u001b[38;5;124m\"\u001b[39m\u001b[38;5;124mEnter the Dividend : \u001b[39m\u001b[38;5;124m\"\u001b[39m))\n\u001b[0;32m      3\u001b[0m divisor\u001b[38;5;241m=\u001b[39m\u001b[38;5;28mint\u001b[39m(\u001b[38;5;28minput\u001b[39m(\u001b[38;5;124m\"\u001b[39m\u001b[38;5;124mEnter the Divisor : \u001b[39m\u001b[38;5;124m\"\u001b[39m))\n\u001b[1;32m----> 4\u001b[0m \u001b[38;5;28mprint\u001b[39m(\u001b[38;5;124mf\u001b[39m\u001b[38;5;124m\"\u001b[39m\u001b[38;5;124mQuotient is : \u001b[39m\u001b[38;5;132;01m{\u001b[39;00mdividend\u001b[38;5;241m/\u001b[39mdivisor\u001b[38;5;132;01m}\u001b[39;00m\u001b[38;5;124m\"\u001b[39m)\n",
      "\u001b[1;31mZeroDivisionError\u001b[0m: division by zero"
     ]
    }
   ],
   "source": [
    "#Example:\n",
    "dividend=int(input(\"Enter the Dividend : \"))\n",
    "divisor=int(input(\"Enter the Divisor : \"))\n",
    "print(f\"Quotient is : {dividend/divisor}\")"
   ]
  },
  {
   "cell_type": "markdown",
   "id": "cdd13c06",
   "metadata": {},
   "source": [
    "Hence, to handle an exception in python we need to learn exception handling. Which I have discussed subsequently. "
   ]
  },
  {
   "cell_type": "markdown",
   "id": "a801bf6a",
   "metadata": {},
   "source": [
    "## Exception Handling"
   ]
  },
  {
   "cell_type": "markdown",
   "id": "c06c736e",
   "metadata": {},
   "source": [
    "An exception is an event that disrupt the normal execution of a program.To handle exception in python we use try-except block. "
   ]
  },
  {
   "cell_type": "markdown",
   "id": "0ebd1565",
   "metadata": {},
   "source": [
    "### Python gives us 4 blocks to handle exceptions which are as follows:\n"
   ]
  },
  {
   "cell_type": "markdown",
   "id": "e260d2b2",
   "metadata": {},
   "source": [
    "1. try\n",
    "2. except\n",
    "3. else\n",
    "4. finally"
   ]
  },
  {
   "cell_type": "markdown",
   "id": "e9484eb1",
   "metadata": {},
   "source": [
    "try:\\\n",
    "&emsp;&emsp;#The code that may raise an exception\\\n",
    "except [exception_name] as alias:\\\n",
    "&emsp;&emsp;#The code that will handle the raised exception\\\n",
    "else:\\\n",
    "&emsp;&emsp;#If no exception occurs, this section will be executed\\\n",
    "finally:\\\n",
    "&emsp;&emsp;#This block will always be executed\\"
   ]
  },
  {
   "cell_type": "code",
   "execution_count": 1,
   "id": "a0928563",
   "metadata": {},
   "outputs": [
    {
     "name": "stdout",
     "output_type": "stream",
     "text": [
      "Enter the Dividend : 12\n",
      "Enter the Divisor : 0\n",
      "0 can not be a divisor\n"
     ]
    }
   ],
   "source": [
    "#Example:\n",
    "dividend=int(input(\"Enter the Dividend : \"))\n",
    "divisor=int(input(\"Enter the Divisor : \"))\n",
    "try:\n",
    "    print(f\"Quotient is : {dividend/divisor}\")\n",
    "except ZeroDivisionError: \n",
    "    print(\"0 can not be a divisor\")"
   ]
  },
  {
   "cell_type": "code",
   "execution_count": 3,
   "id": "34441f9e",
   "metadata": {
    "scrolled": true
   },
   "outputs": [
    {
     "name": "stdout",
     "output_type": "stream",
     "text": [
      "Enter the Dividend : 12\n",
      "Enter the Divisor : 0\n",
      "❌ Something Went Wrong!! Try Again\n",
      "🔴End state reached\n",
      "Enter the Dividend : 25\n",
      "Enter the Divisor : 45\n",
      "Quotient is : 0.5555555555555556\n",
      "✔️ No error occurred, Programm executed successfully\n",
      "🔴End state reached\n"
     ]
    }
   ],
   "source": [
    "#Example \n",
    "while (1):\n",
    "    try:\n",
    "        dividend=int(input(\"Enter the Dividend : \"))\n",
    "        divisor=int(input(\"Enter the Divisor : \"))\n",
    "        print(f\"Quotient is : {dividend/divisor}\")\n",
    "    except: \n",
    "        print(\"❌ Something Went Wrong!! Try Again\")\n",
    "    else:                                  #else block is Optional \n",
    "        print(\"✔️ No error occurred, Programm executed successfully\")\n",
    "        break\n",
    "    finally:                               #Finally block is Optional\n",
    "        print(\"🔴End state reached\")"
   ]
  },
  {
   "cell_type": "markdown",
   "id": "72a588aa",
   "metadata": {},
   "source": [
    "### Types of Exceptions:\n",
    "#### Built-in Exceptions:\n",
    "Python has a variety of built-in exceptions, such as ZeroDivisionError, TypeError, and FileNotFoundError. Each corresponds to a specific type of error that may occur during program execution.\n",
    "\n",
    "#### User-Defined Exceptions:\n",
    "Developers can create custom exceptions to handle application-specific errors. This enhances code readability and allows for tailored error management."
   ]
  },
  {
   "cell_type": "markdown",
   "id": "40ac4cb9",
   "metadata": {},
   "source": [
    "### What danger can an exception lead to?<br>\n",
    "✦It can lead to data loss.<br>\n",
    "✦It can terminate the normal flow of a progam.<br>\n",
    "✦It can currupt data files.<br>\n",
    "✦It can block an application.<br>"
   ]
  },
  {
   "cell_type": "markdown",
   "id": "4ebe2028",
   "metadata": {},
   "source": [
    "### Handling Multiple Exception\n",
    "_try_:\\\n",
    "    # Code that might raise an exception\\\n",
    "_except_ (ExceptionType1, ExceptionType2) as e:\\\n",
    "    # Code to handle the exception\n"
   ]
  },
  {
   "cell_type": "markdown",
   "id": "7535e287",
   "metadata": {},
   "source": [
    "## Printing Error message"
   ]
  },
  {
   "cell_type": "markdown",
   "id": "563074d9",
   "metadata": {},
   "source": [
    "#### We can print an error message in two ways:\n",
    "&emsp;&emsp;1. Using sys module \n",
    "&emsp;&emsp;2. Using Exception Class objects"
   ]
  },
  {
   "cell_type": "markdown",
   "id": "5eede8bf",
   "metadata": {},
   "source": [
    "### 1. Using sys module:\n",
    "We can exc_info() function of the system module to pring the class and the  message for the user for an exception. 0th argument of exc_info() represent class of exception and 1st argument of exc_info() represent user's message of exception."
   ]
  },
  {
   "cell_type": "code",
   "execution_count": 1,
   "id": "dca862b1",
   "metadata": {},
   "outputs": [
    {
     "name": "stdout",
     "output_type": "stream",
     "text": [
      "Enter the Dividend : 125\n",
      "Enter the Divisor : 0\n",
      "❌ An Error Occurred ❌\n",
      "Error Class  : <class 'ZeroDivisionError'>\n",
      "Cause of Error : division by zero\n"
     ]
    }
   ],
   "source": [
    "#Example: \n",
    "import sys \n",
    "try:\n",
    "    dividend=int(input(\"Enter the Dividend : \"))\n",
    "    divisor=int(input(\"Enter the Divisor : \"))\n",
    "    print(f\"Quotient is : {dividend/divisor}\")\n",
    "except: \n",
    "    print(\"❌ An Error Occurred ❌\")\n",
    "    print(f\"Error Class  : {sys.exc_info()[0]}\")  #0th argument of exc_info() represent class of exception\n",
    "    print(f\"Cause of Error : {sys.exc_info()[1]}\")  #1st argument of exc_info() represent user's message of exception\n"
   ]
  },
  {
   "cell_type": "markdown",
   "id": "0c8ad8e5",
   "metadata": {},
   "source": [
    "### 2. Using Exception class:\n",
    "Every error has an exception class. We can use these exception classes in priniting relavent error messages."
   ]
  },
  {
   "cell_type": "code",
   "execution_count": 5,
   "id": "824a0cd4",
   "metadata": {},
   "outputs": [
    {
     "name": "stdout",
     "output_type": "stream",
     "text": [
      "Enter the Dividend : 45\n",
      "Enter the Divisor : 0\n",
      "division by zero\n",
      "<class 'ZeroDivisionError'>\n"
     ]
    }
   ],
   "source": [
    "try:\n",
    "    dividend=int(input(\"Enter the Dividend : \"))\n",
    "    divisor=int(input(\"Enter the Divisor : \"))\n",
    "    print(f\"Quotient is : {dividend/divisor}\")\n",
    "except Exception as e: \n",
    "    print(e)\n",
    "    print(e.__class__)"
   ]
  },
  {
   "cell_type": "markdown",
   "id": "1d326904",
   "metadata": {},
   "source": [
    "### Handling Multiple Exception"
   ]
  },
  {
   "cell_type": "markdown",
   "id": "09a2f865",
   "metadata": {},
   "source": [
    "We can handle multiple exceptions at a time in the following ways:"
   ]
  },
  {
   "cell_type": "code",
   "execution_count": 4,
   "id": "6106c30f",
   "metadata": {},
   "outputs": [
    {
     "name": "stdout",
     "output_type": "stream",
     "text": [
      "Enter the Dividend : 12\n",
      "Enter the Divisor : 0\n",
      "❌ An Error Occurred ❌\n",
      " Type of Error: division by zero\n",
      " Class of Erro: <class 'ZeroDivisionError'>\n",
      "🔴--------------------------🔴\n",
      "Enter the Dividend : 45\n",
      "Enter the Divisor : hghg\n",
      "❌ An Error Occurred ❌\n",
      " Type of Error: invalid literal for int() with base 10: 'hghg'\n",
      " Class of Erro: <class 'ValueError'>\n",
      "🔴--------------------------🔴\n",
      "Enter the Dividend : 45\n",
      "Enter the Divisor : 9\n",
      "Quotient is : 5.0\n",
      "✔️ Execution Got Successful\n",
      "🔴--------------------------🔴\n"
     ]
    }
   ],
   "source": [
    "#Example \n",
    "while(1):\n",
    "    try:\n",
    "        dividend=int(input(\"Enter the Dividend : \"))\n",
    "        divisor=int(input(\"Enter the Divisor : \"))\n",
    "        print(f\"Quotient is : {dividend/divisor}\")\n",
    "        #print(num) \n",
    "    except (ZeroDivisionError, ValueError) as obj: \n",
    "        print(\"❌ An Error Occurred ❌\")\n",
    "        print(f\" Type of Error: {obj}\")\n",
    "        print(f\" Class of Erro: {obj.__class__}\")\n",
    "    else:\n",
    "        print(\"✔️ Execution Got Successful\")\n",
    "        break\n",
    "    finally:\n",
    "        print(\"🔴--------------------------🔴\")"
   ]
  },
  {
   "cell_type": "markdown",
   "id": "3bfa07b7",
   "metadata": {},
   "source": [
    "### Writing Multiple except blocks\n",
    "We can see the infinite loop in our previous, if we uncomment the commented line, will note terminate. This is because we have not written break statement in exception block. Because we don't want the program to terminate unless user performs division successfully. So, to break only when a \"Name Error\" occurs, we can write an additional exception block. See, below example:"
   ]
  },
  {
   "cell_type": "code",
   "execution_count": 8,
   "id": "192bad4f",
   "metadata": {
    "scrolled": true
   },
   "outputs": [
    {
     "name": "stdout",
     "output_type": "stream",
     "text": [
      "Enter the Dividend : 45\n",
      "Enter the Divisor : 0\n",
      "❌ An Error Occurred ❌\n",
      " Type of Error: division by zero\n",
      " Class of Erro: <class 'ZeroDivisionError'>\n",
      "🔴🔴🔴🔴🔴🔴🔴🔴🔴🔴🔴🔴🔴🔴\n",
      "Enter the Dividend : 45\n",
      "Enter the Divisor : tf\n",
      "❌ An Error Occurred ❌\n",
      " Type of Error: invalid literal for int() with base 10: 'tf'\n",
      " Class of Erro: <class 'ValueError'>\n",
      "🔴🔴🔴🔴🔴🔴🔴🔴🔴🔴🔴🔴🔴🔴\n",
      "Enter the Dividend : 54\n",
      "Enter the Divisor : 14\n",
      "Quotient is : 3.857142857142857\n",
      "❌ An Error Occurred ❌\n",
      " Type of Error: name 'num' is not defined\n",
      " Class of Erro: <class 'NameError'>\n",
      "Program terminates\n",
      "🔴🔴🔴🔴🔴🔴🔴🔴🔴🔴🔴🔴🔴🔴\n"
     ]
    }
   ],
   "source": [
    "#Example \n",
    "while(1):\n",
    "    try:\n",
    "        dividend=int(input(\"Enter the Dividend : \"))\n",
    "        divisor=int(input(\"Enter the Divisor : \"))\n",
    "        print(f\"Quotient is : {dividend/divisor}\")\n",
    "        print(num) \n",
    "    except (ZeroDivisionError, ValueError) as obj: \n",
    "        print(\"❌ An Error Occurred ❌\")\n",
    "        print(f\" Type of Error: {obj}\")\n",
    "        print(f\" Class of Erro: {obj.__class__}\")\n",
    "    except NameError as ne:\n",
    "        print(\"❌ An Error Occurred ❌\")\n",
    "        print(f\" Type of Error: {ne}\")\n",
    "        print(f\" Class of Erro: {ne.__class__}\")\n",
    "        print(\"Program terminates\")\n",
    "        break\n",
    "    else:\n",
    "        print(\"✔️ Execution Got Successful\")\n",
    "        break\n",
    "    finally:\n",
    "        print(\"🔴🔴🔴🔴🔴🔴🔴🔴🔴🔴🔴🔴🔴🔴\")"
   ]
  },
  {
   "cell_type": "markdown",
   "id": "fafde884",
   "metadata": {},
   "source": [
    "## Python Exception Hierarchy\n",
    "<img src=\"https://pythonwife.com/wp-content/uploads/elif-14-1-750x611.png\">"
   ]
  },
  {
   "cell_type": "markdown",
   "id": "0565e781",
   "metadata": {},
   "source": [
    "The Python exception hierarchy is organized in a tree-like structure, where the base class is _BaseException_. All built-in exceptions in Python inherit from this class. So, in python, every class is a child class of class _BaseException_"
   ]
  },
  {
   "cell_type": "markdown",
   "id": "7311ae07",
   "metadata": {},
   "source": [
    "When an exception occurs in Python, the Python Virtual Machine (PVM) creates an object of the corresponding exception class. The exception class is determined by the type of error that occurred. For example, if a ValueError occurs, the PVM raises the exception and creates an instance of the ValueError class."
   ]
  },
  {
   "cell_type": "markdown",
   "id": "6e3fc900",
   "metadata": {},
   "source": [
    "then the PVM looks for corresponding exception handling code, if it finds the exception handling code then the program flow doesn't get disrupted. But when it doesn't get exception handling code then it disrupts the flow of execution of code."
   ]
  },
  {
   "cell_type": "markdown",
   "id": "e9084790",
   "metadata": {},
   "source": [
    "<h1 >Keyword<span style=\"color:green;\"> raise </span>in Python</h1> "
   ]
  },
  {
   "cell_type": "markdown",
   "id": "1227df6a",
   "metadata": {},
   "source": [
    "An exception can be raised forcefully by usign _raise_ statement. We use _raise_ statement when we want to throw exception for a specific condition. _raise_ keyword will raise an error and will stop the control flow of a program. Then it will bring up this error in exception handler so it can be handled."
   ]
  },
  {
   "cell_type": "markdown",
   "id": "6e0cb44d",
   "metadata": {},
   "source": [
    "#### Syntax:\n",
    "&emsp;&emsp;&emsp;&emsp; raise ExceptionName(\"exception message\")"
   ]
  },
  {
   "cell_type": "markdown",
   "id": "ef11c87a",
   "metadata": {},
   "source": [
    "_Note_ :exception message is optional. We can also print this message in the _except_ block."
   ]
  },
  {
   "cell_type": "markdown",
   "id": "3e6840af",
   "metadata": {},
   "source": [
    "#### Example 1: Without passing error message"
   ]
  },
  {
   "cell_type": "code",
   "execution_count": 11,
   "id": "d0e218b6",
   "metadata": {},
   "outputs": [
    {
     "name": "stdout",
     "output_type": "stream",
     "text": [
      "Enter your age : 14\n",
      "You cannot vote. Your age is below 18.\n"
     ]
    }
   ],
   "source": [
    "try:\n",
    "    age=int(input(\"Enter your age : \"))\n",
    "    if age <= 17:\n",
    "        raise ValueError  #if We are not writing error message then we can print int except block\n",
    "    print(f\"Your age is {age}\")\n",
    "except ValueError:\n",
    "    print(\"You cannot vote. Your age is below 18.\")"
   ]
  },
  {
   "cell_type": "markdown",
   "id": "d0c52467",
   "metadata": {},
   "source": [
    "#### Example 2: With passing error  message\n",
    "Now, we need to use object of the specific exception class to get the message printed."
   ]
  },
  {
   "cell_type": "code",
   "execution_count": 12,
   "id": "0765c5eb",
   "metadata": {},
   "outputs": [
    {
     "name": "stdout",
     "output_type": "stream",
     "text": [
      "Enter your age : 15\n",
      "You cannot vote. Your age is below 18.\n"
     ]
    }
   ],
   "source": [
    "try:\n",
    "    age=int(input(\"Enter your age : \"))\n",
    "    if age <= 17:\n",
    "        raise ValueError(\"You cannot vote. Your age is below 18.\")\n",
    "    print(f\"Your age is {age}\")\n",
    "except ValueError as v:\n",
    "    print(v)"
   ]
  },
  {
   "cell_type": "markdown",
   "id": "3c014362",
   "metadata": {},
   "source": [
    "## Question "
   ]
  },
  {
   "cell_type": "markdown",
   "id": "157efa13",
   "metadata": {},
   "source": [
    "### Write a program to ask the use to input two integers and perform division. Make sure your program handles following exceptions:\n",
    "&emsp;&emsp;If the user enteres a non-integer value then ask him two enter an integer value.\\\n",
    "&emsp;&emsp;If the user enteres the divisor as zero, ask him two enter an integer.\\\n",
    "&emsp;&emsp;Show appropriate messages wherever needed"
   ]
  },
  {
   "cell_type": "code",
   "execution_count": 7,
   "id": "a2d53abd",
   "metadata": {},
   "outputs": [
    {
     "name": "stdout",
     "output_type": "stream",
     "text": [
      "Enter the dividend : 85\n",
      "Enter the divisor:0\n",
      "Please enter a non-zero divisor!!\n",
      "\n",
      "Re-enter new values\n",
      "Enter the dividend : 85\n",
      "Enter the divisor:uygug\n",
      "Please enter an integer value for performing divison!!\n",
      "\n",
      "Re-enter new values\n",
      "Enter the dividend : 85\n",
      "Enter the divisor:17\n",
      "85 ÷ 17 = 5.0\n"
     ]
    }
   ],
   "source": [
    "while True:\n",
    "    try: \n",
    "        dividend=int(input(\"Enter the dividend : \"))\n",
    "        divisor=int(input(\"Enter the divisor:\"))\n",
    "        quotient=dividend/divisor\n",
    "        if divisor==0:\n",
    "            raise ZeroDivisionError\n",
    "    except ZeroDivisionError:\n",
    "        print(\"Please enter a non-zero divisor!!\\n\\nRe-enter new values\")\n",
    "    except ValueError as ve:\n",
    "        print(\"Please enter an integer value for performing divison!!\\n\\nRe-enter new values\")\n",
    "    else:\n",
    "        print(f\"{dividend} ÷ {divisor} = {quotient}\")\n",
    "        break"
   ]
  },
  {
   "cell_type": "markdown",
   "id": "8df35e4f",
   "metadata": {},
   "source": [
    "### User-defined exception"
   ]
  },
  {
   "cell_type": "markdown",
   "id": "adacc207",
   "metadata": {},
   "source": [
    "We saw that ZeroDivisionError, NameError, ValueError, TypeError, etc. are built-in errors.<br>\n",
    "There can be user-defined exceptions also. These exceptions are created by programmers. For example, if a user withdraw money more than he has in his account, then there is need to write a piece of code to handle this error. And This code will allow programmer to handle the specific error and print more meaningful message. "
   ]
  },
  {
   "cell_type": "markdown",
   "id": "4ed508fc",
   "metadata": {},
   "source": [
    "### Example:"
   ]
  },
  {
   "cell_type": "markdown",
   "id": "d8b9e036",
   "metadata": {},
   "source": [
    "Suppose, we don't want to perform division when our divisor is five. Then, we need to define an except block for handling this exception. To define an except block for handling FiveDivisonError, we need to create a FiveDivisonError class. This class will inherit the base Exception class. Here's how we can handle this FiveDivisonError."
   ]
  },
  {
   "cell_type": "code",
   "execution_count": 11,
   "id": "5443904a",
   "metadata": {},
   "outputs": [
    {
     "name": "stdout",
     "output_type": "stream",
     "text": [
      "Enter the dividend : 45\n",
      "Enter the divisor:0\n",
      "division by zero\n"
     ]
    }
   ],
   "source": [
    "class FiveDivisionError(Exception):\n",
    "    '''This class will be called when FiveDivisionError is raised'''\n",
    "    pass\n",
    "try:\n",
    "    dividend=int(input(\"Enter the dividend : \"))\n",
    "    divisor=int(input(\"Enter the divisor:\"))\n",
    "    quotient=dividend/divisor\n",
    "    if divisor==5:\n",
    "        raise FiveDivisionError(\"Divison by 5 is not possible\")\n",
    "except (FiveDivisionError,ZeroDivisionError) as var:\n",
    "    print(var)"
   ]
  },
  {
   "cell_type": "markdown",
   "id": "4ab2948d",
   "metadata": {},
   "source": [
    "### Question: Write a python program that allows user to withdraw money if he enters correct password. Also Handle following exceptions:\n",
    "### 1. If account balance goes below Rs. 1000, show an error message \"Insufficient Balance\" \n",
    "### 2. If he enters wrong pin more than 3 times, block user's account for an hour.\n",
    "You can use hardcoded value"
   ]
  },
  {
   "cell_type": "code",
   "execution_count": 15,
   "id": "e7b5dd53",
   "metadata": {},
   "outputs": [],
   "source": [
    "import time \n",
    "class InsufficientBalanceError(Exception):\n",
    "    pass\n",
    "class WrongPinAttemptsLimitExceedError(Exception):\n",
    "    pass\n",
    "attempts=1\n",
    "def withdraw():\n",
    "    global attempts\n",
    "    balance=10000          #Hard-coded \n",
    "    Acc_pin=4567\n",
    "    read_pin=int(input(\"Enter Pin: \"))\n",
    "    if read_pin==Acc_pin:\n",
    "        withdraw_amt=float(input(\"Enter amount : \"))\n",
    "        temp_amt=balance-withdraw_amt\n",
    "        try:\n",
    "            if temp_amt < 1000:\n",
    "                raise InsufficientBalanceError(\"Insufficient Balance!!\")\n",
    "        except Exception as e:\n",
    "            print(e)\n",
    "        else:\n",
    "            balance-=withdraw_amt\n",
    "            print(f\"Transaction Successful!!\\nCurrent Account Balance: {balance}\")\n",
    "    else:\n",
    "        ans=input(\"Wrong Pin!!\\nDo you want to continue again(y/n? \")\n",
    "        if ans.lower()=='y':\n",
    "            attempts+=1\n",
    "            try:\n",
    "                if attempts==4:\n",
    "                    raise WrongPinAttemptsLimitExceedError(\"Wrong Pin Attempts Limit Exceed!!Your account is blocked for an hour\")\n",
    "                    time.sleep()\n",
    "            except Exception as e:\n",
    "                print(e)\n",
    "            else:\n",
    "                withdraw()\n",
    "\n",
    "        else:\n",
    "            print(\"Thank you\")\n"
   ]
  },
  {
   "cell_type": "code",
   "execution_count": 16,
   "id": "6f4f2e6d",
   "metadata": {},
   "outputs": [
    {
     "name": "stdout",
     "output_type": "stream",
     "text": [
      "Enter Pin: 4567\n",
      "Enter amount : 2000\n",
      "Transaction Successful!!\n",
      "cCurrent Account Balance: 8000.0\n"
     ]
    }
   ],
   "source": [
    "#Succesfull Withdraw\n",
    "withdraw()"
   ]
  },
  {
   "cell_type": "code",
   "execution_count": 18,
   "id": "06df50de",
   "metadata": {},
   "outputs": [
    {
     "name": "stdout",
     "output_type": "stream",
     "text": [
      "Enter Pin: 4562\n",
      "Wrong Pin!!\n",
      "Do you want to continue again(y/n? y\n",
      "Enter Pin: 987878\n",
      "Wrong Pin!!\n",
      "Do you want to continue again(y/n? y\n",
      "Wrong Pin Attempts Limit Exceed!!Your account is blocked for an hour\n"
     ]
    }
   ],
   "source": [
    "#Attempt\n",
    "withdraw()"
   ]
  },
  {
   "cell_type": "markdown",
   "id": "48794201",
   "metadata": {},
   "source": [
    "# The Major Use of Exception Handling "
   ]
  },
  {
   "cell_type": "markdown",
   "id": "7806ffc4",
   "metadata": {},
   "source": [
    "1. In File Handling \n",
    "2. In PDBC (Python Database Connectivity)"
   ]
  },
  {
   "cell_type": "markdown",
   "id": "4c8accfc",
   "metadata": {},
   "source": [
    "## 1. In File Handling"
   ]
  },
  {
   "cell_type": "markdown",
   "id": "b4828451",
   "metadata": {},
   "source": [
    "When we are opening a file which doesn't exist or mistakenly we give a wrong path, we get a \"FileNotFoundError\".Then, we need to handle this exception to avoid disruption in execution flow of the program."
   ]
  },
  {
   "cell_type": "code",
   "execution_count": 1,
   "id": "38979d5d",
   "metadata": {},
   "outputs": [
    {
     "name": "stdout",
     "output_type": "stream",
     "text": [
      "Anjali Jain\n"
     ]
    }
   ],
   "source": [
    "#example:\n",
    "try:\n",
    "    f1=open(\"file.txt\",\"r\")\n",
    "    data=f1.read()\n",
    "    print(data)\n",
    "except Exception as e:\n",
    "    print(e)\n",
    "else:\n",
    "    f1.close()"
   ]
  },
  {
   "cell_type": "markdown",
   "id": "4ad5cebd",
   "metadata": {},
   "source": [
    "Since, file exists in the current directory, it didn't show us any error. Now, suppose we entered 'file_'"
   ]
  },
  {
   "cell_type": "code",
   "execution_count": 1,
   "id": "423c3295",
   "metadata": {},
   "outputs": [
    {
     "name": "stdout",
     "output_type": "stream",
     "text": [
      "File could not be found!!\n"
     ]
    }
   ],
   "source": [
    "#example:\n",
    "try:\n",
    "    f1=open(\"file_.txt\",\"r\")\n",
    "    data=f1.read()\n",
    "    print(data)\n",
    "except Exception as e:\n",
    "    print(\"File could not be found!!\")\n",
    "else:\n",
    "    f1.close()"
   ]
  },
  {
   "cell_type": "markdown",
   "id": "45d1b5af",
   "metadata": {},
   "source": [
    "#### Note:  The 'finally' blobk is used to close file and database connection if any technical error distrupts execution flow."
   ]
  },
  {
   "cell_type": "markdown",
   "id": "7620533e",
   "metadata": {},
   "source": [
    "## 2. In Python Database Connection"
   ]
  },
  {
   "cell_type": "code",
   "execution_count": 7,
   "id": "dfbbbdcc",
   "metadata": {},
   "outputs": [
    {
     "name": "stdout",
     "output_type": "stream",
     "text": [
      "Couldn't Connect\n",
      "Execution Completes\n"
     ]
    }
   ],
   "source": [
    "import mysql.connector\n",
    "try:\n",
    "    mysql.connector.connect(\n",
    "        user=\"root\",\n",
    "        passward=\"12345678\",\n",
    "        host=\"localhost\",\n",
    "        port=3306,\n",
    "        database='sql_hr'\n",
    "    )\n",
    "except:\n",
    "    print(\"Couldn't Connect\")\n",
    "print(\"Execution Completes\")"
   ]
  },
  {
   "cell_type": "markdown",
   "id": "288e904b",
   "metadata": {},
   "source": [
    "As it can be seen, it couldn't find the database, so rather than disrupting the flow of execution, it shwoed the message and executed the entire program."
   ]
  }
 ],
 "metadata": {
  "kernelspec": {
   "display_name": "Python 3 (ipykernel)",
   "language": "python",
   "name": "python3"
  },
  "language_info": {
   "codemirror_mode": {
    "name": "ipython",
    "version": 3
   },
   "file_extension": ".py",
   "mimetype": "text/x-python",
   "name": "python",
   "nbconvert_exporter": "python",
   "pygments_lexer": "ipython3",
   "version": "3.11.4"
  }
 },
 "nbformat": 4,
 "nbformat_minor": 5
}
