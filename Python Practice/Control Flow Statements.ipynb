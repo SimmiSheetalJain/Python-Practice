{
 "cells": [
  {
   "cell_type": "markdown",
   "id": "ab338a56",
   "metadata": {},
   "source": [
    "# Decision Control Statements"
   ]
  },
  {
   "cell_type": "markdown",
   "id": "fb3b7d30",
   "metadata": {},
   "source": [
    "Working of if else statement is same but the syntax is different. You can see here in the example.<br>\n",
    "<b>Things to remember:</b> <br> \n",
    "1. We can not write multiple else statement with one if statement.<br>\n",
    "2. One if can be followed by only one else but it can be followed by multiple if statement"
   ]
  },
  {
   "cell_type": "code",
   "execution_count": 1,
   "id": "64ae4821",
   "metadata": {},
   "outputs": [
    {
     "name": "stdout",
     "output_type": "stream",
     "text": [
      "X is negative\n"
     ]
    }
   ],
   "source": [
    "#Example : \n",
    "x=-10\n",
    "if x>0:\n",
    "    print(\"X is positive\")\n",
    "else:\n",
    "    print(\"X is negative\")"
   ]
  },
  {
   "cell_type": "code",
   "execution_count": 2,
   "id": "77966785",
   "metadata": {},
   "outputs": [
    {
     "name": "stdout",
     "output_type": "stream",
     "text": [
      "Enter the number  :  -89\n",
      "Number is negative\n"
     ]
    }
   ],
   "source": [
    "#elif (Nothing but else if of C++ but here in python a bit different in terms of syntax)\n",
    "\n",
    "x=input(\"Enter the number  :  \")\n",
    "x=int(x)                        \n",
    "\n",
    "if x==0:\n",
    "    print(\"This is equal to zero.\")\n",
    "elif x > 0:\n",
    "    print(\"Number is positive\")\n",
    "elif x < 0:\n",
    "    print(\"Number is negative\")\n",
    "else:\n",
    "    print(\"Invaild input\")"
   ]
  },
  {
   "cell_type": "markdown",
   "id": "6b7992e2",
   "metadata": {},
   "source": [
    "<b>Note:</b> If we want that only one block which is true should be executed then we need to use elif.But if we want to execute every statement which is true then we can use 'if' as shown below."
   ]
  },
  {
   "cell_type": "code",
   "execution_count": 3,
   "id": "d89169e2",
   "metadata": {},
   "outputs": [
    {
     "name": "stdout",
     "output_type": "stream",
     "text": [
      "I am 5\n",
      "I am 10\n",
      "I am 45\n"
     ]
    }
   ],
   "source": [
    "#Example\n",
    "x=5\n",
    "y=10\n",
    "z=45\n",
    "if x==5:\n",
    "    print(\"I am 5\")\n",
    "if y==10:\n",
    "    print(\"I am 10\")\n",
    "if z==45:\n",
    "    print(\"I am 45\")"
   ]
  },
  {
   "cell_type": "markdown",
   "id": "0e2cc6e1",
   "metadata": {},
   "source": [
    "### Check Whether entered number is even or odd"
   ]
  },
  {
   "cell_type": "code",
   "execution_count": 4,
   "id": "1e4add61",
   "metadata": {},
   "outputs": [
    {
     "name": "stdout",
     "output_type": "stream",
     "text": [
      "Enter the number  :  78\n",
      "78 is even\n"
     ]
    }
   ],
   "source": [
    "\n",
    "a=int(input(\"Enter the number  :  \"))                      \n",
    "x=abs(a)\n",
    "if x==0:\n",
    "    print(\"This is 0. Neither even nor odd\")\n",
    "elif (x%2)!=0:\n",
    "    print(\"{} is an odd number\".format(a))\n",
    "else:\n",
    "    print(\"{} is even\".format(a))"
   ]
  },
  {
   "cell_type": "markdown",
   "id": "f66289e5",
   "metadata": {},
   "source": [
    "## Python uses indentation to define a block. "
   ]
  },
  {
   "cell_type": "markdown",
   "id": "319f78d7",
   "metadata": {},
   "source": [
    "For Example: after 'if', next line of code starts after four charater space and all the code to be executed under that block is written axactly below i.e. after taking four character space. This defines that those continuous lines belong to a single block of code."
   ]
  },
  {
   "cell_type": "code",
   "execution_count": 1,
   "id": "b1b57716",
   "metadata": {},
   "outputs": [
    {
     "name": "stdout",
     "output_type": "stream",
     "text": [
      "I am inside if block\n",
      "I am outside if block\n"
     ]
    }
   ],
   "source": [
    "#Example : \n",
    "x=1\n",
    "if x==1:\n",
    "    print(\"I am inside if block\")\n",
    "# a code block starts with indentation and ends at first unindented statement.\n",
    "print(\"I am outside if block\")"
   ]
  },
  {
   "cell_type": "markdown",
   "id": "add776ff",
   "metadata": {},
   "source": [
    "### Nested if : If inside if(We can use as many if as we want)"
   ]
  },
  {
   "cell_type": "code",
   "execution_count": 2,
   "id": "0cf542a6",
   "metadata": {},
   "outputs": [
    {
     "name": "stdout",
     "output_type": "stream",
     "text": [
      "First if\n",
      "Second if\n",
      "Third if\n",
      "Forth if\n"
     ]
    }
   ],
   "source": [
    "if(1):\n",
    "    print(\"First if\")\n",
    "    if(1):\n",
    "        print(\"Second if\")\n",
    "        if(1):\n",
    "            print(\"Third if\")\n",
    "            if(1):\n",
    "                print(\"Forth if\")"
   ]
  },
  {
   "cell_type": "markdown",
   "id": "e4c45a67",
   "metadata": {},
   "source": [
    "Only syntax of nested if is different in python but the working is as same as it is in other programming language"
   ]
  },
  {
   "cell_type": "markdown",
   "id": "6f591d30",
   "metadata": {},
   "source": [
    "### WAP to check the grestest of the three numbers entered by the user using nested if"
   ]
  },
  {
   "cell_type": "code",
   "execution_count": null,
   "id": "ba29e2bc",
   "metadata": {},
   "outputs": [],
   "source": [
    "x=int(input(\"Enter the first number : \"))\n",
    "y=int(input(\"Enter the second number : \"))\n",
    "z=int(input(\"Enter the third number : \"))\n",
    "if(x>y):\n",
    "    if(x>z):\n",
    "        print(\"{} is greatest among the three entered number\".format(x))\n",
    "    else:\n",
    "        print(\"{} is greatest among the three entered number\".format(z))        \n",
    "else:\n",
    "    if(y>z):\n",
    "        print(\"{} is the is greatest among the three entered number\".format(y))\n",
    "    else:\n",
    "        print(\"{} is greatest among the three entered number\".format(z))\n",
    "           "
   ]
  },
  {
   "cell_type": "markdown",
   "id": "7a8c0eaa",
   "metadata": {},
   "source": [
    "# Loops in Python"
   ]
  },
  {
   "cell_type": "markdown",
   "id": "7fcf2f3f",
   "metadata": {},
   "source": [
    "In Python, we have two loops while and for. Working is same but syntax is different"
   ]
  },
  {
   "cell_type": "code",
   "execution_count": null,
   "id": "11c32702",
   "metadata": {},
   "outputs": [],
   "source": [
    "x=int(input(\"Enter a number to check whether it is prime or not  : \"))\n",
    "flag=0\n",
    "i=2\n",
    "\n",
    "while(i <= x/2 ):\n",
    "    if((x%i)==0):\n",
    "        flag=flag+1\n",
    "    i=i+1\n",
    "        \n",
    "if(flag==0):\n",
    "    print(\" {} is a prime number\".format(x))\n",
    "else:\n",
    "    print(\" {} is not prime\".format(x))\n"
   ]
  },
  {
   "cell_type": "markdown",
   "id": "565237c0",
   "metadata": {},
   "source": [
    "# WAP  to accept an string from the user and print it without vowels"
   ]
  },
  {
   "cell_type": "code",
   "execution_count": 5,
   "id": "c3de304e",
   "metadata": {},
   "outputs": [
    {
     "name": "stdout",
     "output_type": "stream",
     "text": [
      "Enter a  string : Simmi\n",
      "S\n",
      "m\n",
      "m\n"
     ]
    }
   ],
   "source": [
    "s=input(\"Enter a  string : \")\n",
    "l=len(s)\n",
    "i=0\n",
    "j=0\n",
    "isVowel=0\n",
    "v=\"aeiou\"\n",
    "while(i<l):\n",
    "    while(j<len(v)):\n",
    "        if(s[i]==v[j]):\n",
    "            isVowel=isVowel+1\n",
    "        j=j+1\n",
    "    \n",
    "    if(isVowel==0):\n",
    "        print(s[i])\n",
    "    \n",
    "    i=i+1\n",
    "    isVowel=0\n",
    "    j=0\n",
    "\n",
    " "
   ]
  },
  {
   "cell_type": "markdown",
   "id": "8cd37823",
   "metadata": {},
   "source": [
    "## Else statement for loop"
   ]
  },
  {
   "cell_type": "markdown",
   "id": "f077054a",
   "metadata": {},
   "source": [
    "How can we know whether a loop has run all of its iterations or got terminated without running all of its iterations"
   ]
  },
  {
   "cell_type": "markdown",
   "id": "16b43ce0",
   "metadata": {},
   "source": [
    "We can know by using else statement following while block complete execution. \n",
    "For Example: You can see here if the look didn't run completely it didn't print else statement\n",
    "    "
   ]
  },
  {
   "cell_type": "code",
   "execution_count": 1,
   "id": "ee3f3c54",
   "metadata": {},
   "outputs": [
    {
     "name": "stdout",
     "output_type": "stream",
     "text": [
      "1\n",
      "2\n",
      "3\n",
      "4\n",
      "5\n",
      "6\n",
      "7\n",
      "8\n",
      "9\n",
      "10\n",
      "11\n",
      "12\n",
      "13\n",
      "14\n",
      "15\n",
      "16\n",
      "17\n",
      "18\n",
      "19\n",
      "20\n",
      "21\n",
      "22\n",
      "23\n",
      "24\n",
      "25\n",
      "26\n",
      "27\n",
      "28\n",
      "29\n",
      "30\n",
      "31\n",
      "32\n",
      "33\n",
      "34\n",
      "35\n",
      "36\n",
      "37\n",
      "38\n",
      "39\n",
      "40\n"
     ]
    }
   ],
   "source": [
    "i=1\n",
    "while(i<50):\n",
    "    print(i)\n",
    "    if(i==40):\n",
    "        break\n",
    "    i=i+1\n",
    "    \n",
    "else:\n",
    "    print(\"Loop executed succesfully for all iterations\")"
   ]
  },
  {
   "cell_type": "markdown",
   "id": "4e730a5d",
   "metadata": {},
   "source": [
    "## Now, observe the below codes "
   ]
  },
  {
   "cell_type": "markdown",
   "id": "577fd49e",
   "metadata": {},
   "source": [
    "Code 1: "
   ]
  },
  {
   "cell_type": "code",
   "execution_count": 2,
   "id": "0d243d52",
   "metadata": {},
   "outputs": [
    {
     "name": "stdout",
     "output_type": "stream",
     "text": [
      "1\n",
      "2\n",
      "3\n",
      "4\n",
      "5\n",
      "6\n",
      "7\n",
      "8\n",
      "9\n",
      "10\n",
      "11\n",
      "12\n",
      "13\n",
      "14\n",
      "15\n",
      "16\n",
      "17\n",
      "18\n",
      "19\n",
      "20\n",
      "21\n",
      "22\n",
      "23\n",
      "24\n",
      "25\n",
      "26\n",
      "27\n",
      "28\n",
      "29\n",
      "30\n",
      "31\n",
      "32\n",
      "33\n",
      "34\n",
      "35\n",
      "36\n",
      "37\n",
      "38\n",
      "39\n",
      "40\n",
      "41\n",
      "42\n",
      "43\n",
      "44\n",
      "45\n",
      "46\n",
      "47\n",
      "48\n",
      "49\n",
      "Loop executed succesfully for all iterations\n"
     ]
    }
   ],
   "source": [
    "i=1\n",
    "while(i<50):\n",
    "    print(i)\n",
    "    i=i+1\n",
    "    \n",
    "else:\n",
    "    print(\"Loop executed succesfully for all iterations\")"
   ]
  },
  {
   "cell_type": "markdown",
   "id": "a640af7a",
   "metadata": {},
   "source": [
    "Code 2: "
   ]
  },
  {
   "cell_type": "code",
   "execution_count": 3,
   "id": "eea83327",
   "metadata": {},
   "outputs": [
    {
     "name": "stdout",
     "output_type": "stream",
     "text": [
      "1\n",
      "2\n",
      "3\n",
      "4\n",
      "5\n",
      "6\n",
      "7\n",
      "8\n",
      "9\n",
      "10\n",
      "11\n",
      "12\n",
      "13\n",
      "14\n",
      "15\n",
      "16\n",
      "17\n",
      "18\n",
      "19\n",
      "20\n",
      "21\n",
      "22\n",
      "23\n",
      "24\n",
      "25\n",
      "26\n",
      "27\n",
      "28\n",
      "29\n",
      "30\n",
      "31\n",
      "32\n",
      "33\n",
      "34\n",
      "35\n",
      "36\n",
      "37\n",
      "38\n",
      "39\n",
      "40\n",
      "41\n",
      "42\n",
      "43\n",
      "44\n",
      "45\n",
      "46\n",
      "47\n",
      "48\n",
      "49\n",
      "Loop executed succesfully for all iterations\n"
     ]
    }
   ],
   "source": [
    "i=1\n",
    "while(i<50):\n",
    "    print(i)\n",
    "    i=i+1\n",
    "    \n",
    "print(\"Loop executed succesfully for all iterations\")"
   ]
  },
  {
   "cell_type": "markdown",
   "id": "5f49605a",
   "metadata": {},
   "source": [
    "In both codes the statement \"Loop executed succesfully for all iterations\" gets printed. In the Code 1, it is getting printed because the loop has run all the iterations while in code 2, it's been printed because it is a statement written after while loop code, had there been a break in the loop, then code 1 would not have printed  \"Loop executed succesfully for all iterations\" while code 2 will print  no matter loop runs completely or breaks in between"
   ]
  },
  {
   "cell_type": "markdown",
   "id": "b035fc78",
   "metadata": {},
   "source": [
    "# Break and Continue in looping"
   ]
  },
  {
   "cell_type": "markdown",
   "id": "62120485",
   "metadata": {},
   "source": [
    "'break' is used for terminating a loop after meeting a specific condition and 'continue' is used to skip an interation if we don't want to execute the code written after 'continue'"
   ]
  },
  {
   "cell_type": "code",
   "execution_count": 2,
   "id": "ceb1c042",
   "metadata": {},
   "outputs": [
    {
     "name": "stdout",
     "output_type": "stream",
     "text": [
      "2 4 6 8 10 12 14 16 18 20 "
     ]
    }
   ],
   "source": [
    "x=1\n",
    "while x!=21:\n",
    "    if((x%2)==0):\n",
    "        print(x, end=\" \")\n",
    "        x=x+1\n",
    "    else:\n",
    "        x=x+1\n",
    "        continue"
   ]
  },
  {
   "cell_type": "code",
   "execution_count": 3,
   "id": "d74aa3a7",
   "metadata": {},
   "outputs": [
    {
     "name": "stdout",
     "output_type": "stream",
     "text": [
      "1\n",
      "2\n",
      "3\n",
      "4\n",
      "5\n",
      "6\n",
      "7\n",
      "8\n",
      "9\n",
      "10\n",
      "11\n",
      "12\n",
      "13\n",
      "14\n",
      "15\n",
      "16\n",
      "17\n",
      "18\n",
      "19\n",
      "20\n",
      "21\n",
      "22\n",
      "23\n",
      "24\n",
      "25\n",
      "26\n",
      "27\n",
      "28\n",
      "29\n",
      "30\n",
      "31\n",
      "32\n",
      "33\n",
      "34\n",
      "35\n",
      "36\n",
      "37\n",
      "38\n",
      "39\n",
      "40\n"
     ]
    }
   ],
   "source": [
    "i=1\n",
    "while(i<50):\n",
    "    print(i)\n",
    "    if(i==40):\n",
    "        break\n",
    "    i=i+1\n",
    "    \n",
    "else:\n",
    "    print(\"Loop executed succesfully for all iterations\")\n"
   ]
  },
  {
   "cell_type": "markdown",
   "id": "08fe019d",
   "metadata": {},
   "source": [
    "# Structural Pattern Matching"
   ]
  },
  {
   "cell_type": "markdown",
   "id": "e5c9a49f",
   "metadata": {},
   "source": [
    "Structural pattern matching is as same as switch-case statement in C or C++ or Java. It is an alternative to if-elif. Here, subject is the value to be matched with an object of a case statement. The last case, \"case _: \", acts like a default case."
   ]
  },
  {
   "cell_type": "markdown",
   "id": "31540922",
   "metadata": {},
   "source": [
    "### Syntax: "
   ]
  },
  {
   "cell_type": "markdown",
   "id": "4a5ee278",
   "metadata": {},
   "source": [
    "match subject:<br>\n",
    "&emsp;&emsp;case object1:<br>\n",
    "&emsp;&emsp;&emsp;&emsp;//code<br> \n",
    "&emsp;&emsp;case object2:<br>\n",
    "&emsp;&emsp;&emsp;&emsp;//code<br>\n",
    "&emsp;&emsp;&emsp;&emsp;:<br>\n",
    "&emsp;&emsp;&emsp;&emsp;:<br>\n",
    "&emsp;&emsp;case _:<br>\n",
    "&emsp;&emsp;&emsp;&emsp;if nothing matched this block o code will be executed <br>"
   ]
  },
  {
   "cell_type": "markdown",
   "id": "f0934870",
   "metadata": {},
   "source": [
    "<b>Example :</b>"
   ]
  },
  {
   "cell_type": "code",
   "execution_count": 5,
   "id": "95330c5b",
   "metadata": {},
   "outputs": [
    {
     "name": "stdout",
     "output_type": "stream",
     "text": [
      "Enter you name:  Shivani\n",
      "Hi!! Shivani\n"
     ]
    }
   ],
   "source": [
    "n=input(\"Enter you name:  \")\n",
    "\n",
    "match n:\n",
    "    case \"Simmi\":\n",
    "        print(\"Hi!! Simmi\")\n",
    "    case \"Shivani\":\n",
    "        print(\"Hi!! Shivani\")\n",
    "    case _:\n",
    "        print(\"***Data couldn't be found***\")\n",
    "        "
   ]
  },
  {
   "cell_type": "markdown",
   "id": "4a8c78a5",
   "metadata": {},
   "source": [
    "### Using logical operators "
   ]
  },
  {
   "cell_type": "markdown",
   "id": "70ee816e",
   "metadata": {},
   "source": [
    "<b>Example :</b>"
   ]
  },
  {
   "cell_type": "code",
   "execution_count": 7,
   "id": "6e7d6f59",
   "metadata": {},
   "outputs": [
    {
     "name": "stdout",
     "output_type": "stream",
     "text": [
      "Enter you name:  Sheetal\n",
      "Hi!! Simmi\n"
     ]
    }
   ],
   "source": [
    "n=input(\"Enter you name:  \")\n",
    "\n",
    "match n:\n",
    "    case \"Simmi\"|\"Sheetal\":\n",
    "        print(\"Hi!! Simmi\")\n",
    "    case \"Shivani\"|\"Shivi\":\n",
    "        print(\"Hi!! Shivani\")\n",
    "    case _:\n",
    "        print(\"***Data couldn't be found***\")"
   ]
  },
  {
   "cell_type": "markdown",
   "id": "6723147c",
   "metadata": {},
   "source": [
    "### Using if stament in object of a case statment"
   ]
  },
  {
   "cell_type": "code",
   "execution_count": 13,
   "id": "4f5f6ab9",
   "metadata": {},
   "outputs": [
    {
     "name": "stdout",
     "output_type": "stream",
     "text": [
      "Enter an integer:  Mahaveer\n",
      "***Data couldn't be found***\n"
     ]
    }
   ],
   "source": [
    "n=input(\"Enter an integer:  \")\n",
    "\n",
    "match n:\n",
    "    case  \"Anjali\" if n in [\"Simmi\",\"Sheetal\", \"Anjali\",\"Shivani\",\"Mahaveer\"]:\n",
    "        print(\"Hi!! Sheetal\")\n",
    "    case \"Shivi\" if n == \"Shivi\":\n",
    "        print(\"Hi!! Shivani\")\n",
    "    case _:\n",
    "        print(\"***Data couldn't be found***\")"
   ]
  },
  {
   "cell_type": "code",
   "execution_count": null,
   "id": "b2e19d9b",
   "metadata": {},
   "outputs": [],
   "source": []
  },
  {
   "cell_type": "code",
   "execution_count": null,
   "id": "6b76b072",
   "metadata": {},
   "outputs": [],
   "source": []
  }
 ],
 "metadata": {
  "kernelspec": {
   "display_name": "Python 3 (ipykernel)",
   "language": "python",
   "name": "python3"
  },
  "language_info": {
   "codemirror_mode": {
    "name": "ipython",
    "version": 3
   },
   "file_extension": ".py",
   "mimetype": "text/x-python",
   "name": "python",
   "nbconvert_exporter": "python",
   "pygments_lexer": "ipython3",
   "version": "3.11.4"
  }
 },
 "nbformat": 4,
 "nbformat_minor": 5
}
