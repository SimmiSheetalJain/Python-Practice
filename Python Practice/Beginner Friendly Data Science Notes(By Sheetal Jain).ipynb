{
 "cells": [
  {
   "cell_type": "markdown",
   "id": "eea6e808",
   "metadata": {},
   "source": [
    "# Pogramming Basics of Python Programming"
   ]
  },
  {
   "cell_type": "markdown",
   "id": "8a43bd61",
   "metadata": {},
   "source": [
    "<a style=\"color:orange;font-size:30px\" href=\"https://github.com/SimmiSheetalJain/Python-Practice/blob/main/Python%20Practice/Basics_of_Python.ipynb\" target=\"_blank\">Click me to learn</a>"
   ]
  },
  {
   "cell_type": "markdown",
   "id": "ba590016",
   "metadata": {},
   "source": [
    "# Different Data Structure in Python"
   ]
  },
  {
   "cell_type": "markdown",
   "id": "2dfc1c76",
   "metadata": {},
   "source": [
    "<a style=\"color:orange;font-size:30px\" href=\"https://github.com/SimmiSheetalJain/Python-Practice/blob/main/Python%20Practice/List_in_python.ipynb\" target=\"_blank\">Click me to learn List in Python</a>"
   ]
  },
  {
   "cell_type": "markdown",
   "id": "f80f6c3d",
   "metadata": {},
   "source": [
    "<a style=\"color:orange;font-size:30px\" href=\"https://github.com/SimmiSheetalJain/Python-Practice/blob/main/Python%20Practice/Tuple_in_Python.ipynb\" target=\"_blank\">Click me to learn Tuple in Python</a>"
   ]
  },
  {
   "cell_type": "code",
   "execution_count": null,
   "id": "c24a9bbe",
   "metadata": {},
   "outputs": [],
   "source": []
  }
 ],
 "metadata": {
  "kernelspec": {
   "display_name": "Python 3 (ipykernel)",
   "language": "python",
   "name": "python3"
  },
  "language_info": {
   "codemirror_mode": {
    "name": "ipython",
    "version": 3
   },
   "file_extension": ".py",
   "mimetype": "text/x-python",
   "name": "python",
   "nbconvert_exporter": "python",
   "pygments_lexer": "ipython3",
   "version": "3.11.4"
  }
 },
 "nbformat": 4,
 "nbformat_minor": 5
}
