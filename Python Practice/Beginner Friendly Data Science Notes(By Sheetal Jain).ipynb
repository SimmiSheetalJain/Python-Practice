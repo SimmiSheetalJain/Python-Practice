{
 "cells": [
  {
   "cell_type": "markdown",
   "id": "cdab7b76",
   "metadata": {},
   "source": [
    "![_](https://thumbs.dreamstime.com/b/data-science-uses-scientific-methods-processes-algorithms-systems-to-extract-knowledge-insights-various-concept-207016521.jpg)"
   ]
  },
  {
   "cell_type": "markdown",
   "id": "eea6e808",
   "metadata": {},
   "source": [
    "# Pogramming Basics of Python Programming"
   ]
  },
  {
   "cell_type": "markdown",
   "id": "8a43bd61",
   "metadata": {},
   "source": [
    "<a style=\"color:orange;font-size:25px\" href=\"https://github.com/SimmiSheetalJain/Python-Practice/blob/main/Python%20Practice/Basics_of_Python.ipynb\" target=\"_blank\">Click me to learn Programming Basics</a>"
   ]
  },
  {
   "cell_type": "markdown",
   "id": "ee0b8281",
   "metadata": {},
   "source": [
    "<a style=\"color:orange;font-size:25px\" href=\"https://github.com/SimmiSheetalJain/Python-Practice/blob/main/Python%20Practice/Control%20Flow%20Statements.ipynb\">Click me to learn Decision Control Statements</a>"
   ]
  },
  {
   "cell_type": "markdown",
   "id": "f8680b4e",
   "metadata": {},
   "source": [
    "<a style=\"color:orange;font-size:25px\" href=\"https://github.com/SimmiSheetalJain/Python-Practice/blob/main/Python%20Practice/For%20loop%20in%20python%20and%20range().ipynb\">Click me to learn For loop and range() function</a>\n"
   ]
  },
  {
   "cell_type": "markdown",
   "id": "ba590016",
   "metadata": {},
   "source": [
    "# Different Data Structures in Python"
   ]
  },
  {
   "cell_type": "markdown",
   "id": "045bb25d",
   "metadata": {},
   "source": [
    "<a style=\"color:orange;font-size:25px\" href=\"https://github.com/SimmiSheetalJain/Python-Practice/blob/main/Python%20Practice/String_in_python.ipynb\" target=\"_blank\">Click me to learn String in Python</a>"
   ]
  },
  {
   "cell_type": "markdown",
   "id": "2dfc1c76",
   "metadata": {},
   "source": [
    "<a style=\"color:orange;font-size:25px\" href=\"https://github.com/SimmiSheetalJain/Python-Practice/blob/main/Python%20Practice/List_in_python.ipynb\" target=\"_blank\">Click me to learn list in Python</a>"
   ]
  },
  {
   "cell_type": "markdown",
   "id": "f80f6c3d",
   "metadata": {},
   "source": [
    "<a style=\"color:orange;font-size:25px\" href=\"https://github.com/SimmiSheetalJain/Python-Practice/blob/main/Python%20Practice/Tuple_in_Python.ipynb\" target=\"_blank\">Click me to learn tuple in Python</a>"
   ]
  },
  {
   "cell_type": "markdown",
   "id": "fdb6c9a6",
   "metadata": {},
   "source": [
    "<a style=\"color:orange;font-size:25px\" href=\"https://github.com/SimmiSheetalJain/Python-Practice/blob/main/Python%20Practice/Dictionary_in_python.ipynb\" target=\"_blank\">Click me to learn dictionary in Python</a>"
   ]
  },
  {
   "cell_type": "markdown",
   "id": "7d9d9966",
   "metadata": {},
   "source": [
    "<a style=\"color:orange;font-size:25px\" href=\"https://github.com/SimmiSheetalJain/Python-Practice/blob/main/Python%20Practice/Set_in_Python.ipynb\" target=\"_blank\">Click me to learn set in Python</a>"
   ]
  },
  {
   "cell_type": "markdown",
   "id": "cfd131ab",
   "metadata": {},
   "source": [
    "# Functions "
   ]
  },
  {
   "cell_type": "markdown",
   "id": "14cc5058",
   "metadata": {},
   "source": [
    "<a style=\"color:orange;font-size:25px\" href=\"https://github.com/SimmiSheetalJain/Python-Practice/blob/main/Python%20Practice/Function_in_python.ipynb\" target=\"_blank\">Click me to learn function in Python</a>"
   ]
  },
  {
   "cell_type": "markdown",
   "id": "53644232",
   "metadata": {},
   "source": [
    "# OOPs"
   ]
  },
  {
   "cell_type": "markdown",
   "id": "3452cd02",
   "metadata": {},
   "source": [
    "<a style=\"color:orange;font-size:25px\" href=\"https://github.com/SimmiSheetalJain/Python-Practice/blob/main/Python%20Practice/OOPs%20in%20Python..ipynb\" target=\"_blank\">Click me to learn Object Oriented Programming Concepts in Python</a>"
   ]
  },
  {
   "cell_type": "markdown",
   "id": "34248707",
   "metadata": {},
   "source": [
    "# Error and Exception Handling"
   ]
  },
  {
   "cell_type": "markdown",
   "id": "48e302b3",
   "metadata": {},
   "source": [
    "<a style=\"color:orange;font-size:25px\" href=\"https://github.com/SimmiSheetalJain/Python-Practice/blob/main/Python%20Practice/Error%20and%20Exception%20Handling.ipynb\" target=\"_blank\">Click me to learn Error and Exception Handling in Python</a>"
   ]
  },
  {
   "cell_type": "markdown",
   "id": "43f05c41",
   "metadata": {},
   "source": [
    "# File Handling"
   ]
  },
  {
   "cell_type": "markdown",
   "id": "f3009448",
   "metadata": {},
   "source": [
    "<a style=\"color:orange;font-size:25px\" href=\"https://github.com/SimmiSheetalJain/Python-Practice/blob/main/Python%20Practice/File%20Handling.pdf\" target=\"_blank\">Click me to learn File Handling in Python</a>"
   ]
  },
  {
   "cell_type": "markdown",
   "id": "6d9a10b9",
   "metadata": {},
   "source": [
    "# Logging"
   ]
  },
  {
   "cell_type": "markdown",
   "id": "919bfb73",
   "metadata": {},
   "source": [
    "<a style=\"color:orange;font-size:25px\" href=\"https://github.com/SimmiSheetalJain/Python-Practice/blob/main/Python%20Practice/Logging/Logging.ipynb\" target=\"_blank\">Click me to learn Logging</a>"
   ]
  },
  {
   "cell_type": "markdown",
   "id": "2d1bd777",
   "metadata": {},
   "source": [
    "# Numpy"
   ]
  },
  {
   "cell_type": "markdown",
   "id": "fa9a1b4e",
   "metadata": {},
   "source": [
    "<a style=\"color:orange;font-size:25px\" href=\"https://github.com/SimmiSheetalJain/Python-Practice/blob/main/Python%20Practice/Numpy.ipynb\" target=\"_blank\">Click me to Numpy</a>"
   ]
  },
  {
   "cell_type": "markdown",
   "id": "b51f7a3c",
   "metadata": {},
   "source": [
    "# Knowing OS Module and filesystem"
   ]
  },
  {
   "cell_type": "markdown",
   "id": "1f08b462",
   "metadata": {},
   "source": [
    "<a style=\"color:orange;font-size:25px\" href=\"https://github.com/SimmiSheetalJain/Python-Practice/blob/main/Python%20Practice/Interacting%20with%20the%20OS%20and%20filesystem.ipynb\" target=\"_blank\">Click me to Know OS Module and filesystem</a>"
   ]
  },
  {
   "cell_type": "markdown",
   "id": "4225c69a",
   "metadata": {},
   "source": [
    "# Pandas"
   ]
  },
  {
   "cell_type": "markdown",
   "id": "7ea9f1d7",
   "metadata": {},
   "source": [
    "<a style=\"color:orange;font-size:25px\" href=\"https://github.com/SimmiSheetalJain/Python-Practice/blob/main/Python%20Practice/Panda%20.ipynb\" target=\"_blank\">Click me to Pandas</a>"
   ]
  },
  {
   "cell_type": "markdown",
   "id": "64849c4b",
   "metadata": {},
   "source": [
    "# Matplotlib"
   ]
  },
  {
   "cell_type": "markdown",
   "id": "01e1d253",
   "metadata": {},
   "source": [
    "<a style=\"color:orange;font-size:25px\" href=\"https://github.com/SimmiSheetalJain/Python-Practice/blob/main/Python%20Practice/Matplotlib.ipynb\" target=\"_blank\">Click me to Pandas</a>\n"
   ]
  },
  {
   "cell_type": "code",
   "execution_count": null,
   "id": "ae43a76c",
   "metadata": {},
   "outputs": [],
   "source": []
  }
 ],
 "metadata": {
  "kernelspec": {
   "display_name": "Python 3 (ipykernel)",
   "language": "python",
   "name": "python3"
  },
  "language_info": {
   "codemirror_mode": {
    "name": "ipython",
    "version": 3
   },
   "file_extension": ".py",
   "mimetype": "text/x-python",
   "name": "python",
   "nbconvert_exporter": "python",
   "pygments_lexer": "ipython3",
   "version": "3.11.4"
  }
 },
 "nbformat": 4,
 "nbformat_minor": 5
}
