{
 "cells": [
  {
   "cell_type": "markdown",
   "id": "eea6e808",
   "metadata": {},
   "source": [
    "# Pogramming Basics of Python Programming"
   ]
  },
  {
   "cell_type": "markdown",
   "id": "8a43bd61",
   "metadata": {},
   "source": [
    "<a style=\"color:orange;font-size:25px\" href=\"https://github.com/SimmiSheetalJain/Python-Practice/blob/main/Python%20Practice/Basics_of_Python.ipynb\" target=\"_blank\">Click me to learn</a>"
   ]
  },
  {
   "cell_type": "markdown",
   "id": "ba590016",
   "metadata": {},
   "source": [
    "# Different Data Structures in Python"
   ]
  },
  {
   "cell_type": "markdown",
   "id": "2dfc1c76",
   "metadata": {},
   "source": [
    "<a style=\"color:orange;font-size:25px\" href=\"https://github.com/SimmiSheetalJain/Python-Practice/blob/main/Python%20Practice/List_in_python.ipynb\" target=\"_blank\">Click me to learn list in Python</a>"
   ]
  },
  {
   "cell_type": "markdown",
   "id": "f80f6c3d",
   "metadata": {},
   "source": [
    "<a style=\"color:orange;font-size:25px\" href=\"https://github.com/SimmiSheetalJain/Python-Practice/blob/main/Python%20Practice/Tuple_in_Python.ipynb\" target=\"_blank\">Click me to learn tuple in Python</a>"
   ]
  },
  {
   "cell_type": "markdown",
   "id": "fdb6c9a6",
   "metadata": {},
   "source": [
    "<a style=\"color:orange;font-size:25px\" href=\"https://github.com/SimmiSheetalJain/Python-Practice/blob/main/Python%20Practice/Dictionary_in_python.ipynb\" target=\"_blank\">Click me to learn dictionary in Python</a>"
   ]
  },
  {
   "cell_type": "markdown",
   "id": "7d9d9966",
   "metadata": {},
   "source": [
    "<a style=\"color:orange;font-size:25px\" href=\"https://github.com/SimmiSheetalJain/Python-Practice/blob/main/Python%20Practice/Set_in_Python.ipynb\" target=\"_blank\">Click me to learn set in Python</a>"
   ]
  },
  {
   "cell_type": "markdown",
   "id": "14cc5058",
   "metadata": {},
   "source": [
    "<a style=\"color:orange;font-size:25px\" href=\"https://github.com/SimmiSheetalJain/Python-Practice/blob/main/Python%20Practice/Function_in_python.ipynb\" target=\"_blank\">Click me to learn function in Python</a>"
   ]
  },
  {
   "cell_type": "markdown",
   "id": "3452cd02",
   "metadata": {},
   "source": [
    "<a style=\"color:orange;font-size:25px\" href=\"https://github.com/SimmiSheetalJain/Python-Practice/blob/main/Python%20Practice/OOPs%20in%20Python..ipynb\" target=\"_blank\">Click me to learn Object Oriented Programming Concepts in Python</a>"
   ]
  },
  {
   "cell_type": "markdown",
   "id": "48e302b3",
   "metadata": {},
   "source": [
    "<a style=\"color:orange;font-size:25px\" href=\"https://github.com/SimmiSheetalJain/Python-Practice/blob/main/Python%20Practice/Error%20and%20Exception%20Handling.ipynb\" target=\"_blank\">Click me to learn Error and Exception Handling in Python</a>"
   ]
  },
  {
   "cell_type": "code",
   "execution_count": null,
   "id": "61157760",
   "metadata": {},
   "outputs": [],
   "source": []
  }
 ],
 "metadata": {
  "kernelspec": {
   "display_name": "Python 3 (ipykernel)",
   "language": "python",
   "name": "python3"
  },
  "language_info": {
   "codemirror_mode": {
    "name": "ipython",
    "version": 3
   },
   "file_extension": ".py",
   "mimetype": "text/x-python",
   "name": "python",
   "nbconvert_exporter": "python",
   "pygments_lexer": "ipython3",
   "version": "3.11.4"
  }
 },
 "nbformat": 4,
 "nbformat_minor": 5
}
