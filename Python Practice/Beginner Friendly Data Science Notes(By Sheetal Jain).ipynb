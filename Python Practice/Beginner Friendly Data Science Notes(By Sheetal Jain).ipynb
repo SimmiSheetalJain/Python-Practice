{
 "cells": [
  {
   "cell_type": "markdown",
   "id": "eea6e808",
   "metadata": {},
   "source": [
    "# Pogramming Basics of Python Programming"
   ]
  },
  {
   "cell_type": "markdown",
   "id": "8a43bd61",
   "metadata": {},
   "source": [
    "<a style=\"color:orange;font-size:25px\" href=\"https://github.com/SimmiSheetalJain/Python-Practice/blob/main/Python%20Practice/Basics_of_Python.ipynb\" target=\"_blank\">Click me to learn Programming Basics</a>"
   ]
  },
  {
   "cell_type": "markdown",
   "id": "f0ea5698",
   "metadata": {},
   "source": [
    "<a style=\"color:orange;font-size:25px\" href=\"https://github.com/SimmiSheetalJain/Python-Practice/blob/main/Python%20Practice/Control%20Flow%20Statements.ipynb\">Click me to learn Decision Control Statements</a>"
   ]
  },
  {
   "cell_type": "markdown",
   "id": "ca0b8d68",
   "metadata": {},
   "source": [
    "<a style=\"color:orange;font-size:25px\" href=\"https://github.com/SimmiSheetalJain/Python-Practice/blob/main/Python%20Practice/For%20loop%20in%20python%20and%20range().ipynb\">Click me to learn For loop and range() function</a>\n"
   ]
  },
  {
   "cell_type": "markdown",
   "id": "ba590016",
   "metadata": {},
   "source": [
    "# Different Data Structures in Python"
   ]
  },
  {
   "cell_type": "markdown",
   "id": "4717b61a",
   "metadata": {},
   "source": [
    "<a style=\"color:orange;font-size:25px\" href=\"https://github.com/SimmiSheetalJain/Python-Practice/blob/main/Python%20Practice/String_in_python.ipynb\" target=\"_blank\">Click me to learn String in Python</a>"
   ]
  },
  {
   "cell_type": "markdown",
   "id": "2dfc1c76",
   "metadata": {},
   "source": [
    "<a style=\"color:orange;font-size:25px\" href=\"https://github.com/SimmiSheetalJain/Python-Practice/blob/main/Python%20Practice/List_in_python.ipynb\" target=\"_blank\">Click me to learn list in Python</a>"
   ]
  },
  {
   "cell_type": "markdown",
   "id": "f80f6c3d",
   "metadata": {},
   "source": [
    "<a style=\"color:orange;font-size:25px\" href=\"https://github.com/SimmiSheetalJain/Python-Practice/blob/main/Python%20Practice/Tuple_in_Python.ipynb\" target=\"_blank\">Click me to learn tuple in Python</a>"
   ]
  },
  {
   "cell_type": "markdown",
   "id": "fdb6c9a6",
   "metadata": {},
   "source": [
    "<a style=\"color:orange;font-size:25px\" href=\"https://github.com/SimmiSheetalJain/Python-Practice/blob/main/Python%20Practice/Dictionary_in_python.ipynb\" target=\"_blank\">Click me to learn dictionary in Python</a>"
   ]
  },
  {
   "cell_type": "markdown",
   "id": "7d9d9966",
   "metadata": {},
   "source": [
    "<a style=\"color:orange;font-size:25px\" href=\"https://github.com/SimmiSheetalJain/Python-Practice/blob/main/Python%20Practice/Set_in_Python.ipynb\" target=\"_blank\">Click me to learn set in Python</a>"
   ]
  },
  {
   "cell_type": "markdown",
   "id": "519482dc",
   "metadata": {},
   "source": [
    "# Functions "
   ]
  },
  {
   "cell_type": "markdown",
   "id": "14cc5058",
   "metadata": {},
   "source": [
    "<a style=\"color:orange;font-size:25px\" href=\"https://github.com/SimmiSheetalJain/Python-Practice/blob/main/Python%20Practice/Function_in_python.ipynb\" target=\"_blank\">Click me to learn function in Python</a>"
   ]
  },
  {
   "cell_type": "markdown",
   "id": "ff08c4a8",
   "metadata": {},
   "source": [
    "# OOPs"
   ]
  },
  {
   "cell_type": "markdown",
   "id": "3452cd02",
   "metadata": {},
   "source": [
    "<a style=\"color:orange;font-size:25px\" href=\"https://github.com/SimmiSheetalJain/Python-Practice/blob/main/Python%20Practice/OOPs%20in%20Python..ipynb\" target=\"_blank\">Click me to learn Object Oriented Programming Concepts in Python</a>"
   ]
  },
  {
   "cell_type": "markdown",
   "id": "b23b850d",
   "metadata": {},
   "source": [
    "# Error and Exception Handling"
   ]
  },
  {
   "cell_type": "markdown",
   "id": "48e302b3",
   "metadata": {},
   "source": [
    "<a style=\"color:orange;font-size:25px\" href=\"https://github.com/SimmiSheetalJain/Python-Practice/blob/main/Python%20Practice/Error%20and%20Exception%20Handling.ipynb\" target=\"_blank\">Click me to learn Error and Exception Handling in Python</a>"
   ]
  },
  {
   "cell_type": "markdown",
   "id": "608b3d8b",
   "metadata": {},
   "source": [
    "# File Handling"
   ]
  },
  {
   "cell_type": "markdown",
   "id": "5fe8bcd9",
   "metadata": {},
   "source": [
    "<a style=\"color:orange;font-size:25px\" href=\"https://github.com/SimmiSheetalJain/Python-Practice/blob/main/Python%20Practice/File%20Handling.pdf\" target=\"_blank\">Click me to learn File Handling in Python</a>"
   ]
  },
  {
   "cell_type": "markdown",
   "id": "82aea9b6",
   "metadata": {},
   "source": [
    "# Logging"
   ]
  },
  {
   "cell_type": "markdown",
   "id": "11b9f04a",
   "metadata": {},
   "source": [
    "<a style=\"color:orange;font-size:25px\" href=\"https://github.com/SimmiSheetalJain/Python-Practice/blob/main/Python%20Practice/Logging/Logging.ipynb\" target=\"_blank\">Click me to learn Logging</a>"
   ]
  },
  {
   "cell_type": "code",
   "execution_count": null,
   "id": "4a6a2e11",
   "metadata": {},
   "outputs": [],
   "source": []
  }
 ],
 "metadata": {
  "kernelspec": {
   "display_name": "Python 3 (ipykernel)",
   "language": "python",
   "name": "python3"
  },
  "language_info": {
   "codemirror_mode": {
    "name": "ipython",
    "version": 3
   },
   "file_extension": ".py",
   "mimetype": "text/x-python",
   "name": "python",
   "nbconvert_exporter": "python",
   "pygments_lexer": "ipython3",
   "version": "3.11.4"
  }
 },
 "nbformat": 4,
 "nbformat_minor": 5
}
