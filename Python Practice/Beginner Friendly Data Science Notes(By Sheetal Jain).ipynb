{
 "cells": [
  {
   "cell_type": "markdown",
   "id": "eea6e808",
   "metadata": {},
   "source": [
    "# Pogramming Basics of Python Programming"
   ]
  },
  {
   "cell_type": "markdown",
   "id": "8a43bd61",
   "metadata": {},
   "source": [
    "<a style=\"color:orange;font-size:30px\" href=\"\">Click me to learn</a>"
   ]
  },
  {
   "cell_type": "markdown",
   "id": "ba590016",
   "metadata": {},
   "source": [
    "# Different Data Structure in Python"
   ]
  },
  {
   "cell_type": "markdown",
   "id": "2dfc1c76",
   "metadata": {},
   "source": [
    "<a style=\"color:orange;font-size:30px\" href=\"\">Click me to learn</a>"
   ]
  },
  {
   "cell_type": "code",
   "execution_count": null,
   "id": "9dd235da",
   "metadata": {},
   "outputs": [],
   "source": []
  }
 ],
 "metadata": {
  "kernelspec": {
   "display_name": "Python 3 (ipykernel)",
   "language": "python",
   "name": "python3"
  },
  "language_info": {
   "codemirror_mode": {
    "name": "ipython",
    "version": 3
   },
   "file_extension": ".py",
   "mimetype": "text/x-python",
   "name": "python",
   "nbconvert_exporter": "python",
   "pygments_lexer": "ipython3",
   "version": "3.11.4"
  }
 },
 "nbformat": 4,
 "nbformat_minor": 5
}
