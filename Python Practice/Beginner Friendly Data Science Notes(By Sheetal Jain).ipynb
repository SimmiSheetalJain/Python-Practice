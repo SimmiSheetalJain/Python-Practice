{
 "cells": [
  {
   "cell_type": "markdown",
   "id": "eea6e808",
   "metadata": {},
   "source": [
    "# Basics of python"
   ]
  },
  {
   "cell_type": "markdown",
   "id": "8a43bd61",
   "metadata": {},
   "source": [
    "<a style=\"color:orange;font-size:30px\" href=\"\">Click me to learn baiscs of python</a>"
   ]
  },
  {
   "cell_type": "code",
   "execution_count": null,
   "id": "fdfbc543",
   "metadata": {},
   "outputs": [],
   "source": []
  }
 ],
 "metadata": {
  "kernelspec": {
   "display_name": "Python 3 (ipykernel)",
   "language": "python",
   "name": "python3"
  },
  "language_info": {
   "codemirror_mode": {
    "name": "ipython",
    "version": 3
   },
   "file_extension": ".py",
   "mimetype": "text/x-python",
   "name": "python",
   "nbconvert_exporter": "python",
   "pygments_lexer": "ipython3",
   "version": "3.11.4"
  }
 },
 "nbformat": 4,
 "nbformat_minor": 5
}
