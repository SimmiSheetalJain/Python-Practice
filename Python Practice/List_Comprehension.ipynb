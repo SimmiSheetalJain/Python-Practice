{
 "cells": [
  {
   "cell_type": "markdown",
   "id": "e1588e28",
   "metadata": {},
   "source": [
    "# List Comprehension"
   ]
  },
  {
   "cell_type": "markdown",
   "id": "ea5eacb8",
   "metadata": {},
   "source": [
    "When we want to make a list object from another list, we can follow following syntax: \n",
    "     "
   ]
  },
  {
   "cell_type": "markdown",
   "id": "7e692e28",
   "metadata": {},
   "source": [
    "  ####  Syntax:"
   ]
  },
  {
   "cell_type": "markdown",
   "id": "c41d5a4a",
   "metadata": {},
   "source": [
    " _list = [_expression_ for _elements_ in _iterable_ if _testcondition_]"
   ]
  },
  {
   "cell_type": "code",
   "execution_count": 7,
   "id": "15fa7e90",
   "metadata": {},
   "outputs": [
    {
     "name": "stdout",
     "output_type": "stream",
     "text": [
      "[4, 16]\n"
     ]
    }
   ],
   "source": [
    "#Example\n",
    "list1=[X*X  for X in [1,2,3,4] if X%2==0]\n",
    "print(list1)"
   ]
  },
  {
   "cell_type": "markdown",
   "id": "2716311e",
   "metadata": {},
   "source": [
    "Here, the variable should be same. Here is an example:"
   ]
  },
  {
   "cell_type": "markdown",
   "id": "055f9172",
   "metadata": {},
   "source": [
    "#### => We use list comprehension to reduce time and space complexity.\n",
    "#### => We use list comprehension to reduce code complexity\n",
    "#### => Better use of list comprehension is in lamda function, map function, and filter function.\n",
    "#### => an iterable object can be a string, a list, a tuple,a dict,a set, range()"
   ]
  },
  {
   "cell_type": "code",
   "execution_count": 3,
   "id": "b9bb4488",
   "metadata": {},
   "outputs": [
    {
     "data": {
      "text/plain": [
       "[1, 9, 25, 49, 81]"
      ]
     },
     "execution_count": 3,
     "metadata": {},
     "output_type": "execute_result"
    }
   ],
   "source": [
    "#example\n",
    "[x**2 for x in range(1,10) if x%2!=0]"
   ]
  },
  {
   "cell_type": "code",
   "execution_count": 4,
   "id": "06b6aae4",
   "metadata": {},
   "outputs": [],
   "source": [
    "my_string=\"Sheetal Jain\"\n",
    "l1=[x for x in my_string]"
   ]
  },
  {
   "cell_type": "code",
   "execution_count": 5,
   "id": "dfdc95c9",
   "metadata": {},
   "outputs": [
    {
     "name": "stdout",
     "output_type": "stream",
     "text": [
      "S\n",
      "h\n",
      "e\n",
      "e\n",
      "t\n",
      "a\n",
      "l\n",
      " \n",
      "J\n",
      "a\n",
      "i\n",
      "n\n"
     ]
    }
   ],
   "source": [
    "for x in l1:\n",
    "    print(x)"
   ]
  },
  {
   "cell_type": "markdown",
   "id": "efe960b5",
   "metadata": {},
   "source": [
    "#### List comprehension can be used to optimize code. Here, we can see, how easily and in a single line of code, we can generate squars and can store them in a list using with the help of list comprehension"
   ]
  },
  {
   "cell_type": "code",
   "execution_count": 6,
   "id": "7d2071da",
   "metadata": {},
   "outputs": [
    {
     "data": {
      "text/plain": [
       "[1, 4, 9, 16, 25]"
      ]
     },
     "execution_count": 6,
     "metadata": {},
     "output_type": "execute_result"
    }
   ],
   "source": [
    "#example 1:\n",
    "[x**2 for x in range(1,6)]"
   ]
  },
  {
   "cell_type": "code",
   "execution_count": 7,
   "id": "f082c253",
   "metadata": {},
   "outputs": [
    {
     "data": {
      "text/plain": [
       "[1, 27, 125, 343, 729]"
      ]
     },
     "execution_count": 7,
     "metadata": {},
     "output_type": "execute_result"
    }
   ],
   "source": [
    "# Example 2:\n",
    "[y**3 for y in range(1,11,2)]"
   ]
  },
  {
   "cell_type": "code",
   "execution_count": 8,
   "id": "4936445a",
   "metadata": {},
   "outputs": [
    {
     "data": {
      "text/plain": [
       "[1, 2, 3, 4, 5, 6, 7, 8, 9, 10]"
      ]
     },
     "execution_count": 8,
     "metadata": {},
     "output_type": "execute_result"
    }
   ],
   "source": [
    "#Example 3:\n",
    "[x for x in range(1,11,1)]"
   ]
  },
  {
   "cell_type": "markdown",
   "id": "fa8d694d",
   "metadata": {},
   "source": [
    "### Q1: WAP to accept a string from a user, and write it in upper case. "
   ]
  },
  {
   "cell_type": "code",
   "execution_count": 2,
   "id": "2ee39680",
   "metadata": {},
   "outputs": [
    {
     "name": "stdout",
     "output_type": "stream",
     "text": [
      "Enter Name:Rajmala\n",
      "RAJMALA"
     ]
    }
   ],
   "source": [
    "#Answer code1\n",
    "for i in [x.upper() for x in str(input(\"Enter Name:\"))]:\n",
    "    if ord(i)==32:\n",
    "        print(\" \",end=\"\")\n",
    "    else:\n",
    "        print(i,end=\"\")"
   ]
  },
  {
   "cell_type": "markdown",
   "id": "d81edb29",
   "metadata": {},
   "source": [
    "### Q2: WAP to accept 5 integers from a user and store them in list and find the sum of all element stored in list"
   ]
  },
  {
   "cell_type": "code",
   "execution_count": null,
   "id": "9e53649d",
   "metadata": {},
   "outputs": [],
   "source": [
    "j=[]\n",
    "for i in range(1,6):\n",
    "    j.append(int(input(\"Enter the number : \")))   \n",
    "print(\"Sum of all elements : \",sum(j))"
   ]
  },
  {
   "cell_type": "markdown",
   "id": "ed9b8e14",
   "metadata": {},
   "source": [
    "### Q3: WAP  for priting squares of odd numbers form 1 to twenty using list comprehension"
   ]
  },
  {
   "cell_type": "code",
   "execution_count": null,
   "id": "dbb7c676",
   "metadata": {},
   "outputs": [],
   "source": [
    "[x**2 for x in range(1,20,2)]"
   ]
  },
  {
   "cell_type": "markdown",
   "id": "b1643a1e",
   "metadata": {},
   "source": [
    "## Nesting in List Comprehension"
   ]
  },
  {
   "cell_type": "code",
   "execution_count": 2,
   "id": "a8ddbaef",
   "metadata": {},
   "outputs": [
    {
     "data": {
      "text/plain": [
       "[[13, 26, 39, 52, 65, 78, 91, 104, 117, 130],\n",
       " [14, 28, 42, 56, 70, 84, 98, 112, 126, 140],\n",
       " [15, 30, 45, 60, 75, 90, 105, 120, 135, 150],\n",
       " [16, 32, 48, 64, 80, 96, 112, 128, 144, 160],\n",
       " [17, 34, 51, 68, 85, 102, 119, 136, 153, 170],\n",
       " [18, 36, 54, 72, 90, 108, 126, 144, 162, 180],\n",
       " [19, 38, 57, 76, 95, 114, 133, 152, 171, 190]]"
      ]
     },
     "execution_count": 2,
     "metadata": {},
     "output_type": "execute_result"
    }
   ],
   "source": [
    "[[j*i for i in range(1,11)] for j in range(13,20)]"
   ]
  },
  {
   "cell_type": "markdown",
   "id": "1388d97f",
   "metadata": {},
   "source": [
    "## Using Control Statements with List Comprehension"
   ]
  },
  {
   "cell_type": "code",
   "execution_count": 6,
   "id": "f4bdefba",
   "metadata": {},
   "outputs": [
    {
     "data": {
      "text/plain": [
       "[35, 70]"
      ]
     },
     "execution_count": 6,
     "metadata": {},
     "output_type": "execute_result"
    }
   ],
   "source": [
    "#Example 1:\n",
    "[n for n in range(1,101) if n%7==0 if n%5==0]"
   ]
  },
  {
   "cell_type": "code",
   "execution_count": 10,
   "id": "6a54f1ac",
   "metadata": {},
   "outputs": [
    {
     "data": {
      "text/plain": [
       "[1800, 3600, 5400]"
      ]
     },
     "execution_count": 10,
     "metadata": {},
     "output_type": "execute_result"
    }
   ],
   "source": [
    "#Example 2:\n",
    "[k*l for k in range(1,101) for l in range(1,101) if k%30==0 and l%60==0]"
   ]
  },
  {
   "cell_type": "code",
   "execution_count": 11,
   "id": "e53e4035",
   "metadata": {},
   "outputs": [
    {
     "name": "stdout",
     "output_type": "stream",
     "text": [
      "True\n"
     ]
    }
   ],
   "source": []
  },
  {
   "cell_type": "code",
   "execution_count": 13,
   "id": "466ae9b1",
   "metadata": {},
   "outputs": [
    {
     "name": "stdout",
     "output_type": "stream",
     "text": [
      "[121, 565, 1221, 11, 1881, 909]\n"
     ]
    }
   ],
   "source": [
    "def isPalindrom(n):\n",
    "    ans=0\n",
    "    dummy=n\n",
    "    while dummy!=0:\n",
    "        digit=dummy%10\n",
    "        ans=ans*10+digit\n",
    "        dummy=dummy//10\n",
    "    if ans==n:\n",
    "        return True\n",
    "    else:\n",
    "        return False\n",
    "x=[121,43,565,1221,11,1881,746,909]\n",
    "y=[i for i in x if isPalindrom(i)]\n",
    "print(y)"
   ]
  },
  {
   "cell_type": "markdown",
   "id": "7eeb0178",
   "metadata": {},
   "source": [
    "Create a prgram to find those numbers which are divible by 7 and multiple of 5, between 1500 and 2700(both included)"
   ]
  },
  {
   "cell_type": "code",
   "execution_count": 3,
   "id": "af99c722",
   "metadata": {},
   "outputs": [
    {
     "name": "stdout",
     "output_type": "stream",
     "text": [
      "1505\n",
      "1540\n",
      "1575\n",
      "1610\n",
      "1645\n",
      "1680\n",
      "1715\n",
      "1750\n",
      "1785\n",
      "1820\n",
      "1855\n",
      "1890\n",
      "1925\n",
      "1960\n",
      "1995\n",
      "2030\n",
      "2065\n",
      "2100\n",
      "2135\n",
      "2170\n",
      "2205\n",
      "2240\n",
      "2275\n",
      "2310\n",
      "2345\n",
      "2380\n",
      "2415\n",
      "2450\n",
      "2485\n",
      "2520\n",
      "2555\n",
      "2590\n",
      "2625\n",
      "2660\n",
      "2695\n"
     ]
    }
   ],
   "source": [
    "result=[i for i in range(1500,2701) if i%5==0 and i%7==0]\n",
    "for i in result:\n",
    "    print(i)\n"
   ]
  }
 ],
 "metadata": {
  "kernelspec": {
   "display_name": "Python 3 (ipykernel)",
   "language": "python",
   "name": "python3"
  },
  "language_info": {
   "codemirror_mode": {
    "name": "ipython",
    "version": 3
   },
   "file_extension": ".py",
   "mimetype": "text/x-python",
   "name": "python",
   "nbconvert_exporter": "python",
   "pygments_lexer": "ipython3",
   "version": "3.11.4"
  }
 },
 "nbformat": 4,
 "nbformat_minor": 5
}
