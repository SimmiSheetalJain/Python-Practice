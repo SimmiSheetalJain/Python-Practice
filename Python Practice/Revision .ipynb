{
 "cells": [
  {
   "cell_type": "code",
   "execution_count": 5,
   "id": "9ab2775e",
   "metadata": {},
   "outputs": [
    {
     "name": "stdout",
     "output_type": "stream",
     "text": [
      "Enter the year2525\n",
      "2525 is a non-leap year\n"
     ]
    }
   ],
   "source": [
    "x=int(input(\"Enter the year\"))\n",
    "if x%4==0 and x%100!=0:\n",
    "    print(f\"{x} is a leap year\")\n",
    "elif x%400==0:\n",
    "    print(f\"{x} is a leap century\")\n",
    "else:\n",
    "    print(f\"{x} is a non-leap year\")"
   ]
  },
  {
   "cell_type": "code",
   "execution_count": 25,
   "id": "480956ce",
   "metadata": {},
   "outputs": [
    {
     "name": "stdout",
     "output_type": "stream",
     "text": [
      "6\t36\n",
      "12\t144\n",
      "18\t324\n",
      "24\t576\n",
      "30\t900\n",
      "36\t1296\n",
      "42\t1764\n",
      "48\t2304\n",
      "54\t2916\n",
      "60\t3600\n",
      "Hi\n"
     ]
    }
   ],
   "source": [
    "for i in range(6,61,6):\n",
    "    print(i,end=\"\\t\")\n",
    "    print(i*i)\n",
    "print(\"Hi\")"
   ]
  },
  {
   "cell_type": "code",
   "execution_count": 26,
   "id": "b61bafec",
   "metadata": {},
   "outputs": [
    {
     "name": "stdout",
     "output_type": "stream",
     "text": [
      "2\n",
      "4\n",
      "6\n",
      "8\n",
      "10\n",
      "12\n",
      "14\n",
      "16\n",
      "18\n",
      "20\n"
     ]
    }
   ],
   "source": [
    "i=2\n",
    "while i<=20:\n",
    "    print(i)\n",
    "    i+=2"
   ]
  },
  {
   "cell_type": "code",
   "execution_count": 31,
   "id": "20c1c953",
   "metadata": {},
   "outputs": [],
   "source": [
    "def factorial(n):\n",
    "    fact=1\n",
    "    for i in range(1,n+1):\n",
    "        fact=fact*i\n",
    "    "
   ]
  },
  {
   "cell_type": "code",
   "execution_count": 34,
   "id": "ea5fbc0e",
   "metadata": {},
   "outputs": [
    {
     "name": "stdout",
     "output_type": "stream",
     "text": [
      "Hi\n"
     ]
    }
   ],
   "source": [
    "print(\"Hi\")"
   ]
  },
  {
   "cell_type": "code",
   "execution_count": 30,
   "id": "cab71c1c",
   "metadata": {},
   "outputs": [
    {
     "data": {
      "text/plain": [
       "3628800"
      ]
     },
     "execution_count": 30,
     "metadata": {},
     "output_type": "execute_result"
    }
   ],
   "source": []
  },
  {
   "cell_type": "code",
   "execution_count": 1,
   "id": "d2c8c25a",
   "metadata": {},
   "outputs": [
    {
     "name": "stdout",
     "output_type": "stream",
     "text": [
      "Inside if block\n"
     ]
    }
   ],
   "source": [
    "if True:\n",
    "    print(\"Inside if block\")"
   ]
  },
  {
   "cell_type": "code",
   "execution_count": 3,
   "id": "bfcd3c87",
   "metadata": {},
   "outputs": [
    {
     "name": "stdout",
     "output_type": "stream",
     "text": [
      "True\n",
      "False\n"
     ]
    }
   ],
   "source": [
    "a=25;b=5;k=lambda a,b: True if a%b==0 else False;print(k(a,b));print(k(76,18))"
   ]
  },
  {
   "cell_type": "code",
   "execution_count": 4,
   "id": "58583a82",
   "metadata": {},
   "outputs": [
    {
     "name": "stdout",
     "output_type": "stream",
     "text": [
      "Let's Learn commenting\n",
      "I wish you a healthy and happy life\n"
     ]
    }
   ],
   "source": [
    "# One line comment\n",
    "print(\"Let's Learn commenting\")\n",
    "'''I am a learner,\n",
    "   a problem solver,\n",
    "   a teacher,\n",
    "   a programmer,\n",
    "   and an analyst '''\n",
    "print(\"I wish you a healthy and happy life\")"
   ]
  },
  {
   "cell_type": "code",
   "execution_count": 6,
   "id": "7ef0b441",
   "metadata": {},
   "outputs": [
    {
     "name": "stdout",
     "output_type": "stream",
     "text": [
      "Sum is :  9 \n",
      "product is :  20\n"
     ]
    }
   ],
   "source": [
    "def sum_and_product(a,b):\n",
    "    return (a+b), (a*b)\n",
    "x,y=sum_and_product(5,4)\n",
    "print(\"Sum is : \",x,\"\\nproduct is : \",y)"
   ]
  },
  {
   "cell_type": "code",
   "execution_count": 13,
   "id": "c5b82485",
   "metadata": {},
   "outputs": [
    {
     "name": "stdout",
     "output_type": "stream",
     "text": [
      "2742047030064 \n",
      " 2742047030064\n"
     ]
    }
   ],
   "source": [
    "home_town = \"Agra\"\n",
    "born_and_brought_up = home_town\n",
    "print(id(home_town),\"\\n\",id(born_and_brought_up))"
   ]
  },
  {
   "cell_type": "code",
   "execution_count": 16,
   "id": "1225b3b4",
   "metadata": {},
   "outputs": [
    {
     "name": "stdout",
     "output_type": "stream",
     "text": [
      "<class 'int'> \n",
      "Value :  35\n",
      "<class 'float'> \n",
      "Value :  3487.894378\n"
     ]
    }
   ],
   "source": [
    "a=35\n",
    "print(type(a),\"\\nValue : \",a)\n",
    "a=3487.894378\n",
    "print(type(a),\"\\nValue : \",a)"
   ]
  },
  {
   "cell_type": "code",
   "execution_count": 26,
   "id": "67a98bbe",
   "metadata": {},
   "outputs": [
    {
     "name": "stdout",
     "output_type": "stream",
     "text": [
      "26\n",
      "29\n",
      "23\n",
      "28\n",
      "25\n",
      "24\n"
     ]
    }
   ],
   "source": [
    "import numpy as np\n",
    "l=list(np.random.randint(23,30,15))\n",
    "a=[]\n",
    "list(filter(lambda x: a.append(x) if (x not in a) else None,l))\n",
    "for i in a:\n",
    "    print(i)"
   ]
  },
  {
   "cell_type": "code",
   "execution_count": 36,
   "id": "f41b8e74",
   "metadata": {},
   "outputs": [
    {
     "name": "stdout",
     "output_type": "stream",
     "text": [
      "[23, 29, 25, 27, 23]\n",
      "71\n"
     ]
    }
   ],
   "source": [
    "import numpy as np\n",
    "from functools import reduce\n",
    "l=list(np.random.randint(23,30,5))\n",
    "print(l)\n",
    "ans=sum(list(filter((lambda x: x if l.index(x)%2==0 else None),l)))\n",
    "print(ans)"
   ]
  },
  {
   "cell_type": "code",
   "execution_count": 46,
   "id": "3102b2d9",
   "metadata": {},
   "outputs": [
    {
     "name": "stdout",
     "output_type": "stream",
     "text": [
      "('a23', 'b29', 'c29', 'd28', 'e26')\n"
     ]
    }
   ],
   "source": [
    "from functools import reduce\n",
    "l=tuple(np.random.randint(23,30,5))\n",
    "c=tuple(['a','b','c','d','e'])\n",
    "res=tuple((i+str(j) for i,j in zip(c,l)))\n",
    "print(res)"
   ]
  },
  {
   "cell_type": "code",
   "execution_count": 53,
   "id": "9c44bd6d",
   "metadata": {},
   "outputs": [
    {
     "name": "stdout",
     "output_type": "stream",
     "text": [
      "23\n",
      "58\n",
      "116\n",
      "140\n",
      "156\n"
     ]
    }
   ],
   "source": [
    "res=(i*j for i,j in zip(l,(1,2,4,5,6)))\n",
    "for i in res:\n",
    "    print(i)"
   ]
  },
  {
   "cell_type": "code",
   "execution_count": 61,
   "id": "4e6b58d3",
   "metadata": {},
   "outputs": [
    {
     "name": "stdout",
     "output_type": "stream",
     "text": [
      "[(2, 2), (8, 4), (4, 7), (9, 9), (8, 9)]\n"
     ]
    }
   ],
   "source": [
    "#sorting a list of tuple \n",
    "arr=np.random.randint(2,10,10).reshape(5,2)\n",
    "arr=tuple(tuple(i) for i in arr)\n",
    "result=sorted(arr,key=lambda x:x[1])\n",
    "print(result)"
   ]
  },
  {
   "cell_type": "code",
   "execution_count": 66,
   "id": "e6bebf36",
   "metadata": {},
   "outputs": [
    {
     "name": "stdout",
     "output_type": "stream",
     "text": [
      "(4, 3, 4, 9, 3, 8, 8, 7, 2, 5)\n",
      "(5, 2, 7, 8, 8, 3, 9, 4, 3, 4)\n"
     ]
    }
   ],
   "source": [
    "arr=tuple(np.random.randint(2,10,10))\n",
    "print(arr)\n",
    "print(tuple(reversed(arr)))"
   ]
  },
  {
   "cell_type": "code",
   "execution_count": 75,
   "id": "98148d59",
   "metadata": {},
   "outputs": [
    {
     "name": "stdout",
     "output_type": "stream",
     "text": [
      "{8, 4, 6} {3, 5, 7}\n",
      "{3, 4, 5, 6, 7, 8}\n"
     ]
    }
   ],
   "source": [
    "set1 = {2, 4, 6, 8}\n",
    "set2 = {2, 3, 7, 5}\n",
    "diff=set1.difference(set2)\n",
    "diff1=set2.difference(set1)\n",
    "print(diff,diff1)\n",
    "res=diff.union(diff1)\n",
    "print(res)"
   ]
  },
  {
   "cell_type": "code",
   "execution_count": 77,
   "id": "b3fcc3f9",
   "metadata": {},
   "outputs": [
    {
     "name": "stdout",
     "output_type": "stream",
     "text": [
      "{'ora', 'ran', 'ang', 'nge'}\n"
     ]
    }
   ],
   "source": [
    "set1 = {'apple', 'banana', 'orange'}\n",
    "set2 = {'orange', 'grape', 'kiwi'}\n",
    "res=set()\n",
    "for i in set1:\n",
    "    for j in set2:\n",
    "        res.update({i[k:k+3] for k in range(len(j)-2) if i[k:k+3] in j[k:k+3]})\n",
    "print(res)"
   ]
  },
  {
   "cell_type": "code",
   "execution_count": 79,
   "id": "e47d3a35",
   "metadata": {},
   "outputs": [
    {
     "name": "stdout",
     "output_type": "stream",
     "text": [
      "['hello!', 'world!', 'python!']\n"
     ]
    }
   ],
   "source": [
    "strings = ['hello', 'world', 'python']\n",
    "suffix = '!'\n",
    "result=list(map((lambda item: item+suffix), strings))\n",
    "print(result)\n"
   ]
  },
  {
   "cell_type": "code",
   "execution_count": 86,
   "id": "a1d99145",
   "metadata": {},
   "outputs": [
    {
     "name": "stdout",
     "output_type": "stream",
     "text": [
      "['Python', 'Programming', 'Language']\n"
     ]
    }
   ],
   "source": [
    "words = ['python', 'programming', 'language']\n",
    "words = list(map(lambda x: x.capitalize(),words))\n",
    "print(words)"
   ]
  },
  {
   "cell_type": "code",
   "execution_count": 88,
   "id": "c4812a56",
   "metadata": {},
   "outputs": [
    {
     "name": "stdout",
     "output_type": "stream",
     "text": [
      "['Alice', 'Eva']\n"
     ]
    }
   ],
   "source": [
    "names = ['Alice', 'Bob', 'Charlie', 'Dave', 'Eva']\n",
    "res=[ i for i in names if i[0] in 'AEIOU']\n",
    "print(res)"
   ]
  },
  {
   "cell_type": "code",
   "execution_count": 93,
   "id": "1a278d3c",
   "metadata": {},
   "outputs": [
    {
     "name": "stdout",
     "output_type": "stream",
     "text": [
      "['123', 'def456', '789ghi']\n"
     ]
    }
   ],
   "source": [
    "strings = ['abc', '123', 'def456', '789ghi']\n",
    "res=[ i for i in strings if (any( k.isdigit() for k in i))]\n",
    "print(res)"
   ]
  },
  {
   "cell_type": "code",
   "execution_count": 101,
   "id": "a55542a9",
   "metadata": {},
   "outputs": [
    {
     "name": "stdout",
     "output_type": "stream",
     "text": [
      "[1, 4, 9, 16, 25, 36, 49]\n"
     ]
    }
   ],
   "source": [
    "import math\n",
    "numbers = [1, 4, 9, 16, 25, 36, 49]\n",
    "res=[i for i in numbers if math.sqrt(i)**2==i]\n",
    "print(res)"
   ]
  },
  {
   "cell_type": "code",
   "execution_count": 104,
   "id": "df3ca78a",
   "metadata": {},
   "outputs": [
    {
     "name": "stdout",
     "output_type": "stream",
     "text": [
      "[[1 2 3]\n",
      " [4 5 6]]\n"
     ]
    }
   ],
   "source": [
    "import numpy as np\n",
    "arr=np.arange(1,7).reshape(2,3)\n",
    "print(arr)"
   ]
  },
  {
   "cell_type": "code",
   "execution_count": 108,
   "id": "480ec83c",
   "metadata": {},
   "outputs": [
    {
     "name": "stdout",
     "output_type": "stream",
     "text": [
      "[[1. 0. 0.]\n",
      " [0. 1. 0.]\n",
      " [0. 0. 1.]]\n"
     ]
    }
   ],
   "source": [
    "arr=np.eye(3,3)\n",
    "print(arr)"
   ]
  },
  {
   "cell_type": "markdown",
   "id": "af428e29",
   "metadata": {},
   "source": [
    " Given two arrays A = [1, 2, 3] and B = [4, 5, 6], perform element-wise addition and subtraction.\n",
    "    "
   ]
  },
  {
   "cell_type": "code",
   "execution_count": 109,
   "id": "af58214d",
   "metadata": {},
   "outputs": [
    {
     "name": "stdout",
     "output_type": "stream",
     "text": [
      "[ 4 10 18]\n"
     ]
    }
   ],
   "source": [
    "A=np.array([1, 2, 3])\n",
    "B=np.array([4, 5, 6])\n",
    "C=A*B\n",
    "print(C)\n",
    "print()"
   ]
  },
  {
   "cell_type": "code",
   "execution_count": 113,
   "id": "16fffa6b",
   "metadata": {},
   "outputs": [
    {
     "name": "stdout",
     "output_type": "stream",
     "text": [
      "[[2]\n",
      " [5]\n",
      " [8]]\n"
     ]
    }
   ],
   "source": [
    "import numpy as np\n",
    "array_2d = np.array([[1, 2, 3],\n",
    "            [4, 5, 6],\n",
    "            [7, 8, 9]])\n",
    "\n",
    "res=array_2d[0:3,1:2]\n",
    "print(res)"
   ]
  },
  {
   "cell_type": "code",
   "execution_count": 114,
   "id": "038be8a9",
   "metadata": {},
   "outputs": [
    {
     "name": "stdout",
     "output_type": "stream",
     "text": [
      "[[1 4]\n",
      " [2 5]\n",
      " [3 6]]\n"
     ]
    }
   ],
   "source": [
    "original_array = np.array([[1, 2, 3],\n",
    "                           [4, 5, 6]])\n",
    "print(np.transpose(original_array ))"
   ]
  },
  {
   "cell_type": "code",
   "execution_count": 116,
   "id": "8ce6c6f9",
   "metadata": {},
   "outputs": [
    {
     "data": {
      "text/plain": [
       "array([[1, 4],\n",
       "       [2, 5],\n",
       "       [3, 6]])"
      ]
     },
     "execution_count": 116,
     "metadata": {},
     "output_type": "execute_result"
    }
   ],
   "source": [
    "np.swapaxes(original_array,0,1)"
   ]
  },
  {
   "cell_type": "code",
   "execution_count": 119,
   "id": "9e2ae200",
   "metadata": {},
   "outputs": [],
   "source": [
    "original_array = np.array([[5, 10],\n",
    "                           [15, 20],\n",
    "                           [25, 30]])\n",
    "i=[]"
   ]
  },
  {
   "cell_type": "code",
   "execution_count": 121,
   "id": "ee6aabb9",
   "metadata": {},
   "outputs": [
    {
     "data": {
      "text/plain": [
       "array([10, 20, 30])"
      ]
     },
     "execution_count": 121,
     "metadata": {},
     "output_type": "execute_result"
    }
   ],
   "source": [
    "original_array[original_array%2==0]"
   ]
  },
  {
   "cell_type": "markdown",
   "id": "924ad6c9",
   "metadata": {},
   "source": [
    "# Revision (2 Feb 2024)"
   ]
  },
  {
   "cell_type": "code",
   "execution_count": 2,
   "id": "eae5ba40",
   "metadata": {},
   "outputs": [
    {
     "name": "stdout",
     "output_type": "stream",
     "text": [
      "['False', 'None', 'True', 'and', 'as', 'assert', 'async', 'await', 'break', 'class', 'continue', 'def', 'del', 'elif', 'else', 'except', 'finally', 'for', 'from', 'global', 'if', 'import', 'in', 'is', 'lambda', 'nonlocal', 'not', 'or', 'pass', 'raise', 'return', 'try', 'while', 'with', 'yield']\n"
     ]
    }
   ],
   "source": [
    "import keyword as kw\n",
    "print(kw.kwlist)"
   ]
  },
  {
   "cell_type": "code",
   "execution_count": 3,
   "id": "076635c8",
   "metadata": {},
   "outputs": [
    {
     "name": "stdout",
     "output_type": "stream",
     "text": [
      "True\n"
     ]
    }
   ],
   "source": [
    "a =10 \n",
    "b = a\n",
    "print( a is b)"
   ]
  },
  {
   "cell_type": "code",
   "execution_count": 4,
   "id": "ef9f17c6",
   "metadata": {},
   "outputs": [
    {
     "name": "stdout",
     "output_type": "stream",
     "text": [
      "GATE CAT NEET JEE\n"
     ]
    }
   ],
   "source": [
    "print(\"GATE\",\"CAT\",\"NEET\",\"JEE\")"
   ]
  },
  {
   "cell_type": "code",
   "execution_count": 5,
   "id": "4d96821e",
   "metadata": {},
   "outputs": [
    {
     "name": "stdout",
     "output_type": "stream",
     "text": [
      "'Simmi' is alias for Sheetal\n"
     ]
    }
   ],
   "source": [
    "print(\"\\'Simmi\\' is alias for Sheetal\")"
   ]
  },
  {
   "cell_type": "markdown",
   "id": "4ef06d3f",
   "metadata": {},
   "source": [
    "# the eval function "
   ]
  },
  {
   "cell_type": "code",
   "execution_count": null,
   "id": "6d4d082c",
   "metadata": {},
   "outputs": [],
   "source": [
    "cont. tomo"
   ]
  }
 ],
 "metadata": {
  "kernelspec": {
   "display_name": "Python 3 (ipykernel)",
   "language": "python",
   "name": "python3"
  },
  "language_info": {
   "codemirror_mode": {
    "name": "ipython",
    "version": 3
   },
   "file_extension": ".py",
   "mimetype": "text/x-python",
   "name": "python",
   "nbconvert_exporter": "python",
   "pygments_lexer": "ipython3",
   "version": "3.11.4"
  }
 },
 "nbformat": 4,
 "nbformat_minor": 5
}
