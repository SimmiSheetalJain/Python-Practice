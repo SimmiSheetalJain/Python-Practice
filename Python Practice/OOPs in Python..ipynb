{
 "cells": [
  {
   "cell_type": "markdown",
   "id": "2db71f4c",
   "metadata": {},
   "source": [
    "<h1 style=\"color:rgb(34, 138, 103);text-align:center\">OOPs Concepts in Python Programming</h1>"
   ]
  },
  {
   "cell_type": "markdown",
   "id": "a17fb740",
   "metadata": {},
   "source": [
    "<img src=\"https://raw.githubusercontent.com/SimmiSheetalJain/Medias_for_notes_and_blogs/main/logo.webp\" width=50% height=30%>"
   ]
  },
  {
   "cell_type": "markdown",
   "id": "f99dbacd",
   "metadata": {},
   "source": [
    "<hr style=\"height:5px;\">"
   ]
  },
  {
   "cell_type": "markdown",
   "id": "74ed9c38",
   "metadata": {},
   "source": [
    "What's here?\n",
    "\n",
    "1. What are class and object?\n",
    "2. How to define class and object?\n",
    "3. Varibles in class?<br>\n",
    "---Instance Varible<br>\n",
    "---Local Variable<br>\n",
    "---Class varibles<br> \n",
    "4. methods in class?<br>\n",
    "---constructor:Constructor is a special method which is called automatically when an object is created<br>\n",
    "---Instanse Methods<br>\n",
    "---Static Methods<br>\n",
    "---Class Methods<br>\n",
    "5. Encapsulation \n",
    "6. Inheritance \n",
    "7. Polymorphism\n",
    "8. Abstraction\n"
   ]
  },
  {
   "cell_type": "markdown",
   "id": "969bba11",
   "metadata": {},
   "source": [
    "In object oriented programming, functioning of an organized code or a program depends on an object and these objects are created using a class. So, Let's first understand What's an object and a class?"
   ]
  },
  {
   "cell_type": "markdown",
   "id": "c8705901",
   "metadata": {},
   "source": [
    "<u><h2 style=\"color : Aqua\"> Object  </h2></u>"
   ]
  },
  {
   "cell_type": "markdown",
   "id": "85996adb",
   "metadata": {},
   "source": [
    "An object is a real world entity.An entity has attributes and associated behaviors or action. Similarly in OOPs, an object is a real world entity that has attributes and associated actions or behavior."
   ]
  },
  {
   "cell_type": "markdown",
   "id": "7ce0f1de",
   "metadata": {},
   "source": [
    "<h4> Example </h4>\n",
    "<p>Car is an object, and its attributes are color, mileage, speed, etc. and its functions are start, stop, accelerate, etc.</p>\n"
   ]
  },
  {
   "cell_type": "markdown",
   "id": "71868ab3",
   "metadata": {},
   "source": [
    "<u><h2 style=\"color : Aqua\"> Class </h2></u>"
   ]
  },
  {
   "cell_type": "markdown",
   "id": "17ae3122",
   "metadata": {},
   "source": [
    "To create multiple object having same attribute and functions but different values for their attributes, we use a bluprint or template of code. This bluprint or template is called class"
   ]
  },
  {
   "cell_type": "markdown",
   "id": "f2201486",
   "metadata": {},
   "source": [
    "<h4>Example of class and object:</h4>"
   ]
  },
  {
   "cell_type": "markdown",
   "id": "4993b906",
   "metadata": {},
   "source": [
    "human is a class and 'Shivani' is an object of the class human. "
   ]
  },
  {
   "cell_type": "markdown",
   "id": "a981bd44",
   "metadata": {},
   "source": [
    "<img src=\"https://github.com/SimmiSheetalJain/Medias_for_notes_and_blogs/blob/main/Class-Object.png?raw=true\" alt=\"Class-Object\" border=\"0\" style=\"width:500px;height=250px\">"
   ]
  },
  {
   "cell_type": "markdown",
   "id": "899b837b",
   "metadata": {},
   "source": [
    "<u><h2 style=\"color:Aqua;\">Procedure Oriented Programming Vs Object Oriented Programming</h2></u>"
   ]
  },
  {
   "cell_type": "markdown",
   "id": "df7807fc",
   "metadata": {},
   "source": [
    "<h4>In procedure oriented programming, we use fucntions while in OOPs we use concept of class and objects.</h4>"
   ]
  },
  {
   "cell_type": "markdown",
   "id": "4522c3a8",
   "metadata": {},
   "source": [
    "1. POP is easy to implement while OOPs is a little difficult\n",
    "2. POP uses functional approach while OOPs uses class and object concepts which help us in achieving encapsulation, inheritance, Polymorphism, Data Abstraction etc.\n",
    "3. We can reuse a function in POP while in OOPs, we can create multiple objects of a class in OOPs.\n",
    "4. In POP, it is difficult work with real world scenerio while in OOPs, it is easy to deal with real world scenerio.\n",
    "5. OOPs is more secure programming paradigm than POP\n",
    "6. We cannot create new data types using POP but with OOPs we can."
   ]
  },
  {
   "cell_type": "markdown",
   "id": "b96fb1ae",
   "metadata": {},
   "source": [
    "<u><h2 style=\"color:Aqua;\">How to create class and object in python</h2></u>"
   ]
  },
  {
   "cell_type": "markdown",
   "id": "ad139462",
   "metadata": {},
   "source": [
    "#### Syntax of defining a class:"
   ]
  },
  {
   "cell_type": "markdown",
   "id": "1c33e9e9",
   "metadata": {},
   "source": [
    "class class_name:<br>\n",
    "&emsp;&emsp;Initializer;<br>\n",
    "&emsp;&emsp;Attributes;<br>\n",
    "&emsp;&emsp;Methods;<br>\n",
    "&emsp;&emsp;Statement(S);<br>"
   ]
  },
  {
   "cell_type": "markdown",
   "id": "6d4f4e45",
   "metadata": {},
   "source": [
    "## Attributes and Methods\n",
    "A class contains data in the form of fields and these fields are called attribute and then these fields are coded in the form of procedures knowns as methods. These fields and methods pertains to a type of object and these attributes and methods belonging to a type of objects are coded inside a class. In this way, a programmer creates a class of his own and now he can use this class to create objects of this class type. "
   ]
  },
  {
   "cell_type": "code",
   "execution_count": 2,
   "id": "bb4ef84d",
   "metadata": {},
   "outputs": [],
   "source": [
    "#Example :\n",
    "class emp:\n",
    "    def __init__(self):\n",
    "        print(\"Object Created Successfully\")"
   ]
  },
  {
   "cell_type": "markdown",
   "id": "fa098254",
   "metadata": {},
   "source": [
    "Here,<b> __ init __()</b> is a constructor method. Hence, Whenever an object is created this method is called automatically."
   ]
  },
  {
   "cell_type": "markdown",
   "id": "8656c1b4",
   "metadata": {},
   "source": [
    "### Creating Object"
   ]
  },
  {
   "cell_type": "code",
   "execution_count": 3,
   "id": "14f417e6",
   "metadata": {},
   "outputs": [
    {
     "name": "stdout",
     "output_type": "stream",
     "text": [
      "Object Created Successfully\n",
      "Object Created Successfully\n"
     ]
    }
   ],
   "source": [
    " #Example : Creating an object \"Shivani\"\n",
    "shivani=emp()\n",
    "sheetal=emp()"
   ]
  },
  {
   "cell_type": "markdown",
   "id": "2103c1d1",
   "metadata": {},
   "source": [
    "<img src=\"https://github.com/SimmiSheetalJain/Medias_for_notes_and_blogs/blob/main/create-object.png?raw=true\" alt=\"p\" border=\"0\">"
   ]
  },
  {
   "cell_type": "markdown",
   "id": "0f1f6e5f",
   "metadata": {},
   "source": [
    "We can see the address is being passed by object 'shivani' and 'sheetal' to __ init __ (), and this is needed to be collected in some varible. This is why self-parameter needs to be taken. "
   ]
  },
  {
   "cell_type": "markdown",
   "id": "b9acb95d",
   "metadata": {},
   "source": [
    "##### Let's find the type of the object \"shivani\""
   ]
  },
  {
   "cell_type": "code",
   "execution_count": 7,
   "id": "19606453",
   "metadata": {},
   "outputs": [
    {
     "name": "stdout",
     "output_type": "stream",
     "text": [
      "<class '__main__.emp'>\n"
     ]
    }
   ],
   "source": [
    "print(type(shivani))"
   ]
  },
  {
   "cell_type": "markdown",
   "id": "2b65be25",
   "metadata": {},
   "source": [
    "The above output tells that \"Shivani\" is an instance of emp class in the <b>_ main _ </b>module"
   ]
  },
  {
   "cell_type": "markdown",
   "id": "6993c818",
   "metadata": {},
   "source": [
    "##### Let's print computer's memory address of object \"shivani\""
   ]
  },
  {
   "cell_type": "code",
   "execution_count": 9,
   "id": "25f80edc",
   "metadata": {},
   "outputs": [
    {
     "name": "stdout",
     "output_type": "stream",
     "text": [
      "<__main__.emp object at 0x000001BB6BD0E190>\n"
     ]
    }
   ],
   "source": [
    "print(shivani)"
   ]
  },
  {
   "cell_type": "markdown",
   "id": "8f74ac21",
   "metadata": {},
   "source": [
    "Pyhton stores an object in the memory wherever it finds space and we can say object \"shivani\" is storing a reference of class emp."
   ]
  },
  {
   "cell_type": "markdown",
   "id": "508f7aa7",
   "metadata": {},
   "source": [
    "### Adding attributes and assiging values"
   ]
  },
  {
   "cell_type": "markdown",
   "id": "7900292d",
   "metadata": {},
   "source": [
    "The below class 'rectangle' has two attributes, length and breadth. The initial value of these attributes is kept 0. As it can be seen in the below program, we can reassign values to attributes length and breadth."
   ]
  },
  {
   "cell_type": "code",
   "execution_count": 2,
   "id": "c93b2508",
   "metadata": {},
   "outputs": [
    {
     "name": "stdout",
     "output_type": "stream",
     "text": [
      "The value of attributes before reassignign :\n",
      " length 0 and breadth = 0\n",
      "The value of attributes after reassignign :\n",
      " length 20 and breadth = 30\n",
      "Area of the rectangle is  : 600\n"
     ]
    }
   ],
   "source": [
    "class rectangle:\n",
    "    length=0\n",
    "    breadth=0\n",
    "r1=rectangle()\n",
    "print(f\"The value of attributes before reassignign :\\n length {r1.length} and breadth = {r1.breadth}\")\n",
    "r1.length=20\n",
    "r1.breadth=30\n",
    "print(f\"The value of attributes after reassignign :\\n length {r1.length} and breadth = {r1.breadth}\")\n",
    "print(f\"Area of the rectangle is  : {r1.length * r1.breadth}\")"
   ]
  },
  {
   "cell_type": "markdown",
   "id": "e846f3a4",
   "metadata": {},
   "source": [
    "### The Self-Parameter"
   ]
  },
  {
   "cell_type": "markdown",
   "id": "81b2fc8f",
   "metadata": {},
   "source": [
    "Inside a class, there will be methods and variables. A varible of the class can be an instance variable, a local variable, and a class variable. A Method of the class can be an intance(or object) methods, a class methods, and a static methods.\n",
    "<br><br>\n",
    "The self parameter is a way for the instance of the class to refer to itself.In simpler terms, when you create an object, self refers to that specific object.\n",
    "<br><br>\n",
    "The parameter 'self' indicates in  __ init __() method that it's an object method. And when we are creating an object, the reference of the object is being passed to parameter 'self' and then the object 'Shivani' is getting referenced to an object of class emp."
   ]
  },
  {
   "cell_type": "markdown",
   "id": "431ce5e2",
   "metadata": {},
   "source": [
    "<u><h2 style=\"color:Aqua;\">Defining a class method with self-parameter and other parameters</h2></u>"
   ]
  },
  {
   "cell_type": "markdown",
   "id": "b3820226",
   "metadata": {},
   "source": [
    "As we know 'self' refrences the object itself.The parameter 'self' should be first parameter of each method. Because whenever an object is going to call a method, python compiler will send a reference of that object to the method. This is why 'self' should be the first parameter of each method.<br><br>\n",
    "The distinction between a class method and an ordinary function is that the self-parameter is used in the implementation of the class method but it not used while calling a method."
   ]
  },
  {
   "cell_type": "markdown",
   "id": "8755d06b",
   "metadata": {},
   "source": [
    "##### Let's create a simple method in a class myFirstMethod()"
   ]
  },
  {
   "cell_type": "code",
   "execution_count": 3,
   "id": "c29b7a0f",
   "metadata": {},
   "outputs": [
    {
     "name": "stdout",
     "output_type": "stream",
     "text": [
      "Welcome to Object Oriented Programming\n"
     ]
    }
   ],
   "source": [
    "class myFirstMethod:\n",
    "    def display_message(self):\n",
    "        print(\"Welcome to Object Oriented Programming\")\n",
    "ob=myFirstMethod()\n",
    "ob.display_message()"
   ]
  },
  {
   "cell_type": "markdown",
   "id": "c3539783",
   "metadata": {},
   "source": [
    "#### Q: Write a python program to create a class named circle and pass radius to a class method and find the area of the circle with that radius."
   ]
  },
  {
   "cell_type": "code",
   "execution_count": 12,
   "id": "10b46788",
   "metadata": {},
   "outputs": [
    {
     "name": "stdout",
     "output_type": "stream",
     "text": [
      "Radius =  5\n",
      "Area =  78.54\n"
     ]
    }
   ],
   "source": [
    "import math\n",
    "class circle:\n",
    "    def area(self, radius):\n",
    "        print(\"Radius = \",radius)\n",
    "        print(\"Area = \",format(math.pi*radius**2,\".2f\"))\n",
    "c1=circle()\n",
    "c1.area(5)"
   ]
  },
  {
   "cell_type": "markdown",
   "id": "39c3badf",
   "metadata": {},
   "source": [
    "#### Q: Write a python program to create a class named rectangle, pass length and breadth to a class method, and find the area of the rectangle."
   ]
  },
  {
   "cell_type": "code",
   "execution_count": 4,
   "id": "1bcc333c",
   "metadata": {},
   "outputs": [
    {
     "name": "stdout",
     "output_type": "stream",
     "text": [
      "Area of the rectangle with length and breadth 30 and 40 is :  1350\n"
     ]
    }
   ],
   "source": [
    "class rectangle:\n",
    "    def area_of_rectangle(self, l, w):\n",
    "        return l*w\n",
    "r1=rectangle()\n",
    "area=r1.area_of_rectangle(30,45)\n",
    "print(\"Area of the rectangle with length and breadth 30 and 40 is : \",area )"
   ]
  },
  {
   "cell_type": "markdown",
   "id": "4a9c9932",
   "metadata": {},
   "source": [
    "<u><h2 style=\"color:Aqua;\">Creating an object with specific values during instantiation and displaying those values</h2></u>"
   ]
  },
  {
   "cell_type": "code",
   "execution_count": 6,
   "id": "15317ac1",
   "metadata": {},
   "outputs": [
    {
     "name": "stdout",
     "output_type": "stream",
     "text": [
      "Name:Shivani Sharma\n",
      "Age:21\n",
      "Salary: 45000\n"
     ]
    }
   ],
   "source": [
    "#Example 1\n",
    "class emp:\n",
    "    def __init__(self,a,b,c):\n",
    "        self.name=a\n",
    "        self.age=b\n",
    "        self.salary=c\n",
    "    def display_data(self):\n",
    "        print(f\"Name:{self.name}\\nAge:{self.age}\\nSalary: {self.salary}\")\n",
    "shivani=emp(\"Shivani Sharma\",21,45000)\n",
    "shivani.display_data()"
   ]
  },
  {
   "cell_type": "markdown",
   "id": "5e00c42b",
   "metadata": {},
   "source": [
    "#### Let's undestand the above code:"
   ]
  },
  {
   "cell_type": "markdown",
   "id": "c477dcd2",
   "metadata": {},
   "source": [
    "<img src=\"https://github.com/SimmiSheetalJain/Medias_for_notes_and_blogs/blob/main/instance-class-local-variable.png?raw=true\" alt=\"p\" border=\"0\"> "
   ]
  },
  {
   "cell_type": "markdown",
   "id": "5a490a09",
   "metadata": {},
   "source": [
    "#### We can also access value of particular intance varible as follows:"
   ]
  },
  {
   "cell_type": "code",
   "execution_count": 9,
   "id": "518a2574",
   "metadata": {},
   "outputs": [
    {
     "data": {
      "text/plain": [
       "21"
      ]
     },
     "execution_count": 9,
     "metadata": {},
     "output_type": "execute_result"
    }
   ],
   "source": [
    "#Example 1.1\n",
    "shivani.age"
   ]
  },
  {
   "cell_type": "code",
   "execution_count": 10,
   "id": "f0fbcd11",
   "metadata": {},
   "outputs": [
    {
     "data": {
      "text/plain": [
       "'Shivani Sharma'"
      ]
     },
     "execution_count": 10,
     "metadata": {},
     "output_type": "execute_result"
    }
   ],
   "source": [
    "#Example 1.2\n",
    "shivani.name"
   ]
  },
  {
   "cell_type": "code",
   "execution_count": 11,
   "id": "560ec804",
   "metadata": {},
   "outputs": [
    {
     "data": {
      "text/plain": [
       "45000"
      ]
     },
     "execution_count": 11,
     "metadata": {},
     "output_type": "execute_result"
    }
   ],
   "source": [
    "#Example 1.3\n",
    "shivani.salary"
   ]
  },
  {
   "cell_type": "code",
   "execution_count": 14,
   "id": "f027260f",
   "metadata": {},
   "outputs": [
    {
     "name": "stdout",
     "output_type": "stream",
     "text": [
      "Name:Dipanshi Jain\n",
      "Class: 12\n",
      "Marks: 98\n",
      "-------------------------\n",
      "Name:Parveen Firoz\n",
      "Class: 11\n",
      "Marks: 98\n",
      "-------------------------\n",
      "Name:Sheetal Jain\n",
      "Class: 10\n",
      "Marks: 98\n",
      "-------------------------\n"
     ]
    }
   ],
   "source": [
    "#Example 2\n",
    "class student:\n",
    "    Name=\"\";Class=0;Marks=0\n",
    "    def __init__(self,a,b,c):\n",
    "        self.Name=a\n",
    "        self.Class=b\n",
    "        self.Marks=c\n",
    "    def show_data(self):\n",
    "        print(f\"Name:{self.Name}\\nClass: {self.Class}\\nMarks: {self.Marks}\")\n",
    "        print(\"-------------------------\")\n",
    "student1=student(\"Dipanshi Jain\",12,98)\n",
    "student1.show_data()\n",
    "student2=student(\"Parveen Firoz\",11,98)\n",
    "student2.show_data()\n",
    "student3=student(\"Sheetal Jain\",10,98)\n",
    "student3.show_data()"
   ]
  },
  {
   "cell_type": "code",
   "execution_count": 65,
   "id": "db6da3cb",
   "metadata": {},
   "outputs": [
    {
     "name": "stdout",
     "output_type": "stream",
     "text": [
      "Name:Dipanshi Jain\n",
      "Class: 12\n",
      "Marks: 98\n",
      "-------------------------\n",
      "Name:Parveen Firoz\n",
      "Class: 11\n",
      "Marks: 98\n",
      "-------------------------\n",
      "Name:Sheetal Jain\n",
      "Class: 10\n",
      "Marks: 98\n",
      "-------------------------\n"
     ]
    }
   ],
   "source": [
    "#Example 2\n",
    "class student:\n",
    "    Name=\"\"\n",
    "    def __init__(self,a,b,c):\n",
    "        self.Name=a\n",
    "        self.Class=b\n",
    "        self.Marks=c\n",
    "    def show_data(self):\n",
    "        print(f\"Name:{self.Name}\\nClass: {self.Class}\\nMarks: {self.Marks}\")\n",
    "        print(\"-------------------------\")\n",
    "student1=student(\"Dipanshi Jain\",12,98)\n",
    "student1.show_data()\n",
    "student2=student(\"Parveen Firoz\",11,98)\n",
    "student2.show_data()\n",
    "student3=student(\"Sheetal Jain\",10,98)\n",
    "student3.show_data()"
   ]
  },
  {
   "cell_type": "markdown",
   "id": "a0c4bf4b",
   "metadata": {},
   "source": [
    "### We can also pass an object of the same class as an argument"
   ]
  },
  {
   "cell_type": "code",
   "execution_count": 51,
   "id": "7a02dd28",
   "metadata": {},
   "outputs": [
    {
     "name": "stdout",
     "output_type": "stream",
     "text": [
      "Hello!!Dear Friend\n"
     ]
    }
   ],
   "source": [
    "#Example\n",
    "'''Let's say two person are friends if the \n",
    "difference between theie class roll number is 3'''\n",
    "class friend:\n",
    "    def __init__(self,a,b):\n",
    "        self.name=a\n",
    "        self.rno=b\n",
    "\n",
    "    def areFriends(self,obj):\n",
    "        if abs(obj.rno-self.rno)==3:\n",
    "            print(\"Hello!!Dear Friend\")\n",
    "        else:\n",
    "            print(\"Sorry!! I don't know who are you.\")\n",
    "\n",
    "shivani=friend('Shivani',38)\n",
    "sheetal=friend('Sheetal',41)\n",
    "shivani.areFriends(sheetal)"
   ]
  },
  {
   "cell_type": "markdown",
   "id": "750f7235",
   "metadata": {},
   "source": [
    "<u><h2 style=\"color:Aqua;\">Display Class Attributes and Methods</h2></u>"
   ]
  },
  {
   "cell_type": "markdown",
   "id": "558622c5",
   "metadata": {},
   "source": [
    "To display class attributes and method we can use either of dir() and __ dict __"
   ]
  },
  {
   "cell_type": "code",
   "execution_count": 18,
   "id": "e2bfaa32",
   "metadata": {},
   "outputs": [
    {
     "data": {
      "text/plain": [
       "['Class',\n",
       " 'Marks',\n",
       " 'Name',\n",
       " '__class__',\n",
       " '__delattr__',\n",
       " '__dict__',\n",
       " '__dir__',\n",
       " '__doc__',\n",
       " '__eq__',\n",
       " '__format__',\n",
       " '__ge__',\n",
       " '__getattribute__',\n",
       " '__getstate__',\n",
       " '__gt__',\n",
       " '__hash__',\n",
       " '__init__',\n",
       " '__init_subclass__',\n",
       " '__le__',\n",
       " '__lt__',\n",
       " '__module__',\n",
       " '__ne__',\n",
       " '__new__',\n",
       " '__reduce__',\n",
       " '__reduce_ex__',\n",
       " '__repr__',\n",
       " '__setattr__',\n",
       " '__sizeof__',\n",
       " '__str__',\n",
       " '__subclasshook__',\n",
       " '__weakref__',\n",
       " 'show_data']"
      ]
     },
     "execution_count": 18,
     "metadata": {},
     "output_type": "execute_result"
    }
   ],
   "source": [
    "## Example 1: Using dir()\n",
    "dir(student)"
   ]
  },
  {
   "cell_type": "markdown",
   "id": "fdf13b73",
   "metadata": {},
   "source": [
    "As it can be seen in the above example, dir() returns the list of the class attributes and methods."
   ]
  },
  {
   "cell_type": "code",
   "execution_count": 21,
   "id": "792936cc",
   "metadata": {},
   "outputs": [
    {
     "data": {
      "text/plain": [
       "mappingproxy({'__module__': '__main__',\n",
       "              'Name': '',\n",
       "              'Class': 0,\n",
       "              'Marks': 0,\n",
       "              '__init__': <function __main__.student.__init__(self, a, b, c)>,\n",
       "              'show_data': <function __main__.student.show_data(self)>,\n",
       "              '__dict__': <attribute '__dict__' of 'student' objects>,\n",
       "              '__weakref__': <attribute '__weakref__' of 'student' objects>,\n",
       "              '__doc__': None})"
      ]
     },
     "execution_count": 21,
     "metadata": {},
     "output_type": "execute_result"
    }
   ],
   "source": [
    "# Example 2:  Using __dict__\n",
    "student.__dict__"
   ]
  },
  {
   "cell_type": "markdown",
   "id": "d215afe6",
   "metadata": {},
   "source": [
    "the __ dict __ class attribute is a special attribute.It returns the details of the class containing methods and attributes."
   ]
  },
  {
   "cell_type": "markdown",
   "id": "a892ebe5",
   "metadata": {},
   "source": [
    "__Notes__: Every class contains dome default methods and attributes which we call a special method or attribute"
   ]
  },
  {
   "cell_type": "markdown",
   "id": "4fb9ad5b",
   "metadata": {},
   "source": [
    "<u><h2 style=\"color:Aqua;\">Accessibility</h2></u>"
   ]
  },
  {
   "cell_type": "markdown",
   "id": "45911244",
   "metadata": {},
   "source": [
    "In Python, we don't have public, private, and protected keywords. We add two underscores in front of a method or attribute to make it private. It helps in hiding them from access out of class"
   ]
  },
  {
   "cell_type": "markdown",
   "id": "a26f5e58",
   "metadata": {},
   "source": [
    "__Remark__ : The method starting and ending with two continuous double underscores is called dunder method"
   ]
  },
  {
   "cell_type": "markdown",
   "id": "409c55da",
   "metadata": {},
   "source": [
    "#### For Example:"
   ]
  },
  {
   "cell_type": "markdown",
   "id": "21267ada",
   "metadata": {},
   "source": [
    "We add to underscored infront of 'init' to make it private and hide from access out of class."
   ]
  },
  {
   "cell_type": "code",
   "execution_count": 34,
   "id": "9f8f97bd",
   "metadata": {},
   "outputs": [
    {
     "name": "stdout",
     "output_type": "stream",
     "text": [
      "Hello!!\n",
      "Name :  Bill Gates\n",
      "Your details from public method : \n",
      "Name : Bill Gates\n"
     ]
    },
    {
     "ename": "AttributeError",
     "evalue": "'person' object has no attribute '__bank_ac_no'",
     "output_type": "error",
     "traceback": [
      "\u001b[1;31m---------------------------------------------------------------------------\u001b[0m",
      "\u001b[1;31mAttributeError\u001b[0m                            Traceback (most recent call last)",
      "Cell \u001b[1;32mIn[34], line 14\u001b[0m\n\u001b[0;32m     12\u001b[0m p\u001b[38;5;241m.\u001b[39mshow_name()\n\u001b[0;32m     13\u001b[0m \u001b[38;5;66;03m#Accessing Private attribute but getting error\u001b[39;00m\n\u001b[1;32m---> 14\u001b[0m \u001b[38;5;28mprint\u001b[39m(\u001b[38;5;124m\"\u001b[39m\u001b[38;5;124mName : \u001b[39m\u001b[38;5;124m\"\u001b[39m,p\u001b[38;5;241m.\u001b[39m__bank_ac_no, p\u001b[38;5;241m.\u001b[39m\u001b[38;5;21m__init__\u001b[39m())\n",
      "\u001b[1;31mAttributeError\u001b[0m: 'person' object has no attribute '__bank_ac_no'"
     ]
    }
   ],
   "source": [
    "class person:\n",
    "    def __init__(self):                       #A Private Method\n",
    "        self.name='Bill Gates'                #A public attribute \n",
    "        self.__bank_ac_no='9823748633974'     #A private attribute\n",
    "        print(\"Hello!!\")\n",
    "    def show_name(self):\n",
    "        print(f\"Name : {self.name}\")\n",
    "#Accesing Public attribute and method\n",
    "p=person()\n",
    "print(\"Name : \",p.name)\n",
    "print(f\"Your details from public method : \")\n",
    "p.show_name()\n",
    "#Accessing Private attribute but getting error\n",
    "print(\"Name : \",p.__bank_ac_no)"
   ]
  },
  {
   "cell_type": "markdown",
   "id": "4c604741",
   "metadata": {},
   "source": [
    "<u><h2 style=\"color:Aqua;\">Deconstructor Method</h2></u>"
   ]
  },
  {
   "cell_type": "markdown",
   "id": "771a0550",
   "metadata": {},
   "source": [
    "__ del __ (__self__)<br>&emsp;&emsp;block<br> The above method is the destructor method and is executed one per instance. It is executed only if all the references to an object have been removed because like other Object oriented programming languages, python manages a garbage collection of objects by reference counting"
   ]
  },
  {
   "cell_type": "code",
   "execution_count": 6,
   "id": "793294ad",
   "metadata": {},
   "outputs": [
    {
     "name": "stdout",
     "output_type": "stream",
     "text": [
      "Object Created Successfully\n",
      "Objected Destroyed\n",
      "Id of Obj1:  2251951381840\n",
      "Id of Obj2:  2251951381840\n",
      "Id of Obj3:  2251951381840\n"
     ]
    },
    {
     "data": {
      "text/plain": [
       "'Comment the line \"del ob3\" and run cell to see that deconstructor \\nexecutes when no reference to an object is there in memory'"
      ]
     },
     "execution_count": 6,
     "metadata": {},
     "output_type": "execute_result"
    }
   ],
   "source": [
    "#Example: \n",
    "class deconstructor_test:\n",
    "    def __init__(self):\n",
    "        print(\"Object Created Successfully\")\n",
    "    def __del__(self):\n",
    "        print(\"Objected Destroyed\")\n",
    "ob1=deconstructor_test()\n",
    "ob2=ob1\n",
    "ob3=ob1\n",
    "print(\"Id of Obj1: \",id(ob1))\n",
    "print(\"Id of Obj2: \",id(ob2))\n",
    "print(\"Id of Obj3: \",id(ob3))\n",
    "\n",
    "del ob1\n",
    "del ob2\n",
    "del ob3    \n",
    "'''Comment the line \"del ob3\" and run cell to see that deconstructor \n",
    "executes when no reference to an object is there in memory'''"
   ]
  },
  {
   "cell_type": "markdown",
   "id": "19dc0495",
   "metadata": {},
   "source": [
    "<u><h2 style=\"color:Aqua;\">isinstance(obj, class_name)</h2></u>"
   ]
  },
  {
   "cell_type": "markdown",
   "id": "f7fc16d8",
   "metadata": {},
   "source": [
    "We use this function to check whether the passed object belongs to a particular class.If it belongs, the isinstance() returns True else False"
   ]
  },
  {
   "cell_type": "code",
   "execution_count": 52,
   "id": "f77b9d28",
   "metadata": {},
   "outputs": [
    {
     "data": {
      "text/plain": [
       "True"
      ]
     },
     "execution_count": 52,
     "metadata": {},
     "output_type": "execute_result"
    }
   ],
   "source": [
    "#Example:Let's check whether the instance 'sheetal' belongs to class friend\n",
    "isinstance(sheetal,friend)"
   ]
  },
  {
   "cell_type": "markdown",
   "id": "66888de0",
   "metadata": {},
   "source": [
    "### Q: Create a class circle such that it intializes object with radius passed while creating object.Print area and circumference using instance methods."
   ]
  },
  {
   "cell_type": "code",
   "execution_count": 64,
   "id": "9910caab",
   "metadata": {},
   "outputs": [
    {
     "name": "stdout",
     "output_type": "stream",
     "text": [
      "Enter the radius :5\n",
      "Area is :  78.54  cm square\n",
      "Circumference is : 31.42 cm square\n"
     ]
    }
   ],
   "source": [
    "import math\n",
    "class circle:\n",
    "    def __init__(self,r):\n",
    "        self.radius=r\n",
    "    def area(self):\n",
    "        print(\"Area is : \",format(math.pi*self.radius**2,\"0.2f\"),\" cm square\")\n",
    "    def circumference(self):\n",
    "        print(\"Circumference is :\",format(2*math.pi*self.radius,\"0.2f\"),\"cm square\")\n",
    "r=int(input(\"Enter the radius :\"))\n",
    "c1=circle(r)\n",
    "c1.area()\n",
    "c1.circumference()"
   ]
  },
  {
   "cell_type": "markdown",
   "id": "a7608635",
   "metadata": {},
   "source": [
    "<u><h2 style=\"color:Aqua;\">Class, Instance, and Local Varible</h2></u>"
   ]
  },
  {
   "cell_type": "markdown",
   "id": "84bf6f4a",
   "metadata": {},
   "source": [
    "<img src=\"https://github.com/SimmiSheetalJain/Medias_for_notes_and_blogs/blob/main/question.png?raw=true\" alt='q'>"
   ]
  },
  {
   "cell_type": "code",
   "execution_count": 18,
   "id": "c58e854e",
   "metadata": {},
   "outputs": [
    {
     "name": "stdout",
     "output_type": "stream",
     "text": [
      "Enter the incresement percentage : 25\n",
      "Name : Vaishnavi\n",
      "Age : 21\n",
      "Salary : 45000\n",
      "------------------------------------------\n",
      "Name : Anjali\n",
      "Age : 25\n",
      "Salary : 80000\n",
      "------------------------------------------\n",
      "Name : Vaishnavi\n",
      "Age : 21\n",
      "Salary : 56250.0\n",
      "------------------------------------------\n",
      "Name : Anjali\n",
      "Age : 25\n",
      "Salary : 100000.0\n",
      "------------------------------------------\n"
     ]
    }
   ],
   "source": [
    "#Example 2\n",
    "class emp:\n",
    "    #raise_amt is a class varible.\n",
    "    raise_amt=int(input(\"Enter the incresement percentage : \"))\n",
    "    def __init__(self,n,a,s):  # n,a,s are      \n",
    "        self.name=n            # name, age, sal are instance varibale \n",
    "        self.age=a\n",
    "        self.sal=s\n",
    "    def increase_sal(self):\n",
    "        self.sal=self.sal*(1+(self.ra_amt/100))\n",
    "    def display(self):\n",
    "        print(f\"Name : {self.name}\")\n",
    "        print(f\"Age : {self.age}\")\n",
    "        print(f\"Salary : {self.sal}\")\n",
    "        print(\"------------------------------------------\")\n",
    "v=emp(\"Vaishnavi\",21,45000)\n",
    "a=emp(\"Anjali\",25,80000)\n",
    "v.display()\n",
    "a.display()\n",
    "emp.raise_amt\n",
    "v.increase_sal()\n",
    "a.increase_sal()\n",
    "v.display()\n",
    "a.display()"
   ]
  },
  {
   "cell_type": "markdown",
   "id": "6dd9433b",
   "metadata": {},
   "source": [
    "#### 1. Class Variable (raise_amt):\n",
    "\n",
    "✔ Class variables are shared among all instances of a class. <br>\n",
    "✔ In the above example, raise_amt is a class variable, as it is defined within the class but outside any instance method.<br>\n",
    "✔ It is common to use class variables for attributes that are shared by all instances of the class.<br>\n",
    "\n",
    "#### 2. Instance Variables (name, age, sal):\n",
    "\n",
    "✔ Instance variables are unique to each instance of a class.<br>\n",
    "✔ In the above example, name, age, and sal are instance variables, as they are defined within the __ init __ method and are specific to each object created from the emp class. <br>\n",
    "✔ These variables hold data that varies from one instance to another. <br>\n",
    "\n",
    "#### 3. Local Variables (e.g., n, a, s):\n",
    "\n",
    "✔ Local variables are variables that are defined within a method and are only accessible within that method. <br>\n",
    "✔ In the above example, n, a, and s are local variables in the __ init __ method. They are used to store the values passed as arguments during the creation of an instance. <br>\n"
   ]
  },
  {
   "cell_type": "markdown",
   "id": "e0b24d2c",
   "metadata": {},
   "source": [
    "<u><h2 style=\"color:Aqua;\">Namespace</h2></u>"
   ]
  },
  {
   "cell_type": "markdown",
   "id": "1f162a58",
   "metadata": {},
   "source": [
    "A namespace is a memory block where names are mapped to objects:\n",
    "is has a namespace, camed as class namespace. An instance has a namespace, named instance namespace. "
   ]
  },
  {
   "cell_type": "markdown",
   "id": "6365400f",
   "metadata": {},
   "source": [
    "<u><h2 style=\"color:Aqua;\">Instance, Class and Static Methods</h2></u>"
   ]
  },
  {
   "cell_type": "markdown",
   "id": "d376d6a7",
   "metadata": {},
   "source": [
    "### 1. Instance Method:  \n",
    "Instance methods are the methods that are used by a class instance(or object). Since, they are instance method, they need address of the instance which is calling the instance method, so we need to take address through 'self' varible.We call instance method using dot (.) operator, object_name.method_name(arguments).See below example for better understanding,"
   ]
  },
  {
   "cell_type": "code",
   "execution_count": 2,
   "id": "95c16dd9",
   "metadata": {},
   "outputs": [
    {
     "name": "stdout",
     "output_type": "stream",
     "text": [
      "Enter Your Name :Shivani Sharma \n",
      "Enter Your Age :21\n",
      "Enter Your Marks :15\n",
      "Name : Shivani Sharma \n",
      "Age: 21\n",
      "Marks: 15\n",
      "Branch: MCA\n"
     ]
    }
   ],
   "source": [
    "#Example \n",
    "class students:\n",
    "    def __init__(self):\n",
    "        self.dept=\"MCA\"\n",
    "    def readData(self):\n",
    "        name=input(\"Enter Your Name :\")\n",
    "        self.name=name\n",
    "        age=int(input(\"Enter Your Age :\"))\n",
    "        self.age=age\n",
    "        marks=int(input(\"Enter Your Marks :\"))\n",
    "        self.marks=marks\n",
    "    def displayData(self):\n",
    "        print(f\"Name : {self.name}\\nAge: {self.age}\\nMarks: {self.marks}\\nBranch: {self.dept}\")\n",
    "\n",
    "stu1=students()\n",
    "stu1.readData()\n",
    "stu1.displayData()"
   ]
  },
  {
   "cell_type": "markdown",
   "id": "232a4b66",
   "metadata": {},
   "source": [
    "It can be seen, in the above example readData() and displayData() are isntance method."
   ]
  },
  {
   "cell_type": "markdown",
   "id": "ba71a54c",
   "metadata": {},
   "source": [
    "### 2. Class Method:\n",
    "✔Class_method is a class method defined using the @classmethod decorator. It takes cls as its first parameter, allowing it to access and modify class-level attributes.\\\n",
    "✔A class method is bound to a class.\\\n",
    "✔A class method is invoked using the class reference itself. But it can be invoked using the object reference also\\\n",
    "✔We use decorator '@classmethod' to  define a method as a class method.\\\n",
    "✔Class methods operators on class varibles only.\n"
   ]
  },
  {
   "cell_type": "code",
   "execution_count": 5,
   "id": "d50ebcec",
   "metadata": {},
   "outputs": [
    {
     "name": "stdout",
     "output_type": "stream",
     "text": [
      "Enter Your Name :Sheetal \n",
      "Enter Your Age :23\n",
      "Enter Your Marks :75\n",
      "Enter the Branch: MCA\n",
      "Your information is as follows : \n",
      "Name : Sheetal \n",
      "Age: 23\n",
      "Marks: 75\n",
      "Branch: MCA\n"
     ]
    }
   ],
   "source": [
    "#Example\n",
    "class students:\n",
    "    @classmethod\n",
    "    def set_Dept(cls):\n",
    "        cls.dept=input(\"Enter the Branch: \")\n",
    "    def __init__(self):\n",
    "        pass\n",
    "    def readData(self):\n",
    "        name=input(\"Enter Your Name :\")\n",
    "        self.name=name\n",
    "        age=int(input(\"Enter Your Age :\"))\n",
    "        self.age=age\n",
    "        marks=int(input(\"Enter Your Marks :\"))\n",
    "        self.marks=marks\n",
    "        students.set_Dept()\n",
    "    def displayData(self):\n",
    "        print(\"Your information is as follows : \")\n",
    "        print(f\"Name : {self.name}\\nAge: {self.age}\\nMarks: {self.marks}\\nBranch: {self.dept}\")\n",
    "\n",
    "stu1=students()\n",
    "stu1.readData()\n",
    "stu1.displayData()\n"
   ]
  },
  {
   "cell_type": "code",
   "execution_count": 31,
   "id": "5dcd0667",
   "metadata": {},
   "outputs": [
    {
     "name": "stdout",
     "output_type": "stream",
     "text": [
      "Name : Roma Batham\n",
      "Age : 21\n",
      "Salary : 20000\n",
      "------------------------------------------\n"
     ]
    }
   ],
   "source": [
    "#Example\n",
    "class emp:\n",
    "    raise_amt=0\n",
    "    @classmethod\n",
    "    def set_raise_amt(cls):\n",
    "        emp.raise_amt=int(input(\"Enter the incresement percentage : \"))\n",
    "    def __init__(self,n,a,s):  # n,a,s are      \n",
    "        self.name=n            # name, age, sal are instance varibale \n",
    "        self.age=a\n",
    "        self.sal=s\n",
    "    def increase_sal(self):\n",
    "        self.sal=self.sal*(1+(emp.raise_amt/100))\n",
    "    def display(self):\n",
    "        print(f\"Name : {self.name}\")\n",
    "        print(f\"Age : {self.age}\")\n",
    "        print(f\"Salary : {self.sal}\")\n",
    "        print(\"------------------------------------------\")\n",
    "roma=emp(\"Roma Batham\", 21, 20000)\n",
    "roma.display()"
   ]
  },
  {
   "cell_type": "code",
   "execution_count": 34,
   "id": "a2dde717",
   "metadata": {},
   "outputs": [
    {
     "name": "stdout",
     "output_type": "stream",
     "text": [
      "Enter the incresement percentage : 20\n",
      "Name : Roma Batham\n",
      "Age : 21\n",
      "Salary : 28800.0\n",
      "------------------------------------------\n"
     ]
    }
   ],
   "source": [
    "#A class method can be invoked by an object\n",
    "roma.set_raise_amt()\n",
    "#Increasing Roma's Salary\n",
    "roma.increase_sal()\n",
    "#Display Roma's updated salary and other information\n",
    "roma.display()"
   ]
  },
  {
   "cell_type": "markdown",
   "id": "5e5994be",
   "metadata": {},
   "source": [
    "### 3. Static Method:\n",
    "✔ Static methods are utility method that blong to a class.\\\n",
    "✔ The can be invoked by the class name but cannot be invoked by an instance.\\\n",
    "✔ Instance method have access to class varible but they don't have access to instance variable\n",
    "✔ They are defined using the @staticmethod.\\\n",
    "✔ We don't need to pass any class reference in static method because they operate on the class itself and Python automatically handles the binding of the static method to the class itself."
   ]
  },
  {
   "cell_type": "code",
   "execution_count": 35,
   "id": "f0da01f3",
   "metadata": {},
   "outputs": [],
   "source": [
    "#Example \n",
    "class math:\n",
    "    @staticmethod\n",
    "    def square(x):\n",
    "        return x**2\n",
    "    @staticmethod\n",
    "    def cube(x):\n",
    "        return x**3        "
   ]
  },
  {
   "cell_type": "code",
   "execution_count": 36,
   "id": "655d00e0",
   "metadata": {},
   "outputs": [
    {
     "data": {
      "text/plain": [
       "25"
      ]
     },
     "execution_count": 36,
     "metadata": {},
     "output_type": "execute_result"
    }
   ],
   "source": [
    "#Calling a staticmethod\n",
    "math.square(5)"
   ]
  },
  {
   "cell_type": "code",
   "execution_count": 38,
   "id": "cde6ef1f",
   "metadata": {},
   "outputs": [
    {
     "data": {
      "text/plain": [
       "125"
      ]
     },
     "execution_count": 38,
     "metadata": {},
     "output_type": "execute_result"
    }
   ],
   "source": [
    "#Calling a staticmethod\n",
    "math.cube(5)"
   ]
  },
  {
   "cell_type": "code",
   "execution_count": 41,
   "id": "9a78ca8f",
   "metadata": {},
   "outputs": [
    {
     "data": {
      "text/plain": [
       "625"
      ]
     },
     "execution_count": 41,
     "metadata": {},
     "output_type": "execute_result"
    }
   ],
   "source": [
    "#Example \n",
    "class math:\n",
    "    def quadrupled(x):  # a method without having class/object reference is considered a static method .\n",
    "        return x**4\n",
    "math.quadrupled(5)"
   ]
  },
  {
   "cell_type": "markdown",
   "id": "60bb751e",
   "metadata": {},
   "source": [
    "<h1 style=\"text-align:center;color:aqua;font-size: 300%\"> Encapsulation </h1>\n",
    "<img src=\"https://raw.githubusercontent.com/SimmiSheetalJain/Medias_for_notes_and_blogs/main/encapsulation.webp\" width=50% height=15%>"
   ]
  },
  {
   "cell_type": "markdown",
   "id": "bdbf786f",
   "metadata": {},
   "source": [
    "✔ Encapsulatio it is a concept in OOPs.\\\n",
    "✔ Wrapping or binding up data and methods to make them accessible only to an authentic user.\\\n",
    "✔ Encapsulation is achieved by making data private.\\\n",
    "✔ We can make our variables and methods public, private, and protected.\\\n",
    "✔ To make our variable and method private, we place double underscores <span style=\"color:purple;\"> \" __ \"</span> before the variable/method name.\\\n",
    "✔ To make our variable and method private, we place single underscores <span style=\"color:purple;\"> ' _ ' </span> before the variable/method name.\\\n",
    "✔ Once we make a varible private/protectded, we can't access varible/methods directly"
   ]
  },
  {
   "cell_type": "code",
   "execution_count": 26,
   "id": "16d79f9c",
   "metadata": {},
   "outputs": [],
   "source": [
    "#Example \n",
    "class car:\n",
    "    __Brand=\" \"\n",
    "    @classmethod\n",
    "    def set_brand(cls):\n",
    "        cls.__Brand=input(\"Enter the Brand : \")\n",
    "    def set_data(self):\n",
    "        self.__Color=input(\"Enter the color of the car: \")\n",
    "        self.__MPG=int(input(\"Enter the MPG: \"))\n",
    "    def __display_data(self):\n",
    "        print(f\"Brand : {self.__Brand}\\nColor : {self.__Color}\\nMPG : {self.__MPG}\\n\")\n",
    "        \n",
    "    def show(self):\n",
    "        self.__display_data()"
   ]
  },
  {
   "cell_type": "code",
   "execution_count": 27,
   "id": "709d9073",
   "metadata": {},
   "outputs": [
    {
     "ename": "AttributeError",
     "evalue": "'car' object has no attribute '__Brand'",
     "output_type": "error",
     "traceback": [
      "\u001b[1;31m---------------------------------------------------------------------------\u001b[0m",
      "\u001b[1;31mAttributeError\u001b[0m                            Traceback (most recent call last)",
      "Cell \u001b[1;32mIn[27], line 3\u001b[0m\n\u001b[0;32m      1\u001b[0m \u001b[38;5;66;03m#We cannot access private variable Brand, Color, and MPG directly from outside the class \u001b[39;00m\n\u001b[0;32m      2\u001b[0m c1\u001b[38;5;241m=\u001b[39mcar()\n\u001b[1;32m----> 3\u001b[0m c1\u001b[38;5;241m.\u001b[39m__Brand\n",
      "\u001b[1;31mAttributeError\u001b[0m: 'car' object has no attribute '__Brand'"
     ]
    }
   ],
   "source": [
    "#We cannot access private variable Brand, Color, and MPG directly from outside the class \n",
    "c1=car()\n",
    "c1.__Brand    #Check other vairbles"
   ]
  },
  {
   "cell_type": "code",
   "execution_count": 28,
   "id": "9f8aa688",
   "metadata": {},
   "outputs": [
    {
     "name": "stdout",
     "output_type": "stream",
     "text": [
      "Enter the Brand : SUV\n",
      "Enter the color of the car: Yellow\n",
      "Enter the MPG: 150\n"
     ]
    }
   ],
   "source": [
    "#Then we can access them within a class using a method which an instance can access\n",
    "car.set_brand()\n",
    "c1.set_data()"
   ]
  },
  {
   "cell_type": "code",
   "execution_count": 29,
   "id": "bd0c451f",
   "metadata": {},
   "outputs": [
    {
     "ename": "AttributeError",
     "evalue": "'car' object has no attribute '__display_data'",
     "output_type": "error",
     "traceback": [
      "\u001b[1;31m---------------------------------------------------------------------------\u001b[0m",
      "\u001b[1;31mAttributeError\u001b[0m                            Traceback (most recent call last)",
      "Cell \u001b[1;32mIn[29], line 2\u001b[0m\n\u001b[0;32m      1\u001b[0m \u001b[38;5;66;03m#We cannot access a private method \u001b[39;00m\n\u001b[1;32m----> 2\u001b[0m c1\u001b[38;5;241m.\u001b[39m__display_data()\n",
      "\u001b[1;31mAttributeError\u001b[0m: 'car' object has no attribute '__display_data'"
     ]
    }
   ],
   "source": [
    "#We cannot access a private method \n",
    "c1.__display_data()"
   ]
  },
  {
   "cell_type": "code",
   "execution_count": 30,
   "id": "535dcde0",
   "metadata": {},
   "outputs": [
    {
     "name": "stdout",
     "output_type": "stream",
     "text": [
      "Brand : SUV\n",
      "Color : Yellow\n",
      "MPG : 150\n",
      "\n"
     ]
    }
   ],
   "source": [
    "#But we can access private method within the class using an instance method\n",
    "c1.show()"
   ]
  },
  {
   "cell_type": "markdown",
   "id": "a5d865f3",
   "metadata": {},
   "source": [
    "<h1 style=\"text-align:center;color:aqua;font-size: 300%\"> Inheritance </h1>\n",
    "<img src=\"https://github.com/SimmiSheetalJain/Medias_for_notes_and_blogs/blob/main/Inheritance_Types.png?raw=true\" alt=\"Error\">"
   ]
  },
  {
   "cell_type": "markdown",
   "id": "758c4b55",
   "metadata": {},
   "source": [
    "\n",
    "## _◎ Important Points_<br>\n",
    "✔ Inheritance defines parent-child relatioanship of classes in Object Oriented Programming.\\\n",
    "✔ There are five types of inheritances.\\\n",
    "<img src=\"https://media.geeksforgeeks.org/wp-content/uploads/20220707180832/typesofinheritance.gif\" width=50% height=30%>\n",
    "✔ A child class can override a method of a parent class.\\\n",
    "✔ Every class inherits object class(an in-built base class).\\\n",
    "✔ Inheritance helps in achieving code reusability.\\\n",
    "✔ Every class in Python is a subclass of this object class."
   ]
  },
  {
   "cell_type": "markdown",
   "id": "183ba1aa",
   "metadata": {},
   "source": [
    "#### 1. Simple Inheritance\n",
    "When a child class has an only parent class and a parent class has an only child class"
   ]
  },
  {
   "cell_type": "code",
   "execution_count": 32,
   "id": "662b159b",
   "metadata": {},
   "outputs": [],
   "source": [
    "#Example \n",
    "class A:\n",
    "    pass\n",
    "class B(A):       #Class B inherits class A\n",
    "    pass"
   ]
  },
  {
   "cell_type": "markdown",
   "id": "d375132e",
   "metadata": {},
   "source": [
    "### A real world example of single inheritance "
   ]
  },
  {
   "cell_type": "code",
   "execution_count": 1,
   "id": "b4cdecd1",
   "metadata": {},
   "outputs": [],
   "source": [
    "class animals:\n",
    "    def eats(self):\n",
    "        print(\"Yes!! It eats\")\n",
    "    def sleeps(self):\n",
    "        print(\"Yes!! It Sleeps\")\n",
    "class bird(animals):\n",
    "    def fly(self):\n",
    "        print(\"Yes it flies\")\n",
    "    def set_type(self,type):\n",
    "        self.type=type\n",
    "    def __repr__(self):\n",
    "        return \"I am a/an \"+self.type\n"
   ]
  },
  {
   "cell_type": "code",
   "execution_count": 4,
   "id": "01911088",
   "metadata": {},
   "outputs": [
    {
     "name": "stdout",
     "output_type": "stream",
     "text": [
      "Yes!! It Sleeps\n",
      "Yes!! It eats\n"
     ]
    }
   ],
   "source": [
    "#Creating an object of class bird and accessing parent class methods\n",
    "duck=bird()\n",
    "duck.sleeps()\n",
    "duck.eats()"
   ]
  },
  {
   "cell_type": "code",
   "execution_count": 6,
   "id": "7fa04f75",
   "metadata": {},
   "outputs": [
    {
     "name": "stdout",
     "output_type": "stream",
     "text": [
      "I am a/an Duck\n"
     ]
    }
   ],
   "source": [
    "#Accessing its own methods\n",
    "duck.set_type(\"Duck\")\n",
    "print(duck)"
   ]
  },
  {
   "cell_type": "markdown",
   "id": "c8eeae9b",
   "metadata": {},
   "source": [
    "### ✯ Important Points:\n",
    "✔ Inheritance will help in achieving code reusablity.\\\n",
    "✔ Programming languages such as C++ or Java calls parent class constructor automatically. But this doesn't happend in python.\\\n",
    "✔ To call a constructor method of of parent class we can use super() or < class_name >."
   ]
  },
  {
   "cell_type": "markdown",
   "id": "6055b354",
   "metadata": {},
   "source": [
    "#### 2.Multilevel\n",
    "When a class is inherited by another class and that class is further inherited by another class and this goes on, then it is called a multilevel inheritance"
   ]
  },
  {
   "cell_type": "code",
   "execution_count": 33,
   "id": "e61ca7ff",
   "metadata": {},
   "outputs": [],
   "source": [
    "#Example\n",
    "class A:\n",
    "    pass\n",
    "class B(A):       #Class B inherits class A\n",
    "    pass\n",
    "class C(B):       #Class C inherits class B\n",
    "    pass\n",
    "class D(C):       #Class D inherits class C\n",
    "    pass"
   ]
  },
  {
   "cell_type": "markdown",
   "id": "b7226af4",
   "metadata": {},
   "source": [
    "### A real world example of multilevel inheritance "
   ]
  },
  {
   "cell_type": "code",
   "execution_count": 1,
   "id": "18d0c005",
   "metadata": {},
   "outputs": [],
   "source": [
    "class person:\n",
    "    def __init(self, name, age):\n",
    "        self.name=name\n",
    "        self.age=age\n",
    "        print(\"Person class constructor called.\")\n",
    "class emp(person):\n",
    "    def __init(self,id,branch):\n",
    "        self.id=id\n",
    "        self.branch=branch\n",
    "        print(\"Employee class constructor called.\")\n",
    "class manager(emp):\n",
    "    def __init__(self,name,age,id,branch,hierarchy_level,salary):\n",
    "        self.hl=hierarchy_level\n",
    "        self.salary=salary\n",
    "        print(\"Employee class constructor called.\")\n",
    "    def __repr__(self):\n",
    "        return (f\"I am a {self.hl} manager\")"
   ]
  },
  {
   "cell_type": "code",
   "execution_count": 2,
   "id": "6b4cd2c1",
   "metadata": {
    "scrolled": true
   },
   "outputs": [
    {
     "name": "stdout",
     "output_type": "stream",
     "text": [
      "Employee class constructor called.\n"
     ]
    },
    {
     "ename": "AttributeError",
     "evalue": "'manager' object has no attribute 'name'",
     "output_type": "error",
     "traceback": [
      "\u001b[1;31m---------------------------------------------------------------------------\u001b[0m",
      "\u001b[1;31mAttributeError\u001b[0m                            Traceback (most recent call last)",
      "Cell \u001b[1;32mIn[2], line 3\u001b[0m\n\u001b[0;32m      1\u001b[0m \u001b[38;5;66;03m#Example \u001b[39;00m\n\u001b[0;32m      2\u001b[0m amar\u001b[38;5;241m=\u001b[39mmanager(\u001b[38;5;124m\"\u001b[39m\u001b[38;5;124mAmar Jain\u001b[39m\u001b[38;5;124m\"\u001b[39m,\u001b[38;5;241m30\u001b[39m,\u001b[38;5;241m10245\u001b[39m,\u001b[38;5;124m\"\u001b[39m\u001b[38;5;124mSagar, M.P\u001b[39m\u001b[38;5;124m\"\u001b[39m, \u001b[38;5;124m\"\u001b[39m\u001b[38;5;124mLevel 01\u001b[39m\u001b[38;5;124m\"\u001b[39m, \u001b[38;5;124m\"\u001b[39m\u001b[38;5;124m70,567\u001b[39m\u001b[38;5;124m\"\u001b[39m)\n\u001b[1;32m----> 3\u001b[0m amar\u001b[38;5;241m.\u001b[39mname\n",
      "\u001b[1;31mAttributeError\u001b[0m: 'manager' object has no attribute 'name'"
     ]
    }
   ],
   "source": [
    "#Example \n",
    "amar=manager(\"Amar Jain\",30,10245,\"Sagar, M.P\", \"Level 01\", \"70,567\")\n",
    "amar.name"
   ]
  },
  {
   "cell_type": "markdown",
   "id": "87b7a5ea",
   "metadata": {},
   "source": [
    "#### As we can see we couldn't access \"name\" instance varible "
   ]
  },
  {
   "cell_type": "markdown",
   "id": "9242ecee",
   "metadata": {},
   "source": [
    "#### Even if we have inherited class person we won't be able to access instance varible name, age, id, and branch unless we call the constructor of these classes."
   ]
  },
  {
   "cell_type": "code",
   "execution_count": 35,
   "id": "dba00f4c",
   "metadata": {},
   "outputs": [],
   "source": [
    "# let's make name, age, branch, and id accessiable \n",
    "class person:\n",
    "    def __init__(self, name, age):\n",
    "        self.name=name\n",
    "        self.age=age\n",
    "        print(\"Person class constructor called.\")\n",
    "class emp(person):\n",
    "    def __init__(self,name,age,ids,branch):\n",
    "        person.__init__(self,name, age)       #calling constructor of parent class person\n",
    "        self.id=ids\n",
    "        self.branch=branch\n",
    "        print(\"Employee class constructor called.\")\n",
    "class manager(emp):\n",
    "    def __init__(self,name,age,ids,branch,hierarchy_level,salary):\n",
    "        emp.__init__(self,name, age,ids,branch)       #Calling constructor of parent class person \n",
    "        self.hl=hierarchy_level\n",
    "        self.salary=salary\n",
    "        print(\"Manager class constructor called.\")\n",
    "    def __repr__(self):\n",
    "        return (f\"I am a {self.hl} manager\")"
   ]
  },
  {
   "cell_type": "code",
   "execution_count": 36,
   "id": "253bb2d6",
   "metadata": {},
   "outputs": [
    {
     "name": "stdout",
     "output_type": "stream",
     "text": [
      "Person class constructor called.\n",
      "Employee class constructor called.\n",
      "Manager class constructor called.\n"
     ]
    }
   ],
   "source": [
    "#creating an object now\n",
    "shivi=manager('Shivi Jain',22,\"1022545\",\"Agra, U.P.\",\"Level 01\",250000)"
   ]
  },
  {
   "cell_type": "code",
   "execution_count": 39,
   "id": "c82588e6",
   "metadata": {},
   "outputs": [
    {
     "name": "stdout",
     "output_type": "stream",
     "text": [
      "I am a Level 01 manager\n"
     ]
    }
   ],
   "source": [
    "#Example\n",
    "print(shivi)"
   ]
  },
  {
   "cell_type": "code",
   "execution_count": 40,
   "id": "7a2de997",
   "metadata": {},
   "outputs": [
    {
     "data": {
      "text/plain": [
       "'Shivi Jain'"
      ]
     },
     "execution_count": 40,
     "metadata": {},
     "output_type": "execute_result"
    }
   ],
   "source": [
    "#Accessing parent class instance varible\n",
    "shivi.name"
   ]
  },
  {
   "cell_type": "code",
   "execution_count": 43,
   "id": "1b7dc039",
   "metadata": {
    "scrolled": false
   },
   "outputs": [
    {
     "data": {
      "text/plain": [
       "22"
      ]
     },
     "execution_count": 43,
     "metadata": {},
     "output_type": "execute_result"
    }
   ],
   "source": [
    "#Accessing parent class instance varible\n",
    "shivi.age"
   ]
  },
  {
   "cell_type": "code",
   "execution_count": 44,
   "id": "7394575b",
   "metadata": {},
   "outputs": [
    {
     "data": {
      "text/plain": [
       "'1022545'"
      ]
     },
     "execution_count": 44,
     "metadata": {},
     "output_type": "execute_result"
    }
   ],
   "source": [
    "#Accessing parent class instance varible\n",
    "shivi.id"
   ]
  },
  {
   "cell_type": "code",
   "execution_count": 45,
   "id": "347fca66",
   "metadata": {},
   "outputs": [
    {
     "data": {
      "text/plain": [
       "'Agra, U.P.'"
      ]
     },
     "execution_count": 45,
     "metadata": {},
     "output_type": "execute_result"
    }
   ],
   "source": [
    "#Accessing parent class instance varible\n",
    "shivi.branch"
   ]
  },
  {
   "cell_type": "markdown",
   "id": "812c58f2",
   "metadata": {},
   "source": [
    "### Calling Constructor Using <span style=\"color:green;\">super()</span> Method\n",
    "We can call constructors using super() method also.But when we use super(), we don't neet to pass 'self' argument."
   ]
  },
  {
   "cell_type": "code",
   "execution_count": 46,
   "id": "b0a2359b",
   "metadata": {},
   "outputs": [],
   "source": [
    "# let's make name, age, branch, and id accessiable \n",
    "class person:\n",
    "    def __init__(self, name, age):\n",
    "        self.name=name\n",
    "        self.age=age\n",
    "        print(\"Person class constructor called.\")\n",
    "class emp(person):\n",
    "    def __init__(self,name,age,ids,branch):\n",
    "        super().__init__(name, age)\n",
    "        self.id=ids\n",
    "        self.branch=branch\n",
    "        print(\"Employee class constructor called.\")\n",
    "class manager(emp):\n",
    "    def __init__(self,name,age,ids,branch,hierarchy_level,salary):\n",
    "        super().__init__(name, age,ids,branch)\n",
    "        self.hl=hierarchy_level\n",
    "        self.salary=salary\n",
    "        print(\"Manager class constructor called.\")\n",
    "    def __repr__(self):\n",
    "        return (f\"I am a {self.hl} manager\")"
   ]
  },
  {
   "cell_type": "code",
   "execution_count": 47,
   "id": "8310e502",
   "metadata": {
    "scrolled": true
   },
   "outputs": [
    {
     "name": "stdout",
     "output_type": "stream",
     "text": [
      "Person class constructor called.\n",
      "Employee class constructor called.\n",
      "Manager class constructor called.\n"
     ]
    }
   ],
   "source": [
    "obj=manager(\"Simmi Sheetal Jain\",23,'4582545','Bhopal','Head', 250000)"
   ]
  },
  {
   "cell_type": "code",
   "execution_count": 63,
   "id": "cc25b750",
   "metadata": {},
   "outputs": [],
   "source": [
    "#Example \n",
    "class person:\n",
    "    def __init__(self, name, age):\n",
    "        self.name=name\n",
    "        self.age=age\n",
    "        print(\"Person class constructor called.\")\n",
    "    def __repr__(self):\n",
    "        return f\"Name:{self.name}\\nAge:{self.age}\"\n",
    "class emp(person):\n",
    "    def __init__(self,name,age,ids,branch):\n",
    "        super().__init__(name, age)\n",
    "        self.id=ids\n",
    "        self.branch=branch\n",
    "        print(\"Employee class constructor called.\")\n",
    "    def __repr__(self):\n",
    "        string=super().__repr__()\n",
    "        return f\"{string}\\nEmployee Id: {self.id}\\nBranch:{self.branch}\"\n",
    "class manager(emp):\n",
    "    def __init__(self,name,age,ids,branch,hierarchy_level,salary):\n",
    "        super().__init__(name, age,ids,branch)\n",
    "        self.hl=hierarchy_level\n",
    "        self.salary=salary\n",
    "        print(\"Manager class constructor called.\")\n",
    "    def __repr__(self):\n",
    "        string=super().__repr__()\n",
    "        return f\"{string} \\nAnd I am a {self.hl} Manager\"\n"
   ]
  },
  {
   "cell_type": "code",
   "execution_count": 64,
   "id": "ab69e76f",
   "metadata": {},
   "outputs": [
    {
     "name": "stdout",
     "output_type": "stream",
     "text": [
      "Person class constructor called.\n",
      "Employee class constructor called.\n",
      "Manager class constructor called.\n"
     ]
    }
   ],
   "source": [
    "obj=manager(\"Anjali Jain\",25,12545,\"Bhopal\",\"Chief\",400000)"
   ]
  },
  {
   "cell_type": "code",
   "execution_count": 65,
   "id": "f70a9b3a",
   "metadata": {
    "scrolled": true
   },
   "outputs": [
    {
     "name": "stdout",
     "output_type": "stream",
     "text": [
      "Name:Anjali Jain\n",
      "Age:25\n",
      "Employee Id: 12545\n",
      "Branch:Bhopal \n",
      "And I am a Chief Manager\n"
     ]
    }
   ],
   "source": [
    "print(obj)"
   ]
  },
  {
   "cell_type": "markdown",
   "id": "9a1d5a29",
   "metadata": {},
   "source": [
    "#### 3. Multiple Inheritance\n",
    "When a class inherits more than one class i.e. it has more than one parent class, then this is called multiple inheritance."
   ]
  },
  {
   "cell_type": "code",
   "execution_count": 13,
   "id": "08faacde",
   "metadata": {},
   "outputs": [],
   "source": [
    "#Example \n",
    "class A:\n",
    "    pass\n",
    "class B:       \n",
    "    pass\n",
    "class C(A,B):  #Class C inherits class A as well as B\n",
    "    pass"
   ]
  },
  {
   "cell_type": "markdown",
   "id": "e0de6522",
   "metadata": {},
   "source": [
    "### Let's first understand <span style=\"color:green;\">mro()</span>, Method Resolution Order"
   ]
  },
  {
   "cell_type": "markdown",
   "id": "e2b0c42b",
   "metadata": {},
   "source": [
    "When a class inherits more than one class at a time, mro() is a method that gives us a method resolution order. For example to know the method resultion order of an object of class C, we can call mro(). See below example: "
   ]
  },
  {
   "cell_type": "code",
   "execution_count": 14,
   "id": "86827158",
   "metadata": {},
   "outputs": [
    {
     "name": "stdout",
     "output_type": "stream",
     "text": [
      "[<class '__main__.C'>, <class '__main__.A'>, <class '__main__.B'>, <class 'object'>]\n"
     ]
    }
   ],
   "source": [
    "print(C.mro())"
   ]
  },
  {
   "cell_type": "code",
   "execution_count": 21,
   "id": "bf3e356b",
   "metadata": {},
   "outputs": [],
   "source": [
    "#Example1: Class A constructor will be called after constructor C\n",
    "class A:\n",
    "    def __init__(self):\n",
    "        print(\"I am class A constructor\")\n",
    "class B:       \n",
    "    def __init__(self):\n",
    "        print(\"I am class B constructor\")\n",
    "class C(A,B):  #Class C inherits class A as well as B\n",
    "    def __init__(self):\n",
    "        print(\"I am class C constructor\")\n",
    "        super().__init__()"
   ]
  },
  {
   "cell_type": "code",
   "execution_count": 22,
   "id": "30dd0696",
   "metadata": {},
   "outputs": [
    {
     "name": "stdout",
     "output_type": "stream",
     "text": [
      "I am class C constructor\n",
      "I am class A constructor\n"
     ]
    }
   ],
   "source": [
    "#Example\n",
    "obj=C()"
   ]
  },
  {
   "cell_type": "code",
   "execution_count": 23,
   "id": "c4ea543f",
   "metadata": {},
   "outputs": [],
   "source": [
    "#Example1: Class B constructor will be called after constructor C\n",
    "class A:\n",
    "    pass\n",
    "#     def __init__(self):\n",
    "#         print(\"I am class A constructor\")\n",
    "class B:       \n",
    "    def __init__(self):\n",
    "        print(\"I am class B constructor\")\n",
    "class C(A,B):  #Class C inherits class A as well as B\n",
    "    def __init__(self):\n",
    "        print(\"I am class C constructor\")\n",
    "        super().__init__()"
   ]
  },
  {
   "cell_type": "code",
   "execution_count": 24,
   "id": "af44387f",
   "metadata": {},
   "outputs": [
    {
     "name": "stdout",
     "output_type": "stream",
     "text": [
      "I am class C constructor\n",
      "I am class B constructor\n"
     ]
    }
   ],
   "source": [
    "#Example\n",
    "obj=C()"
   ]
  },
  {
   "cell_type": "code",
   "execution_count": 26,
   "id": "3a55ccd6",
   "metadata": {},
   "outputs": [],
   "source": [
    "#Example1: Class B constructor will be called after constructor C\n",
    "class A:\n",
    "    pass\n",
    "#     def __init__(self):\n",
    "#         print(\"I am class A constructor\")\n",
    "class B:\n",
    "    pass\n",
    "#     def __init__(self):\n",
    "#         print(\"I am class B constructor\")\n",
    "class C(A,B):  #Class C inherits class A as well as B\n",
    "    def __init__(self):\n",
    "        print(\"I am class C constructor\")\n",
    "        super().__init__()"
   ]
  },
  {
   "cell_type": "code",
   "execution_count": 27,
   "id": "5bf8c02e",
   "metadata": {},
   "outputs": [
    {
     "name": "stdout",
     "output_type": "stream",
     "text": [
      "I am class C constructor\n"
     ]
    }
   ],
   "source": [
    "#Example\n",
    "obj=C()"
   ]
  },
  {
   "cell_type": "markdown",
   "id": "ffb3bfb1",
   "metadata": {},
   "source": [
    "As it can be seen, when there is nothing inside class A, construtor of class B was called.When class A and B both doesn't have anything, then object class constructor was called internally. But if we change order of inheritance while declaring class C, the mro will get changed."
   ]
  },
  {
   "cell_type": "code",
   "execution_count": 29,
   "id": "135ff5fd",
   "metadata": {},
   "outputs": [
    {
     "name": "stdout",
     "output_type": "stream",
     "text": [
      "I am class C constructor\n",
      "I am class B constructor\n"
     ]
    }
   ],
   "source": [
    "#Example\n",
    "#Example1: Class A constructor will be called after constructor C\n",
    "class A:\n",
    "    def __init__(self):\n",
    "        print(\"I am class A constructor\")\n",
    "class B:       \n",
    "    def __init__(self):\n",
    "        print(\"I am class B constructor\")\n",
    "class C(B,A):  #Class C inherits class A as well as B\n",
    "    def __init__(self):\n",
    "        print(\"I am class C constructor\")\n",
    "        super().__init__()\n",
    "obj1=C()"
   ]
  },
  {
   "cell_type": "markdown",
   "id": "f6f3f6d2",
   "metadata": {},
   "source": [
    "### A real world example of multiple inheritance "
   ]
  },
  {
   "cell_type": "code",
   "execution_count": 39,
   "id": "dbc71f6d",
   "metadata": {},
   "outputs": [
    {
     "name": "stdout",
     "output_type": "stream",
     "text": [
      "Class Stream constructor was called\n",
      "Class Student constructor was called\n",
      "Class Person constructor was called\n"
     ]
    }
   ],
   "source": [
    "class person:\n",
    "    def __init__(self,name,age):\n",
    "        self.name=name\n",
    "        self.age=age\n",
    "        print(\"Class Person constructor was called\")\n",
    "class student:\n",
    "    def __init__(self,name, age, roll_no,marks):\n",
    "        self.r_no=roll_no\n",
    "        self.marks=marks\n",
    "        print(\"Class Student constructor was called\")\n",
    "        super().__init__(name,age)\n",
    "class stream(student,person):\n",
    "    def __init__(self,name,age,roll_number,marks, subjects):\n",
    "        self.subjects=subjects\n",
    "        print(\"Class Stream constructor was called\")\n",
    "        super().__init__(name,age,roll_number,marks)\n",
    "        \n",
    "object1=stream('Vandana Jain', 18, 101, 81,\"Physics, Chemistry, Mathematics\")"
   ]
  },
  {
   "cell_type": "code",
   "execution_count": 38,
   "id": "6e13fbd1",
   "metadata": {},
   "outputs": [
    {
     "name": "stdout",
     "output_type": "stream",
     "text": [
      "Name : Vandana Jain\n",
      "Age:  18\n",
      "Roll no:  101\n",
      "Marks :  81\n",
      "Subjects Physics, Chemistry, Mathematics\n"
     ]
    }
   ],
   "source": [
    "print(\"Name :\", object1.name)\n",
    "print(\"Age: \", object1.age)\n",
    "print(\"Roll no: \",object1.r_no)\n",
    "print(\"Marks : \",object1.marks)\n",
    "print(\"Subjects : \", object1.subjects)"
   ]
  },
  {
   "cell_type": "markdown",
   "id": "c9f09223",
   "metadata": {},
   "source": [
    "#### 4. Hierarchical Inheritance\n",
    "When a class is inherited by more than one class i.e. it has more than one child, then it is called Hierarchical Inheritance. \n"
   ]
  },
  {
   "cell_type": "code",
   "execution_count": 37,
   "id": "d74e363a",
   "metadata": {},
   "outputs": [],
   "source": [
    "#Example\n",
    "class A:\n",
    "    pass\n",
    "class B(A):  #Class B inherits class A     \n",
    "    pass\n",
    "class C(A):  #Class C also inherits class A\n",
    "    pass\n",
    "class D(A):  #Class D also inherits class A\n",
    "    pass"
   ]
  },
  {
   "cell_type": "markdown",
   "id": "646b5126",
   "metadata": {},
   "source": [
    "### A real world example of multilevel inheritance "
   ]
  },
  {
   "cell_type": "code",
   "execution_count": 9,
   "id": "a4bdf021",
   "metadata": {},
   "outputs": [],
   "source": [
    "class schoolmember:\n",
    "    def __init__(self, name, age):\n",
    "        self.name=name\n",
    "        self.age=age\n",
    "    def __repr__(self):\n",
    "        return f\"Name: {self.name}\\nAge: {self.age}\\n\"\n",
    "class student(schoolmember):\n",
    "    def __init__(self, name, age, roll_no, marks, standard, sec):\n",
    "        self.roll_no=roll_no\n",
    "        self.marks=marks\n",
    "        self.standard=standard\n",
    "        self.sec=sec\n",
    "        super().__init__(name,age)\n",
    "    def __repr__(self):\n",
    "        string=super().__repr__()\n",
    "        return f\"\\n{string}Roll No.: {self.roll_no}\\nMarks: {self.marks}\\nStandard {self.standard}\\nSection:{self.sec}\"\n",
    "class teacher(schoolmember):\n",
    "    def __init__(self,name,age,Professor_of,Joining_date,salary):\n",
    "        self.pro_of=Professor_of\n",
    "        self.joined=Joining_date\n",
    "        self.salary=salary\n",
    "        super().__init__(name,age)\n",
    "        def __repr__(self):\n",
    "            string=super().__repr__()\n",
    "            return f\"\\n{string}\\nProfessor of: {self.pro_of}\\nJoined On: {self.joined}\\nSalary: {self.salary}\""
   ]
  },
  {
   "cell_type": "code",
   "execution_count": 10,
   "id": "543d3176",
   "metadata": {},
   "outputs": [],
   "source": [
    "obj=student(\"Sheetal Jain\",23,38,75,'MCA-AIML','A')"
   ]
  },
  {
   "cell_type": "code",
   "execution_count": 11,
   "id": "822fdfc1",
   "metadata": {},
   "outputs": [
    {
     "name": "stdout",
     "output_type": "stream",
     "text": [
      "\n",
      "Name: Sheetal Jain\n",
      "Age: 23\n",
      "Roll No.: 38\n",
      "Marks: 75\n",
      "Standard MCA-AIML\n",
      "Section:A\n"
     ]
    }
   ],
   "source": [
    "print(obj)"
   ]
  },
  {
   "cell_type": "markdown",
   "id": "fac9062f",
   "metadata": {},
   "source": [
    "#### 5: Hybrid Inheritance\n",
    "This inheritance is a combination of Multiple and Hierarchical Inheritance"
   ]
  },
  {
   "cell_type": "code",
   "execution_count": 7,
   "id": "d8298588",
   "metadata": {},
   "outputs": [],
   "source": [
    "#Example\n",
    "class A:\n",
    "    pass\n",
    "class B(A):\n",
    "    pass\n",
    "class C(A):       #Class B and C both are child classes of Class A\n",
    "    pass\n",
    "class D(B,C):     #Class B and C both are parent classes of class D\n",
    "    pass"
   ]
  },
  {
   "cell_type": "markdown",
   "id": "d5de8007",
   "metadata": {},
   "source": [
    "### A real world example of hybrid inheritance "
   ]
  },
  {
   "cell_type": "code",
   "execution_count": 54,
   "id": "6071a8fb",
   "metadata": {},
   "outputs": [
    {
     "name": "stdout",
     "output_type": "stream",
     "text": [
      "Person class constructor called.\n",
      "Employee class constructor called.\n",
      "Person class constructor called.\n",
      "Employee class constructor called.\n",
      "Manager class constructor called.\n",
      "Executive class constructor called.\n"
     ]
    }
   ],
   "source": [
    " class person:\n",
    "    def __init__(self, name, age):\n",
    "        self.name = name\n",
    "        self.age = age\n",
    "        print(\"Person class constructor called.\")\n",
    "\n",
    "    def __repr__(self):\n",
    "        return f\"Name:{self.name}\\nAge:{self.age}\"\n",
    "\n",
    "class emp(person):\n",
    "    def __init__(self, name, age, ids, branch):\n",
    "        super().__init__(name, age)\n",
    "        self.id = ids\n",
    "        self.branch = branch\n",
    "        print(\"Employee class constructor called.\")\n",
    "\n",
    "    def __repr__(self):\n",
    "        string = super().__repr__()\n",
    "        return f\"{string}\\nEmployee Id: {self.id}\\nBranch:{self.branch}\"\n",
    "\n",
    "class manager(emp):\n",
    "    def __init__(self, name, age, ids, branch, hierarchy_level, salary):\n",
    "        super().__init__(name, age, ids, branch)\n",
    "        self.hl = hierarchy_level\n",
    "        self.salary = salary\n",
    "        print(\"Manager class constructor called.\")\n",
    "\n",
    "    def __repr__(self):\n",
    "        string = super().__repr__()\n",
    "        return f\"{string} \\nAnd I am a {self.hl} Manager\"\n",
    "\n",
    "class Executive(manager, emp):\n",
    "    def __init__(self, name, age, ids, branch, hierarchy_level, salary, executive_role):\n",
    "        emp.__init__(self, name, age, ids, branch)\n",
    "        manager.__init__(self, name, age, ids, branch, hierarchy_level, salary)\n",
    "        self.executive_role = executive_role\n",
    "        print(\"Executive class constructor called.\")\n",
    "\n",
    "    def __repr__(self):\n",
    "        string = super().__repr__()\n",
    "        return f\"{string}\\nExecutive Role: {self.executive_role}\"\n",
    "\n",
    "# Creating an instance of the hybrid class\n",
    "executive_instance = Executive(name=\"John\", age=35, ids=\"E123\", branch=\"Marketing\",hierarchy_level=\"Senior\", salary=100000, executive_role=\"Chief Marketing Officer\")"
   ]
  },
  {
   "cell_type": "code",
   "execution_count": 55,
   "id": "30fb2668",
   "metadata": {},
   "outputs": [
    {
     "name": "stdout",
     "output_type": "stream",
     "text": [
      "Name:John\n",
      "Age:35\n",
      "Employee Id: E123\n",
      "Branch:Marketing \n",
      "And I am a Senior Manager\n",
      "Executive Role: Chief Marketing Officer\n"
     ]
    }
   ],
   "source": [
    "# Displaying information\n",
    "print(executive_instance)"
   ]
  },
  {
   "cell_type": "markdown",
   "id": "402fd4da",
   "metadata": {},
   "source": [
    "## Object class "
   ]
  },
  {
   "cell_type": "markdown",
   "id": "05f9f996",
   "metadata": {},
   "source": [
    "Python does have a built-in base class called object from which all other classes implicitly inherit. In other words, every class in Python is a subclass of this object class."
   ]
  },
  {
   "cell_type": "code",
   "execution_count": 39,
   "id": "6c8e2050",
   "metadata": {},
   "outputs": [
    {
     "data": {
      "text/plain": [
       "['__class__',\n",
       " '__delattr__',\n",
       " '__dir__',\n",
       " '__doc__',\n",
       " '__eq__',\n",
       " '__format__',\n",
       " '__ge__',\n",
       " '__getattribute__',\n",
       " '__getstate__',\n",
       " '__gt__',\n",
       " '__hash__',\n",
       " '__init__',\n",
       " '__init_subclass__',\n",
       " '__le__',\n",
       " '__lt__',\n",
       " '__ne__',\n",
       " '__new__',\n",
       " '__reduce__',\n",
       " '__reduce_ex__',\n",
       " '__repr__',\n",
       " '__setattr__',\n",
       " '__sizeof__',\n",
       " '__str__',\n",
       " '__subclasshook__']"
      ]
     },
     "execution_count": 39,
     "metadata": {},
     "output_type": "execute_result"
    }
   ],
   "source": [
    "#Let's see what all is there inside object class\n",
    "dir(object)"
   ]
  },
  {
   "cell_type": "markdown",
   "id": "c05ffdd8",
   "metadata": {},
   "source": [
    "## Overriding"
   ]
  },
  {
   "cell_type": "markdown",
   "id": "066048ac",
   "metadata": {},
   "source": [
    "We can see __ class __ , __ repr __ , __ init__ ,etc. are inside object class. we also know every class is a sub-class of the object class. "
   ]
  },
  {
   "cell_type": "code",
   "execution_count": 40,
   "id": "84287c7a",
   "metadata": {},
   "outputs": [],
   "source": [
    "#Defining a class \n",
    "class book:\n",
    "    def __init__(self):\n",
    "        print(\"I am ready to go\")"
   ]
  },
  {
   "cell_type": "code",
   "execution_count": 41,
   "id": "2a31957b",
   "metadata": {},
   "outputs": [
    {
     "name": "stdout",
     "output_type": "stream",
     "text": [
      "I am ready to go\n"
     ]
    }
   ],
   "source": [
    "#Crearing an object of class book\n",
    "book1=book()"
   ]
  },
  {
   "cell_type": "code",
   "execution_count": 42,
   "id": "490dec32",
   "metadata": {},
   "outputs": [
    {
     "name": "stdout",
     "output_type": "stream",
     "text": [
      "<__main__.book object at 0x000002DD55C01510>\n"
     ]
    }
   ],
   "source": [
    "#On printing object book1, we will get address of the book1\n",
    "print(book1)"
   ]
  },
  {
   "cell_type": "markdown",
   "id": "276c63ec",
   "metadata": {},
   "source": [
    "The above address is give by __ repr __  method of the object class. On overriding this method in class book, it will do what we define inside this method when we override in our book class."
   ]
  },
  {
   "cell_type": "code",
   "execution_count": 43,
   "id": "5a4f7088",
   "metadata": {},
   "outputs": [],
   "source": [
    "# Overriding __repr__\n",
    "class book:\n",
    "    def __init__(self):\n",
    "        print(\"I am ready to go\")\n",
    "    def __repr__(self):\n",
    "        return \"I am overridden, I can't produce address now.\""
   ]
  },
  {
   "cell_type": "code",
   "execution_count": 44,
   "id": "671d7db9",
   "metadata": {},
   "outputs": [
    {
     "name": "stdout",
     "output_type": "stream",
     "text": [
      "I am ready to go\n"
     ]
    }
   ],
   "source": [
    "#Crearing an object of class book\n",
    "book2=book()"
   ]
  },
  {
   "cell_type": "code",
   "execution_count": 45,
   "id": "bf27b748",
   "metadata": {
    "scrolled": true
   },
   "outputs": [
    {
     "name": "stdout",
     "output_type": "stream",
     "text": [
      "I am overridden, I can't produce address now.\n"
     ]
    }
   ],
   "source": [
    "#On printing object book2\n",
    "print(book2)"
   ]
  },
  {
   "cell_type": "markdown",
   "id": "f2ca09dc",
   "metadata": {},
   "source": [
    "Here we have overridden method __ repr __ .\\\n",
    "_NOTE_ : Python doesn't support oveloading"
   ]
  },
  {
   "cell_type": "markdown",
   "id": "94304f36",
   "metadata": {
    "collapsed": true
   },
   "source": [
    "<h1 style=\"text-align:center;color:aqua;font-size: 300%\"> Polymorphism </h1>\n",
    "<img src=\"https://cdn.hashnode.com/res/hashnode/image/upload/v1659363708323/9Ka0JMKao.gif?w=500&h=262&fit=crop&crop=entropy&auto=format,compress&gif-q=60&format=webm\" width=60% height=40%>"
   ]
  },
  {
   "cell_type": "markdown",
   "id": "0fdd0875",
   "metadata": {},
   "source": [
    "✯  Polymorphism enables code to be more flexible and reusable, as the same method or operation can work on different types of objects, and the specific behavior is determined at runtime based on the actual type of the object. "
   ]
  },
  {
   "cell_type": "markdown",
   "id": "7d79fd70",
   "metadata": {},
   "source": [
    "✯  We know '+' operator can add two integers and can concatenate two strings, list, etc. This multiple functionality of '+' operator is achieved through polymorphism."
   ]
  },
  {
   "cell_type": "markdown",
   "id": "632fec06",
   "metadata": {},
   "source": [
    "✯ Suppose, we have a class point and we create two point class objects. If we try to add these two, we cannot perform addition and we will be shown an error. See below example,"
   ]
  },
  {
   "cell_type": "code",
   "execution_count": 66,
   "id": "73467a04",
   "metadata": {},
   "outputs": [
    {
     "name": "stdout",
     "output_type": "stream",
     "text": [
      "x = 5, y=12\n",
      "x = 2, y=7\n"
     ]
    }
   ],
   "source": [
    "#Example :\n",
    "class point:\n",
    "    def __init__(self,x,y):\n",
    "        self.x=x\n",
    "        self.y=y\n",
    "    def __repr__(self):\n",
    "        return f\"x = {self.x}, y={self.y}\"\n",
    "p1=point(5,12)\n",
    "p2=point(2,7)\n",
    "print(p1)\n",
    "print(p2)"
   ]
  },
  {
   "cell_type": "code",
   "execution_count": 63,
   "id": "8a1ddaae",
   "metadata": {},
   "outputs": [
    {
     "ename": "TypeError",
     "evalue": "unsupported operand type(s) for +: 'point' and 'point'",
     "output_type": "error",
     "traceback": [
      "\u001b[1;31m---------------------------------------------------------------------------\u001b[0m",
      "\u001b[1;31mTypeError\u001b[0m                                 Traceback (most recent call last)",
      "Cell \u001b[1;32mIn[63], line 2\u001b[0m\n\u001b[0;32m      1\u001b[0m \u001b[38;5;66;03m#Now, on adding above two points, we will be shown an error\u001b[39;00m\n\u001b[1;32m----> 2\u001b[0m \u001b[38;5;28mprint\u001b[39m(p1\u001b[38;5;241m+\u001b[39mp2)\n",
      "\u001b[1;31mTypeError\u001b[0m: unsupported operand type(s) for +: 'point' and 'point'"
     ]
    }
   ],
   "source": [
    "#Now, on adding above two points, we will be shown an error\n",
    "print(p1+p2)"
   ]
  },
  {
   "cell_type": "markdown",
   "id": "8116db79",
   "metadata": {},
   "source": [
    "We want that on adding we should get x=7,y=19. But We are getting an error. "
   ]
  },
  {
   "cell_type": "markdown",
   "id": "6a6784f3",
   "metadata": {},
   "source": [
    "Now, to achieve this additional functionality of '+' operator, we need to use magic method. "
   ]
  },
  {
   "cell_type": "markdown",
   "id": "b86b67d3",
   "metadata": {},
   "source": [
    "### Here is a list of commonly used magic methods in Python:\n",
    "\n",
    "1. __ init __(self, ...): Initializes an object, invoked when an instance is created.\n",
    "2. __ repr __(self): Returns a string representation of the object for debugging.\n",
    "3. __ str __(self): Returns a human-readable string representation of the object.\n",
    "4. __ len __(self): Returns the length of the object, used with the len() function.\n",
    "5. __ getitem __(self, key): Enables indexing and subscripting, used with square brackets ([]).\n",
    "6. __ setitem __(self, key, value): Enables assignment to an index or key.\n",
    "7. __ delitem __(self, key): Enables deletion of an index or key.\n",
    "8. __ iter __(self): Returns an iterator object for the object, used in iteration.\n",
    "9. __ next __(self): Returns the next value in iteration, used with next().\n",
    "10. __ contains __(self, item): Checks if an item is present in the object, used with the in keyword.\n",
    "11. __ eq __(self, other): Checks for equality, used with the == operator.\n",
    "12. __ ne __(self, other): Checks for inequality, used with the != operator.\n",
    "13. __ lt __(self, other): Checks if the object is less than another, used with the < operator.\n",
    "14. __ le __(self, other): Checks if the object is less than or equal to another, used with the <= operator.\n",
    "15. __ gt __(self, other): Checks if the object is greater than another, used with the > operator.\n",
    "16. __ ge __(self, other): Checks if the object is greater than or equal to another, used with the >= operator.\n",
    "17. __ add __(self, other): Defines behavior for the addition operator +.\n",
    "18. __ sub __(self, other): Defines behavior for the subtraction operator -.\n",
    "19. __ mul__(self, other): Defines behavior for the multiplication operator *.\n",
    "20. __ truediv __(self, other): Defines behavior for the division operator /.\n",
    "21. __ floordiv __(self, other): Defines behavior for the floor division operator //.\n",
    "22. __ mod __(self, other): Defines behavior for the modulo operator %.\n",
    "23. __ pow __(self, other): Defines behavior for the power operator **.\n",
    "24. __ call __(self, ...): Allows an instance to be called as a function."
   ]
  },
  {
   "cell_type": "markdown",
   "id": "828a8d21",
   "metadata": {},
   "source": [
    "To achieve, the additional functionality we are going to use magic method __ add __ ()"
   ]
  },
  {
   "cell_type": "code",
   "execution_count": 64,
   "id": "8bb2205a",
   "metadata": {},
   "outputs": [
    {
     "name": "stdout",
     "output_type": "stream",
     "text": [
      "x = 5, y=12\n",
      "x = 2, y=7\n",
      "x = 7, y=19\n"
     ]
    }
   ],
   "source": [
    "#Example :\n",
    "class point:\n",
    "    def __init__(self,x,y):\n",
    "        self.x=x\n",
    "        self.y=y\n",
    "    def __add__ (self,other):\n",
    "        x=self.x+other.x\n",
    "        y=self.y+other.y\n",
    "        p=point(x,y)\n",
    "        return p\n",
    "    def __repr__(self):\n",
    "        return f\"x = {self.x}, y={self.y}\"\n",
    "p1=point(5,12)\n",
    "p2=point(2,7)\n",
    "print(p1)\n",
    "print(p2)\n",
    "print(p1+p2)"
   ]
  },
  {
   "cell_type": "markdown",
   "id": "a5bfb469",
   "metadata": {},
   "source": [
    "The above code is an example of polymorphism. here, the python interpreter interprets line p1+p2 as p1.__ add __ (p2)"
   ]
  },
  {
   "cell_type": "markdown",
   "id": "b03e44e8",
   "metadata": {},
   "source": [
    "<h1 style=\"text-align:center;color:aqua;font-size: 300%\"> Abstraction </h1>"
   ]
  },
  {
   "cell_type": "markdown",
   "id": "13a34a71",
   "metadata": {},
   "source": [
    "<img src=\"https://github.com/SimmiSheetalJain/Medias_for_notes_and_blogs/blob/main/abstraction.png?raw=true\">\n"
   ]
  },
  {
   "cell_type": "markdown",
   "id": "8c897120",
   "metadata": {},
   "source": [
    "Abstraction involves creating abstract classes or interfaces that define a common set of characteristics for a group of related objects without specifying the implementation details. Abstraction helps manage complexity, improves code organization, and promotes code reusability."
   ]
  },
  {
   "cell_type": "code",
   "execution_count": null,
   "id": "2fce5cf8",
   "metadata": {},
   "outputs": [],
   "source": []
  }
 ],
 "metadata": {
  "kernelspec": {
   "display_name": "Python 3 (ipykernel)",
   "language": "python",
   "name": "python3"
  },
  "language_info": {
   "codemirror_mode": {
    "name": "ipython",
    "version": 3
   },
   "file_extension": ".py",
   "mimetype": "text/x-python",
   "name": "python",
   "nbconvert_exporter": "python",
   "pygments_lexer": "ipython3",
   "version": "3.11.4"
  }
 },
 "nbformat": 4,
 "nbformat_minor": 5
}
