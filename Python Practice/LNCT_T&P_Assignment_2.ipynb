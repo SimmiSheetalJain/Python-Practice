{
 "cells": [
  {
   "cell_type": "markdown",
   "id": "f119f9cd",
   "metadata": {},
   "source": [
    "<h1 style=\"text-align:center;\"> Training and Placement Cell, LNCT University, Bhopal</h1>"
   ]
  },
  {
   "cell_type": "markdown",
   "id": "4562e663",
   "metadata": {},
   "source": [
    "<h1 style=\"text-align:center;color:#07825b\"> Python CONTROL FLOW ASSIGNMENT 2</h1>"
   ]
  },
  {
   "cell_type": "markdown",
   "id": "a6745ad7",
   "metadata": {},
   "source": [
    "### Submitted By &emsp;&emsp;&emsp;&emsp;&emsp;&emsp;&emsp;&emsp;&emsp;&emsp;&emsp;&emsp;&emsp;&emsp;&emsp;&emsp;&emsp;&emsp;&emsp;&emsp;&emsp;&emsp;Submitted To:<br>\n",
    "##### Sheetal Jain &emsp;&emsp;&emsp;&emsp;&emsp;&emsp;&emsp; &emsp;&emsp;&emsp;&emsp;&emsp;&emsp;&emsp;&emsp;&emsp;&emsp;&emsp; &emsp;&emsp;&emsp;&emsp; &emsp;&emsp;&emsp;&emsp; &emsp;&emsp;&emsp;&emsp;T&P Cell, LNCTU\n",
    "##### Branch: MCA(AIML)\n",
    "##### Section: A\n",
    "##### Class Roll no.: 38"
   ]
  },
  {
   "cell_type": "markdown",
   "id": "2069025d",
   "metadata": {},
   "source": [
    "<hr style=\"height:5px;border-width:0;color:gray;background-color:gray\">"
   ]
  },
  {
   "cell_type": "markdown",
   "id": "ff5e7294",
   "metadata": {},
   "source": [
    "<img src=\"https://i.ibb.co/28SPkVx/A.png\" alt=\"A\" border=\"0\">"
   ]
  },
  {
   "cell_type": "markdown",
   "id": "788d8cbc",
   "metadata": {},
   "source": [
    "##### Program For Question 1: "
   ]
  },
  {
   "cell_type": "code",
   "execution_count": 3,
   "id": "306de7fe",
   "metadata": {
    "scrolled": true
   },
   "outputs": [
    {
     "name": "stdout",
     "output_type": "stream",
     "text": [
      "Enter input number 1 : 25\n",
      "Enter input number 2 : 45\n",
      "Enter input number 3 : 65\n",
      "Enter input number 4 : 74\n",
      "Enter input number 5 : 78\n",
      "The sum of the entered number is :   287\n",
      "The average of the entered numbers is:  57.4\n"
     ]
    }
   ],
   "source": [
    "sum=0\n",
    "for i in range(0,5):\n",
    "    num=int(input(f\"Enter input number {i+1} : \"))\n",
    "    sum=sum+num\n",
    "print(\"The sum of the entered number is :  \",sum)\n",
    "print(\"The average of the entered numbers is: \",sum/5)"
   ]
  },
  {
   "cell_type": "markdown",
   "id": "2207a8a0",
   "metadata": {},
   "source": [
    "<img src=\"https://i.ibb.co/GnVfs9p/A.png\" alt=\"A\" border=\"0\"> "
   ]
  },
  {
   "cell_type": "markdown",
   "id": "353ab921",
   "metadata": {},
   "source": [
    "##### Program For Question 2:"
   ]
  },
  {
   "cell_type": "code",
   "execution_count": 7,
   "id": "59f30570",
   "metadata": {},
   "outputs": [
    {
     "name": "stdout",
     "output_type": "stream",
     "text": [
      "Enter the number of rows: 5\n",
      "1 \n",
      "2 3 \n",
      "4 5 6 \n",
      "7 8 9 10 \n",
      "11 12 13 14 15 \n"
     ]
    }
   ],
   "source": [
    "size=int(input(\"Enter the number of rows: \"))\n",
    "count=1\n",
    "for i in range(0,size):\n",
    "    for j in range(0,(i+1)):\n",
    "        print(count,end=\" \")\n",
    "        count=count+1\n",
    "    print()"
   ]
  },
  {
   "cell_type": "markdown",
   "id": "d2854f78",
   "metadata": {},
   "source": [
    "### Q3. Write a program in Python to display the pattern like a diamond.\n",
    "<img src=\"https://i.ibb.co/y5x9B59/A.png\" alt=\"A\" border=\"0\">"
   ]
  },
  {
   "cell_type": "markdown",
   "id": "2d32ba72",
   "metadata": {},
   "source": [
    "##### Program For Question 3:"
   ]
  },
  {
   "cell_type": "code",
   "execution_count": 12,
   "id": "dfd62c8e",
   "metadata": {},
   "outputs": [
    {
     "name": "stdout",
     "output_type": "stream",
     "text": [
      "Input number of rows (half of the diamond) : 7\n",
      "      *\n",
      "     ***\n",
      "    *****\n",
      "   *******\n",
      "  *********\n",
      " ***********\n",
      "*************\n"
     ]
    }
   ],
   "source": [
    "size=int(input(\"Input number of rows (half of the diamond) : \"))\n",
    "for i in range(size):\n",
    "    for j in range(size-(i+1)):\n",
    "        print(\" \",end=\"\")\n",
    "    for k in range(2*i+1):\n",
    "        print(\"*\",end=\"\")\n",
    "    print()"
   ]
  },
  {
   "cell_type": "markdown",
   "id": "3d41fe7f",
   "metadata": {},
   "source": [
    "<img src=\"https://i.ibb.co/t2n3VQx/A.png\" alt=\"A\" border=\"0\">"
   ]
  },
  {
   "cell_type": "markdown",
   "id": "cb52dd81",
   "metadata": {},
   "source": [
    "##### Program For Question 4:"
   ]
  },
  {
   "cell_type": "code",
   "execution_count": 14,
   "id": "1520ac4d",
   "metadata": {},
   "outputs": [
    {
     "name": "stdout",
     "output_type": "stream",
     "text": [
      "Enter a number : -78\n",
      "Number is Negative\n"
     ]
    }
   ],
   "source": [
    "num=int(input(\"Enter a number : \"))\n",
    "if num>0:\n",
    "    print(\"Number is Positive\")\n",
    "elif num<0:\n",
    "    print(\"Number is Negative\")\n",
    "else:\n",
    "    print(\"Number is Zero\")"
   ]
  },
  {
   "cell_type": "markdown",
   "id": "984d5922",
   "metadata": {},
   "source": [
    "<img src=\"https://i.ibb.co/F6QZTjB/A.png\" alt=\"A\" border=\"0\">"
   ]
  },
  {
   "cell_type": "markdown",
   "id": "a3d28610",
   "metadata": {},
   "source": [
    "##### Program For Question 5:"
   ]
  },
  {
   "cell_type": "code",
   "execution_count": 16,
   "id": "d706e182",
   "metadata": {},
   "outputs": [
    {
     "name": "stdout",
     "output_type": "stream",
     "text": [
      "Enter an integer number : 125463\n",
      "Number of digits in the number :  6\n"
     ]
    }
   ],
   "source": [
    "num=int(input(\"Enter an integer number : \"))\n",
    "count=0\n",
    "while num!=0:\n",
    "    num=num//10\n",
    "    count=count+1\n",
    "print(\"Number of digits in the number : \", count)"
   ]
  },
  {
   "cell_type": "markdown",
   "id": "bf2750cc",
   "metadata": {},
   "source": [
    "<img src=\"https://i.ibb.co/L9cyrY3/A.png\" alt=\"A\" border=\"0\">"
   ]
  },
  {
   "cell_type": "markdown",
   "id": "d594c2af",
   "metadata": {},
   "source": [
    "##### Program For Question 6:"
   ]
  },
  {
   "cell_type": "code",
   "execution_count": 23,
   "id": "dd8d5626",
   "metadata": {},
   "outputs": [
    {
     "name": "stdout",
     "output_type": "stream",
     "text": [
      "Enter first number : 2564\n",
      "Enter Second number : 3526\n",
      "Enter third number : 2456\n",
      "All numbers are different\n"
     ]
    }
   ],
   "source": [
    "x,y,z=int(input(\"Enter first number : \")),int(input(\"Enter Second number : \")),int(input(\"Enter third number : \"))\n",
    "if x==y==z:\n",
    "    print(\"All numbers are equal\")\n",
    "elif x!=y!=z:\n",
    "    print(\"All numbers are different\")\n",
    "else:\n",
    "    print(\"Neither all are equal or different\")"
   ]
  },
  {
   "cell_type": "markdown",
   "id": "cfcb1ea1",
   "metadata": {},
   "source": [
    "<img src=\"https://i.ibb.co/1rJ5PS1/A.png\" alt=\"A\" border=\"0\">"
   ]
  },
  {
   "cell_type": "markdown",
   "id": "0c59f3ec",
   "metadata": {},
   "source": [
    "##### Program For Question 7:"
   ]
  },
  {
   "cell_type": "code",
   "execution_count": 24,
   "id": "6af31ba8",
   "metadata": {},
   "outputs": [
    {
     "name": "stdout",
     "output_type": "stream",
     "text": [
      "Enter first number : 1524\n",
      "Enter Second number : 2345\n",
      "Enter third number : 3321\n",
      "Increasing Order\n"
     ]
    }
   ],
   "source": [
    "x,y,z=int(input(\"Enter first number : \")),int(input(\"Enter Second number : \")),int(input(\"Enter third number : \"))\n",
    "if x<y<z:\n",
    "    print(\"Increasing Order\")\n",
    "elif x>y>z:\n",
    "    print(\"Decreasing Order\")\n",
    "else:\n",
    "    print(\"Neither increasing nor decreasing order\")"
   ]
  },
  {
   "cell_type": "markdown",
   "id": "09b4293e",
   "metadata": {},
   "source": [
    "<img src=\"https://i.ibb.co/FXPFzh5/A.png\" alt=\"A\" border=\"0\">"
   ]
  },
  {
   "cell_type": "markdown",
   "id": "37bc8cf7",
   "metadata": {},
   "source": [
    "##### Program For Question 8:"
   ]
  },
  {
   "cell_type": "code",
   "execution_count": 32,
   "id": "3ce15e92",
   "metadata": {},
   "outputs": [
    {
     "name": "stdout",
     "output_type": "stream",
     "text": [
      "Enter the number :145\n",
      "145 is a strong number\n"
     ]
    }
   ],
   "source": [
    "sum=0;fact=1\n",
    "num=int(input(\"Enter the number :\"))\n",
    "dummy=num\n",
    "while dummy!=0:\n",
    "    digit=dummy%10\n",
    "    for i in range(digit,0,-1):\n",
    "        fact=fact*i\n",
    "    sum=sum+fact\n",
    "    fact=1\n",
    "    dummy=dummy//10\n",
    "if sum==num:\n",
    "    print(f\"{num} is a strong number\")\n",
    "else:\n",
    "    print(f\"{num} is not a strong number\")"
   ]
  },
  {
   "cell_type": "markdown",
   "id": "f7e24fc2",
   "metadata": {},
   "source": [
    "<img src=\"https://i.ibb.co/fNKWtb2/A.png\" alt=\"A\" border=\"0\">"
   ]
  },
  {
   "cell_type": "markdown",
   "id": "90d4a39a",
   "metadata": {},
   "source": [
    "##### Enter Any Number: 153 <br>\n",
    "##### Expected output: <br>\n",
    "##### This is Armstrong Number <br>"
   ]
  },
  {
   "cell_type": "markdown",
   "id": "30ca9128",
   "metadata": {},
   "source": [
    "##### Program For Question 9:"
   ]
  },
  {
   "cell_type": "code",
   "execution_count": 31,
   "id": "a6486aa7",
   "metadata": {},
   "outputs": [
    {
     "name": "stdout",
     "output_type": "stream",
     "text": [
      "Enter the number :153\n",
      "153 is a Armstrong\n"
     ]
    }
   ],
   "source": [
    "sum=0;\n",
    "num=int(input(\"Enter the number :\"))\n",
    "dummy=num\n",
    "while dummy!=0:\n",
    "    digit=dummy%10\n",
    "    sum=sum+(digit**3)\n",
    "    dummy=dummy//10\n",
    "if sum==num:\n",
    "    print(f\"{num} is a Armstrong\")\n",
    "else:\n",
    "    print(f\"{num} is not a Armstrong\")"
   ]
  },
  {
   "cell_type": "markdown",
   "id": "b145eb51",
   "metadata": {},
   "source": [
    "<img src=\"https://i.ibb.co/Qd0k0Y1/A.png\" alt=\"A\" border=\"0\">"
   ]
  },
  {
   "cell_type": "markdown",
   "id": "29532eab",
   "metadata": {},
   "source": [
    "##### Program For Question 10:"
   ]
  },
  {
   "cell_type": "code",
   "execution_count": 36,
   "id": "343a9c0b",
   "metadata": {},
   "outputs": [
    {
     "name": "stdout",
     "output_type": "stream",
     "text": [
      "Enter the number :125\n",
      "125 is not a Palindrom Number\n"
     ]
    }
   ],
   "source": [
    "ans=0;\n",
    "num=int(input(\"Enter the number :\"))\n",
    "dummy=num\n",
    "while dummy!=0:\n",
    "    digit=dummy%10\n",
    "    ans=ans*10+digit\n",
    "    dummy=dummy//10\n",
    "if ans==num:\n",
    "    print(f\"{num} is a Palindrom Number\")\n",
    "else:\n",
    "    print(f\"{num} is not a Palindrom Number\")"
   ]
  },
  {
   "cell_type": "markdown",
   "id": "2315b25b",
   "metadata": {},
   "source": [
    "<img src=\"https://i.ibb.co/swHjMvj/A.png\" alt=\"A\" border=\"0\">"
   ]
  },
  {
   "cell_type": "markdown",
   "id": "2e91449e",
   "metadata": {},
   "source": [
    "##### Program For Question 11:"
   ]
  },
  {
   "cell_type": "code",
   "execution_count": 38,
   "id": "e8db1aa6",
   "metadata": {},
   "outputs": [
    {
     "name": "stdout",
     "output_type": "stream",
     "text": [
      "Enter Number of Element: 15\n",
      "0 1 1 2 3 5 8 13 21 34 55 89 144 233 377 "
     ]
    }
   ],
   "source": [
    "num = int(input(\"Enter Number of Element: \"))\n",
    "n1 = 0\n",
    "n2 = 1\n",
    "Sum = 0\n",
    "if num>0:\n",
    "    for i in range(0,num):\n",
    "        print(n1, end = \" \")\n",
    "        Sum = n1 + n2\n",
    "        n1 = n2\n",
    "        n2 = Sum\n",
    "else:\n",
    "    print(\"Invalid Input\")"
   ]
  },
  {
   "cell_type": "markdown",
   "id": "4601a1ac",
   "metadata": {},
   "source": [
    "### Q12. Write a Python program to print reverse Number.\n",
    "##### Enter Any Number: 123\n",
    "##### Expected output: 321"
   ]
  },
  {
   "cell_type": "markdown",
   "id": "9aea67e9",
   "metadata": {},
   "source": [
    "##### Program For Question 12:"
   ]
  },
  {
   "cell_type": "code",
   "execution_count": 42,
   "id": "bcc7220e",
   "metadata": {},
   "outputs": [
    {
     "name": "stdout",
     "output_type": "stream",
     "text": [
      "Enter the number :123\n",
      "Reverse of the entered number is:321\n"
     ]
    }
   ],
   "source": [
    "ans=0;\n",
    "num=int(input(\"Enter the number :\"))\n",
    "dummy=num\n",
    "while dummy!=0:\n",
    "    digit=dummy%10\n",
    "    ans=ans*10+digit\n",
    "    dummy=dummy//10\n",
    "print(f\"Reverse of the entered number is:{ans}\")"
   ]
  },
  {
   "cell_type": "markdown",
   "id": "37c4ef31",
   "metadata": {},
   "source": [
    "### Q13. Write a Python program to find sum of all even numbers between 1 to n.\n",
    "##### Enter Number: 5\n",
    "##### Expected output\n",
    "##### Sum of All Even Numbers From 1 to n : 6"
   ]
  },
  {
   "cell_type": "markdown",
   "id": "6f0a77be",
   "metadata": {},
   "source": [
    "##### Program For Question 13:"
   ]
  },
  {
   "cell_type": "code",
   "execution_count": 47,
   "id": "15531c57",
   "metadata": {},
   "outputs": [
    {
     "name": "stdout",
     "output_type": "stream",
     "text": [
      "Enter the value of n : 5\n",
      "Sum of all even numbers is :  6\n"
     ]
    }
   ],
   "source": [
    "num=int(input(\"Enter the value of n : \"))\n",
    "sum=0\n",
    "for i in range(1,num+1):\n",
    "    if (i)%2==0:\n",
    "        sum=sum+i\n",
    "print(\"Sum of all even numbers is : \",sum)"
   ]
  },
  {
   "cell_type": "markdown",
   "id": "8babb95f",
   "metadata": {},
   "source": [
    "### Q14. Write a Python program to find first and last digit of a number.\n",
    "##### Enter Any Number: 123\n",
    "##### Expected output\n",
    "##### First Digit of the number: 1\n",
    "##### Last digit of the number: 3"
   ]
  },
  {
   "cell_type": "markdown",
   "id": "8e0b5525",
   "metadata": {},
   "source": [
    "##### Program For Question 14:"
   ]
  },
  {
   "cell_type": "code",
   "execution_count": 48,
   "id": "4f43aed7",
   "metadata": {},
   "outputs": [
    {
     "name": "stdout",
     "output_type": "stream",
     "text": [
      "Enter Any Number123\n",
      "First Digit of the Number: 1\n",
      "First Digit of the Number: 3\n"
     ]
    }
   ],
   "source": [
    "A = num = int(input(\"Enter Any Number\"))\n",
    "count = 0\n",
    "while A!=0:\n",
    "    A = A//10\n",
    "    count=count+1\n",
    "print(\"First Digit of the Number:\",num//(pow(10,count-1)))\n",
    "print(\"First Digit of the Number:\",num%10)"
   ]
  },
  {
   "cell_type": "markdown",
   "id": "737a03e6",
   "metadata": {},
   "source": [
    "### Q15. Write a Python program to swap first and last digits of a number.\n",
    "##### Enter Any Number: 486\n",
    "##### After swap first and last digits: 684"
   ]
  },
  {
   "cell_type": "markdown",
   "id": "190ff37d",
   "metadata": {},
   "source": [
    "##### Program For Question 15:"
   ]
  },
  {
   "cell_type": "code",
   "execution_count": 49,
   "id": "e246d7c8",
   "metadata": {},
   "outputs": [
    {
     "name": "stdout",
     "output_type": "stream",
     "text": [
      "Enter Any Number486\n",
      "New number is :  684\n"
     ]
    }
   ],
   "source": [
    "A = num = int(input(\"Enter Any Number\"))\n",
    "count = -1\n",
    "while A!=0:\n",
    "    A = A//10\n",
    "    count=count+1\n",
    "first_digit=num//pow(10,count)\n",
    "unit_digit=num%10\n",
    "swap_first=(unit_digit * pow(10,count) + num%pow(10,count))//10\n",
    "new_number=swap_first * 10 + first_digit\n",
    "print(\"New number is : \",new_number )"
   ]
  },
  {
   "cell_type": "markdown",
   "id": "a0a1bb50",
   "metadata": {},
   "source": [
    "### Q16. Write a Python program to find all factors of a number.\n",
    "##### Enter Any Number: 12\n",
    "##### Factor of Number: 1,2,3,4,6,12"
   ]
  },
  {
   "cell_type": "markdown",
   "id": "46a97a3b",
   "metadata": {},
   "source": [
    "##### Program For Question 16:"
   ]
  },
  {
   "cell_type": "code",
   "execution_count": 53,
   "id": "9c776c8b",
   "metadata": {},
   "outputs": [
    {
     "name": "stdout",
     "output_type": "stream",
     "text": [
      "Enter the number of which factors you want to find : 12\n",
      "1,2,3,4,6,12\n"
     ]
    }
   ],
   "source": [
    "num=int(input(\"Enter the number of which factors you want to find : \"))\n",
    "for i in range(1,num//2+1):\n",
    "    if num%i==0:\n",
    "        print(i,end=\",\")\n",
    "print(num)"
   ]
  },
  {
   "cell_type": "markdown",
   "id": "dcc3d711",
   "metadata": {},
   "source": [
    "### Q17. Write a Python program to find maximum between two numbers \n",
    "##### Enter First Number: 10\n",
    "##### Enter Second Number: 20\n",
    "##### Maximum of two Numbers: 20"
   ]
  },
  {
   "cell_type": "markdown",
   "id": "b9557a24",
   "metadata": {},
   "source": [
    "##### Program For Question 17:"
   ]
  },
  {
   "cell_type": "code",
   "execution_count": 54,
   "id": "a7819882",
   "metadata": {},
   "outputs": [
    {
     "name": "stdout",
     "output_type": "stream",
     "text": [
      "Enter First Number:10\n",
      "Enter Second Number:20\n",
      "Maximum of two numbers: 20\n"
     ]
    }
   ],
   "source": [
    "Num_1 = int(input(\"Enter First Number:\"))\n",
    "Num_2 = int(input(\"Enter Second Number:\"))\n",
    "if Num_1 > Num_2:\n",
    "    print(\"Maximum of two numbers:\",Num_1)\n",
    "else:\n",
    "    print(\"Maximum of two numbers:\",Num_2)"
   ]
  },
  {
   "cell_type": "markdown",
   "id": "706bb7a7",
   "metadata": {},
   "source": [
    "### Q18. Write a Python program to check whether a number is even or odd without using if else and ternary operator.\n",
    "##### Enter Any Number : 48\n",
    "##### Expected output: Even Number"
   ]
  },
  {
   "cell_type": "markdown",
   "id": "38ba61cc",
   "metadata": {},
   "source": [
    "##### Program For Question 18:"
   ]
  },
  {
   "cell_type": "code",
   "execution_count": 2,
   "id": "4bdd5cdd",
   "metadata": {},
   "outputs": [
    {
     "name": "stdout",
     "output_type": "stream",
     "text": [
      "Enter Any Number : 25\n",
      "Odd Number\n"
     ]
    }
   ],
   "source": [
    "num=int(input(\"Enter Any Number : \"))\n",
    "result=['Even Number','Odd Number']\n",
    "print(result[num%2])"
   ]
  },
  {
   "cell_type": "markdown",
   "id": "0423e787",
   "metadata": {},
   "source": [
    "### Q19. Write a Python program to swap two Numbers without using arithmetic operations and without using third variable.\n",
    "##### Enter A: 10\n",
    "##### Enter B: 20\n",
    "##### Before Swapping:\n",
    "##### A= 10 B= 20\n",
    "##### After Swapping:\n",
    "##### A= 20 B= 10"
   ]
  },
  {
   "cell_type": "markdown",
   "id": "44cf0ffb",
   "metadata": {},
   "source": [
    "##### Program For Question 19:"
   ]
  },
  {
   "cell_type": "code",
   "execution_count": 1,
   "id": "e67749b6",
   "metadata": {},
   "outputs": [
    {
     "name": "stdout",
     "output_type": "stream",
     "text": [
      "Enter value of a:10\n",
      "Enter value of b:20\n",
      "Before Swapping:\n",
      " A = 10  B=20\n",
      "After Swapping:\n",
      " A = 20  B=10\n"
     ]
    }
   ],
   "source": [
    "a = int(input(\"Enter value of a:\"))\n",
    "b = int(input(\"Enter value of b:\"))\n",
    "print(f\"Before Swapping:\\n A = {a}  B={b}\")\n",
    "a=a^b\n",
    "b=a^b\n",
    "a=a^b\n",
    "print(f\"After Swapping:\\n A = {a}  B={b}\")"
   ]
  },
  {
   "cell_type": "markdown",
   "id": "0630f2bc",
   "metadata": {},
   "source": [
    "### Q20. Write a Python program to print Following Pattern\n",
    "A<br>\n",
    "B C<br>\n",
    "D E F<br>\n",
    "G H I J<br>\n",
    "K L M N O<br>"
   ]
  },
  {
   "cell_type": "markdown",
   "id": "4ecec836",
   "metadata": {},
   "source": [
    "##### Program For Question 20:"
   ]
  },
  {
   "cell_type": "code",
   "execution_count": 4,
   "id": "42f7d0d5",
   "metadata": {},
   "outputs": [
    {
     "name": "stdout",
     "output_type": "stream",
     "text": [
      "Enter the size of pattern : 5\n",
      "A \n",
      "B C \n",
      "D E F \n",
      "G H I J \n",
      "K L M N O \n"
     ]
    }
   ],
   "source": [
    "num=int(input(\"Enter the size of pattern : \"))\n",
    "char=65\n",
    "for i in range(0,num):\n",
    "    for j in range(0,(i+1)):\n",
    "        print(chr(char),end=\" \")\n",
    "        char=char+1\n",
    "    print()"
   ]
  }
 ],
 "metadata": {
  "kernelspec": {
   "display_name": "Python 3 (ipykernel)",
   "language": "python",
   "name": "python3"
  },
  "language_info": {
   "codemirror_mode": {
    "name": "ipython",
    "version": 3
   },
   "file_extension": ".py",
   "mimetype": "text/x-python",
   "name": "python",
   "nbconvert_exporter": "python",
   "pygments_lexer": "ipython3",
   "version": "3.11.4"
  }
 },
 "nbformat": 4,
 "nbformat_minor": 5
}
