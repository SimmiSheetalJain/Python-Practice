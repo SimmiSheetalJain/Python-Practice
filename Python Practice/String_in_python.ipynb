{
 "cells": [
  {
   "cell_type": "markdown",
   "id": "b6f51c8b",
   "metadata": {},
   "source": [
    "# String"
   ]
  },
  {
   "cell_type": "markdown",
   "id": "1f630c2b",
   "metadata": {},
   "source": [
    "String is a collection of more than 1 character. But in python, a single character is also considered string."
   ]
  },
  {
   "cell_type": "code",
   "execution_count": 1,
   "id": "2395d694",
   "metadata": {},
   "outputs": [
    {
     "data": {
      "text/plain": [
       "str"
      ]
     },
     "execution_count": 1,
     "metadata": {},
     "output_type": "execute_result"
    }
   ],
   "source": [
    "#Example 1\n",
    "char = 'A'\n",
    "type(char)"
   ]
  },
  {
   "cell_type": "code",
   "execution_count": 2,
   "id": "b3afcbdb",
   "metadata": {},
   "outputs": [
    {
     "data": {
      "text/plain": [
       "str"
      ]
     },
     "execution_count": 2,
     "metadata": {},
     "output_type": "execute_result"
    }
   ],
   "source": [
    "#Example 2\n",
    "name = 'Sheetal Jain'\n",
    "type(name)"
   ]
  },
  {
   "cell_type": "markdown",
   "id": "111ede55",
   "metadata": {},
   "source": [
    "###### String can be defined using single as well as double quotes."
   ]
  },
  {
   "cell_type": "code",
   "execution_count": 3,
   "id": "510bcf43",
   "metadata": {},
   "outputs": [
    {
     "name": "stdout",
     "output_type": "stream",
     "text": [
      "Manoj Kumar Jain\n"
     ]
    }
   ],
   "source": [
    "#Example 3\n",
    "\n",
    "f_name=\"Manoj Kumar Jain\"\n",
    "print(f_name)"
   ]
  },
  {
   "cell_type": "markdown",
   "id": "c340eee3",
   "metadata": {},
   "source": [
    "### We can use triple quotes to write each word of a string in a separate line."
   ]
  },
  {
   "cell_type": "code",
   "execution_count": 4,
   "id": "8dccfc3b",
   "metadata": {},
   "outputs": [],
   "source": [
    "aim = \"\"\"I\n",
    "Want \n",
    "Serve \n",
    "India\"\"\""
   ]
  },
  {
   "cell_type": "code",
   "execution_count": 2,
   "id": "f898a96d",
   "metadata": {},
   "outputs": [],
   "source": [
    "try1='''Hi\n",
    "I \n",
    "am \n",
    "Simmi\n",
    "Jain'''"
   ]
  },
  {
   "cell_type": "code",
   "execution_count": 4,
   "id": "c174de15",
   "metadata": {},
   "outputs": [
    {
     "name": "stdout",
     "output_type": "stream",
     "text": [
      "Hi\n",
      "I \n",
      "am \n",
      "Simmi\n",
      "Jain\n"
     ]
    }
   ],
   "source": [
    "print(try1)"
   ]
  },
  {
   "cell_type": "code",
   "execution_count": null,
   "id": "174e241c",
   "metadata": {},
   "outputs": [],
   "source": []
  },
  {
   "cell_type": "code",
   "execution_count": 5,
   "id": "9752650c",
   "metadata": {},
   "outputs": [
    {
     "name": "stdout",
     "output_type": "stream",
     "text": [
      "I\n",
      "Want \n",
      "Serve \n",
      "India\n"
     ]
    }
   ],
   "source": [
    "print(aim)"
   ]
  },
  {
   "cell_type": "markdown",
   "id": "2a4df314",
   "metadata": {},
   "source": [
    "### We can access characters of a string using subscript operator"
   ]
  },
  {
   "cell_type": "code",
   "execution_count": 7,
   "id": "abd1060e",
   "metadata": {},
   "outputs": [
    {
     "name": "stdout",
     "output_type": "stream",
     "text": [
      "l\n"
     ]
    }
   ],
   "source": [
    "#Example 1\n",
    "goal = \"A skilled person\"\n",
    "print(goal[5])"
   ]
  },
  {
   "cell_type": "markdown",
   "id": "e7b2aab0",
   "metadata": {},
   "source": [
    "Slicing can also be applied on a string. When we write subscript operator for slicing, first parameter represents initiation index, second parameter represents ending index, and third parameter represents jump. "
   ]
  },
  {
   "cell_type": "code",
   "execution_count": 6,
   "id": "473bc446",
   "metadata": {},
   "outputs": [
    {
     "ename": "NameError",
     "evalue": "name 'goal' is not defined",
     "output_type": "error",
     "traceback": [
      "\u001b[1;31m---------------------------------------------------------------------------\u001b[0m",
      "\u001b[1;31mNameError\u001b[0m                                 Traceback (most recent call last)",
      "Cell \u001b[1;32mIn[6], line 2\u001b[0m\n\u001b[0;32m      1\u001b[0m \u001b[38;5;66;03m#Example 2\u001b[39;00m\n\u001b[1;32m----> 2\u001b[0m goal[\u001b[38;5;241m1\u001b[39m:\u001b[38;5;241m11\u001b[39m:\u001b[38;5;241m2\u001b[39m]\n",
      "\u001b[1;31mNameError\u001b[0m: name 'goal' is not defined"
     ]
    }
   ],
   "source": [
    "#Example 2\n",
    "goal[1:11:2]"
   ]
  },
  {
   "cell_type": "code",
   "execution_count": 8,
   "id": "9ccd30a7",
   "metadata": {},
   "outputs": [
    {
     "data": {
      "text/plain": [
       "'nosrep delliks A'"
      ]
     },
     "execution_count": 8,
     "metadata": {},
     "output_type": "execute_result"
    }
   ],
   "source": [
    "#Example 3\n",
    "goal[::-1]"
   ]
  },
  {
   "cell_type": "code",
   "execution_count": 8,
   "id": "00821e7f",
   "metadata": {},
   "outputs": [
    {
     "data": {
      "text/plain": [
       "'A skilled person'"
      ]
     },
     "execution_count": 8,
     "metadata": {},
     "output_type": "execute_result"
    }
   ],
   "source": [
    "goal[::1]"
   ]
  },
  {
   "cell_type": "code",
   "execution_count": 9,
   "id": "52285dc9",
   "metadata": {},
   "outputs": [
    {
     "data": {
      "text/plain": [
       "'skilled'"
      ]
     },
     "execution_count": 9,
     "metadata": {},
     "output_type": "execute_result"
    }
   ],
   "source": [
    "#Example 4\n",
    "goal[2:9]"
   ]
  },
  {
   "cell_type": "markdown",
   "id": "96adfa49",
   "metadata": {},
   "source": [
    "## Q1: WAP to accept input from a user and print in reverse without using slicing"
   ]
  },
  {
   "cell_type": "code",
   "execution_count": 10,
   "id": "e2c04ae0",
   "metadata": {},
   "outputs": [
    {
     "name": "stdout",
     "output_type": "stream",
     "text": [
      "Enter your name : simmi sheetal jain\n",
      "niaj lateehs immis"
     ]
    }
   ],
   "source": [
    "#Solution Code \n",
    "s = str(input(\"Enter your name : \"))\n",
    "rs=[]\n",
    "i = -1\n",
    "while  i >=(-len(s)): \n",
    "    rs.append(s[i])\n",
    "    i-=1\n",
    "for g in rs:\n",
    "    print(g,end=\"\")"
   ]
  },
  {
   "cell_type": "markdown",
   "id": "8f29f4d7",
   "metadata": {},
   "source": [
    "### Functions in String "
   ]
  },
  {
   "cell_type": "code",
   "execution_count": null,
   "id": "c3ecef84",
   "metadata": {},
   "outputs": [],
   "source": [
    "1. len() :  To obatin length\n",
    "2. max() :  Returns maximum ascii value character\n",
    "3. min() :  Returns minimum ascii value character\n",
    "4. ord() :  Returns ascii code of a character\n",
    "5. chr() :  returns charcter of an entered ascii value"
   ]
  },
  {
   "cell_type": "code",
   "execution_count": 13,
   "id": "841c6ea9",
   "metadata": {},
   "outputs": [
    {
     "name": "stdout",
     "output_type": "stream",
     "text": [
      "Simmi Sheetal Jain\n"
     ]
    }
   ],
   "source": [
    "#Example 1:\n",
    "s = \"Simmi Sheetal Jain\"\n",
    "print(s)"
   ]
  },
  {
   "cell_type": "code",
   "execution_count": 14,
   "id": "b5dc6810",
   "metadata": {},
   "outputs": [
    {
     "data": {
      "text/plain": [
       "'t'"
      ]
     },
     "execution_count": 14,
     "metadata": {},
     "output_type": "execute_result"
    }
   ],
   "source": [
    "#Example 2:\n",
    "max(s)"
   ]
  },
  {
   "cell_type": "code",
   "execution_count": 15,
   "id": "ff013bdd",
   "metadata": {},
   "outputs": [
    {
     "data": {
      "text/plain": [
       "' '"
      ]
     },
     "execution_count": 15,
     "metadata": {},
     "output_type": "execute_result"
    }
   ],
   "source": [
    "#Example 3:\n",
    "min(s)"
   ]
  },
  {
   "cell_type": "code",
   "execution_count": 16,
   "id": "862f31ef",
   "metadata": {},
   "outputs": [
    {
     "data": {
      "text/plain": [
       "97"
      ]
     },
     "execution_count": 16,
     "metadata": {},
     "output_type": "execute_result"
    }
   ],
   "source": [
    "#Example 4:\n",
    "ord('a')"
   ]
  },
  {
   "cell_type": "code",
   "execution_count": 19,
   "id": "5e916b00",
   "metadata": {},
   "outputs": [
    {
     "data": {
      "text/plain": [
       "'a'"
      ]
     },
     "execution_count": 19,
     "metadata": {},
     "output_type": "execute_result"
    }
   ],
   "source": [
    "#Example 5\n",
    "chr(97)"
   ]
  },
  {
   "cell_type": "markdown",
   "id": "aaf4027c",
   "metadata": {},
   "source": [
    "### String Concatenation"
   ]
  },
  {
   "cell_type": "markdown",
   "id": "79d24b8d",
   "metadata": {},
   "source": [
    "It can be achieved using '+' operator"
   ]
  },
  {
   "cell_type": "markdown",
   "id": "fd689572",
   "metadata": {},
   "source": [
    "E.G.: "
   ]
  },
  {
   "cell_type": "code",
   "execution_count": 20,
   "id": "f7b580c9",
   "metadata": {},
   "outputs": [
    {
     "name": "stdout",
     "output_type": "stream",
     "text": [
      "Simmi Sheetal Jain\n"
     ]
    }
   ],
   "source": [
    "a=\"Simmi\"\n",
    "b=\"Sheetal\"\n",
    "c=\"Jain\"\n",
    "d = a+\" \"+b+\" \"+c\n",
    "print(d)"
   ]
  },
  {
   "cell_type": "markdown",
   "id": "b2828481",
   "metadata": {},
   "source": [
    "### Relational operator on string:"
   ]
  },
  {
   "cell_type": "code",
   "execution_count": 23,
   "id": "0c1fede5",
   "metadata": {},
   "outputs": [
    {
     "data": {
      "text/plain": [
       "False"
      ]
     },
     "execution_count": 23,
     "metadata": {},
     "output_type": "execute_result"
    }
   ],
   "source": [
    "#Example 1\n",
    "\"Ice\"  > \"cream\""
   ]
  },
  {
   "cell_type": "code",
   "execution_count": 24,
   "id": "34fbc92e",
   "metadata": {},
   "outputs": [
    {
     "data": {
      "text/plain": [
       "True"
      ]
     },
     "execution_count": 24,
     "metadata": {},
     "output_type": "execute_result"
    }
   ],
   "source": [
    "#Example 2:\n",
    "\"Tie\"  < \"Til\""
   ]
  },
  {
   "cell_type": "code",
   "execution_count": 25,
   "id": "88dc5c71",
   "metadata": {},
   "outputs": [
    {
     "data": {
      "text/plain": [
       "True"
      ]
     },
     "execution_count": 25,
     "metadata": {},
     "output_type": "execute_result"
    }
   ],
   "source": [
    "#Example 3:\n",
    "\"Ice\"  >= \"Ica\""
   ]
  },
  {
   "cell_type": "code",
   "execution_count": 26,
   "id": "12e3b41a",
   "metadata": {},
   "outputs": [
    {
     "data": {
      "text/plain": [
       "False"
      ]
     },
     "execution_count": 26,
     "metadata": {},
     "output_type": "execute_result"
    }
   ],
   "source": [
    "#Example 4:\n",
    "\"Namita\" <= \"Namika\""
   ]
  },
  {
   "cell_type": "code",
   "execution_count": 28,
   "id": "19447f6f",
   "metadata": {},
   "outputs": [
    {
     "data": {
      "text/plain": [
       "False"
      ]
     },
     "execution_count": 28,
     "metadata": {},
     "output_type": "execute_result"
    }
   ],
   "source": [
    "#Example 5:\n",
    "\"She\" != \"She\""
   ]
  },
  {
   "cell_type": "code",
   "execution_count": 29,
   "id": "bce29d59",
   "metadata": {},
   "outputs": [
    {
     "data": {
      "text/plain": [
       "False"
      ]
     },
     "execution_count": 29,
     "metadata": {},
     "output_type": "execute_result"
    }
   ],
   "source": [
    "#Example 6:\n",
    "\"He\" == \"She\""
   ]
  },
  {
   "cell_type": "markdown",
   "id": "e4d2e2e9",
   "metadata": {},
   "source": [
    "###### here, ASCII code is compared character by character respectively."
   ]
  },
  {
   "cell_type": "markdown",
   "id": "2dd2cada",
   "metadata": {},
   "source": [
    "### Membership operator in string"
   ]
  },
  {
   "cell_type": "code",
   "execution_count": 5,
   "id": "02d0fbc4",
   "metadata": {},
   "outputs": [
    {
     "data": {
      "text/plain": [
       "True"
      ]
     },
     "execution_count": 5,
     "metadata": {},
     "output_type": "execute_result"
    }
   ],
   "source": [
    "#Example 1\n",
    "s=\"Simmi\"\n",
    "'S' in \"Simmi\""
   ]
  },
  {
   "cell_type": "code",
   "execution_count": 32,
   "id": "acb1fc8c",
   "metadata": {},
   "outputs": [
    {
     "data": {
      "text/plain": [
       "False"
      ]
     },
     "execution_count": 32,
     "metadata": {},
     "output_type": "execute_result"
    }
   ],
   "source": [
    "#Example 2\n",
    "'S' not in \"Simmi\""
   ]
  },
  {
   "cell_type": "markdown",
   "id": "bfcb4125",
   "metadata": {},
   "source": [
    "### Identity operator in string "
   ]
  },
  {
   "cell_type": "code",
   "execution_count": 33,
   "id": "fc8df329",
   "metadata": {},
   "outputs": [
    {
     "data": {
      "text/plain": [
       "True"
      ]
     },
     "execution_count": 33,
     "metadata": {},
     "output_type": "execute_result"
    }
   ],
   "source": [
    "#Example 1\n",
    "a = \"Simmi\"\n",
    "b = \"Simmi\"\n",
    "a is b"
   ]
  },
  {
   "cell_type": "code",
   "execution_count": 34,
   "id": "3e2d0a3d",
   "metadata": {},
   "outputs": [
    {
     "data": {
      "text/plain": [
       "True"
      ]
     },
     "execution_count": 34,
     "metadata": {},
     "output_type": "execute_result"
    }
   ],
   "source": [
    "#Example 2\n",
    "a = \"Simmi\"\n",
    "b = \"Sheetal\"\n",
    "a is not b"
   ]
  },
  {
   "cell_type": "code",
   "execution_count": 35,
   "id": "8847a6f7",
   "metadata": {},
   "outputs": [
    {
     "data": {
      "text/plain": [
       "False"
      ]
     },
     "execution_count": 35,
     "metadata": {},
     "output_type": "execute_result"
    }
   ],
   "source": [
    "#Example 3\n",
    "a is b "
   ]
  },
  {
   "cell_type": "markdown",
   "id": "5f853c34",
   "metadata": {},
   "source": [
    "### Methods in string"
   ]
  },
  {
   "cell_type": "markdown",
   "id": "3c7707f3",
   "metadata": {},
   "source": [
    "1. capitalize() : Sentence case \n",
    "2. lower() : convert string into lower case\n",
    "3. upper() :  Convert string into upper case\n",
    "4. swapcase() : swaps case of each letter i.e. small to capital and vice-versa.\n",
    "5. title() : Convet a passed string into the a title case i.e. first letter of each word in Capital and rest letters in small.\n",
    "6. isupper() : Returns true is string is in upper case else it returns false.\n",
    "7. islower() : Returns true is string is in lower case else it returns false.\n",
    "8. isalpha() : Returns true if all charater in a string are alphabets only else it returns false.\n",
    "9. isdigit() : Returns true if all charater in a string are digits only else it returns false.   \n",
    "10. isalnum(): Returns true if all charater in a string are digits and alpabets only else it returns false.       \n",
    "11. isspace():Returns true if all charater in a string are white space else it returns false.       \n",
    "12. startswith() : Returns true if string starts with string passed in this mehtods else returns false.\n",
    "13. endswith() : Returns true if string ends with string passed in this mehtods else returns false.    \n",
    "14. index() : Returns the index of the first letter of a substring passed inside this function at its first occurrence in the main string. If string isn't fount it raises exception\n",
    "15. count() :Returns the number of times a substring passed in it occurrs in main string   \n",
    "16. split() :Splits a string. Charcter, using which spliting is going to be performed, can be passed in the split function (Default character is \" \", a single white space )    \n",
    "17. join() : can join elements of an iterable passed in it.\n"
   ]
  },
  {
   "cell_type": "code",
   "execution_count": 23,
   "id": "0065162b",
   "metadata": {},
   "outputs": [
    {
     "name": "stdout",
     "output_type": "stream",
     "text": [
      "Simmi sheetal jain\n",
      "simmi sheetal jain\n",
      "SIMMI SHEETAL JAIN\n",
      "SImmI sHeeTAL jaIn\n",
      "Simmi Sheetal Jain\n",
      "False\n",
      "False\n",
      "False\n",
      "True\n",
      "True\n",
      "True\n",
      "True\n",
      "True\n",
      "14\n",
      "1\n",
      "['I', 'love', 'my', 'parents', 'and', 'family.', 'I', 'will', 'not', 'kill', 'my', 'precious', 'time', 'any', 'more.']\n",
      "['I', 'Love', 'MY', 'INDIA']\n",
      "S H E E T A L\n",
      "S@H@E@E@T@A@L\n",
      "S I M M I\n"
     ]
    }
   ],
   "source": [
    "#Example 1\n",
    "name = \"siMMi ShEEtal JAiN\"\n",
    "#1. capitalize()\n",
    "print(name.capitalize())\n",
    "#2. lower()\n",
    "print(name.lower())\n",
    "#3. upper()\n",
    "print(name.upper())\n",
    "#4. swapcase()\n",
    "print(name.swapcase())\n",
    "#5. title()\n",
    "print(name.title())\n",
    "#6. isupper()\n",
    "print(name.isupper())\n",
    "#7. islower()\n",
    "print(name.islower())\n",
    "#8. isalpha()\n",
    "print(name.isalpha())\n",
    "#9. isdigit()\n",
    "number = '7895354805'\n",
    "print(number.isdigit())\n",
    "#10. isalnum()\n",
    "alnum = \"Simmi1101\"\n",
    "print(alnum.isalnum())\n",
    "#11. isspace()\n",
    "white_space = \"           \"\n",
    "print(white_space.isspace())\n",
    "#12. startswith\n",
    "print(name.startswith('siMMi'))\n",
    "#13. endswith\n",
    "print(name.endswith('JAiN'))\n",
    "#14. index()\n",
    "print(name.index(\"JAiN\"))\n",
    "#15. count()\n",
    "string = \" India has immature IT industry. I believe I can make it a mature market.\"\n",
    "print(string.count(\"India\"))\n",
    "#16. split()\n",
    "print(\"I love my parents and family. I will not kill my precious time any more.\".split())\n",
    "print(\"I$Love$MY$INDIA\".split(\"$\"))\n",
    "#17. join()\n",
    "print(\" \".join([\"S\",\"H\",\"E\",\"E\",\"T\",\"A\",\"L\"]))\n",
    "print(\"@\".join([\"S\",\"H\",\"E\",\"E\",\"T\",\"A\",\"L\"]))\n",
    "print(\" \".join(\"SIMMI\"))"
   ]
  },
  {
   "cell_type": "markdown",
   "id": "47bfafe8",
   "metadata": {},
   "source": [
    "### Ways of printing a string:"
   ]
  },
  {
   "cell_type": "code",
   "execution_count": 29,
   "id": "dbb947d6",
   "metadata": {},
   "outputs": [
    {
     "name": "stdout",
     "output_type": "stream",
     "text": [
      "My name is Simmi and number is 7895653975\n"
     ]
    }
   ],
   "source": [
    "#Way 1: Using Format function\n",
    "name=\"Simmi\"\n",
    "number=7895653975\n",
    "print(\"My name is {0} and number is {1}\" .format(name,number))"
   ]
  },
  {
   "cell_type": "code",
   "execution_count": 30,
   "id": "e4b3a447",
   "metadata": {},
   "outputs": [
    {
     "name": "stdout",
     "output_type": "stream",
     "text": [
      "My name is Simmi and number is 7895653975 \n"
     ]
    }
   ],
   "source": [
    "#Way 2: Using format specifiers\n",
    "print(\"My name is %s and number is %d \"%(name,number))"
   ]
  },
  {
   "cell_type": "code",
   "execution_count": 31,
   "id": "d843ec15",
   "metadata": {},
   "outputs": [
    {
     "name": "stdout",
     "output_type": "stream",
     "text": [
      "My name is  Simmi and My number is  7895653975\n"
     ]
    }
   ],
   "source": [
    "#Way 3: passing varable whereever the data of variable is to be printed.\n",
    "print(\"My name is \", name,\"and My number is \",number)"
   ]
  },
  {
   "cell_type": "code",
   "execution_count": 32,
   "id": "ff2da0fd",
   "metadata": {},
   "outputs": [
    {
     "name": "stdout",
     "output_type": "stream",
     "text": [
      "my name is Simmi and My number is 7895653975\n"
     ]
    }
   ],
   "source": [
    "#Way 4: f-string (Also Called String interpolation), its execution time is too less.\n",
    "\n",
    "print(f\"my name is {name} and My number is {number}\")"
   ]
  },
  {
   "cell_type": "code",
   "execution_count": 14,
   "id": "40bf2b9b",
   "metadata": {},
   "outputs": [],
   "source": [
    "d = \"1234\"\n",
    "l = []\n",
    "for i in d:\n",
    "    l.append(int(i))"
   ]
  },
  {
   "cell_type": "code",
   "execution_count": 15,
   "id": "8d3c1e25",
   "metadata": {},
   "outputs": [
    {
     "data": {
      "text/plain": [
       "[1, 2, 3, 4]"
      ]
     },
     "execution_count": 15,
     "metadata": {},
     "output_type": "execute_result"
    }
   ],
   "source": [
    "l"
   ]
  },
  {
   "cell_type": "code",
   "execution_count": 2,
   "id": "05277d7d",
   "metadata": {},
   "outputs": [],
   "source": [
    "x=\"Ankit\"\n",
    "x=list(x)"
   ]
  },
  {
   "cell_type": "code",
   "execution_count": 3,
   "id": "8eb26bb3",
   "metadata": {},
   "outputs": [],
   "source": [
    "def addtion():\n",
    "    "
   ]
  },
  {
   "cell_type": "code",
   "execution_count": 3,
   "id": "a9affcd6",
   "metadata": {},
   "outputs": [
    {
     "name": "stdout",
     "output_type": "stream",
     "text": [
      "olleH"
     ]
    }
   ],
   "source": [
    "goal=\"Hello\"\n",
    "for i in range(-1,-(len(goal)+1),-1):\n",
    "    print(goal[i],end=\"\")"
   ]
  },
  {
   "cell_type": "code",
   "execution_count": 1,
   "id": "05a753dd",
   "metadata": {},
   "outputs": [
    {
     "name": "stdout",
     "output_type": "stream",
     "text": [
      "Simmi sheetal jain\n",
      "simmi sheetal jain\n",
      "SIMMI SHEETAL JAIN\n"
     ]
    }
   ],
   "source": [
    "#Example 1\n",
    "name = \"siMMi ShEEtal JAiN\"\n",
    "#1. capitalize()\n",
    "print(name.capitalize())\n",
    "#2. lower()\n",
    "print(name.lower())\n",
    "#3. upper()\n",
    "print(name.upper())"
   ]
  },
  {
   "cell_type": "code",
   "execution_count": 42,
   "id": "bf6e4e02",
   "metadata": {},
   "outputs": [
    {
     "data": {
      "text/plain": [
       "48"
      ]
     },
     "execution_count": 42,
     "metadata": {},
     "output_type": "execute_result"
    }
   ],
   "source": [
    "ord('0')"
   ]
  },
  {
   "cell_type": "code",
   "execution_count": 18,
   "id": "7d5921a9",
   "metadata": {},
   "outputs": [
    {
     "data": {
      "text/plain": [
       "'easa:,:bc123'"
      ]
     },
     "execution_count": 18,
     "metadata": {},
     "output_type": "execute_result"
    }
   ],
   "source": [
    "\"EASa:,:bc123\".lower()"
   ]
  },
  {
   "cell_type": "code",
   "execution_count": 38,
   "id": "1ff75f60",
   "metadata": {},
   "outputs": [
    {
     "name": "stdout",
     "output_type": "stream",
     "text": [
      "A man, a plan, a canal: Panama\n",
      "[]\n",
      "['m', 'a', 'n', 'a', 'p', 'l', 'a', 'n', 'a', 'c', 'a', 'n', 'a', 'l', 'a', 'n', 'a', 'm', 'a']\n",
      "amanalanacanalpanam    manaplanacanalanama\n"
     ]
    }
   ],
   "source": [
    "s=\"A man, a plan, a canal: Panama\"\n",
    "s.lower()\n",
    "print(s)\n",
    "demo1=[]\n",
    "print(demo1)\n",
    "Flag=False\n",
    "for i in s:\n",
    "    if ((96 < ord(i) < 123) or (48<ord(i)<58)):\n",
    "        demo1.append(i)\n",
    "print(demo1)\n",
    "ans=''.join(demo1)\n",
    "print(ans[::-1],\"  \",ans)\n"
   ]
  },
  {
   "cell_type": "code",
   "execution_count": 34,
   "id": "38bc2eb0",
   "metadata": {},
   "outputs": [
    {
     "data": {
      "text/plain": [
       "32"
      ]
     },
     "execution_count": 34,
     "metadata": {},
     "output_type": "execute_result"
    }
   ],
   "source": [
    "97-65"
   ]
  },
  {
   "cell_type": "code",
   "execution_count": 37,
   "id": "ec46a333",
   "metadata": {},
   "outputs": [
    {
     "data": {
      "text/plain": [
       "'a man, a plan, a canal: panama'"
      ]
     },
     "execution_count": 37,
     "metadata": {},
     "output_type": "execute_result"
    }
   ],
   "source": [
    "\"A man, a plan, a canal: Panama\".lower()"
   ]
  },
  {
   "cell_type": "code",
   "execution_count": null,
   "id": "82903028",
   "metadata": {},
   "outputs": [],
   "source": []
  }
 ],
 "metadata": {
  "kernelspec": {
   "display_name": "Python 3 (ipykernel)",
   "language": "python",
   "name": "python3"
  },
  "language_info": {
   "codemirror_mode": {
    "name": "ipython",
    "version": 3
   },
   "file_extension": ".py",
   "mimetype": "text/x-python",
   "name": "python",
   "nbconvert_exporter": "python",
   "pygments_lexer": "ipython3",
   "version": "3.11.4"
  }
 },
 "nbformat": 4,
 "nbformat_minor": 5
}
