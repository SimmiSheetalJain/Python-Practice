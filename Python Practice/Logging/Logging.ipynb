{
 "cells": [
  {
   "cell_type": "markdown",
   "id": "557d591d",
   "metadata": {},
   "source": [
    "# Logging "
   ]
  },
  {
   "cell_type": "markdown",
   "id": "9da157f4",
   "metadata": {},
   "source": [
    "Logging is a way of tracking error, exceptions, warning, critical and other information in an application. We also do logging using print function. For Example, "
   ]
  },
  {
   "cell_type": "code",
   "execution_count": 1,
   "id": "194f52e5",
   "metadata": {},
   "outputs": [
    {
     "name": "stdout",
     "output_type": "stream",
     "text": [
      "This is iteration number 1\n",
      "This is iteration number 2\n",
      "This is iteration number 3\n",
      "This is iteration number 4\n",
      "This is iteration number 5\n"
     ]
    }
   ],
   "source": [
    "#Example \n",
    "for i in range(5):\n",
    "    print(f\"This is iteration number {i+1}\")"
   ]
  },
  {
   "cell_type": "markdown",
   "id": "4573e9f0",
   "metadata": {},
   "source": [
    "The above program shows what updation was there in the code after every iteration. But Showing all this information on the console is not the right way of tracking information.So, we have another way, which is logging. It is a module in python."
   ]
  },
  {
   "cell_type": "markdown",
   "id": "1469d4d8",
   "metadata": {},
   "source": [
    "The information such as erros, dubug, warning, critical, and other information vary application to application. "
   ]
  },
  {
   "cell_type": "markdown",
   "id": "52f3a3bd",
   "metadata": {},
   "source": [
    "Python give a number(a value) to these above five information:\n",
    "1. Nonset 0\n",
    "2. Debug 10\n",
    "3. Info 20\n",
    "4. Warning 30 \n",
    "5. Error 40\n",
    "6. Critical 50"
   ]
  },
  {
   "cell_type": "markdown",
   "id": "96fec0fb",
   "metadata": {},
   "source": [
    "Which information is going to be given first priority and which one is going to be given last priority is decided by the above numbers."
   ]
  },
  {
   "cell_type": "markdown",
   "id": "830ae889",
   "metadata": {},
   "source": [
    "We use 'logger level' to set which all information is going to be logged."
   ]
  },
  {
   "cell_type": "markdown",
   "id": "7a6c5fe6",
   "metadata": {},
   "source": [
    "#### For Example  : "
   ]
  },
  {
   "cell_type": "markdown",
   "id": "4e37dd8a",
   "metadata": {},
   "source": [
    "If level=warning, then warning, error, and critical are going to be tracked but not the above three(info, debug, and notset) "
   ]
  },
  {
   "cell_type": "code",
   "execution_count": 2,
   "id": "93177d03",
   "metadata": {},
   "outputs": [],
   "source": [
    "import logging\n",
    "logging.basicConfig(filename=\"test.log\")\n",
    "logging.warning(\"A warning occured at line 3\")\n",
    "logging.error(\"A error occured at line 4\")\n",
    "logging.critical(\"A critical at line 5\")"
   ]
  },
  {
   "cell_type": "markdown",
   "id": "07209a4e",
   "metadata": {},
   "source": [
    "We can see the log file been created in the same directory. \n",
    "<img src=\"https://github.com/SimmiSheetalJain/Medias_for_notes_and_blogs/blob/main/logging.png?raw=true\">"
   ]
  },
  {
   "cell_type": "markdown",
   "id": "fa544210",
   "metadata": {},
   "source": [
    "Warning is the deafult value of the level. Any information of the lower priority than warning will not be printed. "
   ]
  },
  {
   "cell_type": "markdown",
   "id": "aa4179fd",
   "metadata": {},
   "source": [
    "##### For Example "
   ]
  },
  {
   "cell_type": "code",
   "execution_count": 3,
   "id": "06e6e6f9",
   "metadata": {},
   "outputs": [],
   "source": [
    "import logging\n",
    "logging.basicConfig(filename=\"test.log\")\n",
    "logging.warning(\"A new warning occured at line 3\")\n",
    "logging.error(\"A new error occured at line 4\")\n",
    "logging.critical(\"A new critical at line 5\")\n",
    "logging.debug(\"A new critical at line 6\")\n",
    "logging.info(\"A new information is found at line 7\")"
   ]
  },
  {
   "cell_type": "markdown",
   "id": "e0b0b685",
   "metadata": {},
   "source": [
    "We can see the log file hasn't stored the last 2 lines as the default level is warning \n",
    "<img src=\"https://github.com/SimmiSheetalJain/Medias_for_notes_and_blogs/blob/main/logging1.png?raw=true\">\n"
   ]
  },
  {
   "cell_type": "markdown",
   "id": "a9165332",
   "metadata": {},
   "source": [
    "To print the other informations too, we can keep 'force' argument as true and, we will also have to set level as logging.info"
   ]
  },
  {
   "cell_type": "code",
   "execution_count": 1,
   "id": "45dc172b",
   "metadata": {},
   "outputs": [],
   "source": [
    "import logging\n",
    "logging.basicConfig(filename=\"Another_test.log\", level=logging.INFO, force=True)\n",
    "logging.warning(\"A new warning occured at line 3\")\n",
    "logging.error(\"A new error occured at line 4\")\n",
    "logging.critical(\"A new critical at line 5\")\n",
    "logging.info(\"A new information is found at line 6\")"
   ]
  },
  {
   "cell_type": "markdown",
   "id": "6e8beef9",
   "metadata": {},
   "source": [
    "<img src=\"https://github.com/SimmiSheetalJain/Medias_for_notes_and_blogs/blob/main/logging3.png?raw=true\">"
   ]
  },
  {
   "cell_type": "markdown",
   "id": "8fc6b24f",
   "metadata": {},
   "source": [
    "We can see 'info' message is also getting saved in log file. Similarly, to save debug info, we need set argument 'level' as logging.debug"
   ]
  },
  {
   "cell_type": "code",
   "execution_count": 2,
   "id": "195d0ce4",
   "metadata": {},
   "outputs": [],
   "source": [
    "logging.basicConfig(filename=\"check_test.log\", level=logging.DEBUG, force=True)\n",
    "logging.debug(\"A new bug is found at line 1\")\n",
    "logging.info(\"A new information is found at line 2\")\n",
    "logging.warning(\"A new warning occured at line 3\")\n",
    "logging.error(\"A new error occured at line 4\")\n",
    "logging.critical(\"A new critical at line 5\")"
   ]
  },
  {
   "cell_type": "markdown",
   "id": "3722925d",
   "metadata": {},
   "source": [
    "<img src=\"https://github.com/SimmiSheetalJain/Medias_for_notes_and_blogs/blob/main/logging4.png?raw=true\">\n",
    "As it can be seen, the debug information is saved in log file."
   ]
  },
  {
   "cell_type": "markdown",
   "id": "0d8262e8",
   "metadata": {},
   "source": [
    "## File Mode "
   ]
  },
  {
   "cell_type": "markdown",
   "id": "be9b8628",
   "metadata": {},
   "source": [
    "We can specify the file mode too.By default, file mode is append. On executing the previous code again, we can see, we will be getting the same information appended at the end of the previous information. "
   ]
  },
  {
   "cell_type": "code",
   "execution_count": 8,
   "id": "139dc1e7",
   "metadata": {},
   "outputs": [],
   "source": [
    "#Example\n",
    "logging.debug(\"A new bug is found at line 1\")\n",
    "logging.info(\"A new information is found at line 2\")\n",
    "logging.warning(\"A new warning occured at line 3\")\n",
    "logging.error(\"A new error occured at line 4\")\n",
    "logging.critical(\"A new critical at line 5\")"
   ]
  },
  {
   "cell_type": "markdown",
   "id": "cfda4cf4",
   "metadata": {},
   "source": [
    "<img src=\"https://github.com/SimmiSheetalJain/Medias_for_notes_and_blogs/blob/main/logging5.png?raw=true\">"
   ]
  },
  {
   "cell_type": "markdown",
   "id": "8caff821",
   "metadata": {},
   "source": [
    "### But when we change file mode to 'w', the information will be written only ones."
   ]
  },
  {
   "cell_type": "code",
   "execution_count": 9,
   "id": "e6bf5ef0",
   "metadata": {},
   "outputs": [],
   "source": [
    "import logging\n",
    "logging.basicConfig(filename=\"check_test.log\", level=logging.DEBUG, force=True,filemode='w')\n",
    "logging.debug(\"A new bug is found at line 1\")\n",
    "logging.info(\"A new information is found at line 2\")\n",
    "logging.warning(\"A new warning occured at line 3\")\n",
    "logging.error(\"A new error occured at line 4\")\n",
    "logging.critical(\"A new critical at line 5\")"
   ]
  },
  {
   "cell_type": "markdown",
   "id": "a59e27f2",
   "metadata": {},
   "source": [
    "<img src=\"https://github.com/SimmiSheetalJain/Medias_for_notes_and_blogs/blob/main/logging6.png?raw=true\">"
   ]
  },
  {
   "cell_type": "markdown",
   "id": "a0f3e117",
   "metadata": {},
   "source": [
    "## Formatting the message"
   ]
  },
  {
   "cell_type": "markdown",
   "id": "0dbac626",
   "metadata": {},
   "source": [
    "To format our message, to be saved in log file, we need to specify values for 'format' argument.<br>\n",
    "##### For example:"
   ]
  },
  {
   "cell_type": "code",
   "execution_count": 10,
   "id": "a4089040",
   "metadata": {},
   "outputs": [],
   "source": [
    "import logging\n",
    "logging.basicConfig(filename=\"check_test.log\", level=logging.DEBUG, format=\"%(asctime)s %(message)s\",force=True,filemode='w')\n",
    "logging.debug(\"A new bug is found at line 1\")\n",
    "logging.info(\"A new information is found at line 2\")\n",
    "logging.warning(\"A new warning occured at line 3\")\n",
    "logging.error(\"A new error occured at line 4\")\n",
    "logging.critical(\"A new critical at line 5\")"
   ]
  },
  {
   "cell_type": "markdown",
   "id": "99db71a0",
   "metadata": {},
   "source": [
    "<img src=\"https://github.com/SimmiSheetalJain/Medias_for_notes_and_blogs/blob/main/logging7.png?raw=true\">"
   ]
  },
  {
   "cell_type": "code",
   "execution_count": 36,
   "id": "c46af93d",
   "metadata": {},
   "outputs": [],
   "source": [
    "FORMAT = '%(asctime)s-%(name)s-%(levelname)s-%(message)s'\n",
    "import logging\n",
    "logging.basicConfig(filename=\"check_test.log\", level=logging.DEBUG, format=FORMAT ,force=True,filemode='w')\n",
    "logging.debug(\"A new bug is found at line 1\")\n",
    "logging.info(\"A new information is found at line 2\")\n",
    "logging.warning(\"A new warning occured at line 3\")\n",
    "logging.error(\"A new error occured at line 4\")\n",
    "logging.critical(\"A new critical at line 5\")"
   ]
  },
  {
   "cell_type": "markdown",
   "id": "1dfa46c0",
   "metadata": {},
   "source": [
    "##### The result in log file is as follows:\n",
    "    "
   ]
  },
  {
   "cell_type": "markdown",
   "id": "7c1adc35",
   "metadata": {},
   "source": [
    "2024-01-29 13:03:58,791-root-DEBUG-A new bug is found at line 1<br>\n",
    "2024-01-29 13:03:58,791-root-INFO-A new information is found at line 2<br>\n",
    "2024-01-29 13:03:58,792-root-WARNING-A new warning occured at line 3<br>\n",
    "2024-01-29 13:03:58,792-root-ERROR-A new error occured at line 4<br>\n",
    "2024-01-29 13:03:58,793-root-CRITICAL-A new critical at line 5"
   ]
  },
  {
   "cell_type": "markdown",
   "id": "2b1af854",
   "metadata": {},
   "source": [
    "## Chaging 'root' to a user-defined name"
   ]
  },
  {
   "cell_type": "code",
   "execution_count": 17,
   "id": "b1458b04",
   "metadata": {},
   "outputs": [],
   "source": [
    "import logging \n",
    "#Create logger \n",
    "logger=logging.getLogger('Sheetal')\n",
    "myformat='%(asctime)s-%(name)s-%(levelname)s-%(message)s'\n",
    "logging.basicConfig(filename=\"Well-formatted-log.txt\",level=logging.DEBUG,force=True,filemode='w',format=myformat)\n",
    "logger.debug(\"A new bug is found at line 6\")\n",
    "logger.info(\"A new information is found at line 7\")\n",
    "logger.warning(\"A new warning occured at line 8\")\n",
    "logger.error(\"A new error occured at line 9\")\n",
    "logger.critical(\"A new critical at line 10\")"
   ]
  },
  {
   "cell_type": "markdown",
   "id": "fe011c7d",
   "metadata": {},
   "source": [
    "#### The well-formatted-log.txt file contains:<br>\n",
    "2024-01-29 13:36:28,014-Sheetal-DEBUG-A new bug is found at line 6<br>\n",
    "2024-01-29 13:36:28,014-Sheetal-INFO-A new information is found at line 7<br>\n",
    "2024-01-29 13:36:28,015-Sheetal-WARNING-A new warning occured at line 8<br>\n",
    "2024-01-29 13:36:28,015-Sheetal-ERROR-A new error occured at line 9<br>\n",
    "2024-01-29 13:36:28,015-Sheetal-CRITICAL-A new critical at line 10<br>"
   ]
  },
  {
   "cell_type": "markdown",
   "id": "72ac9d1e",
   "metadata": {},
   "source": [
    "## A practical exmple:"
   ]
  },
  {
   "cell_type": "code",
   "execution_count": 24,
   "id": "980156aa",
   "metadata": {},
   "outputs": [
    {
     "name": "stdout",
     "output_type": "stream",
     "text": [
      "Enter a divisor: 75\n",
      "Enter a dividend: 0\n"
     ]
    }
   ],
   "source": [
    "import logging \n",
    "logger=logging.getLogger('Division Calculator')\n",
    "log_format='%(asctime)s-%(name)s-%(levelname)s-%(message)s'\n",
    "logging.basicConfig(filename=\"divison-calculator-log.txt\",level=logging.DEBUG,force=True,format=log_format)\n",
    "def division_Calculator():\n",
    "    logger.info(\"The function could be called\")\n",
    "    try:\n",
    "        div=int(input(\"Enter a divisor: \"))\n",
    "        den=int(input(\"Enter a dividend: \"))\n",
    "        quo=div/den\n",
    "        print(\"Result: \",quo)\n",
    "    except Exception as e:\n",
    "        logger.error(\"An Error Occured!!\")\n",
    "        logger.exception(\"Information of the Error:\\n\"+str(e))\n",
    "division_Calculator()"
   ]
  }
 ],
 "metadata": {
  "kernelspec": {
   "display_name": "Python 3 (ipykernel)",
   "language": "python",
   "name": "python3"
  },
  "language_info": {
   "codemirror_mode": {
    "name": "ipython",
    "version": 3
   },
   "file_extension": ".py",
   "mimetype": "text/x-python",
   "name": "python",
   "nbconvert_exporter": "python",
   "pygments_lexer": "ipython3",
   "version": "3.11.4"
  }
 },
 "nbformat": 4,
 "nbformat_minor": 5
}
