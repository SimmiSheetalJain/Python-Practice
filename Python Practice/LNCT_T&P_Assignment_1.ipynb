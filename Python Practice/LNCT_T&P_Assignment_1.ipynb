{
 "cells": [
  {
   "cell_type": "markdown",
   "id": "8d73bab9",
   "metadata": {},
   "source": [
    "# Placement Session Questions "
   ]
  },
  {
   "cell_type": "markdown",
   "id": "6aeb23a9",
   "metadata": {},
   "source": [
    "### Q1: write a Python program for convering a given integer(seconds) in Hour, Minutes, and Seoconds."
   ]
  },
  {
   "cell_type": "code",
   "execution_count": 1,
   "id": "63472180",
   "metadata": {},
   "outputs": [
    {
     "name": "stdout",
     "output_type": "stream",
     "text": [
      "Enter the integer : 25300\n",
      "Entered integer can be written in Hours, Minutes, and Seonds as follows:\n",
      " H:M:S = 7:1:40\n"
     ]
    }
   ],
   "source": [
    "n=int(input(\"Enter the integer : \"))\n",
    "H=n//3600\n",
    "M=(n%3600)//60\n",
    "S=(n%3600)%60\n",
    "print(f\"H:M:S = {H}:{M}:{S}\")"
   ]
  },
  {
   "cell_type": "markdown",
   "id": "d1a1a1ce",
   "metadata": {},
   "source": [
    "### Q2: Write a Ptyhon program to convert a given integer(days) in years, months, and days"
   ]
  },
  {
   "cell_type": "code",
   "execution_count": 3,
   "id": "b42afacb",
   "metadata": {},
   "outputs": [
    {
     "name": "stdout",
     "output_type": "stream",
     "text": [
      "Enter the integer : 2353\n",
      "Entered integer can be written in Year, Months, and Days as follows:\n",
      " Year(s):6\n",
      " Month(s):5\n",
      " Day(s):13\n"
     ]
    }
   ],
   "source": [
    "n=int(input(\"Enter the integer : \"))\n",
    "Y=n//365\n",
    "M=(n%365)//30\n",
    "D=(n%365)%30\n",
    "print(f\"Year(s):{Y}\\n Month(s):{M}\\n Day(s):{D}\")"
   ]
  },
  {
   "cell_type": "markdown",
   "id": "221ceec0",
   "metadata": {},
   "source": [
    "### Q3: Write a Python program that reads 5 numbers and print the sum of all odd number among them."
   ]
  },
  {
   "cell_type": "code",
   "execution_count": 5,
   "id": "a467369f",
   "metadata": {},
   "outputs": [
    {
     "name": "stdout",
     "output_type": "stream",
     "text": [
      "Enter number 1 : 25\n",
      "Enter number 2 : 68\n",
      "Enter number 3 : 45\n",
      "Enter number 4 : 12\n",
      "Enter number 5 : 14\n",
      "Sum of all odd numbers among the numbers you have entered is : 70\n"
     ]
    }
   ],
   "source": [
    "Sum=0\n",
    "for i in range(0,5):\n",
    "    num=int(input(f\"Enter number {i+1} : \"))\n",
    "    if num%2!=0:\n",
    "        Sum=Sum+num\n",
    "                  \n",
    "print(f\"Sum of all odd numbers among the numbers is : {Sum}\")"
   ]
  },
  {
   "cell_type": "markdown",
   "id": "009c579b",
   "metadata": {},
   "source": [
    "### Q4: Write a python program  that reads two integers and check whether they are multiplied or not."
   ]
  },
  {
   "cell_type": "code",
   "execution_count": 7,
   "id": "0a31f7c8",
   "metadata": {},
   "outputs": [
    {
     "name": "stdout",
     "output_type": "stream",
     "text": [
      "Enter first number : 25\n",
      "Enter second number : 5\n",
      "Multiplied\n"
     ]
    }
   ],
   "source": [
    "n1=int(input(\"Enter first number : \"))\n",
    "n2=int(input(\"Enter second number : \"))\n",
    "if n1>n2:\n",
    "    if n1%n2==0:\n",
    "        print(\"Multiplied\")\n",
    "    else:\n",
    "        print(\"Not Multiplied\")\n",
    "else:\n",
    "    if n2%n1==0:\n",
    "        print(\"Multiplied\") \n",
    "    else:\n",
    "        print(\"Not Multiplied\")"
   ]
  },
  {
   "cell_type": "markdown",
   "id": "767236f2",
   "metadata": {},
   "source": [
    "## Q5: Write a python program that reads an integer from 1 to 12 and print the month name in English for entered integer."
   ]
  },
  {
   "cell_type": "code",
   "execution_count": null,
   "id": "28831ca3",
   "metadata": {},
   "outputs": [],
   "source": [
    "n=int(input(\"Enter an integer : \"))\n",
    "if n<13 and n>0:\n",
    "    if n==1:\n",
    "        print(\"January\")\n",
    "    elif n==2:\n",
    "        print(\"February\")\n",
    "    elif n==3:\n",
    "        print(\"March\")\n",
    "    elif n==4:\n",
    "        print(\"April\")\n",
    "    elif n==5:\n",
    "        print(\"May\")\n",
    "    elif n==6:\n",
    "        print(\"June\")\n",
    "    elif n==7:\n",
    "        print(\"July\")\n",
    "    elif n==8:\n",
    "        print(\"August\")\n",
    "    elif n==9:\n",
    "        print(\"September\")\n",
    "    elif n==10:\n",
    "        print(\"October\")\n",
    "    elif n==11:\n",
    "        print(\"November\")\n",
    "    elif n==12:\n",
    "        print(\"December\")   \n",
    "else:\n",
    "    print(\"Wrong Input\")"
   ]
  },
  {
   "cell_type": "markdown",
   "id": "2752bf63",
   "metadata": {},
   "source": [
    "### Q6:Write a Python program that read 5 number and counts the number of positive number and negative numbers."
   ]
  },
  {
   "cell_type": "code",
   "execution_count": 3,
   "id": "388ec49a",
   "metadata": {},
   "outputs": [
    {
     "name": "stdout",
     "output_type": "stream",
     "text": [
      "Enter number 1 : -5\n",
      "Enter number 2 : 7\n",
      "Enter number 3 : 8\n",
      "Enter number 4 : -2\n",
      "Enter number 5 : 7\n",
      "Number of positive integers  :  3\n",
      "Number of negative integers  :  2\n"
     ]
    }
   ],
   "source": [
    "p=0\n",
    "n=0\n",
    "for i in range(0,5):\n",
    "    num=int(input(f\"Enter number {i+1} : \"))\n",
    "    if num>0:\n",
    "        p=p+1\n",
    "    elif num<0:\n",
    "        n=n+1\n",
    "    else:\n",
    "        pass\n",
    "print(\"Number of positive integers  : \",p)\n",
    "print(\"Number of negative integers  : \",n)"
   ]
  },
  {
   "cell_type": "markdown",
   "id": "b87ce0f3",
   "metadata": {},
   "source": [
    "<h1 style=\"color:red;\">Q7: Write a python program that reads 5 integers and count the number of positive integers and print the avg of positive integeres.</h1>"
   ]
  },
  {
   "cell_type": "code",
   "execution_count": 6,
   "id": "f8d1e7df",
   "metadata": {},
   "outputs": [
    {
     "name": "stdout",
     "output_type": "stream",
     "text": [
      "Enter number 1 : 25\n",
      "Enter number 2 : -85\n",
      "Enter number 3 : 125\n",
      "Enter number 4 : 26\n",
      "Enter number 5 : 45\n",
      "Number of positive integers entered by you are :  4\n",
      "The avg of these positive numbers is  :  55.25\n"
     ]
    }
   ],
   "source": [
    "Sum=0\n",
    "n=0\n",
    "for i in range(0,5):\n",
    "    num=int(input(f\"Enter number {i+1} : \"))\n",
    "    if num>0:\n",
    "        n=n+1\n",
    "        Sum=Sum+num\n",
    "print(\"Number of positive integers  : \",n)\n",
    "print(\"The avg of these positive numbers is  : \",format(Sum/n,\".2f\"))"
   ]
  },
  {
   "cell_type": "markdown",
   "id": "c9687254",
   "metadata": {},
   "source": [
    "### Q8: Write a program that reads 5 numbers and prints sum of odd among them."
   ]
  },
  {
   "cell_type": "code",
   "execution_count": null,
   "id": "43a32a95",
   "metadata": {},
   "outputs": [],
   "source": [
    "Sum=0\n",
    "for i in range(0,5):\n",
    "    num=int(input(f\"Enter number {i+1} : \"))\n",
    "    if num%2!=0:\n",
    "        Sum=Sum+num\n",
    "                  \n",
    "print(f\"Sum of all odd numbers among the numbers is : {Sum}\")"
   ]
  },
  {
   "cell_type": "markdown",
   "id": "95e67d8f",
   "metadata": {},
   "source": [
    "### Q9:Write a Python program that convert Centigrade to Fahrenheit."
   ]
  },
  {
   "cell_type": "code",
   "execution_count": 12,
   "id": "762bfa66",
   "metadata": {},
   "outputs": [
    {
     "name": "stdout",
     "output_type": "stream",
     "text": [
      "Enter a temparature in centigrade: 90\n",
      "The temparature entered in Fahrenheit is : 194° F\n"
     ]
    }
   ],
   "source": [
    "c=int(input(\"Enter a temparature in centigrade: \"))\n",
    "F=((9*c)/5)+32\n",
    "F=format(F,\"0.0f\")\n",
    "print(f\"The temparature entered in Fahrenheit is : {F}° F\")"
   ]
  },
  {
   "cell_type": "markdown",
   "id": "9a873f55",
   "metadata": {},
   "source": [
    "### Q10:Write a Python program that converts kilometer per hours to mile per hour"
   ]
  },
  {
   "cell_type": "code",
   "execution_count": 5,
   "id": "0c960ad5",
   "metadata": {},
   "outputs": [
    {
     "name": "stdout",
     "output_type": "stream",
     "text": [
      "Enter KM/H: 15\n",
      "The KM/H in M/H : 9.320568\n"
     ]
    }
   ],
   "source": [
    "K=int(input(\"Enter KM/H: \"))\n",
    "M=K*0.6213712\n",
    "print(f\"The KM/H in M/H : {M}\")"
   ]
  },
  {
   "cell_type": "markdown",
   "id": "57d4a517",
   "metadata": {},
   "source": [
    "### Q11: Write a Python Program that reads two integers.Print True if one of them is 30 or there sum is 30 else print False."
   ]
  },
  {
   "cell_type": "code",
   "execution_count": 8,
   "id": "d6de7347",
   "metadata": {},
   "outputs": [
    {
     "name": "stdout",
     "output_type": "stream",
     "text": [
      "Enter first number : 25\n",
      "Enter second number : 5\n",
      "True\n"
     ]
    }
   ],
   "source": [
    "n1=int(input(\"Enter first number : \"))\n",
    "n2=int(input(\"Enter second number : \"))\n",
    "if n1==30 or n2==30:\n",
    "    print(\"True\")\n",
    "elif (n1+n2)==30:\n",
    "    print(\"True\")\n",
    "else:\n",
    "    print(\"False\")"
   ]
  },
  {
   "cell_type": "markdown",
   "id": "7eca989d",
   "metadata": {},
   "source": [
    "### Q12:Write a Python program to print Quotient and Remainder of a Division."
   ]
  },
  {
   "cell_type": "code",
   "execution_count": 13,
   "id": "d03d9296",
   "metadata": {},
   "outputs": [
    {
     "name": "stdout",
     "output_type": "stream",
     "text": [
      "Input Numerator : 2500\n",
      "Input Denominator : 235\n",
      "Quotient is :  10\n",
      "Remainder is :  150\n"
     ]
    }
   ],
   "source": [
    "Dividend=int(input(\"Input Numerator : \"))\n",
    "Divisor=int(input(\"Input Denominator : \"))\n",
    "Q=(Dividend//Divisor)\n",
    "R=(Dividend%Divisor)\n",
    "print(\"Quotient is : \",Q)\n",
    "print(\"Remainder is : \",R )\n"
   ]
  },
  {
   "cell_type": "code",
   "execution_count": null,
   "id": "aaa22d4d",
   "metadata": {},
   "outputs": [],
   "source": []
  }
 ],
 "metadata": {
  "kernelspec": {
   "display_name": "Python 3 (ipykernel)",
   "language": "python",
   "name": "python3"
  },
  "language_info": {
   "codemirror_mode": {
    "name": "ipython",
    "version": 3
   },
   "file_extension": ".py",
   "mimetype": "text/x-python",
   "name": "python",
   "nbconvert_exporter": "python",
   "pygments_lexer": "ipython3",
   "version": "3.11.4"
  }
 },
 "nbformat": 4,
 "nbformat_minor": 5
}
