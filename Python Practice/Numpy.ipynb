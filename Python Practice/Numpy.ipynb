{
 "cells": [
  {
   "cell_type": "markdown",
   "id": "8325ffe8",
   "metadata": {},
   "source": [
    "# Numpy: Introduction"
   ]
  },
  {
   "cell_type": "markdown",
   "id": "bf52cb3a",
   "metadata": {},
   "source": [
    "• It is a python package and stands for Numerical Python. It is consist of multidimentional array obeject and routines for processing of array.\\\n",
    "•It provides ndarray, a homogeneous n-dimensional array object, with methods to efficiently operate on it.\\\n",
    "• It is a fundamental package for scintific computing in python, and provides following funtionalities\\\n",
    "    ► NumPy can be used to perform a wide variety of mathematical operations on arrays.\\\n",
    "    ► It adds powerful data structures to Python that guarantee efficient calculations with arrays and matrices\\\n",
    "    ► Have linear algebra, Fourier Tranform, and random number Capabilities\\\n",
    "    ► it supplies an enormous library of high-level mathematical functions that operate on these arrays and matrices.\\\n",
    "•The NumPy API is used extensively in Pandas, SciPy, Matplotlib, scikit-learn, scikit-image and most other data science and scientific Python packages.\n"
   ]
  },
  {
   "cell_type": "markdown",
   "id": "3f040be1",
   "metadata": {},
   "source": [
    "## &emsp;Why Numpy?"
   ]
  },
  {
   "cell_type": "markdown",
   "id": "5f7ad068",
   "metadata": {},
   "source": [
    "► To perform Mathematical and Logical operations on arrya\\\n",
    "► It provides efficient storage and manipulation of numerical arrays which is needed in Data Science\\\n",
    "► Numpy array form the core of nearly entire ecosystem of data science tools in python\n"
   ]
  },
  {
   "cell_type": "markdown",
   "id": "cce72ff2",
   "metadata": {},
   "source": [
    "## &emsp; Importing Numpy and Checking Version"
   ]
  },
  {
   "cell_type": "code",
   "execution_count": 1,
   "id": "e3673432",
   "metadata": {},
   "outputs": [
    {
     "data": {
      "text/plain": [
       "'1.24.3'"
      ]
     },
     "execution_count": 1,
     "metadata": {},
     "output_type": "execute_result"
    }
   ],
   "source": [
    "#Method 1\n",
    "import numpy \n",
    "numpy.__version__"
   ]
  },
  {
   "cell_type": "code",
   "execution_count": 2,
   "id": "80eda7f2",
   "metadata": {},
   "outputs": [
    {
     "name": "stdout",
     "output_type": "stream",
     "text": [
      "Name: numpy\n",
      "Version: 1.24.3\n",
      "Summary: Fundamental package for array computing in Python\n",
      "Home-page: https://www.numpy.org\n",
      "Author: Travis E. Oliphant et al.\n",
      "Author-email: \n",
      "License: BSD-3-Clause\n",
      "Location: C:\\Users\\user\\anaconda3\\Lib\\site-packages\n",
      "Requires: \n",
      "Required-by: astropy, bokeh, Bottleneck, contourpy, daal4py, datashader, datashape, gensim, h5py, holoviews, hvplot, imagecodecs, imageio, imbalanced-learn, matplotlib, mkl-fft, mkl-random, numba, numexpr, pandas, patsy, pyarrow, pyerfa, PyWavelets, scikit-image, scikit-learn, scipy, seaborn, statsmodels, tables, tifffile, transformers, xarray\n"
     ]
    }
   ],
   "source": [
    "#Method 2\n",
    "!pip show numpy "
   ]
  },
  {
   "cell_type": "markdown",
   "id": "b9753328",
   "metadata": {},
   "source": [
    "##### &nbsp;&nbsp;We can give an alias to numpy using operator \"as\""
   ]
  },
  {
   "cell_type": "code",
   "execution_count": 3,
   "id": "c807719e",
   "metadata": {},
   "outputs": [
    {
     "data": {
      "text/plain": [
       "'1.24.3'"
      ]
     },
     "execution_count": 3,
     "metadata": {},
     "output_type": "execute_result"
    }
   ],
   "source": [
    "import numpy as np\n",
    "np.__version__"
   ]
  },
  {
   "cell_type": "markdown",
   "id": "a18403c4",
   "metadata": {},
   "source": [
    "#### » If numpy is not intalled in your anaconda, simply Run Below Command"
   ]
  },
  {
   "cell_type": "code",
   "execution_count": 4,
   "id": "31de99fa",
   "metadata": {},
   "outputs": [
    {
     "name": "stdout",
     "output_type": "stream",
     "text": [
      "Requirement already satisfied: numpy in c:\\users\\user\\anaconda3\\lib\\site-packages (1.24.3)\n",
      "Note: you may need to restart the kernel to use updated packages.\n"
     ]
    }
   ],
   "source": [
    "pip install numpy"
   ]
  },
  {
   "cell_type": "markdown",
   "id": "20a803b3",
   "metadata": {},
   "source": [
    "If it is alreafdy installed above command will show following result"
   ]
  },
  {
   "cell_type": "code",
   "execution_count": 5,
   "id": "b9b34d05",
   "metadata": {},
   "outputs": [
    {
     "name": "stdout",
     "output_type": "stream",
     "text": [
      "Requirement already satisfied: numpy in c:\\users\\user\\anaconda3\\lib\\site-packages (1.24.3)\n",
      "Note: you may need to restart the kernel to use updated packages.\n"
     ]
    }
   ],
   "source": [
    "pip install numpy"
   ]
  },
  {
   "cell_type": "markdown",
   "id": "18c56294",
   "metadata": {},
   "source": [
    " <b>Note:</b> pip is the command used to install any library in python. pip stands for python index package"
   ]
  },
  {
   "cell_type": "markdown",
   "id": "309ac949",
   "metadata": {},
   "source": [
    "## What’s the difference between a Python list and a NumPy array?\n",
    "There are several important differences between NumPy arrays and the standard Python sequences:\n",
    "\n",
    "► NumPy arrays have a fixed size at creation, unlike Python lists (which can grow dynamically). Changing the size of an ndarray will create a new array and delete the original.<br>\n",
    "\n",
    "► The elements in a NumPy array are all required to be of the same data type, and thus will be the same size in memory. The exception: one can have arrays of (Python, including NumPy) objects, thereby allowing for arrays of different sized elements.<br>\n",
    "\n",
    "► NumPy arrays facilitate advanced mathematical and other types of operations on large numbers of data. Typically, such operations are executed more efficiently and with less code than is possible using Python’s built-in sequences.<br>\n",
    "\n",
    "► A growing plethora of scientific and mathematical Python-based packages are using NumPy arrays; though these typically support Python-sequence input, they convert such input to NumPy arrays prior to processing, and they often output NumPy arrays. In other words, in order to efficiently use much (perhaps even most) of today’s scientific/mathematical Python-based software, just knowing how to use Python’s built-in sequence types is insufficient - one also needs to know how to use NumPy arrays.<br>\n",
    "\n",
    "### Why use NumPy?\n",
    "\n",
    "NumPy arrays are faster and more compact than Python lists. An array consumes less memory and is convenient to use. NumPy uses much less memory to store data and it provides a mechanism of specifying the data types. This allows the code to be optimized even further."
   ]
  },
  {
   "cell_type": "markdown",
   "id": "444f12a2",
   "metadata": {},
   "source": [
    "## What is an array?"
   ]
  },
  {
   "cell_type": "markdown",
   "id": "342277fe",
   "metadata": {},
   "source": [
    "An array is usually a fixed-size container of items of the same type and size. The number of dimensions and items in an array is defined by its shape. The shape of an array is a tuple of non-negative integers that specify the sizes of each dimension.\n",
    "\n",
    "In NumPy, dimensions are called axes. This means that if you have a 2D array that looks like this:\n",
    "\n",
    "[[0., 0., 0.],<br>\n",
    " [1., 1., 1.]]<br><br>\n",
    "Your array has 2 axes. The first axis has a length of 2 and the second axis has a length of 3.\n",
    "\n"
   ]
  },
  {
   "cell_type": "markdown",
   "id": "9211e3dd",
   "metadata": {},
   "source": [
    "## Rank and Shape of an Array\n",
    "The rank of the array is the number of dimensions. The shape of the array is a tuple of integers giving the size of the array along each dimension."
   ]
  },
  {
   "cell_type": "markdown",
   "id": "ce815a96",
   "metadata": {},
   "source": [
    "## ndarray\n",
    "The NumPy ndarray class is used to represent both matrices and vectors. A vector is an array with a single dimension (there’s no difference between row and column vectors), while a matrix refers to an array with two dimensions. For 3-D or higher dimensional arrays, the term tensor is also commonly used."
   ]
  },
  {
   "cell_type": "markdown",
   "id": "61fea56d",
   "metadata": {},
   "source": [
    "## &emsp; Bounding Numpy Package local Variable"
   ]
  },
  {
   "cell_type": "markdown",
   "id": "130c1ca7",
   "metadata": {},
   "source": [
    "The numpy package is bound to the local numpy variable. The Syntax <b>import _____ as ____ </b> allows us to bind the import to the local variable. This local varible can have name of your choice. We do so usually to avoid name collision."
   ]
  },
  {
   "cell_type": "markdown",
   "id": "9cc9963e",
   "metadata": {},
   "source": [
    "## How to create a basic array"
   ]
  },
  {
   "cell_type": "code",
   "execution_count": 10,
   "id": "97d7b67c",
   "metadata": {},
   "outputs": [
    {
     "name": "stdout",
     "output_type": "stream",
     "text": [
      "[1 2 3 4 5]\n"
     ]
    }
   ],
   "source": [
    "#Example \n",
    "import numpy as np\n",
    "a=(1,2,3,4,5)\n",
    "b=np.array(a)\n",
    "print(b)"
   ]
  },
  {
   "cell_type": "markdown",
   "id": "918b199d",
   "metadata": {},
   "source": [
    "The above code converts the tuple 'a' in an array 'b'."
   ]
  },
  {
   "cell_type": "code",
   "execution_count": 11,
   "id": "d4945f42",
   "metadata": {},
   "outputs": [],
   "source": [
    "#More Example \n",
    "import numpy as np\n",
    "a=np.array((1,2,3))"
   ]
  },
  {
   "cell_type": "markdown",
   "id": "70bf4a24",
   "metadata": {},
   "source": [
    "<img src=\"https://github.com/SimmiSheetalJain/Medias_for_notes_and_blogs/blob/main/array_visualization.png?raw=true\">"
   ]
  },
  {
   "cell_type": "code",
   "execution_count": 12,
   "id": "dfae7775",
   "metadata": {},
   "outputs": [
    {
     "data": {
      "text/plain": [
       "numpy.ndarray"
      ]
     },
     "execution_count": 12,
     "metadata": {},
     "output_type": "execute_result"
    }
   ],
   "source": [
    "#Let's see type of a\n",
    "type(a)"
   ]
  },
  {
   "cell_type": "markdown",
   "id": "92feb541",
   "metadata": {},
   "source": [
    "#### Besides creating an array from a sequence of elements, you can easily create an array filled with 0’s or 1's. Or even an empty array! The function empty creates an array whose initial content is random and depends on the state of the memory. The reason to use empty over zeros (or something similar) is speed "
   ]
  },
  {
   "cell_type": "code",
   "execution_count": 13,
   "id": "d8cbbce6",
   "metadata": {},
   "outputs": [
    {
     "data": {
      "text/plain": [
       "array([0., 0., 0., 0., 0.])"
      ]
     },
     "execution_count": 13,
     "metadata": {},
     "output_type": "execute_result"
    }
   ],
   "source": [
    "#Example\n",
    "import numpy as np\n",
    "np.zeros(5)"
   ]
  },
  {
   "cell_type": "code",
   "execution_count": 14,
   "id": "dc3a8804",
   "metadata": {},
   "outputs": [
    {
     "data": {
      "text/plain": [
       "array([1., 1., 1., 1., 1.])"
      ]
     },
     "execution_count": 14,
     "metadata": {},
     "output_type": "execute_result"
    }
   ],
   "source": [
    "#Example\n",
    "import numpy as np\n",
    "np.ones(5)"
   ]
  },
  {
   "cell_type": "code",
   "execution_count": 15,
   "id": "ba2594ad",
   "metadata": {},
   "outputs": [
    {
     "data": {
      "text/plain": [
       "array([1., 1., 1., 1., 1.])"
      ]
     },
     "execution_count": 15,
     "metadata": {},
     "output_type": "execute_result"
    }
   ],
   "source": [
    "#Example\n",
    "import numpy as np\n",
    "np.empty(5)"
   ]
  },
  {
   "cell_type": "code",
   "execution_count": 217,
   "id": "ef93f176",
   "metadata": {},
   "outputs": [
    {
     "data": {
      "text/plain": [
       "array([[42, 42, 42],\n",
       "       [42, 42, 42]])"
      ]
     },
     "execution_count": 217,
     "metadata": {},
     "output_type": "execute_result"
    }
   ],
   "source": [
    "#example\n",
    "np.full([2,3],42)"
   ]
  },
  {
   "cell_type": "markdown",
   "id": "e3c9eaf5",
   "metadata": {},
   "source": [
    "#### You can create an array with a range of elements:"
   ]
  },
  {
   "cell_type": "code",
   "execution_count": 16,
   "id": "6cf98b38",
   "metadata": {},
   "outputs": [
    {
     "data": {
      "text/plain": [
       "array([0, 1, 2, 3, 4])"
      ]
     },
     "execution_count": 16,
     "metadata": {},
     "output_type": "execute_result"
    }
   ],
   "source": [
    "#Example\n",
    "import numpy as np\n",
    "np.arange(5)"
   ]
  },
  {
   "cell_type": "markdown",
   "id": "f953efac",
   "metadata": {},
   "source": [
    "#### An array that contains a range of evenly spaced intervals is crated by specifying the first number, last number, and the step size."
   ]
  },
  {
   "cell_type": "code",
   "execution_count": 17,
   "id": "9e92b7b5",
   "metadata": {},
   "outputs": [
    {
     "data": {
      "text/plain": [
       "array([ 2,  4,  6,  8, 10, 12])"
      ]
     },
     "execution_count": 17,
     "metadata": {},
     "output_type": "execute_result"
    }
   ],
   "source": [
    "#Example\n",
    "import numpy as np\n",
    "np.arange(2,13,2)"
   ]
  },
  {
   "cell_type": "markdown",
   "id": "cb1ddd6f",
   "metadata": {},
   "source": [
    "### You can also use np.linspace() to create an array with values that are spaced linearly in a specified interval:"
   ]
  },
  {
   "cell_type": "code",
   "execution_count": 18,
   "id": "3b488bde",
   "metadata": {},
   "outputs": [
    {
     "data": {
      "text/plain": [
       "array([10.  , 12.75, 15.5 , 18.25, 21.  ])"
      ]
     },
     "execution_count": 18,
     "metadata": {},
     "output_type": "execute_result"
    }
   ],
   "source": [
    "np.linspace(10,21,num=5)"
   ]
  },
  {
   "cell_type": "markdown",
   "id": "d7b7e033",
   "metadata": {},
   "source": [
    "#### Creating array with diagonal element as 1"
   ]
  },
  {
   "cell_type": "code",
   "execution_count": 19,
   "id": "fb56bdbe",
   "metadata": {},
   "outputs": [
    {
     "name": "stdout",
     "output_type": "stream",
     "text": [
      "[[1. 0. 0.]\n",
      " [0. 1. 0.]\n",
      " [0. 0. 1.]]\n"
     ]
    }
   ],
   "source": [
    "#Example 1\n",
    "arr=np.eye((3))\n",
    "print(arr)"
   ]
  },
  {
   "cell_type": "code",
   "execution_count": 20,
   "id": "2391c05f",
   "metadata": {},
   "outputs": [
    {
     "name": "stdout",
     "output_type": "stream",
     "text": [
      "[[1. 0. 0. 0. 0.]\n",
      " [0. 1. 0. 0. 0.]\n",
      " [0. 0. 1. 0. 0.]]\n"
     ]
    }
   ],
   "source": [
    "#example 2\n",
    "arr=np.eye(3,5)\n",
    "print(arr)"
   ]
  },
  {
   "cell_type": "markdown",
   "id": "3500b25c",
   "metadata": {},
   "source": [
    "### Making an array storing user's entered value"
   ]
  },
  {
   "cell_type": "code",
   "execution_count": 22,
   "id": "feed44da",
   "metadata": {
    "scrolled": true
   },
   "outputs": [
    {
     "name": "stdout",
     "output_type": "stream",
     "text": [
      "Enter value 1: 5\n",
      "Enter value 2: 4\n",
      "Enter value 3: 2\n",
      "Enter value 4: 2\n",
      "[5 4 2 2]\n"
     ]
    }
   ],
   "source": [
    "l=[]\n",
    "for i in range(1,5):\n",
    "    ele=int(input(f\"Enter value {i}: \"))\n",
    "    l.append(ele)\n",
    "print(np.array(l))"
   ]
  },
  {
   "cell_type": "markdown",
   "id": "87a9e52d",
   "metadata": {},
   "source": [
    "###### &emsp; &emsp;⦿ Important Points :"
   ]
  },
  {
   "cell_type": "markdown",
   "id": "8931a3b9",
   "metadata": {},
   "source": [
    "###### ♦ We have list in python to serve the purpose of array but list takes much more processing time as compare to array. NumPy intends to provide an array object which is 50x faster than python list. And arrays are faster than list because arrays densely packed in memory due to its homogeneous type and it also frees memory space faster."
   ]
  },
  {
   "cell_type": "markdown",
   "id": "f6157167",
   "metadata": {},
   "source": [
    "###### ♦ Arrays are used in data science whenever speed and resources are essential to be optimized."
   ]
  },
  {
   "cell_type": "markdown",
   "id": "4691eef1",
   "metadata": {},
   "source": [
    "###### ♦ NumPy has been written in C++"
   ]
  },
  {
   "cell_type": "markdown",
   "id": "4be07123",
   "metadata": {},
   "source": [
    "###### ♦ Dimensions are named as axes in NumPy. Number of Axes are called Rank."
   ]
  },
  {
   "cell_type": "markdown",
   "id": "27110ecc",
   "metadata": {},
   "source": [
    "###### ♦The array class of NumPy is known as ndarray. It's oftenly used as alias 'array'"
   ]
  },
  {
   "cell_type": "markdown",
   "id": "623e0cdc",
   "metadata": {},
   "source": [
    "### ■ Few Important Commands on Array"
   ]
  },
  {
   "cell_type": "code",
   "execution_count": 23,
   "id": "3a5924bf",
   "metadata": {},
   "outputs": [
    {
     "name": "stdout",
     "output_type": "stream",
     "text": [
      "[1 2 3 4 5]\n",
      "1\n",
      "(5,)\n",
      "5\n",
      "int32\n"
     ]
    }
   ],
   "source": [
    "import numpy as np\n",
    "a=(1,2,3,4,5)\n",
    "b=np.array(a)\n",
    "print(b)\n",
    "#ndim: to produce dimention of an array\n",
    "print(b.ndim)\n",
    "#shape:To find shape of array in form of rows and column\n",
    "print(b.shape)\n",
    "#size :To print the size of an array\n",
    "print(b.size)\n",
    "#dtype : To know the data type of an array\n",
    "print(b.dtype)"
   ]
  },
  {
   "cell_type": "code",
   "execution_count": 24,
   "id": "6fe01dbf",
   "metadata": {},
   "outputs": [
    {
     "name": "stdout",
     "output_type": "stream",
     "text": [
      "Array elements : \n",
      " [[2 3 4]\n",
      " [5 6 7]]\n",
      "Array Shape is :  (2, 3)\n",
      "Array size is :  6\n",
      "Array data type is :  int32\n",
      "Array dimension is :  2\n",
      "Array is a type of :  <class 'numpy.ndarray'>\n"
     ]
    }
   ],
   "source": [
    "#Another Example:\n",
    "import numpy as np\n",
    "arr = np.array([[2,3,4,],[5,6,7]])\n",
    "print(\"Array elements : \\n\",arr)\n",
    "print(\"Array Shape is : \",arr.shape)\n",
    "print(\"Array size is : \",arr.size)\n",
    "print(\"Array data type is : \",arr.dtype)\n",
    "print(\"Array dimension is : \",arr.ndim)\n",
    "print(\"Array is a type of : \",type(arr))\n"
   ]
  },
  {
   "cell_type": "markdown",
   "id": "1564185b",
   "metadata": {},
   "source": [
    "### &emsp; &emsp;⦿ Speed Comparision of numpy and core python⦿"
   ]
  },
  {
   "cell_type": "code",
   "execution_count": 25,
   "id": "929b9bb4",
   "metadata": {},
   "outputs": [
    {
     "name": "stdout",
     "output_type": "stream",
     "text": [
      "Time taken by core python  :  0.05597066879272461\n",
      "Time taken by numpy  :  0.07495379447937012\n"
     ]
    }
   ],
   "source": [
    "import time as t\n",
    "import numpy as n\n",
    "size=100000\n",
    "def pure_python_time():\n",
    "    initiation = t.time() ##time at which code execution started\n",
    "    list1=range(size)\n",
    "    list2=range(size)\n",
    "    sumlist=[list1[i]+list2[i] for i in range(size)]\n",
    "    return t.time()-initiation #differecnt of initial and ending time of execution\n",
    "\n",
    "def numpy_time():\n",
    "    initiation =t.time() ##time at which code execution started\n",
    "    array1=n.arange(size)\n",
    "    array2=n.arange(size)\n",
    "    array_sum =[array1[i]+array2[i] for i in range(size)]\n",
    "    return t.time()-initiation\n",
    "\n",
    "print(\"Time taken by core python  : \", pure_python_time())\n",
    "print(\"Time taken by numpy  : \", numpy_time())"
   ]
  },
  {
   "cell_type": "code",
   "execution_count": 26,
   "id": "3b9f477f",
   "metadata": {},
   "outputs": [
    {
     "name": "stdout",
     "output_type": "stream",
     "text": [
      "List result:\n",
      " Sum:112499992500000, time:2.1108126640319824\n",
      "Numpy result:\n",
      " Sum:11362576, time:0.006340503692626953\n"
     ]
    }
   ],
   "source": [
    "#Example\n",
    "import time as t\n",
    "import numpy as n\n",
    "def list_t():\n",
    "    ini=t.time()\n",
    "    sum=0\n",
    "    for i in range(1,15000000):\n",
    "        sum+=i\n",
    "    return sum,(t.time()-ini)\n",
    "def numpy_t():\n",
    "    ini1=t.time()\n",
    "    arr=n.random.randint(1,1500000,14)\n",
    "    sum=0\n",
    "    for i in arr:\n",
    "        sum+=i\n",
    "    return sum,(t.time()-ini1)\n",
    "a,b=list_t()\n",
    "x,y=numpy_t()\n",
    "print(f\"List result:\\n Sum:{a}, time:{b}\")\n",
    "print(f\"Numpy result:\\n Sum:{x}, time:{y}\")"
   ]
  },
  {
   "cell_type": "markdown",
   "id": "0f70e40c",
   "metadata": {},
   "source": [
    "### Difference between Numpy array and list in python"
   ]
  },
  {
   "cell_type": "markdown",
   "id": "b7f7e4c4",
   "metadata": {},
   "source": [
    "1. Data types storage: <br>\n",
    "    ✦ In list, we can store different data types.<br>\n",
    "    ✦ In numpy, we have to choose a particular data type to work with array. Though, we can combine string and number but when go higher we have to deal with one data type <br>\n",
    "2. Import module <br>\n",
    "    ✦ For using list data type, we don't have to import any module<br>\n",
    "    ✦ For numpy array, we need to import numpy  module<br>\n",
    "3. Numerical Operation<br>\n",
    "    ✦List is Capable to perform operation but slower that numpy array. <br>\n",
    "    ✦numpy array works as matrices\n",
    "4. Modification Capabilities <br>\n",
    "    ✦List had more modification flexiblities than that of numpy array<br>\n",
    "5. Memory<br>\n",
    "    ✦List uses more memory than numpy array<br>\n",
    "6. speed: list < numpy array"
   ]
  },
  {
   "cell_type": "markdown",
   "id": "1b966059",
   "metadata": {},
   "source": [
    "➊ We have already seen how we can create a basic array in \"How to create a basic array\" section"
   ]
  },
  {
   "cell_type": "markdown",
   "id": "b4b51fd7",
   "metadata": {},
   "source": [
    "➋ We can pass value of dimention to 'ndmin'. For example:"
   ]
  },
  {
   "cell_type": "code",
   "execution_count": 27,
   "id": "82558ece",
   "metadata": {},
   "outputs": [],
   "source": [
    "arr1=np.array([1,2,3,4],ndmin=2)"
   ]
  },
  {
   "cell_type": "code",
   "execution_count": 28,
   "id": "b29d2a2e",
   "metadata": {},
   "outputs": [
    {
     "data": {
      "text/plain": [
       "2"
      ]
     },
     "execution_count": 28,
     "metadata": {},
     "output_type": "execute_result"
    }
   ],
   "source": [
    "#Checking the dimention of the array object 'arr2'\n",
    "arr1.ndim"
   ]
  },
  {
   "cell_type": "markdown",
   "id": "5791013c",
   "metadata": {},
   "source": [
    "➌ We can also pass data type specifically while creating an array object. For Example:"
   ]
  },
  {
   "cell_type": "code",
   "execution_count": 29,
   "id": "9c9a541a",
   "metadata": {},
   "outputs": [
    {
     "name": "stdout",
     "output_type": "stream",
     "text": [
      "complex128\n",
      "[[1.+0.j 3.+0.j 4.+0.j]\n",
      " [7.+0.j 8.+0.j 9.+0.j]]\n"
     ]
    }
   ],
   "source": [
    "arr3=np.array([[1,3,4,],[7,8,9]],dtype=complex)\n",
    "print(arr3.dtype)\n",
    "print(arr3)"
   ]
  },
  {
   "cell_type": "markdown",
   "id": "5a3722c1",
   "metadata": {},
   "source": [
    "<b>Note:</b> Complex number in python are represented as a+bj, where a, b are real numbers and j is an imaginary number."
   ]
  },
  {
   "cell_type": "markdown",
   "id": "541ef1fb",
   "metadata": {},
   "source": [
    "➍ len() when applied on an array object, returns the number of rows while size() returns total number of elements."
   ]
  },
  {
   "cell_type": "code",
   "execution_count": 30,
   "id": "8716558f",
   "metadata": {},
   "outputs": [
    {
     "name": "stdout",
     "output_type": "stream",
     "text": [
      "2\n",
      "6\n"
     ]
    }
   ],
   "source": [
    "#Example\n",
    "arr3=np.array([[1,3,4,],[7,8,9]],dtype=complex)\n",
    "print(len(arr3))\n",
    "print(arr3.size)"
   ]
  },
  {
   "cell_type": "markdown",
   "id": "b5169757",
   "metadata": {},
   "source": [
    "### Question: WAP to count the frequency of unique values in NumPy array?"
   ]
  },
  {
   "cell_type": "code",
   "execution_count": 32,
   "id": "6f7bf954",
   "metadata": {},
   "outputs": [
    {
     "name": "stdout",
     "output_type": "stream",
     "text": [
      "How many elements do you have in your array? : 5\n",
      "Enter element number 1 : 45\n",
      "Enter element number 2 : 24\n",
      "Enter element number 3 : 15\n",
      "Enter element number 4 : 85\n",
      "Enter element number 5 : 45\n",
      "{15: 1, 24: 1, 45: 2, 85: 1}\n"
     ]
    }
   ],
   "source": [
    "import numpy as np\n",
    "\n",
    "def count_frequency(arr):\n",
    "    number, occurrence=np.unique(arr, return_counts=True)\n",
    "    answer = dict(zip(number, occurrence))\n",
    "    return answer\n",
    "\n",
    "n=int(input(\"How many elements do you have in your array? : \"))\n",
    "arr=[0]*n\n",
    "for i in range(n):\n",
    "    element=int(input(f\"Enter element number {i+1} : \"))\n",
    "    arr[i]=element\n",
    "occurrence_Dict=count_frequency(arr)\n",
    "print(occurrence_Dict)"
   ]
  },
  {
   "cell_type": "markdown",
   "id": "b4d51195",
   "metadata": {},
   "source": [
    "<b>Note:</b> unique() function is used to find the unique elements of an array.\n",
    "### Syntax: \n",
    "numpy.unique(ar, return_index=False, return_inverse=False, return_counts=False, axis=None)\\\n",
    "\n",
    "》_return_index_ (optional, default is False): If True, also return the indices of the unique elements.\\\n",
    "》_return_counts_ (optional, default is False): If True, return the count of each unique element.\\\n",
    "》_return_inverse_: If True, also return an array of indices such that if the result is called unique_elements, then ar = unique_elements[unique_inverse]. Or we can also say it returns an array that can be used to reconstruct the original input array.\n"
   ]
  },
  {
   "cell_type": "code",
   "execution_count": 33,
   "id": "b9ed4868",
   "metadata": {},
   "outputs": [
    {
     "name": "stdout",
     "output_type": "stream",
     "text": [
      "Unique Elements: [1 2 3 4 5]\n",
      "Original Array: [1 2 2 3 4 4 5]\n"
     ]
    }
   ],
   "source": [
    "#Example\n",
    "import numpy as np\n",
    "\n",
    "arr = np.array([1, 2, 2, 3, 4, 4, 5])\n",
    "\n",
    "unique_elements, unique_inverse = np.unique(arr, return_inverse=True)\n",
    "\n",
    "print(\"Unique Elements:\", unique_elements)\n",
    "print(\"Original Array:\", unique_elements[unique_inverse])\n"
   ]
  },
  {
   "cell_type": "markdown",
   "id": "58345d6d",
   "metadata": {},
   "source": [
    "》_axis_ (optional, default is None): The axis or axes along which to perform the unique operation. By default, it operates on the flattened input array."
   ]
  },
  {
   "cell_type": "markdown",
   "id": "4d92b693",
   "metadata": {},
   "source": [
    "## Create numpy array with random values. \n",
    "We use module \"random\" of numpy array to generate random value array"
   ]
  },
  {
   "cell_type": "markdown",
   "id": "169a16c7",
   "metadata": {},
   "source": [
    "### ✦ rand(): \n",
    "the function is used to generate numbers between 0 and 1"
   ]
  },
  {
   "cell_type": "code",
   "execution_count": 34,
   "id": "04f5f707",
   "metadata": {},
   "outputs": [
    {
     "name": "stdout",
     "output_type": "stream",
     "text": [
      "[0.98300486 0.47335932 0.56072315 0.78267522 0.3296    ]\n"
     ]
    }
   ],
   "source": [
    "#Example \n",
    "var=np.random.rand(5)\n",
    "print(var)"
   ]
  },
  {
   "cell_type": "code",
   "execution_count": 35,
   "id": "49ad2142",
   "metadata": {},
   "outputs": [
    {
     "name": "stdout",
     "output_type": "stream",
     "text": [
      "[[0.35380488 0.00577875]\n",
      " [0.90689963 0.7491667 ]\n",
      " [0.59775551 0.46564368]]\n"
     ]
    }
   ],
   "source": [
    "#Example \n",
    "var=np.random.rand(3,2)\n",
    "print(var)"
   ]
  },
  {
   "cell_type": "markdown",
   "id": "43c4d95a",
   "metadata": {},
   "source": [
    "### ✦ randn():\n",
    "the function is used to generate a random value close to zero. This may return a positive or negative numbers as well"
   ]
  },
  {
   "cell_type": "code",
   "execution_count": 36,
   "id": "17c3f00b",
   "metadata": {},
   "outputs": [
    {
     "name": "stdout",
     "output_type": "stream",
     "text": [
      "[[-1.17055973  1.45919558]\n",
      " [-0.72777304 -1.39424215]\n",
      " [-0.68252691 -0.81290818]]\n"
     ]
    }
   ],
   "source": [
    "#Example \n",
    "var=np.random.randn(3,2)\n",
    "print(var)"
   ]
  },
  {
   "cell_type": "markdown",
   "id": "273b2ff7",
   "metadata": {},
   "source": [
    "### ✦ randf():\n",
    "the funnction for doing random sampling in numpy. It returns an array of specified shape and fills it with random floats in the half-open interval[0.0,1.0)"
   ]
  },
  {
   "cell_type": "code",
   "execution_count": 37,
   "id": "414ca56c",
   "metadata": {},
   "outputs": [
    {
     "name": "stdout",
     "output_type": "stream",
     "text": [
      "[[0.04779336 0.25630227]\n",
      " [0.32748573 0.93193255]]\n"
     ]
    }
   ],
   "source": [
    "#Example \n",
    "var=np.random.ranf((2,2))\n",
    "print(var)"
   ]
  },
  {
   "cell_type": "code",
   "execution_count": 38,
   "id": "c4ddb89e",
   "metadata": {},
   "outputs": [
    {
     "name": "stdout",
     "output_type": "stream",
     "text": [
      "[0.53305333 0.1386453  0.4999417 ]\n"
     ]
    }
   ],
   "source": [
    "#Example \n",
    "var=np.random.ranf((3))\n",
    "print(var)"
   ]
  },
  {
   "cell_type": "markdown",
   "id": "7aa7007f",
   "metadata": {},
   "source": [
    "## randint()\n",
    "the function is used to generate a random number between a given range:\\\n",
    "&emsp;&emsp;Prototype randint(min, max, total_values)"
   ]
  },
  {
   "cell_type": "code",
   "execution_count": 39,
   "id": "df6df51a",
   "metadata": {},
   "outputs": [
    {
     "name": "stdout",
     "output_type": "stream",
     "text": [
      "[ 6 17 18 11 18 17]\n"
     ]
    }
   ],
   "source": [
    "var=np.random.randint(4,20,6)\n",
    "print(var)"
   ]
  },
  {
   "cell_type": "markdown",
   "id": "136395b9",
   "metadata": {},
   "source": [
    "## Data Types in NumPy Arrays"
   ]
  },
  {
   "cell_type": "markdown",
   "id": "0fc1d7ec",
   "metadata": {},
   "source": [
    "1. int8, int16, int32, int64: Signed integer types with different bit depths.\n",
    "2. uint8, uint16, uint32, uint64: Unsigned integer types with different bit depths.\n",
    "3. float16, float32, float64: Floating-point types with different precision.\n",
    "4. complex64, complex128: Complex number types with different precision.\n",
    "5. bool: Boolean type for storing True or False values."
   ]
  },
  {
   "cell_type": "code",
   "execution_count": 40,
   "id": "ef8669bb",
   "metadata": {},
   "outputs": [
    {
     "name": "stdout",
     "output_type": "stream",
     "text": [
      "[1 2 4 4 5 6]\n",
      "int32\n"
     ]
    }
   ],
   "source": [
    "#Example\n",
    "arr_int32=np.array([1,2,4,4,5,6],dtype=np.int32)\n",
    "print(arr_int32)\n",
    "print(arr_int32.dtype)"
   ]
  },
  {
   "cell_type": "markdown",
   "id": "3efdc41e",
   "metadata": {},
   "source": [
    "## Shape & Reshaping in Numpy Array"
   ]
  },
  {
   "cell_type": "markdown",
   "id": "5a5a9531",
   "metadata": {},
   "source": [
    "#### shape attribute of an array"
   ]
  },
  {
   "cell_type": "code",
   "execution_count": 41,
   "id": "68b187af",
   "metadata": {},
   "outputs": [
    {
     "name": "stdout",
     "output_type": "stream",
     "text": [
      "(1, 1, 1, 1, 2, 4)\n"
     ]
    }
   ],
   "source": [
    "#Example: creating a multi dimentional array to reshape\n",
    "arr=np.array([[[[[[2,2,3,4],[3,4,5,6]]]]]])\n",
    "print(arr.shape)"
   ]
  },
  {
   "cell_type": "markdown",
   "id": "95caa6f3",
   "metadata": {},
   "source": [
    "### Reshape "
   ]
  },
  {
   "cell_type": "markdown",
   "id": "381c9c62",
   "metadata": {},
   "source": [
    "#### Syntax of reshape():\n",
    "&emsp;&emsp; numpy.reshape(a, newshape, order='C')"
   ]
  },
  {
   "cell_type": "markdown",
   "id": "f7aa903b",
   "metadata": {},
   "source": [
    "⇨ _a_ is the array to be sorted\\\n",
    "⇨ _newshape_ specifies the new shape of the array. It should be compatible with the original shape.\\\n",
    "⇨ _order_ (optional, default is 'C'): The order in which the elements should be read. It can be 'C' for row-major (default) or 'F' for column-major."
   ]
  },
  {
   "cell_type": "code",
   "execution_count": 42,
   "id": "d28f5946",
   "metadata": {},
   "outputs": [
    {
     "name": "stdout",
     "output_type": "stream",
     "text": [
      "[ 3.  10.4 17.8 25.2 32.6 40. ] \n",
      "\n",
      "Reshaped Array\n",
      ":  [[ 3.  10.4 17.8]\n",
      " [25.2 32.6 40. ]]\n"
     ]
    }
   ],
   "source": [
    "#Example, reshaping above array\n",
    "arr=np.linspace(3,40,6)\n",
    "print(arr,\"\\n\")\n",
    "reshaped_arr=np.reshape(arr,(2,3))\n",
    "print(\"Reshaped Array\\n: \",reshaped_arr)"
   ]
  },
  {
   "cell_type": "markdown",
   "id": "d68db8ba",
   "metadata": {},
   "source": [
    "⇨ You can also use the -1 in the newshape argument, and NumPy will automatically calculate the size for that dimension based on the size of the original array. "
   ]
  },
  {
   "cell_type": "code",
   "execution_count": 43,
   "id": "27ab6f93",
   "metadata": {},
   "outputs": [
    {
     "name": "stdout",
     "output_type": "stream",
     "text": [
      "Original Array\n",
      " [1 2 3 4 5 6]\n",
      "Reshaped Array\n",
      " [[1 2 3]\n",
      " [4 5 6]]\n"
     ]
    }
   ],
   "source": [
    "#example\n",
    "import numpy as np\n",
    "arr=np.array((1,2,3,4,5,6))\n",
    "re_arr=np.reshape(arr,(2,-1))\n",
    "print(\"Original Array\\n\", arr)\n",
    "print(\"Reshaped Array\\n\", re_arr)"
   ]
  },
  {
   "cell_type": "code",
   "execution_count": 44,
   "id": "01f800cf",
   "metadata": {},
   "outputs": [
    {
     "name": "stdout",
     "output_type": "stream",
     "text": [
      "[[ 2  4  5]\n",
      " [ 5  2 10]\n",
      " [ 4 10  6]]\n"
     ]
    }
   ],
   "source": [
    "#Example\n",
    "import numpy as np\n",
    "arr=np.random.randint(2,11,9)\n",
    "arr=arr.reshape(3,3)\n",
    "print(arr)"
   ]
  },
  {
   "cell_type": "markdown",
   "id": "a7140c6f",
   "metadata": {},
   "source": [
    "## Adding and removing element from an array "
   ]
  },
  {
   "cell_type": "markdown",
   "id": "79e2b433",
   "metadata": {},
   "source": [
    "### Adding Elements:"
   ]
  },
  {
   "cell_type": "markdown",
   "id": "3a09defa",
   "metadata": {},
   "source": [
    "1. Append Elements:\n",
    "Use numpy.append() to add elements at the end of an array."
   ]
  },
  {
   "cell_type": "code",
   "execution_count": 45,
   "id": "4557fa08",
   "metadata": {},
   "outputs": [
    {
     "name": "stdout",
     "output_type": "stream",
     "text": [
      "[1 2 3 4 5]\n",
      "[1 2 3 4 5 6]\n"
     ]
    }
   ],
   "source": [
    "#example \n",
    "import numpy as np\n",
    "arr=np.array((1,2,3,4,5))\n",
    "print(arr)\n",
    "new_element = 6\n",
    "arr=np.append(arr,new_element)\n",
    "print(arr)"
   ]
  },
  {
   "cell_type": "markdown",
   "id": "b4f79598",
   "metadata": {},
   "source": [
    "2. Insert Elements:Use numpy.insert() to insert emlements at a specific index in an array.<br>\n",
    "#### Syntax:  \n",
    "numpy.insert(arr, obj, values, axis=None)"
   ]
  },
  {
   "cell_type": "code",
   "execution_count": 46,
   "id": "186da888",
   "metadata": {
    "scrolled": true
   },
   "outputs": [
    {
     "name": "stdout",
     "output_type": "stream",
     "text": [
      "[1 2 3 4 5 6]\n",
      "[1 2 3 7 4 5 6]\n"
     ]
    }
   ],
   "source": [
    "# Example\n",
    "print(arr)\n",
    "arr = np.insert(arr,3,7)\n",
    "print(arr)"
   ]
  },
  {
   "cell_type": "code",
   "execution_count": 47,
   "id": "e94ea7ae",
   "metadata": {},
   "outputs": [
    {
     "name": "stdout",
     "output_type": "stream",
     "text": [
      "[1 2 3 4 5]\n",
      "[ 1 40  2 50  3 60  4  5]\n"
     ]
    }
   ],
   "source": [
    "#example \n",
    "import numpy as np\n",
    "arr=np.array((1,2,3,4,5))\n",
    "print(arr)\n",
    "arr=np.insert(arr,[1,2,3],[40,50,60])\n",
    "print(arr)"
   ]
  },
  {
   "cell_type": "markdown",
   "id": "42ff89e5",
   "metadata": {},
   "source": [
    "### Removing Elements:"
   ]
  },
  {
   "cell_type": "markdown",
   "id": "4111b8e3",
   "metadata": {},
   "source": [
    "1. Remove Elements by Index:Use numpy.delete() to remove elements at a specific index.<br>\n",
    "#### Syntax:\n",
    "&emsp;&emsp; arr = np.delete(arr, index)"
   ]
  },
  {
   "cell_type": "code",
   "execution_count": 48,
   "id": "f1e2b90d",
   "metadata": {
    "scrolled": true
   },
   "outputs": [
    {
     "name": "stdout",
     "output_type": "stream",
     "text": [
      "[ 1 40  2 50  3 60  4  5]\n",
      "[ 1 40  2  3 60  4  5]\n"
     ]
    }
   ],
   "source": [
    "#Example\n",
    "print(arr)\n",
    "arr=np.delete(arr,3)\n",
    "print(arr)"
   ]
  },
  {
   "cell_type": "markdown",
   "id": "d9ab7925",
   "metadata": {},
   "source": [
    "2. Remove element by value: Use boolean indexing to remove elements based on their values.<br>\n",
    "#### Syntax: \n",
    "&emsp;&emsp; arr = arr[arr != value_to_remove]"
   ]
  },
  {
   "cell_type": "code",
   "execution_count": 49,
   "id": "137accc6",
   "metadata": {},
   "outputs": [
    {
     "name": "stdout",
     "output_type": "stream",
     "text": [
      "[ 2  3  4  5  6  7  8  9 10]\n",
      "[3 5 7 9]\n"
     ]
    }
   ],
   "source": [
    "#Example\n",
    "import numpy as np\n",
    "arr=np.arange(2,11)\n",
    "print(arr)\n",
    "#removing an element \n",
    "arr=arr[arr%2!=0]\n",
    "print(arr)"
   ]
  },
  {
   "cell_type": "markdown",
   "id": "d0adf815",
   "metadata": {},
   "source": [
    "##### Till here, we have learnt what is multidimensional array object and How to creat an ndarray in different ways."
   ]
  },
  {
   "cell_type": "markdown",
   "id": "dd31b5d4",
   "metadata": {},
   "source": [
    "## Arithmetic with numpy array"
   ]
  },
  {
   "cell_type": "markdown",
   "id": "565ce31e",
   "metadata": {},
   "source": [
    "Arithmetic operators on arrays apply elementwise. A new array is created and filled with the result. ( all the green headings are subtopics of this topic)"
   ]
  },
  {
   "cell_type": "code",
   "execution_count": 177,
   "id": "ec98c4ed",
   "metadata": {},
   "outputs": [
    {
     "name": "stdout",
     "output_type": "stream",
     "text": [
      "Array 1 : [1 2 3 4 5], Array 2 : [ 6  7  8  9 10]\n",
      "Array 1 + Array 2  = [ 7  9 11 13 15]\n",
      "Array 1 - Array 2  = [-5 -5 -5 -5 -5]\n",
      "Array 1 + Array 2  = [ 6 14 24 36 50]\n",
      "Array 2 ÷ Array 1  = [6 3 2 2 2]\n",
      "Array 1 ÷ Array 2  = [      1     128    6561  262144 9765625]\n",
      "Array 1 > Array 2  = [ True  True  True  True  True]\n",
      "sine values:  [-0.99  0.85 -0.3   0.89  0.58]\n"
     ]
    }
   ],
   "source": [
    "#Example\n",
    "import numpy as np\n",
    "a=np.arange(1,6)\n",
    "b=np.arange(6,11)\n",
    "print(f\"Array 1 : {a}, Array 2 : {b}\")\n",
    "#Addition\n",
    "print(f\"Array 1 + Array 2  = {a+b}\")\n",
    "#Subtraction\n",
    "print(f\"Array 1 - Array 2  = {a-b}\")\n",
    "#Multiplication\n",
    "print(f\"Array 1 + Array 2  = {a*b}\")\n",
    "#Divide\n",
    "print(f\"Array 2 ÷ Array 1  = {b//a}\")\n",
    "#Expoinent\n",
    "print(f\"Array 1 ÷ Array 2  = {a**b}\")\n",
    "#Relational Operator\n",
    "print(f\"Array 1 > Array 2  = {a<b}\")\n",
    "#Mathematical Functions\n",
    "a=np.array([30,45,60,90,120])\n",
    "res=np.sin(a)\n",
    "print(f\"sine values:  {np.round(res,2)}\")  #round function is used for rounding off array elements"
   ]
  },
  {
   "cell_type": "markdown",
   "id": "774dfe0d",
   "metadata": {},
   "source": [
    "####  Let's do some more operation"
   ]
  },
  {
   "cell_type": "code",
   "execution_count": 184,
   "id": "fccb53ba",
   "metadata": {},
   "outputs": [
    {
     "name": "stdout",
     "output_type": "stream",
     "text": [
      "[[12 14 16 18]\n",
      " [20 22 24 26]\n",
      " [30 32 34 36]]\n"
     ]
    }
   ],
   "source": [
    "#example \n",
    "arr2 = np.array([[1,2,3,4],\n",
    "                 [5,6,7,8],\n",
    "                 [11,12,13,14]])\n",
    "arr3 = np.array([[11,12,13,14],\n",
    "                 [15,16,17,18],\n",
    "                 [19,20,21,22]])\n",
    "print(arr2+arr3)"
   ]
  },
  {
   "cell_type": "code",
   "execution_count": 186,
   "id": "d1ed2c8f",
   "metadata": {},
   "outputs": [
    {
     "data": {
      "text/plain": [
       "array([[10, 10, 10, 10],\n",
       "       [10, 10, 10, 10],\n",
       "       [ 8,  8,  8,  8]])"
      ]
     },
     "execution_count": 186,
     "metadata": {},
     "output_type": "execute_result"
    }
   ],
   "source": [
    "#example\n",
    "arr3-arr2"
   ]
  },
  {
   "cell_type": "markdown",
   "id": "79f69d40",
   "metadata": {},
   "source": [
    "<h3 style=\"color:green;\"> Elementwise Product and Matrices Product </h3>"
   ]
  },
  {
   "cell_type": "markdown",
   "id": "771407c0",
   "metadata": {},
   "source": [
    "Even in the case of a 2D or n-dimentional array, elements are multiplied elementwise when we use '*' operator "
   ]
  },
  {
   "cell_type": "code",
   "execution_count": 51,
   "id": "f66b8d23",
   "metadata": {},
   "outputs": [
    {
     "name": "stdout",
     "output_type": "stream",
     "text": [
      "[[ 2  3  4]\n",
      " [ 5  6  7]\n",
      " [ 8  9 10]]\n",
      "[[1 2 3]\n",
      " [4 5 6]\n",
      " [7 8 9]]\n",
      "[[ 2  6 12]\n",
      " [20 30 42]\n",
      " [56 72 90]]\n"
     ]
    }
   ],
   "source": [
    "#Example\n",
    "arr1=np.arange(2,11)\n",
    "arr1=np.reshape(arr1,(3,3))\n",
    "arr2=np.arange(1,10)\n",
    "arr2=np.reshape(arr2,(3,3))\n",
    "print(arr1,arr2,arr1*arr2,sep=\"\\n\")"
   ]
  },
  {
   "cell_type": "markdown",
   "id": "3ac007f9",
   "metadata": {},
   "source": [
    "<h3 style=\"color:green;\"> Matrices Product </h3>"
   ]
  },
  {
   "cell_type": "markdown",
   "id": "8f343671",
   "metadata": {},
   "source": [
    "To find matrices product we use '@' operator or dot() function"
   ]
  },
  {
   "cell_type": "code",
   "execution_count": 52,
   "id": "4665331f",
   "metadata": {},
   "outputs": [
    {
     "name": "stdout",
     "output_type": "stream",
     "text": [
      "[[ 2  3  4]\n",
      " [ 5  6  7]\n",
      " [ 8  9 10]]\n",
      "[[1 2 3]\n",
      " [4 5 6]\n",
      " [7 8 9]]\n",
      "[[ 42  51  60]\n",
      " [ 78  96 114]\n",
      " [114 141 168]]\n"
     ]
    }
   ],
   "source": [
    "#Example: Using '@' operaror \n",
    "arr1=np.arange(2,11)\n",
    "arr1=np.reshape(arr1,(3,3))\n",
    "arr2=np.arange(1,10)\n",
    "arr2=np.reshape(arr2,(3,3))\n",
    "print(arr1,arr2,arr1@arr2,sep=\"\\n\")"
   ]
  },
  {
   "cell_type": "code",
   "execution_count": 53,
   "id": "3edb7581",
   "metadata": {},
   "outputs": [
    {
     "name": "stdout",
     "output_type": "stream",
     "text": [
      "[[ 2  3  4]\n",
      " [ 5  6  7]\n",
      " [ 8  9 10]]\n",
      "[[1 2 3]\n",
      " [4 5 6]\n",
      " [7 8 9]]\n",
      "[[ 42  51  60]\n",
      " [ 78  96 114]\n",
      " [114 141 168]]\n"
     ]
    }
   ],
   "source": [
    "#Example: using dot() function\n",
    "arr1=np.arange(2,11)\n",
    "arr1=np.reshape(arr1,(3,3))\n",
    "arr2=np.arange(1,10)\n",
    "arr2=np.reshape(arr2,(3,3))\n",
    "print(arr1,arr2,arr1.dot(arr2),sep=\"\\n\")"
   ]
  },
  {
   "cell_type": "markdown",
   "id": "f9141009",
   "metadata": {},
   "source": [
    "<h3 style=\"color:green;\"> Other Operators on numpy array </h3>"
   ]
  },
  {
   "cell_type": "markdown",
   "id": "ae4b5830",
   "metadata": {},
   "source": [
    "Some operations, such as += and *=, act in place to modify an existing array rather than create a new one"
   ]
  },
  {
   "cell_type": "code",
   "execution_count": 54,
   "id": "98e3bc73",
   "metadata": {},
   "outputs": [
    {
     "name": "stdout",
     "output_type": "stream",
     "text": [
      "[[3 3 3]\n",
      " [3 3 3]]\n",
      "[[3.51182162 3.9504637  3.14415961]\n",
      " [3.94864945 3.31183145 3.42332645]]\n"
     ]
    }
   ],
   "source": [
    "import numpy as np\n",
    "rg = np.random.default_rng(1)  # create instance of default random number generator\n",
    "a = np.ones((2, 3), dtype=int)\n",
    "b = rg.random((2, 3))\n",
    "a *= 3\n",
    "print((a))\n",
    "b += a\n",
    "print(b)"
   ]
  },
  {
   "cell_type": "markdown",
   "id": "a744e067",
   "metadata": {},
   "source": [
    "Since, the result is stored in an existing array then when we try to add an array of different data types, then it may cause an error. Let's see"
   ]
  },
  {
   "cell_type": "code",
   "execution_count": 56,
   "id": "9edd4860",
   "metadata": {},
   "outputs": [
    {
     "ename": "UFuncTypeError",
     "evalue": "Cannot cast ufunc 'add' output from dtype('float64') to dtype('int32') with casting rule 'same_kind'",
     "output_type": "error",
     "traceback": [
      "\u001b[1;31m---------------------------------------------------------------------------\u001b[0m",
      "\u001b[1;31mUFuncTypeError\u001b[0m                            Traceback (most recent call last)",
      "Cell \u001b[1;32mIn[56], line 7\u001b[0m\n\u001b[0;32m      5\u001b[0m a \u001b[38;5;241m*\u001b[39m\u001b[38;5;241m=\u001b[39m \u001b[38;5;241m3\u001b[39m      \u001b[38;5;66;03m#a is in integer array\u001b[39;00m\n\u001b[0;32m      6\u001b[0m b \u001b[38;5;241m+\u001b[39m\u001b[38;5;241m=\u001b[39m a      \u001b[38;5;66;03m#b is a floting point array\u001b[39;00m\n\u001b[1;32m----> 7\u001b[0m a \u001b[38;5;241m+\u001b[39m\u001b[38;5;241m=\u001b[39m b\n",
      "\u001b[1;31mUFuncTypeError\u001b[0m: Cannot cast ufunc 'add' output from dtype('float64') to dtype('int32') with casting rule 'same_kind'"
     ]
    }
   ],
   "source": [
    "import numpy as np\n",
    "rg = np.random.default_rng(1)  # create instance of default random number generator\n",
    "a = np.ones((2, 3), dtype=int)\n",
    "b = rg.random((2, 3))\n",
    "a *= 3      #a is in integer array\n",
    "b += a      #b is a floting point array\n",
    "a += b  #the data type of existing array 'a' cannot be changed from integer to floating point"
   ]
  },
  {
   "cell_type": "markdown",
   "id": "2ab4e29d",
   "metadata": {},
   "source": [
    "<h3 style=\"color:green;\"> Upcasting </h3>"
   ]
  },
  {
   "cell_type": "markdown",
   "id": "d2c539b9",
   "metadata": {},
   "source": [
    "When you perform operations on arrays that have different data types, NumPy tries to be smart about deciding the data type of the resulting array. It chooses a data type that is more general or precise to accommodate the values of both original arrays. "
   ]
  },
  {
   "cell_type": "code",
   "execution_count": 59,
   "id": "c8c36e76",
   "metadata": {},
   "outputs": [
    {
     "name": "stdout",
     "output_type": "stream",
     "text": [
      "float64\n",
      "float64\n",
      "complex128\n"
     ]
    }
   ],
   "source": [
    "#Example \n",
    "arr1=np.ones(3,dtype=np.int32)\n",
    "arr2=np.linspace(1,3.14,3)\n",
    "print(arr2.dtype)\n",
    "arr3=arr1+arr2     #data type of arr3 is float64 so it iscapable of holding values of both arrays\n",
    "print(arr3.dtype)\n",
    "arr4=np.exp(arr3*1j)\n",
    "print(arr4.dtype)"
   ]
  },
  {
   "cell_type": "markdown",
   "id": "27a92fd3",
   "metadata": {},
   "source": [
    "#### Takeaways from the above example"
   ]
  },
  {
   "cell_type": "markdown",
   "id": "61add90a",
   "metadata": {},
   "source": [
    "np.exp(): This is the exponential function in NumPy. When applied to an array, it calculates the exponential (e^x) of each element in the array."
   ]
  },
  {
   "cell_type": "markdown",
   "id": "601f1ac2",
   "metadata": {},
   "source": [
    "1j: In Python, 1j represents the imaginary unit, which is the square root of -1. It's used to create complex numbers."
   ]
  },
  {
   "cell_type": "markdown",
   "id": "d966e592",
   "metadata": {},
   "source": [
    "<h3 style=\"color:green;\"> Uniary operation as method inplementation in numpy array </h3>"
   ]
  },
  {
   "cell_type": "markdown",
   "id": "e46f20f7",
   "metadata": {},
   "source": [
    "Many unary operations, such as computing the sum of all the elements in the array, are implemented as methods of the ndarray class."
   ]
  },
  {
   "cell_type": "code",
   "execution_count": 60,
   "id": "7a507e14",
   "metadata": {},
   "outputs": [
    {
     "name": "stdout",
     "output_type": "stream",
     "text": [
      "[[ 5  6  7]\n",
      " [ 8  9 10]\n",
      " [11 12 13]]\n",
      " Sum :  81\n",
      " Min :  5\n",
      "Max :  13\n"
     ]
    }
   ],
   "source": [
    "#Example \n",
    "import numpy as np\n",
    "arr1=np.arange(5,14)\n",
    "arr1=np.reshape(arr1,(3,3))\n",
    "print(arr1)\n",
    "#sum()\n",
    "print(\" Sum : \", arr1.sum())\n",
    "#min()\n",
    "print(\" Min : \", arr1.min())\n",
    "#max()\n",
    "print(\"Max : \", arr1.max())"
   ]
  },
  {
   "cell_type": "markdown",
   "id": "4dbdd2b5",
   "metadata": {},
   "source": [
    "By default, these operations apply to the array as though it were a list of numbers, regardless of its shape. However, by specifying the axis parameter you can apply an operation along the specified axis of an array:"
   ]
  },
  {
   "cell_type": "code",
   "execution_count": 61,
   "id": "152dcef7",
   "metadata": {},
   "outputs": [
    {
     "name": "stdout",
     "output_type": "stream",
     "text": [
      "[[1 2 3]\n",
      " [4 5 6]\n",
      " [7 8 9]]\n",
      " Sum along axis 0:  [12 15 18]\n",
      " Min along axis axis 1:  [1 4 7]\n",
      "Max along axis 1 :  9\n"
     ]
    }
   ],
   "source": [
    "import numpy as np\n",
    "arr1=np.arange(1,10)\n",
    "arr1=np.reshape(arr1,(3,3))\n",
    "print(arr1)\n",
    "#sum()\n",
    "print(\" Sum along axis 0: \", arr1.sum(axis=0))\n",
    "#min()\n",
    "print(\" Min along axis axis 1: \", arr1.min(axis=1))\n",
    "#max()\n",
    "print(\"Max along axis 1 : \", arr1.max())"
   ]
  },
  {
   "cell_type": "code",
   "execution_count": 62,
   "id": "4c3f89ec",
   "metadata": {},
   "outputs": [
    {
     "name": "stdout",
     "output_type": "stream",
     "text": [
      "It is a 3D array. Vaues are: \n",
      "[[[ 1  2  3]\n",
      "  [ 4  5  6]]\n",
      "\n",
      " [[ 7  8  9]\n",
      "  [10 11 12]]]\n",
      "Sum along axis 0 :  [[ 8 10 12]\n",
      " [14 16 18]]\n",
      "Sum along axis 1 :  [[ 5  7  9]\n",
      " [17 19 21]]\n",
      "Sum along axis 2 :  [[ 6 15]\n",
      " [24 33]]\n",
      "Cumulative Sum along axis 0 :  [[[ 1  2  3]\n",
      "  [ 4  5  6]]\n",
      "\n",
      " [[ 8 10 12]\n",
      "  [14 16 18]]]\n",
      "Cumulative Sum along axis 1 :  [[[ 1  2  3]\n",
      "  [ 5  7  9]]\n",
      "\n",
      " [[ 7  8  9]\n",
      "  [17 19 21]]]\n",
      "Cumulative Sum along axis 2 :  [[[ 1  3  6]\n",
      "  [ 4  9 15]]\n",
      "\n",
      " [[ 7 15 24]\n",
      "  [10 21 33]]]\n"
     ]
    }
   ],
   "source": [
    "#Example \n",
    "import numpy as np\n",
    "arr=np.array([[np.arange(1,4),np.arange(4,7)],[np.arange(7,10),np.arange(10,13)]])\n",
    "print(f\"It is a {arr.ndim}D array. Vaues are: \")\n",
    "print(arr)\n",
    "#Sum along different axis\n",
    "print(\"Sum along axis 0 : \", arr.sum(axis=0))\n",
    "print(\"Sum along axis 1 : \", arr.sum(axis=1))\n",
    "print(\"Sum along axis 2 : \", arr.sum(axis=2))\n",
    "#cumumlative sum, cumsum()\n",
    "print(\"Cumulative Sum along axis 0 : \", arr.cumsum(axis=0))\n",
    "print(\"Cumulative Sum along axis 1 : \", arr.cumsum(axis=1))\n",
    "print(\"Cumulative Sum along axis 2 : \", arr.cumsum(axis=2))"
   ]
  },
  {
   "cell_type": "markdown",
   "id": "67e02ee3",
   "metadata": {},
   "source": [
    "## Visualization "
   ]
  },
  {
   "cell_type": "markdown",
   "id": "8477947c",
   "metadata": {},
   "source": [
    "### Figure 1: 3D Array\n",
    "<img src=\"https://github.com/SimmiSheetalJain/Medias_for_notes_and_blogs/blob/main/3D-Array.jpg?raw=true\" width=70% height=30%>"
   ]
  },
  {
   "cell_type": "markdown",
   "id": "e37eb8e7",
   "metadata": {},
   "source": [
    "### Figure 2: Axis 0\n",
    "<img src=\"https://github.com/SimmiSheetalJain/Medias_for_notes_and_blogs/blob/main/Axis%200.jpg?raw=true\" width=70% height=30%>"
   ]
  },
  {
   "cell_type": "markdown",
   "id": "dfdef760",
   "metadata": {},
   "source": [
    "### Figure 3: Axis 1\n",
    "<img src=\"https://github.com/SimmiSheetalJain/Medias_for_notes_and_blogs/blob/main/Axis_1.jpg?raw=true\" width=70% height=30%>"
   ]
  },
  {
   "cell_type": "markdown",
   "id": "74aeb950",
   "metadata": {},
   "source": [
    "### Figure 4: Axis 2\n",
    "<img src=\"https://github.com/SimmiSheetalJain/Medias_for_notes_and_blogs/blob/main/Axis_2.jpg?raw=true\" width=70% height=30%>"
   ]
  },
  {
   "cell_type": "markdown",
   "id": "2a6fbdb4",
   "metadata": {},
   "source": [
    "<h2 style=\"color:#eb3477\">Question1: Create a 2D array from list of lists and Find the minimum value along each of the three rows</h2>\n",
    "<h3 style=\"color:#eb3477\">List1=[[110,102,183],[40,175,106],[192,40,195]]</h3>"
   ]
  },
  {
   "cell_type": "code",
   "execution_count": 63,
   "id": "997b8427",
   "metadata": {},
   "outputs": [
    {
     "name": "stdout",
     "output_type": "stream",
     "text": [
      "Minimum along first row :  102\n",
      "Minimum along second row :  40\n",
      "Minimum along third row :  40\n"
     ]
    }
   ],
   "source": [
    "import numpy as np\n",
    "List1=[[110,102,183],[40,175,106],[192,40,195]]\n",
    "arr=np.array(List1)\n",
    "minimum_along_row=arr.min(axis=1)\n",
    "print(\"Minimum along first row : \",minimum_along_row[0])\n",
    "print(\"Minimum along second row : \",minimum_along_row[1])\n",
    "print(\"Minimum along third row : \",minimum_along_row[2])"
   ]
  },
  {
   "cell_type": "markdown",
   "id": "90b9a3e3",
   "metadata": {},
   "source": [
    "# Basic indexing and slicing"
   ]
  },
  {
   "cell_type": "markdown",
   "id": "4e7a3397",
   "metadata": {},
   "source": [
    "One-dimensional arrays can be indexed, sliced and iterated over, much like lists and other Python sequences."
   ]
  },
  {
   "cell_type": "code",
   "execution_count": 64,
   "id": "6b54670c",
   "metadata": {},
   "outputs": [
    {
     "name": "stdout",
     "output_type": "stream",
     "text": [
      "[2 3 4]\n",
      "[2 3 4 5 6 7 8 9]\n",
      "[0 1 2 3 4 5 6 7 8 9]\n",
      "[9 8 7 6 5 4 3 2 1 0]\n",
      "[1 3 5 7]\n",
      "[20  1 20  3 20  5  6  7  8  9]\n",
      "2.71\n",
      "1.00\n",
      "2.71\n",
      "1.44\n",
      "2.71\n",
      "1.71\n",
      "1.82\n",
      "1.91\n",
      "2.00\n",
      "2.08\n"
     ]
    }
   ],
   "source": [
    "#example \n",
    "import numpy as np\n",
    "arr=np.arange(10)\n",
    "#E.G.\n",
    "print(arr[2:5])\n",
    "#E.G.\n",
    "print(arr[2:])\n",
    "#E.G.\n",
    "print(arr[:])\n",
    "#E.G.\n",
    "print(arr[::-1])\n",
    "#E.G.\n",
    "print(arr[1:9:2])\n",
    "#E.G.\n",
    "arr[:6:2]=20\n",
    "print(arr)\n",
    "#E.G.\n",
    "for i in arr:\n",
    "    print(format(i**(1/3),\".2f\"))"
   ]
  },
  {
   "cell_type": "markdown",
   "id": "8b553e22",
   "metadata": {},
   "source": [
    "Multidimensional arrays can have one index per axis. These indices are given in the subscript operator separated by commas:"
   ]
  },
  {
   "cell_type": "code",
   "execution_count": 65,
   "id": "674cd827",
   "metadata": {},
   "outputs": [
    {
     "name": "stdout",
     "output_type": "stream",
     "text": [
      "[[102 183]\n",
      " [175 106]]\n"
     ]
    }
   ],
   "source": [
    "#Example 1:\n",
    "import numpy as np\n",
    "List1=[[110,102,183],[40,175,106],[192,40,195]]\n",
    "arr=np.array(List1)\n",
    "#E.G.\n",
    "print(arr[0:2,1:])"
   ]
  },
  {
   "cell_type": "code",
   "execution_count": 66,
   "id": "5b0e948b",
   "metadata": {},
   "outputs": [
    {
     "name": "stdout",
     "output_type": "stream",
     "text": [
      "[[ 40 175 106]\n",
      " [110 102 183]]\n"
     ]
    }
   ],
   "source": [
    "#Example 2:\n",
    "import numpy as np\n",
    "List1=[[110,102,183],[40,175,106],[192,40,195]]\n",
    "arr=np.array(List1)\n",
    "#E.G.\n",
    "print(arr[-2:-4:-1,:]) "
   ]
  },
  {
   "cell_type": "code",
   "execution_count": 67,
   "id": "7362b6b4",
   "metadata": {},
   "outputs": [
    {
     "name": "stdout",
     "output_type": "stream",
     "text": [
      "195\n"
     ]
    }
   ],
   "source": [
    "#Example 3:\n",
    "import numpy as np\n",
    "List1=[[110,102,183],[40,175,106],[192,40,195]]\n",
    "arr=np.array(List1)\n",
    "#E.G.\n",
    "print(arr[2,2]) "
   ]
  },
  {
   "cell_type": "markdown",
   "id": "852415a3",
   "metadata": {},
   "source": [
    "When fewer indices are provided than the number of axes, the missing indices are considered complete slices:"
   ]
  },
  {
   "cell_type": "code",
   "execution_count": 68,
   "id": "56f4c1bb",
   "metadata": {},
   "outputs": [
    {
     "name": "stdout",
     "output_type": "stream",
     "text": [
      "When Second index is missing :  [192  40 195]\n",
      "When Second index is mentioned:  [192  40 195]\n",
      "When we want to slice out second column:\n",
      "  [[102]\n",
      " [175]\n",
      " [ 40]]\n"
     ]
    }
   ],
   "source": [
    "#Example\n",
    "import numpy as np\n",
    "List1=[[110,102,183],[40,175,106],[192,40,195]]\n",
    "arr=np.array(List1)\n",
    "#E.G.\n",
    "print(\"When Second index is missing : \",arr[2,]) #Equivalent to arr[2,0:3]\n",
    "print(\"When Second index is mentioned: \",arr[2,0:3])\n",
    "print(\"When we want to slice out second column:\\n \",arr[0:3,1:2])"
   ]
  },
  {
   "cell_type": "markdown",
   "id": "1ca7d8a5",
   "metadata": {},
   "source": [
    "<h3 style=\"color:green;\"> Slicing on a 3D array (two stacked 2D arrays)</h3>"
   ]
  },
  {
   "cell_type": "code",
   "execution_count": 69,
   "id": "23361e29",
   "metadata": {},
   "outputs": [
    {
     "name": "stdout",
     "output_type": "stream",
     "text": [
      "It is a 3D array. Vaues are: \n",
      "[[[ 1  2  3]\n",
      "  [ 4  5  6]]\n",
      "\n",
      " [[ 7  8  9]\n",
      "  [10 11 12]]]\n",
      "[[[ 1]\n",
      "  [ 4]]\n",
      "\n",
      " [[ 7]\n",
      "  [10]]]\n"
     ]
    }
   ],
   "source": [
    "#Example \n",
    "import numpy as np\n",
    "arr=np.array([[np.arange(1,4),np.arange(4,7)],[np.arange(7,10),np.arange(10,13)]])\n",
    "print(f\"It is a {arr.ndim}D array. Vaues are: \")\n",
    "print(arr)\n",
    "#E.G.\n",
    "print(arr[0:2, 0:2,0:1])"
   ]
  },
  {
   "cell_type": "markdown",
   "id": "8181c00c",
   "metadata": {},
   "source": [
    "### Visualization\n",
    "<img src=\"https://github.com/SimmiSheetalJain/Medias_for_notes_and_blogs/blob/main/Slicing_on_3D.jpg?raw=true\"  width=70% height=30%>"
   ]
  },
  {
   "cell_type": "markdown",
   "id": "d3b7bc5f",
   "metadata": {},
   "source": [
    "<h3 style=\"color:green;\">Iterating over multidimensional arrays </h3> "
   ]
  },
  {
   "cell_type": "markdown",
   "id": "86858ed4",
   "metadata": {},
   "source": [
    "Iterating over multidimensional arrys is as same as it is in other programming language. We loop first loop for the length of first dimention, second loop for length of second dimention and so on."
   ]
  },
  {
   "cell_type": "code",
   "execution_count": 70,
   "id": "f8fc3698",
   "metadata": {},
   "outputs": [
    {
     "name": "stdout",
     "output_type": "stream",
     "text": [
      "It is a 3D array. Vaues are: \n",
      "1 2 3 \n",
      "4 5 6 \n",
      "\n",
      "7 8 9 \n",
      "10 11 12 \n",
      "\n"
     ]
    }
   ],
   "source": [
    "#Example \n",
    "import numpy as np\n",
    "arr=np.array([[np.arange(1,4),np.arange(4,7)],[np.arange(7,10),np.arange(10,13)]])\n",
    "print(f\"It is a {arr.ndim}D array. Vaues are: \")\n",
    "shape=arr.shape\n",
    "for i in range(shape[0]):\n",
    "    for j in range(shape[1]):\n",
    "        for k in range(shape[2]):\n",
    "            print(arr[i][j][k],end=\" \")\n",
    "        print()\n",
    "    print()"
   ]
  },
  {
   "cell_type": "markdown",
   "id": "d7b3afbf",
   "metadata": {},
   "source": [
    "# Boolean Indexing, Advanced indexing, and Index tricks "
   ]
  },
  {
   "cell_type": "markdown",
   "id": "a613c720",
   "metadata": {},
   "source": [
    "NumPy offers more indexing facilities than regular Python sequences. In addition to indexing by integers and slices, as we saw before, arrays can be indexed by arrays of integers and arrays of booleans."
   ]
  },
  {
   "cell_type": "markdown",
   "id": "9ce6c4b0",
   "metadata": {},
   "source": [
    "<h3 style=\"color:green;\"> Indexing with Arrays of Indices </h3>"
   ]
  },
  {
   "cell_type": "code",
   "execution_count": 71,
   "id": "94e0ceb3",
   "metadata": {},
   "outputs": [
    {
     "name": "stdout",
     "output_type": "stream",
     "text": [
      "[81 16 81  9 16 49 25 49  4]\n",
      "[16 81  9 49 25 49]\n"
     ]
    }
   ],
   "source": [
    "#Example \n",
    "import numpy as np\n",
    "arr=np.random.randint(2,10,9)**2\n",
    "print(arr)\n",
    "i=np.array([1,2,3,5,6,7])\n",
    "print(arr[i])        #print value at index mention in i "
   ]
  },
  {
   "cell_type": "markdown",
   "id": "af0859ea",
   "metadata": {},
   "source": [
    "##### When the indexed array arr is multidimensional, a single array of indices refers to the first dimension of arr."
   ]
  },
  {
   "cell_type": "code",
   "execution_count": 72,
   "id": "c0de709d",
   "metadata": {},
   "outputs": [
    {
     "name": "stdout",
     "output_type": "stream",
     "text": [
      "Array :\n",
      " [[1 2 3]\n",
      " [4 5 6]\n",
      " [7 8 9]]\n",
      "____________\n",
      "____________\n",
      "____________\n",
      "[[[7 8 9]\n",
      "  [1 2 3]\n",
      "  [7 8 9]]\n",
      "\n",
      " [[1 2 3]\n",
      "  [4 5 6]\n",
      "  [1 2 3]]]\n"
     ]
    }
   ],
   "source": [
    "import numpy as np\n",
    "arr=np.reshape(np.arange(1,10),(3,3))\n",
    "print(\"Array :\\n\",arr)\n",
    "print(\"____________\")\n",
    "indices=np.reshape(np.random.randint(0,3,6),(2,-1))\n",
    "print(\"____________\")\n",
    "result=arr[indices]\n",
    "print(\"____________\")\n",
    "print(result)    "
   ]
  },
  {
   "cell_type": "markdown",
   "id": "1455a926",
   "metadata": {},
   "source": [
    "##### In Python, arr[i, j] is exactly the same as arr[(i, j)]—so we can put i and j in a tuple and then do the indexing with that."
   ]
  },
  {
   "cell_type": "code",
   "execution_count": 73,
   "id": "5034a28d",
   "metadata": {
    "scrolled": true
   },
   "outputs": [
    {
     "name": "stdout",
     "output_type": "stream",
     "text": [
      "Array :\n",
      " [[1 2 3]\n",
      " [4 5 6]\n",
      " [7 8 9]]\n",
      "Indices :\n",
      " [[2 0 2]\n",
      " [0 1 0]]\n",
      "Array[indices]: \n",
      " [9 4 8]\n"
     ]
    }
   ],
   "source": [
    "import numpy as np\n",
    "arr=np.reshape(np.arange(1,10),(3,3))\n",
    "print(\"Array :\\n\",arr)\n",
    "i=[2,1,2];j=[2,0,1]\n",
    "indices_tuple=(i,j)\n",
    "print(\"Indices :\\n\",indices)\n",
    "print(\"Array[indices]: \\n\",arr[indices_tuple])"
   ]
  },
  {
   "cell_type": "markdown",
   "id": "77683795",
   "metadata": {},
   "source": [
    "##### You can also use indexing with arrays as a target to assign to:"
   ]
  },
  {
   "cell_type": "code",
   "execution_count": 74,
   "id": "64aa4e10",
   "metadata": {},
   "outputs": [
    {
     "name": "stdout",
     "output_type": "stream",
     "text": [
      "[ 0 20  2 20 20]\n"
     ]
    }
   ],
   "source": [
    "import numpy as np\n",
    "arr=np.arange(5)\n",
    "arr[[1,3,4]]=20\n",
    "print(arr)"
   ]
  },
  {
   "cell_type": "markdown",
   "id": "84c2f13a",
   "metadata": {},
   "source": [
    "###### However, when the list of indices contains repetitions, the assignment is done several times, leaving behind the last value"
   ]
  },
  {
   "cell_type": "code",
   "execution_count": 75,
   "id": "2c93d72c",
   "metadata": {},
   "outputs": [
    {
     "name": "stdout",
     "output_type": "stream",
     "text": [
      "[ 5  7  9 11 13]\n",
      "[ 5 20  9 11 20]\n"
     ]
    }
   ],
   "source": [
    "import numpy as np\n",
    "arr=np.arange(5,15,2)\n",
    "print(arr)\n",
    "arr[[1,1,4]]=20\n",
    "print(arr)\n"
   ]
  },
  {
   "cell_type": "code",
   "execution_count": 205,
   "id": "389cfd6a",
   "metadata": {},
   "outputs": [],
   "source": [
    "#example \n",
    "arr2 = np.array([[1,2,3,4],\n",
    "                 [5,6,7,8],\n",
    "                 [11,12,13,14]])"
   ]
  },
  {
   "cell_type": "code",
   "execution_count": 206,
   "id": "a3cd5b92",
   "metadata": {},
   "outputs": [
    {
     "data": {
      "text/plain": [
       "array([[ 5,  6,  7,  8],\n",
       "       [11, 12, 13, 14]])"
      ]
     },
     "execution_count": 206,
     "metadata": {},
     "output_type": "execute_result"
    }
   ],
   "source": [
    "#example \n",
    "arr2[1:]"
   ]
  },
  {
   "cell_type": "code",
   "execution_count": 216,
   "id": "432aa961",
   "metadata": {},
   "outputs": [
    {
     "data": {
      "text/plain": [
       "array([[14]])"
      ]
     },
     "execution_count": 216,
     "metadata": {},
     "output_type": "execute_result"
    }
   ],
   "source": [
    "#example \n",
    "arr2[2:,3:]"
   ]
  },
  {
   "cell_type": "code",
   "execution_count": null,
   "id": "dbd2a509",
   "metadata": {},
   "outputs": [],
   "source": []
  },
  {
   "cell_type": "markdown",
   "id": "ca45fb82",
   "metadata": {},
   "source": [
    "<h2 style=\"color:#eb3477\">Question 2: Create a numpy array form the given list of lists and Swap row 1 and row 2 in the given array</h2>\n",
    "<h3 style=\"color:#eb3477\">List1=[[110,102,183],[40,175,106],[192,40,195]]</h3>"
   ]
  },
  {
   "cell_type": "code",
   "execution_count": 76,
   "id": "4ca61927",
   "metadata": {},
   "outputs": [
    {
     "name": "stdout",
     "output_type": "stream",
     "text": [
      "Original Array :\n",
      " [[110 102 183]\n",
      " [ 40 175 106]\n",
      " [192  40 195]]\n",
      "Array after swapping :\n",
      " [[110  40 183]\n",
      " [ 40 175 106]\n",
      " [192  40 195]]\n"
     ]
    }
   ],
   "source": [
    "#answer\n",
    "import numpy as np\n",
    "List1=[[110,102,183],[40,175,106],[192,40,195]]\n",
    "arr=np.array(List1)\n",
    "print(\"Original Array :\\n\",arr)\n",
    "arr[0,1]=arr[1,0]\n",
    "print(\"Array after swapping :\\n\",arr)"
   ]
  },
  {
   "cell_type": "markdown",
   "id": "54b38d3b",
   "metadata": {},
   "source": [
    "<h3 style=\"color:green;\">Indexing with Boolean Arrays</h3>"
   ]
  },
  {
   "cell_type": "markdown",
   "id": "5dd27124",
   "metadata": {},
   "source": [
    "When we index arrays with arrays of (integer) indices we are providing the list of indices to pick. With boolean indices the approach is different; we explicitly choose which items in the array we want and which ones we don’t."
   ]
  },
  {
   "cell_type": "code",
   "execution_count": 77,
   "id": "cabb3a7b",
   "metadata": {},
   "outputs": [
    {
     "name": "stdout",
     "output_type": "stream",
     "text": [
      "[[ 0  1  2  3]\n",
      " [ 4  5  6  7]\n",
      " [ 8  9 10 11]]\n",
      "[ 5  6  7  8  9 10 11]\n"
     ]
    }
   ],
   "source": [
    "#Example:\n",
    "a = np.arange(12).reshape(3, 4)\n",
    "print(a)\n",
    "b = np.array([[False, False, False, False],\n",
    "              [False,  True,  True,  True],\n",
    "              [ True,  True,  True,  True]])\n",
    "print(a[b]) # 1d array with the selected elements"
   ]
  },
  {
   "cell_type": "markdown",
   "id": "47a0b301",
   "metadata": {},
   "source": [
    "The second way of indexing with booleans is more similar to integer indexing; for each dimension of the array we give a 1D boolean array selecting the slices we want:\n",
    "\n"
   ]
  },
  {
   "cell_type": "code",
   "execution_count": 78,
   "id": "bf3bc81f",
   "metadata": {},
   "outputs": [
    {
     "name": "stdout",
     "output_type": "stream",
     "text": [
      "[[16 17 18 19]\n",
      " [20 21 22 23]]\n",
      "[[12 15]\n",
      " [16 19]\n",
      " [20 23]]\n",
      "[16 23]\n"
     ]
    }
   ],
   "source": [
    "import numpy as np\n",
    "arr=np.arange(12,24).reshape(3,4)\n",
    "selecting_rows=np.array([False,True,True])                #the length of Selecting_rows is same as axis 0 of array arr\n",
    "selecting_columns=np.array([True,False,False,True])       #the length of Selecting_columns is same as axis 1 of array arr \n",
    "print(arr[selecting_rows,:])\n",
    "print(arr[:,selecting_columns])\n",
    "print(arr[selecting_rows,selecting_columns])"
   ]
  },
  {
   "cell_type": "markdown",
   "id": "caa0fdc6",
   "metadata": {},
   "source": [
    "# Transposing Array and Swapping axes"
   ]
  },
  {
   "cell_type": "markdown",
   "id": "3b6c2b7f",
   "metadata": {},
   "source": [
    "<h3 style=\"color:green;\"> Transposing an Array </h3>"
   ]
  },
  {
   "cell_type": "markdown",
   "id": "e9226f27",
   "metadata": {},
   "source": [
    "In NumPy, you can transpose an array axes using the numpy.transpose() function.It is a universal function."
   ]
  },
  {
   "cell_type": "markdown",
   "id": "a58c9c60",
   "metadata": {},
   "source": [
    "##### numpy.transpose(a, axes=None)"
   ]
  },
  {
   "cell_type": "code",
   "execution_count": 79,
   "id": "a5d86270",
   "metadata": {},
   "outputs": [
    {
     "name": "stdout",
     "output_type": "stream",
     "text": [
      "Orginal matrix :\n",
      " [[ 2 24 21]\n",
      " [13 12  9]\n",
      " [14 21 11]]\n",
      "Transpose of the orgininal matrix :\n",
      " [[ 2 13 14]\n",
      " [24 12 21]\n",
      " [21  9 11]]\n"
     ]
    }
   ],
   "source": [
    "#Example:\n",
    "import numpy as np\n",
    "arr1=np.random.randint(2,25,9)\n",
    "arr1=np.reshape(arr1,(3,3))\n",
    "print(\"Orginal matrix :\\n\", arr1)\n",
    "print(\"Transpose of the orgininal matrix :\\n\", np.transpose(arr1))"
   ]
  },
  {
   "cell_type": "markdown",
   "id": "3204abf7",
   "metadata": {},
   "source": [
    "<h3 style=\"color:green;\"> Swaping of axes in an Array </h3>"
   ]
  },
  {
   "cell_type": "markdown",
   "id": "b6f615a3",
   "metadata": {},
   "source": [
    "The numpy.swapaxes() method allows you to swap two axes of an array. You specify the axes you want to swap."
   ]
  },
  {
   "cell_type": "markdown",
   "id": "8f9076c4",
   "metadata": {},
   "source": [
    "###### numpy.swapaxes(arr, axis1, axis2)\n"
   ]
  },
  {
   "cell_type": "code",
   "execution_count": 80,
   "id": "df3c46fc",
   "metadata": {},
   "outputs": [
    {
     "name": "stdout",
     "output_type": "stream",
     "text": [
      "It is a 3D array. Vaues are: \n",
      "[[[ 1  2  3]\n",
      "  [ 4  5  6]]\n",
      "\n",
      " [[ 7  8  9]\n",
      "  [10 11 12]]]\n",
      "[[[ 1  7]\n",
      "  [ 4 10]]\n",
      "\n",
      " [[ 2  8]\n",
      "  [ 5 11]]\n",
      "\n",
      " [[ 3  9]\n",
      "  [ 6 12]]]\n"
     ]
    }
   ],
   "source": [
    "import numpy as np\n",
    "arr=np.array([[np.arange(1,4),np.arange(4,7)],[np.arange(7,10),np.arange(10,13)]])\n",
    "print(f\"It is a {arr.ndim}D array. Vaues are: \")\n",
    "print(arr)\n",
    "print(np.swapaxes(arr,0,2))"
   ]
  },
  {
   "cell_type": "markdown",
   "id": "a4c71ae1",
   "metadata": {},
   "source": [
    "# Universal Functions"
   ]
  },
  {
   "cell_type": "markdown",
   "id": "0ea671be",
   "metadata": {},
   "source": [
    "NumPy provides familiar mathematical functions such as sin, cos, and exp. In NumPy, these are called “universal functions” (ufunc). Within NumPy, these functions operate elementwise on an array, producing an array as output."
   ]
  },
  {
   "cell_type": "markdown",
   "id": "2fd261fc",
   "metadata": {},
   "source": [
    "<h3 style=\"color:green;\">Here is the list of several universal functions used in numpy</h3>"
   ]
  },
  {
   "cell_type": "markdown",
   "id": "d618a491",
   "metadata": {},
   "source": [
    "1. __all__: Tests whether all array elements along a given axis evaluate to True.\n",
    "2. __any:__ Tests whether any array element along a given axis evaluates to True.\n",
    "3. __apply_along_axis:__ Applies a function along a specified axis of an array.\n",
    "4. __argmax:__ Returns the indices of the maximum values along an axis.\n",
    "5. __argmin:__ Returns the indices of the minimum values along an axis.\n",
    "6. __argsort:__ Returns the indices that would sort an array.\n",
    "7. __average:__ Computes the weighted average along a specified axis.\n",
    "8. __bincount:__ Counts occurrences of each value in an array of non-negative integers.\n",
    "9. __ceil:__ Computes the ceiling of each element.\n",
    "10. __clip:__ Limits the values in an array to be within a specified range.\n",
    "11. __conj:__ Returns the complex conjugate.\n",
    "12. __corrcoef:__ Computes the correlation coefficient between two arrays.\n",
    "13. __cov:__ Computes the covariance matrix for two or more arrays.\n",
    "14. __cross:__ Computes the cross product of two vectors.\n",
    "15. __cumprod:__ Computes the cumulative product of elements along a given axis.\n",
    "16. __cumsum:__ Computes the cumulative sum of elements along a given axis.\n",
    "17. __diff:__ Computes the difference between consecutive elements.\n",
    "18. __dot:__ Computes the dot product of two arrays.\n",
    "19. __floor:__ Computes the floor of each element.\n",
    "20. __inner:__ Computes the inner product of two arrays.\n",
    "21. __invert:__ Computes the bit-wise inversion of an array.\n",
    "22. __lexsort:__ Performs an indirect sort on multiple keys.\n",
    "23. __max:__ Returns the maximum value along a specified axis.\n",
    "24. __maximum:__ Element-wise maximum of two arrays.\n",
    "25. __mean:__ Computes the arithmetic mean along a specified axis.\n",
    "26. __median:__ Computes the median along a specified axis.\n",
    "27. __min:__ Returns the minimum value along a specified axis.\n",
    "28. __minimum:__ Element-wise minimum of two arrays.\n",
    "29. __nonzero:__ Returns the indices of non-zero elements.\n",
    "30. __outer:__ Computes the outer product of two vectors.\n",
    "31. __prod:__ Computes the product of elements along a given axis.\n",
    "32. __re:__ Returns the real part of the complex argument.\n",
    "33. __round:__ Rounds each element to the nearest integer.\n",
    "34. __sort:__ Returns a sorted copy of an array.\n",
    "35. __std:__ Computes the standard deviation along a specified axis.\n",
    "36. __sum:__ Computes the sum of elements along a specified axis.\n",
    "37. __trace:__ Computes the sum along the diagonal of an array.\n",
    "38. __transpose:__ Permutes the dimensions of an array.\n",
    "39. __var:__ Computes the variance along a specified axis.\n",
    "40. __vdot:__ Computes the dot product of two vectors.\n",
    "41. __vectorize:__ Converts a Python function into a NumPy vectorized function.\n",
    "42. __where:__ Returns elements chosen from x or y depending on condition."
   ]
  },
  {
   "cell_type": "markdown",
   "id": "4128b8c6",
   "metadata": {},
   "source": [
    "#### argmax(), argmin()"
   ]
  },
  {
   "cell_type": "code",
   "execution_count": 81,
   "id": "d3154ee2",
   "metadata": {},
   "outputs": [
    {
     "name": "stdout",
     "output_type": "stream",
     "text": [
      "[0 0 1 1 0]\n",
      "[1 1 0 0 1]\n"
     ]
    }
   ],
   "source": [
    "import numpy as np\n",
    "arr=np.array([[5,2,3,9,13],[4,1,6,11,12]])\n",
    "print(np.argmax(arr, axis=0))\n",
    "print(np.argmin(arr, axis=0))"
   ]
  },
  {
   "cell_type": "markdown",
   "id": "f3b9bdbe",
   "metadata": {},
   "source": [
    "#### numpy.argsort(a, axis=-1, kind=None, order=None)"
   ]
  },
  {
   "cell_type": "markdown",
   "id": "1f6dba25",
   "metadata": {},
   "source": [
    "here,<br>\n",
    "=> a: is array to be sorted <br>\n",
    "=> axis: is the axis along which to sort. The default is -1 (the last axis). If None, the flattened array is used.<br>\n",
    "=> kind: {‘quicksort’, ‘mergesort’, ‘heapsort’, ‘stable’}, optional.The default is ‘quicksort’ <br>\n",
    "=> order: str or list of str, optional.When a is an array with fields defined, this argument specifies which fields to compare first, second, etc. A single field can be specified as a string, and not all fields need be specified, but unspecified fields will still be used, in the order in which they come up in the dtype, to break ties.<br>"
   ]
  },
  {
   "cell_type": "code",
   "execution_count": 82,
   "id": "63750884",
   "metadata": {},
   "outputs": [
    {
     "name": "stdout",
     "output_type": "stream",
     "text": [
      "[[1 2 0 3 4]\n",
      " [1 0 2 3 4]]\n"
     ]
    }
   ],
   "source": [
    "import numpy as np\n",
    "arr=np.array([[5,2,3,9,13],[4,1,6,11,12]])\n",
    "print(np.argsort(arr)) #Returns the indices that would sort an array."
   ]
  },
  {
   "cell_type": "markdown",
   "id": "e7a51c09",
   "metadata": {},
   "source": [
    "#### numpy.average(a, axis=None, weights=None, returned=False, *, keepdims=<no value>)"
   ]
  },
  {
   "cell_type": "code",
   "execution_count": 83,
   "id": "a3d8555a",
   "metadata": {},
   "outputs": [
    {
     "name": "stdout",
     "output_type": "stream",
     "text": [
      "[[0 1 2]\n",
      " [3 4 5]]\n",
      "[2.25 3.25 4.25]\n",
      "[1.44 4.44]\n"
     ]
    }
   ],
   "source": [
    "import numpy as np\n",
    "data = np.arange(6).reshape((2, 3))\n",
    "print(data)\n",
    "print(np.round(np.average(data, axis=0, weights=[1/4, 3/4]),2))\n",
    "print(np.round(np.average(data, axis=1, weights=[1/4, 3/4,5/4]),2))"
   ]
  },
  {
   "cell_type": "markdown",
   "id": "372f491a",
   "metadata": {},
   "source": [
    "#### numpy.bincount(x, /, weights=None, minlength=0) "
   ]
  },
  {
   "cell_type": "markdown",
   "id": "bf7d4812",
   "metadata": {},
   "source": [
    "the numpy.bincount() function is used to count the occurrences of non-negative integers in an array. It is particularly useful for counting the occurrences of each integer in a set of non-negative integers."
   ]
  },
  {
   "cell_type": "code",
   "execution_count": 84,
   "id": "841a09eb",
   "metadata": {},
   "outputs": [
    {
     "name": "stdout",
     "output_type": "stream",
     "text": [
      "[3 4 3 4 2 2 4 3 2 3]\n",
      "[0 0 3 4 3]\n"
     ]
    }
   ],
   "source": [
    "import numpy as np\n",
    "arr=np.random.randint(2,5,10)\n",
    "print(arr)\n",
    "print(np.bincount(arr))"
   ]
  },
  {
   "cell_type": "markdown",
   "id": "1cdcc295",
   "metadata": {},
   "source": [
    "The output [0 0 1 6 3] corresponds to the counts of occurrences for each unique integer in the array generated by np.random.randint(2, 5, 10).\\\n",
    "The number 0 appears 0 times.\\\n",
    "The number 1 appears 0 times.\\\n",
    "The number 2 appears 1 time.\\\n",
    "The number 3 appears 6 times.\\\n",
    "The number 4 appears 3 times."
   ]
  },
  {
   "cell_type": "markdown",
   "id": "b4be6aed",
   "metadata": {},
   "source": [
    "#### numpy.clip(a, a_min, a_max, out=None, **kwargs)"
   ]
  },
  {
   "cell_type": "markdown",
   "id": "5f950e7a",
   "metadata": {},
   "source": [
    "the clip() function is used to limit the values in an array to a specified range. It takes three arguments: an array, a minimum value, and a maximum value. The function returns a new array with values clipped to be within the specified range."
   ]
  },
  {
   "cell_type": "code",
   "execution_count": 85,
   "id": "9a292095",
   "metadata": {},
   "outputs": [
    {
     "name": "stdout",
     "output_type": "stream",
     "text": [
      "Original Array:\n",
      " [1 2 3 4 5 6 7 8 9]\n",
      " [3 3 3 4 5 6 7 7 7]\n"
     ]
    }
   ],
   "source": [
    "#Example \n",
    "import numpy as np\n",
    "arr = np.array([1, 2, 3, 4, 5, 6, 7, 8, 9])\n",
    "print(\"Original Array:\\n\",arr)\n",
    "# Clip values in the array to be between 3 and 7\n",
    "clipped_arr = np.clip(arr, 3, 7)\n",
    "print(\"\",clipped_arr)"
   ]
  },
  {
   "cell_type": "markdown",
   "id": "30aa2cfb",
   "metadata": {},
   "source": [
    "#### maximum: Element-wise maximum of two arrays."
   ]
  },
  {
   "cell_type": "code",
   "execution_count": 86,
   "id": "93922801",
   "metadata": {},
   "outputs": [
    {
     "name": "stdout",
     "output_type": "stream",
     "text": [
      "[[24 17 15]\n",
      " [ 6 13 24]\n",
      " [14 16  6]]\n",
      "[[12 13 23]\n",
      " [ 2 17 17]\n",
      " [ 5  7 18]]\n",
      "[[24 17 23]\n",
      " [ 6 17 24]\n",
      " [14 16 18]]\n"
     ]
    }
   ],
   "source": [
    "import numpy as np\n",
    "arr1=np.random.randint(2,25,9)\n",
    "arr1=np.reshape(arr1,(3,3))\n",
    "arr2=np.random.randint(2,25,9)\n",
    "arr2=np.reshape(arr2,(3,3))\n",
    "result=np.maximum(arr1,arr2)\n",
    "print(arr1)\n",
    "print(arr2)\n",
    "print(result)"
   ]
  },
  {
   "cell_type": "markdown",
   "id": "e22b3853",
   "metadata": {},
   "source": [
    "#### numpy.mean(a, axis=None, dtype=None, out=None, keepdims=<no value>, *, where=<no value>)"
   ]
  },
  {
   "cell_type": "code",
   "execution_count": 87,
   "id": "35a0626e",
   "metadata": {},
   "outputs": [
    {
     "name": "stdout",
     "output_type": "stream",
     "text": [
      "[ 9. 12. 15.]\n"
     ]
    }
   ],
   "source": [
    "import numpy as np\n",
    "a = np.array([[5, 9, 13], [14, 10, 12], [11, 15, 19]])\n",
    "print(np.mean(a,axis=1))"
   ]
  },
  {
   "cell_type": "markdown",
   "id": "5cbd0414",
   "metadata": {},
   "source": [
    "#### numpy.prod(a, axis=None, dtype=None, keepdims=False)"
   ]
  },
  {
   "cell_type": "markdown",
   "id": "9cacdfc5",
   "metadata": {},
   "source": [
    "the prod() function is used to compute the product of array elements along a specified axis or the flattened array. The syntax for the prod() function is as follows:"
   ]
  },
  {
   "cell_type": "code",
   "execution_count": 88,
   "id": "bdb0b87d",
   "metadata": {},
   "outputs": [
    {
     "name": "stdout",
     "output_type": "stream",
     "text": [
      "[ 770 1350 2964]\n"
     ]
    }
   ],
   "source": [
    "import numpy as np\n",
    "a = np.array([[5, 9, 13], [14, 10, 12], [11, 15, 19]])\n",
    "print(np.prod(a,axis=0))"
   ]
  },
  {
   "cell_type": "markdown",
   "id": "11021f94",
   "metadata": {},
   "source": [
    "#### numpy.sort(a, axis=-1, kind=None, order=None)"
   ]
  },
  {
   "cell_type": "markdown",
   "id": "4bfc3ab0",
   "metadata": {},
   "source": [
    "a: The input array to be sorted.\\\n",
    "axis (optional): Axis along which to sort. By default, the array is flattened before sorting.\\\n",
    "kind (optional): Sorting algorithm. It can take values like 'quicksort', 'mergesort', or 'heapsort'. The default is 'quicksort'.\\\n",
    "order (optional): If the array contains fields, this parameter specifies which fields to use when sorting.\\"
   ]
  },
  {
   "cell_type": "code",
   "execution_count": 89,
   "id": "d50e088c",
   "metadata": {},
   "outputs": [
    {
     "name": "stdout",
     "output_type": "stream",
     "text": [
      "[[ 5  9 13]\n",
      " [10 12 14]\n",
      " [11 15 19]]\n"
     ]
    }
   ],
   "source": [
    "import numpy as np\n",
    "a = np.array([[5, 9, 13], [14, 10, 12], [11, 15, 19]])\n",
    "print(np.sort(a,axis=1,kind=\"mergesort\"))"
   ]
  },
  {
   "cell_type": "markdown",
   "id": "8a04b914",
   "metadata": {},
   "source": [
    "#### You can use numpy.trace() to calculate the sum of the diagonal elements of a matrix."
   ]
  },
  {
   "cell_type": "code",
   "execution_count": 90,
   "id": "40ea67f8",
   "metadata": {},
   "outputs": [
    {
     "name": "stdout",
     "output_type": "stream",
     "text": [
      "15\n"
     ]
    }
   ],
   "source": [
    "#Example:\n",
    "import numpy as np\n",
    "\n",
    "matrix = np.array([[1, 2, 3],\n",
    "                   [4, 5, 6],\n",
    "                   [7, 8, 9]])\n",
    "\n",
    "trace_value = np.trace(matrix)\n",
    "\n",
    "print(trace_value)\n"
   ]
  },
  {
   "cell_type": "markdown",
   "id": "832543c1",
   "metadata": {},
   "source": [
    "#### numpy.transpose(a, axes=None)"
   ]
  },
  {
   "cell_type": "markdown",
   "id": "7f29d828",
   "metadata": {},
   "source": [
    "It returns a view of the array with axes transposed. The transpose operation essentially swaps the dimensions of the array."
   ]
  },
  {
   "cell_type": "code",
   "execution_count": 91,
   "id": "8242db42",
   "metadata": {},
   "outputs": [
    {
     "name": "stdout",
     "output_type": "stream",
     "text": [
      "Orginal matrix :\n",
      " [[12 23 24]\n",
      " [ 6 20 23]\n",
      " [ 2 19  7]]\n",
      "Transpose of the orgininal matrix :\n",
      " [[12  6  2]\n",
      " [23 20 19]\n",
      " [24 23  7]]\n"
     ]
    }
   ],
   "source": [
    "import numpy as np\n",
    "arr1=np.random.randint(2,25,9)\n",
    "arr1=np.reshape(arr1,(3,3))\n",
    "print(\"Orginal matrix :\\n\", arr1)\n",
    "print(\"Transpose of the orgininal matrix :\\n\", np.transpose(arr1))"
   ]
  },
  {
   "cell_type": "markdown",
   "id": "a815e7df",
   "metadata": {},
   "source": [
    "#### numpy.where(condition, [x, y, ]/)"
   ]
  },
  {
   "cell_type": "markdown",
   "id": "adf09c82",
   "metadata": {},
   "source": [
    "numpy.where() function is used to return the indices of elements in an input array that satisfy a certain condition."
   ]
  },
  {
   "cell_type": "code",
   "execution_count": 92,
   "id": "7f986f71",
   "metadata": {},
   "outputs": [
    {
     "name": "stdout",
     "output_type": "stream",
     "text": [
      "Orginal matrix :\n",
      " [[ 5 23  4]\n",
      " [11 19  4]\n",
      " [11  7  6]]\n",
      "Updated Array : \n",
      " [[ 1  9  1]\n",
      " [14 10  1]\n",
      " [11  1  1]]\n"
     ]
    }
   ],
   "source": [
    "import numpy as np\n",
    "arr1=np.random.randint(2,25,9)\n",
    "arr1=np.reshape(arr1,(3,3))\n",
    "print(\"Orginal matrix :\\n\", arr1)\n",
    "print(f\"Updated Array : \\n\", np.where(arr1 > 10, a, 1 ))"
   ]
  },
  {
   "cell_type": "markdown",
   "id": "1afcef04",
   "metadata": {},
   "source": [
    "Other than these common function, numpy provides hundreds of functions for performing operations on arrays. Here are some commonly used functions:\n",
    "\n",
    "\n",
    "* Mathematics: `np.sum`, `np.exp`, `np.round`, arithemtic operators \n",
    "* Array manipulation: `np.reshape`, `np.stack`, `np.concatenate`, `np.split`\n",
    "* Linear Algebra: `np.matmul`, `np.dot`, `np.transpose`, `np.eigvals`\n",
    "* Statistics: `np.mean`, `np.median`, `np.std`, `np.max`\n",
    "\n",
    "> **How to find the function you need?** The easiest way to find the right function for a specific operation or use-case is to do a web search. For instance, searching for \"How to join numpy arrays\" leads to [this tutorial on array concatenation](https://cmdlinetips.com/2018/04/how-to-concatenate-arrays-in-numpy/). \n",
    "\n",
    "You can find a full list of array functions here: https://numpy.org/doc/stable/reference/routines.html"
   ]
  },
  {
   "cell_type": "markdown",
   "id": "8f94056e",
   "metadata": {},
   "source": [
    "<h2 style=\"color:#eb3477\">Question 3: Create a numpy array form the given list of lists and Replace all the odd numbers in the array with -2</h2>\n",
    "<h3 style=\"color:#eb3477\">List1=[[110,102,183],[40,175,106],[192,40,195]]</h3>"
   ]
  },
  {
   "cell_type": "code",
   "execution_count": 93,
   "id": "ebf0ace6",
   "metadata": {},
   "outputs": [
    {
     "name": "stdout",
     "output_type": "stream",
     "text": [
      "[[110 102 183]\n",
      " [ 40 175 106]\n",
      " [192  40 195]]\n",
      "[[110 102  -2]\n",
      " [ 40  -2 106]\n",
      " [192  40  -2]]\n"
     ]
    }
   ],
   "source": [
    "#Answer\n",
    "import numpy as np\n",
    "List1=[[110,102,183],[40,175,106],[192,40,195]]\n",
    "arr=np.array(List1)\n",
    "print(arr)\n",
    "arr=np.where(arr%2!=0,-2,arr)\n",
    "print(arr)"
   ]
  },
  {
   "cell_type": "markdown",
   "id": "8a55283a",
   "metadata": {},
   "source": [
    "# Array-Oriented Programming With Arrays"
   ]
  },
  {
   "cell_type": "markdown",
   "id": "98764d97",
   "metadata": {},
   "source": [
    "A topic that is better to study after learning use of numpy with panda, matplotlib, seaborn, and other data sciecne library"
   ]
  },
  {
   "cell_type": "markdown",
   "id": "2b001414",
   "metadata": {},
   "source": [
    "# Conditional Logic as Arrays Operations"
   ]
  },
  {
   "cell_type": "markdown",
   "id": "b6208bc8",
   "metadata": {},
   "source": [
    " ## 1. Using np.where():"
   ]
  },
  {
   "cell_type": "code",
   "execution_count": 94,
   "id": "7b78e56b",
   "metadata": {},
   "outputs": [
    {
     "name": "stdout",
     "output_type": "stream",
     "text": [
      "Orginial Array:\n",
      " [[ 9 15  3  3 12]\n",
      " [10 14 14  8 11]\n",
      " [12  8  3 12  9]]\n",
      "New Array:\n",
      " [[9 0 3 3 0]\n",
      " [0 0 0 8 0]\n",
      " [0 8 3 0 9]]\n"
     ]
    }
   ],
   "source": [
    "#Example \n",
    "import numpy as np\n",
    "arr=np.random.randint(2,17,15).reshape(3,5)\n",
    "print(\"Orginial Array:\\n\", arr)\n",
    "new_arr=np.where(arr<10,arr,0)\n",
    "print(\"New Array:\\n\",new_arr)"
   ]
  },
  {
   "cell_type": "markdown",
   "id": "4d34976b",
   "metadata": {},
   "source": [
    "## 2. Using Boolean Indexing:"
   ]
  },
  {
   "cell_type": "code",
   "execution_count": 95,
   "id": "0faaebb0",
   "metadata": {},
   "outputs": [
    {
     "name": "stdout",
     "output_type": "stream",
     "text": [
      "[[110 102 183]\n",
      " [ 40 175 106]\n",
      " [192  40 195]]\n",
      "\n",
      "Element that satisfies condition:\n",
      "\n",
      " [110 102  40 106 192  40]\n"
     ]
    }
   ],
   "source": [
    "import numpy as np\n",
    "List1=[[110,102,183],[40,175,106],[192,40,195]]\n",
    "arr=np.array(List1)\n",
    "print(arr)\n",
    "condition=(arr%2==0)\n",
    "print(\"\\nElement that satisfies condition:\\n\\n\", arr[condition])"
   ]
  },
  {
   "cell_type": "markdown",
   "id": "0ffdb35f",
   "metadata": {},
   "source": [
    "## 3. Applying Multiple Conditions:"
   ]
  },
  {
   "cell_type": "code",
   "execution_count": 96,
   "id": "1af1a878",
   "metadata": {},
   "outputs": [
    {
     "name": "stdout",
     "output_type": "stream",
     "text": [
      "Orginial Array:\n",
      " [[14  5  5  3  9]\n",
      " [ 6  7  6 10  5]\n",
      " [ 2 15  7  3  3]]\n",
      "New Array:\n",
      " [[14  0  0  0  0]\n",
      " [ 0  7  0  0  0]\n",
      " [ 2  0  7  0  0]]\n"
     ]
    }
   ],
   "source": [
    "#Example 1\n",
    "import numpy as np\n",
    "arr=np.random.randint(2,17,15).reshape(3,5)\n",
    "print(\"Orginial Array:\\n\", arr)\n",
    "condition=np.logical_and(arr%3!=0, arr%5!=0)\n",
    "new_arr=np.where(condition,arr,0)\n",
    "print(\"New Array:\\n\",new_arr)"
   ]
  },
  {
   "cell_type": "code",
   "execution_count": 97,
   "id": "b0b9eda2",
   "metadata": {},
   "outputs": [
    {
     "name": "stdout",
     "output_type": "stream",
     "text": [
      "Orginial Array:\n",
      " [[ 4  9 12  5  6]\n",
      " [ 7  7  6  2 13]\n",
      " [12 10 16 13 16]]\n",
      "New Array:\n",
      " [ 4  7  7  2 13 16 13 16]\n"
     ]
    }
   ],
   "source": [
    "#Example 2\n",
    "import numpy as np\n",
    "arr=np.random.randint(2,17,15).reshape(3,5)\n",
    "print(\"Orginial Array:\\n\", arr)\n",
    "condition=np.logical_and(arr%3!=0, arr%5!=0)\n",
    "print(\"New Array:\\n\",arr[condition])"
   ]
  },
  {
   "cell_type": "markdown",
   "id": "ad317982",
   "metadata": {},
   "source": [
    "## 4. Element-wise Comparison:"
   ]
  },
  {
   "cell_type": "markdown",
   "id": "f4dc5589",
   "metadata": {},
   "source": [
    "#### Printing intersection of two arrays"
   ]
  },
  {
   "cell_type": "code",
   "execution_count": 98,
   "id": "02b82887",
   "metadata": {},
   "outputs": [
    {
     "name": "stdout",
     "output_type": "stream",
     "text": [
      "[2 3 4]\n"
     ]
    }
   ],
   "source": [
    "#Example1: printing intersection of two arrays\n",
    "import numpy as np\n",
    "arr1 = np.array([1, 2, 3, 4, 5])\n",
    "arr2 = np.array([2, 2, 3, 4, 4])\n",
    "result = (arr1 == arr2)\n",
    "print(arr1[result])"
   ]
  },
  {
   "cell_type": "markdown",
   "id": "ee932ceb",
   "metadata": {},
   "source": [
    "## 5. Conditional Assignment:"
   ]
  },
  {
   "cell_type": "code",
   "execution_count": 99,
   "id": "e2f96c5f",
   "metadata": {},
   "outputs": [
    {
     "name": "stdout",
     "output_type": "stream",
     "text": [
      "Orginial Array:\n",
      " [[10 10 11  9 11]\n",
      " [14 13 13 15 10]\n",
      " [10  2  5  7 13]]\n",
      "New Array:\n",
      " [10 10 14 10 10  2]\n"
     ]
    }
   ],
   "source": [
    "#Example 2\n",
    "import numpy as np\n",
    "arr=np.random.randint(2,17,15).reshape(3,5)\n",
    "print(\"Orginial Array:\\n\", arr)\n",
    "print(\"New Array:\\n\",arr[arr%2==0])"
   ]
  },
  {
   "cell_type": "markdown",
   "id": "3c52e07c",
   "metadata": {},
   "source": [
    "## 6. Using np.select() for Multiple Conditions:"
   ]
  },
  {
   "cell_type": "markdown",
   "id": "c672d9ce",
   "metadata": {},
   "source": [
    "#### np.select() allows you to choose values from multiple arrays based on multiple conditions."
   ]
  },
  {
   "cell_type": "code",
   "execution_count": 100,
   "id": "4364bfe7",
   "metadata": {},
   "outputs": [
    {
     "name": "stdout",
     "output_type": "stream",
     "text": [
      "[[  4.   9.  16.  25.  36.  49.]\n",
      " [ 64.  81. 100.  11.  12.  13.]\n",
      " [ 14.  15.  16.  17.  18.  19.]]\n"
     ]
    }
   ],
   "source": [
    "#example 1:\n",
    "import numpy as np\n",
    "arr=np.arange(2,20).reshape(3,6)\n",
    "condition=[arr>10,arr%12!=0,arr>5]\n",
    "arrays=[arr,arr**2,arr**1/2]\n",
    "result=np.select(condition,arrays)       #Now, there will be three arrays\n",
    "print(result)"
   ]
  },
  {
   "cell_type": "markdown",
   "id": "f8155926",
   "metadata": {},
   "source": [
    "## 7. Handling NaN Values:"
   ]
  },
  {
   "cell_type": "code",
   "execution_count": 101,
   "id": "0dbbcfad",
   "metadata": {},
   "outputs": [
    {
     "name": "stdout",
     "output_type": "stream",
     "text": [
      "[1. 3. 5.]\n"
     ]
    }
   ],
   "source": [
    "import numpy as np\n",
    "arr = np.array([1.0, np.nan, 3.0, np.nan, 5.0])\n",
    "boolean_index=np.where(np.isnan(arr),False,True)\n",
    "print(arr[boolean_index])"
   ]
  },
  {
   "cell_type": "markdown",
   "id": "7ae2d187",
   "metadata": {},
   "source": [
    "# File Input and Output With Array."
   ]
  },
  {
   "cell_type": "markdown",
   "id": "658bec7d",
   "metadata": {},
   "source": [
    "We can generate an array from a file.To generate data from text file, we can use genfromtxt. The syntax is as follows:"
   ]
  },
  {
   "cell_type": "markdown",
   "id": "a13996b7",
   "metadata": {},
   "source": [
    "numpy.genfromtxt(fname, dtype=float, comments='#', delimiter=None,<br> \n",
    "&emsp;&emsp;&emsp;&emsp;&emsp;&emsp;&emsp;&emsp;skip_header=0, skip_footer=0, converters=None,<br>  \n",
    "&emsp;&emsp;&emsp;&emsp;&emsp;&emsp;&emsp;&emsp;missing_values=None, filling_values=None, usecols=None,<br>  \n",
    "&emsp;&emsp;&emsp;&emsp;&emsp;&emsp;&emsp;&emsp;names=None, excludelist=None, deletechars=None,<br>  \n",
    "&emsp;&emsp;&emsp;&emsp;&emsp;&emsp;&emsp;&emsp;replace_space='_', autostrip=False, case_sensitive=True,<br>  \n",
    "&emsp;&emsp;&emsp;&emsp;&emsp;&emsp;&emsp;&emsp;defaultfmt='f%i', unpack=None, usemask=False, loose=True,<br>  \n",
    "&emsp;&emsp;&emsp;&emsp;&emsp;&emsp;&emsp;&emsp;invalid_raise=True, max_rows=None, encoding='bytes')<br> \n"
   ]
  },
  {
   "cell_type": "markdown",
   "id": "95d3e875",
   "metadata": {},
   "source": [
    "In a nutshell, genfromtxt runs two main loops. The first loop converts each line of the file in a sequence of strings. The second loop converts each string to the appropriate data type. This mechanism is slower than a single loop, but gives more flexibility. In particular, genfromtxt is able to take missing data into account, when other faster and simpler functions like loadtxt cannot."
   ]
  },
  {
   "cell_type": "code",
   "execution_count": 102,
   "id": "ace3d495",
   "metadata": {},
   "outputs": [
    {
     "name": "stdout",
     "output_type": "stream",
     "text": [
      "Anjali Jain\n",
      "Ravi Jain\n",
      "Shubh Jain\n",
      "Sheetal Jain\n",
      "\n",
      "[['Anjali' 'Jain']\n",
      " ['Ravi' 'Jain']\n",
      " ['Shubh' 'Jain']\n",
      " ['Sheetal' 'Jain']]\n"
     ]
    }
   ],
   "source": [
    "#Example\n",
    "import numpy as np\n",
    "from io import StringIO\n",
    "with open(\"file.txt\",\"r\") as f:\n",
    "    data=f.read()\n",
    "    print(data)\n",
    "    arr=np.genfromtxt(StringIO(data), delimiter=\" \", dtype=None,encoding='utf-8')\n",
    "print(arr)"
   ]
  },
  {
   "cell_type": "markdown",
   "id": "4545855b",
   "metadata": {},
   "source": [
    "<h3 style=\"color:green;\">Defining the input</h3>"
   ]
  },
  {
   "cell_type": "markdown",
   "id": "d58fe87b",
   "metadata": {},
   "source": [
    "The only mandatory argument of genfromtxt is the source of the data. It can be a string, a list of strings, a generator or an open file-like object with a read method, for example, a file or io.StringIO object. If a single string is provided, it is assumed to be the name of a local or remote file. If a list of strings or a generator returning strings is provided, each string is treated as one line in a file. When the URL of a remote file is passed, the file is automatically downloaded to the current directory and opened."
   ]
  },
  {
   "cell_type": "code",
   "execution_count": 103,
   "id": "3173311a",
   "metadata": {},
   "outputs": [
    {
     "name": "stdout",
     "output_type": "stream",
     "text": [
      "['Ansh' 'and' 'Aaradhya' 'are' 'two' 'good' 'students' 'of' 'mine']\n"
     ]
    }
   ],
   "source": [
    "#Example\n",
    "import numpy as np\n",
    "from io import StringIO\n",
    "data=\"Ansh and Aaradhya are two good students of mine\"\n",
    "arr=np.genfromtxt(StringIO(data), delimiter=\" \", dtype=None,encoding='utf-8')\n",
    "print(arr)"
   ]
  },
  {
   "cell_type": "markdown",
   "id": "bd17dbb3",
   "metadata": {},
   "source": [
    "<h3 style=\"color:green;\">Splitting the lines into columns</h3>"
   ]
  },
  {
   "cell_type": "markdown",
   "id": "9e6cd240",
   "metadata": {},
   "source": [
    "#### 1. The delimiter argument\n",
    "The delimiter keyword is used to define how the splitting should take place.Quite often, a single character marks the separation between columns. For example, comma-separated files (CSV) use a comma (,) or a semicolon (;) as delimiter:"
   ]
  },
  {
   "cell_type": "code",
   "execution_count": 104,
   "id": "24ed4591",
   "metadata": {},
   "outputs": [
    {
     "name": "stdout",
     "output_type": "stream",
     "text": [
      "[12 13 14 15 16 17]\n"
     ]
    }
   ],
   "source": [
    "#Example\n",
    "import numpy as np\n",
    "from io import StringIO\n",
    "data=\"12,13,14,15,16,17\"\n",
    "arr=np.genfromtxt(StringIO(data), delimiter=\",\", dtype=None,encoding='utf-8')\n",
    "print(arr)"
   ]
  },
  {
   "cell_type": "markdown",
   "id": "9a893552",
   "metadata": {},
   "source": [
    "#### 2. The autostrip argument\n",
    "By default, when a line is decomposed into a series of strings, the individual entries are not stripped of leading nor trailing white spaces. This behavior can be overwritten by setting the optional argument autostrip to a value of True:"
   ]
  },
  {
   "cell_type": "code",
   "execution_count": 105,
   "id": "1a8c22b2",
   "metadata": {},
   "outputs": [
    {
     "name": "stdout",
     "output_type": "stream",
     "text": [
      "Autostripped Result :\n",
      " ['Aastha' 'is' 'also' 'a' 'good' 'students' 'of' 'mine.She' 'is' 'trying'\n",
      " 'to' 'work' 'hard' 'for' 'boards']\n"
     ]
    }
   ],
   "source": [
    "#Example\n",
    "import numpy as np\n",
    "from io import StringIO\n",
    "data=\"    Aastha is also a good students of mine.She is trying to work hard for boards         \"\n",
    "arr=np.genfromtxt(StringIO(data), delimiter=\" \", dtype=None, encoding='utf-8',autostrip=False)\n",
    "print(\"Autostripped Result :\\n\",arr)"
   ]
  },
  {
   "cell_type": "markdown",
   "id": "236151ba",
   "metadata": {},
   "source": [
    "As it can be seen, autostip argument has removed leading and traling whitespaces when it is kept True."
   ]
  },
  {
   "cell_type": "markdown",
   "id": "68f239a3",
   "metadata": {},
   "source": [
    "#### 3. The comments argument"
   ]
  },
  {
   "cell_type": "markdown",
   "id": "6aa4d881",
   "metadata": {},
   "source": [
    "The optional argument comments is used to define a character string that marks the beginning of a comment. By default, genfromtxt assumes comments='#'. Any character present after the comment marker(s) is simply ignored."
   ]
  },
  {
   "cell_type": "code",
   "execution_count": 106,
   "id": "636036ea",
   "metadata": {},
   "outputs": [
    {
     "name": "stdout",
     "output_type": "stream",
     "text": [
      "[[1. 2.]\n",
      " [3. 4.]\n",
      " [5. 6.]\n",
      " [7. 8.]\n",
      " [9. 0.]]\n"
     ]
    }
   ],
   "source": [
    "#Example \n",
    "import numpy as np\n",
    "data = u\"\"\"#This is how comment argument works\n",
    "# Skip me !\n",
    "# Skip me too !\n",
    "1, 2\n",
    "3, 4\n",
    "5, 6 #This is the third line of the data\n",
    "7, 8\n",
    "# And here comes the last line\n",
    "9, 0\n",
    "\"\"\"\n",
    "print(np.genfromtxt(StringIO(data), comments=\"#\", delimiter=\",\"))"
   ]
  },
  {
   "cell_type": "markdown",
   "id": "91421a4c",
   "metadata": {},
   "source": [
    "<h3 style=\"color:green;\">Skipping lines and choosing columns</h3>"
   ]
  },
  {
   "cell_type": "markdown",
   "id": "d0170168",
   "metadata": {},
   "source": [
    "#### 1. The skip_header and skip_footer arguments"
   ]
  },
  {
   "cell_type": "markdown",
   "id": "920da5ff",
   "metadata": {},
   "source": [
    "The presence of a header in the file can hinder data processing. In that case, we need to use the skip_header optional argument. The values of this argument must be an integer which corresponds to the number of lines to skip at the beginning of the file, before any other action is performed. Similarly, we can skip the last n lines of the file by using the skip_footer attribute and giving it a value of n"
   ]
  },
  {
   "cell_type": "code",
   "execution_count": 107,
   "id": "1f192ae1",
   "metadata": {},
   "outputs": [
    {
     "name": "stdout",
     "output_type": "stream",
     "text": [
      "Important insights:\n",
      "#Residual Self-image: It is the mental \n",
      "projection of your digital self\n",
      "\n",
      "#How do you define, what is real?\n",
      "What you can feel, smell, taste, and see is real \n",
      "Then see real is simply electrical signals\n",
      "interpreted by your brain\n",
      "\n",
      "#The world exists only as part of a \n",
      "neural-interactive simulation, that we call \n",
      "the matrix. \n",
      "\n",
      "#The world in 2199 will be a horrible world\n",
      "\n",
      "#We all are now united in celebration. \n",
      "we are marvelled at our own magnificence\n",
      "as we gave birth to AI.\n",
      "\n",
      "#AI: A\n",
      "\n",
      "\n",
      "The obtained string array is: \n",
      "\n",
      " ['projection of your digital self'\n",
      " 'What you can feel, smell, taste, and see is real'\n",
      " 'Then see real is simply electrical signals']\n"
     ]
    }
   ],
   "source": [
    "#Example\n",
    "import numpy as np\n",
    "from io import StringIO\n",
    "with open(\"thematrix.txt\",\"r\") as f:\n",
    "    data=f.read(500)\n",
    "    print(data)\n",
    "    arr=np.genfromtxt(StringIO(data), delimiter=\"\\n\", dtype=None,encoding='utf-8', skip_header=2,skip_footer=5)\n",
    "print(\"\\n\\nThe obtained string array is: \\n\\n\",arr)"
   ]
  },
  {
   "cell_type": "markdown",
   "id": "4d2ca65a",
   "metadata": {},
   "source": [
    "#### 2.The usecols argument"
   ]
  },
  {
   "cell_type": "markdown",
   "id": "2c8ec75a",
   "metadata": {},
   "source": [
    "In some cases, we are not interested in all the columns of the data but only a few of them. We can select which columns to import with the usecols argument. This argument accepts a single integer or a sequence of integers corresponding to the indices of the columns to import. Remember that by convention, the first column has an index of 0. Negative integers behave the same as regular Python negative indexes."
   ]
  },
  {
   "cell_type": "code",
   "execution_count": 108,
   "id": "824d89d5",
   "metadata": {},
   "outputs": [
    {
     "name": "stdout",
     "output_type": "stream",
     "text": [
      "[[1. 3.]\n",
      " [4. 6.]]\n"
     ]
    }
   ],
   "source": [
    "#Example\n",
    "import numpy as np\n",
    "from io import StringIO\n",
    "data = u\"1 2 3\\n4 5 6\"\n",
    "print(np.genfromtxt(StringIO(data), usecols=(0, -1)))"
   ]
  },
  {
   "cell_type": "markdown",
   "id": "2749a473",
   "metadata": {},
   "source": [
    "<h3 style=\"color:green\">Choosing the data type</h3>"
   ]
  },
  {
   "cell_type": "markdown",
   "id": "5d8084ac",
   "metadata": {},
   "source": [
    "The main way to control how the sequences of strings we have read from the file are converted to other types is to set the dtype argument. Acceptable values for this argument are:"
   ]
  },
  {
   "cell_type": "markdown",
   "id": "c80dea20",
   "metadata": {},
   "source": [
    "#### 1. A single type, such as dtype=float. The output will be 2D with the given dtype, unless a name has been associated with each column with the use of the names argument"
   ]
  },
  {
   "cell_type": "code",
   "execution_count": 109,
   "id": "2157dcb8",
   "metadata": {},
   "outputs": [
    {
     "data": {
      "text/plain": [
       "array([(1., 2., 3.), (4., 5., 6.)],\n",
       "      dtype=[('A', '<f8'), ('B', '<f8'), ('C', '<f8')])"
      ]
     },
     "execution_count": 109,
     "metadata": {},
     "output_type": "execute_result"
    }
   ],
   "source": [
    "#example\n",
    "import numpy as np\n",
    "from io import StringIO\n",
    "data = StringIO(\"1 2 3\\n 4 5 6\")\n",
    "np.genfromtxt(data, names=\"A, B, C\")"
   ]
  },
  {
   "cell_type": "markdown",
   "id": "45753b3b",
   "metadata": {},
   "source": [
    "#### 2. A sequence of types, such as dtype=(int, float, float)."
   ]
  },
  {
   "cell_type": "code",
   "execution_count": 110,
   "id": "ed0ca6e4",
   "metadata": {},
   "outputs": [
    {
     "data": {
      "text/plain": [
       "array([(1, 2., 3), (4, 5., 6)],\n",
       "      dtype=[('f0', '<i4'), ('f1', '<f8'), ('f2', '<i4')])"
      ]
     },
     "execution_count": 110,
     "metadata": {},
     "output_type": "execute_result"
    }
   ],
   "source": [
    "#example\n",
    "import numpy as np\n",
    "from io import StringIO\n",
    "data = StringIO(\"1 2 3\\n 4 5 6\")\n",
    "np.genfromtxt(data, dtype=(int, float, int))"
   ]
  },
  {
   "cell_type": "markdown",
   "id": "2b46fa85",
   "metadata": {},
   "source": [
    "#### 3. A comma-separated string, such as dtype=\"i4,f8,|U3\"."
   ]
  },
  {
   "cell_type": "markdown",
   "id": "11e04b3d",
   "metadata": {},
   "source": [
    "#### 4. A dictionary with two keys 'names' and 'formats'."
   ]
  },
  {
   "cell_type": "markdown",
   "id": "98e18e5f",
   "metadata": {},
   "source": [
    "#### 5. A sequence of tuples (name, type), such as dtype=[('A', int), ('B', float)]."
   ]
  },
  {
   "cell_type": "code",
   "execution_count": 111,
   "id": "fe45b10c",
   "metadata": {},
   "outputs": [
    {
     "data": {
      "text/plain": [
       "array([(1, 2., 3), (4, 5., 6)],\n",
       "      dtype=[('A', '<i4'), ('B', '<f8'), ('C', '<i4')])"
      ]
     },
     "execution_count": 111,
     "metadata": {},
     "output_type": "execute_result"
    }
   ],
   "source": [
    "#example\n",
    "import numpy as np\n",
    "from io import StringIO\n",
    "data = StringIO(\"1 2 3\\n 4 5 6\")\n",
    "ndtype=[('a',int), ('b', float), ('c', int)]\n",
    "names = [\"A\", \"B\", \"C\"]\n",
    "np.genfromtxt(data, names=names, dtype=ndtype)"
   ]
  },
  {
   "cell_type": "markdown",
   "id": "292503a8",
   "metadata": {},
   "source": [
    "#### 6. An existing numpy.dtype object."
   ]
  },
  {
   "cell_type": "markdown",
   "id": "48edad34",
   "metadata": {},
   "source": [
    "#### 7. the special value None. In that case, the type of the columns will be determined from the data itself."
   ]
  },
  {
   "cell_type": "markdown",
   "id": "86f22f4a",
   "metadata": {},
   "source": [
    "In all the cases but the first one, the output will be a 1D array with a structured dtype. This dtype has as many fields as items in the sequence. The field names are defined with the names keyword."
   ]
  },
  {
   "cell_type": "markdown",
   "id": "7c572156",
   "metadata": {},
   "source": [
    "# Broadcasting"
   ]
  },
  {
   "cell_type": "markdown",
   "id": "84ba073c",
   "metadata": {},
   "source": [
    "There are times when you might want to carry out an operation between an array and a single number (also called an operation between a vector and a scalar) or between arrays of two different sizes. For example, you have an array that contain height in meter. But if you want to convert the given height into inches, then you can multiply the height value by 39.37.NumPy understands that the multiplication should happen with each cell. That concept is called broadcasting. "
   ]
  },
  {
   "cell_type": "markdown",
   "id": "ce333dbd",
   "metadata": {},
   "source": [
    "Broadcasting is a mechanism that allows NumPy to perform operations on arrays of different shapes. The dimensions of your array must be compatible, for example, when the dimensions of both arrays are equal or when one of them is 1. If the dimensions are not compatible, you will get a ValueError."
   ]
  },
  {
   "cell_type": "code",
   "execution_count": 112,
   "id": "5071c39c",
   "metadata": {},
   "outputs": [
    {
     "name": "stdout",
     "output_type": "stream",
     "text": [
      "[1.2 1.4 1.5 1.6]\n",
      "[47.244 55.118 59.055 62.992]\n"
     ]
    }
   ],
   "source": [
    "#Example:\n",
    "import numpy as np\n",
    "heights=np.array([1.2,1.4,1.5,1.6])\n",
    "print(heights)\n",
    "convert_into_inches=heights*39.37\n",
    "print(convert_into_inches)"
   ]
  },
  {
   "cell_type": "code",
   "execution_count": 199,
   "id": "56a471b2",
   "metadata": {},
   "outputs": [
    {
     "name": "stdout",
     "output_type": "stream",
     "text": [
      "[[11  7 11  8 11]\n",
      " [ 2 12  7  7  2]\n",
      " [10  8  6  8  1]]\n",
      "\n",
      "[2 3 4 5 6]\n",
      "\n",
      "[[13 10 15 13 17]\n",
      " [ 4 15 11 12  8]\n",
      " [12 11 10 13  7]]\n"
     ]
    }
   ],
   "source": [
    "arr4=np.random.randint(1,16,15).reshape(3,5)\n",
    "arr5=np.arange(2,7)\n",
    "print(arr4,arr5,arr4+arr5,sep=\"\\n\\n\")"
   ]
  },
  {
   "cell_type": "markdown",
   "id": "e67b4b90",
   "metadata": {},
   "source": [
    "Since ,the size of arr5 is not compatible with size of arr4, it replicates its rows to match the shape"
   ]
  },
  {
   "cell_type": "markdown",
   "id": "ef4c6bdd",
   "metadata": {},
   "source": [
    "When the expression `arr4 + arr5` is evaluated, `arr5` (which has the shape `(5,)`) is replicated three times to match the shape `(3, 5)` of `arr4`. Numpy performs the replication without actually creating three copies of the smaller dimension array, thus improving performance and using lower memory.\n",
    "\n",
    "<img src=\"https://jakevdp.github.io/PythonDataScienceHandbook/figures/02.05-broadcasting.png\" width=\"360\">"
   ]
  },
  {
   "cell_type": "markdown",
   "id": "1f0ff3bb",
   "metadata": {},
   "source": [
    "#### Note: Broadcasting only works if one of the arrays can be replicated to match the other array's shape else ti will be give an error"
   ]
  },
  {
   "cell_type": "code",
   "execution_count": 201,
   "id": "2405be3b",
   "metadata": {},
   "outputs": [
    {
     "ename": "ValueError",
     "evalue": "operands could not be broadcast together with shapes (3,5) (3,2) ",
     "output_type": "error",
     "traceback": [
      "\u001b[1;31m---------------------------------------------------------------------------\u001b[0m",
      "\u001b[1;31mValueError\u001b[0m                                Traceback (most recent call last)",
      "Cell \u001b[1;32mIn[201], line 5\u001b[0m\n\u001b[0;32m      1\u001b[0m \u001b[38;5;66;03m#Example \u001b[39;00m\n\u001b[0;32m      2\u001b[0m arr6 \u001b[38;5;241m=\u001b[39m np\u001b[38;5;241m.\u001b[39marray([[\u001b[38;5;241m7\u001b[39m,\u001b[38;5;241m8\u001b[39m],\n\u001b[0;32m      3\u001b[0m                  [\u001b[38;5;241m9\u001b[39m,\u001b[38;5;241m10\u001b[39m],\n\u001b[0;32m      4\u001b[0m                  [\u001b[38;5;241m11\u001b[39m,\u001b[38;5;241m12\u001b[39m]])\n\u001b[1;32m----> 5\u001b[0m arr4\u001b[38;5;241m+\u001b[39marr6\n",
      "\u001b[1;31mValueError\u001b[0m: operands could not be broadcast together with shapes (3,5) (3,2) "
     ]
    }
   ],
   "source": [
    "#Example \n",
    "arr6 = np.array([[7,8],\n",
    "                 [9,10],\n",
    "                 [11,12]])\n",
    "arr4+arr6"
   ]
  },
  {
   "cell_type": "markdown",
   "id": "6d9fbe61",
   "metadata": {},
   "source": [
    "# View vs Copy"
   ]
  },
  {
   "cell_type": "markdown",
   "id": "e440a44b",
   "metadata": {},
   "source": [
    "### 1. numpy.ndarray.view"
   ]
  },
  {
   "cell_type": "markdown",
   "id": "73419059",
   "metadata": {},
   "source": [
    "#### method\n",
    "&emsp;&emsp;ndarray.view([dtype][, type])"
   ]
  },
  {
   "cell_type": "code",
   "execution_count": 113,
   "id": "73adde2a",
   "metadata": {},
   "outputs": [
    {
     "name": "stdout",
     "output_type": "stream",
     "text": [
      "Array :  [2 3 4 5 6 7 8 9]\n",
      "Array View :  [2 3 4 5 6 7 8 9]\n"
     ]
    }
   ],
   "source": [
    "#example \n",
    "import numpy as np\n",
    "arr=np.arange(2,10)\n",
    "arr_view=arr.view()\n",
    "print(\"Array : \",arr)\n",
    "print(\"Array View : \",arr_view)"
   ]
  },
  {
   "cell_type": "markdown",
   "id": "fe8d3f1f",
   "metadata": {},
   "source": [
    "#### Important Point\n",
    "✦ Any changes made on view will reflect on original array.\\\n",
    "✦ View doesn't own array data. It creats a view with same data type."
   ]
  },
  {
   "cell_type": "code",
   "execution_count": 114,
   "id": "d420c19c",
   "metadata": {},
   "outputs": [
    {
     "name": "stdout",
     "output_type": "stream",
     "text": [
      "Array :  [  2   3   4   5 100   7   8   9]\n",
      "Array View :  [  2   3   4   5 100   7   8   9]\n"
     ]
    }
   ],
   "source": [
    "#Example \n",
    "import numpy as np\n",
    "arr=np.arange(2,10)\n",
    "arr_view=arr.view()\n",
    "arr_view[4]=100\n",
    "print(\"Array : \",arr)\n",
    "print(\"Array View : \",arr_view)"
   ]
  },
  {
   "cell_type": "markdown",
   "id": "0c653dd1",
   "metadata": {},
   "source": [
    "#### 2. numpy.ndarray.copy"
   ]
  },
  {
   "cell_type": "markdown",
   "id": "4e5c471d",
   "metadata": {},
   "source": [
    "#### method\n",
    "&emsp;&emsp;&emsp;ndarray.copy(order='C')"
   ]
  },
  {
   "cell_type": "markdown",
   "id": "a68c5e7e",
   "metadata": {},
   "source": [
    "It Return a copy of the array.\\\n",
    "Parameters order{‘C’, ‘F’, ‘A’, ‘K’} is optional."
   ]
  },
  {
   "cell_type": "code",
   "execution_count": 115,
   "id": "abd140ba",
   "metadata": {},
   "outputs": [
    {
     "name": "stdout",
     "output_type": "stream",
     "text": [
      "Array :  [2 3 4 5 6 7 8 9]\n",
      "Copied Array :  [2 3 4 5 6 7 8 9]\n"
     ]
    }
   ],
   "source": [
    "#Example\n",
    "import numpy as np\n",
    "arr=np.arange(2,10)\n",
    "arr_view=arr.copy()\n",
    "print(\"Array : \",arr)\n",
    "print(\"Copied Array : \",arr_view)"
   ]
  },
  {
   "cell_type": "markdown",
   "id": "68e28d71",
   "metadata": {},
   "source": [
    "#### Important Point\n",
    "✦ Any changes made on copied array will not reflect on original array.\\\n",
    "✦ Copied array owns a copy of original array. It creats a copy in a separate memory location."
   ]
  },
  {
   "cell_type": "code",
   "execution_count": 116,
   "id": "c628b0b2",
   "metadata": {},
   "outputs": [
    {
     "name": "stdout",
     "output_type": "stream",
     "text": [
      "Array :  [2 3 4 5 6 7 8 9]\n",
      "Copied Array after changing a value : \n",
      " [  2   3   4   5   6 100   8   9]\n"
     ]
    }
   ],
   "source": [
    "#Example \n",
    "import numpy as np\n",
    "arr=np.arange(2,10)\n",
    "arr_view=arr.copy()\n",
    "arr_view[5]=100\n",
    "print(\"Array : \",arr)\n",
    "print(\"Copied Array after changing a value : \\n\",arr_view)"
   ]
  },
  {
   "cell_type": "markdown",
   "id": "cf844398",
   "metadata": {},
   "source": [
    "# Joining and Stacking Arrays"
   ]
  },
  {
   "cell_type": "markdown",
   "id": "a4373cc5",
   "metadata": {},
   "source": [
    "### 1.  concatenate()"
   ]
  },
  {
   "cell_type": "code",
   "execution_count": 117,
   "id": "e5b1c638",
   "metadata": {},
   "outputs": [
    {
     "name": "stdout",
     "output_type": "stream",
     "text": [
      "[[ 2  3  4]\n",
      " [ 5  6  7]\n",
      " [ 8  9 10]]\n",
      "\n",
      "[[11 12 13]\n",
      " [14 15 16]\n",
      " [17 18 19]]\n",
      "\n",
      "[[ 2  3  4]\n",
      " [ 5  6  7]\n",
      " [ 8  9 10]\n",
      " [11 12 13]\n",
      " [14 15 16]\n",
      " [17 18 19]]\n",
      "\n",
      "Shape :  (6, 3)\n"
     ]
    }
   ],
   "source": [
    "#Example: Without specifying any axis\n",
    "import numpy as np\n",
    "arr1=np.arange(2,11).reshape(3,3)\n",
    "arr2=np.arange(11,20).reshape(3,3)\n",
    "arr_new=np.concatenate((arr1,arr2))\n",
    "print(arr1,end=\"\\n\\n\")\n",
    "print(arr2,end=\"\\n\\n\")\n",
    "print(arr_new,end=\"\\n\\n\")\n",
    "print(\"Shape : \", arr_new.shape)"
   ]
  },
  {
   "cell_type": "code",
   "execution_count": 118,
   "id": "e69cc4e0",
   "metadata": {},
   "outputs": [
    {
     "name": "stdout",
     "output_type": "stream",
     "text": [
      "[[ 2  3  4]\n",
      " [ 5  6  7]\n",
      " [ 8  9 10]]\n",
      "\n",
      "[[11 12 13]\n",
      " [14 15 16]\n",
      " [17 18 19]]\n",
      "\n",
      "[[ 2  3  4 11 12 13]\n",
      " [ 5  6  7 14 15 16]\n",
      " [ 8  9 10 17 18 19]]\n",
      "\n"
     ]
    }
   ],
   "source": [
    "#Example: with specifying axis\n",
    "import numpy as np\n",
    "arr1=np.arange(2,11).reshape(3,3)\n",
    "arr2=np.arange(11,20).reshape(3,3)\n",
    "arr_new=np.concatenate((arr1,arr2), axis=1)\n",
    "print(arr1,end=\"\\n\\n\")\n",
    "print(arr2,end=\"\\n\\n\")\n",
    "print(arr_new,end=\"\\n\\n\")"
   ]
  },
  {
   "cell_type": "markdown",
   "id": "4816cebc",
   "metadata": {},
   "source": [
    "### 2. stack function"
   ]
  },
  {
   "cell_type": "code",
   "execution_count": 119,
   "id": "6ac2fbab",
   "metadata": {},
   "outputs": [
    {
     "name": "stdout",
     "output_type": "stream",
     "text": [
      "[[ 2  3  4]\n",
      " [ 5  6  7]\n",
      " [ 8  9 10]]\n",
      "\n",
      "[[11 12 13]\n",
      " [14 15 16]\n",
      " [17 18 19]]\n",
      "\n",
      "[[[ 2  3  4]\n",
      "  [ 5  6  7]\n",
      "  [ 8  9 10]]\n",
      "\n",
      " [[11 12 13]\n",
      "  [14 15 16]\n",
      "  [17 18 19]]]\n",
      "\n",
      "Shape :  (2, 3, 3)\n"
     ]
    }
   ],
   "source": [
    "#Example: Without specifying any axis\n",
    "import numpy as np\n",
    "arr1=np.arange(2,11).reshape(3,3)\n",
    "arr2=np.arange(11,20).reshape(3,3)\n",
    "arr_new=np.stack((arr1,arr2))\n",
    "print(arr1,end=\"\\n\\n\")\n",
    "print(arr2,end=\"\\n\\n\")\n",
    "print(arr_new,end=\"\\n\\n\")\n",
    "print(\"Shape : \",arr_new.shape)"
   ]
  },
  {
   "cell_type": "code",
   "execution_count": 120,
   "id": "9cd7de9e",
   "metadata": {},
   "outputs": [
    {
     "name": "stdout",
     "output_type": "stream",
     "text": [
      "[[ 2  3  4]\n",
      " [ 5  6  7]\n",
      " [ 8  9 10]]\n",
      "\n",
      "[[11 12 13]\n",
      " [14 15 16]\n",
      " [17 18 19]]\n",
      "\n",
      "[[[ 2  3  4]\n",
      "  [11 12 13]]\n",
      "\n",
      " [[ 5  6  7]\n",
      "  [14 15 16]]\n",
      "\n",
      " [[ 8  9 10]\n",
      "  [17 18 19]]]\n",
      "\n",
      "Shape :  (3, 2, 3)\n"
     ]
    }
   ],
   "source": [
    "#Example: Without specifying any axis\n",
    "import numpy as np\n",
    "arr1=np.arange(2,11).reshape(3,3)\n",
    "arr2=np.arange(11,20).reshape(3,3)\n",
    "arr_new=np.stack((arr1,arr2), axis=1)\n",
    "print(arr1,end=\"\\n\\n\")\n",
    "print(arr2,end=\"\\n\\n\")\n",
    "print(arr_new,end=\"\\n\\n\")\n",
    "print(\"Shape : \",arr_new.shape)"
   ]
  },
  {
   "cell_type": "markdown",
   "id": "f99dac59",
   "metadata": {},
   "source": [
    "### Other varities of stack function"
   ]
  },
  {
   "cell_type": "code",
   "execution_count": 121,
   "id": "85351328",
   "metadata": {},
   "outputs": [
    {
     "name": "stdout",
     "output_type": "stream",
     "text": [
      "[[ 2  3  4]\n",
      " [ 5  6  7]\n",
      " [ 8  9 10]]\n",
      "\n",
      "[[11 12 13]\n",
      " [14 15 16]\n",
      " [17 18 19]]\n",
      "\n",
      "[[ 2  3  4 11 12 13]\n",
      " [ 5  6  7 14 15 16]\n",
      " [ 8  9 10 17 18 19]]\n",
      "\n",
      "Shape :  (3, 6)\n"
     ]
    }
   ],
   "source": [
    "#Example1: hstack \n",
    "import numpy as np\n",
    "arr1=np.arange(2,11).reshape(3,3)\n",
    "arr2=np.arange(11,20).reshape(3,3)\n",
    "arr_new=np.hstack((arr1,arr2))\n",
    "print(arr1,end=\"\\n\\n\")\n",
    "print(arr2,end=\"\\n\\n\")\n",
    "print(arr_new,end=\"\\n\\n\")\n",
    "print(\"Shape : \",arr_new.shape)"
   ]
  },
  {
   "cell_type": "code",
   "execution_count": 122,
   "id": "e79ad267",
   "metadata": {},
   "outputs": [
    {
     "name": "stdout",
     "output_type": "stream",
     "text": [
      "[[ 2  3  4]\n",
      " [ 5  6  7]\n",
      " [ 8  9 10]]\n",
      "\n",
      "[[11 12 13]\n",
      " [14 15 16]\n",
      " [17 18 19]]\n",
      "\n",
      "[[ 2  3  4]\n",
      " [ 5  6  7]\n",
      " [ 8  9 10]\n",
      " [11 12 13]\n",
      " [14 15 16]\n",
      " [17 18 19]]\n",
      "\n",
      "Shape :  (6, 3)\n"
     ]
    }
   ],
   "source": [
    "#Example2: vstack \n",
    "import numpy as np\n",
    "arr1=np.arange(2,11).reshape(3,3)\n",
    "arr2=np.arange(11,20).reshape(3,3)\n",
    "arr_new=np.vstack((arr1,arr2))\n",
    "print(arr1,end=\"\\n\\n\")\n",
    "print(arr2,end=\"\\n\\n\")\n",
    "print(arr_new,end=\"\\n\\n\")\n",
    "print(\"Shape : \",arr_new.shape)"
   ]
  },
  {
   "cell_type": "code",
   "execution_count": 123,
   "id": "cbe49d3f",
   "metadata": {},
   "outputs": [
    {
     "name": "stdout",
     "output_type": "stream",
     "text": [
      "[[ 2  3  4]\n",
      " [ 5  6  7]\n",
      " [ 8  9 10]]\n",
      "\n",
      "[[11 12 13]\n",
      " [14 15 16]\n",
      " [17 18 19]]\n",
      "\n",
      "[[[ 2 11]\n",
      "  [ 3 12]\n",
      "  [ 4 13]]\n",
      "\n",
      " [[ 5 14]\n",
      "  [ 6 15]\n",
      "  [ 7 16]]\n",
      "\n",
      " [[ 8 17]\n",
      "  [ 9 18]\n",
      "  [10 19]]]\n",
      "\n",
      "Shape :  (3, 3, 2)\n"
     ]
    }
   ],
   "source": [
    "#Example3: dstack \n",
    "import numpy as np\n",
    "arr1=np.arange(2,11).reshape(3,3)\n",
    "arr2=np.arange(11,20).reshape(3,3)\n",
    "arr_new=np.dstack((arr1,arr2))\n",
    "print(arr1,end=\"\\n\\n\")\n",
    "print(arr2,end=\"\\n\\n\")\n",
    "print(arr_new,end=\"\\n\\n\")\n",
    "print(\"Shape : \",arr_new.shape)"
   ]
  },
  {
   "cell_type": "markdown",
   "id": "32e5480d",
   "metadata": {},
   "source": [
    "# Spliting an Array"
   ]
  },
  {
   "cell_type": "code",
   "execution_count": 124,
   "id": "8e06ad1b",
   "metadata": {},
   "outputs": [
    {
     "name": "stdout",
     "output_type": "stream",
     "text": [
      "Original Array : \n",
      "\n",
      " [ 2  3  4  5  6  7  8  9 10]\n",
      "\n",
      "Splitted List of Arrays : \n",
      "\n",
      " [array([2, 3, 4]), array([5, 6, 7]), array([ 8,  9, 10])]\n",
      "[2 3 4]\n",
      "[5 6 7]\n",
      "[ 8  9 10]\n"
     ]
    }
   ],
   "source": [
    "#Example1:\n",
    "import numpy as np\n",
    "arr1=np.arange(2,11)\n",
    "print(\"Original Array : \\n\\n\",arr1)\n",
    "ar=np.array_split(arr1,3)\n",
    "print(\"\\nSplitted List of Arrays : \\n\\n\",ar)\n",
    "for i in ar:\n",
    "    print(i)"
   ]
  },
  {
   "cell_type": "code",
   "execution_count": 125,
   "id": "87076ebd",
   "metadata": {},
   "outputs": [
    {
     "name": "stdout",
     "output_type": "stream",
     "text": [
      "Original Array : \n",
      "\n",
      " [[ 2  3  4]\n",
      " [ 5  6  7]\n",
      " [ 8  9 10]]\n",
      "\n",
      "Splitted List of Arrays : \n",
      "\n",
      " [array([[2],\n",
      "       [5],\n",
      "       [8]]), array([[3],\n",
      "       [6],\n",
      "       [9]]), array([[ 4],\n",
      "       [ 7],\n",
      "       [10]])]\n",
      "[[2]\n",
      " [5]\n",
      " [8]]\n",
      "[[3]\n",
      " [6]\n",
      " [9]]\n",
      "[[ 4]\n",
      " [ 7]\n",
      " [10]]\n"
     ]
    }
   ],
   "source": [
    "#Example2:\n",
    "import numpy as np\n",
    "arr1=np.arange(2,11).reshape(3,3)\n",
    "print(\"Original Array : \\n\\n\",arr1)\n",
    "ar=np.array_split(arr1,3,axis=1)\n",
    "print(\"\\nSplitted List of Arrays : \\n\\n\",ar)\n",
    "for i in ar:\n",
    "    print(i)"
   ]
  },
  {
   "cell_type": "markdown",
   "id": "09065cc2",
   "metadata": {},
   "source": [
    "# Frequently used array functions: shuffle, Unique, resize, flatten, ravel"
   ]
  },
  {
   "cell_type": "markdown",
   "id": "e2fa1213",
   "metadata": {},
   "source": [
    "### 1. Shuffle"
   ]
  },
  {
   "cell_type": "code",
   "execution_count": 126,
   "id": "9b766218",
   "metadata": {},
   "outputs": [
    {
     "name": "stdout",
     "output_type": "stream",
     "text": [
      "Original Array : \n",
      "\n",
      " [[ 2  3  4]\n",
      " [ 5  6  7]\n",
      " [ 8  9 10]]\n",
      "\n",
      "Shuffled Array: \n",
      "\n",
      " [[ 2  3  4]\n",
      " [ 5  6  7]\n",
      " [ 8  9 10]]\n"
     ]
    }
   ],
   "source": [
    "#Example1:\n",
    "import numpy as np\n",
    "arr1=np.arange(2,11).reshape(3,3)\n",
    "print(\"Original Array : \\n\\n\",arr1)\n",
    "np.random.shuffle(arr1)\n",
    "print(\"\\nShuffled Array: \\n\\n\",arr1)"
   ]
  },
  {
   "cell_type": "markdown",
   "id": "bdec0cd2",
   "metadata": {},
   "source": [
    "### 2. Unique"
   ]
  },
  {
   "cell_type": "code",
   "execution_count": 127,
   "id": "f0ba02cc",
   "metadata": {},
   "outputs": [
    {
     "name": "stdout",
     "output_type": "stream",
     "text": [
      "Array :  [2 4 4 2 3 3 4 4 2 2 2 3 3 3 2]\n",
      "2 occurs : 6 times\n",
      "3 occurs : 5 times\n",
      "4 occurs : 4 times\n"
     ]
    }
   ],
   "source": [
    "#Example\n",
    "import numpy as np\n",
    "data=np.random.randint(2,5,15)\n",
    "print(\"Array : \", data)\n",
    "element, occurrence = np.unique(data, return_counts=True)\n",
    "dict_of_occ=dict(zip(element, occurrence))\n",
    "for i, j in dict_of_occ.items():\n",
    "    print(f\"{i} occurs : {j} times\")"
   ]
  },
  {
   "cell_type": "markdown",
   "id": "24e0f2b7",
   "metadata": {},
   "source": [
    "### 3. Resize"
   ]
  },
  {
   "cell_type": "code",
   "execution_count": 128,
   "id": "f3f669fc",
   "metadata": {},
   "outputs": [
    {
     "name": "stdout",
     "output_type": "stream",
     "text": [
      "Array :  [3 2 3 7 3 6 5 9 2 6 4 4 5 8 8]\n",
      "Resized Array : \n",
      " [[3 2 3 7 3]\n",
      " [6 5 9 2 6]\n",
      " [4 4 5 8 8]]\n"
     ]
    }
   ],
   "source": [
    "import numpy as np\n",
    "data=np.random.randint(2,10,15)\n",
    "print(\"Array : \", data)\n",
    "var=np.resize(data, (3,5))\n",
    "print(\"Resized Array : \\n\", var)"
   ]
  },
  {
   "cell_type": "markdown",
   "id": "e82eae37",
   "metadata": {},
   "source": [
    "### 4. Flatten \n",
    "method<br>\n",
    "&emsp;&emsp;&emsp;ndarray.flatten(order='C')<br>\n",
    "It Returns a copy of the array collapsed into one dimension."
   ]
  },
  {
   "cell_type": "markdown",
   "id": "65447dc7",
   "metadata": {},
   "source": [
    "#### Parameters: order{‘C’, ‘F’, ‘A’, ‘K’}, optional<br>\n",
    "‘C’ means to flatten in row-major (C-style) order. ‘F’ means to flatten in column-major (Fortran- style) order. ‘A’ means to flatten in column-major order if a is Fortran contiguous in memory, row-major order otherwise. ‘K’ means to flatten a in the order the elements occur in memory. The default is ‘C’."
   ]
  },
  {
   "cell_type": "code",
   "execution_count": 129,
   "id": "9294bd88",
   "metadata": {},
   "outputs": [
    {
     "name": "stdout",
     "output_type": "stream",
     "text": [
      "Array :  [[7 5 6 6 9]\n",
      " [9 5 4 4 7]\n",
      " [5 6 8 6 9]]\n",
      "Flattened Array : \n",
      " [7 5 6 6 9 9 5 4 4 7 5 6 8 6 9]\n",
      "Array :  [[7 5 6 6 9]\n",
      " [9 5 4 4 7]\n",
      " [5 6 8 6 9]]\n",
      "Flattened Array : \n",
      " [7 9 5 5 5 6 6 4 8 6 4 6 9 7 9]\n",
      "Array :  [[7 5 6 6 9]\n",
      " [9 5 4 4 7]\n",
      " [5 6 8 6 9]]\n",
      "Flattened Array : \n",
      " [7 5 6 6 9 9 5 4 4 7 5 6 8 6 9]\n",
      "Array :  [[7 5 6 6 9]\n",
      " [9 5 4 4 7]\n",
      " [5 6 8 6 9]]\n",
      "Flattened Array : \n",
      " [7 5 6 6 9 9 5 4 4 7 5 6 8 6 9]\n"
     ]
    }
   ],
   "source": [
    "import numpy as np\n",
    "data=np.random.randint(2,10,15).reshape(3,5)\n",
    "print(\"Array : \", data)\n",
    "print(\"Flattened Array : \\n\", data.flatten())\n",
    "print(\"Array : \", data)\n",
    "print(\"Flattened Array : \\n\", data.flatten(order=\"F\"))\n",
    "print(\"Array : \", data)\n",
    "print(\"Flattened Array : \\n\", data.flatten(order=\"A\"))\n",
    "print(\"Array : \", data)\n",
    "print(\"Flattened Array : \\n\", data.flatten(order=\"K\"))"
   ]
  },
  {
   "cell_type": "markdown",
   "id": "7f90c5e5",
   "metadata": {},
   "source": [
    "### 5. Ravel"
   ]
  },
  {
   "cell_type": "markdown",
   "id": "c54a9e9c",
   "metadata": {},
   "source": [
    "#### method\n",
    "&emsp;&emsp;&emsp;&emsp; numpy.ravel(a, order='C')"
   ]
  },
  {
   "cell_type": "markdown",
   "id": "ea1cd3c5",
   "metadata": {},
   "source": [
    "A 1-D array, containing the elements of the input, is returned. A copy is made only if needed."
   ]
  },
  {
   "cell_type": "code",
   "execution_count": 130,
   "id": "d3b76be5",
   "metadata": {},
   "outputs": [
    {
     "name": "stdout",
     "output_type": "stream",
     "text": [
      "Array :  [[8 8 3 9 6]\n",
      " [7 9 9 5 4]\n",
      " [5 7 9 4 9]]\n",
      "Flattened Array : \n",
      " [8 8 3 9 6 7 9 9 5 4 5 7 9 4 9]\n",
      "Array :  [[8 8 3 9 6]\n",
      " [7 9 9 5 4]\n",
      " [5 7 9 4 9]]\n",
      "Flattened Array : \n",
      " [8 7 5 8 9 7 3 9 9 9 5 4 6 4 9]\n",
      "Array :  [[8 8 3 9 6]\n",
      " [7 9 9 5 4]\n",
      " [5 7 9 4 9]]\n",
      "Flattened Array : \n",
      " [8 8 3 9 6 7 9 9 5 4 5 7 9 4 9]\n",
      "Array :  [[8 8 3 9 6]\n",
      " [7 9 9 5 4]\n",
      " [5 7 9 4 9]]\n",
      "Flattened Array : \n",
      " [8 8 3 9 6 7 9 9 5 4 5 7 9 4 9]\n"
     ]
    }
   ],
   "source": [
    "import numpy as np\n",
    "data=np.random.randint(2,10,15).reshape(3,5)\n",
    "print(\"Array : \", data)\n",
    "print(\"Flattened Array : \\n\", np.ravel(data))\n",
    "print(\"Array : \", data)\n",
    "print(\"Flattened Array : \\n\", np.ravel(data,order=\"F\"))\n",
    "print(\"Array : \", data)\n",
    "print(\"Flattened Array : \\n\", np.ravel(data,order=\"K\"))\n",
    "print(\"Array : \", data)\n",
    "print(\"Flattened Array : \\n\", np.ravel(data,order=\"A\"))"
   ]
  },
  {
   "cell_type": "markdown",
   "id": "e03527d0",
   "metadata": {},
   "source": [
    "# Transpose, Swapaxes, Inverse, Power, and Determinant of a Matrix using Numpy\n",
    "Numpy library provides us a function to create a matrix as well as functions to find its transpose, inverse, determinant, etc. Let's see how they work"
   ]
  },
  {
   "cell_type": "markdown",
   "id": "7debe08b",
   "metadata": {},
   "source": [
    "## 1. Transpose"
   ]
  },
  {
   "cell_type": "code",
   "execution_count": 131,
   "id": "e8eaafeb",
   "metadata": {},
   "outputs": [
    {
     "name": "stdout",
     "output_type": "stream",
     "text": [
      "Original Matrix : \n",
      " [[1 2]\n",
      " [3 4]]\n",
      "Transpose Matrix : \n",
      " [[1 3]\n",
      " [2 4]]\n"
     ]
    }
   ],
   "source": [
    "#Example \n",
    "import numpy as np\n",
    "m=np.matrix([[1,2],[3,4]])\n",
    "print(\"Original Matrix : \\n\", m)\n",
    "transpose=np.transpose(m)\n",
    "print(\"Transpose Matrix : \\n\", transpose)"
   ]
  },
  {
   "cell_type": "markdown",
   "id": "24c27303",
   "metadata": {},
   "source": [
    "## 2.Swapaxes"
   ]
  },
  {
   "cell_type": "code",
   "execution_count": 132,
   "id": "3d836166",
   "metadata": {},
   "outputs": [
    {
     "name": "stdout",
     "output_type": "stream",
     "text": [
      "Original Matrix : \n",
      " [[1 2]\n",
      " [3 4]]\n",
      "New Matrix : \n",
      " [[1 3]\n",
      " [2 4]]\n"
     ]
    }
   ],
   "source": [
    "#Example \n",
    "import numpy as np\n",
    "m=np.matrix([[1,2],[3,4]])\n",
    "print(\"Original Matrix : \\n\", m)\n",
    "new_m=np.swapaxes(m,0,1)\n",
    "print(\"New Matrix : \\n\", new_m)"
   ]
  },
  {
   "cell_type": "markdown",
   "id": "5162da4c",
   "metadata": {},
   "source": [
    "## 3.Inverse"
   ]
  },
  {
   "cell_type": "markdown",
   "id": "735ad9be",
   "metadata": {},
   "source": [
    "### numpy.linalg.inv"
   ]
  },
  {
   "cell_type": "markdown",
   "id": "0c870b20",
   "metadata": {},
   "source": [
    "linalg.inv(a) computes the (multiplicative) inverse of a matrix."
   ]
  },
  {
   "cell_type": "code",
   "execution_count": 133,
   "id": "0601d819",
   "metadata": {},
   "outputs": [
    {
     "name": "stdout",
     "output_type": "stream",
     "text": [
      "Original Matrix : \n",
      " [[1 2]\n",
      " [3 4]]\n",
      "Multiplicative inverse matrix : \n",
      " [[-2.   1. ]\n",
      " [ 1.5 -0.5]]\n"
     ]
    }
   ],
   "source": [
    "#Example: \n",
    "#Example \n",
    "import numpy as np\n",
    "m=np.matrix([[1,2],[3,4]])\n",
    "print(\"Original Matrix : \\n\", m)\n",
    "inv_mat=np.linalg.inv(m)\n",
    "print(\"Multiplicative inverse matrix : \\n\", inv_mat)"
   ]
  },
  {
   "cell_type": "markdown",
   "id": "b2dadec0",
   "metadata": {},
   "source": [
    "## 4. numpy.linalg.matrix_power"
   ]
  },
  {
   "cell_type": "markdown",
   "id": "02fc933d",
   "metadata": {},
   "source": [
    "linalg.matrix_power(a, n) Raises a square matrix to the (integer) power n."
   ]
  },
  {
   "cell_type": "code",
   "execution_count": 134,
   "id": "5610491e",
   "metadata": {},
   "outputs": [
    {
     "name": "stdout",
     "output_type": "stream",
     "text": [
      "Original Matrix : \n",
      " [[1 2]\n",
      " [3 4]]\n",
      "Matrix raised to the power 2 : \n",
      " [[ 7 10]\n",
      " [15 22]]\n"
     ]
    }
   ],
   "source": [
    "#Example \n",
    "import numpy as np\n",
    "m=np.matrix([[1,2],[3,4]])\n",
    "print(\"Original Matrix : \\n\", m)\n",
    "mp2=np.linalg.matrix_power(m,2)\n",
    "print(\"Matrix raised to the power 2 : \\n\", mp2)"
   ]
  },
  {
   "cell_type": "markdown",
   "id": "5139cbc4",
   "metadata": {},
   "source": [
    "# 5. numpy.linalg.det"
   ]
  },
  {
   "cell_type": "markdown",
   "id": "4ae5c9a2",
   "metadata": {},
   "source": [
    "linalg.det(a) computes the determinant of an array"
   ]
  },
  {
   "cell_type": "code",
   "execution_count": 135,
   "id": "e5931282",
   "metadata": {},
   "outputs": [
    {
     "name": "stdout",
     "output_type": "stream",
     "text": [
      "Original Matrix : \n",
      " [[1 2]\n",
      " [3 4]]\n",
      "Determinant of a matrix : \n",
      " -2.00\n"
     ]
    }
   ],
   "source": [
    "#Example \n",
    "import numpy as np\n",
    "m=np.matrix([[1,2],[3,4]])\n",
    "print(\"Original Matrix : \\n\", m)\n",
    "det=np.linalg.det(m)\n",
    "print(\"Determinant of a matrix : \\n\",format(det,\".2f\"))"
   ]
  },
  {
   "cell_type": "code",
   "execution_count": 136,
   "id": "bb2042e9",
   "metadata": {},
   "outputs": [
    {
     "name": "stdout",
     "output_type": "stream",
     "text": [
      "[102]\n",
      "[175]\n",
      "[40]\n"
     ]
    }
   ],
   "source": [
    "import numpy as np\n",
    "List1=[[110,102,183],\n",
    "       [40,175,106],\n",
    "       [192,40,195]]\n",
    "arr=np.array(List1)\n",
    "second_column=arr[0:3,1:2]\n",
    "for i in second_column:\n",
    "    print(i)"
   ]
  },
  {
   "cell_type": "markdown",
   "id": "c8a84cf6",
   "metadata": {},
   "source": [
    "# Practice "
   ]
  },
  {
   "cell_type": "markdown",
   "id": "162643c5",
   "metadata": {},
   "source": [
    "## Practice Example on computation power of numpy array"
   ]
  },
  {
   "cell_type": "markdown",
   "id": "d334b41b",
   "metadata": {},
   "source": [
    "Let's assume we want to know whether a place is good for growing apples or not. So, we need to know the temperature, humidity, and rainfall to determine whether the region is good for growing apples.\n",
    "<br><br>\n",
    "Let's say,\n",
    "<br>\n",
    "<br>\n",
    "#### yield_of_apples= w1 * temperature + w2 * humidity + h3 * rainfall.\n",
    "<br> \n",
    "<br>\n",
    "We are expressing yield of apples as weighted sum of the temperature, humidity, and rainfall.This is an approximation. The actual relation may not be linear expression. But a simple linear model like this oftern works well in practice.\n",
    "<br>\n",
    "<br>\n",
    "Based on some statistical analysis of historical data of the region's weather we can come up with more reasonable values for w1,w2, and w3. "
   ]
  },
  {
   "cell_type": "code",
   "execution_count": 137,
   "id": "0d18c591",
   "metadata": {},
   "outputs": [],
   "source": [
    "#Assigning weights\n",
    "w1,w2,w3 = 0.2, 0.3, 0.5"
   ]
  },
  {
   "cell_type": "markdown",
   "id": "4fa02eda",
   "metadata": {},
   "source": [
    "Given some climate data for a region, we can now predict the yield of apples. Here's some sample data:\n",
    "\n",
    "<img src=\"https://i.imgur.com/TXPBiqv.png\" style=\"width:360px;\">\n",
    "\n",
    "To begin, we can define some variables to record climate data for a region."
   ]
  },
  {
   "cell_type": "code",
   "execution_count": 138,
   "id": "f5402202",
   "metadata": {},
   "outputs": [],
   "source": [
    "# converting information into variables \n",
    "kanto_temp = 73\n",
    "kanto_humidity = 43\n",
    "kanto_rainfalls = 67"
   ]
  },
  {
   "cell_type": "code",
   "execution_count": 139,
   "id": "212d3ca3",
   "metadata": {},
   "outputs": [
    {
     "data": {
      "text/plain": [
       "56.2"
      ]
     },
     "execution_count": 139,
     "metadata": {},
     "output_type": "execute_result"
    }
   ],
   "source": [
    "# Finding Yield\n",
    "kanto_yield = w1 * kanto_temp+ w3 * kanto_humidity + w2* kanto_rainfalls\n",
    "kanto_yield"
   ]
  },
  {
   "cell_type": "markdown",
   "id": "93082366",
   "metadata": {},
   "source": [
    "To perform such calculation for multiple regions, we can use a vector."
   ]
  },
  {
   "cell_type": "code",
   "execution_count": 140,
   "id": "7badcce3",
   "metadata": {},
   "outputs": [],
   "source": [
    "# temperature, rainfall, and humidity as a list\n",
    "kanto = [73, 67, 43]\n",
    "johto = [91, 88, 64]\n",
    "hoenn = [87, 134, 58]\n",
    "sinnoh = [102, 43, 37]\n",
    "unova = [69, 96, 70]"
   ]
  },
  {
   "cell_type": "code",
   "execution_count": 141,
   "id": "f0f1be38",
   "metadata": {},
   "outputs": [],
   "source": [
    "#weights as a list\n",
    "weights = [ w1, w2, w3]"
   ]
  },
  {
   "cell_type": "code",
   "execution_count": 142,
   "id": "ee3e7ddb",
   "metadata": {},
   "outputs": [],
   "source": [
    "#Function to calculate yield for a region\n",
    "def crop_yield(region, weights):\n",
    "    result = 0 \n",
    "    for i,j  in zip(region, weights):\n",
    "        result +=(i*j)\n",
    "    return result "
   ]
  },
  {
   "cell_type": "code",
   "execution_count": 143,
   "id": "00475a36",
   "metadata": {},
   "outputs": [
    {
     "name": "stdout",
     "output_type": "stream",
     "text": [
      "(73, 0.2)\n",
      "(67, 0.3)\n",
      "(43, 0.5)\n"
     ]
    }
   ],
   "source": [
    "#what do we have in kanto and weights\n",
    "for item in zip(kanto, weights):\n",
    "    print(item)"
   ]
  },
  {
   "cell_type": "code",
   "execution_count": 144,
   "id": "4cdaf39c",
   "metadata": {},
   "outputs": [
    {
     "data": {
      "text/plain": [
       "56.2"
      ]
     },
     "execution_count": 144,
     "metadata": {},
     "output_type": "execute_result"
    }
   ],
   "source": [
    "# Let's check crop yield for kanto\n",
    "crop_yield(kanto,weights)"
   ]
  },
  {
   "cell_type": "code",
   "execution_count": 145,
   "id": "e01b4936",
   "metadata": {},
   "outputs": [
    {
     "data": {
      "text/plain": [
       "76.6"
      ]
     },
     "execution_count": 145,
     "metadata": {},
     "output_type": "execute_result"
    }
   ],
   "source": [
    "# Similarily let's check for Johto\n",
    "crop_yield(johto,weights)"
   ]
  },
  {
   "cell_type": "markdown",
   "id": "53ce4c8e",
   "metadata": {},
   "source": [
    "The elementi-wise calculation can also be performed using dot product of two vectors. And we have already learnt, we can do so with numpy array. \n",
    "So let's make use of numpy array."
   ]
  },
  {
   "cell_type": "code",
   "execution_count": 146,
   "id": "fb532377",
   "metadata": {},
   "outputs": [
    {
     "data": {
      "text/plain": [
       "array([[ 73,  67,  43],\n",
       "       [ 91,  88,  64],\n",
       "       [ 87, 134,  58],\n",
       "       [102,  43,  37],\n",
       "       [ 69,  96,  70]])"
      ]
     },
     "execution_count": 146,
     "metadata": {},
     "output_type": "execute_result"
    }
   ],
   "source": [
    "import numpy as np\n",
    "region_climate_data=np.array([kanto,johto,hoenn,sinnoh, unova])\n",
    "region_climate_data"
   ]
  },
  {
   "cell_type": "code",
   "execution_count": 147,
   "id": "607d4af9",
   "metadata": {},
   "outputs": [
    {
     "data": {
      "text/plain": [
       "array([0.2, 0.3, 0.5])"
      ]
     },
     "execution_count": 147,
     "metadata": {},
     "output_type": "execute_result"
    }
   ],
   "source": [
    "import numpy as np\n",
    "weights=np.array(weights)\n",
    "weights"
   ]
  },
  {
   "cell_type": "code",
   "execution_count": 148,
   "id": "3ff7c866",
   "metadata": {},
   "outputs": [
    {
     "data": {
      "text/plain": [
       "array([56.2, 76.6, 86.6, 51.8, 77.6])"
      ]
     },
     "execution_count": 148,
     "metadata": {},
     "output_type": "execute_result"
    }
   ],
   "source": [
    "import numpy as np\n",
    "crop_yield=np.array([])\n",
    "for i in region_climate_data:\n",
    "    crop_yield=np.append(crop_yield,sum(i*weights))\n",
    "crop_yield    "
   ]
  },
  {
   "cell_type": "markdown",
   "id": "db2aa85e",
   "metadata": {},
   "source": [
    "## Practice Example on execution time of numpy array "
   ]
  },
  {
   "cell_type": "code",
   "execution_count": 162,
   "id": "9e6f533e",
   "metadata": {},
   "outputs": [
    {
     "data": {
      "text/plain": [
       "array([[56.2],\n",
       "       [76.6],\n",
       "       [86.6],\n",
       "       [51.8],\n",
       "       [77.6]])"
      ]
     },
     "execution_count": 162,
     "metadata": {},
     "output_type": "execute_result"
    }
   ],
   "source": [
    "# finding crop yielt using climate data array in one line of code\n",
    "region_climate_data.dot(weights.reshape(3,1))"
   ]
  },
  {
   "cell_type": "code",
   "execution_count": 150,
   "id": "3ceb6ed1",
   "metadata": {
    "scrolled": true
   },
   "outputs": [
    {
     "name": "stdout",
     "output_type": "stream",
     "text": [
      "56.2\n",
      "76.6\n",
      "86.6\n",
      "51.800000000000004\n",
      "77.6\n"
     ]
    }
   ],
   "source": [
    "# with crop yield function\n",
    "def crop_yield(region, weights):\n",
    "    result = 0 \n",
    "    for i,j  in zip(region, weights):\n",
    "        result +=(i*j)\n",
    "    return result \n",
    "print(crop_yield(kanto, weights))\n",
    "print(crop_yield(johto, weights))\n",
    "print(crop_yield(hoenn, weights))\n",
    "print(crop_yield(sinnoh, weights))\n",
    "print(crop_yield(unova, weights))"
   ]
  },
  {
   "cell_type": "markdown",
   "id": "891b1a8e",
   "metadata": {},
   "source": [
    "### Comparison of Execution time\n",
    "<img src=\"https://github.com/SimmiSheetalJain/Medias_for_notes_and_blogs/blob/main/numpy_time_comparison.png?raw=true\">"
   ]
  },
  {
   "cell_type": "markdown",
   "id": "bde13d73",
   "metadata": {},
   "source": [
    "## Working with CSV data files\n",
    "\n",
    "Numpy also provides helper functions reading from & writing to files. Let's download a file `climate.txt`, which contains 10,000 climate measurements (temperature, rainfall & humidity) in the following format:\n",
    "\n",
    "\n",
    "```\n",
    "temperature,rainfall,humidity\n",
    "25.00,76.00,99.00\n",
    "39.00,65.00,70.00\n",
    "59.00,45.00,77.00\n",
    "84.00,63.00,38.00\n",
    "66.00,50.00,52.00\n",
    "41.00,94.00,77.00\n",
    "91.00,57.00,96.00\n",
    "49.00,96.00,99.00\n",
    "67.00,20.00,28.00\n",
    "...\n",
    "```\n",
    "\n",
    "This format of storing data is known as *comma-separated values* or CSV. \n",
    "\n",
    "> **CSVs**: A comma-separated values (CSV) file is a delimited text file that uses a comma to separate values. Each line of the file is a data record. Each record consists of one or more fields, separated by commas. A CSV file typically stores tabular data (numbers and text) in plain text, in which case each line will have the same number of fields. (Wikipedia)\n",
    "\n",
    "\n",
    "To read this file into a numpy array, we can use the `genfromtxt` function.\n",
    "As we have already seen while learning numpy( This is practice section)"
   ]
  },
  {
   "cell_type": "code",
   "execution_count": 163,
   "id": "6ddbe5c0",
   "metadata": {},
   "outputs": [
    {
     "data": {
      "text/plain": [
       "('climate.txt', <http.client.HTTPMessage at 0x192d4641850>)"
      ]
     },
     "execution_count": 163,
     "metadata": {},
     "output_type": "execute_result"
    }
   ],
   "source": [
    "import urllib.request \n",
    "urllib.request.urlretrieve(\n",
    "    'https://gist.github.com/BirajCoder/a4ffcb76fd6fb221d76ac2ee2b8584e9/raw/4054f90adfd361b7aa4255e99c2e874664094cea/climate.csv', \n",
    "    'climate.txt')"
   ]
  },
  {
   "cell_type": "markdown",
   "id": "e7aabe55",
   "metadata": {},
   "source": [
    "#### open the climate.txt which has gotten downloded in your current jupyter directory you will 10001 records\n",
    "#### Now, check first line is just a kind of metadata, and rest 10000 are records."
   ]
  },
  {
   "cell_type": "markdown",
   "id": "ebd82f1b",
   "metadata": {},
   "source": [
    "### Now, we can use the genfromtxt function"
   ]
  },
  {
   "cell_type": "code",
   "execution_count": 165,
   "id": "8cfd7bf4",
   "metadata": {},
   "outputs": [],
   "source": [
    "climate_data=np.genfromtxt('climate.txt',delimiter=',',skip_header=1)"
   ]
  },
  {
   "cell_type": "code",
   "execution_count": 167,
   "id": "061de565",
   "metadata": {},
   "outputs": [
    {
     "data": {
      "text/plain": [
       "array([[25., 76., 99.],\n",
       "       [39., 65., 70.],\n",
       "       [59., 45., 77.],\n",
       "       ...,\n",
       "       [99., 62., 58.],\n",
       "       [70., 71., 91.],\n",
       "       [92., 39., 76.]])"
      ]
     },
     "execution_count": 167,
     "metadata": {},
     "output_type": "execute_result"
    }
   ],
   "source": [
    "#Let's see the data inside our variable climate_data\n",
    "climate_data"
   ]
  },
  {
   "cell_type": "markdown",
   "id": "89be4024",
   "metadata": {},
   "source": [
    "#### Now, let's find crop yield for all these 10K records"
   ]
  },
  {
   "cell_type": "code",
   "execution_count": 171,
   "id": "0a860b33",
   "metadata": {},
   "outputs": [
    {
     "name": "stdout",
     "output_type": "stream",
     "text": [
      "[77.3 62.3 63.8 ... 67.4 80.8 68.1]\n"
     ]
    }
   ],
   "source": [
    "yields = climate_data@weights\n",
    "print(yields)"
   ]
  },
  {
   "cell_type": "markdown",
   "id": "51173a26",
   "metadata": {},
   "source": [
    "Let's add this analysis back to the file.<br>\n",
    "To do so, I will first concatenate this result with the retrieved climate data, and then I can store the data in either a new file or an existing file "
   ]
  },
  {
   "cell_type": "code",
   "execution_count": 175,
   "id": "2f97a4ca",
   "metadata": {},
   "outputs": [
    {
     "data": {
      "text/plain": [
       "array([[25. , 76. , 99. , 77.3],\n",
       "       [39. , 65. , 70. , 62.3],\n",
       "       [59. , 45. , 77. , 63.8],\n",
       "       ...,\n",
       "       [99. , 62. , 58. , 67.4],\n",
       "       [70. , 71. , 91. , 80.8],\n",
       "       [92. , 39. , 76. , 68.1]])"
      ]
     },
     "execution_count": 175,
     "metadata": {},
     "output_type": "execute_result"
    }
   ],
   "source": [
    "# concatenting with climate data \n",
    "crop_yield_analysis= np.concatenate((climate_data, yields.reshape(10000,1)), axis=1)\n",
    "# records with crop yield analysis \n",
    "crop_yield_analysis"
   ]
  },
  {
   "cell_type": "code",
   "execution_count": 176,
   "id": "dbb59606",
   "metadata": {},
   "outputs": [],
   "source": [
    "#let's writing back the data using savetxt function\n",
    "np.savetxt('crop_yield_analysis.txt',\n",
    "           crop_yield_analysis,\n",
    "           fmt='%.2f',\n",
    "           header='temperature,rainfall,humidity,expected_crop_yield',\n",
    "           comments=' ')"
   ]
  },
  {
   "cell_type": "markdown",
   "id": "17708559",
   "metadata": {},
   "source": [
    "#### now, check in current directory the file crop_yield_analysis.txt and check that it has the expected output"
   ]
  },
  {
   "cell_type": "code",
   "execution_count": null,
   "id": "81a946db",
   "metadata": {},
   "outputs": [],
   "source": []
  }
 ],
 "metadata": {
  "kernelspec": {
   "display_name": "Python 3 (ipykernel)",
   "language": "python",
   "name": "python3"
  },
  "language_info": {
   "codemirror_mode": {
    "name": "ipython",
    "version": 3
   },
   "file_extension": ".py",
   "mimetype": "text/x-python",
   "name": "python",
   "nbconvert_exporter": "python",
   "pygments_lexer": "ipython3",
   "version": "3.11.4"
  },
  "widgets": {
   "application/vnd.jupyter.widget-state+json": {
    "state": {},
    "version_major": 2,
    "version_minor": 0
   }
  }
 },
 "nbformat": 4,
 "nbformat_minor": 5
}
