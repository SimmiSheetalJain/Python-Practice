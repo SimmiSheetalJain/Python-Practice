{
 "cells": [
  {
   "cell_type": "markdown",
   "id": "7b5a40d4",
   "metadata": {},
   "source": [
    "### Q1: WAP to create a lamda function that adds 15 to a given number passed as an argument, also create a lambda function that multiplies argument x and y and print the result."
   ]
  },
  {
   "cell_type": "code",
   "execution_count": 7,
   "id": "cb7cec5a",
   "metadata": {},
   "outputs": [
    {
     "name": "stdout",
     "output_type": "stream",
     "text": [
      "Enter an integer : 5\n",
      "5 + 15 : 20\n",
      "Enter a values : 2\n",
      "Enter another values : 3\n",
      "2  X 3  : 6\n"
     ]
    }
   ],
   "source": [
    "#Program 1: \n",
    "l1=lambda a: a+15\n",
    "l2=lambda x,y: x*y\n",
    "\n",
    "a=int(input(\"Enter an integer : \"))\n",
    "print(f\"{a} + 15 : {l1(a)}\")\n",
    "x=int(input(\"Enter a values : \"))\n",
    "y=int(input(\"Enter another values : \"))\n",
    "print(f\"{x}  X {y}  : {l2(x,y)}\")\n"
   ]
  },
  {
   "cell_type": "markdown",
   "id": "e656977a",
   "metadata": {},
   "source": [
    "## Q2: WAP to add two given list using map function and lambda,[1,2,3],[4,5,6]."
   ]
  },
  {
   "cell_type": "code",
   "execution_count": 12,
   "id": "f0647fb9",
   "metadata": {},
   "outputs": [
    {
     "name": "stdout",
     "output_type": "stream",
     "text": [
      "[5, 7, 9]\n"
     ]
    }
   ],
   "source": [
    "ans=list(map(lambda a,b: a+b, [1,2,3],[4,5,6]))\n",
    "print(ans)"
   ]
  },
  {
   "cell_type": "markdown",
   "id": "5f7ae7be",
   "metadata": {},
   "source": [
    "## Q3: WAP to append a list to another list of our own choice"
   ]
  },
  {
   "cell_type": "code",
   "execution_count": 2,
   "id": "7143fe71",
   "metadata": {
    "scrolled": true
   },
   "outputs": [
    {
     "name": "stdout",
     "output_type": "stream",
     "text": [
      "How many elements are there in your list? 5\n",
      "Enter elment no 1 : 54\n",
      "Enter elment no 2 : 24\n",
      "Enter elment no 3 : 47\n",
      "Enter elment no 4 : 57\n",
      "Enter elment no 5 : 55\n",
      "The appended lists is : [1, 2, 3, 4, 5, 54, 24, 47, 57, 55]\n"
     ]
    }
   ],
   "source": [
    "list1=[1,2,3,4,5]\n",
    "list2=[]\n",
    "n=int(input(\"How many elements are there in your list? \"))\n",
    "for i in range(n):\n",
    "    element=int(input(f\"Enter elment no {i+1} : \"))\n",
    "    list2.append(element)\n",
    "list1.extend(list2)\n",
    "print(f\"The appended lists is : {list1}\")"
   ]
  },
  {
   "cell_type": "markdown",
   "id": "1ac5033c",
   "metadata": {},
   "source": [
    "## Q4: WAP to print the number of a specified list after removing even numbers from it. (Sample Test Case : [2,3,1,3,5,6,7,8,9])"
   ]
  },
  {
   "cell_type": "code",
   "execution_count": 3,
   "id": "11ce01d4",
   "metadata": {},
   "outputs": [
    {
     "name": "stdout",
     "output_type": "stream",
     "text": [
      "3\n",
      "1\n",
      "3\n",
      "5\n",
      "7\n",
      "9\n"
     ]
    }
   ],
   "source": [
    "#Sample Test Case :  [7,8,120,25,44,20,27]\n",
    "test_case = [2,3,1,3,5,6,7,8,9]\n",
    "fitered_test_case = [i for i in test_case if i%2!=0]\n",
    "for i in fitered_test_case:\n",
    "    print(i)"
   ]
  },
  {
   "cell_type": "markdown",
   "id": "a1d330ba",
   "metadata": {},
   "source": [
    "### Q5: WAP that filters out prime numbers from a list of integers using the filter function"
   ]
  },
  {
   "cell_type": "code",
   "execution_count": 4,
   "id": "18f02ad3",
   "metadata": {},
   "outputs": [
    {
     "name": "stdout",
     "output_type": "stream",
     "text": [
      "Input Number : [1, 2, 3, 4, 5, 6, 11, 23, 22, 34, 45, 42, 41, 47]\n",
      "Prime Numbers : [2, 3, 5, 11, 23, 41, 47]\n"
     ]
    }
   ],
   "source": [
    "def is_it_prime(num):\n",
    "    if num < 2:\n",
    "        return False\n",
    "    for i in range(2,int(num**0.5)+1):\n",
    "        if num%i==0:\n",
    "            return False\n",
    "    return True\n",
    "input_list=[1,2,3,4,5,6,11,23,22,34,45,42,41,47]\n",
    "print(f\"Input Number : {input_list}\")\n",
    "print(\"Prime Numbers :\",list(filter(is_it_prime,input_list)))"
   ]
  },
  {
   "cell_type": "markdown",
   "id": "22e58c4a",
   "metadata": {},
   "source": [
    "## Q6 :  WAP to check student's grade. Your program should fullfill following conditions: \n",
    "<br>\n",
    "<h5>GRADE A: Outstanding</h5><br>\n",
    "<h5>GRADE B: Excellent</h5><br>\n",
    "<h5>GRADE C: Very Good</h5><br>\n",
    "<h5>GRADE D: Good</h5><br>\n",
    "<h5>GRADE E: Satisfied</h5><br>\n",
    "<h5>Other  : Unrecognized</h5><br>   "
   ]
  },
  {
   "cell_type": "code",
   "execution_count": 3,
   "id": "dfabfe36",
   "metadata": {},
   "outputs": [
    {
     "name": "stdout",
     "output_type": "stream",
     "text": [
      "Enter Grade : a\n",
      "Outstanding\n"
     ]
    }
   ],
   "source": [
    "grade = input(\"Enter Grade : \")\n",
    "if grade in \"aA\":\n",
    "    print(\"Outstanding\")\n",
    "elif grade in \"bB\":\n",
    "    print(\"Excellent\")\n",
    "elif grade in \"cC\":\n",
    "    print(\"Very Good\")\n",
    "elif grade in \"dD\":\n",
    "    print(\"Good\")\n",
    "elif grade in \"eE\":\n",
    "    print(\"Satisfied\")\n",
    "else:\n",
    "    print(\"Unrecognized\")"
   ]
  },
  {
   "cell_type": "markdown",
   "id": "e902ce20",
   "metadata": {},
   "source": [
    "### 7. WAP to check the no. is divisible by 5 or not."
   ]
  },
  {
   "cell_type": "code",
   "execution_count": 5,
   "id": "7b3eb685",
   "metadata": {},
   "outputs": [
    {
     "name": "stdout",
     "output_type": "stream",
     "text": [
      "Enter the namber : 25\n",
      "25 is divisible by 5\n"
     ]
    }
   ],
   "source": [
    "num=int(input(\"Enter the namber : \"))\n",
    "if num%5==0:\n",
    "    print(f\"{num} is divisible by 5\")\n",
    "else:\n",
    "    print(f\"{num} is not divisible by 5\")"
   ]
  },
  {
   "cell_type": "markdown",
   "id": "b02a0d46",
   "metadata": {},
   "source": [
    "### Q8: WAP to return multiple values from a function. It must return both addition and subtraction in a single return call."
   ]
  },
  {
   "cell_type": "code",
   "execution_count": 2,
   "id": "d6059094",
   "metadata": {},
   "outputs": [
    {
     "name": "stdout",
     "output_type": "stream",
     "text": [
      "Enter First Number: 25\n",
      "Enter Second Number: 12\n",
      "Sum is 37 and difference is 13\n"
     ]
    }
   ],
   "source": [
    "def sum_difference(a,b):\n",
    "    return (a+b),abs(a-b)\n",
    "a=int(input(\"Enter First Number: \"))\n",
    "b=int(input(\"Enter Second Number: \"))\n",
    "x,y=sum_difference(a,b)\n",
    "print(f\"Sum is {x} and difference is {y}\")"
   ]
  },
  {
   "cell_type": "markdown",
   "id": "2d9ec5fd",
   "metadata": {},
   "source": [
    "### Q9: WAP to print first 10 even numbers "
   ]
  },
  {
   "cell_type": "code",
   "execution_count": 4,
   "id": "c8655ae3",
   "metadata": {},
   "outputs": [
    {
     "name": "stdout",
     "output_type": "stream",
     "text": [
      "2 \n",
      "4 \n",
      "6 \n",
      "8 \n",
      "10 \n",
      "12 \n",
      "14 \n",
      "16 \n",
      "18 \n",
      "20 \n"
     ]
    }
   ],
   "source": [
    "for x in range(1,21):\n",
    "    if(x%2==0):\n",
    "        print(f\"{x} \",end=\"\\n\")"
   ]
  },
  {
   "cell_type": "markdown",
   "id": "a320c82d",
   "metadata": {},
   "source": [
    "### Q10 : WAP to print first 10 odd numbers"
   ]
  },
  {
   "cell_type": "code",
   "execution_count": 8,
   "id": "a4870356",
   "metadata": {},
   "outputs": [
    {
     "name": "stdout",
     "output_type": "stream",
     "text": [
      "1 \n",
      "3 \n",
      "5 \n",
      "7 \n",
      "9 \n",
      "11 \n",
      "13 \n",
      "15 \n",
      "17 \n",
      "19 \n"
     ]
    }
   ],
   "source": [
    "for x in range(1,20):\n",
    "    if(x%2!=0):\n",
    "        print(f\"{x} \",end=\"\\n\")"
   ]
  },
  {
   "cell_type": "markdown",
   "id": "81c4e89e",
   "metadata": {},
   "source": [
    "### Q11: WAP to print first 10 natural no. in a reverse order using while loop."
   ]
  },
  {
   "cell_type": "code",
   "execution_count": 10,
   "id": "7c20bb95",
   "metadata": {},
   "outputs": [
    {
     "name": "stdout",
     "output_type": "stream",
     "text": [
      "10\n",
      "9\n",
      "8\n",
      "7\n",
      "6\n",
      "5\n",
      "4\n",
      "3\n",
      "2\n",
      "1\n"
     ]
    }
   ],
   "source": [
    "i=10\n",
    "while i>0:\n",
    "    print(f\"{i}\")\n",
    "    i-=1"
   ]
  },
  {
   "cell_type": "markdown",
   "id": "04b369bb",
   "metadata": {},
   "source": [
    "### Q12: WAP to print table of a number entered by the user. "
   ]
  },
  {
   "cell_type": "code",
   "execution_count": 9,
   "id": "0dbe2af2",
   "metadata": {
    "scrolled": true
   },
   "outputs": [
    {
     "name": "stdout",
     "output_type": "stream",
     "text": [
      "Enter the number of which table you want to print : 5\n",
      "5 x 1 = 5\n",
      "5 x 2 = 10\n",
      "5 x 3 = 15\n",
      "5 x 4 = 20\n",
      "5 x 5 = 25\n",
      "5 x 6 = 30\n",
      "5 x 7 = 35\n",
      "5 x 8 = 40\n",
      "5 x 9 = 45\n",
      "5 x 10 = 50\n"
     ]
    }
   ],
   "source": [
    "x=int(input(\"Enter the number of which table you want to print : \"))\n",
    "for i in range(1,11):\n",
    "    print(f\"{x} x {i} = {x*i}\")"
   ]
  },
  {
   "cell_type": "markdown",
   "id": "3d21e1bf",
   "metadata": {},
   "source": [
    "### 14. WAP to count total no. of letter in a word."
   ]
  },
  {
   "cell_type": "code",
   "execution_count": 8,
   "id": "48a09143",
   "metadata": {},
   "outputs": [
    {
     "name": "stdout",
     "output_type": "stream",
     "text": [
      "Enter a wordSheetal\n",
      "Number of letters in 'Sheetal' is 7\n"
     ]
    }
   ],
   "source": [
    "word=input(\"Enter a word\")\n",
    "print(f\"Number of letters in '{word}' is {len(word)}\")"
   ]
  },
  {
   "cell_type": "markdown",
   "id": "4c48875e",
   "metadata": {},
   "source": [
    "### Q15: WAP to display all prime no. within a range."
   ]
  },
  {
   "cell_type": "code",
   "execution_count": 1,
   "id": "07dfdcde",
   "metadata": {},
   "outputs": [
    {
     "name": "stdout",
     "output_type": "stream",
     "text": [
      "Enter the minmum value of range : 10\n",
      "Enter the maximum value of range : 36\n",
      "11\n",
      "13\n",
      "17\n",
      "19\n",
      "23\n",
      "29\n",
      "31\n"
     ]
    }
   ],
   "source": [
    "start =  int(input(\"Enter the minmum value of range : \"))\n",
    "stop =  int(input(\"Enter the maximum value of range : \"))\n",
    "flag=False\n",
    "for i in range(start,stop+1):\n",
    "    for j in range(2,i):\n",
    "        if i%j==0:\n",
    "            flag=True\n",
    "            break\n",
    "    if flag==False:\n",
    "        print(f\"{i}\")\n",
    "    flag=False"
   ]
  },
  {
   "cell_type": "markdown",
   "id": "970c1e0e",
   "metadata": {},
   "source": [
    "### Q16:  WAP to print the factorial of a given number "
   ]
  },
  {
   "cell_type": "code",
   "execution_count": 3,
   "id": "98b841ba",
   "metadata": {},
   "outputs": [
    {
     "name": "stdout",
     "output_type": "stream",
     "text": [
      "Enter a number of which factorial you want to find : 7\n",
      "Facotor is 5040\n"
     ]
    }
   ],
   "source": [
    "x = int(input(\"Enter a number of which factorial you want to find : \"))\n",
    "fact = 1\n",
    "while x!=1:\n",
    "    fact=fact*x\n",
    "    x-=1\n",
    "print(f\"Facotor is {fact}\")"
   ]
  },
  {
   "cell_type": "markdown",
   "id": "7bf80230",
   "metadata": {},
   "source": [
    "### Q17 : WAP to print the reverse of the number entered by the user"
   ]
  },
  {
   "cell_type": "code",
   "execution_count": 4,
   "id": "a593596b",
   "metadata": {},
   "outputs": [
    {
     "name": "stdout",
     "output_type": "stream",
     "text": [
      "Enter the number you want to reverse : 12345\n",
      "54321\n"
     ]
    }
   ],
   "source": [
    "x=int(input(\"Enter the number you want to reverse : \"))\n",
    "x=str(x)\n",
    "print(int(x[::-1]))"
   ]
  },
  {
   "cell_type": "markdown",
   "id": "8711a21d",
   "metadata": {},
   "source": [
    "### Q18:WAP to print Fibonacci series upto 10"
   ]
  },
  {
   "cell_type": "code",
   "execution_count": 9,
   "id": "2b159500",
   "metadata": {},
   "outputs": [
    {
     "name": "stdout",
     "output_type": "stream",
     "text": [
      "1\n",
      "1\n",
      "2\n",
      "3\n",
      "5\n",
      "8\n",
      "13\n",
      "21\n",
      "34\n",
      "55\n"
     ]
    }
   ],
   "source": [
    "a=0\n",
    "b=1\n",
    "for i in range(0,10):\n",
    "    print(f\"{b}\")\n",
    "    c=a+b\n",
    "    a=b\n",
    "    b=c\n",
    "    "
   ]
  },
  {
   "cell_type": "markdown",
   "id": "3234c741",
   "metadata": {},
   "source": [
    "### 19. WAP to return a new set of identical items come to set\n",
    "### S1= {10,20,30,40,50}\n",
    "### S2={30,40,50,60,70}\n"
   ]
  },
  {
   "cell_type": "code",
   "execution_count": 7,
   "id": "dd314a39",
   "metadata": {},
   "outputs": [
    {
     "name": "stdout",
     "output_type": "stream",
     "text": [
      "Identical elements are :  {40, 50, 30}\n"
     ]
    }
   ],
   "source": [
    "s1={10,20,30,40,50}\n",
    "s2={30,40,50,60,70}\n",
    "S3={ i for i,j in zip(s1,s2) if i==j}\n",
    "print(\"Identical elements are : \",S3)"
   ]
  },
  {
   "cell_type": "markdown",
   "id": "49b46fa1",
   "metadata": {},
   "source": [
    "### 20. WAP to get the key of minimum value from the following \n",
    "### dictionary sample\n",
    "### A= {“ maths”=82,”physics”=67,”history”=75}\n"
   ]
  },
  {
   "cell_type": "code",
   "execution_count": 17,
   "id": "13d1593e",
   "metadata": {},
   "outputs": [
    {
     "name": "stdout",
     "output_type": "stream",
     "text": [
      "Key of minimum value is :  physics\n"
     ]
    }
   ],
   "source": [
    "a={\"maths\":82,\"physics\":67,\"history\":75}\n",
    "for key,value in a.items():\n",
    "    if value==min(a.values()):\n",
    "        print(\"Key of minimum value is : \", key)\n",
    "        break"
   ]
  }
 ],
 "metadata": {
  "kernelspec": {
   "display_name": "Python 3 (ipykernel)",
   "language": "python",
   "name": "python3"
  },
  "language_info": {
   "codemirror_mode": {
    "name": "ipython",
    "version": 3
   },
   "file_extension": ".py",
   "mimetype": "text/x-python",
   "name": "python",
   "nbconvert_exporter": "python",
   "pygments_lexer": "ipython3",
   "version": "3.11.4"
  }
 },
 "nbformat": 4,
 "nbformat_minor": 5
}
