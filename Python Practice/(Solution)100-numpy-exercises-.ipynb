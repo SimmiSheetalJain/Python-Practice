{
 "cells": [
  {
   "cell_type": "markdown",
   "metadata": {},
   "source": [
    "# 100 numpy excellent problems with soution\n",
    "Source: https://github.com/SimmiSheetalJain/Python-Practice/blob/main/Python%20Practice/100_Numpy_exercises(without%20solution).ipynb"
   ]
  },
  {
   "cell_type": "markdown",
   "metadata": {},
   "source": [
    "#### 1. Import the numpy package under the name `np` (★☆☆)"
   ]
  },
  {
   "cell_type": "code",
   "execution_count": 1,
   "metadata": {},
   "outputs": [],
   "source": [
    "import numpy as np"
   ]
  },
  {
   "cell_type": "markdown",
   "metadata": {},
   "source": [
    "#### 2. Print the numpy version and the configuration (★☆☆)"
   ]
  },
  {
   "cell_type": "code",
   "execution_count": 2,
   "metadata": {},
   "outputs": [
    {
     "data": {
      "text/plain": [
       "'1.24.3'"
      ]
     },
     "execution_count": 2,
     "metadata": {},
     "output_type": "execute_result"
    }
   ],
   "source": [
    "np.__version__"
   ]
  },
  {
   "cell_type": "markdown",
   "metadata": {},
   "source": [
    "#### 3. Create a null vector of size 10 (★☆☆)"
   ]
  },
  {
   "cell_type": "code",
   "execution_count": 3,
   "metadata": {},
   "outputs": [
    {
     "data": {
      "text/plain": [
       "array([0., 0., 0., 0., 0., 0., 0., 0., 0., 0.])"
      ]
     },
     "execution_count": 3,
     "metadata": {},
     "output_type": "execute_result"
    }
   ],
   "source": [
    "arr=np.zeros(10)\n",
    "arr"
   ]
  },
  {
   "cell_type": "markdown",
   "metadata": {},
   "source": [
    "#### 4. How to find the memory size of any array (★☆☆)"
   ]
  },
  {
   "cell_type": "code",
   "execution_count": 4,
   "metadata": {},
   "outputs": [
    {
     "data": {
      "text/plain": [
       "10"
      ]
     },
     "execution_count": 4,
     "metadata": {},
     "output_type": "execute_result"
    }
   ],
   "source": [
    "arr.size\n"
   ]
  },
  {
   "cell_type": "markdown",
   "metadata": {},
   "source": [
    "#### 5. How to get the documentation of the numpy add function from the command line? (★☆☆)"
   ]
  },
  {
   "cell_type": "code",
   "execution_count": 5,
   "metadata": {},
   "outputs": [],
   "source": [
    "np.add?"
   ]
  },
  {
   "cell_type": "markdown",
   "metadata": {},
   "source": [
    "#### 6. Create a null vector of size 10 but the fifth value which is 1 (★☆☆)"
   ]
  },
  {
   "cell_type": "code",
   "execution_count": 6,
   "metadata": {},
   "outputs": [
    {
     "name": "stdout",
     "output_type": "stream",
     "text": [
      "[0. 0. 0. 0. 1. 0. 0. 0. 0. 0.]\n"
     ]
    }
   ],
   "source": [
    "arr[4]=1\n",
    "print(arr)"
   ]
  },
  {
   "cell_type": "markdown",
   "metadata": {},
   "source": [
    "#### 7. Create a vector with values ranging from 10 to 49 (★☆☆)"
   ]
  },
  {
   "cell_type": "code",
   "execution_count": 7,
   "metadata": {},
   "outputs": [
    {
     "data": {
      "text/plain": [
       "array([10, 11, 12, 13, 14, 15, 16, 17, 18, 19, 20, 21, 22, 23, 24, 25, 26,\n",
       "       27, 28, 29, 30, 31, 32, 33, 34, 35, 36, 37, 38, 39, 40, 41, 42, 43,\n",
       "       44, 45, 46, 47, 48])"
      ]
     },
     "execution_count": 7,
     "metadata": {},
     "output_type": "execute_result"
    }
   ],
   "source": [
    "arr=np.arange(10,49)\n",
    "arr"
   ]
  },
  {
   "cell_type": "markdown",
   "metadata": {},
   "source": [
    "#### 8. Reverse a vector (first element becomes last) (★☆☆)"
   ]
  },
  {
   "cell_type": "code",
   "execution_count": 9,
   "metadata": {},
   "outputs": [
    {
     "data": {
      "text/plain": [
       "array([48, 47, 46, 45, 44, 43, 42, 41, 40, 39, 38, 37, 36, 35, 34, 33, 32,\n",
       "       31, 30, 29, 28, 27, 26, 25, 24, 23, 22, 21, 20, 19, 18, 17, 16, 15,\n",
       "       14, 13, 12, 11, 10])"
      ]
     },
     "execution_count": 9,
     "metadata": {},
     "output_type": "execute_result"
    }
   ],
   "source": [
    "arr[::-1]"
   ]
  },
  {
   "cell_type": "markdown",
   "metadata": {},
   "source": [
    "#### 9. Create a 3x3 matrix with values ranging from 0 to 8 (★☆☆)"
   ]
  },
  {
   "cell_type": "code",
   "execution_count": 10,
   "metadata": {},
   "outputs": [
    {
     "data": {
      "text/plain": [
       "array([[0, 1, 2],\n",
       "       [3, 4, 5],\n",
       "       [6, 7, 8]])"
      ]
     },
     "execution_count": 10,
     "metadata": {},
     "output_type": "execute_result"
    }
   ],
   "source": [
    "np.arange(0,9).reshape(3,3)"
   ]
  },
  {
   "cell_type": "markdown",
   "metadata": {},
   "source": [
    "#### 10. Find indices of non-zero elements from [1,2,0,0,4,0] (★☆☆)"
   ]
  },
  {
   "cell_type": "code",
   "execution_count": 11,
   "metadata": {},
   "outputs": [
    {
     "name": "stdout",
     "output_type": "stream",
     "text": [
      "(array([0, 1, 4], dtype=int64),)\n"
     ]
    }
   ],
   "source": [
    "nz=np.nonzero([1,2,0,0,4,0])\n",
    "print(nz)"
   ]
  },
  {
   "cell_type": "markdown",
   "metadata": {},
   "source": [
    "#### 11. Create a 3x3 identity matrix (★☆☆)"
   ]
  },
  {
   "cell_type": "code",
   "execution_count": 12,
   "metadata": {},
   "outputs": [
    {
     "data": {
      "text/plain": [
       "array([[1., 0., 0.],\n",
       "       [0., 1., 0.],\n",
       "       [0., 0., 1.]])"
      ]
     },
     "execution_count": 12,
     "metadata": {},
     "output_type": "execute_result"
    }
   ],
   "source": [
    "np.eye(3,3)"
   ]
  },
  {
   "cell_type": "markdown",
   "metadata": {},
   "source": [
    "#### 12. Create a 3x3x3 array with random values (★☆☆)"
   ]
  },
  {
   "cell_type": "code",
   "execution_count": 13,
   "metadata": {},
   "outputs": [
    {
     "data": {
      "text/plain": [
       "array([[[25, 14, 20],\n",
       "        [ 3, 10, 15],\n",
       "        [11,  8, 12]],\n",
       "\n",
       "       [[23, 14, 10],\n",
       "        [25, 12, 19],\n",
       "        [21, 17,  2]],\n",
       "\n",
       "       [[18, 10,  6],\n",
       "        [ 0, 20, 10],\n",
       "        [13, 13, 10]]])"
      ]
     },
     "execution_count": 13,
     "metadata": {},
     "output_type": "execute_result"
    }
   ],
   "source": [
    "np.random.randint(0,27,size=(3,3,3))"
   ]
  },
  {
   "cell_type": "markdown",
   "metadata": {},
   "source": [
    "#### 13. Create a 10x10 array with random values and find the minimum and maximum values (★☆☆)"
   ]
  },
  {
   "cell_type": "code",
   "execution_count": 14,
   "metadata": {},
   "outputs": [
    {
     "name": "stdout",
     "output_type": "stream",
     "text": [
      "1201\n",
      "1298\n"
     ]
    }
   ],
   "source": [
    "arr1=np.random.randint(1200,1299,size=(10,10))\n",
    "print(arr1.min())\n",
    "print(arr1.max())"
   ]
  },
  {
   "cell_type": "markdown",
   "metadata": {},
   "source": [
    "#### 14. Create a random vector of size 30 and find the mean value (★☆☆)"
   ]
  },
  {
   "cell_type": "code",
   "execution_count": 15,
   "metadata": {},
   "outputs": [
    {
     "data": {
      "text/plain": [
       "'38.70'"
      ]
     },
     "execution_count": 15,
     "metadata": {},
     "output_type": "execute_result"
    }
   ],
   "source": [
    "arr2 = np.random.randint(23,56,size=(30))\n",
    "format(arr2.mean(),\".2f\")"
   ]
  },
  {
   "cell_type": "markdown",
   "metadata": {},
   "source": [
    "#### 15. Create a 2d array with 1 on the border and 0 inside (★☆☆)"
   ]
  },
  {
   "cell_type": "code",
   "execution_count": 16,
   "metadata": {},
   "outputs": [
    {
     "name": "stdout",
     "output_type": "stream",
     "text": [
      "[[1. 1. 1. 1. 1.]\n",
      " [1. 0. 0. 0. 1.]\n",
      " [1. 0. 0. 0. 1.]\n",
      " [1. 0. 0. 0. 1.]\n",
      " [1. 1. 1. 1. 1.]]\n"
     ]
    }
   ],
   "source": [
    "arr3=np.ones(25).reshape(5,5)\n",
    "arr3[1:-1,1:-1]=0\n",
    "print(arr3)"
   ]
  },
  {
   "cell_type": "markdown",
   "metadata": {},
   "source": [
    "#### 16. How to add a border (filled with 0's) around an existing array? (★☆☆)"
   ]
  },
  {
   "cell_type": "code",
   "execution_count": 17,
   "metadata": {},
   "outputs": [
    {
     "data": {
      "text/plain": [
       "array([[   0,    0,    0,    0,    0,    0,    0,    0,    0,    0],\n",
       "       [   0, 1280, 1259, 1214, 1210, 1265, 1276, 1281, 1221,    0],\n",
       "       [   0, 1272, 1202, 1273, 1258, 1215, 1278, 1277, 1226,    0],\n",
       "       [   0, 1221, 1215, 1257, 1298, 1231, 1262, 1294, 1248,    0],\n",
       "       [   0, 1298, 1224, 1237, 1285, 1206, 1247, 1209, 1278,    0],\n",
       "       [   0, 1215, 1288, 1238, 1210, 1255, 1222, 1268, 1290,    0],\n",
       "       [   0, 1223, 1222, 1288, 1244, 1201, 1224, 1205, 1249,    0],\n",
       "       [   0, 1233, 1243, 1276, 1205, 1256, 1238, 1234, 1248,    0],\n",
       "       [   0, 1287, 1242, 1237, 1234, 1288, 1282, 1268, 1285,    0],\n",
       "       [   0,    0,    0,    0,    0,    0,    0,    0,    0,    0]])"
      ]
     },
     "execution_count": 17,
     "metadata": {},
     "output_type": "execute_result"
    }
   ],
   "source": [
    "arr1=np.random.randint(1200,1299,size=(10,10))\n",
    "arr1[:1,:]=arr1[:,:1]=arr1[:,len(arr1)-1:]=arr1[len(arr1)-1:,:]=0\n",
    "arr1"
   ]
  },
  {
   "cell_type": "markdown",
   "metadata": {},
   "source": [
    "#### 17. What is the result of the following expression? (★☆☆)\n",
    "```python\n",
    "0 * np.nan\n",
    "np.nan == np.nan\n",
    "np.inf > np.nan\n",
    "np.nan - np.nan\n",
    "np.nan in set([np.nan])\n",
    "0.3 == 3 * 0.1\n",
    "```"
   ]
  },
  {
   "cell_type": "code",
   "execution_count": 18,
   "metadata": {},
   "outputs": [
    {
     "name": "stdout",
     "output_type": "stream",
     "text": [
      "nan\n",
      "False\n",
      "False\n",
      "nan\n",
      "True\n",
      "False\n"
     ]
    }
   ],
   "source": [
    "print(0 * np.nan)\n",
    "print(np.nan == np.nan)\n",
    "print(np.inf > np.nan)\n",
    "print(np.nan - np.nan)\n",
    "print(np.nan in set([np.nan]))\n",
    "print(0.3 == 3 * 0.1)"
   ]
  },
  {
   "cell_type": "markdown",
   "metadata": {},
   "source": [
    "#### 18. Create a 5x5 matrix with values 1,2,3,4 just below the diagonal (★☆☆)"
   ]
  },
  {
   "cell_type": "code",
   "execution_count": 19,
   "metadata": {},
   "outputs": [
    {
     "name": "stdout",
     "output_type": "stream",
     "text": [
      "[[0. 0. 0. 0. 0.]\n",
      " [1. 0. 0. 0. 0.]\n",
      " [0. 2. 0. 0. 0.]\n",
      " [0. 0. 3. 0. 0.]\n",
      " [0. 0. 0. 4. 0.]]\n"
     ]
    }
   ],
   "source": [
    "#Beginner approach\n",
    "arr3=np.zeros(25).reshape(5,5)\n",
    "for i,j in zip(range(0,len(arr3)),range(1,len(arr3))):\n",
    "    arr3[j][i]=j\n",
    "print(arr3)"
   ]
  },
  {
   "cell_type": "code",
   "execution_count": 20,
   "metadata": {},
   "outputs": [
    {
     "name": "stdout",
     "output_type": "stream",
     "text": [
      "[[0. 0. 0. 0. 0.]\n",
      " [1. 0. 0. 0. 0.]\n",
      " [0. 2. 0. 0. 0.]\n",
      " [0. 0. 3. 0. 0.]\n",
      " [0. 0. 0. 4. 0.]]\n"
     ]
    }
   ],
   "source": [
    "#Numpy approach \n",
    "arr= np.zeros((5,5))\n",
    "np.fill_diagonal(arr[1:],[1,2,3,4])\n",
    "print(arr)"
   ]
  },
  {
   "cell_type": "markdown",
   "metadata": {},
   "source": [
    "#### 19. Create a 8x8 matrix and fill it with a checkerboard pattern (★☆☆)"
   ]
  },
  {
   "cell_type": "code",
   "execution_count": 21,
   "metadata": {},
   "outputs": [
    {
     "name": "stdout",
     "output_type": "stream",
     "text": [
      "[[1. 0. 1. 0. 1. 0. 1. 0.]\n",
      " [0. 1. 0. 1. 0. 1. 0. 1.]\n",
      " [1. 0. 1. 0. 1. 0. 1. 0.]\n",
      " [0. 1. 0. 1. 0. 1. 0. 1.]\n",
      " [1. 0. 1. 0. 1. 0. 1. 0.]\n",
      " [0. 1. 0. 1. 0. 1. 0. 1.]\n",
      " [1. 0. 1. 0. 1. 0. 1. 0.]\n",
      " [0. 1. 0. 1. 0. 1. 0. 1.]]\n"
     ]
    }
   ],
   "source": [
    "arr= np.zeros((8,8))\n",
    "arr[::2,::2]=1\n",
    "arr[1::2, 1::2] = 1 \n",
    "print(arr)"
   ]
  },
  {
   "cell_type": "markdown",
   "metadata": {},
   "source": [
    "#### 20. Consider a (6,7,8) shape array, what is the index (x,y,z) of the 100th element?"
   ]
  },
  {
   "cell_type": "code",
   "execution_count": 22,
   "metadata": {},
   "outputs": [
    {
     "name": "stdout",
     "output_type": "stream",
     "text": [
      "[[[  0   1   2   3   4   5   6   7]\n",
      "  [  0   1   2   3   4   5   6   7]\n",
      "  [  0   1   2   3   4   5   6   7]\n",
      "  [  0   1   2   3   4   5   6   7]\n",
      "  [  0   1   2   3   4   5   6   7]\n",
      "  [  0   1   2   3   4   5   6   7]\n",
      "  [  0   1   2   3   4   5   6   7]]\n",
      "\n",
      " [[  0   1   2   3   4   5   6   7]\n",
      "  [  0   1   2   3   4   5   6   7]\n",
      "  [  0   1   2   3   4   5   6   7]\n",
      "  [  0   1   2   3   4   5   6   7]\n",
      "  [  0   1   2   3   4   5   6   7]\n",
      "  [  0   1   2 100   4   5   6   7]\n",
      "  [  0   1   2   3   4   5   6   7]]\n",
      "\n",
      " [[  0   1   2   3   4   5   6   7]\n",
      "  [  0   1   2   3   4   5   6   7]\n",
      "  [  0   1   2   3   4   5   6   7]\n",
      "  [  0   1   2   3   4   5   6   7]\n",
      "  [  0   1   2   3   4   5   6   7]\n",
      "  [  0   1   2   3   4   5   6   7]\n",
      "  [  0   1   2   3   4   5   6   7]]\n",
      "\n",
      " [[  0   1   2   3   4   5   6   7]\n",
      "  [  0   1   2   3   4   5   6   7]\n",
      "  [  0   1   2   3   4   5   6   7]\n",
      "  [  0   1   2   3   4   5   6   7]\n",
      "  [  0   1   2   3   4   5   6   7]\n",
      "  [  0   1   2   3   4   5   6   7]\n",
      "  [  0   1   2   3   4   5   6   7]]\n",
      "\n",
      " [[  0   1   2   3   4   5   6   7]\n",
      "  [  0   1   2   3   4   5   6   7]\n",
      "  [  0   1   2   3   4   5   6   7]\n",
      "  [  0   1   2   3   4   5   6   7]\n",
      "  [  0   1   2   3   4   5   6   7]\n",
      "  [  0   1   2   3   4   5   6   7]\n",
      "  [  0   1   2   3   4   5   6   7]]\n",
      "\n",
      " [[  0   1   2   3   4   5   6   7]\n",
      "  [  0   1   2   3   4   5   6   7]\n",
      "  [  0   1   2   3   4   5   6   7]\n",
      "  [  0   1   2   3   4   5   6   7]\n",
      "  [  0   1   2   3   4   5   6   7]\n",
      "  [  0   1   2   3   4   5   6   7]\n",
      "  [  0   1   2   3   4   5   6   7]]]\n"
     ]
    }
   ],
   "source": [
    "#My answer after watching fourth part of matrix\n",
    "arr=np.array([[list(range(0,8))]*7]*6)\n",
    "arr[1][5][3]=100\n",
    "print(arr)"
   ]
  },
  {
   "cell_type": "markdown",
   "metadata": {},
   "source": [
    "#### 21. Create a checkerboard 8x8 matrix using the tile function (★☆☆)"
   ]
  },
  {
   "cell_type": "code",
   "execution_count": 27,
   "metadata": {},
   "outputs": [
    {
     "data": {
      "text/plain": [
       "array([[1, 0, 1, 0, 1, 0, 1, 0],\n",
       "       [0, 1, 0, 1, 0, 1, 0, 1],\n",
       "       [1, 0, 1, 0, 1, 0, 1, 0],\n",
       "       [0, 1, 0, 1, 0, 1, 0, 1],\n",
       "       [1, 0, 1, 0, 1, 0, 1, 0],\n",
       "       [0, 1, 0, 1, 0, 1, 0, 1],\n",
       "       [1, 0, 1, 0, 1, 0, 1, 0],\n",
       "       [0, 1, 0, 1, 0, 1, 0, 1]])"
      ]
     },
     "execution_count": 27,
     "metadata": {},
     "output_type": "execute_result"
    }
   ],
   "source": [
    "arr=np.array([[1,0],[0,1]])\n",
    "check_board=np.tile(arr,(4,4))\n",
    "check_board"
   ]
  },
  {
   "cell_type": "markdown",
   "metadata": {},
   "source": [
    "#### 22. Normalize a 5x5 random matrix (★☆☆)"
   ]
  },
  {
   "cell_type": "code",
   "execution_count": 16,
   "metadata": {},
   "outputs": [
    {
     "name": "stdout",
     "output_type": "stream",
     "text": [
      " Orginal Matrix\n",
      "  [[0.13992156 0.51970335 0.30238302 0.10855903 0.04627473]\n",
      " [0.17956199 0.29669616 0.62959021 0.16254368 0.07857205]\n",
      " [0.71052995 0.44463907 0.11814946 0.7329878  0.05761887]\n",
      " [0.70279655 0.45704813 0.31235217 0.96990882 0.57358658]\n",
      " [0.808817   0.76621215 0.32035292 0.22154408 0.84675482]]\n",
      " Normalized Matrix\n",
      "  [[-0.9998956   0.35457227 -0.42048701 -1.11174811 -1.33388116]\n",
      " [-0.8585205  -0.44076886  0.74647686 -0.91921526 -1.21869479]\n",
      " [ 1.03514333  0.08686022 -1.07754444  1.11523786 -1.29342299]\n",
      " [ 1.00756267  0.13111636 -0.38493268  1.96020179  0.54674344]\n",
      " [ 1.38567792  1.23373042 -0.3563985  -0.70879403  1.5209808 ]]\n"
     ]
    }
   ],
   "source": [
    "import numpy as np \n",
    "import matplotlib.pyplot as plt\n",
    "orginal_matrix = np.random.rand(5,5)\n",
    "mean = np.mean(orginal_matrix)\n",
    "std_dev = np.std(orginal_matrix)\n",
    "normalized_matrix = (orginal_matrix - mean)/ std_dev\n",
    "print(\" Orginal Matrix\\n \",  orginal_matrix)\n",
    "print(\" Normalized Matrix\\n \",  normalized_matrix)"
   ]
  },
  {
   "cell_type": "markdown",
   "metadata": {},
   "source": [
    "#### 23. Create a custom dtype that describes a color as four unsigned bytes (RGBA) (★☆☆)"
   ]
  },
  {
   "cell_type": "code",
   "execution_count": 29,
   "metadata": {},
   "outputs": [
    {
     "name": "stdout",
     "output_type": "stream",
     "text": [
      "[(250,   0,   0, 255) (  0, 255,   0, 255) (  0,   0, 255, 255)\n",
      " (255, 255, 255, 255)]\n"
     ]
    }
   ],
   "source": [
    "import numpy as np\n",
    "rgba = np.dtype([('r', np.uint32),('g', np.uint32),('b', np.uint32),('a', np.uint32)])\n",
    "value = np.array([(250, 0, 0, 255),\n",
    "                  (0, 255, 0, 255),\n",
    "                  (0, 0, 255, 255),\n",
    "                  (255, 255, 255, 255)], dtype =rgba)\n",
    "print(value)"
   ]
  },
  {
   "cell_type": "markdown",
   "metadata": {},
   "source": [
    "#### 24. Multiply a 5x3 matrix by a 3x2 matrix (real matrix product) (★☆☆)"
   ]
  },
  {
   "cell_type": "code",
   "execution_count": 31,
   "metadata": {},
   "outputs": [
    {
     "name": "stdout",
     "output_type": "stream",
     "text": [
      "[[0.74003165 0.54958208 0.45504712]\n",
      " [0.72578545 0.52546562 0.28527561]\n",
      " [0.47160572 0.9953643  0.22950678]\n",
      " [0.2165867  0.63534404 0.96645403]\n",
      " [0.61107722 0.93583567 0.39700595]]\n",
      "[[0.62524871 0.03874115]\n",
      " [0.19014238 0.14296761]\n",
      " [0.31316516 0.71419194]]\n"
     ]
    },
    {
     "data": {
      "text/plain": [
       "array([[0.70970758, 0.4322331 ],\n",
       "       [0.64304808, 0.30698386],\n",
       "       [0.55600533, 0.32448729],\n",
       "       [0.55888612, 0.78945812],\n",
       "       [0.6843457 , 0.44100647]])"
      ]
     },
     "execution_count": 31,
     "metadata": {},
     "output_type": "execute_result"
    }
   ],
   "source": [
    "import numpy as np\n",
    "arr1 = np.random.rand(5,3)\n",
    "arr2 = np.random.rand(3,2)\n",
    "print(arr1)\n",
    "print(arr2)\n",
    "arr1@arr2"
   ]
  },
  {
   "cell_type": "markdown",
   "metadata": {},
   "source": [
    "#### 25. Given a 1D array, negate all elements which are between 3 and 8, in place. (★☆☆)"
   ]
  },
  {
   "cell_type": "code",
   "execution_count": 43,
   "metadata": {},
   "outputs": [
    {
     "name": "stdout",
     "output_type": "stream",
     "text": [
      "[-4 -6  9  9 -4 -4 11 -4  8 -5 11 -5 -4  9  9 11 10 10 -6 11 10 11 -7  8\n",
      " -5]\n"
     ]
    }
   ],
   "source": [
    "arr = np.random.randint(4,12,25)\n",
    "arr = np.where( (3<arr) & (arr<8), -arr, arr)\n",
    "print(arr)"
   ]
  },
  {
   "cell_type": "markdown",
   "metadata": {},
   "source": [
    "#### 26. What is the output of the following script? (★☆☆)\n",
    "```python\n",
    "# Author: Jake VanderPlas\n",
    "\n",
    "print(sum(range(5),-1))\n",
    "from numpy import *\n",
    "print(sum(range(5),-1))\n",
    "```"
   ]
  },
  {
   "cell_type": "code",
   "execution_count": 45,
   "metadata": {},
   "outputs": [
    {
     "name": "stdout",
     "output_type": "stream",
     "text": [
      "10\n",
      "10\n"
     ]
    }
   ],
   "source": [
    "'''This is the sum() function of the core python. \n",
    "Thus, the second argument represents the initial value of the sum \n",
    "function. Hence, sum=-1+0+1+2+3+4 = 9 '''\n",
    "print(sum(range(5),-1))\n",
    "from numpy import *\n",
    "'''After importing numpy, we are usign sum() used which is there in\n",
    "numpy. And the second argument represent the axis i.e. sum along \n",
    "axis 1'''\n",
    "print(sum(range(5),-1))"
   ]
  },
  {
   "cell_type": "markdown",
   "metadata": {},
   "source": [
    "#### 27. Consider an integer vector Z, which of these expressions are legal? (★☆☆)\n",
    "```python\n",
    "Z**Z\n",
    "2 << Z >> 2\n",
    "Z <- Z\n",
    "1j*Z\n",
    "Z/1/1\n",
    "Z<Z>Z\n",
    "```"
   ]
  },
  {
   "cell_type": "code",
   "execution_count": 13,
   "metadata": {},
   "outputs": [
    {
     "name": "stdout",
     "output_type": "stream",
     "text": [
      " z :  [0 1 2 3 4]\n",
      "Result of expression 1:  [  1   1   4  27 256]\n",
      "Result of expression 2:  [0 1 2 4 8]\n",
      "Result of expression 3:  [False False False False False]\n",
      "Result of expression 4:  [0.+0.j 0.+1.j 0.+2.j 0.+3.j 0.+4.j]\n",
      "Result of expression 5:  [0. 1. 2. 3. 4.]\n"
     ]
    },
    {
     "ename": "ValueError",
     "evalue": "The truth value of an array with more than one element is ambiguous. Use a.any() or a.all()",
     "output_type": "error",
     "traceback": [
      "\u001b[1;31m---------------------------------------------------------------------------\u001b[0m",
      "\u001b[1;31mValueError\u001b[0m                                Traceback (most recent call last)",
      "Cell \u001b[1;32mIn[13], line 15\u001b[0m\n\u001b[0;32m     13\u001b[0m \u001b[38;5;28mprint\u001b[39m(\u001b[38;5;124m\"\u001b[39m\u001b[38;5;124mResult of expression 5: \u001b[39m\u001b[38;5;124m\"\u001b[39m,z\u001b[38;5;241m/\u001b[39m\u001b[38;5;241m1\u001b[39m\u001b[38;5;241m/\u001b[39m\u001b[38;5;241m1\u001b[39m)\n\u001b[0;32m     14\u001b[0m \u001b[38;5;66;03m#Expression 6: This is an ambiguous expression and results in an error\u001b[39;00m\n\u001b[1;32m---> 15\u001b[0m \u001b[38;5;28mprint\u001b[39m(\u001b[38;5;124m\"\u001b[39m\u001b[38;5;124mResult of expression 5: \u001b[39m\u001b[38;5;124m\"\u001b[39m,z\u001b[38;5;241m<\u001b[39mz\u001b[38;5;241m<\u001b[39mz)\n",
      "\u001b[1;31mValueError\u001b[0m: The truth value of an array with more than one element is ambiguous. Use a.any() or a.all()"
     ]
    }
   ],
   "source": [
    "import numpy as np\n",
    "z=np.arange(5)\n",
    "print(\" z : \", z)\n",
    "#Expression 1:it does N^N where N is an element of the vector z\n",
    "print(\"Result of expression 1: \", z**z)\n",
    "#Expression 2: Expression is evaluated on bitwise operator and from left to right.\n",
    "print(\"Result of expression 2: \",2 << z >> 2)\n",
    "#Exoression 3: \n",
    "print(\"Result of expression 3: \", z<-z)\n",
    "#Expression 4: converts all elment into a complex number\n",
    "print(\"Result of expression 4: \", 1j*z)\n",
    "#Expression 5: \n",
    "print(\"Result of expression 5: \",z/1/1)\n",
    "#Expression 6: This is an ambiguous expression and results in an error\n",
    "print(\"Result of expression 5: \",z<z<z)"
   ]
  },
  {
   "cell_type": "markdown",
   "metadata": {},
   "source": [
    "#### 28. What are the result of the following expressions?\n",
    "```python\n",
    "np.array(0) / np.array(0)\n",
    "np.array(0) // np.array(0)\n",
    "np.array([np.nan]).astype(int).astype(float)\n",
    "```"
   ]
  },
  {
   "cell_type": "code",
   "execution_count": 32,
   "metadata": {},
   "outputs": [
    {
     "name": "stderr",
     "output_type": "stream",
     "text": [
      "C:\\Users\\user\\AppData\\Local\\Temp\\ipykernel_5700\\4124992270.py:1: RuntimeWarning: invalid value encountered in divide\n",
      "  np.array(0) / np.array(0)       #Divide By Zero (Runtime Error)\n",
      "C:\\Users\\user\\AppData\\Local\\Temp\\ipykernel_5700\\4124992270.py:2: RuntimeWarning: divide by zero encountered in floor_divide\n",
      "  np.array(0) // np.array(0)      #Divide By Zero (Runtime Error)\n",
      "C:\\Users\\user\\AppData\\Local\\Temp\\ipykernel_5700\\4124992270.py:5: RuntimeWarning: invalid value encountered in cast\n",
      "  np.array([np.nan]).astype(int).astype(float)\n"
     ]
    },
    {
     "data": {
      "text/plain": [
       "array([-2.14748365e+09])"
      ]
     },
     "execution_count": 32,
     "metadata": {},
     "output_type": "execute_result"
    }
   ],
   "source": [
    "np.array(0) / np.array(0)       #Divide By Zero (Runtime Error)\n",
    "np.array(0) // np.array(0)      #Divide By Zero (Runtime Error)\n",
    "'''Convert nan into minimum integer value that the data type can represent and then back to float(whihc results in a \n",
    "a negative value)'''\n",
    "np.array([np.nan]).astype(int).astype(float) "
   ]
  },
  {
   "cell_type": "markdown",
   "metadata": {},
   "source": [
    "#### 29. How to round away from zero a float array ? (★☆☆)"
   ]
  },
  {
   "cell_type": "code",
   "execution_count": 51,
   "metadata": {},
   "outputs": [
    {
     "name": "stdout",
     "output_type": "stream",
     "text": [
      "[-1.74641099 -1.3656557  -0.44242372  0.34476221 -0.05118213  0.66537005\n",
      " -0.61676653 -1.06245415 -0.42980825  0.87076257]\n",
      "[ 1.  1.  1. -2. -2. -1. -1. -1. -2. -1.]\n"
     ]
    }
   ],
   "source": [
    "import numpy as np\n",
    "arr =  np.random.randn(10)\n",
    "print(arr)\n",
    "rounded_arr = np.ceil(arr[arr>=0])\n",
    "rounded_arr1 = np.floor(arr[arr < 0])\n",
    "final =  np.concatenate([rounded_arr,rounded_arr1])\n",
    "print(final)"
   ]
  },
  {
   "cell_type": "markdown",
   "metadata": {},
   "source": [
    "\n",
    "\n",
    "\n",
    "\n",
    "\n",
    "\n",
    "\n",
    "\n",
    "#### 30. How to find common values between two arrays? (★☆☆)"
   ]
  },
  {
   "cell_type": "code",
   "execution_count": 70,
   "metadata": {},
   "outputs": [
    {
     "name": "stdout",
     "output_type": "stream",
     "text": [
      "Array1 : \n",
      "[12 19 17 13 14 13 13 15 12 16 18 19 16 19 12 12 17 18 16 13 12 19 17 13\n",
      " 14]\n",
      "Array 2: \n",
      "[12 14 15 18 16 15 16 19 18 15 19 16 18 12 19 12 15 15 14 15 17 12 13 16\n",
      " 13]\n",
      "Common Element between the two arrays :  [12 19 17 13 14 13 13 15 12 16 18 19 16 19 12 12 17 18 16 13 12 19 17 13\n",
      " 14]\n"
     ]
    }
   ],
   "source": [
    "arr1 = np.random.randint(12,20,25)\n",
    "arr2 = np.random.randint(12,20,25)\n",
    "arr3 = arr1[np.isin(arr1, arr2)]\n",
    "print(\"Array1 : \", arr1, \"Array 2: \", arr2,sep=\"\\n\")\n",
    "print(\"Common Element between the two arrays : \",arr3)"
   ]
  },
  {
   "cell_type": "markdown",
   "metadata": {},
   "source": [
    "#### 31. How to ignore all numpy warnings (not recommended)? (★☆☆)"
   ]
  },
  {
   "cell_type": "code",
   "execution_count": 72,
   "metadata": {},
   "outputs": [
    {
     "data": {
      "text/plain": [
       "{'divide': 'ignore', 'over': 'ignore', 'under': 'ignore', 'invalid': 'ignore'}"
      ]
     },
     "execution_count": 72,
     "metadata": {},
     "output_type": "execute_result"
    }
   ],
   "source": [
    "import numpy as np \n",
    "np.seterr(all='ignore')\n",
    "\n",
    "#Reset it \n",
    "np.seterr(all=None)"
   ]
  },
  {
   "cell_type": "markdown",
   "metadata": {},
   "source": [
    "#### 32. Is the following expressions true? (★☆☆)\n",
    "```python\n",
    "np.sqrt(-1) == np.emath.sqrt(-1)\n",
    "```"
   ]
  },
  {
   "cell_type": "code",
   "execution_count": 74,
   "metadata": {},
   "outputs": [
    {
     "data": {
      "text/plain": [
       "False"
      ]
     },
     "execution_count": 74,
     "metadata": {},
     "output_type": "execute_result"
    }
   ],
   "source": [
    "bool(np.sqrt(-1 == np.emath.sqrt(-1)))"
   ]
  },
  {
   "cell_type": "markdown",
   "metadata": {},
   "source": [
    "#### 33. How to get the dates of yesterday, today and tomorrow? (★☆☆)"
   ]
  },
  {
   "cell_type": "code",
   "execution_count": 85,
   "metadata": {},
   "outputs": [
    {
     "name": "stdout",
     "output_type": "stream",
     "text": [
      "Yesterday's Date : 2024-02-17\n",
      " Today's Date :  2024-02-18\n",
      "Tomorrow's Date :  2024-02-19\n"
     ]
    }
   ],
   "source": [
    "import numpy as np\n",
    "today =  np.datetime64('today','D')\n",
    "yd = today - np.timedelta64(1,'D')\n",
    "tm = today + np.timedelta64(1,'D')\n",
    "print(\"Yesterday's Date :\", yd)\n",
    "print(\" Today's Date : \", today)\n",
    "print(\"Tomorrow's Date : \", tm)"
   ]
  },
  {
   "cell_type": "markdown",
   "metadata": {},
   "source": [
    "#### 34. How to get all the dates corresponding to the month of July 2016? (★★☆)"
   ]
  },
  {
   "cell_type": "code",
   "execution_count": 9,
   "metadata": {},
   "outputs": [
    {
     "name": "stdout",
     "output_type": "stream",
     "text": [
      "Enter the year : 2024\n",
      "Enter the month (in integer format) : 2\n",
      "2024-02-01\n",
      "2024-02-02\n",
      "2024-02-03\n",
      "2024-02-04\n",
      "2024-02-05\n",
      "2024-02-06\n",
      "2024-02-07\n",
      "2024-02-08\n",
      "2024-02-09\n",
      "2024-02-10\n",
      "2024-02-11\n",
      "2024-02-12\n",
      "2024-02-13\n",
      "2024-02-14\n",
      "2024-02-15\n",
      "2024-02-16\n",
      "2024-02-17\n",
      "2024-02-18\n",
      "2024-02-19\n",
      "2024-02-20\n",
      "2024-02-21\n",
      "2024-02-22\n",
      "2024-02-23\n",
      "2024-02-24\n",
      "2024-02-25\n",
      "2024-02-26\n",
      "2024-02-27\n",
      "2024-02-28\n",
      "2024-02-29\n"
     ]
    }
   ],
   "source": [
    "import numpy as np\n",
    "import datetime\n",
    "\n",
    "year = eval(input(\"Enter the year : \"))\n",
    "month = eval(input(\"Enter the month (in integer format) : \"))\n",
    "\n",
    "if 0 < month < 13:\n",
    "    start_date = datetime.date(year, month, 1)\n",
    "    num_days = (start_date.replace(month=start_date.month % 12 + 1, day=1) - start_date).days\n",
    "    dates = [start_date + datetime.timedelta(days=i) for i in range(num_days)]\n",
    "\n",
    "    for date in dates:\n",
    "        print(date)\n",
    "else:\n",
    "    print(\"There is no such month in a year\")"
   ]
  },
  {
   "cell_type": "markdown",
   "metadata": {},
   "source": [
    "#### 35. How to compute ((A+B)*(-A/2)) in place (without copy)? (★★☆)"
   ]
  },
  {
   "cell_type": "code",
   "execution_count": 30,
   "metadata": {},
   "outputs": [
    {
     "name": "stdout",
     "output_type": "stream",
     "text": [
      "[4 5 3 3 3]\n",
      "[5 9 5 8 9]\n",
      "[-18.  -35.  -12.  -16.5 -18. ]\n"
     ]
    }
   ],
   "source": [
    "import numpy as np\n",
    "A = np.array([4,5,3,3,3])\n",
    "print(A)\n",
    "B = np.array([5,9,5,8,9])\n",
    "print(B)\n",
    "A = A.astype(np.float64)\n",
    "B = B.astype(np.float64)\n",
    "A = - (A/2)\n",
    "A = -2*A*A + B*A\n",
    "print(A)"
   ]
  },
  {
   "cell_type": "code",
   "execution_count": 31,
   "metadata": {},
   "outputs": [
    {
     "name": "stdout",
     "output_type": "stream",
     "text": [
      "[4 5 3 3 3]\n",
      "[5 9 5 8 9]\n",
      "[-18.  -35.  -12.  -16.5 -18. ]\n"
     ]
    }
   ],
   "source": [
    "A = np.array([4,5,3,3,3])\n",
    "print(A)\n",
    "B = np.array([5,9,5,8,9])\n",
    "print(B)\n",
    "#For verification let's see the result is same or not\n",
    "print(((A+B)*(-A/2)))"
   ]
  },
  {
   "cell_type": "markdown",
   "metadata": {},
   "source": [
    "#### 36. Extract the integer part of a random array of positive numbers using 4 different methods (★★☆)"
   ]
  },
  {
   "cell_type": "code",
   "execution_count": 49,
   "metadata": {},
   "outputs": [
    {
     "name": "stdout",
     "output_type": "stream",
     "text": [
      "[ 3.  10.4 17.8 25.2 32.6 40. ]\n",
      "[ 3. 10. 17. 25. 32. 40.]\n"
     ]
    }
   ],
   "source": [
    "#Way 1 : Using manual logic \n",
    "arr=np.linspace(3,40,6)\n",
    "print(arr)\n",
    "dummy = arr.astype(np.int32)\n",
    "dummy= arr - dummy\n",
    "arr=arr-dummy\n",
    "print(arr)"
   ]
  },
  {
   "cell_type": "code",
   "execution_count": 50,
   "metadata": {},
   "outputs": [
    {
     "name": "stdout",
     "output_type": "stream",
     "text": [
      "[ 3. 10. 17. 25. 32. 40.]\n"
     ]
    }
   ],
   "source": [
    "#Way2 : Using floor or ceil function \n",
    "arr = np.linspace(3,40,6)\n",
    "print(np.floor(arr))"
   ]
  },
  {
   "cell_type": "code",
   "execution_count": 52,
   "metadata": {},
   "outputs": [
    {
     "name": "stdout",
     "output_type": "stream",
     "text": [
      "[ 3. 10. 17. 25. 32. 40.]\n"
     ]
    }
   ],
   "source": [
    "#Way3 : Using trunc() function \n",
    "arr = np.linspace(3,40,6)\n",
    "print(np.trunc(arr))"
   ]
  },
  {
   "cell_type": "code",
   "execution_count": 53,
   "metadata": {},
   "outputs": [
    {
     "name": "stdout",
     "output_type": "stream",
     "text": [
      "[ 3. 10. 18. 25. 33. 40.]\n"
     ]
    }
   ],
   "source": [
    "#Way :  round()\n",
    "arr = np.linspace(3,40,6)\n",
    "print(np.round(arr))"
   ]
  },
  {
   "cell_type": "markdown",
   "metadata": {},
   "source": [
    "#### 37. Create a 5x5 matrix with row values ranging from 0 to 4 (★★☆)"
   ]
  },
  {
   "cell_type": "code",
   "execution_count": 2,
   "metadata": {},
   "outputs": [
    {
     "name": "stdout",
     "output_type": "stream",
     "text": [
      "[[0 1 2 0 1]\n",
      " [1 3 2 0 1]\n",
      " [3 2 1 3 2]\n",
      " [3 0 1 2 1]\n",
      " [0 0 2 1 2]]\n"
     ]
    }
   ],
   "source": [
    "import numpy as np\n",
    "arr =  np.random.randint(0,4,25).reshape(5,5)\n",
    "print(arr)"
   ]
  },
  {
   "cell_type": "markdown",
   "metadata": {},
   "source": [
    "#### 38. Consider a generator function that generates 10 integers and use it to build an array (★☆☆)"
   ]
  },
  {
   "cell_type": "code",
   "execution_count": 18,
   "metadata": {},
   "outputs": [],
   "source": [
    "def generateAnArray(size):\n",
    "    num = 1\n",
    "    try:\n",
    "        while num<=size:\n",
    "            yield int(input(f\"Enter your element number {num} : \"))\n",
    "            num+=1\n",
    "    except Exception as e:\n",
    "        print(e)"
   ]
  },
  {
   "cell_type": "code",
   "execution_count": 22,
   "metadata": {},
   "outputs": [
    {
     "name": "stdout",
     "output_type": "stream",
     "text": [
      "Enter your element number 1 : 45\n",
      "Enter your element number 2 : 12\n",
      "Enter your element number 3 : 13\n",
      "Enter your element number 4 : 14\n",
      "Enter your element number 5 : 12\n",
      "[45 12 13 14 12]\n"
     ]
    }
   ],
   "source": [
    "import numpy as np\n",
    "gen = generateAnArray(5)\n",
    "array=np.array(list(gen))\n",
    "print(array)"
   ]
  },
  {
   "cell_type": "markdown",
   "metadata": {},
   "source": [
    "#### 39. Create a vector of size 10 with values ranging from 0 to 1, both excluded (★★☆)"
   ]
  },
  {
   "cell_type": "code",
   "execution_count": 24,
   "metadata": {},
   "outputs": [
    {
     "data": {
      "text/plain": [
       "array([0.9573707 , 0.46834775, 0.74307731, 0.23160261, 0.8294519 ,\n",
       "       0.28631227, 0.20980612, 0.39762921, 0.85912255, 0.91678172])"
      ]
     },
     "execution_count": 24,
     "metadata": {},
     "output_type": "execute_result"
    }
   ],
   "source": [
    "arr=np.random.rand(10)\n",
    "arr"
   ]
  },
  {
   "cell_type": "markdown",
   "metadata": {},
   "source": [
    "#### 40. Create a random vector of size 10 and sort it (★★☆)"
   ]
  },
  {
   "cell_type": "code",
   "execution_count": 26,
   "metadata": {},
   "outputs": [
    {
     "data": {
      "text/plain": [
       "array([ 5, 13, 15, 17, 27, 43, 59, 60, 62, 68])"
      ]
     },
     "execution_count": 26,
     "metadata": {},
     "output_type": "execute_result"
    }
   ],
   "source": [
    "arr = np.random.randint(1,100,10)\n",
    "arr.sort()\n",
    "arr"
   ]
  },
  {
   "cell_type": "markdown",
   "metadata": {},
   "source": [
    "#### 41. How to sum a small array faster than np.sum? (★★☆)"
   ]
  },
  {
   "cell_type": "code",
   "execution_count": 35,
   "metadata": {},
   "outputs": [
    {
     "name": "stdout",
     "output_type": "stream",
     "text": [
      "The element of the array are :  [21 39  8 31 48 18 43 86 32 16]\n",
      "The sum of all the element of the array is result: 342\n"
     ]
    }
   ],
   "source": [
    "import numpy as np \n",
    "arr = np.random.randint(1,101,10)\n",
    "print(\"The element of the array are : \", arr)\n",
    "result = np.add.reduce(arr)\n",
    "print(\"The sum of all the element of the array is result:\", result)"
   ]
  },
  {
   "cell_type": "markdown",
   "metadata": {},
   "source": [
    "#### 42. Consider two random array A and B, check if they are equal (★★☆)"
   ]
  },
  {
   "cell_type": "code",
   "execution_count": 73,
   "metadata": {},
   "outputs": [
    {
     "name": "stdout",
     "output_type": "stream",
     "text": [
      "A = [1 3]\n",
      "B = [2 3]\n",
      "The arrays are not same\n"
     ]
    }
   ],
   "source": [
    "import numpy as np\n",
    "A = np.random.randint(1,5,2)\n",
    "B = np.random.randint(1,4,2)\n",
    "flag = True\n",
    "print(f\"A = {A}\",f\"B = {B}\",sep = \"\\n\")\n",
    "for a,b in zip(A,B):\n",
    "    if a!=b:\n",
    "        flag = False\n",
    "        break\n",
    "if flag==True:\n",
    "    print(\"The arrays are same\")\n",
    "else:\n",
    "    print(\"The arrays are not same\")"
   ]
  },
  {
   "cell_type": "markdown",
   "metadata": {},
   "source": [
    "#### 43. Make an array immutable (read-only) (★★☆)"
   ]
  },
  {
   "cell_type": "code",
   "execution_count": 80,
   "metadata": {},
   "outputs": [
    {
     "name": "stdout",
     "output_type": "stream",
     "text": [
      "assignment destination is read-only\n"
     ]
    }
   ],
   "source": [
    "import numpy as np\n",
    "arr = np.array([12,34,54,32,43])\n",
    "immutable_array = arr.view()\n",
    "immutable_array.flags.writeable=False\n",
    "try:\n",
    "    immutable_array[2] = 4\n",
    "except Exception as e:\n",
    "    print(e)"
   ]
  },
  {
   "cell_type": "markdown",
   "metadata": {},
   "source": [
    "#### 44. Consider a random 10x2 matrix representing cartesian coordinates, convert them to polar coordinates (★★☆)"
   ]
  },
  {
   "cell_type": "code",
   "execution_count": 92,
   "metadata": {},
   "outputs": [
    {
     "name": "stdout",
     "output_type": "stream",
     "text": [
      "Cartesian Coordinates: \n",
      "[16 13]\n",
      "[14 15]\n",
      "[25 30]\n",
      "[22 12]\n",
      "[19 16]\n",
      "[23 24]\n",
      "[23 12]\n",
      "[12 24]\n",
      "[17 29]\n",
      "[23 17]\n",
      "Polar Coordinates: \n",
      "[20.615528128088304, 0.6823165548747481]\n",
      "[20.518284528683193, 0.8198672643969563]\n",
      "[39.05124837953327, 0.8760580505981934]\n",
      "[25.059928172283335, 0.4993467216801301]\n",
      "[24.839484696748443, 0.6998928697192437]\n",
      "[33.24154027718932, 0.8066715494215095]\n",
      "[25.942243542145693, 0.48088728019533583]\n",
      "[26.832815729997478, 1.1071487177940904]\n",
      "[33.61547262794322, 1.0405805540182667]\n",
      "[28.600699292150182, 0.636508215787951]\n"
     ]
    }
   ],
   "source": [
    "import numpy as np\n",
    "import math\n",
    "cartesian_coordinates = np.random.randint(11,31,20).reshape(10,2)\n",
    "polar_coordinates = []\n",
    "print(\"Cartesian Coordinates: \")\n",
    "for co in cartesian_coordinates:\n",
    "    print(co)\n",
    "for co in cartesian_coordinates:\n",
    "    r = math.sqrt((co[0])**2+(co[1])**2)\n",
    "    theta = math.atan2(co[1],co[0])\n",
    "    polar_coordinates.append([r,theta])\n",
    "print(\"Polar Coordinates: \")\n",
    "for co in polar_coordinates:\n",
    "    print(co)"
   ]
  },
  {
   "cell_type": "markdown",
   "metadata": {},
   "source": [
    "#### 45. Create random vector of size 10 and replace the maximum value by 0 (★★☆)"
   ]
  },
  {
   "cell_type": "code",
   "execution_count": 97,
   "metadata": {},
   "outputs": [
    {
     "name": "stdout",
     "output_type": "stream",
     "text": [
      "The Array is :  [27 30 74 87 41 71 57 23 86 49]\n",
      "After Changes, The array is :  [27 30 74  0 41 71 57 23 86 49]\n"
     ]
    }
   ],
   "source": [
    "import numpy as np\n",
    "arr =  np.random.randint(1,100,10)\n",
    "print(\"The Array is : \", arr)\n",
    "arr = np.where(arr == max(arr),0,arr)\n",
    "print(\"After Changes, The array is : \", arr)"
   ]
  },
  {
   "cell_type": "markdown",
   "metadata": {},
   "source": [
    "#### 46. Create a structured array with `x` and `y` coordinates covering the [0,1]x[0,1] area (★★☆)"
   ]
  },
  {
   "cell_type": "code",
   "execution_count": 105,
   "metadata": {},
   "outputs": [
    {
     "name": "stdout",
     "output_type": "stream",
     "text": [
      "The Structured array is as follows :\n",
      " [(0.53558397, 0.3445938 ) (0.48102043, 0.39692578)\n",
      " (0.14576957, 0.27208227) (0.63551543, 0.28589671)\n",
      " (0.25652646, 0.89869892) (0.32143041, 0.86160041)\n",
      " (0.94694199, 0.51330487) (0.90481503, 0.9564138 )\n",
      " (0.47933782, 0.73256564) (0.79316277, 0.45836153)]\n"
     ]
    }
   ],
   "source": [
    "#This is the size of the array\n",
    "size = 10\n",
    "#This is the datatype of the structured array\n",
    "datatype = [('x',float),('y',float)]\n",
    "#Now, I defined an array of the datatype I made in the previous line \n",
    "arr= np.zeros(size, dtype=datatype)\n",
    "#Now, I am filling the structured array\n",
    "arr['x'] = np.random.rand(size)\n",
    "arr['y'] = np.random.rand(size)\n",
    "print(\"The Structured array is as follows :\\n\",arr)"
   ]
  },
  {
   "cell_type": "markdown",
   "metadata": {},
   "source": [
    "#### 47. Given two arrays, X and Y, construct the Cauchy matrix C (Cij =1/(xi - yj))"
   ]
  },
  {
   "cell_type": "code",
   "execution_count": 6,
   "metadata": {},
   "outputs": [
    {
     "name": "stdout",
     "output_type": "stream",
     "text": [
      "X : [6 8 7 8 4 6 4 5 9 2]\n",
      "Y: [12 12 11 11 17 12 17 18 17 16]\n",
      "Cauchy Matrix : [-0.16666667 -0.25       -0.25       -0.33333333 -0.07692308 -0.16666667\n",
      " -0.07692308 -0.07692308 -0.125      -0.07142857]\n"
     ]
    }
   ],
   "source": [
    "import numpy as np\n",
    "x =  np.random.randint(1,11,10)\n",
    "y =  np.random.randint(11,21,10)\n",
    "cauchymatrix = 1/(x-y)\n",
    "print( f\"X : {x}\", f\"Y: {y}\",f\"Cauchy Matrix : {cauchymatrix}\",sep=\"\\n\")"
   ]
  },
  {
   "cell_type": "markdown",
   "metadata": {},
   "source": [
    "#### 48. Print the minimum and maximum representable value for each numpy scalar type (★★☆)"
   ]
  },
  {
   "cell_type": "code",
   "execution_count": 31,
   "metadata": {},
   "outputs": [
    {
     "name": "stdout",
     "output_type": "stream",
     "text": [
      "int32: Min -2147483648, Max: 2147483647\n",
      "float64: Min -1.7976931348623157e+308, Max: 1.7976931348623157e+308\n",
      "float16: Min -65504.0, Max: 65504.0\n",
      "float32: Min -3.4028234663852886e+38, Max: 3.4028234663852886e+38\n",
      "float64: Min -1.7976931348623157e+308, Max: 1.7976931348623157e+308\n",
      "float64: Min -1.7976931348623157e+308, Max: 1.7976931348623157e+308\n",
      "int8: Min -128, Max: 127\n",
      "int16: Min -32768, Max: 32767\n",
      "int32: Min -2147483648, Max: 2147483647\n",
      "int32: Min -2147483648, Max: 2147483647\n",
      "int64: Min -9223372036854775808, Max: 9223372036854775807\n",
      "uint8: Min 0, Max: 255\n",
      "uint16: Min 0, Max: 65535\n",
      "uint32: Min 0, Max: 4294967295\n",
      "uint32: Min 0, Max: 4294967295\n",
      "uint64: Min 0, Max: 18446744073709551615\n"
     ]
    }
   ],
   "source": [
    " import numpy as np\n",
    "\n",
    "# Get all scalar types recognized by NumPy, excluding non-numeric types\n",
    "scalar_types = [np.dtype(t) for t in np.ScalarType if np.dtype(t).kind in ('f', 'i', 'u')]\n",
    "\n",
    "for dtype in scalar_types:\n",
    "    info = np.iinfo(dtype) if np.issubdtype(dtype, np.integer) else np.finfo(dtype)\n",
    "    print(f\"{dtype.name}: Min {info.min}, Max: {info.max}\")"
   ]
  },
  {
   "cell_type": "markdown",
   "metadata": {},
   "source": [
    "#### 49. How to print all the values of an array? (★★☆)"
   ]
  },
  {
   "cell_type": "code",
   "execution_count": 38,
   "metadata": {
    "scrolled": true
   },
   "outputs": [
    {
     "name": "stdout",
     "output_type": "stream",
     "text": [
      "57\n",
      "171\n",
      "96\n",
      "136\n",
      "184\n",
      "61\n",
      "115\n",
      "165\n",
      "117\n",
      "53\n"
     ]
    }
   ],
   "source": [
    "import numpy as np\n",
    "arr = np.random.randint(11,200,10)\n",
    "for element in arr:\n",
    "    print(element)"
   ]
  },
  {
   "cell_type": "markdown",
   "metadata": {},
   "source": [
    "#### 50. How to find the closest value (to a given scalar) in a vector? (★★☆)"
   ]
  },
  {
   "cell_type": "code",
   "execution_count": 42,
   "metadata": {},
   "outputs": [
    {
     "name": "stdout",
     "output_type": "stream",
     "text": [
      "[11 10 14 15  8  9 11  8 14 15]\n",
      "8\n"
     ]
    }
   ],
   "source": [
    "scalar = 5.5\n",
    "vector = np.random.randint(6,16,10)\n",
    "print(vector)\n",
    "index = np.abs(vector - scalar).argmin()\n",
    "print(vector[index])"
   ]
  },
  {
   "cell_type": "markdown",
   "metadata": {},
   "source": [
    "argmin() returns the index of the minimum value in a numpy array object.<br>\n",
    "Here, the first line is the scalar value for which the closest value in the vector is to be found.<br>\n",
    "So, to find we make an array that contains absolute difference between each element and the scalar value.<br>\n",
    "Then the index of minmum absolute value is obtainted using the argmin function of the numpy module.<br>\n",
    "Then, this index value is used to print that value inside the print funtion."
   ]
  },
  {
   "cell_type": "markdown",
   "metadata": {},
   "source": [
    "#### 51. Create a structured array representing a position (x,y) and a color (r,g,b) (★★☆)"
   ]
  },
  {
   "cell_type": "code",
   "execution_count": 14,
   "metadata": {
    "scrolled": true
   },
   "outputs": [
    {
     "name": "stdout",
     "output_type": "stream",
     "text": [
      "[(12., 13., (255,   0,   0)) (16., 19., (  0, 255,   0))\n",
      " (20., 18., (  0,   0, 255))]\n"
     ]
    }
   ],
   "source": [
    "import numpy as np\n",
    "data_type =  [('X', float),('Y', float),('color',[('r',int),('g',int),('b',int)])]\n",
    "data_points = [{'X':12,'Y':13,'color':(255,0,0)},{'X':16,'Y':19,'color':(0,255,0)},{'X':20,'Y':18,'color':(0,0,255)}]\n",
    "structured_array=np.empty((0,),dtype = data_type)\n",
    "for p in data_points:\n",
    "    structured_array = np.append(structured_array,np.array([(p['X'],p['Y'],p['color'])], dtype = data_type))\n",
    "print(structured_array)"
   ]
  },
  {
   "cell_type": "markdown",
   "metadata": {},
   "source": [
    "#### 52. Consider a random vector with shape (10,2) representing coordinates, find point by point distances (★★☆)"
   ]
  },
  {
   "cell_type": "code",
   "execution_count": 15,
   "metadata": {},
   "outputs": [
    {
     "name": "stdout",
     "output_type": "stream",
     "text": [
      "[[ 0.         12.04159458 16.03121954  1.41421356  9.21954446 16.\n",
      "   8.          7.28010989 10.          9.05538514]\n",
      " [12.04159458  0.          4.         13.15294644  8.60232527 20.80865205\n",
      "  15.         12.80624847 10.81665383  3.60555128]\n",
      " [16.03121954  4.          0.         17.11724277 11.40175425 23.34523506\n",
      "  18.35755975 16.1245155  13.45362405  7.28010989]\n",
      " [ 1.41421356 13.15294644 17.11724277  0.          9.43398113 15.03329638\n",
      "   7.07106781  6.70820393  9.89949494 10.        ]\n",
      " [ 9.21954446  8.60232527 11.40175425  9.43398113  0.         12.20655562\n",
      "   7.28010989  5.09901951  2.23606798  5.38516481]\n",
      " [16.         20.80865205 23.34523506 15.03329638 12.20655562  0.\n",
      "   8.          9.21954446 10.         17.49285568]\n",
      " [ 8.         15.         18.35755975  7.07106781  7.28010989  8.\n",
      "   0.          2.23606798  6.         11.40175425]\n",
      " [ 7.28010989 12.80624847 16.1245155   6.70820393  5.09901951  9.21954446\n",
      "   2.23606798  0.          4.12310563  9.21954446]\n",
      " [10.         10.81665383 13.45362405  9.89949494  2.23606798 10.\n",
      "   6.          4.12310563  0.          7.61577311]\n",
      " [ 9.05538514  3.60555128  7.28010989 10.          5.38516481 17.49285568\n",
      "  11.40175425  9.21954446  7.61577311  0.        ]]\n"
     ]
    }
   ],
   "source": [
    "import numpy as np\n",
    "Z = np.random.randint(1,21,20).reshape(10,2)\n",
    "# Here by extracting the first column and the second column,using slicing(z[:,0],z[:,1]) we get a 1D array\n",
    "X,Y = np.atleast_2d(Z[:,0], Z[:,1])\n",
    "# Then the above np.atleast_2d() Converts the input into a 2D array\n",
    "# Then We smartly find distance of one point with that of other by using transpose \n",
    "D = np.sqrt( (X-X.T)**2 + (Y-Y.T)**2)\n",
    "print(D)"
   ]
  },
  {
   "cell_type": "markdown",
   "metadata": {
    "collapsed": true
   },
   "source": [
    "## Step Wise Calucation to deep dive to understand the logic"
   ]
  },
  {
   "cell_type": "code",
   "execution_count": 17,
   "metadata": {},
   "outputs": [
    {
     "data": {
      "text/plain": [
       "array([[ 2,  1,  1,  3,  8, 18, 10,  9, 10,  3]])"
      ]
     },
     "execution_count": 17,
     "metadata": {},
     "output_type": "execute_result"
    }
   ],
   "source": [
    "X"
   ]
  },
  {
   "cell_type": "code",
   "execution_count": 18,
   "metadata": {},
   "outputs": [
    {
     "data": {
      "text/plain": [
       "array([[ 2],\n",
       "       [ 1],\n",
       "       [ 1],\n",
       "       [ 3],\n",
       "       [ 8],\n",
       "       [18],\n",
       "       [10],\n",
       "       [ 9],\n",
       "       [10],\n",
       "       [ 3]])"
      ]
     },
     "execution_count": 18,
     "metadata": {},
     "output_type": "execute_result"
    }
   ],
   "source": [
    "X.T"
   ]
  },
  {
   "cell_type": "code",
   "execution_count": 16,
   "metadata": {
    "scrolled": true
   },
   "outputs": [
    {
     "data": {
      "text/plain": [
       "array([[  0,  -1,  -1,   1,   6,  16,   8,   7,   8,   1],\n",
       "       [  1,   0,   0,   2,   7,  17,   9,   8,   9,   2],\n",
       "       [  1,   0,   0,   2,   7,  17,   9,   8,   9,   2],\n",
       "       [ -1,  -2,  -2,   0,   5,  15,   7,   6,   7,   0],\n",
       "       [ -6,  -7,  -7,  -5,   0,  10,   2,   1,   2,  -5],\n",
       "       [-16, -17, -17, -15, -10,   0,  -8,  -9,  -8, -15],\n",
       "       [ -8,  -9,  -9,  -7,  -2,   8,   0,  -1,   0,  -7],\n",
       "       [ -7,  -8,  -8,  -6,  -1,   9,   1,   0,   1,  -6],\n",
       "       [ -8,  -9,  -9,  -7,  -2,   8,   0,  -1,   0,  -7],\n",
       "       [ -1,  -2,  -2,   0,   5,  15,   7,   6,   7,   0]])"
      ]
     },
     "execution_count": 16,
     "metadata": {},
     "output_type": "execute_result"
    }
   ],
   "source": [
    "X-X.T"
   ]
  },
  {
   "cell_type": "code",
   "execution_count": 19,
   "metadata": {},
   "outputs": [
    {
     "data": {
      "text/plain": [
       "array([[  0,   1,   1,   1,  36, 256,  64,  49,  64,   1],\n",
       "       [  1,   0,   0,   4,  49, 289,  81,  64,  81,   4],\n",
       "       [  1,   0,   0,   4,  49, 289,  81,  64,  81,   4],\n",
       "       [  1,   4,   4,   0,  25, 225,  49,  36,  49,   0],\n",
       "       [ 36,  49,  49,  25,   0, 100,   4,   1,   4,  25],\n",
       "       [256, 289, 289, 225, 100,   0,  64,  81,  64, 225],\n",
       "       [ 64,  81,  81,  49,   4,  64,   0,   1,   0,  49],\n",
       "       [ 49,  64,  64,  36,   1,  81,   1,   0,   1,  36],\n",
       "       [ 64,  81,  81,  49,   4,  64,   0,   1,   0,  49],\n",
       "       [  1,   4,   4,   0,  25, 225,  49,  36,  49,   0]])"
      ]
     },
     "execution_count": 19,
     "metadata": {},
     "output_type": "execute_result"
    }
   ],
   "source": [
    "(X-X.T)**2"
   ]
  },
  {
   "cell_type": "code",
   "execution_count": 22,
   "metadata": {},
   "outputs": [
    {
     "data": {
      "text/plain": [
       "array([[  0, 144, 256,   1,  49,   0,   0,   4,  36,  81],\n",
       "       [144,   0,  16, 169,  25, 144, 144, 100,  36,   9],\n",
       "       [256,  16,   0, 289,  81, 256, 256, 196, 100,  49],\n",
       "       [  1, 169, 289,   0,  64,   1,   1,   9,  49, 100],\n",
       "       [ 49,  25,  81,  64,   0,  49,  49,  25,   1,   4],\n",
       "       [  0, 144, 256,   1,  49,   0,   0,   4,  36,  81],\n",
       "       [  0, 144, 256,   1,  49,   0,   0,   4,  36,  81],\n",
       "       [  4, 100, 196,   9,  25,   4,   4,   0,  16,  49],\n",
       "       [ 36,  36, 100,  49,   1,  36,  36,  16,   0,   9],\n",
       "       [ 81,   9,  49, 100,   4,  81,  81,  49,   9,   0]])"
      ]
     },
     "execution_count": 22,
     "metadata": {},
     "output_type": "execute_result"
    }
   ],
   "source": [
    "#Similarly \n",
    "(Y-Y.T)**2"
   ]
  },
  {
   "cell_type": "code",
   "execution_count": 21,
   "metadata": {},
   "outputs": [
    {
     "data": {
      "text/plain": [
       "array([[ 0.        , 12.04159458, 16.03121954,  1.41421356,  9.21954446,\n",
       "        16.        ,  8.        ,  7.28010989, 10.        ,  9.05538514],\n",
       "       [12.04159458,  0.        ,  4.        , 13.15294644,  8.60232527,\n",
       "        20.80865205, 15.        , 12.80624847, 10.81665383,  3.60555128],\n",
       "       [16.03121954,  4.        ,  0.        , 17.11724277, 11.40175425,\n",
       "        23.34523506, 18.35755975, 16.1245155 , 13.45362405,  7.28010989],\n",
       "       [ 1.41421356, 13.15294644, 17.11724277,  0.        ,  9.43398113,\n",
       "        15.03329638,  7.07106781,  6.70820393,  9.89949494, 10.        ],\n",
       "       [ 9.21954446,  8.60232527, 11.40175425,  9.43398113,  0.        ,\n",
       "        12.20655562,  7.28010989,  5.09901951,  2.23606798,  5.38516481],\n",
       "       [16.        , 20.80865205, 23.34523506, 15.03329638, 12.20655562,\n",
       "         0.        ,  8.        ,  9.21954446, 10.        , 17.49285568],\n",
       "       [ 8.        , 15.        , 18.35755975,  7.07106781,  7.28010989,\n",
       "         8.        ,  0.        ,  2.23606798,  6.        , 11.40175425],\n",
       "       [ 7.28010989, 12.80624847, 16.1245155 ,  6.70820393,  5.09901951,\n",
       "         9.21954446,  2.23606798,  0.        ,  4.12310563,  9.21954446],\n",
       "       [10.        , 10.81665383, 13.45362405,  9.89949494,  2.23606798,\n",
       "        10.        ,  6.        ,  4.12310563,  0.        ,  7.61577311],\n",
       "       [ 9.05538514,  3.60555128,  7.28010989, 10.        ,  5.38516481,\n",
       "        17.49285568, 11.40175425,  9.21954446,  7.61577311,  0.        ]])"
      ]
     },
     "execution_count": 21,
     "metadata": {},
     "output_type": "execute_result"
    }
   ],
   "source": [
    "np.sqrt((X-X.T)**2 + (Y-Y.T)**2)"
   ]
  },
  {
   "cell_type": "code",
   "execution_count": 5,
   "metadata": {},
   "outputs": [
    {
     "name": "stdout",
     "output_type": "stream",
     "text": [
      "[[0.         0.24864981 0.45986087 0.98212011 0.21894281 0.66925033\n",
      "  0.51970458 0.07135872 0.54837736 0.14240373]\n",
      " [0.24864981 0.         0.36817062 0.95243514 0.24511853 0.607314\n",
      "  0.29503742 0.2165769  0.69615034 0.11041349]\n",
      " [0.45986087 0.36817062 0.         0.58649652 0.24705144 0.23932942\n",
      "  0.29452223 0.4873723  0.53682942 0.41292612]\n",
      " [0.98212011 0.95243514 0.58649652 0.         0.77038064 0.34879489\n",
      "  0.82575359 1.03082298 0.67006095 0.98009604]\n",
      " [0.21894281 0.24511853 0.24705144 0.77038064 0.         0.45052643\n",
      "  0.39354613 0.26066934 0.45456996 0.22126429]\n",
      " [0.66925033 0.607314   0.23932942 0.34879489 0.45052643 0.\n",
      "  0.48724249 0.70826798 0.54136819 0.64498127]\n",
      " [0.51970458 0.29503742 0.29452223 0.82575359 0.39354613 0.48724249\n",
      "  0.         0.50511687 0.80594556 0.39931821]\n",
      " [0.07135872 0.2165769  0.4873723  1.03082298 0.26066934 0.70826798\n",
      "  0.50511687 0.         0.61916104 0.10669493]\n",
      " [0.54837736 0.69615034 0.53682942 0.67006095 0.45456996 0.54136819\n",
      "  0.80594556 0.61916104 0.         0.64206861]\n",
      " [0.14240373 0.11041349 0.41292612 0.98009604 0.22126429 0.64498127\n",
      "  0.39931821 0.10669493 0.64206861 0.        ]]\n"
     ]
    }
   ],
   "source": [
    "# Much faster with scipy\n",
    "import scipy\n",
    "# Thanks Gavin Heverly-Coulson (#issue 1)\n",
    "import scipy.spatial\n",
    "Z = np.random.random((10,2))\n",
    "D = scipy.spatial.distance.cdist(Z,Z)\n",
    "print(D)"
   ]
  },
  {
   "cell_type": "markdown",
   "metadata": {},
   "source": [
    "#### 53. How to convert a float (32 bits) array into an integer (32 bits) in place?"
   ]
  },
  {
   "cell_type": "code",
   "execution_count": 35,
   "metadata": {},
   "outputs": [
    {
     "name": "stdout",
     "output_type": "stream",
     "text": [
      "[1 2 3 4 5]\n",
      "int32\n",
      "[1. 2. 3. 4. 5.]\n",
      "float32\n"
     ]
    }
   ],
   "source": [
    "import numpy as np\n",
    "arr = np.array([1,2,3,4,5], dtype = 'int32')\n",
    "print(arr)\n",
    "print(arr.dtype)\n",
    "arr=arr.astype('float32')\n",
    "print(arr)\n",
    "print(arr.dtype)"
   ]
  },
  {
   "cell_type": "markdown",
   "metadata": {},
   "source": [
    "#### 54. How to read the following file? (★★☆)\n",
    "```\n",
    "1, 2, 3, 4, 5\n",
    "6,  ,  , 7, 8\n",
    " ,  , 9,10,11\n",
    "```"
   ]
  },
  {
   "cell_type": "code",
   "execution_count": 1,
   "metadata": {},
   "outputs": [
    {
     "name": "stdout",
     "output_type": "stream",
     "text": [
      "[[ 1.  2.  3.  4.  5.]\n",
      " [ 6. nan nan  7.  8.]\n",
      " [nan nan  9. 10. 11.]]\n",
      "<class 'numpy.ndarray'>\n"
     ]
    }
   ],
   "source": [
    "import numpy as np\n",
    "data = np.genfromtxt('file.txt',delimiter = ',',dtype='float32',filling_values = np.nan)\n",
    "print(data)\n",
    "print(type(data))"
   ]
  },
  {
   "cell_type": "markdown",
   "metadata": {},
   "source": [
    "#### 55. What is the equivalent of enumerate for numpy arrays? (★★☆)"
   ]
  },
  {
   "cell_type": "code",
   "execution_count": 2,
   "metadata": {},
   "outputs": [
    {
     "name": "stdout",
     "output_type": "stream",
     "text": [
      "(0, 0) 1\n",
      "(0, 1) 2\n",
      "(0, 2) 3\n",
      "(1, 0) 4\n",
      "(1, 1) 5\n",
      "(1, 2) 6\n"
     ]
    }
   ],
   "source": [
    "import numpy as np\n",
    "data = np.arange(1,7).reshape(2,3)\n",
    "for index, value in np.ndenumerate(data):\n",
    "    print(index,value)"
   ]
  },
  {
   "cell_type": "markdown",
   "metadata": {},
   "source": [
    "#### 56. Generate a generic 2D Gaussian-like array (★★☆)"
   ]
  },
  {
   "cell_type": "markdown",
   "metadata": {},
   "source": [
    "Keeping it on halt because I want to finish the maths used for Data Science "
   ]
  },
  {
   "cell_type": "markdown",
   "metadata": {},
   "source": [
    "#### 57. How to randomly place p elements in a 2D array? (★★☆)"
   ]
  },
  {
   "cell_type": "code",
   "execution_count": 17,
   "metadata": {},
   "outputs": [
    {
     "name": "stdout",
     "output_type": "stream",
     "text": [
      "[0. 0. 0. 0. 0. 0. 0. 0. 0. 0. 0. 0. 0. 0. 0. 0. 0. 0. 0. 0. 0. 0. 0. 0.\n",
      " 0.]\n",
      "[ 4  6  9 20 12]\n",
      "[[0. 0. 0. 0. 0.]\n",
      " [0. 0. 0. 0. 0.]\n",
      " [0. 0. 0. 0. 0.]\n",
      " [0. 0. 0. 0. 0.]\n",
      " [0. 0. 0. 0. 0.]]\n",
      "[[0. 0. 0. 0. 1.]\n",
      " [0. 1. 0. 0. 1.]\n",
      " [0. 0. 1. 0. 0.]\n",
      " [0. 0. 0. 0. 0.]\n",
      " [1. 0. 0. 0. 0.]]\n"
     ]
    }
   ],
   "source": [
    "import numpy as np\n",
    "def place_random_elements(array,p,value):\n",
    "    flat_array = array.flatten()\n",
    "    random_indices = np.random.choice(flat_array.size, size = p, replace = False)\n",
    "    print(random_indices)\n",
    "    flat_array[random_indices] = value\n",
    "    return flat_array.reshape(array.shape)\n",
    "\n",
    "arr = np.zeros(25).reshape(5,5)\n",
    "updated_array = place_random_elements(arr,5,1)\n",
    "print(arr)\n",
    "print(updated_array)"
   ]
  },
  {
   "cell_type": "markdown",
   "metadata": {},
   "source": [
    "#### 58. Subtract the mean of each row of a matrix (★★☆)"
   ]
  },
  {
   "cell_type": "code",
   "execution_count": 28,
   "metadata": {},
   "outputs": [
    {
     "name": "stdout",
     "output_type": "stream",
     "text": [
      "[[39 39 32 40 26]\n",
      " [24 35 41 44 30]\n",
      " [39 40 27 34 43]\n",
      " [28 28 39 28 44]\n",
      " [25 23 32 38 28]]\n",
      "[[  3   3  -3   4  -9]\n",
      " [-10   0   6   9  -4]\n",
      " [  2   3  -9  -2   6]\n",
      " [ -5  -5   5  -5  10]\n",
      " [ -4  -6   2   8  -1]]\n"
     ]
    }
   ],
   "source": [
    "import numpy as np\n",
    "arr = np.random.randint(23,45,25).reshape(5,5)\n",
    "row, column = arr.shape\n",
    "print(arr)\n",
    "for i in range(0,row):\n",
    "    arr[i,:]=arr[i,:]-np.mean(arr[i,:])\n",
    "print(arr)"
   ]
  },
  {
   "cell_type": "markdown",
   "metadata": {},
   "source": [
    "#### 59. How to sort an array by the nth column? (★★☆)"
   ]
  },
  {
   "cell_type": "code",
   "execution_count": 35,
   "metadata": {},
   "outputs": [
    {
     "name": "stdout",
     "output_type": "stream",
     "text": [
      "Unsorted : \n",
      " [[27 42 33 23 35]\n",
      " [23 24 41 40 36]\n",
      " [35 26 38 36 24]\n",
      " [31 25 34 23 25]\n",
      " [35 44 43 38 25]]\n",
      "Sorted : \n",
      " [[27 42 33 23 35]\n",
      " [31 25 34 23 25]\n",
      " [35 26 38 36 24]\n",
      " [35 44 43 38 25]\n",
      " [23 24 41 40 36]]\n"
     ]
    }
   ],
   "source": [
    "import numpy as np\n",
    "arr = np.random.randint(23,45,25).reshape(5,5)\n",
    "n=3\n",
    "print(\"Unsorted : \\n\", arr)\n",
    "indices =  np.argsort(arr[:,n])\n",
    "print(\"Sorted : \\n\", arr[indices])"
   ]
  },
  {
   "cell_type": "markdown",
   "metadata": {},
   "source": [
    "#### 60. How to tell if a given 2D array has null columns? (★★☆)"
   ]
  },
  {
   "cell_type": "code",
   "execution_count": 41,
   "metadata": {},
   "outputs": [
    {
     "name": "stdout",
     "output_type": "stream",
     "text": [
      "Yes!! At least one column is null\n"
     ]
    }
   ],
   "source": [
    "#Way 1\n",
    "import numpy as np\n",
    "arr = np.array([[1,2,3,np.nan,5],\n",
    "               [1,2,3,np.nan,5],\n",
    "               [1,2,3,np.nan,5],\n",
    "               [1,2,3,np.nan,5],\n",
    "               [1,2,3,np.nan,5]])\n",
    "if np.any(np.all(np.isnan(arr), axis =0)):\n",
    "    print(\"Yes!! At least one column is null\")\n",
    "else:\n",
    "    print(\"No column is null\")"
   ]
  },
  {
   "cell_type": "code",
   "execution_count": 38,
   "metadata": {},
   "outputs": [
    {
     "name": "stdout",
     "output_type": "stream",
     "text": [
      "[[ 1.  2.  3. nan  5.]\n",
      " [ 1.  2.  3. nan  5.]\n",
      " [ 1.  2.  3. nan  5.]\n",
      " [ 1.  2.  3. nan  5.]\n",
      " [ 1.  2.  3. nan  5.]]\n",
      "Yes!! It has \n"
     ]
    }
   ],
   "source": [
    "#Way 2\n",
    "import numpy as np\n",
    "arr = np.array([[1,2,3,np.nan,5],\n",
    "               [1,2,3,np.nan,5],\n",
    "               [1,2,3,np.nan,5],\n",
    "               [1,2,3,np.nan,5],\n",
    "               [1,2,3,np.nan,5]])\n",
    "Flag=False\n",
    "row, column = arr.shape\n",
    "print(arr)\n",
    "for i in range(0,column):\n",
    "    if np.all(np.isnan(arr[:,i])):\n",
    "        Flag = True\n",
    "        break\n",
    "if Flag == True:\n",
    "    print(\"Yes!! It has \")\n",
    "else:\n",
    "    print(\"NO!!It doesn't have\")"
   ]
  },
  {
   "cell_type": "markdown",
   "metadata": {},
   "source": [
    "#### 61. Find the nearest value from a given value in an array (★★☆)"
   ]
  },
  {
   "cell_type": "code",
   "execution_count": 9,
   "metadata": {},
   "outputs": [
    {
     "name": "stdout",
     "output_type": "stream",
     "text": [
      "Enter a number : 85\n",
      "[  9  91  12  23  60  67  78  78  43   6  28  52  74  19  28  97  81  15\n",
      "  89  21  76  95  26  63  83  47  35  98  94   5  51  54  26  93   8  74\n",
      "  53  69   4  26  75  71 100  73  34  39  68  60  11  35]\n",
      "The value you have entered :  85\n",
      "The nearest Value in array :  83\n"
     ]
    }
   ],
   "source": [
    "import numpy as np\n",
    "given_value = int(input(\"Enter a number : \"))\n",
    "array =  np.random.randint(1,101,50)\n",
    "print(array)\n",
    "index = np.abs(array - given_value).argmin()\n",
    "print(\"The value you have entered : \", given_value)\n",
    "print(\"The nearest Value in array : \",array[index])"
   ]
  },
  {
   "cell_type": "markdown",
   "metadata": {},
   "source": [
    "#### 62. Considering two arrays with shape (1,3) and (3,1), how to compute their sum using an iterator? (★★☆)"
   ]
  },
  {
   "cell_type": "code",
   "execution_count": 31,
   "metadata": {},
   "outputs": [
    {
     "ename": "StopIteration",
     "evalue": "",
     "output_type": "error",
     "traceback": [
      "\u001b[1;31m---------------------------------------------------------------------------\u001b[0m",
      "\u001b[1;31mStopIteration\u001b[0m                             Traceback (most recent call last)",
      "Cell \u001b[1;32mIn[31], line 13\u001b[0m\n\u001b[0;32m     11\u001b[0m arr1 \u001b[38;5;241m=\u001b[39m \u001b[38;5;28miter\u001b[39m(np\u001b[38;5;241m.\u001b[39marray([\u001b[38;5;241m1\u001b[39m,\u001b[38;5;241m2\u001b[39m,\u001b[38;5;241m3\u001b[39m]))\n\u001b[0;32m     12\u001b[0m arr2 \u001b[38;5;241m=\u001b[39m \u001b[38;5;28miter\u001b[39m(np\u001b[38;5;241m.\u001b[39marray([[\u001b[38;5;241m1\u001b[39m],[\u001b[38;5;241m2\u001b[39m],[\u001b[38;5;241m3\u001b[39m]])) \n\u001b[1;32m---> 13\u001b[0m result\u001b[38;5;241m=\u001b[39msum_iterator(arr1,arr2)\n",
      "Cell \u001b[1;32mIn[31], line 8\u001b[0m, in \u001b[0;36msum_iterator\u001b[1;34m(a, b)\u001b[0m\n\u001b[0;32m      6\u001b[0m \u001b[38;5;28;01mfor\u001b[39;00m i \u001b[38;5;129;01min\u001b[39;00m \u001b[38;5;28mrange\u001b[39m(\u001b[38;5;241m3\u001b[39m):\n\u001b[0;32m      7\u001b[0m     \u001b[38;5;28;01mfor\u001b[39;00m j \u001b[38;5;129;01min\u001b[39;00m \u001b[38;5;28mrange\u001b[39m(\u001b[38;5;241m3\u001b[39m):\n\u001b[1;32m----> 8\u001b[0m         ans[i,j] \u001b[38;5;241m=\u001b[39m \u001b[38;5;28mnext\u001b[39m(a) \u001b[38;5;241m+\u001b[39m \u001b[38;5;28mnext\u001b[39m (b)\n\u001b[0;32m      9\u001b[0m \u001b[38;5;28;01mreturn\u001b[39;00m ans\n",
      "\u001b[1;31mStopIteration\u001b[0m: "
     ]
    }
   ],
   "source": [
    "#Creating a user defined iterator \n",
    "import numpy as np\n",
    "\n",
    "def sum_iterator(a,b):\n",
    "    ans = np.zeros((3,3))\n",
    "    for i in range(3):\n",
    "        for j in range(3):\n",
    "            ans[i,j] = next(a) + next (b)\n",
    "    return ans\n",
    "\n",
    "arr1 = iter(np.array([1,2,3]))\n",
    "arr2 = iter(np.array([[1],[2],[3]])) \n",
    "result=sum_iterator(arr1,arr2)"
   ]
  },
  {
   "cell_type": "code",
   "execution_count": 3,
   "metadata": {},
   "outputs": [],
   "source": [
    "def sum_iterator(a,b):\n",
    "    ans = next(a) + next(b)\n",
    "    return ans\n",
    "import numpy as np\n",
    "arr1 = iter(np.array([1,2,3]))\n",
    "arr2 = iter(np.array([[1],[2],[3]])) "
   ]
  },
  {
   "cell_type": "code",
   "execution_count": 4,
   "metadata": {},
   "outputs": [
    {
     "data": {
      "text/plain": [
       "array([2])"
      ]
     },
     "execution_count": 4,
     "metadata": {},
     "output_type": "execute_result"
    }
   ],
   "source": [
    "sum_iterator(arr1,arr2)"
   ]
  },
  {
   "cell_type": "code",
   "execution_count": 5,
   "metadata": {},
   "outputs": [
    {
     "data": {
      "text/plain": [
       "array([4])"
      ]
     },
     "execution_count": 5,
     "metadata": {},
     "output_type": "execute_result"
    }
   ],
   "source": [
    "sum_iterator(arr1,arr2)"
   ]
  },
  {
   "cell_type": "code",
   "execution_count": 6,
   "metadata": {},
   "outputs": [
    {
     "data": {
      "text/plain": [
       "array([6])"
      ]
     },
     "execution_count": 6,
     "metadata": {},
     "output_type": "execute_result"
    }
   ],
   "source": [
    "sum_iterator(arr1,arr2)"
   ]
  },
  {
   "cell_type": "markdown",
   "metadata": {},
   "source": [
    "#### 63. Create an array class that has a name attribute (★★☆)"
   ]
  },
  {
   "cell_type": "code",
   "execution_count": 12,
   "metadata": {},
   "outputs": [
    {
     "name": "stdout",
     "output_type": "stream",
     "text": [
      "[12 34 56]\n",
      "weightage\n"
     ]
    }
   ],
   "source": [
    "import numpy as np\n",
    "class named_array(np.ndarray):    \n",
    "    def __new__(cls,arr,name = None):\n",
    "        obj = np.asarray(arr).view(cls)\n",
    "        obj.name = name\n",
    "        return obj\n",
    "    def __array_finalize__(self,obj):\n",
    "        if obj is None:\n",
    "            return \n",
    "        self.name = getattr(obj, 'name' , None)\n",
    "array = named_array([12,34,56], name = 'weightage')\n",
    "print(array)\n",
    "print(array.name)"
   ]
  },
  {
   "cell_type": "markdown",
   "metadata": {},
   "source": [
    "#### 64. Consider a given vector, how to add 1 to each element indexed by a second vector (be careful with repeated indices)? (★★★)"
   ]
  },
  {
   "cell_type": "code",
   "execution_count": 22,
   "metadata": {},
   "outputs": [
    {
     "name": "stdout",
     "output_type": "stream",
     "text": [
      "Vector before adding 1 indexed by a second vector :  [3 7 4 1 9 2 3 4 4 1]\n",
      "Indices to be updated are :   [0 9 8 2 1 4 8 1 1 7]\n",
      "Vector after adding 1 indexed by a second vector :  [ 4 10  5  1 10  2  3  5  6  2]\n"
     ]
    }
   ],
   "source": [
    "import numpy as np\n",
    "vector =  np.random.randint(1,11,10)\n",
    "indices = np.random.randint(0,10,10)\n",
    "print(\"Vector before adding 1 indexed by a second vector : \", vector)\n",
    "print(\"Indices to be updated are :  \", indices)\n",
    "unique_indices, count = np.unique(indices, return_counts= True)\n",
    "vector[unique_indices]+=1*count\n",
    "print(\"Vector after adding 1 indexed by a second vector : \", vector)"
   ]
  },
  {
   "cell_type": "markdown",
   "metadata": {},
   "source": [
    "#### 65. How to accumulate elements of a vector (X) to an array (F) based on an index list (I)? (★★★)"
   ]
  },
  {
   "cell_type": "code",
   "execution_count": 28,
   "metadata": {},
   "outputs": [
    {
     "data": {
      "text/plain": [
       "[4, 9, 8, 7]"
      ]
     },
     "execution_count": 28,
     "metadata": {},
     "output_type": "execute_result"
    }
   ],
   "source": [
    "X =  np.random.randint(1,11,10)\n",
    "I =  [2,3,4,5]\n",
    "F = np.zeros(len(I))\n",
    "F= [X[i] for i in I]\n",
    "F"
   ]
  },
  {
   "cell_type": "markdown",
   "metadata": {},
   "source": [
    "#### 66. Considering a (w,h,3) image of (dtype=ubyte), compute the number of unique colors (★★★)"
   ]
  },
  {
   "cell_type": "code",
   "execution_count": 3,
   "metadata": {},
   "outputs": [
    {
     "name": "stdout",
     "output_type": "stream",
     "text": [
      "The number of unique colors :  4\n"
     ]
    }
   ],
   "source": [
    "import numpy as np\n",
    "def unique_color(image):\n",
    "    reshaped_image = image.reshape((-1,3))\n",
    "    colors_list = [tuple(row) for row in reshaped_image]\n",
    "    unique = len(np.unique(colors_list,axis=0))\n",
    "    return unique\n",
    "    \n",
    "image = np.array([\n",
    "    [[255, 0, 0], [0, 255, 0], [0, 0, 255], [255, 255, 255]],\n",
    "    [[255, 0, 0], [0, 255, 0], [0, 0, 255], [255, 255, 255]],\n",
    "    [[255, 0, 0], [0, 255, 0], [0, 0, 255], [255, 255, 255]],\n",
    "    [[255, 0, 0], [0, 255, 0], [0, 0, 255], [255, 255, 255]]\n",
    "], dtype=np.uint8)\n",
    "\n",
    "print(\"The number of unique colors : \", unique_color(image))"
   ]
  },
  {
   "cell_type": "markdown",
   "metadata": {},
   "source": [
    "#### 67. Considering a four dimensions array, how to get sum over the last two axis at once? (★★★)"
   ]
  },
  {
   "cell_type": "code",
   "execution_count": 4,
   "metadata": {},
   "outputs": [
    {
     "name": "stdout",
     "output_type": "stream",
     "text": [
      "The array is :\n",
      " [[[[3 0]\n",
      "   [9 0]\n",
      "   [1 7]\n",
      "   [7 3]]\n",
      "\n",
      "  [[2 8]\n",
      "   [5 2]\n",
      "   [2 8]\n",
      "   [1 3]]\n",
      "\n",
      "  [[2 3]\n",
      "   [6 2]\n",
      "   [0 3]\n",
      "   [0 1]]]\n",
      "\n",
      "\n",
      " [[[9 1]\n",
      "   [7 7]\n",
      "   [3 4]\n",
      "   [6 7]]\n",
      "\n",
      "  [[7 3]\n",
      "   [9 5]\n",
      "   [1 4]\n",
      "   [4 0]]\n",
      "\n",
      "  [[5 2]\n",
      "   [7 3]\n",
      "   [4 9]\n",
      "   [6 3]]]]\n",
      "The sum along last two axis is:  [[30 31 17]\n",
      " [44 33 39]]\n"
     ]
    }
   ],
   "source": [
    "import numpy as np\n",
    "array  = np.random.randint(0,10, size = (2,3,4,2))\n",
    "result = np.sum(array, axis=(-2,-1))\n",
    "print(\"The array is :\\n\", array)\n",
    "print(\"The sum along last two axis is: \", result)"
   ]
  },
  {
   "cell_type": "markdown",
   "metadata": {},
   "source": [
    "#### 68. Considering a one-dimensional vector D, how to compute means of subsets of D using a vector S of same size describing subset  indices? (★★★)"
   ]
  },
  {
   "cell_type": "code",
   "execution_count": 11,
   "metadata": {},
   "outputs": [
    {
     "name": "stdout",
     "output_type": "stream",
     "text": [
      "[0.46843211 0.38109851 0.40639272 0.42251463 0.51262291 0.5974578\n",
      " 0.62655247 0.58051505 0.52660445 0.39109076]\n"
     ]
    }
   ],
   "source": [
    "import numpy as np\n",
    "D = np.random.uniform(0,1,100)\n",
    "S = np.random.randint(0,10,100)\n",
    "D_sum = np.bincount(S, weights = D)\n",
    "D_count = np.bincount(S)\n",
    "print(D_sum/D_count)"
   ]
  },
  {
   "cell_type": "markdown",
   "metadata": {},
   "source": [
    "#### 69. How to get the diagonal of a dot product? (★★★)"
   ]
  },
  {
   "cell_type": "code",
   "execution_count": 21,
   "metadata": {},
   "outputs": [
    {
     "name": "stdout",
     "output_type": "stream",
     "text": [
      "[[1 2 3]\n",
      " [4 5 6]\n",
      " [7 8 9]] \n",
      " [[11 12 13]\n",
      " [14 15 16]\n",
      " [17 18 19]]\n",
      "[ 90 231 390]\n",
      "[ 90 231 390]\n"
     ]
    }
   ],
   "source": [
    "import numpy as np\n",
    "a = np.arange(1,10).reshape(3,3)\n",
    "b = np.arange(11,20).reshape(3,3)\n",
    "print(a,\"\\n\",b)\n",
    "#Way 1\n",
    "print(np.diag(np.dot(a,b)))\n",
    "#Way 2\n",
    "print(np.sum(a*b.T, axis = 1))"
   ]
  },
  {
   "cell_type": "markdown",
   "metadata": {},
   "source": [
    "#### 70. Consider the vector [1, 2, 3, 4, 5], how to build a new vector with 3 consecutive zeros interleaved between each value? (★★★)"
   ]
  },
  {
   "cell_type": "code",
   "execution_count": 30,
   "metadata": {},
   "outputs": [
    {
     "name": "stdout",
     "output_type": "stream",
     "text": [
      "[1 0 0 0 2 0 0 0 3 0 0 0 4 0 0 0 5]\n"
     ]
    }
   ],
   "source": [
    "import numpy as np \n",
    "arr =  np.array([1,2,3,4,5])\n",
    "zeros = np.zeros(3,dtype=type(arr))\n",
    "ans = np.zeros(len(arr)+(len(arr)-1)*3,dtype=type(arr))\n",
    "ans[::4] = arr\n",
    "print(ans)"
   ]
  },
  {
   "cell_type": "markdown",
   "metadata": {},
   "source": [
    "#### 71. Consider an array of dimension (5,5,3), how to mulitply it by an array with dimensions (5,5)? (★★★)"
   ]
  },
  {
   "cell_type": "code",
   "execution_count": 36,
   "metadata": {},
   "outputs": [
    {
     "name": "stdout",
     "output_type": "stream",
     "text": [
      "[[[49 26 21]\n",
      "  [23 13 40]\n",
      "  [19 10 43]\n",
      "  [ 0 26 34]\n",
      "  [30 38 32]]\n",
      "\n",
      " [[30 44 16]\n",
      "  [18  6 35]\n",
      "  [26 19 33]\n",
      "  [39 21 17]\n",
      "  [12 19 20]]\n",
      "\n",
      " [[18 43 41]\n",
      "  [28 29 22]\n",
      "  [23 29  4]\n",
      "  [36 26 45]\n",
      "  [11  4 21]]\n",
      "\n",
      " [[29 12 29]\n",
      "  [21 34 10]\n",
      "  [ 0 15 32]\n",
      "  [25 14 39]\n",
      "  [18 28 35]]\n",
      "\n",
      " [[44 28 45]\n",
      "  [32 38 24]\n",
      "  [19  2 29]\n",
      "  [25 40 18]\n",
      "  [42 33 13]]]\n",
      "[[[ 9]\n",
      "  [26]\n",
      "  [33]\n",
      "  [14]\n",
      "  [14]]\n",
      "\n",
      " [[21]\n",
      "  [28]\n",
      "  [48]\n",
      "  [14]\n",
      "  [45]]\n",
      "\n",
      " [[23]\n",
      "  [27]\n",
      "  [37]\n",
      "  [48]\n",
      "  [12]]\n",
      "\n",
      " [[33]\n",
      "  [20]\n",
      "  [ 9]\n",
      "  [41]\n",
      "  [39]]\n",
      "\n",
      " [[37]\n",
      "  [ 3]\n",
      "  [38]\n",
      "  [22]\n",
      "  [ 5]]]\n",
      "[[[ 441  234  189]\n",
      "  [ 598  338 1040]\n",
      "  [ 627  330 1419]\n",
      "  [   0  364  476]\n",
      "  [ 420  532  448]]\n",
      "\n",
      " [[ 630  924  336]\n",
      "  [ 504  168  980]\n",
      "  [1248  912 1584]\n",
      "  [ 546  294  238]\n",
      "  [ 540  855  900]]\n",
      "\n",
      " [[ 414  989  943]\n",
      "  [ 756  783  594]\n",
      "  [ 851 1073  148]\n",
      "  [1728 1248 2160]\n",
      "  [ 132   48  252]]\n",
      "\n",
      " [[ 957  396  957]\n",
      "  [ 420  680  200]\n",
      "  [   0  135  288]\n",
      "  [1025  574 1599]\n",
      "  [ 702 1092 1365]]\n",
      "\n",
      " [[1628 1036 1665]\n",
      "  [  96  114   72]\n",
      "  [ 722   76 1102]\n",
      "  [ 550  880  396]\n",
      "  [ 210  165   65]]]\n"
     ]
    }
   ],
   "source": [
    "import numpy as np\n",
    "arr1=np.random.randint(0,50,75).reshape(5,5,3)\n",
    "arr2=np.random.randint(0,50,25).reshape(5,5)\n",
    "arr2=np.atleast_3d(arr2)\n",
    "print(arr1,arr2,sep=\"\\n\")\n",
    "product=arr1*arr2\n",
    "print(product)"
   ]
  },
  {
   "cell_type": "markdown",
   "metadata": {},
   "source": [
    "#### 72. How to swap two rows of an array? (★★★)"
   ]
  },
  {
   "cell_type": "code",
   "execution_count": 42,
   "metadata": {},
   "outputs": [
    {
     "name": "stdout",
     "output_type": "stream",
     "text": [
      "[[22 27 30 48 12]\n",
      " [20 31  6  8 35]\n",
      " [31 30 36  9 16]\n",
      " [36 17 10 12  4]\n",
      " [49 36 49 26 36]]\n",
      "[[20 31  6  8 35]\n",
      " [22 27 30 48 12]\n",
      " [31 30 36  9 16]\n",
      " [36 17 10 12  4]\n",
      " [49 36 49 26 36]]\n"
     ]
    }
   ],
   "source": [
    "arr2=np.random.randint(0,50,25).reshape(5,5)\n",
    "print(arr2)\n",
    "arr2[[0,1]]=arr2[[1,0]]\n",
    "print(arr2)"
   ]
  },
  {
   "cell_type": "markdown",
   "metadata": {},
   "source": [
    "#### 73. Consider a set of 10 triplets describing 10 triangles (with shared vertices), find the set of unique line segments composing all the  triangles (★★★)"
   ]
  },
  {
   "cell_type": "markdown",
   "metadata": {},
   "source": [
    "cont. after discussion m"
   ]
  },
  {
   "cell_type": "markdown",
   "metadata": {},
   "source": [
    "#### 74. Given an array C that is a bincount, how to produce an array A such that np.bincount(A) == C? (★★★)"
   ]
  },
  {
   "cell_type": "code",
   "execution_count": null,
   "metadata": {},
   "outputs": [],
   "source": []
  },
  {
   "cell_type": "markdown",
   "metadata": {},
   "source": [
    "#### 75. How to compute averages using a sliding window over an array? (★★★)"
   ]
  },
  {
   "cell_type": "code",
   "execution_count": null,
   "metadata": {},
   "outputs": [],
   "source": []
  },
  {
   "cell_type": "markdown",
   "metadata": {},
   "source": [
    "#### 76. Consider a one-dimensional array Z, build a two-dimensional array whose first row is (Z[0],Z[1],Z[2]) and each subsequent row is  shifted by 1 (last row should be (Z[-3],Z[-2],Z[-1]) (★★★)"
   ]
  },
  {
   "cell_type": "code",
   "execution_count": null,
   "metadata": {},
   "outputs": [],
   "source": []
  },
  {
   "cell_type": "markdown",
   "metadata": {},
   "source": [
    "#### 77. How to negate a boolean, or to change the sign of a float inplace? (★★★)"
   ]
  },
  {
   "cell_type": "code",
   "execution_count": null,
   "metadata": {},
   "outputs": [],
   "source": []
  },
  {
   "cell_type": "markdown",
   "metadata": {},
   "source": [
    "#### 78. Consider 2 sets of points P0,P1 describing lines (2d) and a point p, how to compute distance from p to each line i (P0[i],P1[i])? (★★★)"
   ]
  },
  {
   "cell_type": "code",
   "execution_count": null,
   "metadata": {},
   "outputs": [],
   "source": []
  },
  {
   "cell_type": "markdown",
   "metadata": {},
   "source": [
    "#### 79. Consider 2 sets of points P0,P1 describing lines (2d) and a set of points P, how to compute distance from each point j (P[j]) to each line i (P0[i],P1[i])? (★★★)"
   ]
  },
  {
   "cell_type": "code",
   "execution_count": null,
   "metadata": {},
   "outputs": [],
   "source": []
  },
  {
   "cell_type": "markdown",
   "metadata": {},
   "source": [
    "#### 80. Consider an arbitrary array, write a function that extract a subpart with a fixed shape and centered on a given element (pad with a `fill` value when necessary) (★★★)"
   ]
  },
  {
   "cell_type": "code",
   "execution_count": null,
   "metadata": {},
   "outputs": [],
   "source": []
  },
  {
   "cell_type": "markdown",
   "metadata": {},
   "source": [
    "#### 81. Consider an array Z = [1,2,3,4,5,6,7,8,9,10,11,12,13,14], how to generate an array R = [[1,2,3,4], [2,3,4,5], [3,4,5,6], ..., [11,12,13,14]]? (★★★)"
   ]
  },
  {
   "cell_type": "code",
   "execution_count": null,
   "metadata": {},
   "outputs": [],
   "source": []
  },
  {
   "cell_type": "markdown",
   "metadata": {},
   "source": [
    "#### 82. Compute a matrix rank (★★★)"
   ]
  },
  {
   "cell_type": "code",
   "execution_count": null,
   "metadata": {},
   "outputs": [],
   "source": []
  },
  {
   "cell_type": "markdown",
   "metadata": {},
   "source": [
    "#### 83. How to find the most frequent value in an array?"
   ]
  },
  {
   "cell_type": "code",
   "execution_count": null,
   "metadata": {},
   "outputs": [],
   "source": []
  },
  {
   "cell_type": "markdown",
   "metadata": {},
   "source": [
    "#### 84. Extract all the contiguous 3x3 blocks from a random 10x10 matrix (★★★)"
   ]
  },
  {
   "cell_type": "code",
   "execution_count": null,
   "metadata": {},
   "outputs": [],
   "source": []
  },
  {
   "cell_type": "markdown",
   "metadata": {},
   "source": [
    "#### 85. Create a 2D array subclass such that Z[i,j] == Z[j,i] (★★★)"
   ]
  },
  {
   "cell_type": "code",
   "execution_count": null,
   "metadata": {},
   "outputs": [],
   "source": []
  },
  {
   "cell_type": "markdown",
   "metadata": {},
   "source": [
    "#### 86. Consider a set of p matrices wich shape (n,n) and a set of p vectors with shape (n,1). How to compute the sum of of the p matrix products at once? (result has shape (n,1)) (★★★)"
   ]
  },
  {
   "cell_type": "code",
   "execution_count": null,
   "metadata": {},
   "outputs": [],
   "source": []
  },
  {
   "cell_type": "markdown",
   "metadata": {},
   "source": [
    "#### 87. Consider a 16x16 array, how to get the block-sum (block size is 4x4)? (★★★)"
   ]
  },
  {
   "cell_type": "code",
   "execution_count": null,
   "metadata": {},
   "outputs": [],
   "source": []
  },
  {
   "cell_type": "markdown",
   "metadata": {},
   "source": [
    "#### 88. How to implement the Game of Life using numpy arrays? (★★★)"
   ]
  },
  {
   "cell_type": "code",
   "execution_count": null,
   "metadata": {},
   "outputs": [],
   "source": []
  },
  {
   "cell_type": "markdown",
   "metadata": {},
   "source": [
    "#### 89. How to get the n largest values of an array (★★★)"
   ]
  },
  {
   "cell_type": "code",
   "execution_count": null,
   "metadata": {},
   "outputs": [],
   "source": []
  },
  {
   "cell_type": "markdown",
   "metadata": {},
   "source": [
    "#### 90. Given an arbitrary number of vectors, build the cartesian product (every combinations of every item) (★★★)"
   ]
  },
  {
   "cell_type": "code",
   "execution_count": null,
   "metadata": {},
   "outputs": [],
   "source": []
  },
  {
   "cell_type": "markdown",
   "metadata": {},
   "source": [
    "#### 91. How to create a record array from a regular array? (★★★)"
   ]
  },
  {
   "cell_type": "code",
   "execution_count": null,
   "metadata": {},
   "outputs": [],
   "source": []
  },
  {
   "cell_type": "markdown",
   "metadata": {},
   "source": [
    "#### 92. Consider a large vector Z, compute Z to the power of 3 using 3 different methods (★★★)"
   ]
  },
  {
   "cell_type": "code",
   "execution_count": null,
   "metadata": {},
   "outputs": [],
   "source": []
  },
  {
   "cell_type": "markdown",
   "metadata": {},
   "source": [
    "#### 93. Consider two arrays A and B of shape (8,3) and (2,2). How to find rows of A that contain elements of each row of B regardless of the order of the elements in B? (★★★)"
   ]
  },
  {
   "cell_type": "code",
   "execution_count": null,
   "metadata": {},
   "outputs": [],
   "source": []
  },
  {
   "cell_type": "markdown",
   "metadata": {},
   "source": [
    "#### 94. Considering a 10x3 matrix, extract rows with unequal values (e.g. [2,2,3]) (★★★)"
   ]
  },
  {
   "cell_type": "code",
   "execution_count": null,
   "metadata": {},
   "outputs": [],
   "source": []
  },
  {
   "cell_type": "markdown",
   "metadata": {},
   "source": [
    "#### 95. Convert a vector of ints into a matrix binary representation (★★★)"
   ]
  },
  {
   "cell_type": "code",
   "execution_count": null,
   "metadata": {},
   "outputs": [],
   "source": []
  },
  {
   "cell_type": "markdown",
   "metadata": {},
   "source": [
    "#### 96. Given a two dimensional array, how to extract unique rows? (★★★)"
   ]
  },
  {
   "cell_type": "code",
   "execution_count": null,
   "metadata": {},
   "outputs": [],
   "source": []
  },
  {
   "cell_type": "markdown",
   "metadata": {},
   "source": [
    "#### 97. Considering 2 vectors A & B, write the einsum equivalent of inner, outer, sum, and mul function (★★★)"
   ]
  },
  {
   "cell_type": "code",
   "execution_count": null,
   "metadata": {},
   "outputs": [],
   "source": []
  },
  {
   "cell_type": "markdown",
   "metadata": {},
   "source": [
    "#### 98. Considering a path described by two vectors (X,Y), how to sample it using equidistant samples (★★★)?"
   ]
  },
  {
   "cell_type": "code",
   "execution_count": null,
   "metadata": {},
   "outputs": [],
   "source": []
  },
  {
   "cell_type": "markdown",
   "metadata": {},
   "source": [
    "#### 99. Given an integer n and a 2D array X, select from X the rows which can be interpreted as draws from a multinomial distribution with n degrees, i.e., the rows which only contain integers and which sum to n. (★★★)"
   ]
  },
  {
   "cell_type": "code",
   "execution_count": null,
   "metadata": {},
   "outputs": [],
   "source": []
  },
  {
   "cell_type": "markdown",
   "metadata": {},
   "source": [
    "#### 100. Compute bootstrapped 95% confidence intervals for the mean of a 1D array X (i.e., resample the elements of an array with replacement N times, compute the mean of each sample, and then compute percentiles over the means). (★★★)"
   ]
  },
  {
   "cell_type": "code",
   "execution_count": null,
   "metadata": {},
   "outputs": [],
   "source": []
  }
 ],
 "metadata": {
  "kernelspec": {
   "display_name": "Python 3 (ipykernel)",
   "language": "python",
   "name": "python3"
  },
  "language_info": {
   "codemirror_mode": {
    "name": "ipython",
    "version": 3
   },
   "file_extension": ".py",
   "mimetype": "text/x-python",
   "name": "python",
   "nbconvert_exporter": "python",
   "pygments_lexer": "ipython3",
   "version": "3.11.4"
  }
 },
 "nbformat": 4,
 "nbformat_minor": 4
}
