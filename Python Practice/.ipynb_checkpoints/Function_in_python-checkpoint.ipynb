{
 "cells": [
  {
   "cell_type": "markdown",
   "id": "4227c887",
   "metadata": {},
   "source": [
    "# Function"
   ]
  },
  {
   "cell_type": "markdown",
   "id": "beae1218",
   "metadata": {},
   "source": [
    "What is here in this chapter?\n",
    "1. What is function ?\n",
    "2. how to write a function?\n",
    "3. Argument vs parameter in the function\n",
    "4. Local and Global variable in function\n",
    "5. Lambda Fucntion \n",
    "6. Map and filter function"
   ]
  },
  {
   "cell_type": "markdown",
   "id": "48483eb8",
   "metadata": {},
   "source": [
    "#### Syntax  of writing a function in python"
   ]
  },
  {
   "cell_type": "markdown",
   "id": "2cd03665",
   "metadata": {},
   "source": [
    "##### def function_name(arguments):"
   ]
  },
  {
   "cell_type": "markdown",
   "id": "800dd9ff",
   "metadata": {},
   "source": [
    "    ...............                                                                 ...............                                                                     fucntion definition                                                         ...............                                                                 ..............."
   ]
  },
  {
   "cell_type": "code",
   "execution_count": 8,
   "id": "47beeb23",
   "metadata": {},
   "outputs": [
    {
     "name": "stdout",
     "output_type": "stream",
     "text": [
      "Welcome to SI and CI Calculator\n",
      "--------------------------------------------------------------------\n",
      "--------------------------------------------------------------------\n",
      "Choose any one : \n",
      "1. SI\n",
      "2. CI\n",
      "3. Exit\n",
      "Enter your choice : 1\n",
      "Enter the principal : 5200\n",
      "Enter rate of interest (p.a) : 4\n",
      "Enter the time period in years : 5\n",
      "The amount of interest is 1040.0\n",
      "--------------------------------------------------------------------\n",
      "Choose any one : \n",
      "1. SI\n",
      "2. CI\n",
      "3. Exit\n",
      "Enter your choice : 4580\n",
      "Wront Input, press 3 for exit\n",
      "Choose any one : \n",
      "1. SI\n",
      "2. CI\n",
      "3. Exit\n",
      "Enter your choice : 2\n",
      "Enter the principal : 5245\n",
      "Enter rate of interest (p.a) : 5\n",
      "Enter the time period in years : 3\n",
      "The amount of interest is 826.7431250000009\n",
      "--------------------------------------------------------------------\n",
      "Choose any one : \n",
      "1. SI\n",
      "2. CI\n",
      "3. Exit\n",
      "Enter your choice : 3\n",
      "Thank You. Good Bye\n"
     ]
    }
   ],
   "source": [
    "#Example 1: A function to calculate simple and compound interest.\n",
    "print(\"Welcome to SI and CI Calculator\")   \n",
    "print(\"--------------------------------------------------------------------\")\n",
    "print(\"--------------------------------------------------------------------\")\n",
    "\n",
    "def si():\n",
    "    p=int(input(\"Enter the principal : \"))\n",
    "    r=int(input(\"Enter rate of interest (p.a) : \"))\n",
    "    t=int(input(\"Enter the time period in years : \"))\n",
    "    i=(p*r*t)/100\n",
    "    print(f\"The amount of interest is {i}\")\n",
    "    print(\"--------------------------------------------------------------------\")\n",
    "def ci():\n",
    "    p=int(input(\"Enter the principal : \"))\n",
    "    r=int(input(\"Enter rate of interest (p.a) : \"))\n",
    "    t=int(input(\"Enter the time period in years : \"))\n",
    "    m=pow((1+(r/100)),t)\n",
    "    ia=p*m\n",
    "    print(f\"The amount of interest is {ia-p}\")\n",
    "    print(\"--------------------------------------------------------------------\")\n",
    "while True:\n",
    "    print(\"Choose any one : \\n1. SI\\n2. CI\\n3. Exit\")\n",
    "    choice=int(input(\"Enter your choice : \"))\n",
    "    if choice==1:\n",
    "        si()\n",
    "    elif choice==2:\n",
    "        ci()\n",
    "    elif choice==3:\n",
    "        print(\"Thank You. Good Bye\")\n",
    "        break;\n",
    "    else:\n",
    "        print(\"Wront Input, press 3 for exit\")\n"
   ]
  },
  {
   "cell_type": "markdown",
   "id": "a9320c51",
   "metadata": {},
   "source": [
    "### If a fucntion returns anything then we write only return statement but not the return type and we store the returned result in a variable or in variables. But we need to take as many variable as we have passed while function calling. "
   ]
  },
  {
   "cell_type": "code",
   "execution_count": 6,
   "id": "352c10e6",
   "metadata": {},
   "outputs": [
    {
     "name": "stdout",
     "output_type": "stream",
     "text": [
      "Welcome you here in 'Game of Palindrome Number':\n",
      "Enter an integer to check whether it is a palindrom or not : 1254\n",
      "1254 is not palindrom\n"
     ]
    }
   ],
   "source": [
    "#Example 2:\n",
    "def palindrom(x):\n",
    "    test=x\n",
    "    ans=0\n",
    "    while test!=0:\n",
    "        digit=test%10\n",
    "        ans=ans*10+digit\n",
    "        test=test//10\n",
    "    return ans\n",
    "print(\"Welcome you here in 'Game of Palindrome Number':\")\n",
    "x=int(input(\"Enter an integer to check whether it is a palindrom or not : \"))\n",
    "result = palindrom(x)\n",
    "if(result == x):\n",
    "    print(f\"{x} is palindrom\")\n",
    "else:\n",
    "    print(f\"{x} is not palindrom\")\n",
    "    "
   ]
  },
  {
   "cell_type": "markdown",
   "id": "218b9a0d",
   "metadata": {},
   "source": [
    "### In python it is allowed to return more than one variable at a time."
   ]
  },
  {
   "cell_type": "markdown",
   "id": "d553ac8d",
   "metadata": {},
   "source": [
    " here We will return sum of the digits, product of the digits, and number of digits."
   ]
  },
  {
   "cell_type": "code",
   "execution_count": 1,
   "id": "eb9c00df",
   "metadata": {},
   "outputs": [],
   "source": [
    "#Example 3\n",
    "def play_with_number(x):\n",
    "    sum=0\n",
    "    product=1\n",
    "    digits=0\n",
    "    digit=0\n",
    "    dummy=x\n",
    "    while dummy!=0:\n",
    "        digit=dummy%10\n",
    "        sum=sum+digit\n",
    "        dummy=dummy//10\n",
    "    \n",
    "    dummy=x\n",
    "    while dummy!=0:\n",
    "        digit=dummy%10\n",
    "        product=product*digit\n",
    "        dummy=dummy//10\n",
    "    \n",
    "    dummy=x\n",
    "    while dummy!=0:\n",
    "        digits+=1\n",
    "        dummy=dummy//10\n",
    "    return sum,product,digits"
   ]
  },
  {
   "cell_type": "code",
   "execution_count": 2,
   "id": "d0831e0c",
   "metadata": {},
   "outputs": [
    {
     "name": "stdout",
     "output_type": "stream",
     "text": [
      "Enter an integer : 12545\n",
      "Sum of Digit is : 17 \n",
      "Product of digits is : 200 \n",
      "Number of digits :5\n"
     ]
    }
   ],
   "source": [
    "x=int(input(\"Enter an integer : \"))\n",
    "a,b,c=play_with_number(x)\n",
    "print(f\"Sum of Digit is : {a} \\nProduct of digits is : {b} \\nNumber of digits :{c}\")    "
   ]
  },
  {
   "cell_type": "markdown",
   "id": "86dbd3ca",
   "metadata": {},
   "source": [
    "## WAP to return the factorial of a given number "
   ]
  },
  {
   "cell_type": "code",
   "execution_count": 3,
   "id": "dbe7df99",
   "metadata": {},
   "outputs": [],
   "source": [
    "def factorial(n):\n",
    "    fact=1\n",
    "    while n!=0:\n",
    "        fact=fact*n\n",
    "        n-=1\n",
    "    return fact"
   ]
  },
  {
   "cell_type": "code",
   "execution_count": 4,
   "id": "970d65c1",
   "metadata": {},
   "outputs": [
    {
     "name": "stdout",
     "output_type": "stream",
     "text": [
      "Enter a number : 7\n",
      "The factorial of the given number is :  5040\n"
     ]
    }
   ],
   "source": [
    "m =  int(input(\"Enter a number : \"))\n",
    "print(\"The factorial of the given number is : \", factorial(m))"
   ]
  },
  {
   "cell_type": "markdown",
   "id": "2b3d89ee",
   "metadata": {},
   "source": [
    "### Positional Argument"
   ]
  },
  {
   "cell_type": "markdown",
   "id": "ca2607c8",
   "metadata": {},
   "source": [
    "##### You will see it when number of arguments in function definition is not equal to number of argument passed while function calling.This means that we have to write as many parameters in the function definition as many we have passed in the function call. For Example,"
   ]
  },
  {
   "cell_type": "code",
   "execution_count": 7,
   "id": "00ea7cef",
   "metadata": {},
   "outputs": [],
   "source": [
    "def pro(a,b):\n",
    "    return a+b"
   ]
  },
  {
   "cell_type": "code",
   "execution_count": null,
   "id": "f8313548",
   "metadata": {},
   "outputs": [],
   "source": [
    "#Function call when number of argument is as same as number of parameters in the function definition.\n",
    "pro(10,20)"
   ]
  },
  {
   "cell_type": "code",
   "execution_count": 8,
   "id": "5e5b2a6b",
   "metadata": {},
   "outputs": [
    {
     "ename": "TypeError",
     "evalue": "pro() missing 1 required positional argument: 'b'",
     "output_type": "error",
     "traceback": [
      "\u001b[1;31m---------------------------------------------------------------------------\u001b[0m",
      "\u001b[1;31mTypeError\u001b[0m                                 Traceback (most recent call last)",
      "Cell \u001b[1;32mIn[8], line 2\u001b[0m\n\u001b[0;32m      1\u001b[0m \u001b[38;5;66;03m#Function call when number of argument is not as same as number of parameter in the function definition.\u001b[39;00m\n\u001b[1;32m----> 2\u001b[0m pro(\u001b[38;5;241m10\u001b[39m)\n",
      "\u001b[1;31mTypeError\u001b[0m: pro() missing 1 required positional argument: 'b'"
     ]
    }
   ],
   "source": [
    "#Function call when number of argument is not as same as number of parameters in the function definition.\n",
    "pro(10)"
   ]
  },
  {
   "cell_type": "markdown",
   "id": "daad1d23",
   "metadata": {},
   "source": [
    "### As it can be seen, the error says, \"pro() missing 1 required positional argument: 'b'\". Hence, we should be passing as many number of parameters as many are there in the function definition. "
   ]
  },
  {
   "cell_type": "markdown",
   "id": "7c9c38f4",
   "metadata": {},
   "source": [
    "### Keyword Argument"
   ]
  },
  {
   "cell_type": "markdown",
   "id": "2a8f438c",
   "metadata": {},
   "source": [
    "##### If we are passing arguments with value in function call then they are keyword argument.\n"
   ]
  },
  {
   "cell_type": "code",
   "execution_count": 1,
   "id": "d51d304f",
   "metadata": {},
   "outputs": [],
   "source": [
    "def ka(a,b,c,d):\n",
    "    return a*b*c*d"
   ]
  },
  {
   "cell_type": "code",
   "execution_count": 4,
   "id": "b21bc2d0",
   "metadata": {},
   "outputs": [
    {
     "name": "stdout",
     "output_type": "stream",
     "text": [
      "  30\n"
     ]
    }
   ],
   "source": [
    "print(\" \",ka(a=1,b=2,c=3,d=5))"
   ]
  },
  {
   "cell_type": "markdown",
   "id": "58893431",
   "metadata": {},
   "source": [
    "##### While using keyword arguement we need to ensure that whether we are passing the argument variable as same as mention in fucntion defintion.\n",
    "### For example:\n",
    "F is not an argument variable in the defintinon of the function ka(). So, it will be prompting an err saying,\"ka() got an unexpected keyword argument 'f'\""
   ]
  },
  {
   "cell_type": "code",
   "execution_count": 9,
   "id": "beb4b7b1",
   "metadata": {},
   "outputs": [
    {
     "ename": "TypeError",
     "evalue": "ka() got an unexpected keyword argument 'f'",
     "output_type": "error",
     "traceback": [
      "\u001b[1;31m---------------------------------------------------------------------------\u001b[0m",
      "\u001b[1;31mTypeError\u001b[0m                                 Traceback (most recent call last)",
      "Cell \u001b[1;32mIn[9], line 3\u001b[0m\n\u001b[0;32m      1\u001b[0m \u001b[38;5;66;03m#F is not an argument variable in the defintinon of the function ka(). So, it will be prompting an err saying,\"\"\u001b[39;00m\n\u001b[1;32m----> 3\u001b[0m ka(a\u001b[38;5;241m=\u001b[39m\u001b[38;5;241m1\u001b[39m,b\u001b[38;5;241m=\u001b[39m\u001b[38;5;241m2\u001b[39m,c\u001b[38;5;241m=\u001b[39m\u001b[38;5;241m3\u001b[39m,f\u001b[38;5;241m=\u001b[39m\u001b[38;5;241m5\u001b[39m)\n",
      "\u001b[1;31mTypeError\u001b[0m: ka() got an unexpected keyword argument 'f'"
     ]
    }
   ],
   "source": [
    "ka(a=1,b=2,c=3,f=5)"
   ]
  },
  {
   "cell_type": "markdown",
   "id": "e95f724e",
   "metadata": {},
   "source": [
    "### Default Argument"
   ]
  },
  {
   "cell_type": "markdown",
   "id": "bf4062ff",
   "metadata": {},
   "source": [
    "We can define a default value of an argument while defining a function as follows:"
   ]
  },
  {
   "cell_type": "markdown",
   "id": "67dac943",
   "metadata": {},
   "source": [
    "##### Note : "
   ]
  },
  {
   "cell_type": "markdown",
   "id": "92391db0",
   "metadata": {},
   "source": [
    "###### Non-default arguments are followed by defauld argument. If you don't write in this way you will be shown an error saying, \"non-default argument follows default argument\" "
   ]
  },
  {
   "cell_type": "code",
   "execution_count": 10,
   "id": "cbc8418f",
   "metadata": {},
   "outputs": [
    {
     "ename": "SyntaxError",
     "evalue": "non-default argument follows default argument (1863839330.py, line 1)",
     "output_type": "error",
     "traceback": [
      "\u001b[1;36m  Cell \u001b[1;32mIn[10], line 1\u001b[1;36m\u001b[0m\n\u001b[1;33m    def default_arument(a,b,c=0,d):\u001b[0m\n\u001b[1;37m                                ^\u001b[0m\n\u001b[1;31mSyntaxError\u001b[0m\u001b[1;31m:\u001b[0m non-default argument follows default argument\n"
     ]
    }
   ],
   "source": [
    "#Example \n",
    "def default_arument(a,b,c=0,d):\n",
    "    return a+b+c+d"
   ]
  },
  {
   "cell_type": "code",
   "execution_count": 16,
   "id": "770b4e76",
   "metadata": {},
   "outputs": [
    {
     "data": {
      "text/plain": [
       "10"
      ]
     },
     "execution_count": 16,
     "metadata": {},
     "output_type": "execute_result"
    }
   ],
   "source": [
    "#Exmple \n",
    "\n",
    "def default_arument1(a,b,d,c=0):\n",
    "    return a+b+c+d\n",
    "\n",
    "#We can pass a new value for a default argument, but if we don't pass it takes the default argument assigned while writing defintion of a function\n",
    "#Example 1\n",
    "default_arument1(1,2,3,4)"
   ]
  },
  {
   "cell_type": "code",
   "execution_count": 17,
   "id": "3e230e1c",
   "metadata": {},
   "outputs": [
    {
     "data": {
      "text/plain": [
       "6"
      ]
     },
     "execution_count": 17,
     "metadata": {},
     "output_type": "execute_result"
    }
   ],
   "source": [
    "#Example 2\n",
    "default_arument1(1,2,3)"
   ]
  },
  {
   "cell_type": "markdown",
   "id": "25f568ac",
   "metadata": {},
   "source": [
    "### Function in Python does't support overloading. But rather than prompting an err it calls the recent definition of the function."
   ]
  },
  {
   "cell_type": "markdown",
   "id": "41c619d1",
   "metadata": {},
   "source": [
    "#### For Example "
   ]
  },
  {
   "cell_type": "code",
   "execution_count": 11,
   "id": "aa200637",
   "metadata": {},
   "outputs": [],
   "source": [
    "def product(a,b,c,d):\n",
    "    return a*b*c*d"
   ]
  },
  {
   "cell_type": "code",
   "execution_count": 12,
   "id": "79621a69",
   "metadata": {},
   "outputs": [],
   "source": [
    "def product(a,b,c,d,e):\n",
    "    return a*b*c*d*e"
   ]
  },
  {
   "cell_type": "code",
   "execution_count": 13,
   "id": "feb485ea",
   "metadata": {},
   "outputs": [],
   "source": [
    "def product(a,b,c,d,e,f):\n",
    "    return a*b*c*d*e*f"
   ]
  },
  {
   "cell_type": "code",
   "execution_count": 14,
   "id": "10ca7447",
   "metadata": {},
   "outputs": [
    {
     "ename": "TypeError",
     "evalue": "product() missing 2 required positional arguments: 'e' and 'f'",
     "output_type": "error",
     "traceback": [
      "\u001b[1;31m---------------------------------------------------------------------------\u001b[0m",
      "\u001b[1;31mTypeError\u001b[0m                                 Traceback (most recent call last)",
      "Cell \u001b[1;32mIn[14], line 2\u001b[0m\n\u001b[0;32m      1\u001b[0m \u001b[38;5;66;03m#Function call with four arguments\u001b[39;00m\n\u001b[1;32m----> 2\u001b[0m product(\u001b[38;5;241m10\u001b[39m,\u001b[38;5;241m20\u001b[39m,\u001b[38;5;241m30\u001b[39m,\u001b[38;5;241m40\u001b[39m)\n",
      "\u001b[1;31mTypeError\u001b[0m: product() missing 2 required positional arguments: 'e' and 'f'"
     ]
    }
   ],
   "source": [
    "#Example 1: Function call with four arguments\n",
    "product(10,20,30,40)"
   ]
  },
  {
   "cell_type": "code",
   "execution_count": 15,
   "id": "a3406cbb",
   "metadata": {},
   "outputs": [
    {
     "ename": "TypeError",
     "evalue": "product() missing 1 required positional argument: 'f'",
     "output_type": "error",
     "traceback": [
      "\u001b[1;31m---------------------------------------------------------------------------\u001b[0m",
      "\u001b[1;31mTypeError\u001b[0m                                 Traceback (most recent call last)",
      "Cell \u001b[1;32mIn[15], line 2\u001b[0m\n\u001b[0;32m      1\u001b[0m \u001b[38;5;66;03m#Example 2: Function call with five arguments\u001b[39;00m\n\u001b[1;32m----> 2\u001b[0m product(\u001b[38;5;241m10\u001b[39m,\u001b[38;5;241m20\u001b[39m,\u001b[38;5;241m30\u001b[39m,\u001b[38;5;241m40\u001b[39m,\u001b[38;5;241m50\u001b[39m)\n",
      "\u001b[1;31mTypeError\u001b[0m: product() missing 1 required positional argument: 'f'"
     ]
    }
   ],
   "source": [
    "#Example 2: Function call with five arguments\n",
    "product(10,20,30,40,50)"
   ]
  },
  {
   "cell_type": "code",
   "execution_count": 16,
   "id": "5b65c5ef",
   "metadata": {},
   "outputs": [
    {
     "data": {
      "text/plain": [
       "720000000"
      ]
     },
     "execution_count": 16,
     "metadata": {},
     "output_type": "execute_result"
    }
   ],
   "source": [
    "#Example 3: Function call with six arguments\n",
    "product(10,20,30,40,50,60)"
   ]
  },
  {
   "cell_type": "markdown",
   "id": "f799f494",
   "metadata": {},
   "source": [
    "###### As it can be seen only one fucntion, which is recent, has been called. Rest two functions are now of no use. Now, we cannot pass 3 or 4 arguments. To over come this we have a \n",
    "### Concept of passing n values in a fucntion and receiving them in a tuple"
   ]
  },
  {
   "cell_type": "code",
   "execution_count": 9,
   "id": "d1bdfcc5",
   "metadata": {},
   "outputs": [],
   "source": [
    "\n",
    "def product(*a):\n",
    "    mul=1\n",
    "    print(a)\n",
    "    for i in a:\n",
    "        mul=mul*i\n",
    "    \n",
    "    return mul    "
   ]
  },
  {
   "cell_type": "code",
   "execution_count": 10,
   "id": "7b3d180a",
   "metadata": {},
   "outputs": [
    {
     "name": "stdout",
     "output_type": "stream",
     "text": [
      "(10, 20, 30)\n"
     ]
    },
    {
     "data": {
      "text/plain": [
       "6000"
      ]
     },
     "execution_count": 10,
     "metadata": {},
     "output_type": "execute_result"
    }
   ],
   "source": [
    "#Example 1:Function call with 3 arguments\n",
    "product(10,20,30)"
   ]
  },
  {
   "cell_type": "code",
   "execution_count": 11,
   "id": "8d3f6f0c",
   "metadata": {},
   "outputs": [
    {
     "name": "stdout",
     "output_type": "stream",
     "text": [
      "(10, 20, 30, 40, 50, 60)\n"
     ]
    },
    {
     "data": {
      "text/plain": [
       "720000000"
      ]
     },
     "execution_count": 11,
     "metadata": {},
     "output_type": "execute_result"
    }
   ],
   "source": [
    "#Example 2:Function call with 6 arguments\n",
    "product(10,20,30,40,50,60,)"
   ]
  },
  {
   "cell_type": "code",
   "execution_count": 12,
   "id": "94c8c5b4",
   "metadata": {},
   "outputs": [
    {
     "name": "stdout",
     "output_type": "stream",
     "text": [
      "(10, 20, 30, 40, 50, 60, 70, 80)\n"
     ]
    },
    {
     "data": {
      "text/plain": [
       "4032000000000"
      ]
     },
     "execution_count": 12,
     "metadata": {},
     "output_type": "execute_result"
    }
   ],
   "source": [
    "#Example 3:Function call with 8 arguments\n",
    "product(10,20,30,40,50,60,70,80)"
   ]
  },
  {
   "cell_type": "markdown",
   "id": "e73fd996",
   "metadata": {},
   "source": [
    "##### As it  can be seen, in the above three examples, that the multiple values passed are being stored in the tuple with the help of '*' operator."
   ]
  },
  {
   "cell_type": "markdown",
   "id": "7f64ebe8",
   "metadata": {},
   "source": [
    "### Write a function to calculate area of circle in such a way that it receives an argument 'r' for radius and it has a default argument 'pi = 3.14'. "
   ]
  },
  {
   "cell_type": "code",
   "execution_count": 15,
   "id": "2941848c",
   "metadata": {},
   "outputs": [],
   "source": [
    "def area_of_circle(r,pi=3.14):\n",
    "    return pi*r*r;"
   ]
  },
  {
   "cell_type": "code",
   "execution_count": 16,
   "id": "183a41f6",
   "metadata": {},
   "outputs": [
    {
     "data": {
      "text/plain": [
       "314.0"
      ]
     },
     "execution_count": 16,
     "metadata": {},
     "output_type": "execute_result"
    }
   ],
   "source": [
    "area_of_circle(10)"
   ]
  },
  {
   "cell_type": "code",
   "execution_count": 1,
   "id": "e4037e8f",
   "metadata": {},
   "outputs": [
    {
     "name": "stdout",
     "output_type": "stream",
     "text": [
      "My item is Dove Shop and price is 150 \n",
      "My item is  Dove Shop and price is 150\n",
      "My item is Dove Shop and price is 150\n"
     ]
    }
   ],
   "source": [
    "#More Exmaple \n",
    "\n",
    "def attach(name,price):\n",
    "    print(f\"My item is {name} and price is {price} \")\n",
    "    print(\"My item is \",name, \"and price is\",price)\n",
    "    print(\"My item is {0} and price is {1}\".format(name,price))\n",
    "    \n",
    "attach(price=150,name=\"Dove Shop\")"
   ]
  },
  {
   "cell_type": "markdown",
   "id": "64d87ac9",
   "metadata": {},
   "source": [
    "#### Here, as we can see, I changed the place of arguments in function call but as I have used keyword argument, values were assigned to the variables they were intended to be assigned."
   ]
  },
  {
   "cell_type": "markdown",
   "id": "21e604e9",
   "metadata": {},
   "source": [
    "### WAP lar_string() which accepts multiple string and returns the length of longest string"
   ]
  },
  {
   "cell_type": "code",
   "execution_count": 6,
   "id": "16df4be4",
   "metadata": {},
   "outputs": [],
   "source": [
    "def lar_string(*a):\n",
    "    b=[]\n",
    "    for i in a:\n",
    "        b.append(len(i))\n",
    "    return max(b)"
   ]
  },
  {
   "cell_type": "code",
   "execution_count": 5,
   "id": "59f2cf93",
   "metadata": {},
   "outputs": [
    {
     "data": {
      "text/plain": [
       "9"
      ]
     },
     "execution_count": 5,
     "metadata": {},
     "output_type": "execute_result"
    }
   ],
   "source": [
    "#Use Case 1:\n",
    "lar_string(\"Anjali\",\"Radha\",\"Shakuntla\",\"Arjun\",\"Nikunj\",\"Angel\",\"Sheetal\",\"Shivani\",\"Sunny\")"
   ]
  },
  {
   "cell_type": "code",
   "execution_count": null,
   "id": "c9515d36",
   "metadata": {},
   "outputs": [],
   "source": [
    "#Use case 2:\n",
    "x=input(\"Enter \")"
   ]
  }
 ],
 "metadata": {
  "kernelspec": {
   "display_name": "Python 3 (ipykernel)",
   "language": "python",
   "name": "python3"
  },
  "language_info": {
   "codemirror_mode": {
    "name": "ipython",
    "version": 3
   },
   "file_extension": ".py",
   "mimetype": "text/x-python",
   "name": "python",
   "nbconvert_exporter": "python",
   "pygments_lexer": "ipython3",
   "version": "3.11.4"
  }
 },
 "nbformat": 4,
 "nbformat_minor": 5
}
