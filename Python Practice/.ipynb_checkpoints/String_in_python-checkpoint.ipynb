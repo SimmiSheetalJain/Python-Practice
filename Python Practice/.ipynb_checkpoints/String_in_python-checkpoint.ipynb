{
 "cells": [
  {
   "cell_type": "markdown",
   "id": "5390870f",
   "metadata": {},
   "source": [
    "# String"
   ]
  },
  {
   "cell_type": "markdown",
   "id": "3966f77a",
   "metadata": {},
   "source": [
    "String is a collection of more than 1 character. But in python, a single character is also considered string."
   ]
  },
  {
   "cell_type": "code",
   "execution_count": 1,
   "id": "2101d3b4",
   "metadata": {},
   "outputs": [
    {
     "data": {
      "text/plain": [
       "str"
      ]
     },
     "execution_count": 1,
     "metadata": {},
     "output_type": "execute_result"
    }
   ],
   "source": [
    "#Example 1\n",
    "char = 'A'\n",
    "type(char)"
   ]
  },
  {
   "cell_type": "code",
   "execution_count": 2,
   "id": "9ac2d646",
   "metadata": {},
   "outputs": [
    {
     "data": {
      "text/plain": [
       "str"
      ]
     },
     "execution_count": 2,
     "metadata": {},
     "output_type": "execute_result"
    }
   ],
   "source": [
    "#Example 2\n",
    "name = 'Sheetal Jain'\n",
    "type(name)"
   ]
  },
  {
   "cell_type": "markdown",
   "id": "853a3794",
   "metadata": {},
   "source": [
    "###### String can be defined using single single as well as double quotes."
   ]
  },
  {
   "cell_type": "code",
   "execution_count": 3,
   "id": "c2ed6539",
   "metadata": {},
   "outputs": [
    {
     "name": "stdout",
     "output_type": "stream",
     "text": [
      "Manoj Kumar Jain\n"
     ]
    }
   ],
   "source": [
    "#Example 3\n",
    "\n",
    "f_name=\"Manoj Kumar Jain\"\n",
    "print(f_name)"
   ]
  },
  {
   "cell_type": "markdown",
   "id": "ef66f456",
   "metadata": {},
   "source": [
    "### We can use triple quotes to write each word of a string in a separate line."
   ]
  },
  {
   "cell_type": "code",
   "execution_count": 4,
   "id": "3372a3fa",
   "metadata": {},
   "outputs": [],
   "source": [
    "aim = \"\"\"I\n",
    "Want \n",
    "Serve \n",
    "India\"\"\""
   ]
  },
  {
   "cell_type": "code",
   "execution_count": 5,
   "id": "c38cb74f",
   "metadata": {},
   "outputs": [
    {
     "name": "stdout",
     "output_type": "stream",
     "text": [
      "I\n",
      "Want \n",
      "Serve \n",
      "India\n"
     ]
    }
   ],
   "source": [
    "print(aim)"
   ]
  },
  {
   "cell_type": "markdown",
   "id": "1241ff66",
   "metadata": {},
   "source": [
    "### We can access characters of a string using subscript operator"
   ]
  },
  {
   "cell_type": "code",
   "execution_count": 6,
   "id": "3604791f",
   "metadata": {},
   "outputs": [
    {
     "name": "stdout",
     "output_type": "stream",
     "text": [
      "l\n"
     ]
    }
   ],
   "source": [
    "#Example 1\n",
    "goal = \"A skilled person\"\n",
    "print(goal[5])"
   ]
  },
  {
   "cell_type": "code",
   "execution_count": 7,
   "id": "67f3bd99",
   "metadata": {},
   "outputs": [
    {
     "data": {
      "text/plain": [
       "' kle '"
      ]
     },
     "execution_count": 7,
     "metadata": {},
     "output_type": "execute_result"
    }
   ],
   "source": [
    "#Example 2\n",
    "goal[1:11:2]"
   ]
  },
  {
   "cell_type": "code",
   "execution_count": 8,
   "id": "2956b1dc",
   "metadata": {},
   "outputs": [
    {
     "data": {
      "text/plain": [
       "'nosrep delliks A'"
      ]
     },
     "execution_count": 8,
     "metadata": {},
     "output_type": "execute_result"
    }
   ],
   "source": [
    "#Example 3\n",
    "goal[::-1]"
   ]
  },
  {
   "cell_type": "code",
   "execution_count": 9,
   "id": "3404f0e2",
   "metadata": {},
   "outputs": [
    {
     "data": {
      "text/plain": [
       "'skilled'"
      ]
     },
     "execution_count": 9,
     "metadata": {},
     "output_type": "execute_result"
    }
   ],
   "source": [
    "#Example 4\n",
    "goal[2:9]"
   ]
  },
  {
   "cell_type": "markdown",
   "id": "a39a4271",
   "metadata": {},
   "source": [
    "## Q1: WAP to accept input from a user and print in reverse without using slicing"
   ]
  },
  {
   "cell_type": "code",
   "execution_count": 13,
   "id": "75962c02",
   "metadata": {},
   "outputs": [
    {
     "name": "stdout",
     "output_type": "stream",
     "text": [
      "Enter your name : simmi\n"
     ]
    }
   ],
   "source": [
    "s = str(input(\"Enter your name : \"))\n",
    "f=0\n",
    "b=len(s)-1\n",
    "reverse_string=\"\""
   ]
  },
  {
   "cell_type": "raw",
   "id": "de52ce68",
   "metadata": {},
   "source": []
  },
  {
   "cell_type": "raw",
   "id": "0e4dfd95",
   "metadata": {},
   "source": []
  },
  {
   "cell_type": "code",
   "execution_count": null,
   "id": "a06b7240",
   "metadata": {},
   "outputs": [],
   "source": []
  }
 ],
 "metadata": {
  "kernelspec": {
   "display_name": "Python 3 (ipykernel)",
   "language": "python",
   "name": "python3"
  },
  "language_info": {
   "codemirror_mode": {
    "name": "ipython",
    "version": 3
   },
   "file_extension": ".py",
   "mimetype": "text/x-python",
   "name": "python",
   "nbconvert_exporter": "python",
   "pygments_lexer": "ipython3",
   "version": "3.11.4"
  }
 },
 "nbformat": 4,
 "nbformat_minor": 5
}
