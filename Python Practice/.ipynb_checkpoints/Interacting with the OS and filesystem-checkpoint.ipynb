{
 "cells": [
  {
   "cell_type": "markdown",
   "id": "020c3825",
   "metadata": {},
   "source": [
    "# Interacting with the OS and filesystem"
   ]
  },
  {
   "cell_type": "markdown",
   "id": "a90922f8",
   "metadata": {},
   "source": [
    "We need to import the 'os' module"
   ]
  },
  {
   "cell_type": "code",
   "execution_count": 18,
   "id": "58950241",
   "metadata": {},
   "outputs": [],
   "source": [
    "import os"
   ]
  },
  {
   "cell_type": "markdown",
   "id": "8457beec",
   "metadata": {},
   "source": [
    "we can now check the current directry working "
   ]
  },
  {
   "cell_type": "code",
   "execution_count": 20,
   "id": "c445f309",
   "metadata": {},
   "outputs": [
    {
     "data": {
      "text/plain": [
       "'C:\\\\Users\\\\user\\\\Desktop\\\\Python Practice'"
      ]
     },
     "execution_count": 20,
     "metadata": {},
     "output_type": "execute_result"
    }
   ],
   "source": [
    "os.getcwd()      #get current working directry"
   ]
  },
  {
   "cell_type": "markdown",
   "id": "b36e88f6",
   "metadata": {},
   "source": [
    "Let's extrat all the files inside cwd"
   ]
  },
  {
   "cell_type": "code",
   "execution_count": 22,
   "id": "cc60d5fe",
   "metadata": {},
   "outputs": [
    {
     "data": {
      "text/plain": [
       "['.ipynb_checkpoints',\n",
       " '100-numpy-exercises.ipynb',\n",
       " '100_Numpy_exercises_with_hints_with_solutions.md',\n",
       " 'ans.pdf',\n",
       " 'Assignment 3( Training and Placement Cell, LNCTU ).ipynb',\n",
       " 'Assignment Questions (By Sanat Rana Sir).ipynb',\n",
       " 'Basics_of_Python.ipynb',\n",
       " 'Beginner Friendly Data Science Notes(By Sheetal Jain).ipynb',\n",
       " 'Control Flow Statements.ipynb',\n",
       " 'Dictionary_in_python.ipynb',\n",
       " 'Error and Exception Handling.ipynb',\n",
       " 'file.txt',\n",
       " 'File_Handling.ipynb',\n",
       " 'For loop in python and range().ipynb',\n",
       " 'Function_in_python.ipynb',\n",
       " 'Her_Thesis.pdf',\n",
       " 'Iterator and Generator.ipynb',\n",
       " 'List_Comprehension.ipynb',\n",
       " 'List_in_python.ipynb',\n",
       " 'LNCT_T&P_Assignment_1.ipynb',\n",
       " 'LNCT_T&P_Assignment_2.ipynb',\n",
       " 'Logging',\n",
       " 'Matplotlib.ipynb',\n",
       " 'Mongodb atlas and pymongo.ipynb',\n",
       " 'Numpy.ipynb',\n",
       " 'OOPs in Python..ipynb',\n",
       " 'Panda .ipynb',\n",
       " 'Patterns Using Python .ipynb',\n",
       " 'PF-Python-Syntax.pdf',\n",
       " 'PSS.ipynb',\n",
       " 'pymongo.ipynb',\n",
       " 'PYQ.ipynb',\n",
       " 'Revision .ipynb',\n",
       " 'Set_in_Python.ipynb',\n",
       " 'Slicing.ipynb',\n",
       " 'Split_Function.ipynb',\n",
       " 'String_in_python.ipynb',\n",
       " 'student.csv',\n",
       " 'student.txt',\n",
       " 'thematrix.txt',\n",
       " 'Tuple_in_Python.ipynb',\n",
       " 'Web Scrapping .ipynb']"
      ]
     },
     "execution_count": 22,
     "metadata": {},
     "output_type": "execute_result"
    }
   ],
   "source": [
    "os.listdir('.')"
   ]
  },
  {
   "cell_type": "code",
   "execution_count": 25,
   "id": "3f5cf08c",
   "metadata": {},
   "outputs": [
    {
     "data": {
      "text/plain": [
       "['.ipynb_checkpoints',\n",
       " 'Another_test.log',\n",
       " 'check_test.log',\n",
       " 'divison-calculator-log.txt',\n",
       " 'Logging.ipynb',\n",
       " 'test.log',\n",
       " 'Well-formatted-log.txt']"
      ]
     },
     "execution_count": 25,
     "metadata": {},
     "output_type": "execute_result"
    }
   ],
   "source": [
    "os.listdir('./Logging')"
   ]
  },
  {
   "cell_type": "markdown",
   "id": "78ba243c",
   "metadata": {},
   "source": [
    "Let's create a new directry"
   ]
  },
  {
   "cell_type": "code",
   "execution_count": 26,
   "id": "9a65b71f",
   "metadata": {},
   "outputs": [],
   "source": [
    "os.makedirs('./data',exist_ok=True)"
   ]
  },
  {
   "cell_type": "markdown",
   "id": "81d36525",
   "metadata": {},
   "source": [
    "Let's verify"
   ]
  },
  {
   "cell_type": "code",
   "execution_count": 27,
   "id": "a5df79ae",
   "metadata": {},
   "outputs": [
    {
     "data": {
      "text/plain": [
       "True"
      ]
     },
     "execution_count": 27,
     "metadata": {},
     "output_type": "execute_result"
    }
   ],
   "source": [
    "'data' in os.listdir('.')"
   ]
  },
  {
   "cell_type": "markdown",
   "id": "cf8fb740",
   "metadata": {},
   "source": [
    "Let's download some data in these file."
   ]
  },
  {
   "cell_type": "code",
   "execution_count": 30,
   "id": "2771c20e",
   "metadata": {},
   "outputs": [],
   "source": [
    "url1 = 'https://gist.githubusercontent.com/aakashns/257f6e6c8719c17d0e498ea287d1a386/raw/7def9ef4234ddf0bc82f855ad67dac8b971852ef/loans1.txt'\n",
    "url2 = 'https://gist.githubusercontent.com/aakashns/257f6e6c8719c17d0e498ea287d1a386/raw/7def9ef4234ddf0bc82f855ad67dac8b971852ef/loans2.txt'\n",
    "url3 = 'https://gist.githubusercontent.com/aakashns/257f6e6c8719c17d0e498ea287d1a386/raw/7def9ef4234ddf0bc82f855ad67dac8b971852ef/loans3.txt'"
   ]
  },
  {
   "cell_type": "code",
   "execution_count": 33,
   "id": "f55a7370",
   "metadata": {},
   "outputs": [],
   "source": [
    "from urllib.request import urlretrieve"
   ]
  },
  {
   "cell_type": "code",
   "execution_count": 34,
   "id": "097bde14",
   "metadata": {},
   "outputs": [
    {
     "data": {
      "text/plain": [
       "('./data/loans1.txt', <http.client.HTTPMessage at 0x28f5d8f1390>)"
      ]
     },
     "execution_count": 34,
     "metadata": {},
     "output_type": "execute_result"
    }
   ],
   "source": [
    "urlretrieve(url1, './data/loans1.txt')"
   ]
  },
  {
   "cell_type": "code",
   "execution_count": 35,
   "id": "03e761a5",
   "metadata": {},
   "outputs": [
    {
     "data": {
      "text/plain": [
       "('./data/loans2.txt', <http.client.HTTPMessage at 0x28f5d8f1e10>)"
      ]
     },
     "execution_count": 35,
     "metadata": {},
     "output_type": "execute_result"
    }
   ],
   "source": [
    "urlretrieve(url2, './data/loans2.txt')"
   ]
  },
  {
   "cell_type": "code",
   "execution_count": 36,
   "id": "a4c83d48",
   "metadata": {},
   "outputs": [
    {
     "data": {
      "text/plain": [
       "('./data/loans3.txt', <http.client.HTTPMessage at 0x28f5d8f2a10>)"
      ]
     },
     "execution_count": 36,
     "metadata": {},
     "output_type": "execute_result"
    }
   ],
   "source": [
    "urlretrieve(url3, './data/loans3.txt')"
   ]
  },
  {
   "cell_type": "markdown",
   "id": "aa05476d",
   "metadata": {},
   "source": [
    "Let's verify that whether the files got downloaded or not"
   ]
  },
  {
   "cell_type": "code",
   "execution_count": 38,
   "id": "dbcb126f",
   "metadata": {},
   "outputs": [
    {
     "data": {
      "text/plain": [
       "['loans1.txt', 'loans2.txt', 'loans3.txt', 'office_sales_data.xlsx']"
      ]
     },
     "execution_count": 38,
     "metadata": {},
     "output_type": "execute_result"
    }
   ],
   "source": [
    "os.listdir('./data')"
   ]
  },
  {
   "cell_type": "code",
   "execution_count": 39,
   "id": "7830d1cd",
   "metadata": {},
   "outputs": [
    {
     "name": "stdout",
     "output_type": "stream",
     "text": [
      "Simmi has been promoted to senior DAName: Sheetal, Age:23, aim: BWLet's help everyone\n"
     ]
    }
   ],
   "source": [
    "#Oprning\n",
    "try:\n",
    "    f=open(\"student.txt\",'r')\n",
    "    data=f.read()\n",
    "    print(data)\n",
    "except Exception as e: \n",
    "    print(\"File couldn't be opened : \",e)\n",
    "finally:\n",
    "    f.close()"
   ]
  },
  {
   "cell_type": "code",
   "execution_count": 40,
   "id": "29126a98",
   "metadata": {},
   "outputs": [
    {
     "name": "stdout",
     "output_type": "stream",
     "text": [
      "Enter the data to be storedIt's done\n"
     ]
    }
   ],
   "source": [
    "#Writing \n",
    "data=input(\"Enter the data to be stored\")\n",
    "try:\n",
    "    f=open(\"student.txt\",'a')\n",
    "    f.write(data)\n",
    "except Exception as e: \n",
    "    print(\"File couldn't be opened : \",e)\n",
    "finally:\n",
    "    f.close()"
   ]
  },
  {
   "cell_type": "markdown",
   "id": "8a318284",
   "metadata": {},
   "source": [
    "## Closing files automatically using `with`\n",
    "\n",
    "To close a file automatically after you've processed it, you can open it using the `with` statement. "
   ]
  },
  {
   "cell_type": "markdown",
   "id": "912bd412",
   "metadata": {},
   "source": [
    "`Example`"
   ]
  },
  {
   "cell_type": "code",
   "execution_count": 42,
   "id": "210df8a8",
   "metadata": {},
   "outputs": [
    {
     "name": "stdout",
     "output_type": "stream",
     "text": [
      "amount,duration,rate,down_payment\n",
      "828400,120,0.11,100000\n",
      "4633400,240,0.06,\n",
      "42900,90,0.08,8900\n",
      "983000,16,0.14,\n",
      "15230,48,0.07,4300\n"
     ]
    }
   ],
   "source": [
    "with open('./data/loans2.txt','r') as f2:\n",
    "    data=f2.read()\n",
    "    print(data)"
   ]
  },
  {
   "cell_type": "markdown",
   "id": "45a3d625",
   "metadata": {},
   "source": [
    "## Reading a file line by line\n",
    "\n",
    "\n",
    "File objects provide a `readlines` method to read a file line-by-line. "
   ]
  },
  {
   "cell_type": "code",
   "execution_count": 52,
   "id": "dde59293",
   "metadata": {},
   "outputs": [
    {
     "name": "stdout",
     "output_type": "stream",
     "text": [
      "<class 'list'>\n",
      "\n",
      "1 : amount,duration,rate,down_payment\n",
      " \n",
      "2 : 45230,48,0.07,4300\n",
      " \n",
      "3 : 883000,16,0.14,\n",
      " \n",
      "4 : 100000,12,0.1,\n",
      " \n",
      "5 : 728400,120,0.12,100000\n",
      " \n",
      "6 : 3637400,240,0.06,\n",
      " \n",
      "7 : 82900,90,0.07,8900\n",
      " \n",
      "8 : 316000,16,0.13,\n",
      " \n",
      "9 : 15230,48,0.08,4300\n",
      " \n",
      "10 : 991360,99,0.08,\n",
      " \n",
      "11 : 323000,27,0.09,4720010000,36,0.08,20000\n",
      " \n",
      "12 : 528400,120,0.11,100000\n",
      " \n",
      "13 : 8633400,240,0.06,\n",
      " \n",
      "14 : 12900,90,0.08,8900 \n"
     ]
    }
   ],
   "source": [
    "with open('./data/loans3.txt','r') as f3:\n",
    "    data=f3.readlines()\n",
    "    print(type(data),end='\\n\\n')\n",
    "    count=1\n",
    "    for i in data:\n",
    "        print(f\"{count} : {i} \",)\n",
    "        count+=1\n",
    "    "
   ]
  },
  {
   "cell_type": "markdown",
   "id": "84413832",
   "metadata": {},
   "source": [
    "#### Let's do some more operaions"
   ]
  },
  {
   "cell_type": "code",
   "execution_count": 48,
   "id": "14cec44e",
   "metadata": {},
   "outputs": [
    {
     "name": "stdout",
     "output_type": "stream",
     "text": [
      "['amount,duration,rate,down_payment\\n', '45230,48,0.07,4300\\n', '883000,16,0.14,\\n', '100000,12,0.1,\\n', '728400,120,0.12,100000\\n', '3637400,240,0.06,\\n', '82900,90,0.07,8900\\n', '316000,16,0.13,\\n', '15230,48,0.08,4300\\n', '991360,99,0.08,\\n', '323000,27,0.09,4720010000,36,0.08,20000\\n', '528400,120,0.11,100000\\n', '8633400,240,0.06,\\n', '12900,90,0.08,8900']\n"
     ]
    },
    {
     "data": {
      "text/plain": [
       "'amount,duration,rate,down_payment'"
      ]
     },
     "execution_count": 48,
     "metadata": {},
     "output_type": "execute_result"
    }
   ],
   "source": [
    "data=[]\n",
    "with open('./data/loans3.txt','r') as f3:\n",
    "    data=f3.readlines()\n",
    "    print(data)\n",
    "# Remember to use newline character using strip function.\n",
    "data[0].strip()"
   ]
  },
  {
   "cell_type": "markdown",
   "id": "2df12875",
   "metadata": {},
   "source": [
    "We can see that, we don't have value of each cell in the below records"
   ]
  },
  {
   "cell_type": "code",
   "execution_count": 53,
   "id": "6f352c72",
   "metadata": {},
   "outputs": [
    {
     "name": "stdout",
     "output_type": "stream",
     "text": [
      "<class 'list'>\n",
      "\n",
      "1 : amount,duration,rate,down_payment\n",
      " \n",
      "2 : 45230,48,0.07,4300\n",
      " \n",
      "3 : 883000,16,0.14,\n",
      " \n",
      "4 : 100000,12,0.1,\n",
      " \n",
      "5 : 728400,120,0.12,100000\n",
      " \n",
      "6 : 3637400,240,0.06,\n",
      " \n",
      "7 : 82900,90,0.07,8900\n",
      " \n",
      "8 : 316000,16,0.13,\n",
      " \n",
      "9 : 15230,48,0.08,4300\n",
      " \n",
      "10 : 991360,99,0.08,\n",
      " \n",
      "11 : 323000,27,0.09,4720010000,36,0.08,20000\n",
      " \n",
      "12 : 528400,120,0.11,100000\n",
      " \n",
      "13 : 8633400,240,0.06,\n",
      " \n",
      "14 : 12900,90,0.08,8900 \n"
     ]
    }
   ],
   "source": [
    "with open('./data/loans3.txt','r') as f3:\n",
    "    data=f3.readlines()\n",
    "    print(type(data),end='\\n\\n')\n",
    "    count=1\n",
    "    for i in data:\n",
    "        print(f\"{count} : {i} \",)\n",
    "        count+=1"
   ]
  },
  {
   "cell_type": "markdown",
   "id": "1d92eb13",
   "metadata": {},
   "source": [
    "Now, we need to do something for the missing values."
   ]
  },
  {
   "cell_type": "markdown",
   "id": "6c3e980f",
   "metadata": {},
   "source": [
    "## Processing data from files\n",
    "\n",
    "Before performing any operations on the data stored in a file, we need to convert the file's contents from one large string into Python data types. For the file `loans1.txt` containing information about loans in a CSV format, we can do the following:\n",
    "\n",
    "* Read the file line by line\n",
    "* Parse the first line to get a list of the column names or headers\n",
    "* Split each remaining line and convert each value into a float\n",
    "* Create a dictionary for each loan using the headers as keys\n",
    "* Create a list of dictionaries to keep track of all the loans\n",
    "\n",
    "Since we will perform the same operations for multiple files, it would be useful to define a function `read_csv`. We'll also define some helper functions to build up the functionality step by step. \n",
    "\n",
    "Let's start by defining a function `parse_header` that takes a line as input and returns a list of column headers."
   ]
  },
  {
   "cell_type": "code",
   "execution_count": 55,
   "id": "084cf915",
   "metadata": {},
   "outputs": [
    {
     "data": {
      "text/plain": [
       "'amount,duration,rate,down_payment'"
      ]
     },
     "execution_count": 55,
     "metadata": {},
     "output_type": "execute_result"
    }
   ],
   "source": [
    "data=[]\n",
    "with open('./data/loans3.txt','r') as f3:\n",
    "    data=f3.readlines()\n",
    "# Remember to use newline character using strip function.\n",
    "data[0].strip()"
   ]
  },
  {
   "cell_type": "code",
   "execution_count": 73,
   "id": "fb2be316",
   "metadata": {},
   "outputs": [
    {
     "name": "stdout",
     "output_type": "stream",
     "text": [
      "[['amount', 'duration', 'rate', 'down_payment'], ['45230', '48', '0.07', '4300'], ['883000', '16', '0.14', ''], ['100000', '12', '0.1', ''], ['728400', '120', '0.12', '100000'], ['3637400', '240', '0.06', ''], ['82900', '90', '0.07', '8900'], ['316000', '16', '0.13', ''], ['15230', '48', '0.08', '4300'], ['991360', '99', '0.08', ''], ['323000', '27', '0.09', '4720010000', '36', '0.08', '20000'], ['528400', '120', '0.11', '100000'], ['8633400', '240', '0.06', ''], ['12900', '90', '0.08', '8900']]\n"
     ]
    }
   ],
   "source": [
    "#converting all the records into a list and strip newline character\n",
    "data_records=[]\n",
    "with open('./data/loans3.txt','r') as f3:\n",
    "    records=f3.readlines()\n",
    "    for rec in records:\n",
    "        data_records.append(rec.strip().split(','))\n",
    "print(data_records)"
   ]
  },
  {
   "cell_type": "markdown",
   "id": "9ae11d75",
   "metadata": {},
   "source": [
    "### Read the file line by line"
   ]
  },
  {
   "cell_type": "code",
   "execution_count": 78,
   "id": "ee96f629",
   "metadata": {},
   "outputs": [],
   "source": [
    "with open('./data/loans3.txt','r') as f3:\n",
    "    records=f3.readlines()"
   ]
  },
  {
   "cell_type": "markdown",
   "id": "9fd6248e",
   "metadata": {},
   "source": [
    "### Parse the first line to get a list of the column names or headers"
   ]
  },
  {
   "cell_type": "code",
   "execution_count": 79,
   "id": "fb1d3aeb",
   "metadata": {},
   "outputs": [],
   "source": [
    "def parse_header(header_line):\n",
    "    return header_line.strip().split(',')\n"
   ]
  },
  {
   "cell_type": "code",
   "execution_count": 80,
   "id": "48f25f6e",
   "metadata": {},
   "outputs": [],
   "source": [
    "header = parse_header(records[0])    "
   ]
  },
  {
   "cell_type": "code",
   "execution_count": 77,
   "id": "047ab7cf",
   "metadata": {},
   "outputs": [
    {
     "data": {
      "text/plain": [
       "['amount', 'duration', 'rate', 'down_payment']"
      ]
     },
     "execution_count": 77,
     "metadata": {},
     "output_type": "execute_result"
    }
   ],
   "source": [
    "header"
   ]
  },
  {
   "cell_type": "markdown",
   "id": "a334ef1d",
   "metadata": {},
   "source": [
    "We want to create a loan list containing each loan. What we will do is we will create a loan dictionary as shown below for each record"
   ]
  },
  {
   "cell_type": "code",
   "execution_count": 81,
   "id": "2f717257",
   "metadata": {},
   "outputs": [],
   "source": [
    "#For a loan\n",
    "loan1={\n",
    "    'amount':45230,\n",
    "    'duration(in months)':48,\n",
    "    'rate':0.07,\n",
    "    'down_payment':4300\n",
    "}"
   ]
  },
  {
   "cell_type": "markdown",
   "id": "09b04c3e",
   "metadata": {},
   "source": [
    "loans=[{\n",
    "    'amount':45230,<br>\n",
    "    'duration(in months)':48,<br>\n",
    "    'rate':0.07,\n",
    "    'down_payment':4300<br>\n",
    "        },<br>\n",
    "        {<br>\n",
    "    'amount':883000,<br>\n",
    "    'duration(in months)': 16,<br>\n",
    "    'rate':0.14,<br>\n",
    "    'down_payment':4300<br>\n",
    "        },<br>\n",
    "        .<br>\n",
    "        .<br>\n",
    "        .<br>\n",
    "        .<br>\n",
    "    and so on]<br>"
   ]
  },
  {
   "cell_type": "markdown",
   "id": "c473900b",
   "metadata": {},
   "source": [
    "### Spliting each remaining line and convert each value into a float"
   ]
  },
  {
   "cell_type": "code",
   "execution_count": 87,
   "id": "221b8949",
   "metadata": {},
   "outputs": [],
   "source": [
    "def parse_value(data_record):\n",
    "    values=[]\n",
    "    for item in data_record.strip().split(','):\n",
    "        if item=='':\n",
    "            values.append(0.0)\n",
    "        else:\n",
    "            values.append(float(item))\n",
    "    return values"
   ]
  },
  {
   "cell_type": "markdown",
   "id": "ca3bbb09",
   "metadata": {},
   "source": [
    "Using this function, we will be converting each data point in float value and missing values will be kept 0.0"
   ]
  },
  {
   "cell_type": "markdown",
   "id": "ff4628c5",
   "metadata": {},
   "source": [
    "`Example`"
   ]
  },
  {
   "cell_type": "code",
   "execution_count": 91,
   "id": "50050386",
   "metadata": {},
   "outputs": [
    {
     "data": {
      "text/plain": [
       "[[45230.0, 48.0, 0.07, 4300.0],\n",
       " [883000.0, 16.0, 0.14, 0.0],\n",
       " [100000.0, 12.0, 0.1, 0.0],\n",
       " [728400.0, 120.0, 0.12, 100000.0],\n",
       " [3637400.0, 240.0, 0.06, 0.0],\n",
       " [82900.0, 90.0, 0.07, 8900.0],\n",
       " [316000.0, 16.0, 0.13, 0.0],\n",
       " [15230.0, 48.0, 0.08, 4300.0],\n",
       " [991360.0, 99.0, 0.08, 0.0],\n",
       " [323000.0, 27.0, 0.09, 4720010000.0, 36.0, 0.08, 20000.0],\n",
       " [528400.0, 120.0, 0.11, 100000.0],\n",
       " [8633400.0, 240.0, 0.06, 0.0],\n",
       " [12900.0, 90.0, 0.08, 8900.0]]"
      ]
     },
     "execution_count": 91,
     "metadata": {},
     "output_type": "execute_result"
    }
   ],
   "source": [
    "with open('./data/loans3.txt','r') as f3:\n",
    "    modified_data=[]\n",
    "    records=f3.readlines()\n",
    "    for i in range(1,len(records)):\n",
    "        modified_data.append(parse_value(records[i]))\n",
    "modified_data"
   ]
  },
  {
   "cell_type": "code",
   "execution_count": 93,
   "id": "90283951",
   "metadata": {},
   "outputs": [
    {
     "name": "stdout",
     "output_type": "stream",
     "text": [
      "1 : [45230.0, 48.0, 0.07, 4300.0]\n",
      "2 : [883000.0, 16.0, 0.14, 0.0]\n",
      "3 : [100000.0, 12.0, 0.1, 0.0]\n",
      "4 : [728400.0, 120.0, 0.12, 100000.0]\n",
      "5 : [3637400.0, 240.0, 0.06, 0.0]\n",
      "6 : [82900.0, 90.0, 0.07, 8900.0]\n",
      "7 : [316000.0, 16.0, 0.13, 0.0]\n",
      "8 : [15230.0, 48.0, 0.08, 4300.0]\n",
      "9 : [991360.0, 99.0, 0.08, 0.0]\n",
      "10 : [323000.0, 27.0, 0.09, 4720010000.0, 36.0, 0.08, 20000.0]\n",
      "11 : [528400.0, 120.0, 0.11, 100000.0]\n",
      "12 : [8633400.0, 240.0, 0.06, 0.0]\n",
      "13 : [12900.0, 90.0, 0.08, 8900.0]\n"
     ]
    }
   ],
   "source": [
    "#Now the data is compatible for performing computations\n",
    "count=1\n",
    "for item in modified_data:\n",
    "    print(f\"{count} : {item}\")\n",
    "    count+=1"
   ]
  },
  {
   "cell_type": "markdown",
   "id": "796da9e9",
   "metadata": {},
   "source": [
    "#### This is also a method of handling missing values"
   ]
  },
  {
   "cell_type": "markdown",
   "id": "20301a97",
   "metadata": {},
   "source": [
    "Next, let's define a function `create_item_dict` that takes a list of values and a list of headers as inputs and returns a dictionary with the values associated with their respective headers as keys."
   ]
  },
  {
   "cell_type": "code",
   "execution_count": 95,
   "id": "017ec6ac",
   "metadata": {},
   "outputs": [],
   "source": [
    "def create_item_dict(header,record):\n",
    "    loans_dictionary={}\n",
    "    for h,v in zip(header,record):\n",
    "        loans_dictionary[h]=v\n",
    "    return loans_dictionary"
   ]
  },
  {
   "cell_type": "markdown",
   "id": "3e384583",
   "metadata": {},
   "source": [
    "Let's create a list of dictionaries of loans using the three custom functions we have built."
   ]
  },
  {
   "cell_type": "code",
   "execution_count": 98,
   "id": "3b7fa165",
   "metadata": {},
   "outputs": [
    {
     "data": {
      "text/plain": [
       "[{'amount': 45230.0, 'duration': 48.0, 'rate': 0.07, 'down_payment': 4300.0},\n",
       " {'amount': 883000.0, 'duration': 16.0, 'rate': 0.14, 'down_payment': 0.0},\n",
       " {'amount': 100000.0, 'duration': 12.0, 'rate': 0.1, 'down_payment': 0.0},\n",
       " {'amount': 728400.0,\n",
       "  'duration': 120.0,\n",
       "  'rate': 0.12,\n",
       "  'down_payment': 100000.0},\n",
       " {'amount': 3637400.0, 'duration': 240.0, 'rate': 0.06, 'down_payment': 0.0},\n",
       " {'amount': 82900.0, 'duration': 90.0, 'rate': 0.07, 'down_payment': 8900.0},\n",
       " {'amount': 316000.0, 'duration': 16.0, 'rate': 0.13, 'down_payment': 0.0},\n",
       " {'amount': 15230.0, 'duration': 48.0, 'rate': 0.08, 'down_payment': 4300.0},\n",
       " {'amount': 991360.0, 'duration': 99.0, 'rate': 0.08, 'down_payment': 0.0},\n",
       " {'amount': 323000.0,\n",
       "  'duration': 27.0,\n",
       "  'rate': 0.09,\n",
       "  'down_payment': 4720010000.0},\n",
       " {'amount': 528400.0,\n",
       "  'duration': 120.0,\n",
       "  'rate': 0.11,\n",
       "  'down_payment': 100000.0},\n",
       " {'amount': 8633400.0, 'duration': 240.0, 'rate': 0.06, 'down_payment': 0.0},\n",
       " {'amount': 12900.0, 'duration': 90.0, 'rate': 0.08, 'down_payment': 8900.0}]"
      ]
     },
     "execution_count": 98,
     "metadata": {},
     "output_type": "execute_result"
    }
   ],
   "source": [
    "#parse_header()\n",
    "#parse_value()\n",
    "#create_item_dict()\n",
    "with open('./data/loans3.txt','r') as f:\n",
    "    list_of_loans=[]\n",
    "    records=f.readlines()\n",
    "    header=parse_header(records[0])\n",
    "    for i in range(1,len(records)):\n",
    "        values=parse_value(records[i])\n",
    "        loan=create_item_dict(header,values)\n",
    "        list_of_loans.append(loan)\n",
    "list_of_loans            "
   ]
  },
  {
   "cell_type": "code",
   "execution_count": 108,
   "id": "c9ccbfcc",
   "metadata": {},
   "outputs": [],
   "source": [
    "def read_csv(path):\n",
    "    list_of_loans=[]\n",
    "    with open(path,'r') as f:\n",
    "        records=f.readlines()\n",
    "        header=parse_header(records[0])\n",
    "        for rec in records[1:]:\n",
    "            values=parse_value(rec)\n",
    "            loan=create_item_dict(header,values)\n",
    "            list_of_loans.append(loan)\n",
    "        return list_of_loans"
   ]
  },
  {
   "cell_type": "markdown",
   "id": "4804c756",
   "metadata": {},
   "source": [
    "`Example`\n",
    "Here, we will be trying it out on loans2.txt values "
   ]
  },
  {
   "cell_type": "code",
   "execution_count": 109,
   "id": "b5cbf2b6",
   "metadata": {},
   "outputs": [
    {
     "data": {
      "text/plain": [
       "[{'amount': 828400.0,\n",
       "  'duration': 120.0,\n",
       "  'rate': 0.11,\n",
       "  'down_payment': 100000.0},\n",
       " {'amount': 4633400.0, 'duration': 240.0, 'rate': 0.06, 'down_payment': 0.0},\n",
       " {'amount': 42900.0, 'duration': 90.0, 'rate': 0.08, 'down_payment': 8900.0},\n",
       " {'amount': 983000.0, 'duration': 16.0, 'rate': 0.14, 'down_payment': 0.0},\n",
       " {'amount': 15230.0, 'duration': 48.0, 'rate': 0.07, 'down_payment': 4300.0}]"
      ]
     },
     "execution_count": 109,
     "metadata": {},
     "output_type": "execute_result"
    }
   ],
   "source": [
    "read_csv('./data/loans2.txt')"
   ]
  },
  {
   "cell_type": "markdown",
   "id": "c743d3c2",
   "metadata": {},
   "source": [
    "`Tip`\n",
    "Here, we have made our custom read_csv() function. With time, we can build many such functions. For future use, we can create a repository on plateform such as github and later we can make our work even more easy with the help of our custom functions."
   ]
  },
  {
   "cell_type": "markdown",
   "id": "7eee188a",
   "metadata": {},
   "source": [
    "#### Let's compute emi for each loan and add in modified_data dictionries of loans which shows emi for each loan"
   ]
  },
  {
   "cell_type": "markdown",
   "id": "5a401f15",
   "metadata": {},
   "source": [
    "<img src=\"data:image/png;base64,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\">"
   ]
  },
  {
   "cell_type": "code",
   "execution_count": 124,
   "id": "08c2dc73",
   "metadata": {},
   "outputs": [],
   "source": [
    "import math\n",
    "def loan_emi(loan):\n",
    "    principle=loan['amount']-loan['down_payment']\n",
    "    try:\n",
    "        emi= principle * loan['rate'] * ((1+loan['rate'])**loan['duration'])/(((1+loan['rate'])**loan['duration'])-1)\n",
    "    except Exception as e:\n",
    "        emi = principle/duration\n",
    "    emi=math.ceil(emi)\n",
    "    return emi"
   ]
  },
  {
   "cell_type": "code",
   "execution_count": 125,
   "id": "1a726fe0",
   "metadata": {},
   "outputs": [
    {
     "data": {
      "text/plain": [
       "[{'amount': 828400.0,\n",
       "  'duration': 120.0,\n",
       "  'rate': 0.11,\n",
       "  'down_payment': 100000.0,\n",
       "  'emi': 80125},\n",
       " {'amount': 4633400.0,\n",
       "  'duration': 240.0,\n",
       "  'rate': 0.06,\n",
       "  'down_payment': 0.0,\n",
       "  'emi': 278005},\n",
       " {'amount': 42900.0,\n",
       "  'duration': 90.0,\n",
       "  'rate': 0.08,\n",
       "  'down_payment': 8900.0,\n",
       "  'emi': 2723},\n",
       " {'amount': 983000.0,\n",
       "  'duration': 16.0,\n",
       "  'rate': 0.14,\n",
       "  'down_payment': 0.0,\n",
       "  'emi': 156902},\n",
       " {'amount': 15230.0,\n",
       "  'duration': 48.0,\n",
       "  'rate': 0.07,\n",
       "  'down_payment': 4300.0,\n",
       "  'emi': 797}]"
      ]
     },
     "execution_count": 125,
     "metadata": {},
     "output_type": "execute_result"
    }
   ],
   "source": [
    "loan_records=read_csv('./data/loans2.txt')\n",
    "for loan in loan_records:\n",
    "    loan['emi']=loan_emi(loan)\n",
    "loan_records"
   ]
  },
  {
   "cell_type": "markdown",
   "id": "b616e199",
   "metadata": {},
   "source": [
    "## Let's write it to a file "
   ]
  },
  {
   "cell_type": "code",
   "execution_count": 136,
   "id": "20777ad6",
   "metadata": {},
   "outputs": [],
   "source": [
    "with open(\"./data/emi_of_loans2.txt\",\"a\") as f:\n",
    "    f.write(\" Amount,Duration,Rate,Down_payment, EMI\\n\")\n",
    "    for rec in loan_records:\n",
    "        f.write(f\"{rec['amount']} , {rec['duration']} , {rec['rate']} , {rec['down_payment']} , {rec['emi']}\\n\")"
   ]
  },
  {
   "cell_type": "markdown",
   "id": "2c41e386",
   "metadata": {},
   "source": [
    "# Let's make write_csv() custom function"
   ]
  },
  {
   "cell_type": "code",
   "execution_count": 151,
   "id": "cf40a8bf",
   "metadata": {},
   "outputs": [],
   "source": [
    "def write_csv(records,path):\n",
    "    #return if nothing is to be written\n",
    "    if len(records)==0:\n",
    "        return\n",
    "    #Opening a file\n",
    "    with open(path,\"w\") as f:\n",
    "        header=list(records[0].keys())\n",
    "        f.write(','.join(header)+'\\n')\n",
    "    #Writing records\n",
    "        for rec in records:\n",
    "            f.write(f\"{rec['amount']} , {rec['duration']} , {rec['rate']} , {rec['down_payment']} , {rec['emi']}\\n\")"
   ]
  },
  {
   "cell_type": "code",
   "execution_count": 153,
   "id": "417a5561",
   "metadata": {},
   "outputs": [],
   "source": [
    "#calculating loans\n",
    "loan_records=read_csv('./data/loans3.txt')\n",
    "output_filepath='./data/emi_of_loans3.txt'\n",
    "# adding emi column\n",
    "for loan in loan_records:\n",
    "    loan['emi']=loan_emi(loan)\n",
    "write_csv(loan_records,output_filepath)"
   ]
  }
 ],
 "metadata": {
  "kernelspec": {
   "display_name": "Python 3 (ipykernel)",
   "language": "python",
   "name": "python3"
  },
  "language_info": {
   "codemirror_mode": {
    "name": "ipython",
    "version": 3
   },
   "file_extension": ".py",
   "mimetype": "text/x-python",
   "name": "python",
   "nbconvert_exporter": "python",
   "pygments_lexer": "ipython3",
   "version": "3.11.4"
  }
 },
 "nbformat": 4,
 "nbformat_minor": 5
}
