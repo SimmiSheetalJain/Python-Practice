{
 "cells": [
  {
   "cell_type": "markdown",
   "id": "8325ffe8",
   "metadata": {},
   "source": [
    "# Numpy: Introduction"
   ]
  },
  {
   "cell_type": "markdown",
   "id": "bf52cb3a",
   "metadata": {},
   "source": [
    "• It is a python package and stands for Numerical Python. It is consist of multidimentional array obeject and routines for processing of array.\\\n",
    "• It is a funcdamental package for scintific computing in python, and provides folooeing funtionalities\\\n",
    "    ► A powerful N-dimentional Array Object\\\n",
    "    ► Sophisticated Function\\\n",
    "    ► Have linear algebra, Fourier Tranform, and random number Capabilities\\\n",
    "     "
   ]
  },
  {
   "cell_type": "markdown",
   "id": "3f040be1",
   "metadata": {},
   "source": [
    "## &emsp;Why Numpy?"
   ]
  },
  {
   "cell_type": "markdown",
   "id": "5f7ad068",
   "metadata": {},
   "source": [
    "► To perform Mathematical and Logical operations on arrya\\\n",
    "► It provides efficient starage and manipulation of numerical arrays which is needed in Data &nbsp;&nbsp; Science\\\n",
    "► Numpy array form the core of nearly entire ecosystem of data science tools in python\n"
   ]
  },
  {
   "cell_type": "markdown",
   "id": "cce72ff2",
   "metadata": {},
   "source": [
    "## &emsp; Importing Numpy and Checking Version"
   ]
  },
  {
   "cell_type": "code",
   "execution_count": 2,
   "id": "e3673432",
   "metadata": {},
   "outputs": [
    {
     "data": {
      "text/plain": [
       "'1.24.3'"
      ]
     },
     "execution_count": 2,
     "metadata": {},
     "output_type": "execute_result"
    }
   ],
   "source": [
    "#Method 1\n",
    "import numpy \n",
    "numpy.__version__"
   ]
  },
  {
   "cell_type": "code",
   "execution_count": 3,
   "id": "80eda7f2",
   "metadata": {},
   "outputs": [
    {
     "name": "stdout",
     "output_type": "stream",
     "text": [
      "Name: numpy\n",
      "Version: 1.24.3\n",
      "Summary: Fundamental package for array computing in Python\n",
      "Home-page: https://www.numpy.org\n",
      "Author: Travis E. Oliphant et al.\n",
      "Author-email: \n",
      "License: BSD-3-Clause\n",
      "Location: C:\\Users\\user\\anaconda3\\Lib\\site-packages\n",
      "Requires: \n",
      "Required-by: astropy, bokeh, Bottleneck, contourpy, daal4py, datashader, datashape, gensim, h5py, holoviews, hvplot, imagecodecs, imageio, imbalanced-learn, matplotlib, mkl-fft, mkl-random, numba, numexpr, pandas, patsy, pyarrow, pyerfa, PyWavelets, scikit-image, scikit-learn, scipy, seaborn, statsmodels, tables, tifffile, transformers, xarray\n"
     ]
    }
   ],
   "source": [
    "#Method 2\n",
    "!pip show numpy "
   ]
  },
  {
   "cell_type": "markdown",
   "id": "846c3458",
   "metadata": {},
   "source": [
    "##### &nbsp;&nbsp;We can gave an alias to numpy using operator \"as\""
   ]
  },
  {
   "cell_type": "code",
   "execution_count": 4,
   "id": "c807719e",
   "metadata": {},
   "outputs": [
    {
     "data": {
      "text/plain": [
       "'1.24.3'"
      ]
     },
     "execution_count": 4,
     "metadata": {},
     "output_type": "execute_result"
    }
   ],
   "source": [
    "import numpy as np\n",
    "np.__version__"
   ]
  },
  {
   "cell_type": "markdown",
   "id": "a18403c4",
   "metadata": {},
   "source": [
    "#### » If numpy is not intalled in your anaconda, simply Run Below Command"
   ]
  },
  {
   "cell_type": "code",
   "execution_count": null,
   "id": "31de99fa",
   "metadata": {},
   "outputs": [],
   "source": [
    "pip install numpy"
   ]
  },
  {
   "cell_type": "markdown",
   "id": "20a803b3",
   "metadata": {},
   "source": [
    "If it is alreafdy installed above command will show following result"
   ]
  },
  {
   "cell_type": "code",
   "execution_count": 5,
   "id": "b9b34d05",
   "metadata": {},
   "outputs": [
    {
     "name": "stdout",
     "output_type": "stream",
     "text": [
      "Requirement already satisfied: numpy in c:\\users\\user\\anaconda3\\lib\\site-packages (1.24.3)\n",
      "Note: you may need to restart the kernel to use updated packages.\n"
     ]
    }
   ],
   "source": [
    "pip install numpy"
   ]
  },
  {
   "cell_type": "markdown",
   "id": "18c56294",
   "metadata": {},
   "source": [
    " <b>Note:</b> pip is the command used to install any library in python.pip stands for python index package"
   ]
  },
  {
   "cell_type": "markdown",
   "id": "61fea56d",
   "metadata": {},
   "source": [
    "## &emsp; Bounding Numpy Package local Variable"
   ]
  },
  {
   "cell_type": "markdown",
   "id": "130c1ca7",
   "metadata": {},
   "source": [
    "The numpy package is bound to the local numpy variable. The Syntax \"\"\"import as\"\"\" allows us to bind the import to the local variable. This local varible can have name of your choice. We do so usually to avoid name collision."
   ]
  },
  {
   "cell_type": "code",
   "execution_count": 7,
   "id": "97d7b67c",
   "metadata": {},
   "outputs": [
    {
     "name": "stdout",
     "output_type": "stream",
     "text": [
      "[1 2 3 4 5]\n"
     ]
    }
   ],
   "source": [
    "#Example \n",
    "import numpy as np\n",
    "a=(1,2,3,4,5)\n",
    "b=np.array(a)\n",
    "print(b)"
   ]
  },
  {
   "cell_type": "markdown",
   "id": "918b199d",
   "metadata": {},
   "source": [
    "The above code converts the tuple 'a' in an array 'b', Where array is a set of homogeneous elements."
   ]
  },
  {
   "cell_type": "markdown",
   "id": "424786d9",
   "metadata": {},
   "source": [
    "###### &emsp; &emsp;⦿ Important Points :"
   ]
  },
  {
   "cell_type": "markdown",
   "id": "c02f981e",
   "metadata": {},
   "source": [
    "###### ♦ We have list in python to serve the purpose of array but list takes much more processing time as compare to array. NumPy intends to provide an array object which is 50x faster than python list. And arrays are faster than list because arrays densely packed in memory due to its homogeneous type and it also frees memory space faster."
   ]
  },
  {
   "cell_type": "markdown",
   "id": "f6157167",
   "metadata": {},
   "source": [
    "###### ♦ Arrays are used in data science whenever speed and resources are essential to be optimized."
   ]
  },
  {
   "cell_type": "markdown",
   "id": "c1db5d32",
   "metadata": {},
   "source": [
    "###### ♦ NumPy has been written in C++"
   ]
  },
  {
   "cell_type": "markdown",
   "id": "c70f1a05",
   "metadata": {},
   "source": [
    "###### ♦ Dimensions are named as axes in NumPy. Number of Axes are called Rank."
   ]
  },
  {
   "cell_type": "markdown",
   "id": "1c1fe500",
   "metadata": {},
   "source": [
    "###### ♦The array class of NumPy is known as ndarray. It's oftenly used as alias 'array'"
   ]
  },
  {
   "cell_type": "markdown",
   "id": "a8f84d65",
   "metadata": {},
   "source": [
    "Few Important Commands on Array"
   ]
  }
 ],
 "metadata": {
  "kernelspec": {
   "display_name": "Python 3 (ipykernel)",
   "language": "python",
   "name": "python3"
  },
  "language_info": {
   "codemirror_mode": {
    "name": "ipython",
    "version": 3
   },
   "file_extension": ".py",
   "mimetype": "text/x-python",
   "name": "python",
   "nbconvert_exporter": "python",
   "pygments_lexer": "ipython3",
   "version": "3.11.4"
  },
  "widgets": {
   "application/vnd.jupyter.widget-state+json": {
    "state": {},
    "version_major": 2,
    "version_minor": 0
   }
  }
 },
 "nbformat": 4,
 "nbformat_minor": 5
}
