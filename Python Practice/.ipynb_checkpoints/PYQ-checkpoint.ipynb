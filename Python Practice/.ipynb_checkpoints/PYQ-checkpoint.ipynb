{
 "cells": [
  {
   "cell_type": "markdown",
   "id": "d8cc946a",
   "metadata": {},
   "source": [
    "# Section A"
   ]
  },
  {
   "cell_type": "markdown",
   "id": "aa0adbf5",
   "metadata": {},
   "source": [
    "## Q1(iii)"
   ]
  },
  {
   "cell_type": "code",
   "execution_count": 1,
   "id": "bd2a0c71",
   "metadata": {},
   "outputs": [
    {
     "name": "stdout",
     "output_type": "stream",
     "text": [
      "1505,1540,1575,1610,1645,1680,1715,1750,1785,1820,1855,1890,1925,1960,1995,2030,2065,2100,2135,2170,2205,2240,2275,2310,2345,2380,2415,2450,2485,2520,2555,2590,2625,2660,2695\n"
     ]
    }
   ],
   "source": [
    "result=[i for i in range(1500,2701) if i%5==0 and i%7==0]\n",
    "ans=','.join(map(str,result))\n",
    "print(ans)"
   ]
  },
  {
   "cell_type": "markdown",
   "id": "e286f4d0",
   "metadata": {},
   "source": [
    "# Q1(iv)"
   ]
  },
  {
   "cell_type": "markdown",
   "id": "5007ceed",
   "metadata": {},
   "source": [
    "<img src=\"https://github.com/SimmiSheetalJain/Medias_for_notes_and_blogs/blob/main/p1.png?raw=true\">"
   ]
  },
  {
   "cell_type": "code",
   "execution_count": 2,
   "id": "7d90b246",
   "metadata": {},
   "outputs": [
    {
     "name": "stdout",
     "output_type": "stream",
     "text": [
      "Answer is :  ['Today', 'sunny']\n",
      "Answer is :  ['day', 'sunny']\n",
      "Reversed :  day sunny a is Today\n"
     ]
    }
   ],
   "source": [
    "String=\"Today is a sunny day\"\n",
    "#Ans (a)\n",
    "String=String.split()\n",
    "print(\"Answer is : \",String[0:4:3])\n",
    "#Ans (b)\n",
    "print(\"Answer is : \",String[-1:-3:-1])\n",
    "#Ans (c)\n",
    "print(\"Reversed : \",' '.join(String[::-1]))\n"
   ]
  },
  {
   "cell_type": "markdown",
   "id": "efb736bf",
   "metadata": {},
   "source": [
    "### Q1(V) Use list comprehension to obtain the square root of first 10 natural numbers.\n"
   ]
  },
  {
   "cell_type": "code",
   "execution_count": 3,
   "id": "da04e44e",
   "metadata": {},
   "outputs": [
    {
     "name": "stdout",
     "output_type": "stream",
     "text": [
      "1.00, 1.41, 1.73, 2.00, 2.24, 2.45, 2.65, 2.83, 3.00, 3.16\n"
     ]
    }
   ],
   "source": [
    "import math \n",
    "result=[math.sqrt(i) for i in range(1,11)]\n",
    "result=', '.join(map(lambda x: str(format(x,\".2f\")),result))\n",
    "print(result)"
   ]
  },
  {
   "cell_type": "markdown",
   "id": "06a0f022",
   "metadata": {},
   "source": [
    "## Q1(vi) How to filter words that contain at least 2 vowels from the series\n",
    "### sr=pd.Series([\"Apple\",\"Orange\",\"Plan\",\"Python\",\"Money\"]"
   ]
  },
  {
   "cell_type": "code",
   "execution_count": 4,
   "id": "4f5aff4f",
   "metadata": {},
   "outputs": [
    {
     "name": "stdout",
     "output_type": "stream",
     "text": [
      "['Apple', 'Orange', 'Money']\n"
     ]
    }
   ],
   "source": [
    "#Way 1\n",
    "import pandas as pd\n",
    "print(list(filter(lambda x:x if sum(list(map(lambda a: 1 if a in \"aeiouAEIOU\" else 0,x)))>1 else None,pd.Series([\"Apple\",\"Orange\",\"Plan\",\"Python\",\"Money\"]))))"
   ]
  },
  {
   "cell_type": "code",
   "execution_count": 5,
   "id": "1dae03aa",
   "metadata": {},
   "outputs": [
    {
     "name": "stdout",
     "output_type": "stream",
     "text": [
      "['Apple', 'Orange', 'Money']\n"
     ]
    }
   ],
   "source": [
    "#way 2\n",
    "def verify(string):\n",
    "    if (sum(list(map(lambda a: 1 if a in \"aeiouAEIOU\" else 0,string)))>1):\n",
    "        return string\n",
    "print(list(filter(verify,pd.Series([\"Apple\",\"Orange\",\"Plan\",\"Python\",\"Money\"]))))"
   ]
  },
  {
   "cell_type": "markdown",
   "id": "d08b6163",
   "metadata": {},
   "source": [
    "## Q1(vii)"
   ]
  },
  {
   "cell_type": "markdown",
   "id": "e71b7cb3",
   "metadata": {},
   "source": [
    "## Write a code to find first and last five rows in a dataset\n"
   ]
  },
  {
   "cell_type": "code",
   "execution_count": 44,
   "id": "dc5b0ce5",
   "metadata": {},
   "outputs": [
    {
     "name": "stdout",
     "output_type": "stream",
     "text": [
      "______________Data Set________________\n",
      "     ids     Name   designations  salaries\n",
      "1   1001  Ardhana        Manager     50000\n",
      "2   1002    Mehul       Engineer     60000\n",
      "3   1003  Rishabh        Analyst     75000\n",
      "4   1004    Vijay       Director     90000\n",
      "5   1005    Alice    Coordinator     55000\n",
      "6   1006      Bob      Developer     80000\n",
      "7   1007  Charlie     Supervisor     65000\n",
      "8   1008    David     Specialist     70000\n",
      "9   1009     Emma     Consultant     85000\n",
      "10  1010    Frank  Administrator     95000\n",
      "______________First Five Rows________________\n",
      "    ids     Name designations  salaries\n",
      "1  1001  Ardhana      Manager     50000\n",
      "2  1002    Mehul     Engineer     60000\n",
      "3  1003  Rishabh      Analyst     75000\n",
      "4  1004    Vijay     Director     90000\n",
      "5  1005    Alice  Coordinator     55000\n",
      "______________last Five Rows_________________\n",
      "     ids     Name   designations  salaries\n",
      "6   1006      Bob      Developer     80000\n",
      "7   1007  Charlie     Supervisor     65000\n",
      "8   1008    David     Specialist     70000\n",
      "9   1009     Emma     Consultant     85000\n",
      "10  1010    Frank  Administrator     95000\n"
     ]
    }
   ],
   "source": [
    "#Data set\n",
    "import pandas as pd\n",
    "data={ \"ids\" : [1001, 1002, 1003, 1004, 1005, 1006, 1007, 1008, 1009, 1010],\n",
    "         \"Name\": [\"Ardhana\",\"Mehul\",\"Rishabh\",\"Vijay\",\"Alice\", \"Bob\", \"Charlie\", \"David\", \"Emma\", \"Frank\"],\n",
    "         \"designations\" : [\"Manager\", \"Engineer\", \"Analyst\", \"Director\", \"Coordinator\", \"Developer\", \"Supervisor\", \"Specialist\", \"Consultant\", \"Administrator\"],\n",
    "         \"salaries\" : [50000, 60000, 75000, 90000, 55000, 80000, 65000, 70000, 85000, 95000]\n",
    "        }\n",
    "dataset=pd.DataFrame(data,index=[1,2,3,4,5,6,7,8,9,10])\n",
    "print(\"______________Data Set________________\")\n",
    "print(dataset)\n",
    "print(\"______________First Five Rows________________\")\n",
    "print(dataset.head(5))\n",
    "print(\"______________last Five Rows_________________\")\n",
    "print(dataset.tail(5))"
   ]
  },
  {
   "cell_type": "markdown",
   "id": "3736e633",
   "metadata": {},
   "source": [
    "# Section - B"
   ]
  },
  {
   "cell_type": "markdown",
   "id": "0c898ef1",
   "metadata": {},
   "source": [
    "# (i)"
   ]
  },
  {
   "cell_type": "markdown",
   "id": "e694290a",
   "metadata": {},
   "source": [
    "<img src=\"https://github.com/SimmiSheetalJain/Medias_for_notes_and_blogs/blob/main/p2.png?raw=true\">"
   ]
  },
  {
   "cell_type": "code",
   "execution_count": 51,
   "id": "a90df0da",
   "metadata": {},
   "outputs": [
    {
     "name": "stdout",
     "output_type": "stream",
     "text": [
      "['Mango tree', 'Coconut tree', 'Apple tree']\n"
     ]
    }
   ],
   "source": [
    "#step 1\n",
    "trees=[\"Mango tree\",\"Coconut tree\",\"Papaya tree\",\"Apple tree\",\"Banana tree\",\"Blackberry tree\"]\n",
    "trees.remove(trees[trees.index(\"Papaya tree\")])\n",
    "trees.remove(trees[trees.index(\"Apple tree\")])\n",
    "trees.remove(trees[trees.index(\"Banana tree\")])\n",
    "print(trees)"
   ]
  },
  {
   "cell_type": "code",
   "execution_count": 52,
   "id": "be7cc258",
   "metadata": {},
   "outputs": [
    {
     "name": "stdout",
     "output_type": "stream",
     "text": [
      "['Neem Tree', 'Peepal Tree', 'Mango tree', 'Coconut tree', 'Apple tree']\n"
     ]
    }
   ],
   "source": [
    "#step 2\n",
    "new_trees=[\"Neem Tree\",\"Peepal Tree\"]\n",
    "trees[:0]=new_trees\n",
    "print(trees)"
   ]
  },
  {
   "cell_type": "code",
   "execution_count": 6,
   "id": "95dc9c95",
   "metadata": {},
   "outputs": [
    {
     "name": "stdout",
     "output_type": "stream",
     "text": [
      "2\n"
     ]
    }
   ],
   "source": [
    "#Step 3\n",
    "ans = sum(map(lambda x: True if x == 'n' else False, 'Banana tree'))\n",
    "print(ans)"
   ]
  },
  {
   "cell_type": "markdown",
   "id": "589cf1db",
   "metadata": {},
   "source": [
    "# (ii)"
   ]
  },
  {
   "cell_type": "markdown",
   "id": "58adaa77",
   "metadata": {},
   "source": [
    "<img src=\"https://github.com/SimmiSheetalJain/Medias_for_notes_and_blogs/blob/main/p3.png?raw=true\">"
   ]
  },
  {
   "cell_type": "code",
   "execution_count": 2,
   "id": "36a3c572",
   "metadata": {},
   "outputs": [
    {
     "name": "stdout",
     "output_type": "stream",
     "text": [
      "Enter a string : AAACCCCBBBB######**\n",
      "B 4\n",
      "C 4\n",
      "* 2\n",
      "A 3\n",
      "# 6\n"
     ]
    }
   ],
   "source": [
    "#Answer\n",
    "string=list(input(\"Enter a string : \"))\n",
    "keys=set(string)\n",
    "values=[string.count(i) for i in keys]\n",
    "occurrence=dict(zip(keys,values))\n",
    "for x,y in occurrence.items():\n",
    "    print(x,y)"
   ]
  },
  {
   "cell_type": "markdown",
   "id": "9dfb9fba",
   "metadata": {},
   "source": [
    "(iii)\n",
    "<img src=\"https://github.com/SimmiSheetalJain/Medias_for_notes_and_blogs/blob/main/p4.png?raw=truehttps://github.com/SimmiSheetalJain/Medias_for_notes_and_blogs/blob/main/p4.png?raw=true\">"
   ]
  },
  {
   "cell_type": "code",
   "execution_count": 18,
   "id": "41110980",
   "metadata": {},
   "outputs": [
    {
     "name": "stdout",
     "output_type": "stream",
     "text": [
      "d    4.0\n",
      "b    7.0\n",
      "a   -5.0\n",
      "c    3.0\n",
      "e    NaN\n",
      "dtype: float64\n",
      "-5.0\n",
      "7.0\n",
      "2   -5.0\n",
      "3    3.0\n",
      "0    4.0\n",
      "1    7.0\n",
      "4    NaN\n",
      "dtype: float64\n",
      "1    7.0\n",
      "0    4.0\n",
      "3    3.0\n",
      "2   -5.0\n",
      "4    NaN\n",
      "dtype: float64\n"
     ]
    }
   ],
   "source": [
    "import pandas as pd\n",
    "data = pd.Series([4, 7, -5, 3, np.nan])\n",
    "#Answer to (a)\n",
    "data_with_index=pd.Series(data.values,index=['d','b','a','c','e'])\n",
    "print(data_with_index)\n",
    "#answer to (b)\n",
    "print(data.min())\n",
    "#answer to (c)\n",
    "print(data.max())\n",
    "#answer to(d)\n",
    "print(data.sort_values())\n",
    "#answer to(e)\n",
    "print(data.sort_values(ascending=False))"
   ]
  },
  {
   "cell_type": "markdown",
   "id": "6bf920d6",
   "metadata": {},
   "source": [
    "<h2 style=\"color:#eb3477\">IV(a): Create a 2D array from list of lists and Find the minimum value along each of the three rows</h2>\n",
    "<h3 style=\"color:#eb3477\">List1=[[110,102,183],[40,175,106],[192,40,195]]</h3>"
   ]
  },
  {
   "cell_type": "code",
   "execution_count": 20,
   "id": "264e87a5",
   "metadata": {},
   "outputs": [
    {
     "name": "stdout",
     "output_type": "stream",
     "text": [
      "Minimum along first row :  102\n",
      "Minimum along second row :  40\n",
      "Minimum along third row :  40\n"
     ]
    }
   ],
   "source": [
    "import numpy as np\n",
    "List1=[[110,102,183],[40,175,106],[192,40,195]]\n",
    "arr=np.array(List1)\n",
    "minimum_along_row=arr.min(axis=1)\n",
    "print(\"Minimum along first row : \",minimum_along_row[0])\n",
    "print(\"Minimum along second row : \",minimum_along_row[1])\n",
    "print(\"Minimum along third row : \",minimum_along_row[2])"
   ]
  },
  {
   "cell_type": "markdown",
   "id": "34fdb1ba",
   "metadata": {},
   "source": [
    "<h2 style=\"color:#eb3477\">IV(b) Create a numpy array form the given list of lists and Swap row 1 and row 2 in the given array</h2>\n",
    "<h3 style=\"color:#eb3477\">List1=[[110,102,183],[40,175,106],[192,40,195]]</h3>"
   ]
  },
  {
   "cell_type": "code",
   "execution_count": 22,
   "id": "a3a51df7",
   "metadata": {},
   "outputs": [
    {
     "name": "stdout",
     "output_type": "stream",
     "text": [
      "Original Array :\n",
      " [[110 102 183]\n",
      " [ 40 175 106]\n",
      " [192  40 195]]\n",
      "Array after swapping :\n",
      " [[110  40 183]\n",
      " [ 40 175 106]\n",
      " [192  40 195]]\n"
     ]
    }
   ],
   "source": [
    "import numpy as np\n",
    "List1=[[110,102,183],[40,175,106],[192,40,195]]\n",
    "arr=np.array(List1)\n",
    "print(\"Original Array :\\n\",arr)\n",
    "arr[0,1]=arr[1,0]\n",
    "print(\"Array after swapping :\\n\",arr)"
   ]
  },
  {
   "cell_type": "markdown",
   "id": "18cc402e",
   "metadata": {},
   "source": [
    "<h2 style=\"color:#eb3477\">IV(c): Create a numpy array form the given list of lists and Replace all the odd numbers in the array with -2</h2>\n",
    "<h3 style=\"color:#eb3477\">List1=[[110,102,183],[40,175,106],[192,40,195]]</h3>"
   ]
  },
  {
   "cell_type": "code",
   "execution_count": 23,
   "id": "0b96d92f",
   "metadata": {},
   "outputs": [
    {
     "name": "stdout",
     "output_type": "stream",
     "text": [
      "[[110 102 183]\n",
      " [ 40 175 106]\n",
      " [192  40 195]]\n",
      "[[110 102  -2]\n",
      " [ 40  -2 106]\n",
      " [192  40  -2]]\n"
     ]
    }
   ],
   "source": [
    "#Answer\n",
    "import numpy as np\n",
    "List1=[[110,102,183],[40,175,106],[192,40,195]]\n",
    "arr=np.array(List1)\n",
    "print(arr)\n",
    "arr=np.where(arr%2!=0,-2,arr)\n",
    "print(arr)"
   ]
  },
  {
   "cell_type": "markdown",
   "id": "baea2d9c",
   "metadata": {},
   "source": [
    "# (V)"
   ]
  },
  {
   "cell_type": "markdown",
   "id": "196dadb5",
   "metadata": {},
   "source": [
    "<img src=\"https://github.com/SimmiSheetalJain/Medias_for_notes_and_blogs/blob/main/p5.png?raw=true\">"
   ]
  },
  {
   "cell_type": "code",
   "execution_count": 29,
   "id": "989ae5ac",
   "metadata": {},
   "outputs": [
    {
     "name": "stdout",
     "output_type": "stream",
     "text": [
      "Enter a number : 75\n",
      "Odd\n",
      "Enter a number : 65\n",
      "No! It isn't a divisible by 9 and a multiple of 6\n",
      "third element is :  6\n"
     ]
    }
   ],
   "source": [
    "#Answer (a)\n",
    "a=int(input(\"Enter a number : \"))\n",
    "print('Even' if a%2==0 else 'Odd')\n",
    "#Answer (b)\n",
    "a=int(input(\"Enter a number : \"))\n",
    "print(\"Yes! It's a divisible by 9 and a multiple of 6\" if (a%9==0 and a%6==0) else \"No! It isn't a divisible by 9 and a multiple of 6\")\n",
    "#Answer (c)\n",
    "num_list=[5,3,6,1,85,23,5,13]\n",
    "print(\"third element is : \" ,num_list[2])"
   ]
  },
  {
   "cell_type": "markdown",
   "id": "a657d60f",
   "metadata": {},
   "source": [
    "# (VI)"
   ]
  },
  {
   "cell_type": "markdown",
   "id": "3150636d",
   "metadata": {},
   "source": [
    "<img src=\"https://github.com/SimmiSheetalJain/Medias_for_notes_and_blogs/blob/main/p6.png?raw=true\">"
   ]
  },
  {
   "cell_type": "code",
   "execution_count": 32,
   "id": "7da588e5",
   "metadata": {},
   "outputs": [
    {
     "name": "stdout",
     "output_type": "stream",
     "text": [
      "   total_bill   tip     sex smoker  day    time  size\n",
      "1       16.99  1.01  Female     No  Sun  Dinner     2\n",
      "2       10.34  1.66    Male     No  Sun  Dinner     3\n",
      "3       21.01  3.50    Male     No  Sun  Dinner     3\n",
      "4       23.68  3.31    Male     No  Sun  Dinner     2\n",
      "5       24.59  3.61  Female     No  Sun  Dinner     4\n"
     ]
    }
   ],
   "source": []
  },
  {
   "cell_type": "code",
   "execution_count": 35,
   "id": "db6ad757",
   "metadata": {},
   "outputs": [
    {
     "name": "stdout",
     "output_type": "stream",
     "text": [
      "total_bill    float64\n",
      "tip           float64\n",
      "sex            object\n",
      "smoker         object\n",
      "day            object\n",
      "time           object\n",
      "size            int64\n",
      "dtype: object\n"
     ]
    }
   ],
   "source": [
    "#Amswer a\n",
    "data_types=data.dtypes\n",
    "print(data_types)"
   ]
  },
  {
   "cell_type": "code",
   "execution_count": 38,
   "id": "516f45c8",
   "metadata": {},
   "outputs": [
    {
     "name": "stdout",
     "output_type": "stream",
     "text": [
      "1    16.99\n",
      "2    10.34\n",
      "3    21.01\n",
      "4    23.68\n",
      "5    24.59\n",
      "Name: total_bill, dtype: float64\n"
     ]
    }
   ],
   "source": [
    "#Answer (b)\n",
    "import numpy as np\n",
    "avg=data['total_bill'].apply(np.mean)\n",
    "print(avg)"
   ]
  },
  {
   "cell_type": "code",
   "execution_count": null,
   "id": "b1f24fc7",
   "metadata": {},
   "outputs": [],
   "source": []
  }
 ],
 "metadata": {
  "kernelspec": {
   "display_name": "Python 3 (ipykernel)",
   "language": "python",
   "name": "python3"
  },
  "language_info": {
   "codemirror_mode": {
    "name": "ipython",
    "version": 3
   },
   "file_extension": ".py",
   "mimetype": "text/x-python",
   "name": "python",
   "nbconvert_exporter": "python",
   "pygments_lexer": "ipython3",
   "version": "3.11.4"
  }
 },
 "nbformat": 4,
 "nbformat_minor": 5
}
