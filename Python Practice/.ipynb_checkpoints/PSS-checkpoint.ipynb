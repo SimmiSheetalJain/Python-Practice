{
 "cells": [
  {
   "cell_type": "code",
   "execution_count": 2,
   "id": "8320e54a",
   "metadata": {},
   "outputs": [
    {
     "name": "stdout",
     "output_type": "stream",
     "text": [
      "abc\n"
     ]
    }
   ],
   "source": [
    "s=\"abcdefghijklmnopqrstuvwxyz\"\n",
    "print(s[0:3])"
   ]
  },
  {
   "cell_type": "code",
   "execution_count": 3,
   "id": "6f5865d3",
   "metadata": {},
   "outputs": [],
   "source": [
    "def fact(k):\n",
    "    fact = 1\n",
    "    while k!=1:\n",
    "        fact=fact*k\n",
    "        k-=1\n",
    "    return fact"
   ]
  },
  {
   "cell_type": "code",
   "execution_count": 6,
   "id": "774515fd",
   "metadata": {},
   "outputs": [
    {
     "data": {
      "text/plain": [
       "5040"
      ]
     },
     "execution_count": 6,
     "metadata": {},
     "output_type": "execute_result"
    }
   ],
   "source": [
    "fact(7)"
   ]
  },
  {
   "cell_type": "code",
   "execution_count": null,
   "id": "0c8c9502",
   "metadata": {},
   "outputs": [],
   "source": [
    "n=24\n",
    "truebit = 0\n",
    "while n!=0:\n",
    "    if (n&1 == 0):\n",
    "        pass\n",
    "    else:\n",
    "        truebit = 1;\n",
    "        if(truebit > 1):\n",
    "            break\n",
    "            n>>1\n",
    "if(truebit == 1):\n",
    "    return True\n",
    "else:\n",
    "    return False"
   ]
  },
  {
   "cell_type": "code",
   "execution_count": 9,
   "id": "8699639b",
   "metadata": {},
   "outputs": [
    {
     "name": "stdout",
     "output_type": "stream",
     "text": [
      "[[1, 2, 3], [2, 3, 1], [3, 1, 2], [1, 2, 3], [1, 3, 2], [1, 2, 3]]\n"
     ]
    }
   ],
   "source": [
    "nums = [1,2,3]\n",
    "ans = []\n",
    "for i in range(0,len(nums)):\n",
    "    for j in range(i, len(nums)):\n",
    "        ans.append(nums.copy())\n",
    "        p=nums.pop(i)\n",
    "        nums.append(p)\n",
    "print(ans)"
   ]
  },
  {
   "cell_type": "code",
   "execution_count": 9,
   "id": "a31e587d",
   "metadata": {},
   "outputs": [
    {
     "name": "stdout",
     "output_type": "stream",
     "text": [
      "1\n",
      "1\n",
      "2\n",
      "3\n",
      "5\n",
      "8\n",
      "13\n",
      "21\n",
      "34\n",
      "55\n"
     ]
    }
   ],
   "source": [
    "a=1\n",
    "b=1\n",
    "n=10\n",
    "print(a,b,sep='\\n')\n",
    "for i in range(0,n-2):\n",
    "    c=a+b\n",
    "    a=b\n",
    "    b=c\n",
    "    print(b)"
   ]
  },
  {
   "cell_type": "code",
   "execution_count": 2,
   "id": "a04e6f28",
   "metadata": {},
   "outputs": [
    {
     "name": "stdout",
     "output_type": "stream",
     "text": [
      "Enter an Integer: 5\n",
      "Good job\n"
     ]
    }
   ],
   "source": [
    "x=eval(input(\"Enter an Integer: \"))\n",
    "while True:\n",
    "    if type(x)!=int:\n",
    "        print(\"Enter Again, Entered Input is not an interger.\" )\n",
    "    else:\n",
    "        print(\"Good job\")\n",
    "        break"
   ]
  },
  {
   "cell_type": "code",
   "execution_count": null,
   "id": "877a3c63",
   "metadata": {},
   "outputs": [],
   "source": []
  }
 ],
 "metadata": {
  "kernelspec": {
   "display_name": "Python 3 (ipykernel)",
   "language": "python",
   "name": "python3"
  },
  "language_info": {
   "codemirror_mode": {
    "name": "ipython",
    "version": 3
   },
   "file_extension": ".py",
   "mimetype": "text/x-python",
   "name": "python",
   "nbconvert_exporter": "python",
   "pygments_lexer": "ipython3",
   "version": "3.11.4"
  }
 },
 "nbformat": 4,
 "nbformat_minor": 5
}
