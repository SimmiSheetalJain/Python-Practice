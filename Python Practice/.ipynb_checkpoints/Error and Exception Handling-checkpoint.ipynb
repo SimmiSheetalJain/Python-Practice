{
 "cells": [
  {
   "cell_type": "markdown",
   "id": "92d27d81",
   "metadata": {},
   "source": [
    "# Error and Exception Handling in Python"
   ]
  },
  {
   "cell_type": "markdown",
   "id": "1b29ec8f",
   "metadata": {},
   "source": [
    "When a python program doesn't execute or behaves abnormally then it occurs due to errors or exceptions in our python code. In every programming language, so in python, we can have following errors:\n",
    "1. Syntax Error \n",
    "2. Logical Error\n",
    "3. Runtime Error"
   ]
  },
  {
   "cell_type": "markdown",
   "id": "10d46db1",
   "metadata": {},
   "source": [
    "1. Syntax Error:  Syntac error arises when our code doesn't follow the rules defined in python programming language.We can also say that, just as we need to be concerned about grammar when we write a sentence to ensure it makes sense, in the same way, we need to be concerned about the syntax of writing code in the Python programming language so that it makes sense to the Python interpreter."
   ]
  },
  {
   "cell_type": "markdown",
   "id": "2fd6f43e",
   "metadata": {},
   "source": [
    "For example: \n",
    "if you forget to place a colon ':' after defining a function then python interpreter will remind you of your syntax error \"Expected ':'\"."
   ]
  },
  {
   "cell_type": "code",
   "execution_count": 2,
   "id": "c5fd1ada",
   "metadata": {},
   "outputs": [
    {
     "ename": "SyntaxError",
     "evalue": "expected ':' (3189756483.py, line 1)",
     "output_type": "error",
     "traceback": [
      "\u001b[1;36m  Cell \u001b[1;32mIn[2], line 1\u001b[1;36m\u001b[0m\n\u001b[1;33m    def myfunction()\u001b[0m\n\u001b[1;37m                    ^\u001b[0m\n\u001b[1;31mSyntaxError\u001b[0m\u001b[1;31m:\u001b[0m expected ':'\n"
     ]
    }
   ],
   "source": [
    "#Example \n",
    "def myfunction()\n",
    "    print(\"Hello\")"
   ]
  },
  {
   "cell_type": "markdown",
   "id": "a0223022",
   "metadata": {},
   "source": [
    "2. Logical Error: When your program doesn't behave as expected, it might have a logical error. This happens when the logic or reasoning in your code is wrong, leading to unexpected outcomes."
   ]
  },
  {
   "cell_type": "markdown",
   "id": "bd579349",
   "metadata": {},
   "source": [
    "For Example: Imagine you want to calculate the percentage of marks obtained out of the maximum marks. If, by mistake, you switch the numerator and denominator in your calculation, your program will yield an incorrect percentage. This kind of mistake is known as a logical error."
   ]
  },
  {
   "cell_type": "code",
   "execution_count": 4,
   "id": "cf08ff4f",
   "metadata": {},
   "outputs": [
    {
     "name": "stdout",
     "output_type": "stream",
     "text": [
      "Percentage: 133.33333333333331\n"
     ]
    }
   ],
   "source": [
    "# Example\n",
    "# Incorrect logic: Swapping numerator and denominator in percentage calculation\n",
    "obtained_marks = 75\n",
    "maximum_marks = 100\n",
    "\n",
    "# Incorrect calculation: mistakenly swapping numerator and denominator\n",
    "percentage = maximum_marks / obtained_marks * 100\n",
    "print(\"Percentage:\",percentage)"
   ]
  },
  {
   "cell_type": "code",
   "execution_count": null,
   "id": "e1ea2142",
   "metadata": {},
   "outputs": [],
   "source": []
  },
  {
   "cell_type": "code",
   "execution_count": null,
   "id": "8334a687",
   "metadata": {},
   "outputs": [],
   "source": []
  }
 ],
 "metadata": {
  "kernelspec": {
   "display_name": "Python 3 (ipykernel)",
   "language": "python",
   "name": "python3"
  },
  "language_info": {
   "codemirror_mode": {
    "name": "ipython",
    "version": 3
   },
   "file_extension": ".py",
   "mimetype": "text/x-python",
   "name": "python",
   "nbconvert_exporter": "python",
   "pygments_lexer": "ipython3",
   "version": "3.11.4"
  }
 },
 "nbformat": 4,
 "nbformat_minor": 5
}
