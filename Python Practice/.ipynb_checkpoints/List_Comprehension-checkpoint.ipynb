{
 "cells": [
  {
   "cell_type": "markdown",
   "id": "e1588e28",
   "metadata": {},
   "source": [
    "# List Comprehension"
   ]
  },
  {
   "cell_type": "markdown",
   "id": "ea5eacb8",
   "metadata": {},
   "source": [
    "When we want to make a list object from a list, we can follow following syntax: \n",
    "     "
   ]
  },
  {
   "cell_type": "markdown",
   "id": "7e692e28",
   "metadata": {},
   "source": [
    "  ####  Syntax:"
   ]
  },
  {
   "cell_type": "markdown",
   "id": "c41d5a4a",
   "metadata": {},
   "source": [
    " _list = [variable for variable in iterable <test_condition>]"
   ]
  },
  {
   "cell_type": "markdown",
   "id": "2716311e",
   "metadata": {},
   "source": [
    "Here, the variable should be same. Here is an example:"
   ]
  },
  {
   "cell_type": "markdown",
   "id": "055f9172",
   "metadata": {},
   "source": [
    "#### => We use list comprehension to reduce time and space complexity.\n",
    "#### => We use list comprehension to reduce code complexity\n",
    "#### => Better use of list comprehension is in lamda function, map function, and filter function.\n",
    "#### => an iterable object can be a string, a list, a tuple,a dict,a set, range()"
   ]
  },
  {
   "cell_type": "code",
   "execution_count": 3,
   "id": "b9bb4488",
   "metadata": {},
   "outputs": [
    {
     "data": {
      "text/plain": [
       "[1, 9, 25, 49, 81]"
      ]
     },
     "execution_count": 3,
     "metadata": {},
     "output_type": "execute_result"
    }
   ],
   "source": [
    "#example\n",
    "[x**2 for x in range(1,10) if x%2!=0]"
   ]
  },
  {
   "cell_type": "code",
   "execution_count": 4,
   "id": "06b6aae4",
   "metadata": {},
   "outputs": [],
   "source": [
    "my_string=\"Sheetal Jain\"\n",
    "l1=[x for x in my_string]"
   ]
  },
  {
   "cell_type": "code",
   "execution_count": 5,
   "id": "dfdc95c9",
   "metadata": {},
   "outputs": [
    {
     "name": "stdout",
     "output_type": "stream",
     "text": [
      "S\n",
      "h\n",
      "e\n",
      "e\n",
      "t\n",
      "a\n",
      "l\n",
      " \n",
      "J\n",
      "a\n",
      "i\n",
      "n\n"
     ]
    }
   ],
   "source": [
    "for x in l1:\n",
    "    print(x)"
   ]
  },
  {
   "cell_type": "markdown",
   "id": "efe960b5",
   "metadata": {},
   "source": [
    "#### List comprehension can be used to optimize code. Here, we can see, how easily and in a single line of code, we can generate squars and can store them in a list using with the help of list comprehension"
   ]
  },
  {
   "cell_type": "code",
   "execution_count": 6,
   "id": "7d2071da",
   "metadata": {},
   "outputs": [
    {
     "data": {
      "text/plain": [
       "[1, 4, 9, 16, 25]"
      ]
     },
     "execution_count": 6,
     "metadata": {},
     "output_type": "execute_result"
    }
   ],
   "source": [
    "#example 1:\n",
    "[x**2 for x in range(1,6)]"
   ]
  },
  {
   "cell_type": "code",
   "execution_count": 7,
   "id": "f082c253",
   "metadata": {},
   "outputs": [
    {
     "data": {
      "text/plain": [
       "[1, 27, 125, 343, 729]"
      ]
     },
     "execution_count": 7,
     "metadata": {},
     "output_type": "execute_result"
    }
   ],
   "source": [
    "# Example 2:\n",
    "[y**3 for y in range(1,11,2)]"
   ]
  },
  {
   "cell_type": "code",
   "execution_count": 8,
   "id": "4936445a",
   "metadata": {},
   "outputs": [
    {
     "data": {
      "text/plain": [
       "[1, 2, 3, 4, 5, 6, 7, 8, 9, 10]"
      ]
     },
     "execution_count": 8,
     "metadata": {},
     "output_type": "execute_result"
    }
   ],
   "source": [
    "#Example 3:\n",
    "[x for x in range(1,11,1)]"
   ]
  },
  {
   "cell_type": "markdown",
   "id": "fa8d694d",
   "metadata": {},
   "source": [
    "### Q1: WAP to accept a string from a user, and write it in upper case. "
   ]
  },
  {
   "cell_type": "code",
   "execution_count": 1,
   "id": "2ee39680",
   "metadata": {},
   "outputs": [
    {
     "name": "stdout",
     "output_type": "stream",
     "text": [
      "Enter Name:\n"
     ]
    }
   ],
   "source": [
    "#Answer code1\n",
    "for i in [x.upper() for x in str(input(\"Enter Name:\"))]:\n",
    "    if ord(i)==32:\n",
    "        print(\" \",end=\"\")\n",
    "    else:\n",
    "        print(i,end=\"\")"
   ]
  },
  {
   "cell_type": "markdown",
   "id": "d81edb29",
   "metadata": {},
   "source": [
    "### Q2: WAP to accept 5 integers from a user and store them in list and find the sum of all element stored in list"
   ]
  },
  {
   "cell_type": "code",
   "execution_count": null,
   "id": "9e53649d",
   "metadata": {},
   "outputs": [],
   "source": [
    "j=[]\n",
    "for i in range(1,6):\n",
    "    j.append(int(input(\"Enter the number : \")))   \n",
    "print(\"Sum of all elements : \",sum(j))"
   ]
  },
  {
   "cell_type": "markdown",
   "id": "ed9b8e14",
   "metadata": {},
   "source": [
    "### Q3: WAP  for priting squares of odd numbers form 1 to twenty using list comprehension"
   ]
  },
  {
   "cell_type": "code",
   "execution_count": null,
   "id": "dbb7c676",
   "metadata": {},
   "outputs": [],
   "source": [
    "[x**2 for x in range(1,20,2)]"
   ]
  }
 ],
 "metadata": {
  "kernelspec": {
   "display_name": "Python 3 (ipykernel)",
   "language": "python",
   "name": "python3"
  },
  "language_info": {
   "codemirror_mode": {
    "name": "ipython",
    "version": 3
   },
   "file_extension": ".py",
   "mimetype": "text/x-python",
   "name": "python",
   "nbconvert_exporter": "python",
   "pygments_lexer": "ipython3",
   "version": "3.11.4"
  }
 },
 "nbformat": 4,
 "nbformat_minor": 5
}
