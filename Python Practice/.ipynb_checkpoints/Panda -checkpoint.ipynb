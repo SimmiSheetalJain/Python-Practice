{
 "cells": [
  {
   "cell_type": "markdown",
   "id": "e49f07e2",
   "metadata": {},
   "source": [
    "### Pandas is a popular Python library that provides high-performance, easy-to-use data structures, and data analysis tools. One of the key data structures provided by pandas is the DataFrame.Panda libraray helps in :\n",
    "1. Loading our data from another file(csv, excel, sql, json, xml, html)\n",
    "2. Data Cleaning \n",
    "3. Data Selection \n",
    "4. Data Filtering \n",
    "5. Data Aggregation\n",
    "6. Data transformation \n",
    "7. Data visualization \n",
    "8. Descriptive Analysis"
   ]
  },
  {
   "cell_type": "markdown",
   "id": "46560f77",
   "metadata": {},
   "source": [
    "#### Dask and spark data frame are a better alternative of panda. "
   ]
  },
  {
   "cell_type": "markdown",
   "id": "d84a3cf5",
   "metadata": {},
   "source": [
    "# Panda Data Structure "
   ]
  },
  {
   "cell_type": "code",
   "execution_count": 3,
   "id": "7307aeb4",
   "metadata": {},
   "outputs": [
    {
     "name": "stdout",
     "output_type": "stream",
     "text": [
      "Empty DataFrame\n",
      "Columns: []\n",
      "Index: []\n"
     ]
    }
   ],
   "source": [
    "#Imporing pandas and creating a dataframe\n",
    "import pandas as pd\n",
    "data_frame=pd.DataFrame()\n",
    "print(data_frame)"
   ]
  },
  {
   "cell_type": "code",
   "execution_count": 4,
   "id": "21730256",
   "metadata": {},
   "outputs": [
    {
     "name": "stdout",
     "output_type": "stream",
     "text": [
      "      Name  Age\n",
      "0  Sheetal   23\n",
      "1    Simmi   21\n",
      "2   Sanjay   23\n",
      "3    Sunny   22\n",
      "4    Rishi   22\n",
      "5     Anuj   24\n",
      "6  Shivani   21\n"
     ]
    }
   ],
   "source": [
    "#Example 1\n",
    "my_data=[[\"Sheetal\",23],[\"Simmi\",21],[\"Sanjay\",23],[\"Sunny\",22],[\"Rishi\",22],[\"Anuj\",24],[\"Shivani\",21]]\n",
    "data_frame=pd.DataFrame(my_data,columns=[\"Name\",\"Age\"])\n",
    "print(data_frame)"
   ]
  },
  {
   "cell_type": "code",
   "execution_count": 5,
   "id": "ce82855d",
   "metadata": {},
   "outputs": [
    {
     "name": "stdout",
     "output_type": "stream",
     "text": [
      "      Name  Age\n",
      "0  Ardhana   23\n",
      "1    Mehul   22\n",
      "2  Rishabh   21\n",
      "3    Vijay   24\n"
     ]
    }
   ],
   "source": [
    "#Example 2\n",
    "data2={\"Name\":[\"Ardhana\",\"Mehul\",\"Rishabh\",\"Vijay\"],\"Age\":[23,22,21,24]}\n",
    "data_frame2=pd.DataFrame(data2)\n",
    "print(data_frame2)"
   ]
  },
  {
   "cell_type": "code",
   "execution_count": 6,
   "id": "b20eea4d",
   "metadata": {},
   "outputs": [
    {
     "name": "stdout",
     "output_type": "stream",
     "text": [
      "   col1  col2  col3\n",
      "0    26    34   NaN\n",
      "1    26    34  35.0\n"
     ]
    }
   ],
   "source": [
    "#Example 3\n",
    "data4=[{\"col1\":26,\"col2\":34},{\"col1\":26,\"col2\":34,\"col3\":35}]\n",
    "data_frame4=pd.DataFrame(data4)\n",
    "print(data_frame4)"
   ]
  },
  {
   "cell_type": "markdown",
   "id": "c46e50cb",
   "metadata": {},
   "source": [
    "__note__: NaN is a Null Value"
   ]
  },
  {
   "cell_type": "code",
   "execution_count": 7,
   "id": "47b8e8c5",
   "metadata": {},
   "outputs": [
    {
     "data": {
      "text/plain": [
       "dtype('int64')"
      ]
     },
     "execution_count": 7,
     "metadata": {},
     "output_type": "execute_result"
    }
   ],
   "source": [
    "#Checking data type of a column\n",
    "data_frame4[\"col1\"].dtype"
   ]
  },
  {
   "cell_type": "code",
   "execution_count": 8,
   "id": "03038a88",
   "metadata": {},
   "outputs": [
    {
     "name": "stdout",
     "output_type": "stream",
     "text": [
      "          Name  Age\n",
      "(i)      Alice   23\n",
      "(ii)       Bob   19\n",
      "(iii)  Charlie   32\n",
      "(iv)     David   24\n",
      "(v)       Emma   26\n",
      "(vi)     Frank   25\n"
     ]
    }
   ],
   "source": [
    "#Renaming index\n",
    "data5={\"Name\":[\"Alice\", \"Bob\", \"Charlie\", \"David\", \"Emma\", \"Frank\"],\"Age\":[23,19,32,24,26,25]}\n",
    "df=pd.DataFrame(data5, index=[\"(i)\",\"(ii)\",\"(iii)\",\"(iv)\",\"(v)\",\"(vi)\"])\n",
    "print(df)"
   ]
  },
  {
   "cell_type": "code",
   "execution_count": 9,
   "id": "88b5e520",
   "metadata": {},
   "outputs": [
    {
     "data": {
      "text/html": [
       "<div>\n",
       "<style scoped>\n",
       "    .dataframe tbody tr th:only-of-type {\n",
       "        vertical-align: middle;\n",
       "    }\n",
       "\n",
       "    .dataframe tbody tr th {\n",
       "        vertical-align: top;\n",
       "    }\n",
       "\n",
       "    .dataframe thead th {\n",
       "        text-align: right;\n",
       "    }\n",
       "</style>\n",
       "<table border=\"1\" class=\"dataframe\">\n",
       "  <thead>\n",
       "    <tr style=\"text-align: right;\">\n",
       "      <th></th>\n",
       "      <th>id</th>\n",
       "      <th>name</th>\n",
       "      <th>class</th>\n",
       "      <th>mark</th>\n",
       "      <th>gender</th>\n",
       "    </tr>\n",
       "  </thead>\n",
       "  <tbody>\n",
       "    <tr>\n",
       "      <th>0</th>\n",
       "      <td>1</td>\n",
       "      <td>John Deo</td>\n",
       "      <td>Four</td>\n",
       "      <td>75</td>\n",
       "      <td>female</td>\n",
       "    </tr>\n",
       "    <tr>\n",
       "      <th>1</th>\n",
       "      <td>2</td>\n",
       "      <td>Max Ruin</td>\n",
       "      <td>Three</td>\n",
       "      <td>85</td>\n",
       "      <td>male</td>\n",
       "    </tr>\n",
       "    <tr>\n",
       "      <th>2</th>\n",
       "      <td>3</td>\n",
       "      <td>Arnold</td>\n",
       "      <td>Three</td>\n",
       "      <td>55</td>\n",
       "      <td>male</td>\n",
       "    </tr>\n",
       "    <tr>\n",
       "      <th>3</th>\n",
       "      <td>4</td>\n",
       "      <td>Krish Star</td>\n",
       "      <td>Four</td>\n",
       "      <td>60</td>\n",
       "      <td>female</td>\n",
       "    </tr>\n",
       "    <tr>\n",
       "      <th>4</th>\n",
       "      <td>5</td>\n",
       "      <td>John Mike</td>\n",
       "      <td>Four</td>\n",
       "      <td>60</td>\n",
       "      <td>female</td>\n",
       "    </tr>\n",
       "    <tr>\n",
       "      <th>5</th>\n",
       "      <td>6</td>\n",
       "      <td>Alex John</td>\n",
       "      <td>Four</td>\n",
       "      <td>55</td>\n",
       "      <td>male</td>\n",
       "    </tr>\n",
       "    <tr>\n",
       "      <th>6</th>\n",
       "      <td>7</td>\n",
       "      <td>My John Rob</td>\n",
       "      <td>Fifth</td>\n",
       "      <td>78</td>\n",
       "      <td>male</td>\n",
       "    </tr>\n",
       "    <tr>\n",
       "      <th>7</th>\n",
       "      <td>8</td>\n",
       "      <td>Asruid</td>\n",
       "      <td>Five</td>\n",
       "      <td>85</td>\n",
       "      <td>male</td>\n",
       "    </tr>\n",
       "    <tr>\n",
       "      <th>8</th>\n",
       "      <td>9</td>\n",
       "      <td>Tes Qry</td>\n",
       "      <td>Six</td>\n",
       "      <td>78</td>\n",
       "      <td>male</td>\n",
       "    </tr>\n",
       "    <tr>\n",
       "      <th>9</th>\n",
       "      <td>10</td>\n",
       "      <td>Big John</td>\n",
       "      <td>Four</td>\n",
       "      <td>55</td>\n",
       "      <td>female</td>\n",
       "    </tr>\n",
       "    <tr>\n",
       "      <th>10</th>\n",
       "      <td>11</td>\n",
       "      <td>Ronald</td>\n",
       "      <td>Six</td>\n",
       "      <td>89</td>\n",
       "      <td>female</td>\n",
       "    </tr>\n",
       "    <tr>\n",
       "      <th>11</th>\n",
       "      <td>12</td>\n",
       "      <td>Recky</td>\n",
       "      <td>Six</td>\n",
       "      <td>94</td>\n",
       "      <td>female</td>\n",
       "    </tr>\n",
       "    <tr>\n",
       "      <th>12</th>\n",
       "      <td>13</td>\n",
       "      <td>Kty</td>\n",
       "      <td>Seven</td>\n",
       "      <td>88</td>\n",
       "      <td>female</td>\n",
       "    </tr>\n",
       "    <tr>\n",
       "      <th>13</th>\n",
       "      <td>14</td>\n",
       "      <td>Bigy</td>\n",
       "      <td>Seven</td>\n",
       "      <td>88</td>\n",
       "      <td>female</td>\n",
       "    </tr>\n",
       "    <tr>\n",
       "      <th>14</th>\n",
       "      <td>15</td>\n",
       "      <td>Tade Row</td>\n",
       "      <td>Four</td>\n",
       "      <td>88</td>\n",
       "      <td>male</td>\n",
       "    </tr>\n",
       "    <tr>\n",
       "      <th>15</th>\n",
       "      <td>16</td>\n",
       "      <td>Gimmy</td>\n",
       "      <td>Four</td>\n",
       "      <td>88</td>\n",
       "      <td>male</td>\n",
       "    </tr>\n",
       "    <tr>\n",
       "      <th>16</th>\n",
       "      <td>17</td>\n",
       "      <td>Tumyu</td>\n",
       "      <td>Six</td>\n",
       "      <td>54</td>\n",
       "      <td>male</td>\n",
       "    </tr>\n",
       "    <tr>\n",
       "      <th>17</th>\n",
       "      <td>18</td>\n",
       "      <td>Honny</td>\n",
       "      <td>Five</td>\n",
       "      <td>75</td>\n",
       "      <td>male</td>\n",
       "    </tr>\n",
       "    <tr>\n",
       "      <th>18</th>\n",
       "      <td>19</td>\n",
       "      <td>Tinny</td>\n",
       "      <td>Nine</td>\n",
       "      <td>18</td>\n",
       "      <td>male</td>\n",
       "    </tr>\n",
       "    <tr>\n",
       "      <th>19</th>\n",
       "      <td>20</td>\n",
       "      <td>Jackly</td>\n",
       "      <td>Nine</td>\n",
       "      <td>65</td>\n",
       "      <td>female</td>\n",
       "    </tr>\n",
       "    <tr>\n",
       "      <th>20</th>\n",
       "      <td>21</td>\n",
       "      <td>Babby John</td>\n",
       "      <td>Four</td>\n",
       "      <td>69</td>\n",
       "      <td>female</td>\n",
       "    </tr>\n",
       "    <tr>\n",
       "      <th>21</th>\n",
       "      <td>22</td>\n",
       "      <td>Reggid</td>\n",
       "      <td>Seven</td>\n",
       "      <td>55</td>\n",
       "      <td>female</td>\n",
       "    </tr>\n",
       "    <tr>\n",
       "      <th>22</th>\n",
       "      <td>23</td>\n",
       "      <td>Herod</td>\n",
       "      <td>Eight</td>\n",
       "      <td>79</td>\n",
       "      <td>male</td>\n",
       "    </tr>\n",
       "    <tr>\n",
       "      <th>23</th>\n",
       "      <td>24</td>\n",
       "      <td>Tiddy Now</td>\n",
       "      <td>Seven</td>\n",
       "      <td>78</td>\n",
       "      <td>male</td>\n",
       "    </tr>\n",
       "    <tr>\n",
       "      <th>24</th>\n",
       "      <td>25</td>\n",
       "      <td>Giff Tow</td>\n",
       "      <td>Seven</td>\n",
       "      <td>88</td>\n",
       "      <td>male</td>\n",
       "    </tr>\n",
       "    <tr>\n",
       "      <th>25</th>\n",
       "      <td>26</td>\n",
       "      <td>Crelea</td>\n",
       "      <td>Seven</td>\n",
       "      <td>79</td>\n",
       "      <td>male</td>\n",
       "    </tr>\n",
       "    <tr>\n",
       "      <th>26</th>\n",
       "      <td>27</td>\n",
       "      <td>Big Nose</td>\n",
       "      <td>Three</td>\n",
       "      <td>81</td>\n",
       "      <td>female</td>\n",
       "    </tr>\n",
       "    <tr>\n",
       "      <th>27</th>\n",
       "      <td>28</td>\n",
       "      <td>Rojj Base</td>\n",
       "      <td>Seven</td>\n",
       "      <td>86</td>\n",
       "      <td>female</td>\n",
       "    </tr>\n",
       "    <tr>\n",
       "      <th>28</th>\n",
       "      <td>29</td>\n",
       "      <td>Tess Played</td>\n",
       "      <td>Seven</td>\n",
       "      <td>55</td>\n",
       "      <td>male</td>\n",
       "    </tr>\n",
       "    <tr>\n",
       "      <th>29</th>\n",
       "      <td>30</td>\n",
       "      <td>Reppy Red</td>\n",
       "      <td>Six</td>\n",
       "      <td>79</td>\n",
       "      <td>female</td>\n",
       "    </tr>\n",
       "    <tr>\n",
       "      <th>30</th>\n",
       "      <td>31</td>\n",
       "      <td>Marry Toeey</td>\n",
       "      <td>Four</td>\n",
       "      <td>88</td>\n",
       "      <td>male</td>\n",
       "    </tr>\n",
       "    <tr>\n",
       "      <th>31</th>\n",
       "      <td>32</td>\n",
       "      <td>Binn Rott</td>\n",
       "      <td>Seven</td>\n",
       "      <td>90</td>\n",
       "      <td>female</td>\n",
       "    </tr>\n",
       "    <tr>\n",
       "      <th>32</th>\n",
       "      <td>33</td>\n",
       "      <td>Kenn Rein</td>\n",
       "      <td>Six</td>\n",
       "      <td>96</td>\n",
       "      <td>female</td>\n",
       "    </tr>\n",
       "    <tr>\n",
       "      <th>33</th>\n",
       "      <td>34</td>\n",
       "      <td>Gain Toe</td>\n",
       "      <td>Seven</td>\n",
       "      <td>69</td>\n",
       "      <td>male</td>\n",
       "    </tr>\n",
       "    <tr>\n",
       "      <th>34</th>\n",
       "      <td>35</td>\n",
       "      <td>Rows Noump</td>\n",
       "      <td>Six</td>\n",
       "      <td>88</td>\n",
       "      <td>female</td>\n",
       "    </tr>\n",
       "  </tbody>\n",
       "</table>\n",
       "</div>"
      ],
      "text/plain": [
       "    id         name  class  mark  gender\n",
       "0    1     John Deo   Four    75  female\n",
       "1    2     Max Ruin  Three    85    male\n",
       "2    3       Arnold  Three    55    male\n",
       "3    4   Krish Star   Four    60  female\n",
       "4    5    John Mike   Four    60  female\n",
       "5    6    Alex John   Four    55    male\n",
       "6    7  My John Rob  Fifth    78    male\n",
       "7    8       Asruid   Five    85    male\n",
       "8    9      Tes Qry    Six    78    male\n",
       "9   10     Big John   Four    55  female\n",
       "10  11       Ronald    Six    89  female\n",
       "11  12        Recky    Six    94  female\n",
       "12  13          Kty  Seven    88  female\n",
       "13  14         Bigy  Seven    88  female\n",
       "14  15     Tade Row   Four    88    male\n",
       "15  16        Gimmy   Four    88    male\n",
       "16  17        Tumyu    Six    54    male\n",
       "17  18        Honny   Five    75    male\n",
       "18  19        Tinny   Nine    18    male\n",
       "19  20       Jackly   Nine    65  female\n",
       "20  21   Babby John   Four    69  female\n",
       "21  22       Reggid  Seven    55  female\n",
       "22  23        Herod  Eight    79    male\n",
       "23  24    Tiddy Now  Seven    78    male\n",
       "24  25     Giff Tow  Seven    88    male\n",
       "25  26       Crelea  Seven    79    male\n",
       "26  27     Big Nose  Three    81  female\n",
       "27  28    Rojj Base  Seven    86  female\n",
       "28  29  Tess Played  Seven    55    male\n",
       "29  30    Reppy Red    Six    79  female\n",
       "30  31  Marry Toeey   Four    88    male\n",
       "31  32    Binn Rott  Seven    90  female\n",
       "32  33    Kenn Rein    Six    96  female\n",
       "33  34     Gain Toe  Seven    69    male\n",
       "34  35   Rows Noump    Six    88  female"
      ]
     },
     "execution_count": 9,
     "metadata": {},
     "output_type": "execute_result"
    }
   ],
   "source": [
    "#reading acsv file\n",
    "pd.read_csv(\"./student.csv\")"
   ]
  },
  {
   "cell_type": "code",
   "execution_count": 10,
   "id": "3522a2b5",
   "metadata": {},
   "outputs": [],
   "source": [
    "#Example\n",
    "import json as js\n",
    "data='''{\n",
    "    \"NGO Name\":\"Saboori foundation\",\n",
    "    \"Phone Number\":7895654805,\n",
    "    \"Head\":\"Sheetal Jain\",\n",
    "    \"Estd.\":2003,\n",
    "    \"Branch\":[\"Agra\",\"Bhopal\",\"Maharastra\",\"Junagarh\"]\n",
    "}'''\n",
    "entry=js.loads(data)"
   ]
  },
  {
   "cell_type": "code",
   "execution_count": 11,
   "id": "f1991317",
   "metadata": {},
   "outputs": [
    {
     "data": {
      "text/html": [
       "<div>\n",
       "<style scoped>\n",
       "    .dataframe tbody tr th:only-of-type {\n",
       "        vertical-align: middle;\n",
       "    }\n",
       "\n",
       "    .dataframe tbody tr th {\n",
       "        vertical-align: top;\n",
       "    }\n",
       "\n",
       "    .dataframe thead th {\n",
       "        text-align: right;\n",
       "    }\n",
       "</style>\n",
       "<table border=\"1\" class=\"dataframe\">\n",
       "  <thead>\n",
       "    <tr style=\"text-align: right;\">\n",
       "      <th></th>\n",
       "      <th>NGO Name</th>\n",
       "      <th>Phone Number</th>\n",
       "      <th>Head</th>\n",
       "      <th>Estd.</th>\n",
       "      <th>Branch</th>\n",
       "    </tr>\n",
       "  </thead>\n",
       "  <tbody>\n",
       "    <tr>\n",
       "      <th>0</th>\n",
       "      <td>Saboori foundation</td>\n",
       "      <td>7895654805</td>\n",
       "      <td>Sheetal Jain</td>\n",
       "      <td>2003</td>\n",
       "      <td>Agra</td>\n",
       "    </tr>\n",
       "    <tr>\n",
       "      <th>1</th>\n",
       "      <td>Saboori foundation</td>\n",
       "      <td>7895654805</td>\n",
       "      <td>Sheetal Jain</td>\n",
       "      <td>2003</td>\n",
       "      <td>Bhopal</td>\n",
       "    </tr>\n",
       "    <tr>\n",
       "      <th>2</th>\n",
       "      <td>Saboori foundation</td>\n",
       "      <td>7895654805</td>\n",
       "      <td>Sheetal Jain</td>\n",
       "      <td>2003</td>\n",
       "      <td>Maharastra</td>\n",
       "    </tr>\n",
       "    <tr>\n",
       "      <th>3</th>\n",
       "      <td>Saboori foundation</td>\n",
       "      <td>7895654805</td>\n",
       "      <td>Sheetal Jain</td>\n",
       "      <td>2003</td>\n",
       "      <td>Junagarh</td>\n",
       "    </tr>\n",
       "  </tbody>\n",
       "</table>\n",
       "</div>"
      ],
      "text/plain": [
       "             NGO Name  Phone Number          Head  Estd.      Branch\n",
       "0  Saboori foundation    7895654805  Sheetal Jain   2003        Agra\n",
       "1  Saboori foundation    7895654805  Sheetal Jain   2003      Bhopal\n",
       "2  Saboori foundation    7895654805  Sheetal Jain   2003  Maharastra\n",
       "3  Saboori foundation    7895654805  Sheetal Jain   2003    Junagarh"
      ]
     },
     "execution_count": 11,
     "metadata": {},
     "output_type": "execute_result"
    }
   ],
   "source": [
    "#Creating a data frame from a json object\n",
    "json_data=pd.DataFrame(entry)\n",
    "json_data"
   ]
  },
  {
   "cell_type": "code",
   "execution_count": 12,
   "id": "dda4843f",
   "metadata": {},
   "outputs": [
    {
     "data": {
      "text/plain": [
       "[          Unnamed: 0_level_0 Unnamed: 1_level_0 Unnamed: 2_level_0  \\\n",
       "                           Tm               From                 To   \n",
       " 0          Arizona Cardinals               1920               2023   \n",
       " 1          Chicago Cardinals               1920               1943   \n",
       " 2     Chi/Pit Cards/Steelers               1944               1944   \n",
       " 3          Chicago Cardinals               1945               1959   \n",
       " 4        St. Louis Cardinals               1960               1987   \n",
       " ..                       ...                ...                ...   \n",
       " 73             Boston Braves               1932               1932   \n",
       " 74           Boston Redskins               1933               1936   \n",
       " 75       Washington Redskins               1937               2019   \n",
       " 76  Washington Football Team               2020               2021   \n",
       " 77     Washington Commanders               2022               2023   \n",
       " \n",
       "    Unnamed: 3_level_0 Unnamed: 4_level_0 Unnamed: 5_level_0  \\\n",
       "                     W                  L                  T   \n",
       " 0                 585                803                 41   \n",
       " 1                  99                141                 21   \n",
       " 2                   0                 10                  0   \n",
       " 3                  66                107                  4   \n",
       " 4                 186                202                 14   \n",
       " ..                ...                ...                ...   \n",
       " 73                  4                  4                  2   \n",
       " 74                 20                 24                  3   \n",
       " 75                579                575                 23   \n",
       " 76                 14                 19                  0   \n",
       " 77                 12                 21                  1   \n",
       " \n",
       "    Unnamed: 6_level_0 Unnamed: 7_level_0 Top Performers                        \\\n",
       "                  W-L%                 AV         Passer    Rusher    Receiver   \n",
       " 0               0.422         Fitzgerald           Hart  Anderson  Fitzgerald   \n",
       " 1               0.413                NaN            NaN       NaN         NaN   \n",
       " 2               0.000                NaN            NaN       NaN         NaN   \n",
       " 3               0.382                NaN            NaN       NaN         NaN   \n",
       " 4               0.480                NaN            NaN       NaN         NaN   \n",
       " ..                ...                ...            ...       ...         ...   \n",
       " 73              0.500                NaN            NaN       NaN         NaN   \n",
       " 74              0.455                NaN            NaN       NaN         NaN   \n",
       " 75              0.502                NaN            NaN       NaN         NaN   \n",
       " 76              0.424                NaN            NaN       NaN         NaN   \n",
       " 77              0.368                NaN            NaN       NaN         NaN   \n",
       " \n",
       "             Unnamed: 12_level_0 Playoffs               Unnamed: 16_level_0  \\\n",
       "    Coaching             Yr plyf   W plyf L plyf   W-L%                Chmp   \n",
       " 0    Arians                11.0      7.0   10.0  0.412                 2.0   \n",
       " 1       NaN                 0.0      0.0    0.0    NaN                 1.0   \n",
       " 2       NaN                 0.0      0.0    0.0    NaN                 0.0   \n",
       " 3       NaN                 2.0      1.0    1.0    NaN                 1.0   \n",
       " 4       NaN                 3.0      0.0    3.0    NaN                 0.0   \n",
       " ..      ...                 ...      ...    ...    ...                 ...   \n",
       " 73      NaN                 0.0      0.0    0.0    NaN                 0.0   \n",
       " 74      NaN                 1.0      0.0    1.0    NaN                 0.0   \n",
       " 75      NaN                23.0     23.0   18.0    NaN                 5.0   \n",
       " 76      NaN                 1.0      0.0    1.0    NaN                 NaN   \n",
       " 77      NaN                 NaN      NaN    NaN    NaN                 NaN   \n",
       " \n",
       "    Unnamed: 17_level_0 Unnamed: 18_level_0 Unnamed: 19_level_0  \n",
       "                   SBwl                Conf                 Div  \n",
       " 0                  0.0                 1.0                   8  \n",
       " 1                  0.0                 0.0                   1  \n",
       " 2                  0.0                 0.0                   0  \n",
       " 3                  0.0                 0.0                   2  \n",
       " 4                  0.0                 0.0                   2  \n",
       " ..                 ...                 ...                 ...  \n",
       " 73                 0.0                 0.0                   0  \n",
       " 74                 0.0                 0.0                   1  \n",
       " 75                 3.0                 5.0                  14  \n",
       " 76                 0.0                 NaN                   1  \n",
       " 77                 NaN                 NaN                   0  \n",
       " \n",
       " [78 rows x 20 columns]]"
      ]
     },
     "execution_count": 12,
     "metadata": {},
     "output_type": "execute_result"
    }
   ],
   "source": [
    "#Example :  data frame using an HTML link \n",
    "data=pd.read_html(\"https://www.pro-football-reference.com/teams/\")\n",
    "data"
   ]
  },
  {
   "cell_type": "code",
   "execution_count": 13,
   "id": "2c00cf50",
   "metadata": {},
   "outputs": [
    {
     "name": "stdout",
     "output_type": "stream",
     "text": [
      "NGO Name        object\n",
      "Phone Number     int64\n",
      "Head            object\n",
      "Estd.            int64\n",
      "Branch          object\n",
      "dtype: object\n",
      "(4, 5)\n",
      "_______________________________________________________\n",
      "              NGO Name  Phone Number          Head  Estd.  Branch\n",
      "0  Saboori foundation    7895654805  Sheetal Jain   2003    Agra\n",
      "1  Saboori foundation    7895654805  Sheetal Jain   2003  Bhopal\n",
      "_______________________________________________________\n",
      "              NGO Name  Phone Number          Head  Estd.      Branch\n",
      "2  Saboori foundation    7895654805  Sheetal Jain   2003  Maharastra\n",
      "3  Saboori foundation    7895654805  Sheetal Jain   2003    Junagarh\n",
      "_______________________________________________________\n",
      "              NGO Name  Phone Number          Head  Estd.      Branch\n",
      "2  Saboori foundation    7895654805  Sheetal Jain   2003  Maharastra\n",
      "1  Saboori foundation    7895654805  Sheetal Jain   2003      Bhopal\n",
      "3  Saboori foundation    7895654805  Sheetal Jain   2003    Junagarh\n"
     ]
    }
   ],
   "source": [
    "#Some important attribute of dara frame\n",
    "#dtype\n",
    "print(json_data.dtypes)\n",
    "#shape\n",
    "print(json_data.shape)\n",
    "#head(),tail(),sample(n)\n",
    "print(\"_______________________________________________________\\n\",json_data.head(2))\n",
    "print(\"_______________________________________________________\\n\",json_data.tail(2))\n",
    "print(\"_______________________________________________________\\n\",json_data.sample(3))\n"
   ]
  },
  {
   "cell_type": "markdown",
   "id": "e12d2437",
   "metadata": {},
   "source": [
    "# Converting into a numpy array"
   ]
  },
  {
   "cell_type": "code",
   "execution_count": 14,
   "id": "db5af373",
   "metadata": {},
   "outputs": [
    {
     "data": {
      "text/plain": [
       "array([['Saboori foundation', 7895654805, 'Sheetal Jain', 2003, 'Agra'],\n",
       "       ['Saboori foundation', 7895654805, 'Sheetal Jain', 2003, 'Bhopal'],\n",
       "       ['Saboori foundation', 7895654805, 'Sheetal Jain', 2003,\n",
       "        'Maharastra'],\n",
       "       ['Saboori foundation', 7895654805, 'Sheetal Jain', 2003,\n",
       "        'Junagarh']], dtype=object)"
      ]
     },
     "execution_count": 14,
     "metadata": {},
     "output_type": "execute_result"
    }
   ],
   "source": [
    "#Values attribute\n",
    "data_array=json_data.values\n",
    "data_array"
   ]
  },
  {
   "cell_type": "code",
   "execution_count": 15,
   "id": "0d1b5201",
   "metadata": {},
   "outputs": [
    {
     "data": {
      "text/plain": [
       "20"
      ]
     },
     "execution_count": 15,
     "metadata": {},
     "output_type": "execute_result"
    }
   ],
   "source": [
    "#size\n",
    "data_array.size"
   ]
  },
  {
   "cell_type": "code",
   "execution_count": 16,
   "id": "6f149ba8",
   "metadata": {},
   "outputs": [
    {
     "data": {
      "text/plain": [
       "2"
      ]
     },
     "execution_count": 16,
     "metadata": {},
     "output_type": "execute_result"
    }
   ],
   "source": [
    "#ndim\n",
    "data_array.ndim"
   ]
  },
  {
   "cell_type": "code",
   "execution_count": 17,
   "id": "50d8a10c",
   "metadata": {},
   "outputs": [
    {
     "data": {
      "text/html": [
       "<div>\n",
       "<style scoped>\n",
       "    .dataframe tbody tr th:only-of-type {\n",
       "        vertical-align: middle;\n",
       "    }\n",
       "\n",
       "    .dataframe tbody tr th {\n",
       "        vertical-align: top;\n",
       "    }\n",
       "\n",
       "    .dataframe thead th {\n",
       "        text-align: right;\n",
       "    }\n",
       "</style>\n",
       "<table border=\"1\" class=\"dataframe\">\n",
       "  <thead>\n",
       "    <tr style=\"text-align: right;\">\n",
       "      <th></th>\n",
       "      <th>0</th>\n",
       "      <th>1</th>\n",
       "      <th>2</th>\n",
       "      <th>3</th>\n",
       "    </tr>\n",
       "  </thead>\n",
       "  <tbody>\n",
       "    <tr>\n",
       "      <th>NGO Name</th>\n",
       "      <td>Saboori foundation</td>\n",
       "      <td>Saboori foundation</td>\n",
       "      <td>Saboori foundation</td>\n",
       "      <td>Saboori foundation</td>\n",
       "    </tr>\n",
       "    <tr>\n",
       "      <th>Phone Number</th>\n",
       "      <td>7895654805</td>\n",
       "      <td>7895654805</td>\n",
       "      <td>7895654805</td>\n",
       "      <td>7895654805</td>\n",
       "    </tr>\n",
       "    <tr>\n",
       "      <th>Head</th>\n",
       "      <td>Sheetal Jain</td>\n",
       "      <td>Sheetal Jain</td>\n",
       "      <td>Sheetal Jain</td>\n",
       "      <td>Sheetal Jain</td>\n",
       "    </tr>\n",
       "    <tr>\n",
       "      <th>Estd.</th>\n",
       "      <td>2003</td>\n",
       "      <td>2003</td>\n",
       "      <td>2003</td>\n",
       "      <td>2003</td>\n",
       "    </tr>\n",
       "    <tr>\n",
       "      <th>Branch</th>\n",
       "      <td>Agra</td>\n",
       "      <td>Bhopal</td>\n",
       "      <td>Maharastra</td>\n",
       "      <td>Junagarh</td>\n",
       "    </tr>\n",
       "  </tbody>\n",
       "</table>\n",
       "</div>"
      ],
      "text/plain": [
       "                               0                   1                   2  \\\n",
       "NGO Name      Saboori foundation  Saboori foundation  Saboori foundation   \n",
       "Phone Number          7895654805          7895654805          7895654805   \n",
       "Head                Sheetal Jain        Sheetal Jain        Sheetal Jain   \n",
       "Estd.                       2003                2003                2003   \n",
       "Branch                      Agra              Bhopal          Maharastra   \n",
       "\n",
       "                               3  \n",
       "NGO Name      Saboori foundation  \n",
       "Phone Number          7895654805  \n",
       "Head                Sheetal Jain  \n",
       "Estd.                       2003  \n",
       "Branch                  Junagarh  "
      ]
     },
     "execution_count": 17,
     "metadata": {},
     "output_type": "execute_result"
    }
   ],
   "source": [
    "#Transpose\n",
    "json_data.T"
   ]
  },
  {
   "cell_type": "code",
   "execution_count": 18,
   "id": "7f455ab5",
   "metadata": {},
   "outputs": [
    {
     "data": {
      "text/plain": [
       "False"
      ]
     },
     "execution_count": 18,
     "metadata": {},
     "output_type": "execute_result"
    }
   ],
   "source": [
    "#empty\n",
    "json_data.empty"
   ]
  },
  {
   "cell_type": "code",
   "execution_count": 19,
   "id": "264ae26f",
   "metadata": {},
   "outputs": [
    {
     "data": {
      "text/plain": [
       "True"
      ]
     },
     "execution_count": 19,
     "metadata": {},
     "output_type": "execute_result"
    }
   ],
   "source": [
    "#Example\n",
    "pd.DataFrame().empty"
   ]
  },
  {
   "cell_type": "markdown",
   "id": "ecc1472b",
   "metadata": {},
   "source": [
    "# apply()"
   ]
  },
  {
   "cell_type": "code",
   "execution_count": 20,
   "id": "de526cf6",
   "metadata": {},
   "outputs": [
    {
     "name": "stdout",
     "output_type": "stream",
     "text": [
      "   Col1  Col2  Col3  Col4  Col5\n",
      "0    36    37    42    29    33\n",
      "1    38    28    41    28    26\n",
      "2    30    34    36    44    27\n",
      "3    24    35    28    41    24\n",
      "4    34    35    36    35    36\n",
      "Col1    32.4\n",
      "Col2    33.8\n",
      "Col3    36.6\n",
      "Col4    35.4\n",
      "Col5    29.2\n",
      "dtype: float64\n",
      "Col1    34.0\n",
      "Col2    35.0\n",
      "Col3    36.0\n",
      "Col4    35.0\n",
      "Col5    27.0\n",
      "dtype: float64\n",
      "Col1    162\n",
      "Col2    169\n",
      "Col3    183\n",
      "Col4    177\n",
      "Col5    146\n",
      "dtype: int64\n"
     ]
    }
   ],
   "source": [
    "#Example 1\n",
    "import pandas as pd\n",
    "import numpy as np\n",
    "data6=pd.DataFrame(np.random.randint(23,45,25).reshape(5,5),columns=[\"Col1\",\"Col2\",\"Col3\",\"Col4\",\"Col5\"])\n",
    "print(data6)\n",
    "print(data6.apply(np.mean))\n",
    "print(data6.apply(np.median))\n",
    "print(data6.apply(np.sum))"
   ]
  },
  {
   "cell_type": "code",
   "execution_count": 21,
   "id": "ffd7e546",
   "metadata": {},
   "outputs": [
    {
     "name": "stdout",
     "output_type": "stream",
     "text": [
      "Col1    14\n",
      "Col2     9\n",
      "Col3    14\n",
      "Col4    16\n",
      "Col5    12\n",
      "dtype: int64\n"
     ]
    }
   ],
   "source": [
    "#Example 2: Applying a lamda function on a dataframe\n",
    "print(data6.apply(lambda x:(max(x)-min(x))))"
   ]
  },
  {
   "cell_type": "code",
   "execution_count": 22,
   "id": "62f63872",
   "metadata": {},
   "outputs": [
    {
     "name": "stdout",
     "output_type": "stream",
     "text": [
      "0     841\n",
      "1     784\n",
      "2    1936\n",
      "3    1681\n",
      "4    1225\n",
      "Name: Col4, dtype: int64\n"
     ]
    }
   ],
   "source": [
    "#Example3: Applying on  particular column\n",
    "print(data6[\"Col4\"].apply(lambda x:x**2))"
   ]
  },
  {
   "cell_type": "code",
   "execution_count": 23,
   "id": "0cc6ad05",
   "metadata": {},
   "outputs": [
    {
     "name": "stdout",
     "output_type": "stream",
     "text": [
      "0    129\n",
      "1    128\n",
      "2    144\n",
      "3    141\n",
      "4    135\n",
      "Name: Col4, dtype: int64\n"
     ]
    }
   ],
   "source": [
    "#Applying map function\n",
    "data7=data6[\"Col4\"].map(lambda x:x+100)\n",
    "print(data7)"
   ]
  },
  {
   "cell_type": "code",
   "execution_count": 24,
   "id": "840c17d9",
   "metadata": {},
   "outputs": [
    {
     "data": {
      "text/html": [
       "<div>\n",
       "<style scoped>\n",
       "    .dataframe tbody tr th:only-of-type {\n",
       "        vertical-align: middle;\n",
       "    }\n",
       "\n",
       "    .dataframe tbody tr th {\n",
       "        vertical-align: top;\n",
       "    }\n",
       "\n",
       "    .dataframe thead th {\n",
       "        text-align: right;\n",
       "    }\n",
       "</style>\n",
       "<table border=\"1\" class=\"dataframe\">\n",
       "  <thead>\n",
       "    <tr style=\"text-align: right;\">\n",
       "      <th></th>\n",
       "      <th>NGO Name</th>\n",
       "      <th>Phone Number</th>\n",
       "      <th>Caretaker</th>\n",
       "      <th>Estd.</th>\n",
       "      <th>Branch</th>\n",
       "    </tr>\n",
       "  </thead>\n",
       "  <tbody>\n",
       "    <tr>\n",
       "      <th>Entry 1</th>\n",
       "      <td>Saboori foundation</td>\n",
       "      <td>7895654805</td>\n",
       "      <td>Sheetal Jain</td>\n",
       "      <td>2003</td>\n",
       "      <td>Agra</td>\n",
       "    </tr>\n",
       "    <tr>\n",
       "      <th>1</th>\n",
       "      <td>Saboori foundation</td>\n",
       "      <td>7895654805</td>\n",
       "      <td>Sheetal Jain</td>\n",
       "      <td>2003</td>\n",
       "      <td>Bhopal</td>\n",
       "    </tr>\n",
       "    <tr>\n",
       "      <th>2</th>\n",
       "      <td>Saboori foundation</td>\n",
       "      <td>7895654805</td>\n",
       "      <td>Sheetal Jain</td>\n",
       "      <td>2003</td>\n",
       "      <td>Maharastra</td>\n",
       "    </tr>\n",
       "    <tr>\n",
       "      <th>3</th>\n",
       "      <td>Saboori foundation</td>\n",
       "      <td>7895654805</td>\n",
       "      <td>Sheetal Jain</td>\n",
       "      <td>2003</td>\n",
       "      <td>Junagarh</td>\n",
       "    </tr>\n",
       "  </tbody>\n",
       "</table>\n",
       "</div>"
      ],
      "text/plain": [
       "                   NGO Name  Phone Number     Caretaker  Estd.      Branch\n",
       "Entry 1  Saboori foundation    7895654805  Sheetal Jain   2003        Agra\n",
       "1        Saboori foundation    7895654805  Sheetal Jain   2003      Bhopal\n",
       "2        Saboori foundation    7895654805  Sheetal Jain   2003  Maharastra\n",
       "3        Saboori foundation    7895654805  Sheetal Jain   2003    Junagarh"
      ]
     },
     "execution_count": 24,
     "metadata": {},
     "output_type": "execute_result"
    }
   ],
   "source": [
    "#Renaming \n",
    "json_data.rename(columns={\"Head\":\"Caretaker\"},index={0:\"Entry 1\"})"
   ]
  },
  {
   "cell_type": "code",
   "execution_count": 35,
   "id": "ca079994",
   "metadata": {},
   "outputs": [
    {
     "name": "stdout",
     "output_type": "stream",
     "text": [
      "('NGO Name', 0    Saboori foundation\n",
      "1    Saboori foundation\n",
      "2    Saboori foundation\n",
      "3    Saboori foundation\n",
      "Name: NGO Name, dtype: object)\n",
      "('Phone Number', 0    7895654805\n",
      "1    7895654805\n",
      "2    7895654805\n",
      "3    7895654805\n",
      "Name: Phone Number, dtype: int64)\n",
      "('Head', 0    Sheetal Jain\n",
      "1    Sheetal Jain\n",
      "2    Sheetal Jain\n",
      "3    Sheetal Jain\n",
      "Name: Head, dtype: object)\n",
      "('Estd.', 0    2003\n",
      "1    2003\n",
      "2    2003\n",
      "3    2003\n",
      "Name: Estd., dtype: int64)\n",
      "('Branch', 0          Agra\n",
      "1        Bhopal\n",
      "2    Maharastra\n",
      "3      Junagarh\n",
      "Name: Branch, dtype: object)\n"
     ]
    }
   ],
   "source": [
    "#Fetching dataframeitems\n",
    "for row in json_data.items():\n",
    "    print(row)"
   ]
  },
  {
   "cell_type": "code",
   "execution_count": 36,
   "id": "c39a42f6",
   "metadata": {},
   "outputs": [
    {
     "name": "stdout",
     "output_type": "stream",
     "text": [
      "0 NGO Name        Saboori foundation\n",
      "Phone Number            7895654805\n",
      "Head                  Sheetal Jain\n",
      "Estd.                         2003\n",
      "Branch                        Agra\n",
      "Name: 0, dtype: object\n",
      "1 NGO Name        Saboori foundation\n",
      "Phone Number            7895654805\n",
      "Head                  Sheetal Jain\n",
      "Estd.                         2003\n",
      "Branch                      Bhopal\n",
      "Name: 1, dtype: object\n",
      "2 NGO Name        Saboori foundation\n",
      "Phone Number            7895654805\n",
      "Head                  Sheetal Jain\n",
      "Estd.                         2003\n",
      "Branch                  Maharastra\n",
      "Name: 2, dtype: object\n",
      "3 NGO Name        Saboori foundation\n",
      "Phone Number            7895654805\n",
      "Head                  Sheetal Jain\n",
      "Estd.                         2003\n",
      "Branch                    Junagarh\n",
      "Name: 3, dtype: object\n"
     ]
    }
   ],
   "source": [
    "#Example 2 for iterrows()\n",
    "for col,row in json_data.iterrows():\n",
    "    print(col,row)"
   ]
  },
  {
   "cell_type": "code",
   "execution_count": 37,
   "id": "ae9ede27",
   "metadata": {},
   "outputs": [
    {
     "name": "stdout",
     "output_type": "stream",
     "text": [
      "Pandas(Index=0, _1='Saboori foundation', _2=7895654805, Head='Sheetal Jain', _4=2003, Branch='Agra')\n",
      "Pandas(Index=1, _1='Saboori foundation', _2=7895654805, Head='Sheetal Jain', _4=2003, Branch='Bhopal')\n",
      "Pandas(Index=2, _1='Saboori foundation', _2=7895654805, Head='Sheetal Jain', _4=2003, Branch='Maharastra')\n",
      "Pandas(Index=3, _1='Saboori foundation', _2=7895654805, Head='Sheetal Jain', _4=2003, Branch='Junagarh')\n"
     ]
    }
   ],
   "source": [
    "#Example 3 for itertuple()\n",
    "for i in json_data.itertuples():\n",
    "    print(i)"
   ]
  },
  {
   "cell_type": "markdown",
   "id": "a2b5c2ee",
   "metadata": {},
   "source": [
    "# soritng "
   ]
  },
  {
   "cell_type": "code",
   "execution_count": 38,
   "id": "34b69019",
   "metadata": {},
   "outputs": [
    {
     "data": {
      "text/html": [
       "<div>\n",
       "<style scoped>\n",
       "    .dataframe tbody tr th:only-of-type {\n",
       "        vertical-align: middle;\n",
       "    }\n",
       "\n",
       "    .dataframe tbody tr th {\n",
       "        vertical-align: top;\n",
       "    }\n",
       "\n",
       "    .dataframe thead th {\n",
       "        text-align: right;\n",
       "    }\n",
       "</style>\n",
       "<table border=\"1\" class=\"dataframe\">\n",
       "  <thead>\n",
       "    <tr style=\"text-align: right;\">\n",
       "      <th></th>\n",
       "      <th>NGO Name</th>\n",
       "      <th>Phone Number</th>\n",
       "      <th>Head</th>\n",
       "      <th>Estd.</th>\n",
       "      <th>Branch</th>\n",
       "    </tr>\n",
       "  </thead>\n",
       "  <tbody>\n",
       "    <tr>\n",
       "      <th>0</th>\n",
       "      <td>Saboori foundation</td>\n",
       "      <td>7895654805</td>\n",
       "      <td>Sheetal Jain</td>\n",
       "      <td>2003</td>\n",
       "      <td>Agra</td>\n",
       "    </tr>\n",
       "    <tr>\n",
       "      <th>1</th>\n",
       "      <td>Saboori foundation</td>\n",
       "      <td>7895654805</td>\n",
       "      <td>Sheetal Jain</td>\n",
       "      <td>2003</td>\n",
       "      <td>Bhopal</td>\n",
       "    </tr>\n",
       "    <tr>\n",
       "      <th>3</th>\n",
       "      <td>Saboori foundation</td>\n",
       "      <td>7895654805</td>\n",
       "      <td>Sheetal Jain</td>\n",
       "      <td>2003</td>\n",
       "      <td>Junagarh</td>\n",
       "    </tr>\n",
       "    <tr>\n",
       "      <th>2</th>\n",
       "      <td>Saboori foundation</td>\n",
       "      <td>7895654805</td>\n",
       "      <td>Sheetal Jain</td>\n",
       "      <td>2003</td>\n",
       "      <td>Maharastra</td>\n",
       "    </tr>\n",
       "  </tbody>\n",
       "</table>\n",
       "</div>"
      ],
      "text/plain": [
       "             NGO Name  Phone Number          Head  Estd.      Branch\n",
       "0  Saboori foundation    7895654805  Sheetal Jain   2003        Agra\n",
       "1  Saboori foundation    7895654805  Sheetal Jain   2003      Bhopal\n",
       "3  Saboori foundation    7895654805  Sheetal Jain   2003    Junagarh\n",
       "2  Saboori foundation    7895654805  Sheetal Jain   2003  Maharastra"
      ]
     },
     "execution_count": 38,
     "metadata": {},
     "output_type": "execute_result"
    }
   ],
   "source": [
    "#Example :  sorting on the basis of column 5\n",
    "json_data.sort_values(by=\"Branch\")"
   ]
  },
  {
   "cell_type": "markdown",
   "id": "86273178",
   "metadata": {},
   "source": [
    "# Reindexing "
   ]
  },
  {
   "cell_type": "code",
   "execution_count": 39,
   "id": "61836960",
   "metadata": {},
   "outputs": [
    {
     "name": "stdout",
     "output_type": "stream",
     "text": [
      "     ids     Name   designations  salaries\n",
      "1   1001  Ardhana        Manager     50000\n",
      "2   1002    Mehul       Engineer     60000\n",
      "3   1003  Rishabh        Analyst     75000\n",
      "4   1004    Vijay       Director     90000\n",
      "5   1005    Alice    Coordinator     55000\n",
      "6   1006      Bob      Developer     80000\n",
      "7   1007  Charlie     Supervisor     65000\n",
      "8   1008    David     Specialist     70000\n",
      "9   1009     Emma     Consultant     85000\n",
      "10  1010    Frank  Administrator     95000\n"
     ]
    }
   ],
   "source": [
    "import pandas as pd\n",
    "data={ \"ids\" : [1001, 1002, 1003, 1004, 1005, 1006, 1007, 1008, 1009, 1010],\n",
    "         \"Name\": [\"Ardhana\",\"Mehul\",\"Rishabh\",\"Vijay\",\"Alice\", \"Bob\", \"Charlie\", \"David\", \"Emma\", \"Frank\"],\n",
    "         \"designations\" : [\"Manager\", \"Engineer\", \"Analyst\", \"Director\", \"Coordinator\", \"Developer\", \"Supervisor\", \"Specialist\", \"Consultant\", \"Administrator\"],\n",
    "         \"salaries\" : [50000, 60000, 75000, 90000, 55000, 80000, 65000, 70000, 85000, 95000]\n",
    "        }\n",
    "dataset=pd.DataFrame(data,index=[1,2,3,4,5,6,7,8,9,10])\n",
    "print(dataset)\n",
    "dataset.set_index('ids',inplace=True)"
   ]
  },
  {
   "cell_type": "code",
   "execution_count": 40,
   "id": "e17b7cd3",
   "metadata": {
    "scrolled": true
   },
   "outputs": [
    {
     "data": {
      "text/html": [
       "<div>\n",
       "<style scoped>\n",
       "    .dataframe tbody tr th:only-of-type {\n",
       "        vertical-align: middle;\n",
       "    }\n",
       "\n",
       "    .dataframe tbody tr th {\n",
       "        vertical-align: top;\n",
       "    }\n",
       "\n",
       "    .dataframe thead th {\n",
       "        text-align: right;\n",
       "    }\n",
       "</style>\n",
       "<table border=\"1\" class=\"dataframe\">\n",
       "  <thead>\n",
       "    <tr style=\"text-align: right;\">\n",
       "      <th></th>\n",
       "      <th>Name</th>\n",
       "      <th>designations</th>\n",
       "      <th>salaries</th>\n",
       "    </tr>\n",
       "    <tr>\n",
       "      <th>ids</th>\n",
       "      <th></th>\n",
       "      <th></th>\n",
       "      <th></th>\n",
       "    </tr>\n",
       "  </thead>\n",
       "  <tbody>\n",
       "    <tr>\n",
       "      <th>1001</th>\n",
       "      <td>Ardhana</td>\n",
       "      <td>Manager</td>\n",
       "      <td>50000</td>\n",
       "    </tr>\n",
       "    <tr>\n",
       "      <th>1002</th>\n",
       "      <td>Mehul</td>\n",
       "      <td>Engineer</td>\n",
       "      <td>60000</td>\n",
       "    </tr>\n",
       "    <tr>\n",
       "      <th>1003</th>\n",
       "      <td>Rishabh</td>\n",
       "      <td>Analyst</td>\n",
       "      <td>75000</td>\n",
       "    </tr>\n",
       "    <tr>\n",
       "      <th>1004</th>\n",
       "      <td>Vijay</td>\n",
       "      <td>Director</td>\n",
       "      <td>90000</td>\n",
       "    </tr>\n",
       "    <tr>\n",
       "      <th>1005</th>\n",
       "      <td>Alice</td>\n",
       "      <td>Coordinator</td>\n",
       "      <td>55000</td>\n",
       "    </tr>\n",
       "    <tr>\n",
       "      <th>1006</th>\n",
       "      <td>Bob</td>\n",
       "      <td>Developer</td>\n",
       "      <td>80000</td>\n",
       "    </tr>\n",
       "    <tr>\n",
       "      <th>1007</th>\n",
       "      <td>Charlie</td>\n",
       "      <td>Supervisor</td>\n",
       "      <td>65000</td>\n",
       "    </tr>\n",
       "    <tr>\n",
       "      <th>1008</th>\n",
       "      <td>David</td>\n",
       "      <td>Specialist</td>\n",
       "      <td>70000</td>\n",
       "    </tr>\n",
       "    <tr>\n",
       "      <th>1009</th>\n",
       "      <td>Emma</td>\n",
       "      <td>Consultant</td>\n",
       "      <td>85000</td>\n",
       "    </tr>\n",
       "    <tr>\n",
       "      <th>1010</th>\n",
       "      <td>Frank</td>\n",
       "      <td>Administrator</td>\n",
       "      <td>95000</td>\n",
       "    </tr>\n",
       "  </tbody>\n",
       "</table>\n",
       "</div>"
      ],
      "text/plain": [
       "         Name   designations  salaries\n",
       "ids                                   \n",
       "1001  Ardhana        Manager     50000\n",
       "1002    Mehul       Engineer     60000\n",
       "1003  Rishabh        Analyst     75000\n",
       "1004    Vijay       Director     90000\n",
       "1005    Alice    Coordinator     55000\n",
       "1006      Bob      Developer     80000\n",
       "1007  Charlie     Supervisor     65000\n",
       "1008    David     Specialist     70000\n",
       "1009     Emma     Consultant     85000\n",
       "1010    Frank  Administrator     95000"
      ]
     },
     "execution_count": 40,
     "metadata": {},
     "output_type": "execute_result"
    }
   ],
   "source": [
    "dataset"
   ]
  },
  {
   "cell_type": "code",
   "execution_count": 41,
   "id": "1db411f2",
   "metadata": {},
   "outputs": [
    {
     "name": "stdout",
     "output_type": "stream",
     "text": [
      "         Name   designations  salaries\n",
      "ids                                   \n",
      "1002    Mehul       Engineer     60000\n",
      "1003  Rishabh        Analyst     75000\n",
      "1004    Vijay       Director     90000\n",
      "1006      Bob      Developer     80000\n",
      "1007  Charlie     Supervisor     65000\n",
      "1008    David     Specialist     70000\n",
      "1009     Emma     Consultant     85000\n",
      "1010    Frank  Administrator     95000\n"
     ]
    }
   ],
   "source": [
    "# Assuming 'dataset' is your DataFrame\n",
    "\n",
    "# Convert 'salaries' column to numeric type\n",
    "dataset['salaries'] = pd.to_numeric(dataset['salaries'], errors='coerce')\n",
    "\n",
    "# Slicing based on 'salaries' values\n",
    "column = dataset[dataset['salaries'] > 55000]\n",
    "print(column)\n"
   ]
  },
  {
   "cell_type": "code",
   "execution_count": 42,
   "id": "5bef87ef",
   "metadata": {},
   "outputs": [
    {
     "name": "stdout",
     "output_type": "stream",
     "text": [
      "ids\n",
      "1008    70000\n",
      "1009    85000\n",
      "1010    95000\n",
      "Name: salaries, dtype: int64\n"
     ]
    }
   ],
   "source": [
    "dataset1=dataset[dataset.index>1005]['salaries']\n",
    "print(dataset1[2:5])"
   ]
  },
  {
   "cell_type": "code",
   "execution_count": 43,
   "id": "1ad132fc",
   "metadata": {},
   "outputs": [],
   "source": [
    "dataset['Name'].replace({'Mehul':'Mehar'}, inplace=True)"
   ]
  },
  {
   "cell_type": "code",
   "execution_count": 44,
   "id": "7d457930",
   "metadata": {},
   "outputs": [
    {
     "data": {
      "text/html": [
       "<div>\n",
       "<style scoped>\n",
       "    .dataframe tbody tr th:only-of-type {\n",
       "        vertical-align: middle;\n",
       "    }\n",
       "\n",
       "    .dataframe tbody tr th {\n",
       "        vertical-align: top;\n",
       "    }\n",
       "\n",
       "    .dataframe thead th {\n",
       "        text-align: right;\n",
       "    }\n",
       "</style>\n",
       "<table border=\"1\" class=\"dataframe\">\n",
       "  <thead>\n",
       "    <tr style=\"text-align: right;\">\n",
       "      <th></th>\n",
       "      <th>Name</th>\n",
       "      <th>designations</th>\n",
       "      <th>salaries</th>\n",
       "    </tr>\n",
       "    <tr>\n",
       "      <th>ids</th>\n",
       "      <th></th>\n",
       "      <th></th>\n",
       "      <th></th>\n",
       "    </tr>\n",
       "  </thead>\n",
       "  <tbody>\n",
       "    <tr>\n",
       "      <th>1001</th>\n",
       "      <td>Ardhana</td>\n",
       "      <td>Manager</td>\n",
       "      <td>50000</td>\n",
       "    </tr>\n",
       "    <tr>\n",
       "      <th>1002</th>\n",
       "      <td>Mehar</td>\n",
       "      <td>Engineer</td>\n",
       "      <td>60000</td>\n",
       "    </tr>\n",
       "    <tr>\n",
       "      <th>1003</th>\n",
       "      <td>Rishabh</td>\n",
       "      <td>Analyst</td>\n",
       "      <td>75000</td>\n",
       "    </tr>\n",
       "    <tr>\n",
       "      <th>1004</th>\n",
       "      <td>Vijay</td>\n",
       "      <td>Director</td>\n",
       "      <td>90000</td>\n",
       "    </tr>\n",
       "    <tr>\n",
       "      <th>1005</th>\n",
       "      <td>Alice</td>\n",
       "      <td>Coordinator</td>\n",
       "      <td>55000</td>\n",
       "    </tr>\n",
       "    <tr>\n",
       "      <th>1006</th>\n",
       "      <td>Bob</td>\n",
       "      <td>Developer</td>\n",
       "      <td>80000</td>\n",
       "    </tr>\n",
       "    <tr>\n",
       "      <th>1007</th>\n",
       "      <td>Charlie</td>\n",
       "      <td>Supervisor</td>\n",
       "      <td>65000</td>\n",
       "    </tr>\n",
       "    <tr>\n",
       "      <th>1008</th>\n",
       "      <td>David</td>\n",
       "      <td>Specialist</td>\n",
       "      <td>70000</td>\n",
       "    </tr>\n",
       "    <tr>\n",
       "      <th>1009</th>\n",
       "      <td>Emma</td>\n",
       "      <td>Consultant</td>\n",
       "      <td>85000</td>\n",
       "    </tr>\n",
       "    <tr>\n",
       "      <th>1010</th>\n",
       "      <td>Frank</td>\n",
       "      <td>Administrator</td>\n",
       "      <td>95000</td>\n",
       "    </tr>\n",
       "  </tbody>\n",
       "</table>\n",
       "</div>"
      ],
      "text/plain": [
       "         Name   designations  salaries\n",
       "ids                                   \n",
       "1001  Ardhana        Manager     50000\n",
       "1002    Mehar       Engineer     60000\n",
       "1003  Rishabh        Analyst     75000\n",
       "1004    Vijay       Director     90000\n",
       "1005    Alice    Coordinator     55000\n",
       "1006      Bob      Developer     80000\n",
       "1007  Charlie     Supervisor     65000\n",
       "1008    David     Specialist     70000\n",
       "1009     Emma     Consultant     85000\n",
       "1010    Frank  Administrator     95000"
      ]
     },
     "execution_count": 44,
     "metadata": {},
     "output_type": "execute_result"
    }
   ],
   "source": [
    "dataset"
   ]
  },
  {
   "cell_type": "markdown",
   "id": "aa6b396d",
   "metadata": {},
   "source": [
    "# Practicing Panda For Data Analysis"
   ]
  },
  {
   "cell_type": "markdown",
   "id": "cc34bfa6",
   "metadata": {},
   "source": [
    "## Reading a CSV file using Pandas\n",
    "Let's download a file `italy-covid-daywise.txt` which contains day-wise Covid-19 data for Italy in the following format:\n",
    "\n",
    "```\n",
    "date,new_cases,new_deaths,new_tests\n",
    "2020-04-21,2256.0,454.0,28095.0\n",
    "2020-04-22,2729.0,534.0,44248.0\n",
    "2020-04-23,3370.0,437.0,37083.0\n",
    "2020-04-24,2646.0,464.0,95273.0\n",
    "2020-04-25,3021.0,420.0,38676.0\n",
    "2020-04-26,2357.0,415.0,24113.0\n",
    "2020-04-27,2324.0,260.0,26678.0\n",
    "2020-04-28,1739.0,333.0,37554.0\n",
    "...\n",
    "```\n",
    "\n",
    "This format of storing data is known as *comma-separated values* or CSV. \n",
    "\n",
    "> **CSVs**: A comma-separated values (CSV) file is a delimited text file that uses a comma to separate values. Each line of the file is a data record. Each record consists of one or more fields, separated by commas. A CSV file typically stores tabular data (numbers and text) in plain text, in which case each line will have the same number of fields. (Wikipedia)\n",
    "\n",
    "\n",
    "We'll download this file using the `urlretrieve` function from the `urllib.request` module."
   ]
  },
  {
   "cell_type": "code",
   "execution_count": 52,
   "id": "9d469670",
   "metadata": {},
   "outputs": [
    {
     "data": {
      "text/plain": [
       "('italy-covid-daywise.csv', <http.client.HTTPMessage at 0x17cfb3e6110>)"
      ]
     },
     "execution_count": 52,
     "metadata": {},
     "output_type": "execute_result"
    }
   ],
   "source": [
    "from urllib.request import urlretrieve\n",
    "italy_covid_url = 'https://gist.githubusercontent.com/aakashns/f6a004fa20c84fec53262f9a8bfee775/raw/f309558b1cf5103424cef58e2ecb8704dcd4d74c/italy-covid-daywise.csv'\n",
    "urlretrieve(italy_covid_url, 'italy-covid-daywise.csv')"
   ]
  },
  {
   "cell_type": "markdown",
   "id": "dc932104",
   "metadata": {},
   "source": [
    "## Importing and starting working with pandas"
   ]
  },
  {
   "cell_type": "code",
   "execution_count": 53,
   "id": "2639d908",
   "metadata": {},
   "outputs": [
    {
     "data": {
      "text/html": [
       "<div>\n",
       "<style scoped>\n",
       "    .dataframe tbody tr th:only-of-type {\n",
       "        vertical-align: middle;\n",
       "    }\n",
       "\n",
       "    .dataframe tbody tr th {\n",
       "        vertical-align: top;\n",
       "    }\n",
       "\n",
       "    .dataframe thead th {\n",
       "        text-align: right;\n",
       "    }\n",
       "</style>\n",
       "<table border=\"1\" class=\"dataframe\">\n",
       "  <thead>\n",
       "    <tr style=\"text-align: right;\">\n",
       "      <th></th>\n",
       "      <th>date</th>\n",
       "      <th>new_cases</th>\n",
       "      <th>new_deaths</th>\n",
       "      <th>new_tests</th>\n",
       "    </tr>\n",
       "  </thead>\n",
       "  <tbody>\n",
       "    <tr>\n",
       "      <th>0</th>\n",
       "      <td>2019-12-31</td>\n",
       "      <td>0.0</td>\n",
       "      <td>0.0</td>\n",
       "      <td>NaN</td>\n",
       "    </tr>\n",
       "    <tr>\n",
       "      <th>1</th>\n",
       "      <td>2020-01-01</td>\n",
       "      <td>0.0</td>\n",
       "      <td>0.0</td>\n",
       "      <td>NaN</td>\n",
       "    </tr>\n",
       "    <tr>\n",
       "      <th>2</th>\n",
       "      <td>2020-01-02</td>\n",
       "      <td>0.0</td>\n",
       "      <td>0.0</td>\n",
       "      <td>NaN</td>\n",
       "    </tr>\n",
       "    <tr>\n",
       "      <th>3</th>\n",
       "      <td>2020-01-03</td>\n",
       "      <td>0.0</td>\n",
       "      <td>0.0</td>\n",
       "      <td>NaN</td>\n",
       "    </tr>\n",
       "    <tr>\n",
       "      <th>4</th>\n",
       "      <td>2020-01-04</td>\n",
       "      <td>0.0</td>\n",
       "      <td>0.0</td>\n",
       "      <td>NaN</td>\n",
       "    </tr>\n",
       "    <tr>\n",
       "      <th>...</th>\n",
       "      <td>...</td>\n",
       "      <td>...</td>\n",
       "      <td>...</td>\n",
       "      <td>...</td>\n",
       "    </tr>\n",
       "    <tr>\n",
       "      <th>243</th>\n",
       "      <td>2020-08-30</td>\n",
       "      <td>1444.0</td>\n",
       "      <td>1.0</td>\n",
       "      <td>53541.0</td>\n",
       "    </tr>\n",
       "    <tr>\n",
       "      <th>244</th>\n",
       "      <td>2020-08-31</td>\n",
       "      <td>1365.0</td>\n",
       "      <td>4.0</td>\n",
       "      <td>42583.0</td>\n",
       "    </tr>\n",
       "    <tr>\n",
       "      <th>245</th>\n",
       "      <td>2020-09-01</td>\n",
       "      <td>996.0</td>\n",
       "      <td>6.0</td>\n",
       "      <td>54395.0</td>\n",
       "    </tr>\n",
       "    <tr>\n",
       "      <th>246</th>\n",
       "      <td>2020-09-02</td>\n",
       "      <td>975.0</td>\n",
       "      <td>8.0</td>\n",
       "      <td>NaN</td>\n",
       "    </tr>\n",
       "    <tr>\n",
       "      <th>247</th>\n",
       "      <td>2020-09-03</td>\n",
       "      <td>1326.0</td>\n",
       "      <td>6.0</td>\n",
       "      <td>NaN</td>\n",
       "    </tr>\n",
       "  </tbody>\n",
       "</table>\n",
       "<p>248 rows × 4 columns</p>\n",
       "</div>"
      ],
      "text/plain": [
       "           date  new_cases  new_deaths  new_tests\n",
       "0    2019-12-31        0.0         0.0        NaN\n",
       "1    2020-01-01        0.0         0.0        NaN\n",
       "2    2020-01-02        0.0         0.0        NaN\n",
       "3    2020-01-03        0.0         0.0        NaN\n",
       "4    2020-01-04        0.0         0.0        NaN\n",
       "..          ...        ...         ...        ...\n",
       "243  2020-08-30     1444.0         1.0    53541.0\n",
       "244  2020-08-31     1365.0         4.0    42583.0\n",
       "245  2020-09-01      996.0         6.0    54395.0\n",
       "246  2020-09-02      975.0         8.0        NaN\n",
       "247  2020-09-03     1326.0         6.0        NaN\n",
       "\n",
       "[248 rows x 4 columns]"
      ]
     },
     "execution_count": 53,
     "metadata": {},
     "output_type": "execute_result"
    }
   ],
   "source": [
    "import pandas as pd\n",
    "covid_data_frame = pd.read_csv('italy-covid-daywise.csv')\n",
    "covid_data_frame"
   ]
  },
  {
   "cell_type": "markdown",
   "id": "41123e93",
   "metadata": {},
   "source": [
    "# info() fucntion for knowing what the data frame contains"
   ]
  },
  {
   "cell_type": "code",
   "execution_count": 51,
   "id": "cdb512fd",
   "metadata": {},
   "outputs": [
    {
     "name": "stdout",
     "output_type": "stream",
     "text": [
      "<class 'pandas.core.frame.DataFrame'>\n",
      "RangeIndex: 248 entries, 0 to 247\n",
      "Data columns (total 4 columns):\n",
      " #   Column      Non-Null Count  Dtype  \n",
      "---  ------      --------------  -----  \n",
      " 0   date        248 non-null    object \n",
      " 1   new_cases   248 non-null    float64\n",
      " 2   new_deaths  248 non-null    float64\n",
      " 3   new_tests   135 non-null    float64\n",
      "dtypes: float64(3), object(1)\n",
      "memory usage: 7.9+ KB\n"
     ]
    }
   ],
   "source": [
    "covid_data_frame.info()"
   ]
  },
  {
   "cell_type": "code",
   "execution_count": null,
   "id": "1d5028dd",
   "metadata": {},
   "outputs": [],
   "source": []
  }
 ],
 "metadata": {
  "kernelspec": {
   "display_name": "Python 3 (ipykernel)",
   "language": "python",
   "name": "python3"
  },
  "language_info": {
   "codemirror_mode": {
    "name": "ipython",
    "version": 3
   },
   "file_extension": ".py",
   "mimetype": "text/x-python",
   "name": "python",
   "nbconvert_exporter": "python",
   "pygments_lexer": "ipython3",
   "version": "3.11.4"
  }
 },
 "nbformat": 4,
 "nbformat_minor": 5
}
