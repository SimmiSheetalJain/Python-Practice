{
 "cells": [
  {
   "cell_type": "markdown",
   "id": "89cebcc7",
   "metadata": {},
   "source": [
    "### Pandas is a popular Python library that provides high-performance, easy-to-use data structures, and data analysis tools. One of the key data structures provided by pandas is the DataFrame.Panda libraray helps in :\n",
    "1. Loading our data from another file(csv, excel, sql, json, xml, html)\n",
    "2. Data Cleaning \n",
    "3. Data Selection \n",
    "4. Data Filtering \n",
    "5. Data Aggregation\n",
    "6. Data transformation \n",
    "7. Data visualization \n",
    "8. Descriptive Analysis"
   ]
  },
  {
   "cell_type": "markdown",
   "id": "76448c25",
   "metadata": {},
   "source": [
    "#### Dask and spark data frame are a better alternative of panda. "
   ]
  },
  {
   "cell_type": "markdown",
   "id": "bdea4f9f",
   "metadata": {},
   "source": [
    "# Panda Data Structure "
   ]
  },
  {
   "cell_type": "code",
   "execution_count": 6,
   "id": "80c4593d",
   "metadata": {},
   "outputs": [
    {
     "name": "stdout",
     "output_type": "stream",
     "text": [
      "Empty DataFrame\n",
      "Columns: []\n",
      "Index: []\n"
     ]
    }
   ],
   "source": [
    "#Imporing pandas and creating a dataframe\n",
    "import pandas as pd\n",
    "data_frame=pd.DataFrame()\n",
    "print(data_frame)"
   ]
  },
  {
   "cell_type": "code",
   "execution_count": 14,
   "id": "1f510255",
   "metadata": {},
   "outputs": [
    {
     "name": "stdout",
     "output_type": "stream",
     "text": [
      "      Name  Age\n",
      "0  Sheetal   23\n",
      "1    Simmi   21\n",
      "2   Sanjay   23\n",
      "3    Sunny   22\n",
      "4    Rishi   22\n",
      "5     Anuj   24\n",
      "6  Shivani   21\n"
     ]
    }
   ],
   "source": [
    "#Example 1\n",
    "my_data=[[\"Sheetal\",23],[\"Simmi\",21],[\"Sanjay\",23],[\"Sunny\",22],[\"Rishi\",22],[\"Anuj\",24],[\"Shivani\",21]]\n",
    "data_frame=pd.DataFrame(my_data,columns=[\"Name\",\"Age\"])\n",
    "print(data_frame)"
   ]
  },
  {
   "cell_type": "code",
   "execution_count": 18,
   "id": "73695388",
   "metadata": {},
   "outputs": [
    {
     "name": "stdout",
     "output_type": "stream",
     "text": [
      "      Name  Age\n",
      "0  Ardhana   23\n",
      "1    Mehul   22\n",
      "2  Rishabh   21\n",
      "3    Vijay   24\n"
     ]
    }
   ],
   "source": [
    "#Example 2\n",
    "data2={\"Name\":[\"Ardhana\",\"Mehul\",\"Rishabh\",\"Vijay\"],\"Age\":[23,22,21,24]}\n",
    "data_frame2=pd.DataFrame(data2)\n",
    "print(data_frame2)"
   ]
  },
  {
   "cell_type": "code",
   "execution_count": 21,
   "id": "b59d1f09",
   "metadata": {},
   "outputs": [
    {
     "name": "stdout",
     "output_type": "stream",
     "text": [
      "   col1  col2  col3\n",
      "0    26    34   NaN\n",
      "1    26    34  35.0\n"
     ]
    }
   ],
   "source": [
    "#Example 3\n",
    "data4=[{\"col1\":26,\"col2\":34},{\"col1\":26,\"col2\":34,\"col3\":35}]\n",
    "data_frame4=pd.DataFrame(data4)\n",
    "print(data_frame4)"
   ]
  },
  {
   "cell_type": "markdown",
   "id": "bbc02c2b",
   "metadata": {},
   "source": [
    "__note__: NaN is a Null Value"
   ]
  },
  {
   "cell_type": "code",
   "execution_count": 22,
   "id": "cffed7af",
   "metadata": {},
   "outputs": [
    {
     "data": {
      "text/plain": [
       "dtype('int64')"
      ]
     },
     "execution_count": 22,
     "metadata": {},
     "output_type": "execute_result"
    }
   ],
   "source": [
    "#Checking data type of a column\n",
    "data_frame4[\"col1\"].dtype"
   ]
  },
  {
   "cell_type": "code",
   "execution_count": 53,
   "id": "7a1828a3",
   "metadata": {},
   "outputs": [
    {
     "name": "stdout",
     "output_type": "stream",
     "text": [
      "          Name  Age\n",
      "(i)      Alice   23\n",
      "(ii)       Bob   19\n",
      "(iii)  Charlie   32\n",
      "(iv)     David   24\n",
      "(v)       Emma   26\n",
      "(vi)     Frank   25\n"
     ]
    }
   ],
   "source": [
    "#Renaming index\n",
    "data5={\"Name\":[\"Alice\", \"Bob\", \"Charlie\", \"David\", \"Emma\", \"Frank\"],\"Age\":[23,19,32,24,26,25]}\n",
    "df=pd.DataFrame(data5, index=[\"(i)\",\"(ii)\",\"(iii)\",\"(iv)\",\"(v)\",\"(vi)\"])\n",
    "print(df)"
   ]
  },
  {
   "cell_type": "code",
   "execution_count": 29,
   "id": "8b539283",
   "metadata": {},
   "outputs": [
    {
     "data": {
      "text/html": [
       "<div>\n",
       "<style scoped>\n",
       "    .dataframe tbody tr th:only-of-type {\n",
       "        vertical-align: middle;\n",
       "    }\n",
       "\n",
       "    .dataframe tbody tr th {\n",
       "        vertical-align: top;\n",
       "    }\n",
       "\n",
       "    .dataframe thead th {\n",
       "        text-align: right;\n",
       "    }\n",
       "</style>\n",
       "<table border=\"1\" class=\"dataframe\">\n",
       "  <thead>\n",
       "    <tr style=\"text-align: right;\">\n",
       "      <th></th>\n",
       "      <th>id</th>\n",
       "      <th>name</th>\n",
       "      <th>class</th>\n",
       "      <th>mark</th>\n",
       "      <th>gender</th>\n",
       "    </tr>\n",
       "  </thead>\n",
       "  <tbody>\n",
       "    <tr>\n",
       "      <th>0</th>\n",
       "      <td>1</td>\n",
       "      <td>John Deo</td>\n",
       "      <td>Four</td>\n",
       "      <td>75</td>\n",
       "      <td>female</td>\n",
       "    </tr>\n",
       "    <tr>\n",
       "      <th>1</th>\n",
       "      <td>2</td>\n",
       "      <td>Max Ruin</td>\n",
       "      <td>Three</td>\n",
       "      <td>85</td>\n",
       "      <td>male</td>\n",
       "    </tr>\n",
       "    <tr>\n",
       "      <th>2</th>\n",
       "      <td>3</td>\n",
       "      <td>Arnold</td>\n",
       "      <td>Three</td>\n",
       "      <td>55</td>\n",
       "      <td>male</td>\n",
       "    </tr>\n",
       "    <tr>\n",
       "      <th>3</th>\n",
       "      <td>4</td>\n",
       "      <td>Krish Star</td>\n",
       "      <td>Four</td>\n",
       "      <td>60</td>\n",
       "      <td>female</td>\n",
       "    </tr>\n",
       "    <tr>\n",
       "      <th>4</th>\n",
       "      <td>5</td>\n",
       "      <td>John Mike</td>\n",
       "      <td>Four</td>\n",
       "      <td>60</td>\n",
       "      <td>female</td>\n",
       "    </tr>\n",
       "    <tr>\n",
       "      <th>5</th>\n",
       "      <td>6</td>\n",
       "      <td>Alex John</td>\n",
       "      <td>Four</td>\n",
       "      <td>55</td>\n",
       "      <td>male</td>\n",
       "    </tr>\n",
       "    <tr>\n",
       "      <th>6</th>\n",
       "      <td>7</td>\n",
       "      <td>My John Rob</td>\n",
       "      <td>Fifth</td>\n",
       "      <td>78</td>\n",
       "      <td>male</td>\n",
       "    </tr>\n",
       "    <tr>\n",
       "      <th>7</th>\n",
       "      <td>8</td>\n",
       "      <td>Asruid</td>\n",
       "      <td>Five</td>\n",
       "      <td>85</td>\n",
       "      <td>male</td>\n",
       "    </tr>\n",
       "    <tr>\n",
       "      <th>8</th>\n",
       "      <td>9</td>\n",
       "      <td>Tes Qry</td>\n",
       "      <td>Six</td>\n",
       "      <td>78</td>\n",
       "      <td>male</td>\n",
       "    </tr>\n",
       "    <tr>\n",
       "      <th>9</th>\n",
       "      <td>10</td>\n",
       "      <td>Big John</td>\n",
       "      <td>Four</td>\n",
       "      <td>55</td>\n",
       "      <td>female</td>\n",
       "    </tr>\n",
       "    <tr>\n",
       "      <th>10</th>\n",
       "      <td>11</td>\n",
       "      <td>Ronald</td>\n",
       "      <td>Six</td>\n",
       "      <td>89</td>\n",
       "      <td>female</td>\n",
       "    </tr>\n",
       "    <tr>\n",
       "      <th>11</th>\n",
       "      <td>12</td>\n",
       "      <td>Recky</td>\n",
       "      <td>Six</td>\n",
       "      <td>94</td>\n",
       "      <td>female</td>\n",
       "    </tr>\n",
       "    <tr>\n",
       "      <th>12</th>\n",
       "      <td>13</td>\n",
       "      <td>Kty</td>\n",
       "      <td>Seven</td>\n",
       "      <td>88</td>\n",
       "      <td>female</td>\n",
       "    </tr>\n",
       "    <tr>\n",
       "      <th>13</th>\n",
       "      <td>14</td>\n",
       "      <td>Bigy</td>\n",
       "      <td>Seven</td>\n",
       "      <td>88</td>\n",
       "      <td>female</td>\n",
       "    </tr>\n",
       "    <tr>\n",
       "      <th>14</th>\n",
       "      <td>15</td>\n",
       "      <td>Tade Row</td>\n",
       "      <td>Four</td>\n",
       "      <td>88</td>\n",
       "      <td>male</td>\n",
       "    </tr>\n",
       "    <tr>\n",
       "      <th>15</th>\n",
       "      <td>16</td>\n",
       "      <td>Gimmy</td>\n",
       "      <td>Four</td>\n",
       "      <td>88</td>\n",
       "      <td>male</td>\n",
       "    </tr>\n",
       "    <tr>\n",
       "      <th>16</th>\n",
       "      <td>17</td>\n",
       "      <td>Tumyu</td>\n",
       "      <td>Six</td>\n",
       "      <td>54</td>\n",
       "      <td>male</td>\n",
       "    </tr>\n",
       "    <tr>\n",
       "      <th>17</th>\n",
       "      <td>18</td>\n",
       "      <td>Honny</td>\n",
       "      <td>Five</td>\n",
       "      <td>75</td>\n",
       "      <td>male</td>\n",
       "    </tr>\n",
       "    <tr>\n",
       "      <th>18</th>\n",
       "      <td>19</td>\n",
       "      <td>Tinny</td>\n",
       "      <td>Nine</td>\n",
       "      <td>18</td>\n",
       "      <td>male</td>\n",
       "    </tr>\n",
       "    <tr>\n",
       "      <th>19</th>\n",
       "      <td>20</td>\n",
       "      <td>Jackly</td>\n",
       "      <td>Nine</td>\n",
       "      <td>65</td>\n",
       "      <td>female</td>\n",
       "    </tr>\n",
       "    <tr>\n",
       "      <th>20</th>\n",
       "      <td>21</td>\n",
       "      <td>Babby John</td>\n",
       "      <td>Four</td>\n",
       "      <td>69</td>\n",
       "      <td>female</td>\n",
       "    </tr>\n",
       "    <tr>\n",
       "      <th>21</th>\n",
       "      <td>22</td>\n",
       "      <td>Reggid</td>\n",
       "      <td>Seven</td>\n",
       "      <td>55</td>\n",
       "      <td>female</td>\n",
       "    </tr>\n",
       "    <tr>\n",
       "      <th>22</th>\n",
       "      <td>23</td>\n",
       "      <td>Herod</td>\n",
       "      <td>Eight</td>\n",
       "      <td>79</td>\n",
       "      <td>male</td>\n",
       "    </tr>\n",
       "    <tr>\n",
       "      <th>23</th>\n",
       "      <td>24</td>\n",
       "      <td>Tiddy Now</td>\n",
       "      <td>Seven</td>\n",
       "      <td>78</td>\n",
       "      <td>male</td>\n",
       "    </tr>\n",
       "    <tr>\n",
       "      <th>24</th>\n",
       "      <td>25</td>\n",
       "      <td>Giff Tow</td>\n",
       "      <td>Seven</td>\n",
       "      <td>88</td>\n",
       "      <td>male</td>\n",
       "    </tr>\n",
       "    <tr>\n",
       "      <th>25</th>\n",
       "      <td>26</td>\n",
       "      <td>Crelea</td>\n",
       "      <td>Seven</td>\n",
       "      <td>79</td>\n",
       "      <td>male</td>\n",
       "    </tr>\n",
       "    <tr>\n",
       "      <th>26</th>\n",
       "      <td>27</td>\n",
       "      <td>Big Nose</td>\n",
       "      <td>Three</td>\n",
       "      <td>81</td>\n",
       "      <td>female</td>\n",
       "    </tr>\n",
       "    <tr>\n",
       "      <th>27</th>\n",
       "      <td>28</td>\n",
       "      <td>Rojj Base</td>\n",
       "      <td>Seven</td>\n",
       "      <td>86</td>\n",
       "      <td>female</td>\n",
       "    </tr>\n",
       "    <tr>\n",
       "      <th>28</th>\n",
       "      <td>29</td>\n",
       "      <td>Tess Played</td>\n",
       "      <td>Seven</td>\n",
       "      <td>55</td>\n",
       "      <td>male</td>\n",
       "    </tr>\n",
       "    <tr>\n",
       "      <th>29</th>\n",
       "      <td>30</td>\n",
       "      <td>Reppy Red</td>\n",
       "      <td>Six</td>\n",
       "      <td>79</td>\n",
       "      <td>female</td>\n",
       "    </tr>\n",
       "    <tr>\n",
       "      <th>30</th>\n",
       "      <td>31</td>\n",
       "      <td>Marry Toeey</td>\n",
       "      <td>Four</td>\n",
       "      <td>88</td>\n",
       "      <td>male</td>\n",
       "    </tr>\n",
       "    <tr>\n",
       "      <th>31</th>\n",
       "      <td>32</td>\n",
       "      <td>Binn Rott</td>\n",
       "      <td>Seven</td>\n",
       "      <td>90</td>\n",
       "      <td>female</td>\n",
       "    </tr>\n",
       "    <tr>\n",
       "      <th>32</th>\n",
       "      <td>33</td>\n",
       "      <td>Kenn Rein</td>\n",
       "      <td>Six</td>\n",
       "      <td>96</td>\n",
       "      <td>female</td>\n",
       "    </tr>\n",
       "    <tr>\n",
       "      <th>33</th>\n",
       "      <td>34</td>\n",
       "      <td>Gain Toe</td>\n",
       "      <td>Seven</td>\n",
       "      <td>69</td>\n",
       "      <td>male</td>\n",
       "    </tr>\n",
       "    <tr>\n",
       "      <th>34</th>\n",
       "      <td>35</td>\n",
       "      <td>Rows Noump</td>\n",
       "      <td>Six</td>\n",
       "      <td>88</td>\n",
       "      <td>female</td>\n",
       "    </tr>\n",
       "  </tbody>\n",
       "</table>\n",
       "</div>"
      ],
      "text/plain": [
       "    id         name  class  mark  gender\n",
       "0    1     John Deo   Four    75  female\n",
       "1    2     Max Ruin  Three    85    male\n",
       "2    3       Arnold  Three    55    male\n",
       "3    4   Krish Star   Four    60  female\n",
       "4    5    John Mike   Four    60  female\n",
       "5    6    Alex John   Four    55    male\n",
       "6    7  My John Rob  Fifth    78    male\n",
       "7    8       Asruid   Five    85    male\n",
       "8    9      Tes Qry    Six    78    male\n",
       "9   10     Big John   Four    55  female\n",
       "10  11       Ronald    Six    89  female\n",
       "11  12        Recky    Six    94  female\n",
       "12  13          Kty  Seven    88  female\n",
       "13  14         Bigy  Seven    88  female\n",
       "14  15     Tade Row   Four    88    male\n",
       "15  16        Gimmy   Four    88    male\n",
       "16  17        Tumyu    Six    54    male\n",
       "17  18        Honny   Five    75    male\n",
       "18  19        Tinny   Nine    18    male\n",
       "19  20       Jackly   Nine    65  female\n",
       "20  21   Babby John   Four    69  female\n",
       "21  22       Reggid  Seven    55  female\n",
       "22  23        Herod  Eight    79    male\n",
       "23  24    Tiddy Now  Seven    78    male\n",
       "24  25     Giff Tow  Seven    88    male\n",
       "25  26       Crelea  Seven    79    male\n",
       "26  27     Big Nose  Three    81  female\n",
       "27  28    Rojj Base  Seven    86  female\n",
       "28  29  Tess Played  Seven    55    male\n",
       "29  30    Reppy Red    Six    79  female\n",
       "30  31  Marry Toeey   Four    88    male\n",
       "31  32    Binn Rott  Seven    90  female\n",
       "32  33    Kenn Rein    Six    96  female\n",
       "33  34     Gain Toe  Seven    69    male\n",
       "34  35   Rows Noump    Six    88  female"
      ]
     },
     "execution_count": 29,
     "metadata": {},
     "output_type": "execute_result"
    }
   ],
   "source": [
    "#reading acsv file\n",
    "pd.read_csv(\"./student.csv\")"
   ]
  },
  {
   "cell_type": "code",
   "execution_count": 36,
   "id": "14912383",
   "metadata": {},
   "outputs": [],
   "source": [
    "#Example\n",
    "import json as js\n",
    "data='''{\n",
    "    \"NGO Name\":\"Saboori foundation\",\n",
    "    \"Phone Number\":7895654805,\n",
    "    \"Head\":\"Sheetal Jain\",\n",
    "    \"Estd.\":2003,\n",
    "    \"Branch\":[\"Agra\",\"Bhopal\",\"Maharastra\",\"Junagarh\"]\n",
    "}'''\n",
    "entry=js.loads(data)"
   ]
  },
  {
   "cell_type": "code",
   "execution_count": 38,
   "id": "799e6117",
   "metadata": {},
   "outputs": [
    {
     "data": {
      "text/html": [
       "<div>\n",
       "<style scoped>\n",
       "    .dataframe tbody tr th:only-of-type {\n",
       "        vertical-align: middle;\n",
       "    }\n",
       "\n",
       "    .dataframe tbody tr th {\n",
       "        vertical-align: top;\n",
       "    }\n",
       "\n",
       "    .dataframe thead th {\n",
       "        text-align: right;\n",
       "    }\n",
       "</style>\n",
       "<table border=\"1\" class=\"dataframe\">\n",
       "  <thead>\n",
       "    <tr style=\"text-align: right;\">\n",
       "      <th></th>\n",
       "      <th>NGO Name</th>\n",
       "      <th>Phone Number</th>\n",
       "      <th>Head</th>\n",
       "      <th>Estd.</th>\n",
       "      <th>Branch</th>\n",
       "    </tr>\n",
       "  </thead>\n",
       "  <tbody>\n",
       "    <tr>\n",
       "      <th>0</th>\n",
       "      <td>Saboori foundation</td>\n",
       "      <td>7895654805</td>\n",
       "      <td>Sheetal Jain</td>\n",
       "      <td>2003</td>\n",
       "      <td>Agra</td>\n",
       "    </tr>\n",
       "    <tr>\n",
       "      <th>1</th>\n",
       "      <td>Saboori foundation</td>\n",
       "      <td>7895654805</td>\n",
       "      <td>Sheetal Jain</td>\n",
       "      <td>2003</td>\n",
       "      <td>Bhopal</td>\n",
       "    </tr>\n",
       "    <tr>\n",
       "      <th>2</th>\n",
       "      <td>Saboori foundation</td>\n",
       "      <td>7895654805</td>\n",
       "      <td>Sheetal Jain</td>\n",
       "      <td>2003</td>\n",
       "      <td>Maharastra</td>\n",
       "    </tr>\n",
       "    <tr>\n",
       "      <th>3</th>\n",
       "      <td>Saboori foundation</td>\n",
       "      <td>7895654805</td>\n",
       "      <td>Sheetal Jain</td>\n",
       "      <td>2003</td>\n",
       "      <td>Junagarh</td>\n",
       "    </tr>\n",
       "  </tbody>\n",
       "</table>\n",
       "</div>"
      ],
      "text/plain": [
       "             NGO Name  Phone Number          Head  Estd.      Branch\n",
       "0  Saboori foundation    7895654805  Sheetal Jain   2003        Agra\n",
       "1  Saboori foundation    7895654805  Sheetal Jain   2003      Bhopal\n",
       "2  Saboori foundation    7895654805  Sheetal Jain   2003  Maharastra\n",
       "3  Saboori foundation    7895654805  Sheetal Jain   2003    Junagarh"
      ]
     },
     "execution_count": 38,
     "metadata": {},
     "output_type": "execute_result"
    }
   ],
   "source": [
    "#Creating a data frame from a json object\n",
    "json_data=pd.DataFrame(entry)\n",
    "json_data"
   ]
  },
  {
   "cell_type": "code",
   "execution_count": 48,
   "id": "b91080a7",
   "metadata": {},
   "outputs": [
    {
     "data": {
      "text/plain": [
       "[          Unnamed: 0_level_0 Unnamed: 1_level_0 Unnamed: 2_level_0  \\\n",
       "                           Tm               From                 To   \n",
       " 0          Arizona Cardinals               1920               2023   \n",
       " 1          Chicago Cardinals               1920               1943   \n",
       " 2     Chi/Pit Cards/Steelers               1944               1944   \n",
       " 3          Chicago Cardinals               1945               1959   \n",
       " 4        St. Louis Cardinals               1960               1987   \n",
       " ..                       ...                ...                ...   \n",
       " 73             Boston Braves               1932               1932   \n",
       " 74           Boston Redskins               1933               1936   \n",
       " 75       Washington Redskins               1937               2019   \n",
       " 76  Washington Football Team               2020               2021   \n",
       " 77     Washington Commanders               2022               2023   \n",
       " \n",
       "    Unnamed: 3_level_0 Unnamed: 4_level_0 Unnamed: 5_level_0  \\\n",
       "                     W                  L                  T   \n",
       " 0                 585                803                 41   \n",
       " 1                  99                141                 21   \n",
       " 2                   0                 10                  0   \n",
       " 3                  66                107                  4   \n",
       " 4                 186                202                 14   \n",
       " ..                ...                ...                ...   \n",
       " 73                  4                  4                  2   \n",
       " 74                 20                 24                  3   \n",
       " 75                579                575                 23   \n",
       " 76                 14                 19                  0   \n",
       " 77                 12                 21                  1   \n",
       " \n",
       "    Unnamed: 6_level_0 Unnamed: 7_level_0 Top Performers                        \\\n",
       "                  W-L%                 AV         Passer    Rusher    Receiver   \n",
       " 0               0.422         Fitzgerald           Hart  Anderson  Fitzgerald   \n",
       " 1               0.413                NaN            NaN       NaN         NaN   \n",
       " 2               0.000                NaN            NaN       NaN         NaN   \n",
       " 3               0.382                NaN            NaN       NaN         NaN   \n",
       " 4               0.480                NaN            NaN       NaN         NaN   \n",
       " ..                ...                ...            ...       ...         ...   \n",
       " 73              0.500                NaN            NaN       NaN         NaN   \n",
       " 74              0.455                NaN            NaN       NaN         NaN   \n",
       " 75              0.502                NaN            NaN       NaN         NaN   \n",
       " 76              0.424                NaN            NaN       NaN         NaN   \n",
       " 77              0.368                NaN            NaN       NaN         NaN   \n",
       " \n",
       "             Unnamed: 12_level_0 Playoffs               Unnamed: 16_level_0  \\\n",
       "    Coaching             Yr plyf   W plyf L plyf   W-L%                Chmp   \n",
       " 0    Arians                11.0      7.0   10.0  0.412                 2.0   \n",
       " 1       NaN                 0.0      0.0    0.0    NaN                 1.0   \n",
       " 2       NaN                 0.0      0.0    0.0    NaN                 0.0   \n",
       " 3       NaN                 2.0      1.0    1.0    NaN                 1.0   \n",
       " 4       NaN                 3.0      0.0    3.0    NaN                 0.0   \n",
       " ..      ...                 ...      ...    ...    ...                 ...   \n",
       " 73      NaN                 0.0      0.0    0.0    NaN                 0.0   \n",
       " 74      NaN                 1.0      0.0    1.0    NaN                 0.0   \n",
       " 75      NaN                23.0     23.0   18.0    NaN                 5.0   \n",
       " 76      NaN                 1.0      0.0    1.0    NaN                 NaN   \n",
       " 77      NaN                 NaN      NaN    NaN    NaN                 NaN   \n",
       " \n",
       "    Unnamed: 17_level_0 Unnamed: 18_level_0 Unnamed: 19_level_0  \n",
       "                   SBwl                Conf                 Div  \n",
       " 0                  0.0                 1.0                   8  \n",
       " 1                  0.0                 0.0                   1  \n",
       " 2                  0.0                 0.0                   0  \n",
       " 3                  0.0                 0.0                   2  \n",
       " 4                  0.0                 0.0                   2  \n",
       " ..                 ...                 ...                 ...  \n",
       " 73                 0.0                 0.0                   0  \n",
       " 74                 0.0                 0.0                   1  \n",
       " 75                 3.0                 5.0                  14  \n",
       " 76                 0.0                 NaN                   1  \n",
       " 77                 NaN                 NaN                   0  \n",
       " \n",
       " [78 rows x 20 columns]]"
      ]
     },
     "execution_count": 48,
     "metadata": {},
     "output_type": "execute_result"
    }
   ],
   "source": [
    "#Example :  data frame using an HTML link \n",
    "data=pd.read_html(\"https://www.pro-football-reference.com/teams/\")\n",
    "data"
   ]
  },
  {
   "cell_type": "code",
   "execution_count": 57,
   "id": "bb6625ce",
   "metadata": {},
   "outputs": [
    {
     "name": "stdout",
     "output_type": "stream",
     "text": [
      "NGO Name        object\n",
      "Phone Number     int64\n",
      "Head            object\n",
      "Estd.            int64\n",
      "Branch          object\n",
      "dtype: object\n",
      "(4, 5)\n",
      "_______________________________________________________\n",
      "              NGO Name  Phone Number          Head  Estd.  Branch\n",
      "0  Saboori foundation    7895654805  Sheetal Jain   2003    Agra\n",
      "1  Saboori foundation    7895654805  Sheetal Jain   2003  Bhopal\n",
      "_______________________________________________________\n",
      "              NGO Name  Phone Number          Head  Estd.      Branch\n",
      "2  Saboori foundation    7895654805  Sheetal Jain   2003  Maharastra\n",
      "3  Saboori foundation    7895654805  Sheetal Jain   2003    Junagarh\n",
      "_______________________________________________________\n",
      "              NGO Name  Phone Number          Head  Estd.      Branch\n",
      "1  Saboori foundation    7895654805  Sheetal Jain   2003      Bhopal\n",
      "0  Saboori foundation    7895654805  Sheetal Jain   2003        Agra\n",
      "2  Saboori foundation    7895654805  Sheetal Jain   2003  Maharastra\n"
     ]
    }
   ],
   "source": [
    "#Some important attribute of dara frame\n",
    "#dtype\n",
    "print(json_data.dtypes)\n",
    "#shape\n",
    "print(json_data.shape)\n",
    "#head(),tail(),sample(n)\n",
    "print(\"_______________________________________________________\\n\",json_data.head(2))\n",
    "print(\"_______________________________________________________\\n\",json_data.tail(2))\n",
    "print(\"_______________________________________________________\\n\",json_data.sample(3))\n"
   ]
  },
  {
   "cell_type": "markdown",
   "id": "0973c718",
   "metadata": {},
   "source": [
    "# Converting into a numpy array"
   ]
  },
  {
   "cell_type": "code",
   "execution_count": 63,
   "id": "80166ea6",
   "metadata": {},
   "outputs": [
    {
     "data": {
      "text/plain": [
       "array([['Saboori foundation', 7895654805, 'Sheetal Jain', 2003, 'Agra'],\n",
       "       ['Saboori foundation', 7895654805, 'Sheetal Jain', 2003, 'Bhopal'],\n",
       "       ['Saboori foundation', 7895654805, 'Sheetal Jain', 2003,\n",
       "        'Maharastra'],\n",
       "       ['Saboori foundation', 7895654805, 'Sheetal Jain', 2003,\n",
       "        'Junagarh']], dtype=object)"
      ]
     },
     "execution_count": 63,
     "metadata": {},
     "output_type": "execute_result"
    }
   ],
   "source": [
    "#Values attribute\n",
    "data_array=json_data.values\n",
    "data_array"
   ]
  },
  {
   "cell_type": "code",
   "execution_count": 62,
   "id": "25fdcf0f",
   "metadata": {},
   "outputs": [
    {
     "data": {
      "text/plain": [
       "20"
      ]
     },
     "execution_count": 62,
     "metadata": {},
     "output_type": "execute_result"
    }
   ],
   "source": [
    "#size\n",
    "data_array.size"
   ]
  },
  {
   "cell_type": "code",
   "execution_count": 64,
   "id": "98b6c723",
   "metadata": {},
   "outputs": [
    {
     "data": {
      "text/plain": [
       "2"
      ]
     },
     "execution_count": 64,
     "metadata": {},
     "output_type": "execute_result"
    }
   ],
   "source": [
    "#ndim\n",
    "data_array.ndim"
   ]
  },
  {
   "cell_type": "code",
   "execution_count": 66,
   "id": "1550229a",
   "metadata": {},
   "outputs": [
    {
     "data": {
      "text/html": [
       "<div>\n",
       "<style scoped>\n",
       "    .dataframe tbody tr th:only-of-type {\n",
       "        vertical-align: middle;\n",
       "    }\n",
       "\n",
       "    .dataframe tbody tr th {\n",
       "        vertical-align: top;\n",
       "    }\n",
       "\n",
       "    .dataframe thead th {\n",
       "        text-align: right;\n",
       "    }\n",
       "</style>\n",
       "<table border=\"1\" class=\"dataframe\">\n",
       "  <thead>\n",
       "    <tr style=\"text-align: right;\">\n",
       "      <th></th>\n",
       "      <th>0</th>\n",
       "      <th>1</th>\n",
       "      <th>2</th>\n",
       "      <th>3</th>\n",
       "    </tr>\n",
       "  </thead>\n",
       "  <tbody>\n",
       "    <tr>\n",
       "      <th>NGO Name</th>\n",
       "      <td>Saboori foundation</td>\n",
       "      <td>Saboori foundation</td>\n",
       "      <td>Saboori foundation</td>\n",
       "      <td>Saboori foundation</td>\n",
       "    </tr>\n",
       "    <tr>\n",
       "      <th>Phone Number</th>\n",
       "      <td>7895654805</td>\n",
       "      <td>7895654805</td>\n",
       "      <td>7895654805</td>\n",
       "      <td>7895654805</td>\n",
       "    </tr>\n",
       "    <tr>\n",
       "      <th>Head</th>\n",
       "      <td>Sheetal Jain</td>\n",
       "      <td>Sheetal Jain</td>\n",
       "      <td>Sheetal Jain</td>\n",
       "      <td>Sheetal Jain</td>\n",
       "    </tr>\n",
       "    <tr>\n",
       "      <th>Estd.</th>\n",
       "      <td>2003</td>\n",
       "      <td>2003</td>\n",
       "      <td>2003</td>\n",
       "      <td>2003</td>\n",
       "    </tr>\n",
       "    <tr>\n",
       "      <th>Branch</th>\n",
       "      <td>Agra</td>\n",
       "      <td>Bhopal</td>\n",
       "      <td>Maharastra</td>\n",
       "      <td>Junagarh</td>\n",
       "    </tr>\n",
       "  </tbody>\n",
       "</table>\n",
       "</div>"
      ],
      "text/plain": [
       "                               0                   1                   2  \\\n",
       "NGO Name      Saboori foundation  Saboori foundation  Saboori foundation   \n",
       "Phone Number          7895654805          7895654805          7895654805   \n",
       "Head                Sheetal Jain        Sheetal Jain        Sheetal Jain   \n",
       "Estd.                       2003                2003                2003   \n",
       "Branch                      Agra              Bhopal          Maharastra   \n",
       "\n",
       "                               3  \n",
       "NGO Name      Saboori foundation  \n",
       "Phone Number          7895654805  \n",
       "Head                Sheetal Jain  \n",
       "Estd.                       2003  \n",
       "Branch                  Junagarh  "
      ]
     },
     "execution_count": 66,
     "metadata": {},
     "output_type": "execute_result"
    }
   ],
   "source": [
    "#Transpose\n",
    "json_data.T"
   ]
  },
  {
   "cell_type": "code",
   "execution_count": 68,
   "id": "67a9bbfb",
   "metadata": {},
   "outputs": [
    {
     "data": {
      "text/plain": [
       "False"
      ]
     },
     "execution_count": 68,
     "metadata": {},
     "output_type": "execute_result"
    }
   ],
   "source": [
    "#empty\n",
    "json_data.empty"
   ]
  },
  {
   "cell_type": "code",
   "execution_count": 69,
   "id": "60efe49c",
   "metadata": {},
   "outputs": [
    {
     "data": {
      "text/plain": [
       "True"
      ]
     },
     "execution_count": 69,
     "metadata": {},
     "output_type": "execute_result"
    }
   ],
   "source": [
    "#Example\n",
    "pd.DataFrame().empty"
   ]
  },
  {
   "cell_type": "markdown",
   "id": "f567eb1a",
   "metadata": {},
   "source": [
    "# apply()"
   ]
  },
  {
   "cell_type": "code",
   "execution_count": 75,
   "id": "09f8791e",
   "metadata": {},
   "outputs": [
    {
     "name": "stdout",
     "output_type": "stream",
     "text": [
      "   Col1  Col2  Col3  Col4  Col5\n",
      "0    36    30    23    44    24\n",
      "1    41    44    32    27    31\n",
      "2    32    34    41    39    44\n",
      "3    39    44    32    25    41\n",
      "4    28    31    44    38    37\n"
     ]
    },
    {
     "data": {
      "text/plain": [
       "Col1    176\n",
       "Col2    183\n",
       "Col3    172\n",
       "Col4    173\n",
       "Col5    177\n",
       "dtype: int64"
      ]
     },
     "execution_count": 75,
     "metadata": {},
     "output_type": "execute_result"
    }
   ],
   "source": [
    "#Example 1\n",
    "import pandas as pd\n",
    "import numpy as np\n",
    "data6=pd.DataFrame(np.random.randint(23,45,25).reshape(5,5),columns=[\"Col1\",\"Col2\",\"Col3\",\"Col4\",\"Col5\"])\n",
    "print(data6)\n",
    "print(data6.apply(np.mean))\n",
    "print(data6.apply(np.median))\n",
    "print(data6.apply(np.sum))"
   ]
  },
  {
   "cell_type": "code",
   "execution_count": 76,
   "id": "aa921799",
   "metadata": {},
   "outputs": [
    {
     "name": "stdout",
     "output_type": "stream",
     "text": [
      "Col1    13\n",
      "Col2    14\n",
      "Col3    21\n",
      "Col4    19\n",
      "Col5    20\n",
      "dtype: int64\n"
     ]
    }
   ],
   "source": [
    "#Example 2: Applying a lamda function on a dataframe\n",
    "print(data6.apply(lambda x:(max(x)-min(x))))"
   ]
  },
  {
   "cell_type": "code",
   "execution_count": 78,
   "id": "e2be0931",
   "metadata": {},
   "outputs": [
    {
     "name": "stdout",
     "output_type": "stream",
     "text": [
      "0    1936\n",
      "1     729\n",
      "2    1521\n",
      "3     625\n",
      "4    1444\n",
      "Name: Col4, dtype: int64\n"
     ]
    }
   ],
   "source": [
    "#Example3: Applying on  particular column\n",
    "print(data6[\"Col4\"].apply(lambda x:x**2))"
   ]
  },
  {
   "cell_type": "code",
   "execution_count": 80,
   "id": "575f30aa",
   "metadata": {},
   "outputs": [
    {
     "name": "stdout",
     "output_type": "stream",
     "text": [
      "0    144\n",
      "1    127\n",
      "2    139\n",
      "3    125\n",
      "4    138\n",
      "Name: Col4, dtype: int64\n"
     ]
    }
   ],
   "source": [
    "#Applying map function\n",
    "data7=data6[\"Col4\"].map(lambda x:x+100)\n",
    "print(data7)"
   ]
  },
  {
   "cell_type": "code",
   "execution_count": 83,
   "id": "5ac0048e",
   "metadata": {},
   "outputs": [
    {
     "data": {
      "text/html": [
       "<div>\n",
       "<style scoped>\n",
       "    .dataframe tbody tr th:only-of-type {\n",
       "        vertical-align: middle;\n",
       "    }\n",
       "\n",
       "    .dataframe tbody tr th {\n",
       "        vertical-align: top;\n",
       "    }\n",
       "\n",
       "    .dataframe thead th {\n",
       "        text-align: right;\n",
       "    }\n",
       "</style>\n",
       "<table border=\"1\" class=\"dataframe\">\n",
       "  <thead>\n",
       "    <tr style=\"text-align: right;\">\n",
       "      <th></th>\n",
       "      <th>NGO Name</th>\n",
       "      <th>Phone Number</th>\n",
       "      <th>Caretaker</th>\n",
       "      <th>Estd.</th>\n",
       "      <th>Branch</th>\n",
       "    </tr>\n",
       "  </thead>\n",
       "  <tbody>\n",
       "    <tr>\n",
       "      <th>Entry 1</th>\n",
       "      <td>Saboori foundation</td>\n",
       "      <td>7895654805</td>\n",
       "      <td>Sheetal Jain</td>\n",
       "      <td>2003</td>\n",
       "      <td>Agra</td>\n",
       "    </tr>\n",
       "    <tr>\n",
       "      <th>1</th>\n",
       "      <td>Saboori foundation</td>\n",
       "      <td>7895654805</td>\n",
       "      <td>Sheetal Jain</td>\n",
       "      <td>2003</td>\n",
       "      <td>Bhopal</td>\n",
       "    </tr>\n",
       "    <tr>\n",
       "      <th>2</th>\n",
       "      <td>Saboori foundation</td>\n",
       "      <td>7895654805</td>\n",
       "      <td>Sheetal Jain</td>\n",
       "      <td>2003</td>\n",
       "      <td>Maharastra</td>\n",
       "    </tr>\n",
       "    <tr>\n",
       "      <th>3</th>\n",
       "      <td>Saboori foundation</td>\n",
       "      <td>7895654805</td>\n",
       "      <td>Sheetal Jain</td>\n",
       "      <td>2003</td>\n",
       "      <td>Junagarh</td>\n",
       "    </tr>\n",
       "  </tbody>\n",
       "</table>\n",
       "</div>"
      ],
      "text/plain": [
       "                   NGO Name  Phone Number     Caretaker  Estd.      Branch\n",
       "Entry 1  Saboori foundation    7895654805  Sheetal Jain   2003        Agra\n",
       "1        Saboori foundation    7895654805  Sheetal Jain   2003      Bhopal\n",
       "2        Saboori foundation    7895654805  Sheetal Jain   2003  Maharastra\n",
       "3        Saboori foundation    7895654805  Sheetal Jain   2003    Junagarh"
      ]
     },
     "execution_count": 83,
     "metadata": {},
     "output_type": "execute_result"
    }
   ],
   "source": [
    "#Renaming \n",
    "json_data.rename(columns={\"Head\":\"Caretaker\"},index={0:\"Entry 1\"})"
   ]
  },
  {
   "cell_type": "code",
   "execution_count": 84,
   "id": "4dd9fb2c",
   "metadata": {},
   "outputs": [
    {
     "name": "stdout",
     "output_type": "stream",
     "text": [
      "NGO Name 0    Saboori foundation\n",
      "1    Saboori foundation\n",
      "2    Saboori foundation\n",
      "3    Saboori foundation\n",
      "Name: NGO Name, dtype: object\n",
      "Phone Number 0    7895654805\n",
      "1    7895654805\n",
      "2    7895654805\n",
      "3    7895654805\n",
      "Name: Phone Number, dtype: int64\n",
      "Head 0    Sheetal Jain\n",
      "1    Sheetal Jain\n",
      "2    Sheetal Jain\n",
      "3    Sheetal Jain\n",
      "Name: Head, dtype: object\n",
      "Estd. 0    2003\n",
      "1    2003\n",
      "2    2003\n",
      "3    2003\n",
      "Name: Estd., dtype: int64\n",
      "Branch 0          Agra\n",
      "1        Bhopal\n",
      "2    Maharastra\n",
      "3      Junagarh\n",
      "Name: Branch, dtype: object\n"
     ]
    },
    {
     "name": "stderr",
     "output_type": "stream",
     "text": [
      "C:\\Users\\user\\AppData\\Local\\Temp\\ipykernel_5628\\2983132641.py:2: FutureWarning: iteritems is deprecated and will be removed in a future version. Use .items instead.\n",
      "  for col,row in json_data.iteritems():\n"
     ]
    }
   ],
   "source": [
    "#Fetching dataframeitems\n",
    "for col,row in json_data.iteritems():\n",
    "    print(col,row,end=\",\")"
   ]
  },
  {
   "cell_type": "code",
   "execution_count": null,
   "id": "b14d7722",
   "metadata": {},
   "outputs": [],
   "source": []
  }
 ],
 "metadata": {
  "kernelspec": {
   "display_name": "Python 3 (ipykernel)",
   "language": "python",
   "name": "python3"
  },
  "language_info": {
   "codemirror_mode": {
    "name": "ipython",
    "version": 3
   },
   "file_extension": ".py",
   "mimetype": "text/x-python",
   "name": "python",
   "nbconvert_exporter": "python",
   "pygments_lexer": "ipython3",
   "version": "3.11.4"
  }
 },
 "nbformat": 4,
 "nbformat_minor": 5
}
